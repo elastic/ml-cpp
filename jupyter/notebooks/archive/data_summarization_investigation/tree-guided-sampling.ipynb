{
 "cells": [
  {
   "cell_type": "code",
   "execution_count": null,
   "id": "small-protection",
   "metadata": {},
   "outputs": [],
   "source": [
    "# Copyright Elasticsearch B.V. and/or licensed to Elasticsearch B.V. under one\n",
    "# or more contributor license agreements. Licensed under the Elastic License;\n",
    "# you may not use this file except in compliance with the Elastic License."
   ]
  },
  {
   "cell_type": "markdown",
   "id": "ordered-nation",
   "metadata": {},
   "source": [
    "#### Goal\n",
    "\n",
    "Sample datapoint that will resample the distribution on leaves of the original training set forest.\n",
    "\n",
    "#### Idea\n",
    "\n",
    "Input: $k$ sample size, $b$ number of batches, $D$ training dataset of size $n$ \\\n",
    "Output: $D_s$ sample dataset of size $k$\n",
    "1. Take a batch of data points of size $n/b$\n",
    "2. Select a tree $t$ from the forest at random\n",
    "3. Compute uniform variates $v_i := -\\ln(random())/w_i$ and select $k/b$ smalles elements\n"
   ]
  },
  {
   "cell_type": "code",
   "execution_count": 11,
   "id": "residential-music",
   "metadata": {},
   "outputs": [
    {
     "name": "stdout",
     "output_type": "stream",
     "text": [
      "The autoreload extension is already loaded. To reload it, use:\n",
      "  %reload_ext autoreload\n"
     ]
    }
   ],
   "source": [
    "%load_ext autoreload\n",
    "%autoreload 2\n",
    "%config Completer.use_jedi = False\n",
    "import json\n",
    "import string\n",
    "import random\n",
    "\n",
    "import pandas as pd\n",
    "import numpy as np\n",
    "import scipy.stats\n",
    "from IPython import display\n",
    "import matplotlib.pyplot as plt\n",
    "from matplotlib.colors import Colormap\n",
    "from sklearn.metrics import max_error, mean_absolute_error, mean_squared_error\n",
    "from sklearn.model_selection import train_test_split\n",
    "import seaborn as sns\n",
    "\n",
    "\n",
    "import sys\n",
    "sys.path.append('..')\n",
    "from utils.misc import *\n",
    "from utils.trees import Forest"
   ]
  },
  {
   "cell_type": "code",
   "execution_count": 2,
   "id": "certain-advice",
   "metadata": {},
   "outputs": [],
   "source": [
    "dataset_name = 'ccpp'\n",
    "D = pd.read_csv('datasets/{}.csv'.format(dataset_name))\n",
    "D.drop_duplicates(inplace=True)"
   ]
  },
  {
   "cell_type": "code",
   "execution_count": 4,
   "id": "surgical-macro",
   "metadata": {},
   "outputs": [
    {
     "data": {
      "text/html": [
       "<table><tr>\n",
       "                                                            <td width=\"50%\" style=\"text-align:center;\"><b>stderr</b></td>\n",
       "                                                            <td width=\"50%\" style=\"text-align:center;\"><b>output</b></td>\n",
       "                                                            </tr>\n",
       "                                                            <tr>\n",
       "                                                            <td width=\"50%\" style=\"text-align:left;\"><pre> /home/valeriy/Documents/workspace/valeriy42/ml-cpp/build/distribution/platform/linux-x86_64/bin/data_frame_analyzer --input /tmp/tmpj1iaccj4 --config /tmp/tmp2d1idrpm --output /tmp/tmpxex0hstw --persist /tmp/tmpdlfgnnoj\n",
       "(env) ✔ ~/Documents/workspace/valeriy42/ml-cpp/jupyter/notebooks [summarization-runs|✚ 4…21⚑ 3]\n",
       "10:51 $  /home/valeriy/Documents/workspace/valeriy42/ml-cpp/build/distribution/platform/linux-x86_64/bin/data_frame_analyzer --input /tmp/tmpj1iaccj4 --config /tmp/tmp2d1idrpm --output /tmp/tmpxex0hstw --persist /tmp/tmpdlfgnnoj\n",
       "2021-03-11 09:51:19,289731 UTC [11373] DEBUG Main.cc@141 data_frame_analyzer (64 bit): Version based on 8.0.0-SNAPSHOT (Build DEVELOPMENT BUILD by valeriy) Copyright (c) 2021 Elasticsearch BV\n",
       "2021-03-11 09:51:19,290330 UTC [11373] DEBUG CProcessPriority_Linux.cc@33 Successfully increased OOM killer adjustment via /proc/self/oom_score_adj\n",
       "2021-03-11 09:51:19,290384 UTC [11373] DEBUG CSystemCallFilter_Linux.cc@127 Seccomp BPF filters available\n",
       "2021-03-11 09:51:19,293406 UTC [11373] DEBUG CSystemCallFilter_Linux.cc@153 Seccomp BPF installed\n",
       "2021-03-11 09:51:19,327648 UTC [11373] DEBUG CDataFrameAnalyzer.cc@104 Received 9527 rows\n",
       "2021-03-11 09:51:53,824478 UTC [11373] INFO  CBoostedTreeImpl.cc@237 Exiting hyperparameter optimisation loop early\n",
       "2021-03-11 09:51:56,688059 UTC [11373] INFO  Main.cc@241 [{\"name\":\"E_DFTPMEstimatedPeakMemoryUsage\",\"description\":\"The upfront estimate of the peak memory training the predictive model would use\",\"value\":27586018}\n",
       ",{\"name\":\"E_DFTPMPeakMemoryUsage\",\"description\":\"The peak memory training the predictive model used\",\"value\":13596976}\n",
       ",{\"name\":\"E_DFTPMTimeToTrain\",\"description\":\"The time it took to train the predictive model\",\"value\":36268}\n",
       ",{\"name\":\"E_DFTPMTrainedForestNumberTrees\",\"description\":\"The total number of trees in the trained forest\",\"value\":162}\n",
       "]\n",
       "2021-03-11 09:51:56,688093 UTC [11373] DEBUG Main.cc@246 ML data frame analyzer exiting\n",
       "(env) ✔ ~/Documents/workspace/valeriy42/ml-cpp/jupyter/notebooks [summarization-runs|✚ 4…21⚑ 3]\n",
       "10:51 $</pre></td>\n",
       "                                                            <td width=\"50%\" style=\"text-align:left;\"><pre>,{\"row_results\":{\"checksum\":0,\"results\":{\"ml\":{\"PE_prediction\":443.2151489257812\n",
       ",{\"row_results\":{\"checksum\":0,\"results\":{\"ml\":{\"PE_prediction\":465.7640686035156\n",
       ",{\"row_results\":{\"checksum\":0,\"results\":{\"ml\":{\"PE_prediction\":467.7299194335937\n",
       ",{\"row_results\":{\"checksum\":0,\"results\":{\"ml\":{\"PE_prediction\":459.4170227050781\n",
       ",{\"row_results\":{\"checksum\":0,\"results\":{\"ml\":{\"PE_prediction\":469.1076049804687\n",
       ",{\"row_results\":{\"checksum\":0,\"results\":{\"ml\":{\"PE_prediction\":429.8967895507812\n",
       ",{\"row_results\":{\"checksum\":0,\"results\":{\"ml\":{\"PE_prediction\":438.5669555664062\n",
       ",{\"row_results\":{\"checksum\":0,\"results\":{\"ml\":{\"PE_prediction\":452.3844299316406\n",
       ",{\"model_metadata\":{\"total_feature_importance\":[],\"hyperparameters\":[{\"name\":\"do\n",
       "]</pre></td>\n",
       "                                                            </tr>\n",
       "                                                    </table>"
      ]
     },
     "metadata": {},
     "output_type": "display_data"
    },
    {
     "name": "stdout",
     "output_type": "stream",
     "text": [
      "Job succeeded\n"
     ]
    },
    {
     "data": {
      "text/plain": [
       "True"
      ]
     },
     "execution_count": 4,
     "metadata": {},
     "output_type": "execute_result"
    }
   ],
   "source": [
    "job1 = train(dataset_name, D)\n",
    "job1.wait_to_complete()"
   ]
  },
  {
   "cell_type": "code",
   "execution_count": 6,
   "id": "floral-intent",
   "metadata": {},
   "outputs": [],
   "source": [
    "definition = job1.get_model_definition()"
   ]
  },
  {
   "cell_type": "code",
   "execution_count": 7,
   "id": "finite-suggestion",
   "metadata": {},
   "outputs": [],
   "source": [
    "trained_models = definition['trained_model']['ensemble']['trained_models']"
   ]
  },
  {
   "cell_type": "code",
   "execution_count": 211,
   "id": "chinese-giving",
   "metadata": {},
   "outputs": [],
   "source": [
    "forest = Forest(trained_models)"
   ]
  },
  {
   "cell_type": "raw",
   "id": "neural-louis",
   "metadata": {},
   "source": [
    "# configuration \n",
    "n = D.shape[0] # dataset size\n",
    "sampling_ratio = 0.5\n",
    "k = int(n*sampling_ratio) # samples size\n",
    "num_trees = len(forest.trees) # number of trees in the forest\n",
    "b = int(num_trees*sampling_ratio) # number of batches\n",
    "batch_size = int(n/b) # batch size\n",
    "samples_from_batch = int(k/b)\n"
   ]
  },
  {
   "cell_type": "raw",
   "id": "lasting-scout",
   "metadata": {},
   "source": [
    "sample = pd.DataFrame(columns=D.columns)\n",
    "trees = []\n",
    "for batch_index in range(b):\n",
    "    # Take a batch of data points of size 𝑛/𝑏\n",
    "    batch = pd.DataFrame(D.iloc[batch_index*batch_size:(batch_index+1)*batch_size])\n",
    "    batch.reset_index(inplace=True)\n",
    "    # Select a tree 𝑡 from the forest at random\n",
    "    t = random.randrange(1,num_trees)\n",
    "    trees.append(t)\n",
    "    S = DataStream(batch, forest.trees[t], float(samples_from_batch)/n)\n",
    "#     batch_sample = reservoir_sample_with_jumps(S, samples_from_batch)\n",
    "    batch_sample = batch.sample(n=samples_from_batch)\n",
    "    sample = sample.append(batch_sample, ignore_index=True)\n",
    "    "
   ]
  },
  {
   "cell_type": "code",
   "execution_count": 835,
   "id": "optional-contest",
   "metadata": {},
   "outputs": [
    {
     "name": "stderr",
     "output_type": "stream",
     "text": [
      "/home/valeriy/Documents/workspace/valeriy42/ml-cpp/jupyter/notebooks/utils/misc.py:422: RuntimeWarning: invalid value encountered in log\n",
      "  S.next()\n"
     ]
    }
   ],
   "source": [
    "sample = batch_sampling(forest, D, 0.25, 'tree-guided')"
   ]
  },
  {
   "cell_type": "markdown",
   "id": "tight-atlantic",
   "metadata": {},
   "source": [
    "### Test that I preserve the distribution over leaves\n",
    "\n",
    "#### First simply eye-balling"
   ]
  },
  {
   "cell_type": "code",
   "execution_count": 837,
   "id": "committed-spoke",
   "metadata": {
    "scrolled": true
   },
   "outputs": [
    {
     "data": {
      "image/png": "[encoded data removed]",
      "text/plain": [
       "<Figure size 432x288 with 1 Axes>"
      ]
     },
     "metadata": {
      "needs_background": "light"
     },
     "output_type": "display_data"
    }
   ],
   "source": [
    "test_tree_index = 10\n",
    "leaf_ids = []\n",
    "for row in D.iterrows():\n",
    "    leaf_ids.append(forest.trees[test_tree_index].get_leaf_id(row[1].to_dict()))\n",
    "ax = sns.histplot(leaf_ids, binwidth=5,  stat='probability')\n",
    "_ = ax.set_title(\"Tree {}. Complete batch, size: {}\".format(test_tree_index, D.shape[0]))"
   ]
  },
  {
   "cell_type": "code",
   "execution_count": 838,
   "id": "checked-depth",
   "metadata": {},
   "outputs": [
    {
     "data": {
      "image/png": "[encoded data removed]",
      "text/plain": [
       "<Figure size 432x288 with 1 Axes>"
      ]
     },
     "metadata": {
      "needs_background": "light"
     },
     "output_type": "display_data"
    }
   ],
   "source": [
    "leaf_ids = []\n",
    "for row in sample.iterrows():\n",
    "    leaf_ids.append(forest.trees[test_tree_index].get_leaf_id(row[1].to_dict()))\n",
    "ax = sns.histplot(leaf_ids,binwidth=5,  stat='probability')\n",
    "_ = ax.set_title(\"Tree {}. Sample form batch, size: {}\".format(test_tree_index, sample.shape[0]))"
   ]
  },
  {
   "cell_type": "markdown",
   "id": "athletic-shopping",
   "metadata": {},
   "source": [
    "#### Now using a goodness-of-fit test"
   ]
  },
  {
   "cell_type": "code",
   "execution_count": 839,
   "id": "tutorial-prompt",
   "metadata": {},
   "outputs": [
    {
     "name": "stdout",
     "output_type": "stream",
     "text": [
      "Mean pval 0.8693232310249863\n"
     ]
    }
   ],
   "source": [
    "mu, pvals = get_mean_chi2(forest, sample)\n",
    "print(\"Mean pval {}\".format(mu))"
   ]
  },
  {
   "cell_type": "code",
   "execution_count": 840,
   "id": "boring-ladder",
   "metadata": {},
   "outputs": [
    {
     "data": {
      "text/plain": [
       "0.9413164830599856"
      ]
     },
     "execution_count": 840,
     "metadata": {},
     "output_type": "execute_result"
    }
   ],
   "source": [
    "np.median(pvals)"
   ]
  },
  {
   "cell_type": "code",
   "execution_count": null,
   "id": "neutral-transfer",
   "metadata": {},
   "outputs": [],
   "source": []
  }
 ],
 "metadata": {
  "kernelspec": {
   "display_name": "Python 3",
   "language": "python",
   "name": "python3"
  },
  "language_info": {
   "codemirror_mode": {
    "name": "ipython",
    "version": 3
   },
   "file_extension": ".py",
   "mimetype": "text/x-python",
   "name": "python",
   "nbconvert_exporter": "python",
   "pygments_lexer": "ipython3",
   "version": "3.6.9"
  }
 },
 "nbformat": 4,
 "nbformat_minor": 5
}
