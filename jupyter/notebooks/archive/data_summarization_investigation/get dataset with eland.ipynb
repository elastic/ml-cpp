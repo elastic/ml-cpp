{
 "cells": [
  {
   "cell_type": "code",
   "execution_count": null,
   "metadata": {},
   "outputs": [],
   "source": [
    "# Copyright Elasticsearch B.V. and/or licensed to Elasticsearch B.V. under one\n",
    "# or more contributor license agreements. Licensed under the Elastic License;\n",
    "# you may not use this file except in compliance with the Elastic License."
   ]
  },
  {
   "cell_type": "code",
   "execution_count": 30,
   "id": "bright-terminal",
   "metadata": {},
   "outputs": [
    {
     "name": "stdout",
     "output_type": "stream",
     "text": [
      "The autoreload extension is already loaded. To reload it, use:\n",
      "  %reload_ext autoreload\n"
     ]
    }
   ],
   "source": [
    "%load_ext autoreload\n",
    "%autoreload 2\n",
    "%config Completer.use_jedi = False\n",
    "\n",
    "# system library imports\n",
    "import numpy as np\n",
    "import pandas as pd\n",
    "import pprint\n",
    "from sklearn.linear_model import LinearRegression\n",
    "from sklearn import preprocessing\n",
    "\n",
    "# elasticsearch related imports\n",
    "import eland as ed\n",
    "from elasticsearch import Elasticsearch, helpers\n",
    "import requests\n",
    "from requests.auth import HTTPBasicAuth\n",
    "\n",
    "import urllib3\n",
    "urllib3.disable_warnings(urllib3.exceptions.InsecureRequestWarning)"
   ]
  },
  {
   "cell_type": "code",
   "execution_count": 15,
   "id": "excited-sheet",
   "metadata": {},
   "outputs": [],
   "source": [
    "# Some general notebook setting\n",
    "host = 'http://localhost:9200'\n",
    "username = 'elastic'\n",
    "password='mlqa_admin'\n",
    "# es = Elasticsearch(host,  http_auth=(username, password))\n",
    "es = Elasticsearch(['localhost:9200'], use_ssl=True, verify_certs=False, http_auth=(username, password))"
   ]
  },
  {
   "cell_type": "code",
   "execution_count": 66,
   "id": "progressive-questionnaire",
   "metadata": {},
   "outputs": [],
   "source": [
    "training_percent = 100\n",
    "dataset_name = 'regression_2175_kin8nm'\n",
    "excluded_columns = []"
   ]
  },
  {
   "cell_type": "code",
   "execution_count": 67,
   "id": "adjustable-thanks",
   "metadata": {},
   "outputs": [],
   "source": [
    "df = ed.DataFrame(es, dataset_name)\n",
    "all_columns = df.columns\n",
    "columns = list(set(all_columns) - set(excluded_columns))\n",
    "df = ed.DataFrame(es, dataset_name, columns=columns)"
   ]
  },
  {
   "cell_type": "code",
   "execution_count": 68,
   "id": "express-scheduling",
   "metadata": {},
   "outputs": [
    {
     "data": {
      "text/plain": [
       "theta7    float64\n",
       "theta3    float64\n",
       "theta5    float64\n",
       "theta4    float64\n",
       "theta6    float64\n",
       "theta8    float64\n",
       "theta2    float64\n",
       "y         float64\n",
       "theta1    float64\n",
       "dtype: object"
      ]
     },
     "execution_count": 68,
     "metadata": {},
     "output_type": "execute_result"
    }
   ],
   "source": [
    "df.dtypes"
   ]
  },
  {
   "cell_type": "markdown",
   "id": "conservative-tiger",
   "metadata": {},
   "source": [
    "## Store dataset"
   ]
  },
  {
   "cell_type": "code",
   "execution_count": 69,
   "id": "authentic-brass",
   "metadata": {},
   "outputs": [
    {
     "name": "stdout",
     "output_type": "stream",
     "text": [
      "\t\"rows\": 8192,\n",
      "\t\"cols\": 9,\n"
     ]
    }
   ],
   "source": [
    "total_rows = df.shape[0]\n",
    "training_rows = int(total_rows*training_percent/100)\n",
    "dfsample = df.sample(training_rows)\n",
    "print('\\t\"rows\": {},\\n\\t\"cols\": {},'.format(dfsample.shape[0], dfsample.shape[1]))\n",
    "dfsample.to_csv(\"datasets/{}.csv\".format(dataset_name), index=False)"
   ]
  },
  {
   "cell_type": "code",
   "execution_count": null,
   "id": "stainless-worth",
   "metadata": {},
   "outputs": [],
   "source": []
  }
 ],
 "metadata": {
  "kernelspec": {
   "display_name": "Python 3",
   "language": "python",
   "name": "python3"
  },
  "language_info": {
   "codemirror_mode": {
    "name": "ipython",
    "version": 3
   },
   "file_extension": ".py",
   "mimetype": "text/x-python",
   "name": "python",
   "nbconvert_exporter": "python",
   "pygments_lexer": "ipython3",
   "version": "3.6.9"
  }
 },
 "nbformat": 4,
 "nbformat_minor": 5
}