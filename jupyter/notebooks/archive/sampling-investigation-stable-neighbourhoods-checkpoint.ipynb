{
 "cells": [
  {
   "cell_type": "markdown",
   "id": "indie-proxy",
   "metadata": {},
   "source": [
    "# Scenario 1: Data summarization\n",
    "\n",
    "1. Train model (M1) on the complete dataset (D1)\n",
    "\n",
    "2. Generate a summarization dataset using some technique (D2)\n",
    "\n",
    "3. Train a new model (M2) on D2\n",
    "    1. Use the same best hyperparameters as for M1   \n",
    "    2. **Identify a new set of best hyperparameters**\n",
    "    \n",
    "4. Compare M1 and M2\n",
    "    1. Evaluation M1 and M2 on the complete dataset D1.\n",
    "    2. Evaluate M1 and M2 on a grid and compute divergence\n",
    "    3. Compare feature importance vectors for individual data points from M1 and M2 (should be very similar)\n",
    "    4. Compare errors on the test dataset (D3)\n",
    "\n",
    "**Notes:**\n",
    "- We assume that generation of a summarization dataset is implemented. It can be written in Python for prototyping.\n",
    "- 4 can be done with an inference pipeline and eland\n",
    "- We need a simple way to query a model using inference pipeline (e.g. Python wrapper?)\n",
    "- Evaluations can also be done with sklearn?\n",
    "- What is the minimum amount of data we can get away with?\n"
   ]
  },
  {
   "cell_type": "code",
   "execution_count": 1,
   "id": "dental-morocco",
   "metadata": {},
   "outputs": [
    {
     "ename": "ModuleNotFoundError",
     "evalue": "No module named 'graphviz'",
     "output_type": "error",
     "traceback": [
      "\u001b[0;31m---------------------------------------------------------------------------\u001b[0m",
      "\u001b[0;31mModuleNotFoundError\u001b[0m                       Traceback (most recent call last)",
      "\u001b[0;32m<ipython-input-1-f28dacf7e24b>\u001b[0m in \u001b[0;36m<module>\u001b[0;34m\u001b[0m\n\u001b[1;32m     17\u001b[0m \u001b[0;32mfrom\u001b[0m \u001b[0mmatplotlib\u001b[0m\u001b[0;34m.\u001b[0m\u001b[0mcolors\u001b[0m \u001b[0;32mimport\u001b[0m \u001b[0mColormap\u001b[0m\u001b[0;34m\u001b[0m\u001b[0;34m\u001b[0m\u001b[0m\n\u001b[1;32m     18\u001b[0m \u001b[0;32mfrom\u001b[0m \u001b[0msklearn\u001b[0m\u001b[0;34m.\u001b[0m\u001b[0mmetrics\u001b[0m \u001b[0;32mimport\u001b[0m \u001b[0mmax_error\u001b[0m\u001b[0;34m,\u001b[0m \u001b[0mmean_absolute_error\u001b[0m\u001b[0;34m,\u001b[0m \u001b[0mmean_squared_error\u001b[0m\u001b[0;34m\u001b[0m\u001b[0;34m\u001b[0m\u001b[0m\n\u001b[0;32m---> 19\u001b[0;31m \u001b[0;32mfrom\u001b[0m \u001b[0mgraphviz\u001b[0m \u001b[0;32mimport\u001b[0m \u001b[0mDigraph\u001b[0m\u001b[0;34m\u001b[0m\u001b[0;34m\u001b[0m\u001b[0m\n\u001b[0m\u001b[1;32m     20\u001b[0m \u001b[0;34m\u001b[0m\u001b[0m\n\u001b[1;32m     21\u001b[0m \u001b[0;34m\u001b[0m\u001b[0m\n",
      "\u001b[0;31mModuleNotFoundError\u001b[0m: No module named 'graphviz'"
     ]
    }
   ],
   "source": [
    "%config Completer.use_jedi = False\n",
    "import json\n",
    "import tempfile\n",
    "import platform\n",
    "import time\n",
    "import string\n",
    "import random\n",
    "\n",
    "import pandas as pd\n",
    "import numpy as np\n",
    "import diversipy\n",
    "import libtmux \n",
    "\n",
    "from IPython import display\n",
    "import seaborn as sns\n",
    "import matplotlib.pyplot as plt\n",
    "from matplotlib.colors import Colormap\n",
    "from sklearn.metrics import max_error, mean_absolute_error, mean_squared_error\n",
    "from graphviz import Digraph\n",
    "\n",
    "\n",
    "# I assume, your host OS is not CentOS\n",
    "cloud = (platform.system() == 'Linux') and (platform.dist()[0] == 'centos')\n",
    "if cloud:\n",
    "    mlcpp_root = '/ml-cpp'\n",
    "else:\n",
    "    import os\n",
    "    system = '{}-{}'.format(platform.system().lower(), platform.machine().lower())\n",
    "    mlcpp_root = os.environ['CPP_SRC_HOME']+'/build/distribution/platform/{}'.format(system)\n",
    "dfa_path = mlcpp_root+'/bin/data_frame_analyzer'\n",
    "\n",
    "server = libtmux.Server()"
   ]
  },
  {
   "cell_type": "code",
   "execution_count": 130,
   "id": "noticed-kennedy",
   "metadata": {},
   "outputs": [],
   "source": [
    "dataset_name = 'regression_house_16h'\n",
    "with open('configs/{}.json'.format(dataset_name)) as fp:\n",
    "    config = json.load(fp)\n",
    "dependent_variable = config['analysis']['parameters']['dependent_variable']"
   ]
  },
  {
   "cell_type": "code",
   "execution_count": 123,
   "id": "brazilian-reset",
   "metadata": {},
   "outputs": [],
   "source": [
    "def get_predictions(results):\n",
    "    predictions = []\n",
    "    for item in results:\n",
    "        if 'row_results' in item:\n",
    "            predictions.append(item['row_results']['results']['ml']['{}_prediction'.format(dependent_variable)])\n",
    "    return np.array(predictions)"
   ]
  },
  {
   "cell_type": "code",
   "execution_count": 124,
   "id": "flexible-spelling",
   "metadata": {},
   "outputs": [],
   "source": [
    "def get_hyperparameters(results):\n",
    "    hyperparameters = {}\n",
    "    for item in results:\n",
    "        if 'model_metadata' in item:\n",
    "            for hyperparameter in item['model_metadata']['hyperparameters']:\n",
    "                hyperparameters[hyperparameter['name']] = hyperparameter['value']\n",
    "    return hyperparameters"
   ]
  },
  {
   "cell_type": "code",
   "execution_count": 125,
   "id": "previous-crown",
   "metadata": {},
   "outputs": [],
   "source": [
    "def get_model_definition(results):\n",
    "    import base64\n",
    "    import gzip\n",
    "    for item in results:\n",
    "        if 'compressed_inference_model' in item:\n",
    "            base64_bytes = item['compressed_inference_model']['definition']\n",
    "            gzip_bytes = base64.b64decode(base64_bytes)\n",
    "            message_bytes = gzip.decompress(gzip_bytes)\n",
    "            message = message_bytes.decode('utf8')\n",
    "            definition = json.loads(message)\n",
    "            return definition\n",
    "    return {}"
   ]
  },
  {
   "cell_type": "code",
   "execution_count": 126,
   "id": "advisory-apparatus",
   "metadata": {},
   "outputs": [],
   "source": [
    "def run_job(input, config, persist=None, restore=None):\n",
    "    output = tempfile.NamedTemporaryFile(mode='wt')\n",
    "    job_suffix = ''.join(random.choices(string.ascii_lowercase, k=5))\n",
    "    job_name = 'job_{}'.format(job_suffix)\n",
    "    cmd = [dfa_path,\n",
    "    \"--input\", input,\n",
    "    \"--config\", config,\n",
    "    \"--output\", output.name]\n",
    "    \n",
    "    \n",
    "    if persist:\n",
    "        cmd += [\"--persist\", persist]\n",
    "    if restore:\n",
    "        cmd += ['--restore', restore]\n",
    " \n",
    "    cmd = ' '.join(cmd)\n",
    "    \n",
    "    session = server.new_session(job_name)\n",
    "    window = session.new_window(attach=False)\n",
    "    pane = window.split_window(attach=False)\n",
    "    \n",
    "    print(\"session: {}\\tcommand:\\n{}\".format(session.get('session_name'), cmd))\n",
    "    pane.send_keys(cmd)\n",
    "    return {'name': job_name, 'pane': pane, 'output': output}"
   ]
  },
  {
   "cell_type": "code",
   "execution_count": 6,
   "id": "assisted-nursery",
   "metadata": {},
   "outputs": [],
   "source": [
    "def wait_job_complete(job):\n",
    "    pane = job['pane']\n",
    "    output = job['output']\n",
    "    while True :\n",
    "        display.clear_output(wait=True)\n",
    "        err = \"\\n\".join(pane.capture_pane())\n",
    "        out =  !grep \"phase_progress\" $output.name | tail -n10 \n",
    "        out = \"\\n\".join(out)\n",
    "        display.display_html(display.HTML(\"\"\"<table><tr>\n",
    "                                                    <td width=\"50%\" style=\"text-align:center;\"><b>stderr</b></td>\n",
    "                                                    <td width=\"50%\" style=\"text-align:center;\"><b>output</b></td>\n",
    "                                                    </tr>\n",
    "                                                    <tr>\n",
    "                                                    <td width=\"50%\" style=\"text-align:left;\"><pre>{}</pre></td>\n",
    "                                                    <td width=\"50%\" style=\"text-align:left;\"><pre>{}</pre></td>\n",
    "                                                    </tr>\n",
    "                                            </table>\"\"\"\n",
    "                                 .format(err, out)))\n",
    "        # the line in main.cc where final output is produced\n",
    "        if sum(['Main.cc@246' in line for line in pane.capture_pane()[-5:]]) == 1:\n",
    "            break\n",
    "        time.sleep(5.0)\n",
    "    with open(output.name) as fp:\n",
    "        results = json.load(fp)\n",
    "    # clean up\n",
    "    output.close()\n",
    "    server.kill_session(target_session=job['name'])\n",
    "    return results"
   ]
  },
  {
   "cell_type": "code",
   "execution_count": 7,
   "id": "multiple-original",
   "metadata": {},
   "outputs": [],
   "source": [
    "class TreeNode:\n",
    "    def __init__(self, json_node, feature_names):\n",
    "        self.id = json_node['node_index']\n",
    "        self.number_samples = json_node['number_samples']\n",
    "        self.is_leaf = False\n",
    "        self.left_child_id = json_node['left_child']\n",
    "        self.right_child_id = json_node['right_child']\n",
    "        self.threshold = json_node['threshold']\n",
    "        self.split_feature = feature_names[json_node['split_feature']]\n",
    "        self.split_gain = json_node['split_gain']\n",
    "    \n",
    "    def label(self):\n",
    "        label = \"id={}\\nsamples={}\\n{}<{:.4f}\".format(self.id, self.number_samples, \n",
    "                                                  self.split_feature, self.threshold)\n",
    "        return label\n",
    "    \n",
    "class Leaf:\n",
    "    def __init__(self, json_node):\n",
    "        self.id = json_node['node_index']\n",
    "        self.number_samples = json_node['number_samples']\n",
    "        self.value = json_node['leaf_value']\n",
    "        self.is_leaf = True\n",
    "    \n",
    "    def label(self):\n",
    "        label = \"id={}\\nsamples={}\\nvalue={:.4f}\".format(self.id, self.number_samples, \n",
    "                                                  self.value)\n",
    "        return label"
   ]
  },
  {
   "cell_type": "code",
   "execution_count": 38,
   "id": "theoretical-commons",
   "metadata": {},
   "outputs": [],
   "source": [
    "class Tree:\n",
    "    def __init__(self, json_tree):\n",
    "        self.feature_names = json_tree['feature_names']\n",
    "        self.dot = Digraph()\n",
    "        self.dot.attr(size='10,8')\n",
    "        self.nodes = {}\n",
    "        self.number_nodes = 0\n",
    "        self.number_leaves = 0\n",
    "        for json_node in json_tree['tree_structure']:\n",
    "            if 'leaf_value' in json_node:\n",
    "                leaf = Leaf(json_node)\n",
    "                self.nodes[leaf.id] = leaf\n",
    "                self.dot.attr('node', shape='oval')\n",
    "                self.dot.node(str(leaf.id), label=leaf.label())\n",
    "                self.number_leaves += 1\n",
    "            else:\n",
    "                node = TreeNode(json_node, self.feature_names)\n",
    "                self.nodes[node.id] = node\n",
    "                self.dot.attr('node', shape='box')\n",
    "                self.dot.node(str(node.id), label=node.label())\n",
    "                self.number_nodes += 1\n",
    "        for node in self.nodes.values():\n",
    "            if not node.is_leaf:\n",
    "                self.dot.edge(str(node.id), str(node.left_child_id))\n",
    "                self.dot.edge(str(node.id), str(node.right_child_id))\n",
    "        self.traverse(self.nodes[0], 0)\n",
    "                \n",
    "    def traverse(self, node, height=0):\n",
    "        node.height=height\n",
    "        if not node.is_leaf:\n",
    "            self.traverse(self.nodes[node.left_child_id], height+1)\n",
    "            self.traverse(self.nodes[node.right_child_id], height+1)\n",
    "    \n",
    "    def max_index(self):\n",
    "        return max(map(lambda x: x.id, self.nodes.values()))\n",
    "    \n",
    "    \n",
    "    def min_gain(self):\n",
    "        if self.number_nodes > 0:\n",
    "            return min(map(lambda x: x.split_gain, self.nodes.values()))\n",
    "        return 0\n",
    "    \n",
    "    def max_gain(self):\n",
    "        if self.number_nodes > 0:\n",
    "            return max(map(lambda x: x.split_gain, self.nodes.values()))\n",
    "        return 0\n",
    "    \n",
    "    def total_gain(self):\n",
    "        if self.number_nodes > 0:\n",
    "            return sum(map(lambda x: x.split_gain, self.nodes.values()))\n",
    "        return 0\n",
    "    \n",
    "    def size(self):\n",
    "        return len(self.nodes)\n",
    "    \n",
    "    def depth(self):\n",
    "        return max(map(lambda x: x.height, self.nodes.values()))+1\n",
    "    \n",
    "    def get_leaf_path(self, x):\n",
    "        path = []\n",
    "        node = self.nodes[0]\n",
    "        path.append(node.id)\n",
    "        while not node.is_leaf:\n",
    "            if x[node.split_feature] < node.threshold:\n",
    "                node = self.nodes[node.left_child_id]\n",
    "            else: \n",
    "                node = self.nodes[node.right_child_id]\n",
    "            path.append(node.id)\n",
    "        return path\n",
    "    \n",
    "    def get_leaf_id(self, x):\n",
    "        return self.get_leaf_path(x)[-1]\n",
    "    \n",
    "    def get_tree_distance(self, x1, x2):\n",
    "        path1 = self.get_leaf_path(x1)\n",
    "        path2 = self.get_leaf_path(x2)\n",
    "        return len(np.setdiff1d(path1, path2))+len(np.setdiff1d(path2, path1))\n",
    "        \n",
    "        \n",
    "    \n",
    "    \n",
    "class Forest:\n",
    "    def __init__(self, trained_models):\n",
    "        self.trees = []\n",
    "        for trained_model in trained_models:\n",
    "            self.trees.append(Tree(trained_model['tree']))\n",
    "    \n",
    "    def __len__(self):\n",
    "        return len(self.trees)\n",
    "\n",
    "    def max_tree_length(self):\n",
    "        return max(map(lambda x: x.number_nodes, self.trees))\n",
    "    \n",
    "    def min_gain(self):\n",
    "        return min(map(lambda x: x.min_gain(), self.trees))\n",
    "                   \n",
    "    def max_gain(self):\n",
    "        return max(map(lambda x: x.max_gain(), self.trees))\n",
    "    \n",
    "    def total_gain(self):\n",
    "        return [x.total_gain() for x in self.trees]\n",
    "    \n",
    "    def tree_sizes(self):\n",
    "        return [x.size() for x in self.trees]\n",
    "    \n",
    "    def tree_depths(self):\n",
    "        return [x.depth() for x in self.trees]\n",
    "\n",
    "    def show_tree(self, tree_index=0):\n",
    "        if tree_index >= len(self):\n",
    "            return\n",
    "        return self.trees[tree_index].dot"
   ]
  },
  {
   "cell_type": "markdown",
   "id": "presidential-sport",
   "metadata": {},
   "source": [
    "## 1. 2D projection and clustering\n",
    "\n",
    "Let's project the data in 2-d using manifold learning and color data points in the same color if they belong to the same leaf."
   ]
  },
  {
   "cell_type": "code",
   "execution_count": 131,
   "id": "promotional-taylor",
   "metadata": {},
   "outputs": [
    {
     "name": "stdout",
     "output_type": "stream",
     "text": [
      "session: job_oxyki\tcommand:\n",
      "/home/valeriy/Documents/workspace/valeriy42/ml-cpp/build/distribution/platform/linux-x86_64/bin/data_frame_analyzer --input datasets/regression_house_16h.csv --config configs/regression_house_16h.json --output /tmp/tmpwun7mjcn --persist model1.json\n"
     ]
    }
   ],
   "source": [
    "job = run_job(input=\"datasets/{}.csv\".format(dataset_name), \n",
    "              config=\"configs/{}.json\".format(dataset_name),\n",
    "              persist=\"model1.json\")"
   ]
  },
  {
   "cell_type": "code",
   "execution_count": 132,
   "id": "motivated-medium",
   "metadata": {
    "scrolled": false
   },
   "outputs": [
    {
     "data": {
      "text/html": [
       "<table><tr>\n",
       "                                                    <td width=\"50%\" style=\"text-align:center;\"><b>stderr</b></td>\n",
       "                                                    <td width=\"50%\" style=\"text-align:center;\"><b>output</b></td>\n",
       "                                                    </tr>\n",
       "                                                    <tr>\n",
       "                                                    <td width=\"50%\" style=\"text-align:left;\"><pre> /home/valeriy/Documents/workspace/valeriy42/ml-cpp/build/distribution/platform/linux-x86_64/bin/data_frame_analyzer --input datasets/regression_house_16h.csv --config configs/regression_house_16h.json --output /tmp/tmpwun7mjcn --persist model1.json\n",
       "(env) ✔ ~/Documents/workspace/valeriy42/ml-cpp/jupyter/notebooks [feature/incremental-learning L|…16⚑ 3]\n",
       "13:28 $  /home/valeriy/Documents/workspace/valeriy42/ml-cpp/build/distribution/platform/linux-x86_64/bin/data_frame_analyzer --input datasets/regression_house_16h.csv --config configs/regression_house_16h.json --output /tmp/tmpwun7mjcn --persist model1.json\n",
       "2021-03-04 12:28:23,656744 UTC [31567] DEBUG Main.cc@141 data_frame_analyzer (64 bit): Version 8.0.0-SNAPSHOT (Build 93946a5deec802) Copyright (c) 2021 Elasticsearch BV\n",
       "2021-03-04 12:28:23,656790 UTC [31567] DEBUG CProcessPriority_Linux.cc@33 Successfully increased OOM killer adjustment via /proc/self/oom_score_adj\n",
       "2021-03-04 12:28:23,656800 UTC [31567] DEBUG CSystemCallFilter_Linux.cc@127 Seccomp BPF filters available\n",
       "2021-03-04 12:28:23,657852 UTC [31567] DEBUG CSystemCallFilter_Linux.cc@153 Seccomp BPF installed\n",
       "2021-03-04 12:28:23,715170 UTC [31567] DEBUG CDataFrameAnalyzer.cc@104 Received 22784 rows\n",
       "2021-03-04 12:30:13,704260 UTC [31567] INFO  CBoostedTreeImpl.cc@237 Exiting hyperparameter optimisation loop early\n",
       "2021-03-04 12:30:20,575416 UTC [31567] INFO  Main.cc@241 [{\"name\":\"E_DFTPMEstimatedPeakMemoryUsage\",\"description\":\"The upfront estimate of the peak memory training the predictive model would use\",\"value\":43431869}\n",
       ",{\"name\":\"E_DFTPMPeakMemoryUsage\",\"description\":\"The peak memory training the predictive model used\",\"value\":44912989}\n",
       ",{\"name\":\"E_DFTPMTimeToTrain\",\"description\":\"The time it took to train the predictive model\",\"value\":115752}\n",
       ",{\"name\":\"E_DFTPMTrainedForestNumberTrees\",\"description\":\"The total number of trees in the trained forest\",\"value\":309}\n",
       "]\n",
       "2021-03-04 12:30:20,575460 UTC [31567] DEBUG Main.cc@246 ML data frame analyzer exiting\n",
       "(env) ✔ ~/Documents/workspace/valeriy42/ml-cpp/jupyter/notebooks [feature/incremental-learning L|…20⚑ 3]\n",
       "13:30 $</pre></td>\n",
       "                                                    <td width=\"50%\" style=\"text-align:left;\"><pre>,{\"phase_progress\":{\"phase\":\"fine_tuning_parameters\",\"progress_percent\":39}}\n",
       ",{\"phase_progress\":{\"phase\":\"fine_tuning_parameters\",\"progress_percent\":100}}\n",
       ",{\"phase_progress\":{\"phase\":\"final_training\",\"progress_percent\":11}}\n",
       ",{\"phase_progress\":{\"phase\":\"final_training\",\"progress_percent\":27}}\n",
       ",{\"phase_progress\":{\"phase\":\"final_training\",\"progress_percent\":49}}\n",
       ",{\"phase_progress\":{\"phase\":\"final_training\",\"progress_percent\":67}}\n",
       ",{\"phase_progress\":{\"phase\":\"final_training\",\"progress_percent\":87}}\n",
       ",{\"phase_progress\":{\"phase\":\"final_training\",\"progress_percent\":99}}\n",
       ",{\"phase_progress\":{\"phase\":\"final_training\",\"progress_percent\":100}}\n",
       ",{\"phase_progress\":{\"phase\":\"final_training\",\"progress_percent\":100}}</pre></td>\n",
       "                                                    </tr>\n",
       "                                            </table>"
      ]
     },
     "metadata": {},
     "output_type": "display_data"
    }
   ],
   "source": [
    "results = wait_job_complete(job)"
   ]
  },
  {
   "cell_type": "code",
   "execution_count": 12,
   "id": "special-grounds",
   "metadata": {},
   "outputs": [
    {
     "name": "stdout",
     "output_type": "stream",
     "text": [
      "/bin/bash: warning: command substitution: ignored null byte in input\r\n"
     ]
    }
   ],
   "source": [
    "# keep only the last checkpoint with the final model\n",
    "!echo \"$(tail -n 3 model1.json)\" > model1.json"
   ]
  },
  {
   "cell_type": "code",
   "execution_count": 39,
   "id": "persistent-newport",
   "metadata": {},
   "outputs": [],
   "source": [
    "definition = get_model_definition(results)\n",
    "trained_models = definition['trained_model']['ensemble']['trained_models']\n",
    "forest = Forest(trained_models)"
   ]
  },
  {
   "cell_type": "code",
   "execution_count": 14,
   "id": "controversial-spank",
   "metadata": {},
   "outputs": [],
   "source": [
    "df = pd.read_csv(\"datasets/facebook_6000.csv\")"
   ]
  },
  {
   "cell_type": "code",
   "execution_count": 15,
   "id": "sensitive-kidney",
   "metadata": {},
   "outputs": [
    {
     "data": {
      "text/html": [
       "<div>\n",
       "<style scoped>\n",
       "    .dataframe tbody tr th:only-of-type {\n",
       "        vertical-align: middle;\n",
       "    }\n",
       "\n",
       "    .dataframe tbody tr th {\n",
       "        vertical-align: top;\n",
       "    }\n",
       "\n",
       "    .dataframe thead th {\n",
       "        text-align: right;\n",
       "    }\n",
       "</style>\n",
       "<table border=\"1\" class=\"dataframe\">\n",
       "  <thead>\n",
       "    <tr style=\"text-align: right;\">\n",
       "      <th></th>\n",
       "      <th>1</th>\n",
       "      <th>10</th>\n",
       "      <th>11</th>\n",
       "      <th>12</th>\n",
       "      <th>13</th>\n",
       "      <th>14</th>\n",
       "      <th>15</th>\n",
       "      <th>16</th>\n",
       "      <th>17</th>\n",
       "      <th>18</th>\n",
       "      <th>...</th>\n",
       "      <th>49</th>\n",
       "      <th>5</th>\n",
       "      <th>50</th>\n",
       "      <th>51</th>\n",
       "      <th>52</th>\n",
       "      <th>53</th>\n",
       "      <th>6</th>\n",
       "      <th>7</th>\n",
       "      <th>8</th>\n",
       "      <th>9</th>\n",
       "    </tr>\n",
       "  </thead>\n",
       "  <tbody>\n",
       "    <tr>\n",
       "      <th>0</th>\n",
       "      <td>8070687</td>\n",
       "      <td>0.0</td>\n",
       "      <td>1493.0</td>\n",
       "      <td>142.333333</td>\n",
       "      <td>26.0</td>\n",
       "      <td>257.893967</td>\n",
       "      <td>0.0</td>\n",
       "      <td>1534.0</td>\n",
       "      <td>140.101149</td>\n",
       "      <td>28.0</td>\n",
       "      <td>...</td>\n",
       "      <td>0</td>\n",
       "      <td>0.0</td>\n",
       "      <td>0</td>\n",
       "      <td>0</td>\n",
       "      <td>0</td>\n",
       "      <td>0</td>\n",
       "      <td>1678.0</td>\n",
       "      <td>399.324138</td>\n",
       "      <td>261.0</td>\n",
       "      <td>363.995659</td>\n",
       "    </tr>\n",
       "    <tr>\n",
       "      <th>1</th>\n",
       "      <td>115669</td>\n",
       "      <td>0.0</td>\n",
       "      <td>25.0</td>\n",
       "      <td>0.644231</td>\n",
       "      <td>0.0</td>\n",
       "      <td>2.162002</td>\n",
       "      <td>0.0</td>\n",
       "      <td>25.0</td>\n",
       "      <td>0.557692</td>\n",
       "      <td>0.0</td>\n",
       "      <td>...</td>\n",
       "      <td>0</td>\n",
       "      <td>0.0</td>\n",
       "      <td>0</td>\n",
       "      <td>0</td>\n",
       "      <td>0</td>\n",
       "      <td>0</td>\n",
       "      <td>28.0</td>\n",
       "      <td>1.692308</td>\n",
       "      <td>0.0</td>\n",
       "      <td>3.797967</td>\n",
       "    </tr>\n",
       "    <tr>\n",
       "      <th>2</th>\n",
       "      <td>1422427</td>\n",
       "      <td>0.0</td>\n",
       "      <td>174.0</td>\n",
       "      <td>11.682192</td>\n",
       "      <td>3.0</td>\n",
       "      <td>21.630593</td>\n",
       "      <td>0.0</td>\n",
       "      <td>204.0</td>\n",
       "      <td>12.509589</td>\n",
       "      <td>2.0</td>\n",
       "      <td>...</td>\n",
       "      <td>0</td>\n",
       "      <td>0.0</td>\n",
       "      <td>0</td>\n",
       "      <td>0</td>\n",
       "      <td>1</td>\n",
       "      <td>0</td>\n",
       "      <td>214.0</td>\n",
       "      <td>34.494521</td>\n",
       "      <td>19.0</td>\n",
       "      <td>41.042118</td>\n",
       "    </tr>\n",
       "    <tr>\n",
       "      <th>3</th>\n",
       "      <td>32590</td>\n",
       "      <td>0.0</td>\n",
       "      <td>29.0</td>\n",
       "      <td>1.312500</td>\n",
       "      <td>1.0</td>\n",
       "      <td>2.973187</td>\n",
       "      <td>0.0</td>\n",
       "      <td>23.0</td>\n",
       "      <td>1.257812</td>\n",
       "      <td>0.0</td>\n",
       "      <td>...</td>\n",
       "      <td>0</td>\n",
       "      <td>0.0</td>\n",
       "      <td>0</td>\n",
       "      <td>0</td>\n",
       "      <td>0</td>\n",
       "      <td>0</td>\n",
       "      <td>40.0</td>\n",
       "      <td>3.281250</td>\n",
       "      <td>2.0</td>\n",
       "      <td>5.415455</td>\n",
       "    </tr>\n",
       "    <tr>\n",
       "      <th>4</th>\n",
       "      <td>209071</td>\n",
       "      <td>0.0</td>\n",
       "      <td>54.0</td>\n",
       "      <td>1.206294</td>\n",
       "      <td>0.0</td>\n",
       "      <td>4.560713</td>\n",
       "      <td>0.0</td>\n",
       "      <td>73.0</td>\n",
       "      <td>1.209790</td>\n",
       "      <td>0.0</td>\n",
       "      <td>...</td>\n",
       "      <td>0</td>\n",
       "      <td>0.0</td>\n",
       "      <td>1</td>\n",
       "      <td>0</td>\n",
       "      <td>0</td>\n",
       "      <td>0</td>\n",
       "      <td>163.0</td>\n",
       "      <td>3.461538</td>\n",
       "      <td>1.0</td>\n",
       "      <td>11.291602</td>\n",
       "    </tr>\n",
       "    <tr>\n",
       "      <th>...</th>\n",
       "      <td>...</td>\n",
       "      <td>...</td>\n",
       "      <td>...</td>\n",
       "      <td>...</td>\n",
       "      <td>...</td>\n",
       "      <td>...</td>\n",
       "      <td>...</td>\n",
       "      <td>...</td>\n",
       "      <td>...</td>\n",
       "      <td>...</td>\n",
       "      <td>...</td>\n",
       "      <td>...</td>\n",
       "      <td>...</td>\n",
       "      <td>...</td>\n",
       "      <td>...</td>\n",
       "      <td>...</td>\n",
       "      <td>...</td>\n",
       "      <td>...</td>\n",
       "      <td>...</td>\n",
       "      <td>...</td>\n",
       "      <td>...</td>\n",
       "    </tr>\n",
       "    <tr>\n",
       "      <th>5995</th>\n",
       "      <td>1204214</td>\n",
       "      <td>0.0</td>\n",
       "      <td>98.0</td>\n",
       "      <td>2.022447</td>\n",
       "      <td>0.0</td>\n",
       "      <td>6.093321</td>\n",
       "      <td>0.0</td>\n",
       "      <td>96.0</td>\n",
       "      <td>2.021324</td>\n",
       "      <td>0.0</td>\n",
       "      <td>...</td>\n",
       "      <td>1</td>\n",
       "      <td>0.0</td>\n",
       "      <td>0</td>\n",
       "      <td>0</td>\n",
       "      <td>0</td>\n",
       "      <td>0</td>\n",
       "      <td>105.0</td>\n",
       "      <td>5.699214</td>\n",
       "      <td>3.0</td>\n",
       "      <td>10.894731</td>\n",
       "    </tr>\n",
       "    <tr>\n",
       "      <th>5996</th>\n",
       "      <td>5365996</td>\n",
       "      <td>0.0</td>\n",
       "      <td>651.0</td>\n",
       "      <td>24.579556</td>\n",
       "      <td>6.0</td>\n",
       "      <td>54.075242</td>\n",
       "      <td>0.0</td>\n",
       "      <td>646.0</td>\n",
       "      <td>23.405014</td>\n",
       "      <td>3.0</td>\n",
       "      <td>...</td>\n",
       "      <td>1</td>\n",
       "      <td>0.0</td>\n",
       "      <td>0</td>\n",
       "      <td>0</td>\n",
       "      <td>0</td>\n",
       "      <td>0</td>\n",
       "      <td>755.0</td>\n",
       "      <td>64.947927</td>\n",
       "      <td>35.0</td>\n",
       "      <td>95.153508</td>\n",
       "    </tr>\n",
       "    <tr>\n",
       "      <th>5997</th>\n",
       "      <td>5103</td>\n",
       "      <td>0.0</td>\n",
       "      <td>3.0</td>\n",
       "      <td>0.177215</td>\n",
       "      <td>0.0</td>\n",
       "      <td>0.557106</td>\n",
       "      <td>0.0</td>\n",
       "      <td>3.0</td>\n",
       "      <td>0.196203</td>\n",
       "      <td>0.0</td>\n",
       "      <td>...</td>\n",
       "      <td>0</td>\n",
       "      <td>0.0</td>\n",
       "      <td>1</td>\n",
       "      <td>0</td>\n",
       "      <td>0</td>\n",
       "      <td>0</td>\n",
       "      <td>5.0</td>\n",
       "      <td>0.449367</td>\n",
       "      <td>0.0</td>\n",
       "      <td>1.070594</td>\n",
       "    </tr>\n",
       "    <tr>\n",
       "      <th>5998</th>\n",
       "      <td>11384</td>\n",
       "      <td>0.0</td>\n",
       "      <td>56.0</td>\n",
       "      <td>5.672209</td>\n",
       "      <td>3.0</td>\n",
       "      <td>7.468821</td>\n",
       "      <td>0.0</td>\n",
       "      <td>50.0</td>\n",
       "      <td>5.003563</td>\n",
       "      <td>2.0</td>\n",
       "      <td>...</td>\n",
       "      <td>0</td>\n",
       "      <td>0.0</td>\n",
       "      <td>0</td>\n",
       "      <td>1</td>\n",
       "      <td>0</td>\n",
       "      <td>0</td>\n",
       "      <td>58.0</td>\n",
       "      <td>15.112827</td>\n",
       "      <td>13.5</td>\n",
       "      <td>9.520716</td>\n",
       "    </tr>\n",
       "    <tr>\n",
       "      <th>5999</th>\n",
       "      <td>570</td>\n",
       "      <td>0.0</td>\n",
       "      <td>15.0</td>\n",
       "      <td>4.834711</td>\n",
       "      <td>4.0</td>\n",
       "      <td>4.033634</td>\n",
       "      <td>0.0</td>\n",
       "      <td>28.0</td>\n",
       "      <td>4.884298</td>\n",
       "      <td>4.0</td>\n",
       "      <td>...</td>\n",
       "      <td>0</td>\n",
       "      <td>0.0</td>\n",
       "      <td>1</td>\n",
       "      <td>0</td>\n",
       "      <td>0</td>\n",
       "      <td>0</td>\n",
       "      <td>35.0</td>\n",
       "      <td>12.404959</td>\n",
       "      <td>11.0</td>\n",
       "      <td>7.408481</td>\n",
       "    </tr>\n",
       "  </tbody>\n",
       "</table>\n",
       "<p>6000 rows × 53 columns</p>\n",
       "</div>"
      ],
      "text/plain": [
       "            1   10      11          12    13          14   15      16  \\\n",
       "0     8070687  0.0  1493.0  142.333333  26.0  257.893967  0.0  1534.0   \n",
       "1      115669  0.0    25.0    0.644231   0.0    2.162002  0.0    25.0   \n",
       "2     1422427  0.0   174.0   11.682192   3.0   21.630593  0.0   204.0   \n",
       "3       32590  0.0    29.0    1.312500   1.0    2.973187  0.0    23.0   \n",
       "4      209071  0.0    54.0    1.206294   0.0    4.560713  0.0    73.0   \n",
       "...       ...  ...     ...         ...   ...         ...  ...     ...   \n",
       "5995  1204214  0.0    98.0    2.022447   0.0    6.093321  0.0    96.0   \n",
       "5996  5365996  0.0   651.0   24.579556   6.0   54.075242  0.0   646.0   \n",
       "5997     5103  0.0     3.0    0.177215   0.0    0.557106  0.0     3.0   \n",
       "5998    11384  0.0    56.0    5.672209   3.0    7.468821  0.0    50.0   \n",
       "5999      570  0.0    15.0    4.834711   4.0    4.033634  0.0    28.0   \n",
       "\n",
       "              17    18  ...  49    5  50  51  52  53       6           7  \\\n",
       "0     140.101149  28.0  ...   0  0.0   0   0   0   0  1678.0  399.324138   \n",
       "1       0.557692   0.0  ...   0  0.0   0   0   0   0    28.0    1.692308   \n",
       "2      12.509589   2.0  ...   0  0.0   0   0   1   0   214.0   34.494521   \n",
       "3       1.257812   0.0  ...   0  0.0   0   0   0   0    40.0    3.281250   \n",
       "4       1.209790   0.0  ...   0  0.0   1   0   0   0   163.0    3.461538   \n",
       "...          ...   ...  ...  ..  ...  ..  ..  ..  ..     ...         ...   \n",
       "5995    2.021324   0.0  ...   1  0.0   0   0   0   0   105.0    5.699214   \n",
       "5996   23.405014   3.0  ...   1  0.0   0   0   0   0   755.0   64.947927   \n",
       "5997    0.196203   0.0  ...   0  0.0   1   0   0   0     5.0    0.449367   \n",
       "5998    5.003563   2.0  ...   0  0.0   0   1   0   0    58.0   15.112827   \n",
       "5999    4.884298   4.0  ...   0  0.0   1   0   0   0    35.0   12.404959   \n",
       "\n",
       "          8           9  \n",
       "0     261.0  363.995659  \n",
       "1       0.0    3.797967  \n",
       "2      19.0   41.042118  \n",
       "3       2.0    5.415455  \n",
       "4       1.0   11.291602  \n",
       "...     ...         ...  \n",
       "5995    3.0   10.894731  \n",
       "5996   35.0   95.153508  \n",
       "5997    0.0    1.070594  \n",
       "5998   13.5    9.520716  \n",
       "5999   11.0    7.408481  \n",
       "\n",
       "[6000 rows x 53 columns]"
      ]
     },
     "execution_count": 15,
     "metadata": {},
     "output_type": "execute_result"
    }
   ],
   "source": [
    "df.drop(columns=['54'])"
   ]
  },
  {
   "cell_type": "code",
   "execution_count": 52,
   "id": "ambient-reputation",
   "metadata": {},
   "outputs": [
    {
     "data": {
      "text/plain": [
       "'31'"
      ]
     },
     "execution_count": 52,
     "metadata": {},
     "output_type": "execute_result"
    }
   ],
   "source": [
    "forest.trees[1].nodes[0].split_feature"
   ]
  },
  {
   "cell_type": "code",
   "execution_count": 16,
   "id": "running-harrison",
   "metadata": {},
   "outputs": [
    {
     "data": {
      "text/plain": [
       "14"
      ]
     },
     "execution_count": 16,
     "metadata": {},
     "output_type": "execute_result"
    }
   ],
   "source": [
    "forest.trees[1].get_leaf_id(df.loc[1])"
   ]
  },
  {
   "cell_type": "code",
   "execution_count": 18,
   "id": "peripheral-sponsorship",
   "metadata": {},
   "outputs": [
    {
     "data": {
      "text/plain": [
       "10"
      ]
     },
     "execution_count": 18,
     "metadata": {},
     "output_type": "execute_result"
    }
   ],
   "source": [
    "forest.trees[1].get_leaf_id(df.loc[2])"
   ]
  },
  {
   "cell_type": "code",
   "execution_count": 32,
   "id": "paperback-norman",
   "metadata": {},
   "outputs": [
    {
     "name": "stdout",
     "output_type": "stream",
     "text": [
      "[0, 1, 8, 10]\n",
      "[0, 1, 7, 14]\n",
      "[ 8 10]\n"
     ]
    },
    {
     "data": {
      "text/plain": [
       "4"
      ]
     },
     "execution_count": 32,
     "metadata": {},
     "output_type": "execute_result"
    }
   ],
   "source": [
    "forest.trees[1].get_tree_distance(df.loc[20], df.loc[6])"
   ]
  },
  {
   "cell_type": "code",
   "execution_count": 66,
   "id": "apparent-destiny",
   "metadata": {},
   "outputs": [],
   "source": [
    "from sklearn.manifold import Isomap, LocallyLinearEmbedding, SpectralEmbedding, MDS\n",
    "from sklearn.preprocessing import MinMaxScaler, LabelEncoder, StandardScaler"
   ]
  },
  {
   "cell_type": "code",
   "execution_count": 68,
   "id": "strategic-european",
   "metadata": {},
   "outputs": [],
   "source": [
    "# scaler = MinMaxScaler()\n",
    "scaler = StandardScaler()\n",
    "X_normalized = scaler.fit_transform(df)"
   ]
  },
  {
   "cell_type": "code",
   "execution_count": 67,
   "id": "contemporary-melbourne",
   "metadata": {},
   "outputs": [],
   "source": [
    "embedding = Isomap(n_components=2)"
   ]
  },
  {
   "cell_type": "code",
   "execution_count": 111,
   "id": "greenhouse-accordance",
   "metadata": {},
   "outputs": [],
   "source": [
    "embedding = LocallyLinearEmbedding(n_components=2)"
   ]
  },
  {
   "cell_type": "code",
   "execution_count": 118,
   "id": "fifty-construction",
   "metadata": {},
   "outputs": [],
   "source": [
    "embedding = SpectralEmbedding(n_components=2)"
   ]
  },
  {
   "cell_type": "code",
   "execution_count": 121,
   "id": "convinced-subcommittee",
   "metadata": {},
   "outputs": [],
   "source": [
    "embedding = MDS(n_components=2)"
   ]
  },
  {
   "cell_type": "code",
   "execution_count": 69,
   "id": "automotive-roommate",
   "metadata": {},
   "outputs": [],
   "source": [
    "X_transformed = embedding.fit_transform(X_normalized)"
   ]
  },
  {
   "cell_type": "code",
   "execution_count": 70,
   "id": "tribal-walker",
   "metadata": {},
   "outputs": [
    {
     "data": {
      "text/plain": [
       "<AxesSubplot:>"
      ]
     },
     "execution_count": 70,
     "metadata": {},
     "output_type": "execute_result"
    },
    {
     "data": {
      "image/png": "[encoded data removed]",
      "text/plain": [
       "<Figure size 432x288 with 1 Axes>"
      ]
     },
     "metadata": {
      "needs_background": "light"
     },
     "output_type": "display_data"
    }
   ],
   "source": [
    "tree = forest.trees[3]\n",
    "cmap = sns.color_palette('husl', tree.number_leaves)\n",
    "colors = [tree.get_leaf_id(df.loc[i]) for i in range(X_transformed.shape[0])]\n",
    "sns.scatterplot(x = X_transformed[:,0], y = X_transformed[:,1], \n",
    "                hue=colors, legend='full', palette=cmap)"
   ]
  },
  {
   "cell_type": "code",
   "execution_count": 64,
   "id": "brilliant-lawrence",
   "metadata": {},
   "outputs": [
    {
     "data": {
      "image/svg+xml": [
       "<?xml version=\"1.0\" encoding=\"UTF-8\" standalone=\"no\"?>\n",
       "<!DOCTYPE svg PUBLIC \"-//W3C//DTD SVG 1.1//EN\"\n",
       " \"http://www.w3.org/Graphics/SVG/1.1/DTD/svg11.dtd\">\n",
       "<!-- Generated by graphviz version 2.40.1 (20161225.0304)\n",
       " -->\n",
       "<!-- Title: %3 Pages: 1 -->\n",
       "<svg width=\"720pt\" height=\"212pt\"\n",
       " viewBox=\"0.00 0.00 720.00 212.07\" xmlns=\"http://www.w3.org/2000/svg\" xmlns:xlink=\"http://www.w3.org/1999/xlink\">\n",
       "<g id=\"graph0\" class=\"graph\" transform=\"scale(.606 .606) rotate(0) translate(4 345.9533)\">\n",
       "<title>%3</title>\n",
       "<polygon fill=\"#ffffff\" stroke=\"transparent\" points=\"-4,4 -4,-345.9533 1184.1076,-345.9533 1184.1076,4 -4,4\"/>\n",
       "<!-- 0 -->\n",
       "<g id=\"node1\" class=\"node\">\n",
       "<title>0</title>\n",
       "<polygon fill=\"none\" stroke=\"#000000\" points=\"636.0538,-341.9533 540.0538,-341.9533 540.0538,-288.9533 636.0538,-288.9533 636.0538,-341.9533\"/>\n",
       "<text text-anchor=\"middle\" x=\"588.0538\" y=\"-326.7533\" font-family=\"Times,serif\" font-size=\"14.00\" fill=\"#000000\">id=0</text>\n",
       "<text text-anchor=\"middle\" x=\"588.0538\" y=\"-311.7533\" font-family=\"Times,serif\" font-size=\"14.00\" fill=\"#000000\">samples=6000</text>\n",
       "<text text-anchor=\"middle\" x=\"588.0538\" y=\"-296.7533\" font-family=\"Times,serif\" font-size=\"14.00\" fill=\"#000000\">31&lt;127.5000</text>\n",
       "</g>\n",
       "<!-- 1 -->\n",
       "<g id=\"node2\" class=\"node\">\n",
       "<title>1</title>\n",
       "<polygon fill=\"none\" stroke=\"#000000\" points=\"487.0538,-252.9533 391.0538,-252.9533 391.0538,-199.9533 487.0538,-199.9533 487.0538,-252.9533\"/>\n",
       "<text text-anchor=\"middle\" x=\"439.0538\" y=\"-237.7533\" font-family=\"Times,serif\" font-size=\"14.00\" fill=\"#000000\">id=1</text>\n",
       "<text text-anchor=\"middle\" x=\"439.0538\" y=\"-222.7533\" font-family=\"Times,serif\" font-size=\"14.00\" fill=\"#000000\">samples=5766</text>\n",
       "<text text-anchor=\"middle\" x=\"439.0538\" y=\"-207.7533\" font-family=\"Times,serif\" font-size=\"14.00\" fill=\"#000000\">35&lt;5.5000</text>\n",
       "</g>\n",
       "<!-- 0&#45;&gt;1 -->\n",
       "<g id=\"edge1\" class=\"edge\">\n",
       "<title>0&#45;&gt;1</title>\n",
       "<path fill=\"none\" stroke=\"#000000\" d=\"M543.3489,-288.7504C527.2167,-279.1144 508.8529,-268.1454 492.0776,-258.1253\"/>\n",
       "<polygon fill=\"#000000\" stroke=\"#000000\" points=\"493.8502,-255.1072 483.4703,-252.9839 490.2605,-261.1168 493.8502,-255.1072\"/>\n",
       "</g>\n",
       "<!-- 2 -->\n",
       "<g id=\"node3\" class=\"node\">\n",
       "<title>2</title>\n",
       "<polygon fill=\"none\" stroke=\"#000000\" points=\"783.5538,-252.9533 694.5538,-252.9533 694.5538,-199.9533 783.5538,-199.9533 783.5538,-252.9533\"/>\n",
       "<text text-anchor=\"middle\" x=\"739.0538\" y=\"-237.7533\" font-family=\"Times,serif\" font-size=\"14.00\" fill=\"#000000\">id=2</text>\n",
       "<text text-anchor=\"middle\" x=\"739.0538\" y=\"-222.7533\" font-family=\"Times,serif\" font-size=\"14.00\" fill=\"#000000\">samples=234</text>\n",
       "<text text-anchor=\"middle\" x=\"739.0538\" y=\"-207.7533\" font-family=\"Times,serif\" font-size=\"14.00\" fill=\"#000000\">35&lt;4.5000</text>\n",
       "</g>\n",
       "<!-- 0&#45;&gt;2 -->\n",
       "<g id=\"edge2\" class=\"edge\">\n",
       "<title>0&#45;&gt;2</title>\n",
       "<path fill=\"none\" stroke=\"#000000\" d=\"M633.3588,-288.7504C649.7815,-279.0708 668.4863,-268.0461 685.549,-257.9893\"/>\n",
       "<polygon fill=\"#000000\" stroke=\"#000000\" points=\"687.4634,-260.9237 694.3012,-252.8307 683.909,-254.8932 687.4634,-260.9237\"/>\n",
       "</g>\n",
       "<!-- 9 -->\n",
       "<g id=\"node10\" class=\"node\">\n",
       "<title>9</title>\n",
       "<polygon fill=\"none\" stroke=\"#000000\" points=\"257.5538,-163.9533 168.5538,-163.9533 168.5538,-110.9533 257.5538,-110.9533 257.5538,-163.9533\"/>\n",
       "<text text-anchor=\"middle\" x=\"213.0538\" y=\"-148.7533\" font-family=\"Times,serif\" font-size=\"14.00\" fill=\"#000000\">id=9</text>\n",
       "<text text-anchor=\"middle\" x=\"213.0538\" y=\"-133.7533\" font-family=\"Times,serif\" font-size=\"14.00\" fill=\"#000000\">samples=469</text>\n",
       "<text text-anchor=\"middle\" x=\"213.0538\" y=\"-118.7533\" font-family=\"Times,serif\" font-size=\"14.00\" fill=\"#000000\">14&lt;35.2529</text>\n",
       "</g>\n",
       "<!-- 1&#45;&gt;9 -->\n",
       "<g id=\"edge3\" class=\"edge\">\n",
       "<title>1&#45;&gt;9</title>\n",
       "<path fill=\"none\" stroke=\"#000000\" d=\"M390.8484,-207.4697C354.6718,-193.2232 305.1129,-173.7067 267.5067,-158.8971\"/>\n",
       "<polygon fill=\"#000000\" stroke=\"#000000\" points=\"268.3165,-155.4545 257.7295,-155.0468 265.7515,-161.9676 268.3165,-155.4545\"/>\n",
       "</g>\n",
       "<!-- 10 -->\n",
       "<g id=\"node11\" class=\"node\">\n",
       "<title>10</title>\n",
       "<polygon fill=\"none\" stroke=\"#000000\" points=\"487.0538,-163.9533 391.0538,-163.9533 391.0538,-110.9533 487.0538,-110.9533 487.0538,-163.9533\"/>\n",
       "<text text-anchor=\"middle\" x=\"439.0538\" y=\"-148.7533\" font-family=\"Times,serif\" font-size=\"14.00\" fill=\"#000000\">id=10</text>\n",
       "<text text-anchor=\"middle\" x=\"439.0538\" y=\"-133.7533\" font-family=\"Times,serif\" font-size=\"14.00\" fill=\"#000000\">samples=5297</text>\n",
       "<text text-anchor=\"middle\" x=\"439.0538\" y=\"-118.7533\" font-family=\"Times,serif\" font-size=\"14.00\" fill=\"#000000\">31&lt;51.5000</text>\n",
       "</g>\n",
       "<!-- 1&#45;&gt;10 -->\n",
       "<g id=\"edge4\" class=\"edge\">\n",
       "<title>1&#45;&gt;10</title>\n",
       "<path fill=\"none\" stroke=\"#000000\" d=\"M439.0538,-199.7504C439.0538,-191.742 439.0538,-182.813 439.0538,-174.2731\"/>\n",
       "<polygon fill=\"#000000\" stroke=\"#000000\" points=\"442.5539,-174.1374 439.0538,-164.1374 435.5539,-174.1374 442.5539,-174.1374\"/>\n",
       "</g>\n",
       "<!-- 3 -->\n",
       "<g id=\"node4\" class=\"node\">\n",
       "<title>3</title>\n",
       "<polygon fill=\"none\" stroke=\"#000000\" points=\"783.5538,-163.9533 694.5538,-163.9533 694.5538,-110.9533 783.5538,-110.9533 783.5538,-163.9533\"/>\n",
       "<text text-anchor=\"middle\" x=\"739.0538\" y=\"-148.7533\" font-family=\"Times,serif\" font-size=\"14.00\" fill=\"#000000\">id=3</text>\n",
       "<text text-anchor=\"middle\" x=\"739.0538\" y=\"-133.7533\" font-family=\"Times,serif\" font-size=\"14.00\" fill=\"#000000\">samples=23</text>\n",
       "<text text-anchor=\"middle\" x=\"739.0538\" y=\"-118.7533\" font-family=\"Times,serif\" font-size=\"14.00\" fill=\"#000000\">6&lt;2132.5000</text>\n",
       "</g>\n",
       "<!-- 2&#45;&gt;3 -->\n",
       "<g id=\"edge5\" class=\"edge\">\n",
       "<title>2&#45;&gt;3</title>\n",
       "<path fill=\"none\" stroke=\"#000000\" d=\"M739.0538,-199.7504C739.0538,-191.742 739.0538,-182.813 739.0538,-174.2731\"/>\n",
       "<polygon fill=\"#000000\" stroke=\"#000000\" points=\"742.5539,-174.1374 739.0538,-164.1374 735.5539,-174.1374 742.5539,-174.1374\"/>\n",
       "</g>\n",
       "<!-- 4 -->\n",
       "<g id=\"node5\" class=\"node\">\n",
       "<title>4</title>\n",
       "<polygon fill=\"none\" stroke=\"#000000\" points=\"1011.5538,-163.9533 922.5538,-163.9533 922.5538,-110.9533 1011.5538,-110.9533 1011.5538,-163.9533\"/>\n",
       "<text text-anchor=\"middle\" x=\"967.0538\" y=\"-148.7533\" font-family=\"Times,serif\" font-size=\"14.00\" fill=\"#000000\">id=4</text>\n",
       "<text text-anchor=\"middle\" x=\"967.0538\" y=\"-133.7533\" font-family=\"Times,serif\" font-size=\"14.00\" fill=\"#000000\">samples=211</text>\n",
       "<text text-anchor=\"middle\" x=\"967.0538\" y=\"-118.7533\" font-family=\"Times,serif\" font-size=\"14.00\" fill=\"#000000\">31&lt;279.5000</text>\n",
       "</g>\n",
       "<!-- 2&#45;&gt;4 -->\n",
       "<g id=\"edge6\" class=\"edge\">\n",
       "<title>2&#45;&gt;4</title>\n",
       "<path fill=\"none\" stroke=\"#000000\" d=\"M783.5558,-209.0819C820.4719,-194.6717 873.1108,-174.1241 912.5501,-158.7289\"/>\n",
       "<polygon fill=\"#000000\" stroke=\"#000000\" points=\"914.2324,-161.8295 922.2751,-154.9327 911.6869,-155.3087 914.2324,-161.8295\"/>\n",
       "</g>\n",
       "<!-- 5 -->\n",
       "<g id=\"node6\" class=\"node\">\n",
       "<title>5</title>\n",
       "<ellipse fill=\"none\" stroke=\"#000000\" cx=\"663.0538\" cy=\"-37.4767\" rx=\"65.1077\" ry=\"37.4533\"/>\n",
       "<text text-anchor=\"middle\" x=\"663.0538\" y=\"-48.7767\" font-family=\"Times,serif\" font-size=\"14.00\" fill=\"#000000\">id=5</text>\n",
       "<text text-anchor=\"middle\" x=\"663.0538\" y=\"-33.7767\" font-family=\"Times,serif\" font-size=\"14.00\" fill=\"#000000\">samples=20</text>\n",
       "<text text-anchor=\"middle\" x=\"663.0538\" y=\"-18.7767\" font-family=\"Times,serif\" font-size=\"14.00\" fill=\"#000000\">value=4.6540</text>\n",
       "</g>\n",
       "<!-- 3&#45;&gt;5 -->\n",
       "<g id=\"edge7\" class=\"edge\">\n",
       "<title>3&#45;&gt;5</title>\n",
       "<path fill=\"none\" stroke=\"#000000\" d=\"M718.8868,-110.9239C711.7387,-101.5207 703.5019,-90.6854 695.5881,-80.2749\"/>\n",
       "<polygon fill=\"#000000\" stroke=\"#000000\" points=\"698.1757,-77.8953 689.3376,-72.0525 692.603,-82.1316 698.1757,-77.8953\"/>\n",
       "</g>\n",
       "<!-- 6 -->\n",
       "<g id=\"node7\" class=\"node\">\n",
       "<title>6</title>\n",
       "<ellipse fill=\"none\" stroke=\"#000000\" cx=\"815.0538\" cy=\"-37.4767\" rx=\"69.0935\" ry=\"37.4533\"/>\n",
       "<text text-anchor=\"middle\" x=\"815.0538\" y=\"-48.7767\" font-family=\"Times,serif\" font-size=\"14.00\" fill=\"#000000\">id=6</text>\n",
       "<text text-anchor=\"middle\" x=\"815.0538\" y=\"-33.7767\" font-family=\"Times,serif\" font-size=\"14.00\" fill=\"#000000\">samples=3</text>\n",
       "<text text-anchor=\"middle\" x=\"815.0538\" y=\"-18.7767\" font-family=\"Times,serif\" font-size=\"14.00\" fill=\"#000000\">value=15.8028</text>\n",
       "</g>\n",
       "<!-- 3&#45;&gt;6 -->\n",
       "<g id=\"edge8\" class=\"edge\">\n",
       "<title>3&#45;&gt;6</title>\n",
       "<path fill=\"none\" stroke=\"#000000\" d=\"M759.2209,-110.9239C766.2996,-101.612 774.4459,-90.8956 782.289,-80.5782\"/>\n",
       "<polygon fill=\"#000000\" stroke=\"#000000\" points=\"785.2223,-82.503 788.4877,-72.4239 779.6496,-78.2667 785.2223,-82.503\"/>\n",
       "</g>\n",
       "<!-- 7 -->\n",
       "<g id=\"node8\" class=\"node\">\n",
       "<title>7</title>\n",
       "<ellipse fill=\"none\" stroke=\"#000000\" cx=\"967.0538\" cy=\"-37.4767\" rx=\"65.1077\" ry=\"37.4533\"/>\n",
       "<text text-anchor=\"middle\" x=\"967.0538\" y=\"-48.7767\" font-family=\"Times,serif\" font-size=\"14.00\" fill=\"#000000\">id=7</text>\n",
       "<text text-anchor=\"middle\" x=\"967.0538\" y=\"-33.7767\" font-family=\"Times,serif\" font-size=\"14.00\" fill=\"#000000\">samples=129</text>\n",
       "<text text-anchor=\"middle\" x=\"967.0538\" y=\"-18.7767\" font-family=\"Times,serif\" font-size=\"14.00\" fill=\"#000000\">value=0.6957</text>\n",
       "</g>\n",
       "<!-- 4&#45;&gt;7 -->\n",
       "<g id=\"edge9\" class=\"edge\">\n",
       "<title>4&#45;&gt;7</title>\n",
       "<path fill=\"none\" stroke=\"#000000\" d=\"M967.0538,-110.9239C967.0538,-103.0239 967.0538,-94.113 967.0538,-85.2925\"/>\n",
       "<polygon fill=\"#000000\" stroke=\"#000000\" points=\"970.5539,-85.0454 967.0538,-75.0454 963.5539,-85.0455 970.5539,-85.0454\"/>\n",
       "</g>\n",
       "<!-- 8 -->\n",
       "<g id=\"node9\" class=\"node\">\n",
       "<title>8</title>\n",
       "<ellipse fill=\"none\" stroke=\"#000000\" cx=\"1115.0538\" cy=\"-37.4767\" rx=\"65.1077\" ry=\"37.4533\"/>\n",
       "<text text-anchor=\"middle\" x=\"1115.0538\" y=\"-48.7767\" font-family=\"Times,serif\" font-size=\"14.00\" fill=\"#000000\">id=8</text>\n",
       "<text text-anchor=\"middle\" x=\"1115.0538\" y=\"-33.7767\" font-family=\"Times,serif\" font-size=\"14.00\" fill=\"#000000\">samples=82</text>\n",
       "<text text-anchor=\"middle\" x=\"1115.0538\" y=\"-18.7767\" font-family=\"Times,serif\" font-size=\"14.00\" fill=\"#000000\">value=2.1717</text>\n",
       "</g>\n",
       "<!-- 4&#45;&gt;8 -->\n",
       "<g id=\"edge10\" class=\"edge\">\n",
       "<title>4&#45;&gt;8</title>\n",
       "<path fill=\"none\" stroke=\"#000000\" d=\"M1006.3265,-110.9239C1024.0753,-98.9343 1045.2711,-84.6162 1064.2148,-71.8193\"/>\n",
       "<polygon fill=\"#000000\" stroke=\"#000000\" points=\"1066.4124,-74.5586 1072.7397,-66.0606 1062.494,-68.758 1066.4124,-74.5586\"/>\n",
       "</g>\n",
       "<!-- 11 -->\n",
       "<g id=\"node12\" class=\"node\">\n",
       "<title>11</title>\n",
       "<ellipse fill=\"none\" stroke=\"#000000\" cx=\"65.0538\" cy=\"-37.4767\" rx=\"65.1077\" ry=\"37.4533\"/>\n",
       "<text text-anchor=\"middle\" x=\"65.0538\" y=\"-48.7767\" font-family=\"Times,serif\" font-size=\"14.00\" fill=\"#000000\">id=11</text>\n",
       "<text text-anchor=\"middle\" x=\"65.0538\" y=\"-33.7767\" font-family=\"Times,serif\" font-size=\"14.00\" fill=\"#000000\">samples=312</text>\n",
       "<text text-anchor=\"middle\" x=\"65.0538\" y=\"-18.7767\" font-family=\"Times,serif\" font-size=\"14.00\" fill=\"#000000\">value=0.0183</text>\n",
       "</g>\n",
       "<!-- 9&#45;&gt;11 -->\n",
       "<g id=\"edge11\" class=\"edge\">\n",
       "<title>9&#45;&gt;11</title>\n",
       "<path fill=\"none\" stroke=\"#000000\" d=\"M173.7811,-110.9239C156.0323,-98.9343 134.8366,-84.6162 115.8929,-71.8193\"/>\n",
       "<polygon fill=\"#000000\" stroke=\"#000000\" points=\"117.6137,-68.758 107.3679,-66.0606 113.6953,-74.5586 117.6137,-68.758\"/>\n",
       "</g>\n",
       "<!-- 12 -->\n",
       "<g id=\"node13\" class=\"node\">\n",
       "<title>12</title>\n",
       "<ellipse fill=\"none\" stroke=\"#000000\" cx=\"213.0538\" cy=\"-37.4767\" rx=\"65.1077\" ry=\"37.4533\"/>\n",
       "<text text-anchor=\"middle\" x=\"213.0538\" y=\"-48.7767\" font-family=\"Times,serif\" font-size=\"14.00\" fill=\"#000000\">id=12</text>\n",
       "<text text-anchor=\"middle\" x=\"213.0538\" y=\"-33.7767\" font-family=\"Times,serif\" font-size=\"14.00\" fill=\"#000000\">samples=157</text>\n",
       "<text text-anchor=\"middle\" x=\"213.0538\" y=\"-18.7767\" font-family=\"Times,serif\" font-size=\"14.00\" fill=\"#000000\">value=0.8490</text>\n",
       "</g>\n",
       "<!-- 9&#45;&gt;12 -->\n",
       "<g id=\"edge12\" class=\"edge\">\n",
       "<title>9&#45;&gt;12</title>\n",
       "<path fill=\"none\" stroke=\"#000000\" d=\"M213.0538,-110.9239C213.0538,-103.0239 213.0538,-94.113 213.0538,-85.2925\"/>\n",
       "<polygon fill=\"#000000\" stroke=\"#000000\" points=\"216.5539,-85.0454 213.0538,-75.0454 209.5539,-85.0455 216.5539,-85.0454\"/>\n",
       "</g>\n",
       "<!-- 13 -->\n",
       "<g id=\"node14\" class=\"node\">\n",
       "<title>13</title>\n",
       "<ellipse fill=\"none\" stroke=\"#000000\" cx=\"364.0538\" cy=\"-37.4767\" rx=\"67.7647\" ry=\"37.4533\"/>\n",
       "<text text-anchor=\"middle\" x=\"364.0538\" y=\"-48.7767\" font-family=\"Times,serif\" font-size=\"14.00\" fill=\"#000000\">id=13</text>\n",
       "<text text-anchor=\"middle\" x=\"364.0538\" y=\"-33.7767\" font-family=\"Times,serif\" font-size=\"14.00\" fill=\"#000000\">samples=5011</text>\n",
       "<text text-anchor=\"middle\" x=\"364.0538\" y=\"-18.7767\" font-family=\"Times,serif\" font-size=\"14.00\" fill=\"#000000\">value=&#45;0.1301</text>\n",
       "</g>\n",
       "<!-- 10&#45;&gt;13 -->\n",
       "<g id=\"edge13\" class=\"edge\">\n",
       "<title>10&#45;&gt;13</title>\n",
       "<path fill=\"none\" stroke=\"#000000\" d=\"M419.1521,-110.9239C412.1666,-101.612 404.1274,-90.8956 396.3876,-80.5782\"/>\n",
       "<polygon fill=\"#000000\" stroke=\"#000000\" points=\"399.0711,-78.3229 390.2704,-72.4239 393.4715,-82.5236 399.0711,-78.3229\"/>\n",
       "</g>\n",
       "<!-- 14 -->\n",
       "<g id=\"node15\" class=\"node\">\n",
       "<title>14</title>\n",
       "<ellipse fill=\"none\" stroke=\"#000000\" cx=\"515.0538\" cy=\"-37.4767\" rx=\"65.1077\" ry=\"37.4533\"/>\n",
       "<text text-anchor=\"middle\" x=\"515.0538\" y=\"-48.7767\" font-family=\"Times,serif\" font-size=\"14.00\" fill=\"#000000\">id=14</text>\n",
       "<text text-anchor=\"middle\" x=\"515.0538\" y=\"-33.7767\" font-family=\"Times,serif\" font-size=\"14.00\" fill=\"#000000\">samples=286</text>\n",
       "<text text-anchor=\"middle\" x=\"515.0538\" y=\"-18.7767\" font-family=\"Times,serif\" font-size=\"14.00\" fill=\"#000000\">value=0.2408</text>\n",
       "</g>\n",
       "<!-- 10&#45;&gt;14 -->\n",
       "<g id=\"edge14\" class=\"edge\">\n",
       "<title>10&#45;&gt;14</title>\n",
       "<path fill=\"none\" stroke=\"#000000\" d=\"M459.2209,-110.9239C466.369,-101.5207 474.6058,-90.6854 482.5196,-80.2749\"/>\n",
       "<polygon fill=\"#000000\" stroke=\"#000000\" points=\"485.5046,-82.1316 488.7701,-72.0525 479.932,-77.8953 485.5046,-82.1316\"/>\n",
       "</g>\n",
       "</g>\n",
       "</svg>\n"
      ],
      "text/plain": [
       "<graphviz.dot.Digraph at 0x7fe397105b00>"
      ]
     },
     "execution_count": 64,
     "metadata": {},
     "output_type": "execute_result"
    }
   ],
   "source": [
    "forest.show_tree(4)"
   ]
  },
  {
   "cell_type": "code",
   "execution_count": 65,
   "id": "attractive-immune",
   "metadata": {},
   "outputs": [
    {
     "data": {
      "image/svg+xml": [
       "<?xml version=\"1.0\" encoding=\"UTF-8\" standalone=\"no\"?>\n",
       "<!DOCTYPE svg PUBLIC \"-//W3C//DTD SVG 1.1//EN\"\n",
       " \"http://www.w3.org/Graphics/SVG/1.1/DTD/svg11.dtd\">\n",
       "<!-- Generated by graphviz version 2.40.1 (20161225.0304)\n",
       " -->\n",
       "<!-- Title: %3 Pages: 1 -->\n",
       "<svg width=\"720pt\" height=\"214pt\"\n",
       " viewBox=\"0.00 0.00 720.00 213.51\" xmlns=\"http://www.w3.org/2000/svg\" xmlns:xlink=\"http://www.w3.org/1999/xlink\">\n",
       "<g id=\"graph0\" class=\"graph\" transform=\"scale(.6101 .6101) rotate(0) translate(4 345.9533)\">\n",
       "<title>%3</title>\n",
       "<polygon fill=\"#ffffff\" stroke=\"transparent\" points=\"-4,4 -4,-345.9533 1176.1076,-345.9533 1176.1076,4 -4,4\"/>\n",
       "<!-- 0 -->\n",
       "<g id=\"node1\" class=\"node\">\n",
       "<title>0</title>\n",
       "<polygon fill=\"none\" stroke=\"#000000\" points=\"637.0538,-341.9533 541.0538,-341.9533 541.0538,-288.9533 637.0538,-288.9533 637.0538,-341.9533\"/>\n",
       "<text text-anchor=\"middle\" x=\"589.0538\" y=\"-326.7533\" font-family=\"Times,serif\" font-size=\"14.00\" fill=\"#000000\">id=0</text>\n",
       "<text text-anchor=\"middle\" x=\"589.0538\" y=\"-311.7533\" font-family=\"Times,serif\" font-size=\"14.00\" fill=\"#000000\">samples=6000</text>\n",
       "<text text-anchor=\"middle\" x=\"589.0538\" y=\"-296.7533\" font-family=\"Times,serif\" font-size=\"14.00\" fill=\"#000000\">31&lt;127.5000</text>\n",
       "</g>\n",
       "<!-- 1 -->\n",
       "<g id=\"node2\" class=\"node\">\n",
       "<title>1</title>\n",
       "<polygon fill=\"none\" stroke=\"#000000\" points=\"489.0538,-252.9533 393.0538,-252.9533 393.0538,-199.9533 489.0538,-199.9533 489.0538,-252.9533\"/>\n",
       "<text text-anchor=\"middle\" x=\"441.0538\" y=\"-237.7533\" font-family=\"Times,serif\" font-size=\"14.00\" fill=\"#000000\">id=1</text>\n",
       "<text text-anchor=\"middle\" x=\"441.0538\" y=\"-222.7533\" font-family=\"Times,serif\" font-size=\"14.00\" fill=\"#000000\">samples=5766</text>\n",
       "<text text-anchor=\"middle\" x=\"441.0538\" y=\"-207.7533\" font-family=\"Times,serif\" font-size=\"14.00\" fill=\"#000000\">31&lt;43.5000</text>\n",
       "</g>\n",
       "<!-- 0&#45;&gt;1 -->\n",
       "<g id=\"edge1\" class=\"edge\">\n",
       "<title>0&#45;&gt;1</title>\n",
       "<path fill=\"none\" stroke=\"#000000\" d=\"M544.6489,-288.7504C528.772,-279.2028 510.719,-268.3466 494.1808,-258.4013\"/>\n",
       "<polygon fill=\"#000000\" stroke=\"#000000\" points=\"495.5457,-255.138 485.1722,-252.9839 491.9383,-261.1369 495.5457,-255.138\"/>\n",
       "</g>\n",
       "<!-- 2 -->\n",
       "<g id=\"node3\" class=\"node\">\n",
       "<title>2</title>\n",
       "<polygon fill=\"none\" stroke=\"#000000\" points=\"781.5538,-252.9533 692.5538,-252.9533 692.5538,-199.9533 781.5538,-199.9533 781.5538,-252.9533\"/>\n",
       "<text text-anchor=\"middle\" x=\"737.0538\" y=\"-237.7533\" font-family=\"Times,serif\" font-size=\"14.00\" fill=\"#000000\">id=2</text>\n",
       "<text text-anchor=\"middle\" x=\"737.0538\" y=\"-222.7533\" font-family=\"Times,serif\" font-size=\"14.00\" fill=\"#000000\">samples=234</text>\n",
       "<text text-anchor=\"middle\" x=\"737.0538\" y=\"-207.7533\" font-family=\"Times,serif\" font-size=\"14.00\" fill=\"#000000\">35&lt;7.5000</text>\n",
       "</g>\n",
       "<!-- 0&#45;&gt;2 -->\n",
       "<g id=\"edge2\" class=\"edge\">\n",
       "<title>0&#45;&gt;2</title>\n",
       "<path fill=\"none\" stroke=\"#000000\" d=\"M633.4587,-288.7504C649.3356,-279.2028 667.3887,-268.3466 683.9269,-258.4013\"/>\n",
       "<polygon fill=\"#000000\" stroke=\"#000000\" points=\"686.1694,-261.1369 692.9355,-252.9839 682.5619,-255.138 686.1694,-261.1369\"/>\n",
       "</g>\n",
       "<!-- 5 -->\n",
       "<g id=\"node6\" class=\"node\">\n",
       "<title>5</title>\n",
       "<polygon fill=\"none\" stroke=\"#000000\" points=\"264.0538,-163.9533 168.0538,-163.9533 168.0538,-110.9533 264.0538,-110.9533 264.0538,-163.9533\"/>\n",
       "<text text-anchor=\"middle\" x=\"216.0538\" y=\"-148.7533\" font-family=\"Times,serif\" font-size=\"14.00\" fill=\"#000000\">id=5</text>\n",
       "<text text-anchor=\"middle\" x=\"216.0538\" y=\"-133.7533\" font-family=\"Times,serif\" font-size=\"14.00\" fill=\"#000000\">samples=5369</text>\n",
       "<text text-anchor=\"middle\" x=\"216.0538\" y=\"-118.7533\" font-family=\"Times,serif\" font-size=\"14.00\" fill=\"#000000\">35&lt;0.5000</text>\n",
       "</g>\n",
       "<!-- 1&#45;&gt;5 -->\n",
       "<g id=\"edge3\" class=\"edge\">\n",
       "<title>1&#45;&gt;5</title>\n",
       "<path fill=\"none\" stroke=\"#000000\" d=\"M392.7857,-207.3606C357.9368,-193.5759 310.7217,-174.8997 273.86,-160.3189\"/>\n",
       "<polygon fill=\"#000000\" stroke=\"#000000\" points=\"274.8285,-156.9382 264.2421,-156.5145 272.2537,-163.4474 274.8285,-156.9382\"/>\n",
       "</g>\n",
       "<!-- 6 -->\n",
       "<g id=\"node7\" class=\"node\">\n",
       "<title>6</title>\n",
       "<polygon fill=\"none\" stroke=\"#000000\" points=\"485.5538,-163.9533 396.5538,-163.9533 396.5538,-110.9533 485.5538,-110.9533 485.5538,-163.9533\"/>\n",
       "<text text-anchor=\"middle\" x=\"441.0538\" y=\"-148.7533\" font-family=\"Times,serif\" font-size=\"14.00\" fill=\"#000000\">id=6</text>\n",
       "<text text-anchor=\"middle\" x=\"441.0538\" y=\"-133.7533\" font-family=\"Times,serif\" font-size=\"14.00\" fill=\"#000000\">samples=397</text>\n",
       "<text text-anchor=\"middle\" x=\"441.0538\" y=\"-118.7533\" font-family=\"Times,serif\" font-size=\"14.00\" fill=\"#000000\">35&lt;4.5000</text>\n",
       "</g>\n",
       "<!-- 1&#45;&gt;6 -->\n",
       "<g id=\"edge4\" class=\"edge\">\n",
       "<title>1&#45;&gt;6</title>\n",
       "<path fill=\"none\" stroke=\"#000000\" d=\"M441.0538,-199.7504C441.0538,-191.742 441.0538,-182.813 441.0538,-174.2731\"/>\n",
       "<polygon fill=\"#000000\" stroke=\"#000000\" points=\"444.5539,-174.1374 441.0538,-164.1374 437.5539,-174.1374 444.5539,-174.1374\"/>\n",
       "</g>\n",
       "<!-- 3 -->\n",
       "<g id=\"node4\" class=\"node\">\n",
       "<title>3</title>\n",
       "<polygon fill=\"none\" stroke=\"#000000\" points=\"784.0538,-163.9533 690.0538,-163.9533 690.0538,-110.9533 784.0538,-110.9533 784.0538,-163.9533\"/>\n",
       "<text text-anchor=\"middle\" x=\"737.0538\" y=\"-148.7533\" font-family=\"Times,serif\" font-size=\"14.00\" fill=\"#000000\">id=3</text>\n",
       "<text text-anchor=\"middle\" x=\"737.0538\" y=\"-133.7533\" font-family=\"Times,serif\" font-size=\"14.00\" fill=\"#000000\">samples=43</text>\n",
       "<text text-anchor=\"middle\" x=\"737.0538\" y=\"-118.7533\" font-family=\"Times,serif\" font-size=\"14.00\" fill=\"#000000\">25&lt;&#45;780.5000</text>\n",
       "</g>\n",
       "<!-- 2&#45;&gt;3 -->\n",
       "<g id=\"edge5\" class=\"edge\">\n",
       "<title>2&#45;&gt;3</title>\n",
       "<path fill=\"none\" stroke=\"#000000\" d=\"M737.0538,-199.7504C737.0538,-191.742 737.0538,-182.813 737.0538,-174.2731\"/>\n",
       "<polygon fill=\"#000000\" stroke=\"#000000\" points=\"740.5539,-174.1374 737.0538,-164.1374 733.5539,-174.1374 740.5539,-174.1374\"/>\n",
       "</g>\n",
       "<!-- 4 -->\n",
       "<g id=\"node5\" class=\"node\">\n",
       "<title>4</title>\n",
       "<polygon fill=\"none\" stroke=\"#000000\" points=\"1003.5538,-163.9533 914.5538,-163.9533 914.5538,-110.9533 1003.5538,-110.9533 1003.5538,-163.9533\"/>\n",
       "<text text-anchor=\"middle\" x=\"959.0538\" y=\"-148.7533\" font-family=\"Times,serif\" font-size=\"14.00\" fill=\"#000000\">id=4</text>\n",
       "<text text-anchor=\"middle\" x=\"959.0538\" y=\"-133.7533\" font-family=\"Times,serif\" font-size=\"14.00\" fill=\"#000000\">samples=191</text>\n",
       "<text text-anchor=\"middle\" x=\"959.0538\" y=\"-118.7533\" font-family=\"Times,serif\" font-size=\"14.00\" fill=\"#000000\">31&lt;279.5000</text>\n",
       "</g>\n",
       "<!-- 2&#45;&gt;4 -->\n",
       "<g id=\"edge6\" class=\"edge\">\n",
       "<title>2&#45;&gt;4</title>\n",
       "<path fill=\"none\" stroke=\"#000000\" d=\"M781.7118,-208.5499C817.3128,-194.2774 867.2952,-174.2394 905.1269,-159.0727\"/>\n",
       "<polygon fill=\"#000000\" stroke=\"#000000\" points=\"906.4877,-162.298 914.4672,-155.3281 903.8829,-155.8006 906.4877,-162.298\"/>\n",
       "</g>\n",
       "<!-- 7 -->\n",
       "<g id=\"node8\" class=\"node\">\n",
       "<title>7</title>\n",
       "<ellipse fill=\"none\" stroke=\"#000000\" cx=\"663.0538\" cy=\"-37.4767\" rx=\"65.1077\" ry=\"37.4533\"/>\n",
       "<text text-anchor=\"middle\" x=\"663.0538\" y=\"-48.7767\" font-family=\"Times,serif\" font-size=\"14.00\" fill=\"#000000\">id=7</text>\n",
       "<text text-anchor=\"middle\" x=\"663.0538\" y=\"-33.7767\" font-family=\"Times,serif\" font-size=\"14.00\" fill=\"#000000\">samples=23</text>\n",
       "<text text-anchor=\"middle\" x=\"663.0538\" y=\"-18.7767\" font-family=\"Times,serif\" font-size=\"14.00\" fill=\"#000000\">value=7.5936</text>\n",
       "</g>\n",
       "<!-- 3&#45;&gt;7 -->\n",
       "<g id=\"edge7\" class=\"edge\">\n",
       "<title>3&#45;&gt;7</title>\n",
       "<path fill=\"none\" stroke=\"#000000\" d=\"M717.4175,-110.9239C710.4575,-101.5207 702.4375,-90.6854 694.7319,-80.2749\"/>\n",
       "<polygon fill=\"#000000\" stroke=\"#000000\" points=\"697.4085,-78.008 688.6459,-72.0525 691.7821,-82.1725 697.4085,-78.008\"/>\n",
       "</g>\n",
       "<!-- 8 -->\n",
       "<g id=\"node9\" class=\"node\">\n",
       "<title>8</title>\n",
       "<ellipse fill=\"none\" stroke=\"#000000\" cx=\"811.0538\" cy=\"-37.4767\" rx=\"65.1077\" ry=\"37.4533\"/>\n",
       "<text text-anchor=\"middle\" x=\"811.0538\" y=\"-48.7767\" font-family=\"Times,serif\" font-size=\"14.00\" fill=\"#000000\">id=8</text>\n",
       "<text text-anchor=\"middle\" x=\"811.0538\" y=\"-33.7767\" font-family=\"Times,serif\" font-size=\"14.00\" fill=\"#000000\">samples=20</text>\n",
       "<text text-anchor=\"middle\" x=\"811.0538\" y=\"-18.7767\" font-family=\"Times,serif\" font-size=\"14.00\" fill=\"#000000\">value=2.7578</text>\n",
       "</g>\n",
       "<!-- 3&#45;&gt;8 -->\n",
       "<g id=\"edge8\" class=\"edge\">\n",
       "<title>3&#45;&gt;8</title>\n",
       "<path fill=\"none\" stroke=\"#000000\" d=\"M756.6902,-110.9239C763.6501,-101.5207 771.6702,-90.6854 779.3757,-80.2749\"/>\n",
       "<polygon fill=\"#000000\" stroke=\"#000000\" points=\"782.3256,-82.1725 785.4617,-72.0525 776.6991,-78.008 782.3256,-82.1725\"/>\n",
       "</g>\n",
       "<!-- 13 -->\n",
       "<g id=\"node14\" class=\"node\">\n",
       "<title>13</title>\n",
       "<ellipse fill=\"none\" stroke=\"#000000\" cx=\"959.0538\" cy=\"-37.4767\" rx=\"65.1077\" ry=\"37.4533\"/>\n",
       "<text text-anchor=\"middle\" x=\"959.0538\" y=\"-48.7767\" font-family=\"Times,serif\" font-size=\"14.00\" fill=\"#000000\">id=13</text>\n",
       "<text text-anchor=\"middle\" x=\"959.0538\" y=\"-33.7767\" font-family=\"Times,serif\" font-size=\"14.00\" fill=\"#000000\">samples=116</text>\n",
       "<text text-anchor=\"middle\" x=\"959.0538\" y=\"-18.7767\" font-family=\"Times,serif\" font-size=\"14.00\" fill=\"#000000\">value=0.5858</text>\n",
       "</g>\n",
       "<!-- 4&#45;&gt;13 -->\n",
       "<g id=\"edge9\" class=\"edge\">\n",
       "<title>4&#45;&gt;13</title>\n",
       "<path fill=\"none\" stroke=\"#000000\" d=\"M959.0538,-110.9239C959.0538,-103.0239 959.0538,-94.113 959.0538,-85.2925\"/>\n",
       "<polygon fill=\"#000000\" stroke=\"#000000\" points=\"962.5539,-85.0454 959.0538,-75.0454 955.5539,-85.0455 962.5539,-85.0454\"/>\n",
       "</g>\n",
       "<!-- 14 -->\n",
       "<g id=\"node15\" class=\"node\">\n",
       "<title>14</title>\n",
       "<ellipse fill=\"none\" stroke=\"#000000\" cx=\"1107.0538\" cy=\"-37.4767\" rx=\"65.1077\" ry=\"37.4533\"/>\n",
       "<text text-anchor=\"middle\" x=\"1107.0538\" y=\"-48.7767\" font-family=\"Times,serif\" font-size=\"14.00\" fill=\"#000000\">id=14</text>\n",
       "<text text-anchor=\"middle\" x=\"1107.0538\" y=\"-33.7767\" font-family=\"Times,serif\" font-size=\"14.00\" fill=\"#000000\">samples=75</text>\n",
       "<text text-anchor=\"middle\" x=\"1107.0538\" y=\"-18.7767\" font-family=\"Times,serif\" font-size=\"14.00\" fill=\"#000000\">value=1.6348</text>\n",
       "</g>\n",
       "<!-- 4&#45;&gt;14 -->\n",
       "<g id=\"edge10\" class=\"edge\">\n",
       "<title>4&#45;&gt;14</title>\n",
       "<path fill=\"none\" stroke=\"#000000\" d=\"M998.3265,-110.9239C1016.0753,-98.9343 1037.2711,-84.6162 1056.2148,-71.8193\"/>\n",
       "<polygon fill=\"#000000\" stroke=\"#000000\" points=\"1058.4124,-74.5586 1064.7397,-66.0606 1054.494,-68.758 1058.4124,-74.5586\"/>\n",
       "</g>\n",
       "<!-- 11 -->\n",
       "<g id=\"node12\" class=\"node\">\n",
       "<title>11</title>\n",
       "<ellipse fill=\"none\" stroke=\"#000000\" cx=\"65.0538\" cy=\"-37.4767\" rx=\"65.1077\" ry=\"37.4533\"/>\n",
       "<text text-anchor=\"middle\" x=\"65.0538\" y=\"-48.7767\" font-family=\"Times,serif\" font-size=\"14.00\" fill=\"#000000\">id=11</text>\n",
       "<text text-anchor=\"middle\" x=\"65.0538\" y=\"-33.7767\" font-family=\"Times,serif\" font-size=\"14.00\" fill=\"#000000\">samples=90</text>\n",
       "<text text-anchor=\"middle\" x=\"65.0538\" y=\"-18.7767\" font-family=\"Times,serif\" font-size=\"14.00\" fill=\"#000000\">value=0.5966</text>\n",
       "</g>\n",
       "<!-- 5&#45;&gt;11 -->\n",
       "<g id=\"edge11\" class=\"edge\">\n",
       "<title>5&#45;&gt;11</title>\n",
       "<path fill=\"none\" stroke=\"#000000\" d=\"M175.985,-110.9239C157.7188,-98.8299 135.8742,-84.3666 116.419,-71.4854\"/>\n",
       "<polygon fill=\"#000000\" stroke=\"#000000\" points=\"118.2286,-68.4859 107.9583,-65.8836 114.3641,-74.3225 118.2286,-68.4859\"/>\n",
       "</g>\n",
       "<!-- 12 -->\n",
       "<g id=\"node13\" class=\"node\">\n",
       "<title>12</title>\n",
       "<ellipse fill=\"none\" stroke=\"#000000\" cx=\"216.0538\" cy=\"-37.4767\" rx=\"67.7647\" ry=\"37.4533\"/>\n",
       "<text text-anchor=\"middle\" x=\"216.0538\" y=\"-48.7767\" font-family=\"Times,serif\" font-size=\"14.00\" fill=\"#000000\">id=12</text>\n",
       "<text text-anchor=\"middle\" x=\"216.0538\" y=\"-33.7767\" font-family=\"Times,serif\" font-size=\"14.00\" fill=\"#000000\">samples=5279</text>\n",
       "<text text-anchor=\"middle\" x=\"216.0538\" y=\"-18.7767\" font-family=\"Times,serif\" font-size=\"14.00\" fill=\"#000000\">value=&#45;0.1190</text>\n",
       "</g>\n",
       "<!-- 5&#45;&gt;12 -->\n",
       "<g id=\"edge12\" class=\"edge\">\n",
       "<title>5&#45;&gt;12</title>\n",
       "<path fill=\"none\" stroke=\"#000000\" d=\"M216.0538,-110.9239C216.0538,-103.0239 216.0538,-94.113 216.0538,-85.2925\"/>\n",
       "<polygon fill=\"#000000\" stroke=\"#000000\" points=\"219.5539,-85.0454 216.0538,-75.0454 212.5539,-85.0455 219.5539,-85.0454\"/>\n",
       "</g>\n",
       "<!-- 9 -->\n",
       "<g id=\"node10\" class=\"node\">\n",
       "<title>9</title>\n",
       "<ellipse fill=\"none\" stroke=\"#000000\" cx=\"367.0538\" cy=\"-37.4767\" rx=\"65.1077\" ry=\"37.4533\"/>\n",
       "<text text-anchor=\"middle\" x=\"367.0538\" y=\"-48.7767\" font-family=\"Times,serif\" font-size=\"14.00\" fill=\"#000000\">id=9</text>\n",
       "<text text-anchor=\"middle\" x=\"367.0538\" y=\"-33.7767\" font-family=\"Times,serif\" font-size=\"14.00\" fill=\"#000000\">samples=46</text>\n",
       "<text text-anchor=\"middle\" x=\"367.0538\" y=\"-18.7767\" font-family=\"Times,serif\" font-size=\"14.00\" fill=\"#000000\">value=1.3013</text>\n",
       "</g>\n",
       "<!-- 6&#45;&gt;9 -->\n",
       "<g id=\"edge13\" class=\"edge\">\n",
       "<title>6&#45;&gt;9</title>\n",
       "<path fill=\"none\" stroke=\"#000000\" d=\"M421.4175,-110.9239C414.4575,-101.5207 406.4375,-90.6854 398.7319,-80.2749\"/>\n",
       "<polygon fill=\"#000000\" stroke=\"#000000\" points=\"401.4085,-78.008 392.6459,-72.0525 395.7821,-82.1725 401.4085,-78.008\"/>\n",
       "</g>\n",
       "<!-- 10 -->\n",
       "<g id=\"node11\" class=\"node\">\n",
       "<title>10</title>\n",
       "<ellipse fill=\"none\" stroke=\"#000000\" cx=\"515.0538\" cy=\"-37.4767\" rx=\"65.1077\" ry=\"37.4533\"/>\n",
       "<text text-anchor=\"middle\" x=\"515.0538\" y=\"-48.7767\" font-family=\"Times,serif\" font-size=\"14.00\" fill=\"#000000\">id=10</text>\n",
       "<text text-anchor=\"middle\" x=\"515.0538\" y=\"-33.7767\" font-family=\"Times,serif\" font-size=\"14.00\" fill=\"#000000\">samples=351</text>\n",
       "<text text-anchor=\"middle\" x=\"515.0538\" y=\"-18.7767\" font-family=\"Times,serif\" font-size=\"14.00\" fill=\"#000000\">value=0.2129</text>\n",
       "</g>\n",
       "<!-- 6&#45;&gt;10 -->\n",
       "<g id=\"edge14\" class=\"edge\">\n",
       "<title>6&#45;&gt;10</title>\n",
       "<path fill=\"none\" stroke=\"#000000\" d=\"M460.6902,-110.9239C467.6501,-101.5207 475.6702,-90.6854 483.3757,-80.2749\"/>\n",
       "<polygon fill=\"#000000\" stroke=\"#000000\" points=\"486.3256,-82.1725 489.4617,-72.0525 480.6991,-78.008 486.3256,-82.1725\"/>\n",
       "</g>\n",
       "</g>\n",
       "</svg>\n"
      ],
      "text/plain": [
       "<graphviz.dot.Digraph at 0x7fe397111518>"
      ]
     },
     "execution_count": 65,
     "metadata": {},
     "output_type": "execute_result"
    }
   ],
   "source": [
    "forest.show_tree(5)"
   ]
  },
  {
   "cell_type": "markdown",
   "id": "specified-setup",
   "metadata": {},
   "source": [
    "## 3. Stable neighbouhood\n",
    "\n",
    "Define metric over the siblings order of the tree. "
   ]
  },
  {
   "cell_type": "code",
   "execution_count": 104,
   "id": "juvenile-traveler",
   "metadata": {},
   "outputs": [],
   "source": [
    "from sklearn.metrics import pairwise_distances\n",
    "from scipy.spatial.distance import pdist, squareform\n",
    "from fastcluster import linkage\n",
    "\n",
    "def seriation(Z,N,cur_index):\n",
    "    '''\n",
    "        input:\n",
    "            - Z is a hierarchical tree (dendrogram)\n",
    "            - N is the number of points given to the clustering process\n",
    "            - cur_index is the position in the tree for the recursive traversal\n",
    "        output:\n",
    "            - order implied by the hierarchical tree Z\n",
    "            \n",
    "        seriation computes the order implied by a hierarchical tree (dendrogram)\n",
    "    '''\n",
    "    if cur_index < N:\n",
    "        return [cur_index]\n",
    "    else:\n",
    "        left = int(Z[cur_index-N,0])\n",
    "        right = int(Z[cur_index-N,1])\n",
    "        return (seriation(Z,N,left) + seriation(Z,N,right))\n",
    "    \n",
    "def compute_serial_matrix(dist_mat,method=\"ward\"):\n",
    "    '''\n",
    "        input:\n",
    "            - dist_mat is a distance matrix\n",
    "            - method = [\"ward\",\"single\",\"average\",\"complete\"]\n",
    "        output:\n",
    "            - seriated_dist is the input dist_mat,\n",
    "              but with re-ordered rows and columns\n",
    "              according to the seriation, i.e. the\n",
    "              order implied by the hierarchical tree\n",
    "            - res_order is the order implied by\n",
    "              the hierarhical tree\n",
    "            - res_linkage is the hierarhical tree (dendrogram)\n",
    "        \n",
    "        compute_serial_matrix transforms a distance matrix into \n",
    "        a sorted distance matrix according to the order implied \n",
    "        by the hierarchical tree (dendrogram)\n",
    "    '''\n",
    "    N = len(dist_mat)\n",
    "    flat_dist_mat = squareform(dist_mat)\n",
    "    res_linkage = linkage(flat_dist_mat, method=method,preserve_input=True)\n",
    "    res_order = seriation(res_linkage, N, N + N-2)\n",
    "    seriated_dist = np.zeros((N,N))\n",
    "    a,b = np.triu_indices(N,k=1)\n",
    "    seriated_dist[a,b] = dist_mat[ [res_order[i] for i in a], [res_order[j] for j in b]]\n",
    "    seriated_dist[b,a] = seriated_dist[a,b]\n",
    "    \n",
    "    return seriated_dist, res_order, res_linkage\n",
    "\n"
   ]
  },
  {
   "cell_type": "code",
   "execution_count": 58,
   "id": "thorough-governor",
   "metadata": {},
   "outputs": [],
   "source": [
    "def tree_distance_matrix(forest, tree_index, nrows=100):\n",
    "#     nrows = 100 # df.shape[0]\n",
    "    K = np.zeros((nrows, nrows))\n",
    "    for i in range(nrows):\n",
    "        for j in range(i+1,nrows):\n",
    "            K[i,j] = K[j,i] = forest.trees[tree_index].get_tree_distance(df.loc[i], df.loc[j])\n",
    "    return K"
   ]
  },
  {
   "cell_type": "code",
   "execution_count": 96,
   "id": "embedded-country",
   "metadata": {},
   "outputs": [],
   "source": [
    "K = []\n",
    "for tree_index in range(1,17):\n",
    "    K.append(tree_distance_matrix(forest, tree_index, 1000))"
   ]
  },
  {
   "cell_type": "code",
   "execution_count": 114,
   "id": "bulgarian-mechanism",
   "metadata": {},
   "outputs": [],
   "source": [
    "number_trees = len(K)\n",
    "S = np.zeros((number_trees, number_trees))\n",
    "for i in range(number_trees):\n",
    "    for j in range(i, number_trees):\n",
    "        S[i,j] = S[j,i] = np.mean(np.abs(K[i] - K[j]))# np.linalg.norm(K[i] - K[j])"
   ]
  },
  {
   "cell_type": "code",
   "execution_count": 62,
   "id": "confused-climate",
   "metadata": {},
   "outputs": [],
   "source": [
    "import plotly.express as px"
   ]
  },
  {
   "cell_type": "code",
   "execution_count": 95,
   "id": "addressed-rover",
   "metadata": {},
   "outputs": [
    {
     "data": {
      "application/vnd.plotly.v1+json": {
       "config": {
        "plotlyServerURL": "https://plot.ly"
       },
       "data": [
        {
         "coloraxis": "coloraxis",
         "hovertemplate": "x: %{x}<br>y: %{y}<br>color: %{z}<extra></extra>",
         "name": "0",
         "type": "heatmap",
         "xaxis": "x",
         "yaxis": "y",
         "z": [
          [
           0,
           0.1492,
           0.0448,
           0.5272,
           0.0448,
           0.0456,
           0.4328,
           0.387,
           0.1488,
           0.387,
           0.3336,
           0.1836,
           0.6592,
           0.617,
           0.192,
           0.3454
          ],
          [
           0.1492,
           0,
           0.1908,
           0.3948,
           0.1908,
           0.1908,
           0.2884,
           0.2466,
           0.0004,
           0.2466,
           0.1908,
           0.0368,
           0.6596,
           0.4862,
           0.3316,
           0.2042
          ],
          [
           0.0448,
           0.1908,
           0,
           0.4832,
           0,
           0.0016,
           0.4752,
           0.4242,
           0.1904,
           0.4242,
           0.2896,
           0.2252,
           0.6144,
           0.6086,
           0.1472,
           0.3834
          ],
          [
           0.5272,
           0.3948,
           0.4832,
           0,
           0.4832,
           0.4824,
           0.5416,
           0.4242,
           0.3944,
           0.4242,
           0.3592,
           0.3596,
           0.2672,
           0.305,
           0.608,
           0.385
          ],
          [
           0.0448,
           0.1908,
           0,
           0.4832,
           0,
           0.0016,
           0.4752,
           0.4242,
           0.1904,
           0.4242,
           0.2896,
           0.2252,
           0.6144,
           0.6086,
           0.1472,
           0.3834
          ],
          [
           0.0456,
           0.1908,
           0.0016,
           0.4824,
           0.0016,
           0,
           0.476,
           0.4242,
           0.1912,
           0.4242,
           0.288,
           0.226,
           0.616,
           0.6094,
           0.1488,
           0.3834
          ],
          [
           0.4328,
           0.2884,
           0.4752,
           0.5416,
           0.4752,
           0.476,
           0,
           0.3838,
           0.288,
           0.3838,
           0.4056,
           0.3212,
           0.8064,
           0.5214,
           0.6128,
           0.379
          ],
          [
           0.387,
           0.2466,
           0.4242,
           0.4242,
           0.4242,
           0.4242,
           0.3838,
           0,
           0.2462,
           0,
           0.1394,
           0.2098,
           0.6778,
           0.302,
           0.557,
           0.0428
          ],
          [
           0.1488,
           0.0004,
           0.1904,
           0.3944,
           0.1904,
           0.1912,
           0.288,
           0.2462,
           0,
           0.2462,
           0.1912,
           0.0364,
           0.6592,
           0.4866,
           0.3312,
           0.2046
          ],
          [
           0.387,
           0.2466,
           0.4242,
           0.4242,
           0.4242,
           0.4242,
           0.3838,
           0,
           0.2462,
           0,
           0.1394,
           0.2098,
           0.6778,
           0.302,
           0.557,
           0.0428
          ],
          [
           0.3336,
           0.1908,
           0.2896,
           0.3592,
           0.2896,
           0.288,
           0.4056,
           0.1394,
           0.1912,
           0.1394,
           0,
           0.2276,
           0.6128,
           0.3454,
           0.424,
           0.0986
          ],
          [
           0.1836,
           0.0368,
           0.2252,
           0.3596,
           0.2252,
           0.226,
           0.3212,
           0.2098,
           0.0364,
           0.2098,
           0.2276,
           0,
           0.6244,
           0.4518,
           0.3644,
           0.1682
          ],
          [
           0.6592,
           0.6596,
           0.6144,
           0.2672,
           0.6144,
           0.616,
           0.8064,
           0.6778,
           0.6592,
           0.6778,
           0.6128,
           0.6244,
           0,
           0.5434,
           0.6064,
           0.637
          ],
          [
           0.617,
           0.4862,
           0.6086,
           0.305,
           0.6086,
           0.6094,
           0.5214,
           0.302,
           0.4866,
           0.302,
           0.3454,
           0.4518,
           0.5434,
           0,
           0.731,
           0.2968
          ],
          [
           0.192,
           0.3316,
           0.1472,
           0.608,
           0.1472,
           0.1488,
           0.6128,
           0.557,
           0.3312,
           0.557,
           0.424,
           0.3644,
           0.6064,
           0.731,
           0,
           0.5162
          ],
          [
           0.3454,
           0.2042,
           0.3834,
           0.385,
           0.3834,
           0.3834,
           0.379,
           0.0428,
           0.2046,
           0.0428,
           0.0986,
           0.1682,
           0.637,
           0.2968,
           0.5162,
           0
          ]
         ]
        }
       ],
       "layout": {
        "coloraxis": {
         "colorscale": [
          [
           0,
           "#0d0887"
          ],
          [
           0.1111111111111111,
           "#46039f"
          ],
          [
           0.2222222222222222,
           "#7201a8"
          ],
          [
           0.3333333333333333,
           "#9c179e"
          ],
          [
           0.4444444444444444,
           "#bd3786"
          ],
          [
           0.5555555555555556,
           "#d8576b"
          ],
          [
           0.6666666666666666,
           "#ed7953"
          ],
          [
           0.7777777777777778,
           "#fb9f3a"
          ],
          [
           0.8888888888888888,
           "#fdca26"
          ],
          [
           1,
           "#f0f921"
          ]
         ]
        },
        "margin": {
         "t": 60
        },
        "template": {
         "data": {
          "bar": [
           {
            "error_x": {
             "color": "#2a3f5f"
            },
            "error_y": {
             "color": "#2a3f5f"
            },
            "marker": {
             "line": {
              "color": "#E5ECF6",
              "width": 0.5
             }
            },
            "type": "bar"
           }
          ],
          "barpolar": [
           {
            "marker": {
             "line": {
              "color": "#E5ECF6",
              "width": 0.5
             }
            },
            "type": "barpolar"
           }
          ],
          "carpet": [
           {
            "aaxis": {
             "endlinecolor": "#2a3f5f",
             "gridcolor": "white",
             "linecolor": "white",
             "minorgridcolor": "white",
             "startlinecolor": "#2a3f5f"
            },
            "baxis": {
             "endlinecolor": "#2a3f5f",
             "gridcolor": "white",
             "linecolor": "white",
             "minorgridcolor": "white",
             "startlinecolor": "#2a3f5f"
            },
            "type": "carpet"
           }
          ],
          "choropleth": [
           {
            "colorbar": {
             "outlinewidth": 0,
             "ticks": ""
            },
            "type": "choropleth"
           }
          ],
          "contour": [
           {
            "colorbar": {
             "outlinewidth": 0,
             "ticks": ""
            },
            "colorscale": [
             [
              0,
              "#0d0887"
             ],
             [
              0.1111111111111111,
              "#46039f"
             ],
             [
              0.2222222222222222,
              "#7201a8"
             ],
             [
              0.3333333333333333,
              "#9c179e"
             ],
             [
              0.4444444444444444,
              "#bd3786"
             ],
             [
              0.5555555555555556,
              "#d8576b"
             ],
             [
              0.6666666666666666,
              "#ed7953"
             ],
             [
              0.7777777777777778,
              "#fb9f3a"
             ],
             [
              0.8888888888888888,
              "#fdca26"
             ],
             [
              1,
              "#f0f921"
             ]
            ],
            "type": "contour"
           }
          ],
          "contourcarpet": [
           {
            "colorbar": {
             "outlinewidth": 0,
             "ticks": ""
            },
            "type": "contourcarpet"
           }
          ],
          "heatmap": [
           {
            "colorbar": {
             "outlinewidth": 0,
             "ticks": ""
            },
            "colorscale": [
             [
              0,
              "#0d0887"
             ],
             [
              0.1111111111111111,
              "#46039f"
             ],
             [
              0.2222222222222222,
              "#7201a8"
             ],
             [
              0.3333333333333333,
              "#9c179e"
             ],
             [
              0.4444444444444444,
              "#bd3786"
             ],
             [
              0.5555555555555556,
              "#d8576b"
             ],
             [
              0.6666666666666666,
              "#ed7953"
             ],
             [
              0.7777777777777778,
              "#fb9f3a"
             ],
             [
              0.8888888888888888,
              "#fdca26"
             ],
             [
              1,
              "#f0f921"
             ]
            ],
            "type": "heatmap"
           }
          ],
          "heatmapgl": [
           {
            "colorbar": {
             "outlinewidth": 0,
             "ticks": ""
            },
            "colorscale": [
             [
              0,
              "#0d0887"
             ],
             [
              0.1111111111111111,
              "#46039f"
             ],
             [
              0.2222222222222222,
              "#7201a8"
             ],
             [
              0.3333333333333333,
              "#9c179e"
             ],
             [
              0.4444444444444444,
              "#bd3786"
             ],
             [
              0.5555555555555556,
              "#d8576b"
             ],
             [
              0.6666666666666666,
              "#ed7953"
             ],
             [
              0.7777777777777778,
              "#fb9f3a"
             ],
             [
              0.8888888888888888,
              "#fdca26"
             ],
             [
              1,
              "#f0f921"
             ]
            ],
            "type": "heatmapgl"
           }
          ],
          "histogram": [
           {
            "marker": {
             "colorbar": {
              "outlinewidth": 0,
              "ticks": ""
             }
            },
            "type": "histogram"
           }
          ],
          "histogram2d": [
           {
            "colorbar": {
             "outlinewidth": 0,
             "ticks": ""
            },
            "colorscale": [
             [
              0,
              "#0d0887"
             ],
             [
              0.1111111111111111,
              "#46039f"
             ],
             [
              0.2222222222222222,
              "#7201a8"
             ],
             [
              0.3333333333333333,
              "#9c179e"
             ],
             [
              0.4444444444444444,
              "#bd3786"
             ],
             [
              0.5555555555555556,
              "#d8576b"
             ],
             [
              0.6666666666666666,
              "#ed7953"
             ],
             [
              0.7777777777777778,
              "#fb9f3a"
             ],
             [
              0.8888888888888888,
              "#fdca26"
             ],
             [
              1,
              "#f0f921"
             ]
            ],
            "type": "histogram2d"
           }
          ],
          "histogram2dcontour": [
           {
            "colorbar": {
             "outlinewidth": 0,
             "ticks": ""
            },
            "colorscale": [
             [
              0,
              "#0d0887"
             ],
             [
              0.1111111111111111,
              "#46039f"
             ],
             [
              0.2222222222222222,
              "#7201a8"
             ],
             [
              0.3333333333333333,
              "#9c179e"
             ],
             [
              0.4444444444444444,
              "#bd3786"
             ],
             [
              0.5555555555555556,
              "#d8576b"
             ],
             [
              0.6666666666666666,
              "#ed7953"
             ],
             [
              0.7777777777777778,
              "#fb9f3a"
             ],
             [
              0.8888888888888888,
              "#fdca26"
             ],
             [
              1,
              "#f0f921"
             ]
            ],
            "type": "histogram2dcontour"
           }
          ],
          "mesh3d": [
           {
            "colorbar": {
             "outlinewidth": 0,
             "ticks": ""
            },
            "type": "mesh3d"
           }
          ],
          "parcoords": [
           {
            "line": {
             "colorbar": {
              "outlinewidth": 0,
              "ticks": ""
             }
            },
            "type": "parcoords"
           }
          ],
          "pie": [
           {
            "automargin": true,
            "type": "pie"
           }
          ],
          "scatter": [
           {
            "marker": {
             "colorbar": {
              "outlinewidth": 0,
              "ticks": ""
             }
            },
            "type": "scatter"
           }
          ],
          "scatter3d": [
           {
            "line": {
             "colorbar": {
              "outlinewidth": 0,
              "ticks": ""
             }
            },
            "marker": {
             "colorbar": {
              "outlinewidth": 0,
              "ticks": ""
             }
            },
            "type": "scatter3d"
           }
          ],
          "scattercarpet": [
           {
            "marker": {
             "colorbar": {
              "outlinewidth": 0,
              "ticks": ""
             }
            },
            "type": "scattercarpet"
           }
          ],
          "scattergeo": [
           {
            "marker": {
             "colorbar": {
              "outlinewidth": 0,
              "ticks": ""
             }
            },
            "type": "scattergeo"
           }
          ],
          "scattergl": [
           {
            "marker": {
             "colorbar": {
              "outlinewidth": 0,
              "ticks": ""
             }
            },
            "type": "scattergl"
           }
          ],
          "scattermapbox": [
           {
            "marker": {
             "colorbar": {
              "outlinewidth": 0,
              "ticks": ""
             }
            },
            "type": "scattermapbox"
           }
          ],
          "scatterpolar": [
           {
            "marker": {
             "colorbar": {
              "outlinewidth": 0,
              "ticks": ""
             }
            },
            "type": "scatterpolar"
           }
          ],
          "scatterpolargl": [
           {
            "marker": {
             "colorbar": {
              "outlinewidth": 0,
              "ticks": ""
             }
            },
            "type": "scatterpolargl"
           }
          ],
          "scatterternary": [
           {
            "marker": {
             "colorbar": {
              "outlinewidth": 0,
              "ticks": ""
             }
            },
            "type": "scatterternary"
           }
          ],
          "surface": [
           {
            "colorbar": {
             "outlinewidth": 0,
             "ticks": ""
            },
            "colorscale": [
             [
              0,
              "#0d0887"
             ],
             [
              0.1111111111111111,
              "#46039f"
             ],
             [
              0.2222222222222222,
              "#7201a8"
             ],
             [
              0.3333333333333333,
              "#9c179e"
             ],
             [
              0.4444444444444444,
              "#bd3786"
             ],
             [
              0.5555555555555556,
              "#d8576b"
             ],
             [
              0.6666666666666666,
              "#ed7953"
             ],
             [
              0.7777777777777778,
              "#fb9f3a"
             ],
             [
              0.8888888888888888,
              "#fdca26"
             ],
             [
              1,
              "#f0f921"
             ]
            ],
            "type": "surface"
           }
          ],
          "table": [
           {
            "cells": {
             "fill": {
              "color": "#EBF0F8"
             },
             "line": {
              "color": "white"
             }
            },
            "header": {
             "fill": {
              "color": "#C8D4E3"
             },
             "line": {
              "color": "white"
             }
            },
            "type": "table"
           }
          ]
         },
         "layout": {
          "annotationdefaults": {
           "arrowcolor": "#2a3f5f",
           "arrowhead": 0,
           "arrowwidth": 1
          },
          "autotypenumbers": "strict",
          "coloraxis": {
           "colorbar": {
            "outlinewidth": 0,
            "ticks": ""
           }
          },
          "colorscale": {
           "diverging": [
            [
             0,
             "#8e0152"
            ],
            [
             0.1,
             "#c51b7d"
            ],
            [
             0.2,
             "#de77ae"
            ],
            [
             0.3,
             "#f1b6da"
            ],
            [
             0.4,
             "#fde0ef"
            ],
            [
             0.5,
             "#f7f7f7"
            ],
            [
             0.6,
             "#e6f5d0"
            ],
            [
             0.7,
             "#b8e186"
            ],
            [
             0.8,
             "#7fbc41"
            ],
            [
             0.9,
             "#4d9221"
            ],
            [
             1,
             "#276419"
            ]
           ],
           "sequential": [
            [
             0,
             "#0d0887"
            ],
            [
             0.1111111111111111,
             "#46039f"
            ],
            [
             0.2222222222222222,
             "#7201a8"
            ],
            [
             0.3333333333333333,
             "#9c179e"
            ],
            [
             0.4444444444444444,
             "#bd3786"
            ],
            [
             0.5555555555555556,
             "#d8576b"
            ],
            [
             0.6666666666666666,
             "#ed7953"
            ],
            [
             0.7777777777777778,
             "#fb9f3a"
            ],
            [
             0.8888888888888888,
             "#fdca26"
            ],
            [
             1,
             "#f0f921"
            ]
           ],
           "sequentialminus": [
            [
             0,
             "#0d0887"
            ],
            [
             0.1111111111111111,
             "#46039f"
            ],
            [
             0.2222222222222222,
             "#7201a8"
            ],
            [
             0.3333333333333333,
             "#9c179e"
            ],
            [
             0.4444444444444444,
             "#bd3786"
            ],
            [
             0.5555555555555556,
             "#d8576b"
            ],
            [
             0.6666666666666666,
             "#ed7953"
            ],
            [
             0.7777777777777778,
             "#fb9f3a"
            ],
            [
             0.8888888888888888,
             "#fdca26"
            ],
            [
             1,
             "#f0f921"
            ]
           ]
          },
          "colorway": [
           "#636efa",
           "#EF553B",
           "#00cc96",
           "#ab63fa",
           "#FFA15A",
           "#19d3f3",
           "#FF6692",
           "#B6E880",
           "#FF97FF",
           "#FECB52"
          ],
          "font": {
           "color": "#2a3f5f"
          },
          "geo": {
           "bgcolor": "white",
           "lakecolor": "white",
           "landcolor": "#E5ECF6",
           "showlakes": true,
           "showland": true,
           "subunitcolor": "white"
          },
          "hoverlabel": {
           "align": "left"
          },
          "hovermode": "closest",
          "mapbox": {
           "style": "light"
          },
          "paper_bgcolor": "white",
          "plot_bgcolor": "#E5ECF6",
          "polar": {
           "angularaxis": {
            "gridcolor": "white",
            "linecolor": "white",
            "ticks": ""
           },
           "bgcolor": "#E5ECF6",
           "radialaxis": {
            "gridcolor": "white",
            "linecolor": "white",
            "ticks": ""
           }
          },
          "scene": {
           "xaxis": {
            "backgroundcolor": "#E5ECF6",
            "gridcolor": "white",
            "gridwidth": 2,
            "linecolor": "white",
            "showbackground": true,
            "ticks": "",
            "zerolinecolor": "white"
           },
           "yaxis": {
            "backgroundcolor": "#E5ECF6",
            "gridcolor": "white",
            "gridwidth": 2,
            "linecolor": "white",
            "showbackground": true,
            "ticks": "",
            "zerolinecolor": "white"
           },
           "zaxis": {
            "backgroundcolor": "#E5ECF6",
            "gridcolor": "white",
            "gridwidth": 2,
            "linecolor": "white",
            "showbackground": true,
            "ticks": "",
            "zerolinecolor": "white"
           }
          },
          "shapedefaults": {
           "line": {
            "color": "#2a3f5f"
           }
          },
          "ternary": {
           "aaxis": {
            "gridcolor": "white",
            "linecolor": "white",
            "ticks": ""
           },
           "baxis": {
            "gridcolor": "white",
            "linecolor": "white",
            "ticks": ""
           },
           "bgcolor": "#E5ECF6",
           "caxis": {
            "gridcolor": "white",
            "linecolor": "white",
            "ticks": ""
           }
          },
          "title": {
           "x": 0.05
          },
          "xaxis": {
           "automargin": true,
           "gridcolor": "white",
           "linecolor": "white",
           "ticks": "",
           "title": {
            "standoff": 15
           },
           "zerolinecolor": "white",
           "zerolinewidth": 2
          },
          "yaxis": {
           "automargin": true,
           "gridcolor": "white",
           "linecolor": "white",
           "ticks": "",
           "title": {
            "standoff": 15
           },
           "zerolinecolor": "white",
           "zerolinewidth": 2
          }
         }
        },
        "xaxis": {
         "anchor": "y",
         "constrain": "domain",
         "domain": [
          0,
          1
         ],
         "scaleanchor": "y"
        },
        "yaxis": {
         "anchor": "x",
         "autorange": "reversed",
         "constrain": "domain",
         "domain": [
          0,
          1
         ]
        }
       }
      },
      "text/html": [
       "<div>                            <div id=\"44514526-9d93-4be0-93d7-3dbb4e93fc55\" class=\"plotly-graph-div\" style=\"height:525px; width:100%;\"></div>            <script type=\"text/javascript\">                require([\"plotly\"], function(Plotly) {                    window.PLOTLYENV=window.PLOTLYENV || {};                                    if (document.getElementById(\"44514526-9d93-4be0-93d7-3dbb4e93fc55\")) {                    Plotly.newPlot(                        \"44514526-9d93-4be0-93d7-3dbb4e93fc55\",                        [{\"coloraxis\": \"coloraxis\", \"hovertemplate\": \"x: %{x}<br>y: %{y}<br>color: %{z}<extra></extra>\", \"name\": \"0\", \"type\": \"heatmap\", \"xaxis\": \"x\", \"yaxis\": \"y\", \"z\": [[0.0, 0.1492, 0.0448, 0.5272, 0.0448, 0.0456, 0.4328, 0.387, 0.1488, 0.387, 0.3336, 0.1836, 0.6592, 0.617, 0.192, 0.3454], [0.1492, 0.0, 0.1908, 0.3948, 0.1908, 0.1908, 0.2884, 0.2466, 0.0004, 0.2466, 0.1908, 0.0368, 0.6596, 0.4862, 0.3316, 0.2042], [0.0448, 0.1908, 0.0, 0.4832, 0.0, 0.0016, 0.4752, 0.4242, 0.1904, 0.4242, 0.2896, 0.2252, 0.6144, 0.6086, 0.1472, 0.3834], [0.5272, 0.3948, 0.4832, 0.0, 0.4832, 0.4824, 0.5416, 0.4242, 0.3944, 0.4242, 0.3592, 0.3596, 0.2672, 0.305, 0.608, 0.385], [0.0448, 0.1908, 0.0, 0.4832, 0.0, 0.0016, 0.4752, 0.4242, 0.1904, 0.4242, 0.2896, 0.2252, 0.6144, 0.6086, 0.1472, 0.3834], [0.0456, 0.1908, 0.0016, 0.4824, 0.0016, 0.0, 0.476, 0.4242, 0.1912, 0.4242, 0.288, 0.226, 0.616, 0.6094, 0.1488, 0.3834], [0.4328, 0.2884, 0.4752, 0.5416, 0.4752, 0.476, 0.0, 0.3838, 0.288, 0.3838, 0.4056, 0.3212, 0.8064, 0.5214, 0.6128, 0.379], [0.387, 0.2466, 0.4242, 0.4242, 0.4242, 0.4242, 0.3838, 0.0, 0.2462, 0.0, 0.1394, 0.2098, 0.6778, 0.302, 0.557, 0.0428], [0.1488, 0.0004, 0.1904, 0.3944, 0.1904, 0.1912, 0.288, 0.2462, 0.0, 0.2462, 0.1912, 0.0364, 0.6592, 0.4866, 0.3312, 0.2046], [0.387, 0.2466, 0.4242, 0.4242, 0.4242, 0.4242, 0.3838, 0.0, 0.2462, 0.0, 0.1394, 0.2098, 0.6778, 0.302, 0.557, 0.0428], [0.3336, 0.1908, 0.2896, 0.3592, 0.2896, 0.288, 0.4056, 0.1394, 0.1912, 0.1394, 0.0, 0.2276, 0.6128, 0.3454, 0.424, 0.0986], [0.1836, 0.0368, 0.2252, 0.3596, 0.2252, 0.226, 0.3212, 0.2098, 0.0364, 0.2098, 0.2276, 0.0, 0.6244, 0.4518, 0.3644, 0.1682], [0.6592, 0.6596, 0.6144, 0.2672, 0.6144, 0.616, 0.8064, 0.6778, 0.6592, 0.6778, 0.6128, 0.6244, 0.0, 0.5434, 0.6064, 0.637], [0.617, 0.4862, 0.6086, 0.305, 0.6086, 0.6094, 0.5214, 0.302, 0.4866, 0.302, 0.3454, 0.4518, 0.5434, 0.0, 0.731, 0.2968], [0.192, 0.3316, 0.1472, 0.608, 0.1472, 0.1488, 0.6128, 0.557, 0.3312, 0.557, 0.424, 0.3644, 0.6064, 0.731, 0.0, 0.5162], [0.3454, 0.2042, 0.3834, 0.385, 0.3834, 0.3834, 0.379, 0.0428, 0.2046, 0.0428, 0.0986, 0.1682, 0.637, 0.2968, 0.5162, 0.0]]}],                        {\"coloraxis\": {\"colorscale\": [[0.0, \"#0d0887\"], [0.1111111111111111, \"#46039f\"], [0.2222222222222222, \"#7201a8\"], [0.3333333333333333, \"#9c179e\"], [0.4444444444444444, \"#bd3786\"], [0.5555555555555556, \"#d8576b\"], [0.6666666666666666, \"#ed7953\"], [0.7777777777777778, \"#fb9f3a\"], [0.8888888888888888, \"#fdca26\"], [1.0, \"#f0f921\"]]}, \"margin\": {\"t\": 60}, \"template\": {\"data\": {\"bar\": [{\"error_x\": {\"color\": \"#2a3f5f\"}, \"error_y\": {\"color\": \"#2a3f5f\"}, \"marker\": {\"line\": {\"color\": \"#E5ECF6\", \"width\": 0.5}}, \"type\": \"bar\"}], \"barpolar\": [{\"marker\": {\"line\": {\"color\": \"#E5ECF6\", \"width\": 0.5}}, \"type\": \"barpolar\"}], \"carpet\": [{\"aaxis\": {\"endlinecolor\": \"#2a3f5f\", \"gridcolor\": \"white\", \"linecolor\": \"white\", \"minorgridcolor\": \"white\", \"startlinecolor\": \"#2a3f5f\"}, \"baxis\": {\"endlinecolor\": \"#2a3f5f\", \"gridcolor\": \"white\", \"linecolor\": \"white\", \"minorgridcolor\": \"white\", \"startlinecolor\": \"#2a3f5f\"}, \"type\": \"carpet\"}], \"choropleth\": [{\"colorbar\": {\"outlinewidth\": 0, \"ticks\": \"\"}, \"type\": \"choropleth\"}], \"contour\": [{\"colorbar\": {\"outlinewidth\": 0, \"ticks\": \"\"}, \"colorscale\": [[0.0, \"#0d0887\"], [0.1111111111111111, \"#46039f\"], [0.2222222222222222, \"#7201a8\"], [0.3333333333333333, \"#9c179e\"], [0.4444444444444444, \"#bd3786\"], [0.5555555555555556, \"#d8576b\"], [0.6666666666666666, \"#ed7953\"], [0.7777777777777778, \"#fb9f3a\"], [0.8888888888888888, \"#fdca26\"], [1.0, \"#f0f921\"]], \"type\": \"contour\"}], \"contourcarpet\": [{\"colorbar\": {\"outlinewidth\": 0, \"ticks\": \"\"}, \"type\": \"contourcarpet\"}], \"heatmap\": [{\"colorbar\": {\"outlinewidth\": 0, \"ticks\": \"\"}, \"colorscale\": [[0.0, \"#0d0887\"], [0.1111111111111111, \"#46039f\"], [0.2222222222222222, \"#7201a8\"], [0.3333333333333333, \"#9c179e\"], [0.4444444444444444, \"#bd3786\"], [0.5555555555555556, \"#d8576b\"], [0.6666666666666666, \"#ed7953\"], [0.7777777777777778, \"#fb9f3a\"], [0.8888888888888888, \"#fdca26\"], [1.0, \"#f0f921\"]], \"type\": \"heatmap\"}], \"heatmapgl\": [{\"colorbar\": {\"outlinewidth\": 0, \"ticks\": \"\"}, \"colorscale\": [[0.0, \"#0d0887\"], [0.1111111111111111, \"#46039f\"], [0.2222222222222222, \"#7201a8\"], [0.3333333333333333, \"#9c179e\"], [0.4444444444444444, \"#bd3786\"], [0.5555555555555556, \"#d8576b\"], [0.6666666666666666, \"#ed7953\"], [0.7777777777777778, \"#fb9f3a\"], [0.8888888888888888, \"#fdca26\"], [1.0, \"#f0f921\"]], \"type\": \"heatmapgl\"}], \"histogram\": [{\"marker\": {\"colorbar\": {\"outlinewidth\": 0, \"ticks\": \"\"}}, \"type\": \"histogram\"}], \"histogram2d\": [{\"colorbar\": {\"outlinewidth\": 0, \"ticks\": \"\"}, \"colorscale\": [[0.0, \"#0d0887\"], [0.1111111111111111, \"#46039f\"], [0.2222222222222222, \"#7201a8\"], [0.3333333333333333, \"#9c179e\"], [0.4444444444444444, \"#bd3786\"], [0.5555555555555556, \"#d8576b\"], [0.6666666666666666, \"#ed7953\"], [0.7777777777777778, \"#fb9f3a\"], [0.8888888888888888, \"#fdca26\"], [1.0, \"#f0f921\"]], \"type\": \"histogram2d\"}], \"histogram2dcontour\": [{\"colorbar\": {\"outlinewidth\": 0, \"ticks\": \"\"}, \"colorscale\": [[0.0, \"#0d0887\"], [0.1111111111111111, \"#46039f\"], [0.2222222222222222, \"#7201a8\"], [0.3333333333333333, \"#9c179e\"], [0.4444444444444444, \"#bd3786\"], [0.5555555555555556, \"#d8576b\"], [0.6666666666666666, \"#ed7953\"], [0.7777777777777778, \"#fb9f3a\"], [0.8888888888888888, \"#fdca26\"], [1.0, \"#f0f921\"]], \"type\": \"histogram2dcontour\"}], \"mesh3d\": [{\"colorbar\": {\"outlinewidth\": 0, \"ticks\": \"\"}, \"type\": \"mesh3d\"}], \"parcoords\": [{\"line\": {\"colorbar\": {\"outlinewidth\": 0, \"ticks\": \"\"}}, \"type\": \"parcoords\"}], \"pie\": [{\"automargin\": true, \"type\": \"pie\"}], \"scatter\": [{\"marker\": {\"colorbar\": {\"outlinewidth\": 0, \"ticks\": \"\"}}, \"type\": \"scatter\"}], \"scatter3d\": [{\"line\": {\"colorbar\": {\"outlinewidth\": 0, \"ticks\": \"\"}}, \"marker\": {\"colorbar\": {\"outlinewidth\": 0, \"ticks\": \"\"}}, \"type\": \"scatter3d\"}], \"scattercarpet\": [{\"marker\": {\"colorbar\": {\"outlinewidth\": 0, \"ticks\": \"\"}}, \"type\": \"scattercarpet\"}], \"scattergeo\": [{\"marker\": {\"colorbar\": {\"outlinewidth\": 0, \"ticks\": \"\"}}, \"type\": \"scattergeo\"}], \"scattergl\": [{\"marker\": {\"colorbar\": {\"outlinewidth\": 0, \"ticks\": \"\"}}, \"type\": \"scattergl\"}], \"scattermapbox\": [{\"marker\": {\"colorbar\": {\"outlinewidth\": 0, \"ticks\": \"\"}}, \"type\": \"scattermapbox\"}], \"scatterpolar\": [{\"marker\": {\"colorbar\": {\"outlinewidth\": 0, \"ticks\": \"\"}}, \"type\": \"scatterpolar\"}], \"scatterpolargl\": [{\"marker\": {\"colorbar\": {\"outlinewidth\": 0, \"ticks\": \"\"}}, \"type\": \"scatterpolargl\"}], \"scatterternary\": [{\"marker\": {\"colorbar\": {\"outlinewidth\": 0, \"ticks\": \"\"}}, \"type\": \"scatterternary\"}], \"surface\": [{\"colorbar\": {\"outlinewidth\": 0, \"ticks\": \"\"}, \"colorscale\": [[0.0, \"#0d0887\"], [0.1111111111111111, \"#46039f\"], [0.2222222222222222, \"#7201a8\"], [0.3333333333333333, \"#9c179e\"], [0.4444444444444444, \"#bd3786\"], [0.5555555555555556, \"#d8576b\"], [0.6666666666666666, \"#ed7953\"], [0.7777777777777778, \"#fb9f3a\"], [0.8888888888888888, \"#fdca26\"], [1.0, \"#f0f921\"]], \"type\": \"surface\"}], \"table\": [{\"cells\": {\"fill\": {\"color\": \"#EBF0F8\"}, \"line\": {\"color\": \"white\"}}, \"header\": {\"fill\": {\"color\": \"#C8D4E3\"}, \"line\": {\"color\": \"white\"}}, \"type\": \"table\"}]}, \"layout\": {\"annotationdefaults\": {\"arrowcolor\": \"#2a3f5f\", \"arrowhead\": 0, \"arrowwidth\": 1}, \"autotypenumbers\": \"strict\", \"coloraxis\": {\"colorbar\": {\"outlinewidth\": 0, \"ticks\": \"\"}}, \"colorscale\": {\"diverging\": [[0, \"#8e0152\"], [0.1, \"#c51b7d\"], [0.2, \"#de77ae\"], [0.3, \"#f1b6da\"], [0.4, \"#fde0ef\"], [0.5, \"#f7f7f7\"], [0.6, \"#e6f5d0\"], [0.7, \"#b8e186\"], [0.8, \"#7fbc41\"], [0.9, \"#4d9221\"], [1, \"#276419\"]], \"sequential\": [[0.0, \"#0d0887\"], [0.1111111111111111, \"#46039f\"], [0.2222222222222222, \"#7201a8\"], [0.3333333333333333, \"#9c179e\"], [0.4444444444444444, \"#bd3786\"], [0.5555555555555556, \"#d8576b\"], [0.6666666666666666, \"#ed7953\"], [0.7777777777777778, \"#fb9f3a\"], [0.8888888888888888, \"#fdca26\"], [1.0, \"#f0f921\"]], \"sequentialminus\": [[0.0, \"#0d0887\"], [0.1111111111111111, \"#46039f\"], [0.2222222222222222, \"#7201a8\"], [0.3333333333333333, \"#9c179e\"], [0.4444444444444444, \"#bd3786\"], [0.5555555555555556, \"#d8576b\"], [0.6666666666666666, \"#ed7953\"], [0.7777777777777778, \"#fb9f3a\"], [0.8888888888888888, \"#fdca26\"], [1.0, \"#f0f921\"]]}, \"colorway\": [\"#636efa\", \"#EF553B\", \"#00cc96\", \"#ab63fa\", \"#FFA15A\", \"#19d3f3\", \"#FF6692\", \"#B6E880\", \"#FF97FF\", \"#FECB52\"], \"font\": {\"color\": \"#2a3f5f\"}, \"geo\": {\"bgcolor\": \"white\", \"lakecolor\": \"white\", \"landcolor\": \"#E5ECF6\", \"showlakes\": true, \"showland\": true, \"subunitcolor\": \"white\"}, \"hoverlabel\": {\"align\": \"left\"}, \"hovermode\": \"closest\", \"mapbox\": {\"style\": \"light\"}, \"paper_bgcolor\": \"white\", \"plot_bgcolor\": \"#E5ECF6\", \"polar\": {\"angularaxis\": {\"gridcolor\": \"white\", \"linecolor\": \"white\", \"ticks\": \"\"}, \"bgcolor\": \"#E5ECF6\", \"radialaxis\": {\"gridcolor\": \"white\", \"linecolor\": \"white\", \"ticks\": \"\"}}, \"scene\": {\"xaxis\": {\"backgroundcolor\": \"#E5ECF6\", \"gridcolor\": \"white\", \"gridwidth\": 2, \"linecolor\": \"white\", \"showbackground\": true, \"ticks\": \"\", \"zerolinecolor\": \"white\"}, \"yaxis\": {\"backgroundcolor\": \"#E5ECF6\", \"gridcolor\": \"white\", \"gridwidth\": 2, \"linecolor\": \"white\", \"showbackground\": true, \"ticks\": \"\", \"zerolinecolor\": \"white\"}, \"zaxis\": {\"backgroundcolor\": \"#E5ECF6\", \"gridcolor\": \"white\", \"gridwidth\": 2, \"linecolor\": \"white\", \"showbackground\": true, \"ticks\": \"\", \"zerolinecolor\": \"white\"}}, \"shapedefaults\": {\"line\": {\"color\": \"#2a3f5f\"}}, \"ternary\": {\"aaxis\": {\"gridcolor\": \"white\", \"linecolor\": \"white\", \"ticks\": \"\"}, \"baxis\": {\"gridcolor\": \"white\", \"linecolor\": \"white\", \"ticks\": \"\"}, \"bgcolor\": \"#E5ECF6\", \"caxis\": {\"gridcolor\": \"white\", \"linecolor\": \"white\", \"ticks\": \"\"}}, \"title\": {\"x\": 0.05}, \"xaxis\": {\"automargin\": true, \"gridcolor\": \"white\", \"linecolor\": \"white\", \"ticks\": \"\", \"title\": {\"standoff\": 15}, \"zerolinecolor\": \"white\", \"zerolinewidth\": 2}, \"yaxis\": {\"automargin\": true, \"gridcolor\": \"white\", \"linecolor\": \"white\", \"ticks\": \"\", \"title\": {\"standoff\": 15}, \"zerolinecolor\": \"white\", \"zerolinewidth\": 2}}}, \"xaxis\": {\"anchor\": \"y\", \"constrain\": \"domain\", \"domain\": [0.0, 1.0], \"scaleanchor\": \"y\"}, \"yaxis\": {\"anchor\": \"x\", \"autorange\": \"reversed\", \"constrain\": \"domain\", \"domain\": [0.0, 1.0]}},                        {\"responsive\": true}                    ).then(function(){\n",
       "                            \n",
       "var gd = document.getElementById('44514526-9d93-4be0-93d7-3dbb4e93fc55');\n",
       "var x = new MutationObserver(function (mutations, observer) {{\n",
       "        var display = window.getComputedStyle(gd).display;\n",
       "        if (!display || display === 'none') {{\n",
       "            console.log([gd, 'removed!']);\n",
       "            Plotly.purge(gd);\n",
       "            observer.disconnect();\n",
       "        }}\n",
       "}});\n",
       "\n",
       "// Listen for the removal of the full notebook cells\n",
       "var notebookContainer = gd.closest('#notebook-container');\n",
       "if (notebookContainer) {{\n",
       "    x.observe(notebookContainer, {childList: true});\n",
       "}}\n",
       "\n",
       "// Listen for the clearing of the current output cell\n",
       "var outputEl = gd.closest('.output');\n",
       "if (outputEl) {{\n",
       "    x.observe(outputEl, {childList: true});\n",
       "}}\n",
       "\n",
       "                        })                };                });            </script>        </div>"
      ]
     },
     "metadata": {},
     "output_type": "display_data"
    }
   ],
   "source": [
    "px.imshow(S)"
   ]
  },
  {
   "cell_type": "code",
   "execution_count": 116,
   "id": "color-reception",
   "metadata": {},
   "outputs": [
    {
     "data": {
      "application/vnd.plotly.v1+json": {
       "config": {
        "plotlyServerURL": "https://plot.ly"
       },
       "data": [
        {
         "coloraxis": "coloraxis",
         "hovertemplate": "x: %{x}<br>y: %{y}<br>color: %{z}<extra></extra>",
         "name": "0",
         "type": "heatmap",
         "xaxis": "x",
         "yaxis": "y",
         "z": [
          [
           0,
           0.13676,
           0.051296,
           0.689792,
           0.050584,
           0.051092,
           0.33585,
           0.37176,
           0.136916,
           0.37176,
           0.286328,
           0.28026,
           0.832092,
           0.759236,
           0.236388,
           0.375976
          ],
          [
           0.13676,
           0,
           0.183056,
           0.684936,
           0.182712,
           0.182764,
           0.20701,
           0.330176,
           0.000668,
           0.330176,
           0.271616,
           0.341556,
           0.847204,
           0.685828,
           0.348044,
           0.334408
          ],
          [
           0.051296,
           0.183056,
           0,
           0.639376,
           0.000768,
           0.002324,
           0.382486,
           0.413104,
           0.18282,
           0.413104,
           0.296656,
           0.328292,
           0.782236,
           0.747284,
           0.18614,
           0.417448
          ],
          [
           0.689792,
           0.684936,
           0.639376,
           0,
           0.64004,
           0.640628,
           0.759342,
           0.655128,
           0.685068,
           0.655128,
           0.633536,
           0.456796,
           0.310708,
           0.353936,
           0.76346,
           0.65948
          ],
          [
           0.050584,
           0.182712,
           0.000768,
           0.64004,
           0,
           0.001636,
           0.382142,
           0.413008,
           0.182476,
           0.413008,
           0.296584,
           0.328164,
           0.781548,
           0.747948,
           0.186852,
           0.417352
          ],
          [
           0.051092,
           0.182764,
           0.002324,
           0.640628,
           0.001636,
           0,
           0.383074,
           0.413788,
           0.183432,
           0.413788,
           0.296292,
           0.328456,
           0.783088,
           0.748384,
           0.187016,
           0.41778
          ],
          [
           0.33585,
           0.20701,
           0.382486,
           0.759342,
           0.382142,
           0.383074,
           0,
           0.394822,
           0.206342,
           0.394822,
           0.388558,
           0.502918,
           0.911454,
           0.624838,
           0.54615,
           0.39537
          ],
          [
           0.37176,
           0.330176,
           0.413104,
           0.655128,
           0.413008,
           0.413788,
           0.394822,
           0,
           0.330204,
           0,
           0.157512,
           0.354628,
           0.82794,
           0.514716,
           0.575148,
           0.013248
          ],
          [
           0.136916,
           0.000668,
           0.18282,
           0.685068,
           0.182476,
           0.183432,
           0.206342,
           0.330204,
           0,
           0.330204,
           0.271876,
           0.341872,
           0.846968,
           0.685672,
           0.34756,
           0.33442
          ],
          [
           0.37176,
           0.330176,
           0.413104,
           0.655128,
           0.413008,
           0.413788,
           0.394822,
           0,
           0.330204,
           0,
           0.157512,
           0.354628,
           0.82794,
           0.514716,
           0.575148,
           0.013248
          ],
          [
           0.286328,
           0.271616,
           0.296656,
           0.633536,
           0.296584,
           0.296292,
           0.388558,
           0.157512,
           0.271876,
           0.157512,
           0,
           0.321308,
           0.81718,
           0.583068,
           0.46882,
           0.145016
          ],
          [
           0.28026,
           0.341556,
           0.328292,
           0.456796,
           0.328164,
           0.328456,
           0.502918,
           0.354628,
           0.341872,
           0.354628,
           0.321308,
           0,
           0.69628,
           0.511436,
           0.48536,
           0.358796
          ],
          [
           0.832092,
           0.847204,
           0.782236,
           0.310708,
           0.781548,
           0.783088,
           0.911454,
           0.82794,
           0.846968,
           0.82794,
           0.81718,
           0.69628,
           0,
           0.59586,
           0.765944,
           0.832284
          ],
          [
           0.759236,
           0.685828,
           0.747284,
           0.353936,
           0.747948,
           0.748384,
           0.624838,
           0.514716,
           0.685672,
           0.514716,
           0.583068,
           0.511436,
           0.59586,
           0,
           0.87506,
           0.515204
          ],
          [
           0.236388,
           0.348044,
           0.18614,
           0.76346,
           0.186852,
           0.187016,
           0.54615,
           0.575148,
           0.34756,
           0.575148,
           0.46882,
           0.48536,
           0.765944,
           0.87506,
           0,
           0.579228
          ],
          [
           0.375976,
           0.334408,
           0.417448,
           0.65948,
           0.417352,
           0.41778,
           0.39537,
           0.013248,
           0.33442,
           0.013248,
           0.145016,
           0.358796,
           0.832284,
           0.515204,
           0.579228,
           0
          ]
         ]
        }
       ],
       "layout": {
        "coloraxis": {
         "colorscale": [
          [
           0,
           "#0d0887"
          ],
          [
           0.1111111111111111,
           "#46039f"
          ],
          [
           0.2222222222222222,
           "#7201a8"
          ],
          [
           0.3333333333333333,
           "#9c179e"
          ],
          [
           0.4444444444444444,
           "#bd3786"
          ],
          [
           0.5555555555555556,
           "#d8576b"
          ],
          [
           0.6666666666666666,
           "#ed7953"
          ],
          [
           0.7777777777777778,
           "#fb9f3a"
          ],
          [
           0.8888888888888888,
           "#fdca26"
          ],
          [
           1,
           "#f0f921"
          ]
         ]
        },
        "margin": {
         "t": 60
        },
        "template": {
         "data": {
          "bar": [
           {
            "error_x": {
             "color": "#2a3f5f"
            },
            "error_y": {
             "color": "#2a3f5f"
            },
            "marker": {
             "line": {
              "color": "#E5ECF6",
              "width": 0.5
             }
            },
            "type": "bar"
           }
          ],
          "barpolar": [
           {
            "marker": {
             "line": {
              "color": "#E5ECF6",
              "width": 0.5
             }
            },
            "type": "barpolar"
           }
          ],
          "carpet": [
           {
            "aaxis": {
             "endlinecolor": "#2a3f5f",
             "gridcolor": "white",
             "linecolor": "white",
             "minorgridcolor": "white",
             "startlinecolor": "#2a3f5f"
            },
            "baxis": {
             "endlinecolor": "#2a3f5f",
             "gridcolor": "white",
             "linecolor": "white",
             "minorgridcolor": "white",
             "startlinecolor": "#2a3f5f"
            },
            "type": "carpet"
           }
          ],
          "choropleth": [
           {
            "colorbar": {
             "outlinewidth": 0,
             "ticks": ""
            },
            "type": "choropleth"
           }
          ],
          "contour": [
           {
            "colorbar": {
             "outlinewidth": 0,
             "ticks": ""
            },
            "colorscale": [
             [
              0,
              "#0d0887"
             ],
             [
              0.1111111111111111,
              "#46039f"
             ],
             [
              0.2222222222222222,
              "#7201a8"
             ],
             [
              0.3333333333333333,
              "#9c179e"
             ],
             [
              0.4444444444444444,
              "#bd3786"
             ],
             [
              0.5555555555555556,
              "#d8576b"
             ],
             [
              0.6666666666666666,
              "#ed7953"
             ],
             [
              0.7777777777777778,
              "#fb9f3a"
             ],
             [
              0.8888888888888888,
              "#fdca26"
             ],
             [
              1,
              "#f0f921"
             ]
            ],
            "type": "contour"
           }
          ],
          "contourcarpet": [
           {
            "colorbar": {
             "outlinewidth": 0,
             "ticks": ""
            },
            "type": "contourcarpet"
           }
          ],
          "heatmap": [
           {
            "colorbar": {
             "outlinewidth": 0,
             "ticks": ""
            },
            "colorscale": [
             [
              0,
              "#0d0887"
             ],
             [
              0.1111111111111111,
              "#46039f"
             ],
             [
              0.2222222222222222,
              "#7201a8"
             ],
             [
              0.3333333333333333,
              "#9c179e"
             ],
             [
              0.4444444444444444,
              "#bd3786"
             ],
             [
              0.5555555555555556,
              "#d8576b"
             ],
             [
              0.6666666666666666,
              "#ed7953"
             ],
             [
              0.7777777777777778,
              "#fb9f3a"
             ],
             [
              0.8888888888888888,
              "#fdca26"
             ],
             [
              1,
              "#f0f921"
             ]
            ],
            "type": "heatmap"
           }
          ],
          "heatmapgl": [
           {
            "colorbar": {
             "outlinewidth": 0,
             "ticks": ""
            },
            "colorscale": [
             [
              0,
              "#0d0887"
             ],
             [
              0.1111111111111111,
              "#46039f"
             ],
             [
              0.2222222222222222,
              "#7201a8"
             ],
             [
              0.3333333333333333,
              "#9c179e"
             ],
             [
              0.4444444444444444,
              "#bd3786"
             ],
             [
              0.5555555555555556,
              "#d8576b"
             ],
             [
              0.6666666666666666,
              "#ed7953"
             ],
             [
              0.7777777777777778,
              "#fb9f3a"
             ],
             [
              0.8888888888888888,
              "#fdca26"
             ],
             [
              1,
              "#f0f921"
             ]
            ],
            "type": "heatmapgl"
           }
          ],
          "histogram": [
           {
            "marker": {
             "colorbar": {
              "outlinewidth": 0,
              "ticks": ""
             }
            },
            "type": "histogram"
           }
          ],
          "histogram2d": [
           {
            "colorbar": {
             "outlinewidth": 0,
             "ticks": ""
            },
            "colorscale": [
             [
              0,
              "#0d0887"
             ],
             [
              0.1111111111111111,
              "#46039f"
             ],
             [
              0.2222222222222222,
              "#7201a8"
             ],
             [
              0.3333333333333333,
              "#9c179e"
             ],
             [
              0.4444444444444444,
              "#bd3786"
             ],
             [
              0.5555555555555556,
              "#d8576b"
             ],
             [
              0.6666666666666666,
              "#ed7953"
             ],
             [
              0.7777777777777778,
              "#fb9f3a"
             ],
             [
              0.8888888888888888,
              "#fdca26"
             ],
             [
              1,
              "#f0f921"
             ]
            ],
            "type": "histogram2d"
           }
          ],
          "histogram2dcontour": [
           {
            "colorbar": {
             "outlinewidth": 0,
             "ticks": ""
            },
            "colorscale": [
             [
              0,
              "#0d0887"
             ],
             [
              0.1111111111111111,
              "#46039f"
             ],
             [
              0.2222222222222222,
              "#7201a8"
             ],
             [
              0.3333333333333333,
              "#9c179e"
             ],
             [
              0.4444444444444444,
              "#bd3786"
             ],
             [
              0.5555555555555556,
              "#d8576b"
             ],
             [
              0.6666666666666666,
              "#ed7953"
             ],
             [
              0.7777777777777778,
              "#fb9f3a"
             ],
             [
              0.8888888888888888,
              "#fdca26"
             ],
             [
              1,
              "#f0f921"
             ]
            ],
            "type": "histogram2dcontour"
           }
          ],
          "mesh3d": [
           {
            "colorbar": {
             "outlinewidth": 0,
             "ticks": ""
            },
            "type": "mesh3d"
           }
          ],
          "parcoords": [
           {
            "line": {
             "colorbar": {
              "outlinewidth": 0,
              "ticks": ""
             }
            },
            "type": "parcoords"
           }
          ],
          "pie": [
           {
            "automargin": true,
            "type": "pie"
           }
          ],
          "scatter": [
           {
            "marker": {
             "colorbar": {
              "outlinewidth": 0,
              "ticks": ""
             }
            },
            "type": "scatter"
           }
          ],
          "scatter3d": [
           {
            "line": {
             "colorbar": {
              "outlinewidth": 0,
              "ticks": ""
             }
            },
            "marker": {
             "colorbar": {
              "outlinewidth": 0,
              "ticks": ""
             }
            },
            "type": "scatter3d"
           }
          ],
          "scattercarpet": [
           {
            "marker": {
             "colorbar": {
              "outlinewidth": 0,
              "ticks": ""
             }
            },
            "type": "scattercarpet"
           }
          ],
          "scattergeo": [
           {
            "marker": {
             "colorbar": {
              "outlinewidth": 0,
              "ticks": ""
             }
            },
            "type": "scattergeo"
           }
          ],
          "scattergl": [
           {
            "marker": {
             "colorbar": {
              "outlinewidth": 0,
              "ticks": ""
             }
            },
            "type": "scattergl"
           }
          ],
          "scattermapbox": [
           {
            "marker": {
             "colorbar": {
              "outlinewidth": 0,
              "ticks": ""
             }
            },
            "type": "scattermapbox"
           }
          ],
          "scatterpolar": [
           {
            "marker": {
             "colorbar": {
              "outlinewidth": 0,
              "ticks": ""
             }
            },
            "type": "scatterpolar"
           }
          ],
          "scatterpolargl": [
           {
            "marker": {
             "colorbar": {
              "outlinewidth": 0,
              "ticks": ""
             }
            },
            "type": "scatterpolargl"
           }
          ],
          "scatterternary": [
           {
            "marker": {
             "colorbar": {
              "outlinewidth": 0,
              "ticks": ""
             }
            },
            "type": "scatterternary"
           }
          ],
          "surface": [
           {
            "colorbar": {
             "outlinewidth": 0,
             "ticks": ""
            },
            "colorscale": [
             [
              0,
              "#0d0887"
             ],
             [
              0.1111111111111111,
              "#46039f"
             ],
             [
              0.2222222222222222,
              "#7201a8"
             ],
             [
              0.3333333333333333,
              "#9c179e"
             ],
             [
              0.4444444444444444,
              "#bd3786"
             ],
             [
              0.5555555555555556,
              "#d8576b"
             ],
             [
              0.6666666666666666,
              "#ed7953"
             ],
             [
              0.7777777777777778,
              "#fb9f3a"
             ],
             [
              0.8888888888888888,
              "#fdca26"
             ],
             [
              1,
              "#f0f921"
             ]
            ],
            "type": "surface"
           }
          ],
          "table": [
           {
            "cells": {
             "fill": {
              "color": "#EBF0F8"
             },
             "line": {
              "color": "white"
             }
            },
            "header": {
             "fill": {
              "color": "#C8D4E3"
             },
             "line": {
              "color": "white"
             }
            },
            "type": "table"
           }
          ]
         },
         "layout": {
          "annotationdefaults": {
           "arrowcolor": "#2a3f5f",
           "arrowhead": 0,
           "arrowwidth": 1
          },
          "autotypenumbers": "strict",
          "coloraxis": {
           "colorbar": {
            "outlinewidth": 0,
            "ticks": ""
           }
          },
          "colorscale": {
           "diverging": [
            [
             0,
             "#8e0152"
            ],
            [
             0.1,
             "#c51b7d"
            ],
            [
             0.2,
             "#de77ae"
            ],
            [
             0.3,
             "#f1b6da"
            ],
            [
             0.4,
             "#fde0ef"
            ],
            [
             0.5,
             "#f7f7f7"
            ],
            [
             0.6,
             "#e6f5d0"
            ],
            [
             0.7,
             "#b8e186"
            ],
            [
             0.8,
             "#7fbc41"
            ],
            [
             0.9,
             "#4d9221"
            ],
            [
             1,
             "#276419"
            ]
           ],
           "sequential": [
            [
             0,
             "#0d0887"
            ],
            [
             0.1111111111111111,
             "#46039f"
            ],
            [
             0.2222222222222222,
             "#7201a8"
            ],
            [
             0.3333333333333333,
             "#9c179e"
            ],
            [
             0.4444444444444444,
             "#bd3786"
            ],
            [
             0.5555555555555556,
             "#d8576b"
            ],
            [
             0.6666666666666666,
             "#ed7953"
            ],
            [
             0.7777777777777778,
             "#fb9f3a"
            ],
            [
             0.8888888888888888,
             "#fdca26"
            ],
            [
             1,
             "#f0f921"
            ]
           ],
           "sequentialminus": [
            [
             0,
             "#0d0887"
            ],
            [
             0.1111111111111111,
             "#46039f"
            ],
            [
             0.2222222222222222,
             "#7201a8"
            ],
            [
             0.3333333333333333,
             "#9c179e"
            ],
            [
             0.4444444444444444,
             "#bd3786"
            ],
            [
             0.5555555555555556,
             "#d8576b"
            ],
            [
             0.6666666666666666,
             "#ed7953"
            ],
            [
             0.7777777777777778,
             "#fb9f3a"
            ],
            [
             0.8888888888888888,
             "#fdca26"
            ],
            [
             1,
             "#f0f921"
            ]
           ]
          },
          "colorway": [
           "#636efa",
           "#EF553B",
           "#00cc96",
           "#ab63fa",
           "#FFA15A",
           "#19d3f3",
           "#FF6692",
           "#B6E880",
           "#FF97FF",
           "#FECB52"
          ],
          "font": {
           "color": "#2a3f5f"
          },
          "geo": {
           "bgcolor": "white",
           "lakecolor": "white",
           "landcolor": "#E5ECF6",
           "showlakes": true,
           "showland": true,
           "subunitcolor": "white"
          },
          "hoverlabel": {
           "align": "left"
          },
          "hovermode": "closest",
          "mapbox": {
           "style": "light"
          },
          "paper_bgcolor": "white",
          "plot_bgcolor": "#E5ECF6",
          "polar": {
           "angularaxis": {
            "gridcolor": "white",
            "linecolor": "white",
            "ticks": ""
           },
           "bgcolor": "#E5ECF6",
           "radialaxis": {
            "gridcolor": "white",
            "linecolor": "white",
            "ticks": ""
           }
          },
          "scene": {
           "xaxis": {
            "backgroundcolor": "#E5ECF6",
            "gridcolor": "white",
            "gridwidth": 2,
            "linecolor": "white",
            "showbackground": true,
            "ticks": "",
            "zerolinecolor": "white"
           },
           "yaxis": {
            "backgroundcolor": "#E5ECF6",
            "gridcolor": "white",
            "gridwidth": 2,
            "linecolor": "white",
            "showbackground": true,
            "ticks": "",
            "zerolinecolor": "white"
           },
           "zaxis": {
            "backgroundcolor": "#E5ECF6",
            "gridcolor": "white",
            "gridwidth": 2,
            "linecolor": "white",
            "showbackground": true,
            "ticks": "",
            "zerolinecolor": "white"
           }
          },
          "shapedefaults": {
           "line": {
            "color": "#2a3f5f"
           }
          },
          "ternary": {
           "aaxis": {
            "gridcolor": "white",
            "linecolor": "white",
            "ticks": ""
           },
           "baxis": {
            "gridcolor": "white",
            "linecolor": "white",
            "ticks": ""
           },
           "bgcolor": "#E5ECF6",
           "caxis": {
            "gridcolor": "white",
            "linecolor": "white",
            "ticks": ""
           }
          },
          "title": {
           "x": 0.05
          },
          "xaxis": {
           "automargin": true,
           "gridcolor": "white",
           "linecolor": "white",
           "ticks": "",
           "title": {
            "standoff": 15
           },
           "zerolinecolor": "white",
           "zerolinewidth": 2
          },
          "yaxis": {
           "automargin": true,
           "gridcolor": "white",
           "linecolor": "white",
           "ticks": "",
           "title": {
            "standoff": 15
           },
           "zerolinecolor": "white",
           "zerolinewidth": 2
          }
         }
        },
        "xaxis": {
         "anchor": "y",
         "constrain": "domain",
         "domain": [
          0,
          1
         ],
         "scaleanchor": "y"
        },
        "yaxis": {
         "anchor": "x",
         "autorange": "reversed",
         "constrain": "domain",
         "domain": [
          0,
          1
         ]
        }
       }
      },
      "text/html": [
       "<div>                            <div id=\"8874fd9a-2f78-4cb2-941e-ee9a5facaac7\" class=\"plotly-graph-div\" style=\"height:525px; width:100%;\"></div>            <script type=\"text/javascript\">                require([\"plotly\"], function(Plotly) {                    window.PLOTLYENV=window.PLOTLYENV || {};                                    if (document.getElementById(\"8874fd9a-2f78-4cb2-941e-ee9a5facaac7\")) {                    Plotly.newPlot(                        \"8874fd9a-2f78-4cb2-941e-ee9a5facaac7\",                        [{\"coloraxis\": \"coloraxis\", \"hovertemplate\": \"x: %{x}<br>y: %{y}<br>color: %{z}<extra></extra>\", \"name\": \"0\", \"type\": \"heatmap\", \"xaxis\": \"x\", \"yaxis\": \"y\", \"z\": [[0.0, 0.13676, 0.051296, 0.689792, 0.050584, 0.051092, 0.33585, 0.37176, 0.136916, 0.37176, 0.286328, 0.28026, 0.832092, 0.759236, 0.236388, 0.375976], [0.13676, 0.0, 0.183056, 0.684936, 0.182712, 0.182764, 0.20701, 0.330176, 0.000668, 0.330176, 0.271616, 0.341556, 0.847204, 0.685828, 0.348044, 0.334408], [0.051296, 0.183056, 0.0, 0.639376, 0.000768, 0.002324, 0.382486, 0.413104, 0.18282, 0.413104, 0.296656, 0.328292, 0.782236, 0.747284, 0.18614, 0.417448], [0.689792, 0.684936, 0.639376, 0.0, 0.64004, 0.640628, 0.759342, 0.655128, 0.685068, 0.655128, 0.633536, 0.456796, 0.310708, 0.353936, 0.76346, 0.65948], [0.050584, 0.182712, 0.000768, 0.64004, 0.0, 0.001636, 0.382142, 0.413008, 0.182476, 0.413008, 0.296584, 0.328164, 0.781548, 0.747948, 0.186852, 0.417352], [0.051092, 0.182764, 0.002324, 0.640628, 0.001636, 0.0, 0.383074, 0.413788, 0.183432, 0.413788, 0.296292, 0.328456, 0.783088, 0.748384, 0.187016, 0.41778], [0.33585, 0.20701, 0.382486, 0.759342, 0.382142, 0.383074, 0.0, 0.394822, 0.206342, 0.394822, 0.388558, 0.502918, 0.911454, 0.624838, 0.54615, 0.39537], [0.37176, 0.330176, 0.413104, 0.655128, 0.413008, 0.413788, 0.394822, 0.0, 0.330204, 0.0, 0.157512, 0.354628, 0.82794, 0.514716, 0.575148, 0.013248], [0.136916, 0.000668, 0.18282, 0.685068, 0.182476, 0.183432, 0.206342, 0.330204, 0.0, 0.330204, 0.271876, 0.341872, 0.846968, 0.685672, 0.34756, 0.33442], [0.37176, 0.330176, 0.413104, 0.655128, 0.413008, 0.413788, 0.394822, 0.0, 0.330204, 0.0, 0.157512, 0.354628, 0.82794, 0.514716, 0.575148, 0.013248], [0.286328, 0.271616, 0.296656, 0.633536, 0.296584, 0.296292, 0.388558, 0.157512, 0.271876, 0.157512, 0.0, 0.321308, 0.81718, 0.583068, 0.46882, 0.145016], [0.28026, 0.341556, 0.328292, 0.456796, 0.328164, 0.328456, 0.502918, 0.354628, 0.341872, 0.354628, 0.321308, 0.0, 0.69628, 0.511436, 0.48536, 0.358796], [0.832092, 0.847204, 0.782236, 0.310708, 0.781548, 0.783088, 0.911454, 0.82794, 0.846968, 0.82794, 0.81718, 0.69628, 0.0, 0.59586, 0.765944, 0.832284], [0.759236, 0.685828, 0.747284, 0.353936, 0.747948, 0.748384, 0.624838, 0.514716, 0.685672, 0.514716, 0.583068, 0.511436, 0.59586, 0.0, 0.87506, 0.515204], [0.236388, 0.348044, 0.18614, 0.76346, 0.186852, 0.187016, 0.54615, 0.575148, 0.34756, 0.575148, 0.46882, 0.48536, 0.765944, 0.87506, 0.0, 0.579228], [0.375976, 0.334408, 0.417448, 0.65948, 0.417352, 0.41778, 0.39537, 0.013248, 0.33442, 0.013248, 0.145016, 0.358796, 0.832284, 0.515204, 0.579228, 0.0]]}],                        {\"coloraxis\": {\"colorscale\": [[0.0, \"#0d0887\"], [0.1111111111111111, \"#46039f\"], [0.2222222222222222, \"#7201a8\"], [0.3333333333333333, \"#9c179e\"], [0.4444444444444444, \"#bd3786\"], [0.5555555555555556, \"#d8576b\"], [0.6666666666666666, \"#ed7953\"], [0.7777777777777778, \"#fb9f3a\"], [0.8888888888888888, \"#fdca26\"], [1.0, \"#f0f921\"]]}, \"margin\": {\"t\": 60}, \"template\": {\"data\": {\"bar\": [{\"error_x\": {\"color\": \"#2a3f5f\"}, \"error_y\": {\"color\": \"#2a3f5f\"}, \"marker\": {\"line\": {\"color\": \"#E5ECF6\", \"width\": 0.5}}, \"type\": \"bar\"}], \"barpolar\": [{\"marker\": {\"line\": {\"color\": \"#E5ECF6\", \"width\": 0.5}}, \"type\": \"barpolar\"}], \"carpet\": [{\"aaxis\": {\"endlinecolor\": \"#2a3f5f\", \"gridcolor\": \"white\", \"linecolor\": \"white\", \"minorgridcolor\": \"white\", \"startlinecolor\": \"#2a3f5f\"}, \"baxis\": {\"endlinecolor\": \"#2a3f5f\", \"gridcolor\": \"white\", \"linecolor\": \"white\", \"minorgridcolor\": \"white\", \"startlinecolor\": \"#2a3f5f\"}, \"type\": \"carpet\"}], \"choropleth\": [{\"colorbar\": {\"outlinewidth\": 0, \"ticks\": \"\"}, \"type\": \"choropleth\"}], \"contour\": [{\"colorbar\": {\"outlinewidth\": 0, \"ticks\": \"\"}, \"colorscale\": [[0.0, \"#0d0887\"], [0.1111111111111111, \"#46039f\"], [0.2222222222222222, \"#7201a8\"], [0.3333333333333333, \"#9c179e\"], [0.4444444444444444, \"#bd3786\"], [0.5555555555555556, \"#d8576b\"], [0.6666666666666666, \"#ed7953\"], [0.7777777777777778, \"#fb9f3a\"], [0.8888888888888888, \"#fdca26\"], [1.0, \"#f0f921\"]], \"type\": \"contour\"}], \"contourcarpet\": [{\"colorbar\": {\"outlinewidth\": 0, \"ticks\": \"\"}, \"type\": \"contourcarpet\"}], \"heatmap\": [{\"colorbar\": {\"outlinewidth\": 0, \"ticks\": \"\"}, \"colorscale\": [[0.0, \"#0d0887\"], [0.1111111111111111, \"#46039f\"], [0.2222222222222222, \"#7201a8\"], [0.3333333333333333, \"#9c179e\"], [0.4444444444444444, \"#bd3786\"], [0.5555555555555556, \"#d8576b\"], [0.6666666666666666, \"#ed7953\"], [0.7777777777777778, \"#fb9f3a\"], [0.8888888888888888, \"#fdca26\"], [1.0, \"#f0f921\"]], \"type\": \"heatmap\"}], \"heatmapgl\": [{\"colorbar\": {\"outlinewidth\": 0, \"ticks\": \"\"}, \"colorscale\": [[0.0, \"#0d0887\"], [0.1111111111111111, \"#46039f\"], [0.2222222222222222, \"#7201a8\"], [0.3333333333333333, \"#9c179e\"], [0.4444444444444444, \"#bd3786\"], [0.5555555555555556, \"#d8576b\"], [0.6666666666666666, \"#ed7953\"], [0.7777777777777778, \"#fb9f3a\"], [0.8888888888888888, \"#fdca26\"], [1.0, \"#f0f921\"]], \"type\": \"heatmapgl\"}], \"histogram\": [{\"marker\": {\"colorbar\": {\"outlinewidth\": 0, \"ticks\": \"\"}}, \"type\": \"histogram\"}], \"histogram2d\": [{\"colorbar\": {\"outlinewidth\": 0, \"ticks\": \"\"}, \"colorscale\": [[0.0, \"#0d0887\"], [0.1111111111111111, \"#46039f\"], [0.2222222222222222, \"#7201a8\"], [0.3333333333333333, \"#9c179e\"], [0.4444444444444444, \"#bd3786\"], [0.5555555555555556, \"#d8576b\"], [0.6666666666666666, \"#ed7953\"], [0.7777777777777778, \"#fb9f3a\"], [0.8888888888888888, \"#fdca26\"], [1.0, \"#f0f921\"]], \"type\": \"histogram2d\"}], \"histogram2dcontour\": [{\"colorbar\": {\"outlinewidth\": 0, \"ticks\": \"\"}, \"colorscale\": [[0.0, \"#0d0887\"], [0.1111111111111111, \"#46039f\"], [0.2222222222222222, \"#7201a8\"], [0.3333333333333333, \"#9c179e\"], [0.4444444444444444, \"#bd3786\"], [0.5555555555555556, \"#d8576b\"], [0.6666666666666666, \"#ed7953\"], [0.7777777777777778, \"#fb9f3a\"], [0.8888888888888888, \"#fdca26\"], [1.0, \"#f0f921\"]], \"type\": \"histogram2dcontour\"}], \"mesh3d\": [{\"colorbar\": {\"outlinewidth\": 0, \"ticks\": \"\"}, \"type\": \"mesh3d\"}], \"parcoords\": [{\"line\": {\"colorbar\": {\"outlinewidth\": 0, \"ticks\": \"\"}}, \"type\": \"parcoords\"}], \"pie\": [{\"automargin\": true, \"type\": \"pie\"}], \"scatter\": [{\"marker\": {\"colorbar\": {\"outlinewidth\": 0, \"ticks\": \"\"}}, \"type\": \"scatter\"}], \"scatter3d\": [{\"line\": {\"colorbar\": {\"outlinewidth\": 0, \"ticks\": \"\"}}, \"marker\": {\"colorbar\": {\"outlinewidth\": 0, \"ticks\": \"\"}}, \"type\": \"scatter3d\"}], \"scattercarpet\": [{\"marker\": {\"colorbar\": {\"outlinewidth\": 0, \"ticks\": \"\"}}, \"type\": \"scattercarpet\"}], \"scattergeo\": [{\"marker\": {\"colorbar\": {\"outlinewidth\": 0, \"ticks\": \"\"}}, \"type\": \"scattergeo\"}], \"scattergl\": [{\"marker\": {\"colorbar\": {\"outlinewidth\": 0, \"ticks\": \"\"}}, \"type\": \"scattergl\"}], \"scattermapbox\": [{\"marker\": {\"colorbar\": {\"outlinewidth\": 0, \"ticks\": \"\"}}, \"type\": \"scattermapbox\"}], \"scatterpolar\": [{\"marker\": {\"colorbar\": {\"outlinewidth\": 0, \"ticks\": \"\"}}, \"type\": \"scatterpolar\"}], \"scatterpolargl\": [{\"marker\": {\"colorbar\": {\"outlinewidth\": 0, \"ticks\": \"\"}}, \"type\": \"scatterpolargl\"}], \"scatterternary\": [{\"marker\": {\"colorbar\": {\"outlinewidth\": 0, \"ticks\": \"\"}}, \"type\": \"scatterternary\"}], \"surface\": [{\"colorbar\": {\"outlinewidth\": 0, \"ticks\": \"\"}, \"colorscale\": [[0.0, \"#0d0887\"], [0.1111111111111111, \"#46039f\"], [0.2222222222222222, \"#7201a8\"], [0.3333333333333333, \"#9c179e\"], [0.4444444444444444, \"#bd3786\"], [0.5555555555555556, \"#d8576b\"], [0.6666666666666666, \"#ed7953\"], [0.7777777777777778, \"#fb9f3a\"], [0.8888888888888888, \"#fdca26\"], [1.0, \"#f0f921\"]], \"type\": \"surface\"}], \"table\": [{\"cells\": {\"fill\": {\"color\": \"#EBF0F8\"}, \"line\": {\"color\": \"white\"}}, \"header\": {\"fill\": {\"color\": \"#C8D4E3\"}, \"line\": {\"color\": \"white\"}}, \"type\": \"table\"}]}, \"layout\": {\"annotationdefaults\": {\"arrowcolor\": \"#2a3f5f\", \"arrowhead\": 0, \"arrowwidth\": 1}, \"autotypenumbers\": \"strict\", \"coloraxis\": {\"colorbar\": {\"outlinewidth\": 0, \"ticks\": \"\"}}, \"colorscale\": {\"diverging\": [[0, \"#8e0152\"], [0.1, \"#c51b7d\"], [0.2, \"#de77ae\"], [0.3, \"#f1b6da\"], [0.4, \"#fde0ef\"], [0.5, \"#f7f7f7\"], [0.6, \"#e6f5d0\"], [0.7, \"#b8e186\"], [0.8, \"#7fbc41\"], [0.9, \"#4d9221\"], [1, \"#276419\"]], \"sequential\": [[0.0, \"#0d0887\"], [0.1111111111111111, \"#46039f\"], [0.2222222222222222, \"#7201a8\"], [0.3333333333333333, \"#9c179e\"], [0.4444444444444444, \"#bd3786\"], [0.5555555555555556, \"#d8576b\"], [0.6666666666666666, \"#ed7953\"], [0.7777777777777778, \"#fb9f3a\"], [0.8888888888888888, \"#fdca26\"], [1.0, \"#f0f921\"]], \"sequentialminus\": [[0.0, \"#0d0887\"], [0.1111111111111111, \"#46039f\"], [0.2222222222222222, \"#7201a8\"], [0.3333333333333333, \"#9c179e\"], [0.4444444444444444, \"#bd3786\"], [0.5555555555555556, \"#d8576b\"], [0.6666666666666666, \"#ed7953\"], [0.7777777777777778, \"#fb9f3a\"], [0.8888888888888888, \"#fdca26\"], [1.0, \"#f0f921\"]]}, \"colorway\": [\"#636efa\", \"#EF553B\", \"#00cc96\", \"#ab63fa\", \"#FFA15A\", \"#19d3f3\", \"#FF6692\", \"#B6E880\", \"#FF97FF\", \"#FECB52\"], \"font\": {\"color\": \"#2a3f5f\"}, \"geo\": {\"bgcolor\": \"white\", \"lakecolor\": \"white\", \"landcolor\": \"#E5ECF6\", \"showlakes\": true, \"showland\": true, \"subunitcolor\": \"white\"}, \"hoverlabel\": {\"align\": \"left\"}, \"hovermode\": \"closest\", \"mapbox\": {\"style\": \"light\"}, \"paper_bgcolor\": \"white\", \"plot_bgcolor\": \"#E5ECF6\", \"polar\": {\"angularaxis\": {\"gridcolor\": \"white\", \"linecolor\": \"white\", \"ticks\": \"\"}, \"bgcolor\": \"#E5ECF6\", \"radialaxis\": {\"gridcolor\": \"white\", \"linecolor\": \"white\", \"ticks\": \"\"}}, \"scene\": {\"xaxis\": {\"backgroundcolor\": \"#E5ECF6\", \"gridcolor\": \"white\", \"gridwidth\": 2, \"linecolor\": \"white\", \"showbackground\": true, \"ticks\": \"\", \"zerolinecolor\": \"white\"}, \"yaxis\": {\"backgroundcolor\": \"#E5ECF6\", \"gridcolor\": \"white\", \"gridwidth\": 2, \"linecolor\": \"white\", \"showbackground\": true, \"ticks\": \"\", \"zerolinecolor\": \"white\"}, \"zaxis\": {\"backgroundcolor\": \"#E5ECF6\", \"gridcolor\": \"white\", \"gridwidth\": 2, \"linecolor\": \"white\", \"showbackground\": true, \"ticks\": \"\", \"zerolinecolor\": \"white\"}}, \"shapedefaults\": {\"line\": {\"color\": \"#2a3f5f\"}}, \"ternary\": {\"aaxis\": {\"gridcolor\": \"white\", \"linecolor\": \"white\", \"ticks\": \"\"}, \"baxis\": {\"gridcolor\": \"white\", \"linecolor\": \"white\", \"ticks\": \"\"}, \"bgcolor\": \"#E5ECF6\", \"caxis\": {\"gridcolor\": \"white\", \"linecolor\": \"white\", \"ticks\": \"\"}}, \"title\": {\"x\": 0.05}, \"xaxis\": {\"automargin\": true, \"gridcolor\": \"white\", \"linecolor\": \"white\", \"ticks\": \"\", \"title\": {\"standoff\": 15}, \"zerolinecolor\": \"white\", \"zerolinewidth\": 2}, \"yaxis\": {\"automargin\": true, \"gridcolor\": \"white\", \"linecolor\": \"white\", \"ticks\": \"\", \"title\": {\"standoff\": 15}, \"zerolinecolor\": \"white\", \"zerolinewidth\": 2}}}, \"xaxis\": {\"anchor\": \"y\", \"constrain\": \"domain\", \"domain\": [0.0, 1.0], \"scaleanchor\": \"y\"}, \"yaxis\": {\"anchor\": \"x\", \"autorange\": \"reversed\", \"constrain\": \"domain\", \"domain\": [0.0, 1.0]}},                        {\"responsive\": true}                    ).then(function(){\n",
       "                            \n",
       "var gd = document.getElementById('8874fd9a-2f78-4cb2-941e-ee9a5facaac7');\n",
       "var x = new MutationObserver(function (mutations, observer) {{\n",
       "        var display = window.getComputedStyle(gd).display;\n",
       "        if (!display || display === 'none') {{\n",
       "            console.log([gd, 'removed!']);\n",
       "            Plotly.purge(gd);\n",
       "            observer.disconnect();\n",
       "        }}\n",
       "}});\n",
       "\n",
       "// Listen for the removal of the full notebook cells\n",
       "var notebookContainer = gd.closest('#notebook-container');\n",
       "if (notebookContainer) {{\n",
       "    x.observe(notebookContainer, {childList: true});\n",
       "}}\n",
       "\n",
       "// Listen for the clearing of the current output cell\n",
       "var outputEl = gd.closest('.output');\n",
       "if (outputEl) {{\n",
       "    x.observe(outputEl, {childList: true});\n",
       "}}\n",
       "\n",
       "                        })                };                });            </script>        </div>"
      ]
     },
     "metadata": {},
     "output_type": "display_data"
    }
   ],
   "source": [
    "px.imshow(S)"
   ]
  },
  {
   "cell_type": "code",
   "execution_count": 115,
   "id": "planned-beijing",
   "metadata": {},
   "outputs": [
    {
     "data": {
      "application/vnd.plotly.v1+json": {
       "config": {
        "plotlyServerURL": "https://plot.ly"
       },
       "data": [
        {
         "coloraxis": "coloraxis",
         "hovertemplate": "x: %{x}<br>y: %{y}<br>color: %{z}<extra></extra>",
         "name": "0",
         "type": "heatmap",
         "xaxis": "x",
         "yaxis": "y",
         "z": [
          [
           0,
           0.388558,
           0.39537,
           0.394822,
           0.394822,
           0.54615,
           0.502918,
           0.20701,
           0.206342,
           0.33585,
           0.383074,
           0.382486,
           0.382142,
           0.624838,
           0.759342,
           0.911454
          ],
          [
           0.388558,
           0,
           0.145016,
           0.157512,
           0.157512,
           0.46882,
           0.321308,
           0.271616,
           0.271876,
           0.286328,
           0.296292,
           0.296656,
           0.296584,
           0.583068,
           0.633536,
           0.81718
          ],
          [
           0.39537,
           0.145016,
           0,
           0.013248,
           0.013248,
           0.579228,
           0.358796,
           0.334408,
           0.33442,
           0.375976,
           0.41778,
           0.417448,
           0.417352,
           0.515204,
           0.65948,
           0.832284
          ],
          [
           0.394822,
           0.157512,
           0.013248,
           0,
           0,
           0.575148,
           0.354628,
           0.330176,
           0.330204,
           0.37176,
           0.413788,
           0.413104,
           0.413008,
           0.514716,
           0.655128,
           0.82794
          ],
          [
           0.394822,
           0.157512,
           0.013248,
           0,
           0,
           0.575148,
           0.354628,
           0.330176,
           0.330204,
           0.37176,
           0.413788,
           0.413104,
           0.413008,
           0.514716,
           0.655128,
           0.82794
          ],
          [
           0.54615,
           0.46882,
           0.579228,
           0.575148,
           0.575148,
           0,
           0.48536,
           0.348044,
           0.34756,
           0.236388,
           0.187016,
           0.18614,
           0.186852,
           0.87506,
           0.76346,
           0.765944
          ],
          [
           0.502918,
           0.321308,
           0.358796,
           0.354628,
           0.354628,
           0.48536,
           0,
           0.341556,
           0.341872,
           0.28026,
           0.328456,
           0.328292,
           0.328164,
           0.511436,
           0.456796,
           0.69628
          ],
          [
           0.20701,
           0.271616,
           0.334408,
           0.330176,
           0.330176,
           0.348044,
           0.341556,
           0,
           0.000668,
           0.13676,
           0.182764,
           0.183056,
           0.182712,
           0.685828,
           0.684936,
           0.847204
          ],
          [
           0.206342,
           0.271876,
           0.33442,
           0.330204,
           0.330204,
           0.34756,
           0.341872,
           0.000668,
           0,
           0.136916,
           0.183432,
           0.18282,
           0.182476,
           0.685672,
           0.685068,
           0.846968
          ],
          [
           0.33585,
           0.286328,
           0.375976,
           0.37176,
           0.37176,
           0.236388,
           0.28026,
           0.13676,
           0.136916,
           0,
           0.051092,
           0.051296,
           0.050584,
           0.759236,
           0.689792,
           0.832092
          ],
          [
           0.383074,
           0.296292,
           0.41778,
           0.413788,
           0.413788,
           0.187016,
           0.328456,
           0.182764,
           0.183432,
           0.051092,
           0,
           0.002324,
           0.001636,
           0.748384,
           0.640628,
           0.783088
          ],
          [
           0.382486,
           0.296656,
           0.417448,
           0.413104,
           0.413104,
           0.18614,
           0.328292,
           0.183056,
           0.18282,
           0.051296,
           0.002324,
           0,
           0.000768,
           0.747284,
           0.639376,
           0.782236
          ],
          [
           0.382142,
           0.296584,
           0.417352,
           0.413008,
           0.413008,
           0.186852,
           0.328164,
           0.182712,
           0.182476,
           0.050584,
           0.001636,
           0.000768,
           0,
           0.747948,
           0.64004,
           0.781548
          ],
          [
           0.624838,
           0.583068,
           0.515204,
           0.514716,
           0.514716,
           0.87506,
           0.511436,
           0.685828,
           0.685672,
           0.759236,
           0.748384,
           0.747284,
           0.747948,
           0,
           0.353936,
           0.59586
          ],
          [
           0.759342,
           0.633536,
           0.65948,
           0.655128,
           0.655128,
           0.76346,
           0.456796,
           0.684936,
           0.685068,
           0.689792,
           0.640628,
           0.639376,
           0.64004,
           0.353936,
           0,
           0.310708
          ],
          [
           0.911454,
           0.81718,
           0.832284,
           0.82794,
           0.82794,
           0.765944,
           0.69628,
           0.847204,
           0.846968,
           0.832092,
           0.783088,
           0.782236,
           0.781548,
           0.59586,
           0.310708,
           0
          ]
         ]
        }
       ],
       "layout": {
        "coloraxis": {
         "colorscale": [
          [
           0,
           "#0d0887"
          ],
          [
           0.1111111111111111,
           "#46039f"
          ],
          [
           0.2222222222222222,
           "#7201a8"
          ],
          [
           0.3333333333333333,
           "#9c179e"
          ],
          [
           0.4444444444444444,
           "#bd3786"
          ],
          [
           0.5555555555555556,
           "#d8576b"
          ],
          [
           0.6666666666666666,
           "#ed7953"
          ],
          [
           0.7777777777777778,
           "#fb9f3a"
          ],
          [
           0.8888888888888888,
           "#fdca26"
          ],
          [
           1,
           "#f0f921"
          ]
         ]
        },
        "margin": {
         "t": 60
        },
        "template": {
         "data": {
          "bar": [
           {
            "error_x": {
             "color": "#2a3f5f"
            },
            "error_y": {
             "color": "#2a3f5f"
            },
            "marker": {
             "line": {
              "color": "#E5ECF6",
              "width": 0.5
             }
            },
            "type": "bar"
           }
          ],
          "barpolar": [
           {
            "marker": {
             "line": {
              "color": "#E5ECF6",
              "width": 0.5
             }
            },
            "type": "barpolar"
           }
          ],
          "carpet": [
           {
            "aaxis": {
             "endlinecolor": "#2a3f5f",
             "gridcolor": "white",
             "linecolor": "white",
             "minorgridcolor": "white",
             "startlinecolor": "#2a3f5f"
            },
            "baxis": {
             "endlinecolor": "#2a3f5f",
             "gridcolor": "white",
             "linecolor": "white",
             "minorgridcolor": "white",
             "startlinecolor": "#2a3f5f"
            },
            "type": "carpet"
           }
          ],
          "choropleth": [
           {
            "colorbar": {
             "outlinewidth": 0,
             "ticks": ""
            },
            "type": "choropleth"
           }
          ],
          "contour": [
           {
            "colorbar": {
             "outlinewidth": 0,
             "ticks": ""
            },
            "colorscale": [
             [
              0,
              "#0d0887"
             ],
             [
              0.1111111111111111,
              "#46039f"
             ],
             [
              0.2222222222222222,
              "#7201a8"
             ],
             [
              0.3333333333333333,
              "#9c179e"
             ],
             [
              0.4444444444444444,
              "#bd3786"
             ],
             [
              0.5555555555555556,
              "#d8576b"
             ],
             [
              0.6666666666666666,
              "#ed7953"
             ],
             [
              0.7777777777777778,
              "#fb9f3a"
             ],
             [
              0.8888888888888888,
              "#fdca26"
             ],
             [
              1,
              "#f0f921"
             ]
            ],
            "type": "contour"
           }
          ],
          "contourcarpet": [
           {
            "colorbar": {
             "outlinewidth": 0,
             "ticks": ""
            },
            "type": "contourcarpet"
           }
          ],
          "heatmap": [
           {
            "colorbar": {
             "outlinewidth": 0,
             "ticks": ""
            },
            "colorscale": [
             [
              0,
              "#0d0887"
             ],
             [
              0.1111111111111111,
              "#46039f"
             ],
             [
              0.2222222222222222,
              "#7201a8"
             ],
             [
              0.3333333333333333,
              "#9c179e"
             ],
             [
              0.4444444444444444,
              "#bd3786"
             ],
             [
              0.5555555555555556,
              "#d8576b"
             ],
             [
              0.6666666666666666,
              "#ed7953"
             ],
             [
              0.7777777777777778,
              "#fb9f3a"
             ],
             [
              0.8888888888888888,
              "#fdca26"
             ],
             [
              1,
              "#f0f921"
             ]
            ],
            "type": "heatmap"
           }
          ],
          "heatmapgl": [
           {
            "colorbar": {
             "outlinewidth": 0,
             "ticks": ""
            },
            "colorscale": [
             [
              0,
              "#0d0887"
             ],
             [
              0.1111111111111111,
              "#46039f"
             ],
             [
              0.2222222222222222,
              "#7201a8"
             ],
             [
              0.3333333333333333,
              "#9c179e"
             ],
             [
              0.4444444444444444,
              "#bd3786"
             ],
             [
              0.5555555555555556,
              "#d8576b"
             ],
             [
              0.6666666666666666,
              "#ed7953"
             ],
             [
              0.7777777777777778,
              "#fb9f3a"
             ],
             [
              0.8888888888888888,
              "#fdca26"
             ],
             [
              1,
              "#f0f921"
             ]
            ],
            "type": "heatmapgl"
           }
          ],
          "histogram": [
           {
            "marker": {
             "colorbar": {
              "outlinewidth": 0,
              "ticks": ""
             }
            },
            "type": "histogram"
           }
          ],
          "histogram2d": [
           {
            "colorbar": {
             "outlinewidth": 0,
             "ticks": ""
            },
            "colorscale": [
             [
              0,
              "#0d0887"
             ],
             [
              0.1111111111111111,
              "#46039f"
             ],
             [
              0.2222222222222222,
              "#7201a8"
             ],
             [
              0.3333333333333333,
              "#9c179e"
             ],
             [
              0.4444444444444444,
              "#bd3786"
             ],
             [
              0.5555555555555556,
              "#d8576b"
             ],
             [
              0.6666666666666666,
              "#ed7953"
             ],
             [
              0.7777777777777778,
              "#fb9f3a"
             ],
             [
              0.8888888888888888,
              "#fdca26"
             ],
             [
              1,
              "#f0f921"
             ]
            ],
            "type": "histogram2d"
           }
          ],
          "histogram2dcontour": [
           {
            "colorbar": {
             "outlinewidth": 0,
             "ticks": ""
            },
            "colorscale": [
             [
              0,
              "#0d0887"
             ],
             [
              0.1111111111111111,
              "#46039f"
             ],
             [
              0.2222222222222222,
              "#7201a8"
             ],
             [
              0.3333333333333333,
              "#9c179e"
             ],
             [
              0.4444444444444444,
              "#bd3786"
             ],
             [
              0.5555555555555556,
              "#d8576b"
             ],
             [
              0.6666666666666666,
              "#ed7953"
             ],
             [
              0.7777777777777778,
              "#fb9f3a"
             ],
             [
              0.8888888888888888,
              "#fdca26"
             ],
             [
              1,
              "#f0f921"
             ]
            ],
            "type": "histogram2dcontour"
           }
          ],
          "mesh3d": [
           {
            "colorbar": {
             "outlinewidth": 0,
             "ticks": ""
            },
            "type": "mesh3d"
           }
          ],
          "parcoords": [
           {
            "line": {
             "colorbar": {
              "outlinewidth": 0,
              "ticks": ""
             }
            },
            "type": "parcoords"
           }
          ],
          "pie": [
           {
            "automargin": true,
            "type": "pie"
           }
          ],
          "scatter": [
           {
            "marker": {
             "colorbar": {
              "outlinewidth": 0,
              "ticks": ""
             }
            },
            "type": "scatter"
           }
          ],
          "scatter3d": [
           {
            "line": {
             "colorbar": {
              "outlinewidth": 0,
              "ticks": ""
             }
            },
            "marker": {
             "colorbar": {
              "outlinewidth": 0,
              "ticks": ""
             }
            },
            "type": "scatter3d"
           }
          ],
          "scattercarpet": [
           {
            "marker": {
             "colorbar": {
              "outlinewidth": 0,
              "ticks": ""
             }
            },
            "type": "scattercarpet"
           }
          ],
          "scattergeo": [
           {
            "marker": {
             "colorbar": {
              "outlinewidth": 0,
              "ticks": ""
             }
            },
            "type": "scattergeo"
           }
          ],
          "scattergl": [
           {
            "marker": {
             "colorbar": {
              "outlinewidth": 0,
              "ticks": ""
             }
            },
            "type": "scattergl"
           }
          ],
          "scattermapbox": [
           {
            "marker": {
             "colorbar": {
              "outlinewidth": 0,
              "ticks": ""
             }
            },
            "type": "scattermapbox"
           }
          ],
          "scatterpolar": [
           {
            "marker": {
             "colorbar": {
              "outlinewidth": 0,
              "ticks": ""
             }
            },
            "type": "scatterpolar"
           }
          ],
          "scatterpolargl": [
           {
            "marker": {
             "colorbar": {
              "outlinewidth": 0,
              "ticks": ""
             }
            },
            "type": "scatterpolargl"
           }
          ],
          "scatterternary": [
           {
            "marker": {
             "colorbar": {
              "outlinewidth": 0,
              "ticks": ""
             }
            },
            "type": "scatterternary"
           }
          ],
          "surface": [
           {
            "colorbar": {
             "outlinewidth": 0,
             "ticks": ""
            },
            "colorscale": [
             [
              0,
              "#0d0887"
             ],
             [
              0.1111111111111111,
              "#46039f"
             ],
             [
              0.2222222222222222,
              "#7201a8"
             ],
             [
              0.3333333333333333,
              "#9c179e"
             ],
             [
              0.4444444444444444,
              "#bd3786"
             ],
             [
              0.5555555555555556,
              "#d8576b"
             ],
             [
              0.6666666666666666,
              "#ed7953"
             ],
             [
              0.7777777777777778,
              "#fb9f3a"
             ],
             [
              0.8888888888888888,
              "#fdca26"
             ],
             [
              1,
              "#f0f921"
             ]
            ],
            "type": "surface"
           }
          ],
          "table": [
           {
            "cells": {
             "fill": {
              "color": "#EBF0F8"
             },
             "line": {
              "color": "white"
             }
            },
            "header": {
             "fill": {
              "color": "#C8D4E3"
             },
             "line": {
              "color": "white"
             }
            },
            "type": "table"
           }
          ]
         },
         "layout": {
          "annotationdefaults": {
           "arrowcolor": "#2a3f5f",
           "arrowhead": 0,
           "arrowwidth": 1
          },
          "autotypenumbers": "strict",
          "coloraxis": {
           "colorbar": {
            "outlinewidth": 0,
            "ticks": ""
           }
          },
          "colorscale": {
           "diverging": [
            [
             0,
             "#8e0152"
            ],
            [
             0.1,
             "#c51b7d"
            ],
            [
             0.2,
             "#de77ae"
            ],
            [
             0.3,
             "#f1b6da"
            ],
            [
             0.4,
             "#fde0ef"
            ],
            [
             0.5,
             "#f7f7f7"
            ],
            [
             0.6,
             "#e6f5d0"
            ],
            [
             0.7,
             "#b8e186"
            ],
            [
             0.8,
             "#7fbc41"
            ],
            [
             0.9,
             "#4d9221"
            ],
            [
             1,
             "#276419"
            ]
           ],
           "sequential": [
            [
             0,
             "#0d0887"
            ],
            [
             0.1111111111111111,
             "#46039f"
            ],
            [
             0.2222222222222222,
             "#7201a8"
            ],
            [
             0.3333333333333333,
             "#9c179e"
            ],
            [
             0.4444444444444444,
             "#bd3786"
            ],
            [
             0.5555555555555556,
             "#d8576b"
            ],
            [
             0.6666666666666666,
             "#ed7953"
            ],
            [
             0.7777777777777778,
             "#fb9f3a"
            ],
            [
             0.8888888888888888,
             "#fdca26"
            ],
            [
             1,
             "#f0f921"
            ]
           ],
           "sequentialminus": [
            [
             0,
             "#0d0887"
            ],
            [
             0.1111111111111111,
             "#46039f"
            ],
            [
             0.2222222222222222,
             "#7201a8"
            ],
            [
             0.3333333333333333,
             "#9c179e"
            ],
            [
             0.4444444444444444,
             "#bd3786"
            ],
            [
             0.5555555555555556,
             "#d8576b"
            ],
            [
             0.6666666666666666,
             "#ed7953"
            ],
            [
             0.7777777777777778,
             "#fb9f3a"
            ],
            [
             0.8888888888888888,
             "#fdca26"
            ],
            [
             1,
             "#f0f921"
            ]
           ]
          },
          "colorway": [
           "#636efa",
           "#EF553B",
           "#00cc96",
           "#ab63fa",
           "#FFA15A",
           "#19d3f3",
           "#FF6692",
           "#B6E880",
           "#FF97FF",
           "#FECB52"
          ],
          "font": {
           "color": "#2a3f5f"
          },
          "geo": {
           "bgcolor": "white",
           "lakecolor": "white",
           "landcolor": "#E5ECF6",
           "showlakes": true,
           "showland": true,
           "subunitcolor": "white"
          },
          "hoverlabel": {
           "align": "left"
          },
          "hovermode": "closest",
          "mapbox": {
           "style": "light"
          },
          "paper_bgcolor": "white",
          "plot_bgcolor": "#E5ECF6",
          "polar": {
           "angularaxis": {
            "gridcolor": "white",
            "linecolor": "white",
            "ticks": ""
           },
           "bgcolor": "#E5ECF6",
           "radialaxis": {
            "gridcolor": "white",
            "linecolor": "white",
            "ticks": ""
           }
          },
          "scene": {
           "xaxis": {
            "backgroundcolor": "#E5ECF6",
            "gridcolor": "white",
            "gridwidth": 2,
            "linecolor": "white",
            "showbackground": true,
            "ticks": "",
            "zerolinecolor": "white"
           },
           "yaxis": {
            "backgroundcolor": "#E5ECF6",
            "gridcolor": "white",
            "gridwidth": 2,
            "linecolor": "white",
            "showbackground": true,
            "ticks": "",
            "zerolinecolor": "white"
           },
           "zaxis": {
            "backgroundcolor": "#E5ECF6",
            "gridcolor": "white",
            "gridwidth": 2,
            "linecolor": "white",
            "showbackground": true,
            "ticks": "",
            "zerolinecolor": "white"
           }
          },
          "shapedefaults": {
           "line": {
            "color": "#2a3f5f"
           }
          },
          "ternary": {
           "aaxis": {
            "gridcolor": "white",
            "linecolor": "white",
            "ticks": ""
           },
           "baxis": {
            "gridcolor": "white",
            "linecolor": "white",
            "ticks": ""
           },
           "bgcolor": "#E5ECF6",
           "caxis": {
            "gridcolor": "white",
            "linecolor": "white",
            "ticks": ""
           }
          },
          "title": {
           "x": 0.05
          },
          "xaxis": {
           "automargin": true,
           "gridcolor": "white",
           "linecolor": "white",
           "ticks": "",
           "title": {
            "standoff": 15
           },
           "zerolinecolor": "white",
           "zerolinewidth": 2
          },
          "yaxis": {
           "automargin": true,
           "gridcolor": "white",
           "linecolor": "white",
           "ticks": "",
           "title": {
            "standoff": 15
           },
           "zerolinecolor": "white",
           "zerolinewidth": 2
          }
         }
        },
        "xaxis": {
         "anchor": "y",
         "constrain": "domain",
         "domain": [
          0,
          1
         ],
         "scaleanchor": "y"
        },
        "yaxis": {
         "anchor": "x",
         "autorange": "reversed",
         "constrain": "domain",
         "domain": [
          0,
          1
         ]
        }
       }
      },
      "text/html": [
       "<div>                            <div id=\"4038db26-5835-410e-815b-9a3fe80255e3\" class=\"plotly-graph-div\" style=\"height:525px; width:100%;\"></div>            <script type=\"text/javascript\">                require([\"plotly\"], function(Plotly) {                    window.PLOTLYENV=window.PLOTLYENV || {};                                    if (document.getElementById(\"4038db26-5835-410e-815b-9a3fe80255e3\")) {                    Plotly.newPlot(                        \"4038db26-5835-410e-815b-9a3fe80255e3\",                        [{\"coloraxis\": \"coloraxis\", \"hovertemplate\": \"x: %{x}<br>y: %{y}<br>color: %{z}<extra></extra>\", \"name\": \"0\", \"type\": \"heatmap\", \"xaxis\": \"x\", \"yaxis\": \"y\", \"z\": [[0.0, 0.388558, 0.39537, 0.394822, 0.394822, 0.54615, 0.502918, 0.20701, 0.206342, 0.33585, 0.383074, 0.382486, 0.382142, 0.624838, 0.759342, 0.911454], [0.388558, 0.0, 0.145016, 0.157512, 0.157512, 0.46882, 0.321308, 0.271616, 0.271876, 0.286328, 0.296292, 0.296656, 0.296584, 0.583068, 0.633536, 0.81718], [0.39537, 0.145016, 0.0, 0.013248, 0.013248, 0.579228, 0.358796, 0.334408, 0.33442, 0.375976, 0.41778, 0.417448, 0.417352, 0.515204, 0.65948, 0.832284], [0.394822, 0.157512, 0.013248, 0.0, 0.0, 0.575148, 0.354628, 0.330176, 0.330204, 0.37176, 0.413788, 0.413104, 0.413008, 0.514716, 0.655128, 0.82794], [0.394822, 0.157512, 0.013248, 0.0, 0.0, 0.575148, 0.354628, 0.330176, 0.330204, 0.37176, 0.413788, 0.413104, 0.413008, 0.514716, 0.655128, 0.82794], [0.54615, 0.46882, 0.579228, 0.575148, 0.575148, 0.0, 0.48536, 0.348044, 0.34756, 0.236388, 0.187016, 0.18614, 0.186852, 0.87506, 0.76346, 0.765944], [0.502918, 0.321308, 0.358796, 0.354628, 0.354628, 0.48536, 0.0, 0.341556, 0.341872, 0.28026, 0.328456, 0.328292, 0.328164, 0.511436, 0.456796, 0.69628], [0.20701, 0.271616, 0.334408, 0.330176, 0.330176, 0.348044, 0.341556, 0.0, 0.000668, 0.13676, 0.182764, 0.183056, 0.182712, 0.685828, 0.684936, 0.847204], [0.206342, 0.271876, 0.33442, 0.330204, 0.330204, 0.34756, 0.341872, 0.000668, 0.0, 0.136916, 0.183432, 0.18282, 0.182476, 0.685672, 0.685068, 0.846968], [0.33585, 0.286328, 0.375976, 0.37176, 0.37176, 0.236388, 0.28026, 0.13676, 0.136916, 0.0, 0.051092, 0.051296, 0.050584, 0.759236, 0.689792, 0.832092], [0.383074, 0.296292, 0.41778, 0.413788, 0.413788, 0.187016, 0.328456, 0.182764, 0.183432, 0.051092, 0.0, 0.002324, 0.001636, 0.748384, 0.640628, 0.783088], [0.382486, 0.296656, 0.417448, 0.413104, 0.413104, 0.18614, 0.328292, 0.183056, 0.18282, 0.051296, 0.002324, 0.0, 0.000768, 0.747284, 0.639376, 0.782236], [0.382142, 0.296584, 0.417352, 0.413008, 0.413008, 0.186852, 0.328164, 0.182712, 0.182476, 0.050584, 0.001636, 0.000768, 0.0, 0.747948, 0.64004, 0.781548], [0.624838, 0.583068, 0.515204, 0.514716, 0.514716, 0.87506, 0.511436, 0.685828, 0.685672, 0.759236, 0.748384, 0.747284, 0.747948, 0.0, 0.353936, 0.59586], [0.759342, 0.633536, 0.65948, 0.655128, 0.655128, 0.76346, 0.456796, 0.684936, 0.685068, 0.689792, 0.640628, 0.639376, 0.64004, 0.353936, 0.0, 0.310708], [0.911454, 0.81718, 0.832284, 0.82794, 0.82794, 0.765944, 0.69628, 0.847204, 0.846968, 0.832092, 0.783088, 0.782236, 0.781548, 0.59586, 0.310708, 0.0]]}],                        {\"coloraxis\": {\"colorscale\": [[0.0, \"#0d0887\"], [0.1111111111111111, \"#46039f\"], [0.2222222222222222, \"#7201a8\"], [0.3333333333333333, \"#9c179e\"], [0.4444444444444444, \"#bd3786\"], [0.5555555555555556, \"#d8576b\"], [0.6666666666666666, \"#ed7953\"], [0.7777777777777778, \"#fb9f3a\"], [0.8888888888888888, \"#fdca26\"], [1.0, \"#f0f921\"]]}, \"margin\": {\"t\": 60}, \"template\": {\"data\": {\"bar\": [{\"error_x\": {\"color\": \"#2a3f5f\"}, \"error_y\": {\"color\": \"#2a3f5f\"}, \"marker\": {\"line\": {\"color\": \"#E5ECF6\", \"width\": 0.5}}, \"type\": \"bar\"}], \"barpolar\": [{\"marker\": {\"line\": {\"color\": \"#E5ECF6\", \"width\": 0.5}}, \"type\": \"barpolar\"}], \"carpet\": [{\"aaxis\": {\"endlinecolor\": \"#2a3f5f\", \"gridcolor\": \"white\", \"linecolor\": \"white\", \"minorgridcolor\": \"white\", \"startlinecolor\": \"#2a3f5f\"}, \"baxis\": {\"endlinecolor\": \"#2a3f5f\", \"gridcolor\": \"white\", \"linecolor\": \"white\", \"minorgridcolor\": \"white\", \"startlinecolor\": \"#2a3f5f\"}, \"type\": \"carpet\"}], \"choropleth\": [{\"colorbar\": {\"outlinewidth\": 0, \"ticks\": \"\"}, \"type\": \"choropleth\"}], \"contour\": [{\"colorbar\": {\"outlinewidth\": 0, \"ticks\": \"\"}, \"colorscale\": [[0.0, \"#0d0887\"], [0.1111111111111111, \"#46039f\"], [0.2222222222222222, \"#7201a8\"], [0.3333333333333333, \"#9c179e\"], [0.4444444444444444, \"#bd3786\"], [0.5555555555555556, \"#d8576b\"], [0.6666666666666666, \"#ed7953\"], [0.7777777777777778, \"#fb9f3a\"], [0.8888888888888888, \"#fdca26\"], [1.0, \"#f0f921\"]], \"type\": \"contour\"}], \"contourcarpet\": [{\"colorbar\": {\"outlinewidth\": 0, \"ticks\": \"\"}, \"type\": \"contourcarpet\"}], \"heatmap\": [{\"colorbar\": {\"outlinewidth\": 0, \"ticks\": \"\"}, \"colorscale\": [[0.0, \"#0d0887\"], [0.1111111111111111, \"#46039f\"], [0.2222222222222222, \"#7201a8\"], [0.3333333333333333, \"#9c179e\"], [0.4444444444444444, \"#bd3786\"], [0.5555555555555556, \"#d8576b\"], [0.6666666666666666, \"#ed7953\"], [0.7777777777777778, \"#fb9f3a\"], [0.8888888888888888, \"#fdca26\"], [1.0, \"#f0f921\"]], \"type\": \"heatmap\"}], \"heatmapgl\": [{\"colorbar\": {\"outlinewidth\": 0, \"ticks\": \"\"}, \"colorscale\": [[0.0, \"#0d0887\"], [0.1111111111111111, \"#46039f\"], [0.2222222222222222, \"#7201a8\"], [0.3333333333333333, \"#9c179e\"], [0.4444444444444444, \"#bd3786\"], [0.5555555555555556, \"#d8576b\"], [0.6666666666666666, \"#ed7953\"], [0.7777777777777778, \"#fb9f3a\"], [0.8888888888888888, \"#fdca26\"], [1.0, \"#f0f921\"]], \"type\": \"heatmapgl\"}], \"histogram\": [{\"marker\": {\"colorbar\": {\"outlinewidth\": 0, \"ticks\": \"\"}}, \"type\": \"histogram\"}], \"histogram2d\": [{\"colorbar\": {\"outlinewidth\": 0, \"ticks\": \"\"}, \"colorscale\": [[0.0, \"#0d0887\"], [0.1111111111111111, \"#46039f\"], [0.2222222222222222, \"#7201a8\"], [0.3333333333333333, \"#9c179e\"], [0.4444444444444444, \"#bd3786\"], [0.5555555555555556, \"#d8576b\"], [0.6666666666666666, \"#ed7953\"], [0.7777777777777778, \"#fb9f3a\"], [0.8888888888888888, \"#fdca26\"], [1.0, \"#f0f921\"]], \"type\": \"histogram2d\"}], \"histogram2dcontour\": [{\"colorbar\": {\"outlinewidth\": 0, \"ticks\": \"\"}, \"colorscale\": [[0.0, \"#0d0887\"], [0.1111111111111111, \"#46039f\"], [0.2222222222222222, \"#7201a8\"], [0.3333333333333333, \"#9c179e\"], [0.4444444444444444, \"#bd3786\"], [0.5555555555555556, \"#d8576b\"], [0.6666666666666666, \"#ed7953\"], [0.7777777777777778, \"#fb9f3a\"], [0.8888888888888888, \"#fdca26\"], [1.0, \"#f0f921\"]], \"type\": \"histogram2dcontour\"}], \"mesh3d\": [{\"colorbar\": {\"outlinewidth\": 0, \"ticks\": \"\"}, \"type\": \"mesh3d\"}], \"parcoords\": [{\"line\": {\"colorbar\": {\"outlinewidth\": 0, \"ticks\": \"\"}}, \"type\": \"parcoords\"}], \"pie\": [{\"automargin\": true, \"type\": \"pie\"}], \"scatter\": [{\"marker\": {\"colorbar\": {\"outlinewidth\": 0, \"ticks\": \"\"}}, \"type\": \"scatter\"}], \"scatter3d\": [{\"line\": {\"colorbar\": {\"outlinewidth\": 0, \"ticks\": \"\"}}, \"marker\": {\"colorbar\": {\"outlinewidth\": 0, \"ticks\": \"\"}}, \"type\": \"scatter3d\"}], \"scattercarpet\": [{\"marker\": {\"colorbar\": {\"outlinewidth\": 0, \"ticks\": \"\"}}, \"type\": \"scattercarpet\"}], \"scattergeo\": [{\"marker\": {\"colorbar\": {\"outlinewidth\": 0, \"ticks\": \"\"}}, \"type\": \"scattergeo\"}], \"scattergl\": [{\"marker\": {\"colorbar\": {\"outlinewidth\": 0, \"ticks\": \"\"}}, \"type\": \"scattergl\"}], \"scattermapbox\": [{\"marker\": {\"colorbar\": {\"outlinewidth\": 0, \"ticks\": \"\"}}, \"type\": \"scattermapbox\"}], \"scatterpolar\": [{\"marker\": {\"colorbar\": {\"outlinewidth\": 0, \"ticks\": \"\"}}, \"type\": \"scatterpolar\"}], \"scatterpolargl\": [{\"marker\": {\"colorbar\": {\"outlinewidth\": 0, \"ticks\": \"\"}}, \"type\": \"scatterpolargl\"}], \"scatterternary\": [{\"marker\": {\"colorbar\": {\"outlinewidth\": 0, \"ticks\": \"\"}}, \"type\": \"scatterternary\"}], \"surface\": [{\"colorbar\": {\"outlinewidth\": 0, \"ticks\": \"\"}, \"colorscale\": [[0.0, \"#0d0887\"], [0.1111111111111111, \"#46039f\"], [0.2222222222222222, \"#7201a8\"], [0.3333333333333333, \"#9c179e\"], [0.4444444444444444, \"#bd3786\"], [0.5555555555555556, \"#d8576b\"], [0.6666666666666666, \"#ed7953\"], [0.7777777777777778, \"#fb9f3a\"], [0.8888888888888888, \"#fdca26\"], [1.0, \"#f0f921\"]], \"type\": \"surface\"}], \"table\": [{\"cells\": {\"fill\": {\"color\": \"#EBF0F8\"}, \"line\": {\"color\": \"white\"}}, \"header\": {\"fill\": {\"color\": \"#C8D4E3\"}, \"line\": {\"color\": \"white\"}}, \"type\": \"table\"}]}, \"layout\": {\"annotationdefaults\": {\"arrowcolor\": \"#2a3f5f\", \"arrowhead\": 0, \"arrowwidth\": 1}, \"autotypenumbers\": \"strict\", \"coloraxis\": {\"colorbar\": {\"outlinewidth\": 0, \"ticks\": \"\"}}, \"colorscale\": {\"diverging\": [[0, \"#8e0152\"], [0.1, \"#c51b7d\"], [0.2, \"#de77ae\"], [0.3, \"#f1b6da\"], [0.4, \"#fde0ef\"], [0.5, \"#f7f7f7\"], [0.6, \"#e6f5d0\"], [0.7, \"#b8e186\"], [0.8, \"#7fbc41\"], [0.9, \"#4d9221\"], [1, \"#276419\"]], \"sequential\": [[0.0, \"#0d0887\"], [0.1111111111111111, \"#46039f\"], [0.2222222222222222, \"#7201a8\"], [0.3333333333333333, \"#9c179e\"], [0.4444444444444444, \"#bd3786\"], [0.5555555555555556, \"#d8576b\"], [0.6666666666666666, \"#ed7953\"], [0.7777777777777778, \"#fb9f3a\"], [0.8888888888888888, \"#fdca26\"], [1.0, \"#f0f921\"]], \"sequentialminus\": [[0.0, \"#0d0887\"], [0.1111111111111111, \"#46039f\"], [0.2222222222222222, \"#7201a8\"], [0.3333333333333333, \"#9c179e\"], [0.4444444444444444, \"#bd3786\"], [0.5555555555555556, \"#d8576b\"], [0.6666666666666666, \"#ed7953\"], [0.7777777777777778, \"#fb9f3a\"], [0.8888888888888888, \"#fdca26\"], [1.0, \"#f0f921\"]]}, \"colorway\": [\"#636efa\", \"#EF553B\", \"#00cc96\", \"#ab63fa\", \"#FFA15A\", \"#19d3f3\", \"#FF6692\", \"#B6E880\", \"#FF97FF\", \"#FECB52\"], \"font\": {\"color\": \"#2a3f5f\"}, \"geo\": {\"bgcolor\": \"white\", \"lakecolor\": \"white\", \"landcolor\": \"#E5ECF6\", \"showlakes\": true, \"showland\": true, \"subunitcolor\": \"white\"}, \"hoverlabel\": {\"align\": \"left\"}, \"hovermode\": \"closest\", \"mapbox\": {\"style\": \"light\"}, \"paper_bgcolor\": \"white\", \"plot_bgcolor\": \"#E5ECF6\", \"polar\": {\"angularaxis\": {\"gridcolor\": \"white\", \"linecolor\": \"white\", \"ticks\": \"\"}, \"bgcolor\": \"#E5ECF6\", \"radialaxis\": {\"gridcolor\": \"white\", \"linecolor\": \"white\", \"ticks\": \"\"}}, \"scene\": {\"xaxis\": {\"backgroundcolor\": \"#E5ECF6\", \"gridcolor\": \"white\", \"gridwidth\": 2, \"linecolor\": \"white\", \"showbackground\": true, \"ticks\": \"\", \"zerolinecolor\": \"white\"}, \"yaxis\": {\"backgroundcolor\": \"#E5ECF6\", \"gridcolor\": \"white\", \"gridwidth\": 2, \"linecolor\": \"white\", \"showbackground\": true, \"ticks\": \"\", \"zerolinecolor\": \"white\"}, \"zaxis\": {\"backgroundcolor\": \"#E5ECF6\", \"gridcolor\": \"white\", \"gridwidth\": 2, \"linecolor\": \"white\", \"showbackground\": true, \"ticks\": \"\", \"zerolinecolor\": \"white\"}}, \"shapedefaults\": {\"line\": {\"color\": \"#2a3f5f\"}}, \"ternary\": {\"aaxis\": {\"gridcolor\": \"white\", \"linecolor\": \"white\", \"ticks\": \"\"}, \"baxis\": {\"gridcolor\": \"white\", \"linecolor\": \"white\", \"ticks\": \"\"}, \"bgcolor\": \"#E5ECF6\", \"caxis\": {\"gridcolor\": \"white\", \"linecolor\": \"white\", \"ticks\": \"\"}}, \"title\": {\"x\": 0.05}, \"xaxis\": {\"automargin\": true, \"gridcolor\": \"white\", \"linecolor\": \"white\", \"ticks\": \"\", \"title\": {\"standoff\": 15}, \"zerolinecolor\": \"white\", \"zerolinewidth\": 2}, \"yaxis\": {\"automargin\": true, \"gridcolor\": \"white\", \"linecolor\": \"white\", \"ticks\": \"\", \"title\": {\"standoff\": 15}, \"zerolinecolor\": \"white\", \"zerolinewidth\": 2}}}, \"xaxis\": {\"anchor\": \"y\", \"constrain\": \"domain\", \"domain\": [0.0, 1.0], \"scaleanchor\": \"y\"}, \"yaxis\": {\"anchor\": \"x\", \"autorange\": \"reversed\", \"constrain\": \"domain\", \"domain\": [0.0, 1.0]}},                        {\"responsive\": true}                    ).then(function(){\n",
       "                            \n",
       "var gd = document.getElementById('4038db26-5835-410e-815b-9a3fe80255e3');\n",
       "var x = new MutationObserver(function (mutations, observer) {{\n",
       "        var display = window.getComputedStyle(gd).display;\n",
       "        if (!display || display === 'none') {{\n",
       "            console.log([gd, 'removed!']);\n",
       "            Plotly.purge(gd);\n",
       "            observer.disconnect();\n",
       "        }}\n",
       "}});\n",
       "\n",
       "// Listen for the removal of the full notebook cells\n",
       "var notebookContainer = gd.closest('#notebook-container');\n",
       "if (notebookContainer) {{\n",
       "    x.observe(notebookContainer, {childList: true});\n",
       "}}\n",
       "\n",
       "// Listen for the clearing of the current output cell\n",
       "var outputEl = gd.closest('.output');\n",
       "if (outputEl) {{\n",
       "    x.observe(outputEl, {childList: true});\n",
       "}}\n",
       "\n",
       "                        })                };                });            </script>        </div>"
      ]
     },
     "metadata": {},
     "output_type": "display_data"
    }
   ],
   "source": [
    "ordered_dist_mat, res_order, res_linkage = compute_serial_matrix(S, 'complete')\n",
    "\n",
    "px.imshow(ordered_dist_mat)"
   ]
  },
  {
   "cell_type": "code",
   "execution_count": 107,
   "id": "alternate-animation",
   "metadata": {},
   "outputs": [
    {
     "name": "stdout",
     "output_type": "stream",
     "text": [
      "[6, 10, 15, 7, 9, 14, 11, 1, 8, 0, 5, 2, 4, 13, 3, 12]\n"
     ]
    }
   ],
   "source": [
    "print(res_order)"
   ]
  },
  {
   "cell_type": "markdown",
   "id": "exposed-pledge",
   "metadata": {},
   "source": [
    "## 4. Manifold for metric"
   ]
  },
  {
   "cell_type": "code",
   "execution_count": 90,
   "id": "opposed-wilson",
   "metadata": {},
   "outputs": [],
   "source": [
    "embedding = Isomap(n_components=4)"
   ]
  },
  {
   "cell_type": "code",
   "execution_count": 87,
   "id": "harmful-savage",
   "metadata": {},
   "outputs": [],
   "source": [
    "X_transformed = X_normalized[:100]"
   ]
  },
  {
   "cell_type": "code",
   "execution_count": 91,
   "id": "rocky-dance",
   "metadata": {},
   "outputs": [],
   "source": [
    "X_transformed = embedding.fit_transform(X_normalized[:100])"
   ]
  },
  {
   "cell_type": "code",
   "execution_count": 92,
   "id": "voluntary-genetics",
   "metadata": {},
   "outputs": [],
   "source": [
    "Kstar = pairwise_distances(X_transformed)"
   ]
  },
  {
   "cell_type": "code",
   "execution_count": 93,
   "id": "oriented-virus",
   "metadata": {},
   "outputs": [
    {
     "name": "stdout",
     "output_type": "stream",
     "text": [
      "0: norm Ki 2.6672 norm Kstar 1.0966 norm diff 2.3650\n",
      "1: norm Ki 2.9351 norm Kstar 1.0966 norm diff 2.6460\n",
      "2: norm Ki 2.6784 norm Kstar 1.0966 norm diff 2.3781\n",
      "3: norm Ki 2.8041 norm Kstar 1.0966 norm diff 2.5198\n",
      "4: norm Ki 2.6784 norm Kstar 1.0966 norm diff 2.3781\n",
      "5: norm Ki 2.6784 norm Kstar 1.0966 norm diff 2.3781\n",
      "6: norm Ki 3.5144 norm Kstar 1.0966 norm diff 3.2411\n",
      "7: norm Ki 3.0896 norm Kstar 1.0966 norm diff 2.8031\n",
      "8: norm Ki 2.9351 norm Kstar 1.0966 norm diff 2.6460\n",
      "9: norm Ki 3.0896 norm Kstar 1.0966 norm diff 2.8031\n",
      "10: norm Ki 3.3029 norm Kstar 1.0966 norm diff 3.0211\n",
      "11: norm Ki 2.8279 norm Kstar 1.0966 norm diff 2.5361\n",
      "12: norm Ki 2.2133 norm Kstar 1.0966 norm diff 1.8858\n",
      "13: norm Ki 3.2963 norm Kstar 1.0966 norm diff 3.0301\n",
      "14: norm Ki 2.4664 norm Kstar 1.0966 norm diff 2.1554\n",
      "15: norm Ki 3.1265 norm Kstar 1.0966 norm diff 2.8504\n"
     ]
    }
   ],
   "source": [
    "kstar = Kstar/Kstar.sum(axis=1)\n",
    "for i in range(len(K)):\n",
    "    k = K[i]/K[i].sum(axis=1)\n",
    "    print('{}: norm Ki {:.4f} norm Kstar {:.4f} norm diff {:.4f}'.format(i, np.linalg.norm(k), \n",
    "                                                             np.linalg.norm(kstar), \n",
    "                                                             np.linalg.norm(k-kstar)))"
   ]
  },
  {
   "cell_type": "code",
   "execution_count": 8,
   "id": "statutory-slovak",
   "metadata": {},
   "outputs": [],
   "source": [
    "import squarify\n",
    "\n",
    "# these values define the coordinate system for the returned rectangles\n",
    "# the values will range from x to x + width and y to y + height\n",
    "x = 0.\n",
    "y = 0.\n",
    "width = 700.\n",
    "height = 433.\n",
    "\n",
    "values = [500, 433, 78, 25, 25, 7]\n",
    "\n",
    "# values must be sorted descending (and positive, obviously)\n",
    "values.sort(reverse=True)\n",
    "\n",
    "# the sum of the values must equal the total area to be laid out\n",
    "# i.e., sum(values) == width * height\n",
    "values = squarify.normalize_sizes(values, width, height)\n",
    "\n",
    "# returns a list of rectangles\n",
    "rects = squarify.squarify(values, x, y, width, height)\n",
    "\n",
    "# padded rectangles will probably visualize better for certain cases\n",
    "padded_rects = squarify.padded_squarify(values, x, y, width, height)"
   ]
  },
  {
   "cell_type": "code",
   "execution_count": 9,
   "id": "cognitive-motion",
   "metadata": {},
   "outputs": [
    {
     "data": {
      "text/plain": [
       "[{'x': 1.0, 'y': 1.0, 'dx': 325.7153558052434, 'dy': 431.0},\n",
       " {'x': 328.7153558052434,\n",
       "  'y': 1.0,\n",
       "  'dx': 370.2846441947566,\n",
       "  'dy': 328.0862676056338},\n",
       " {'x': 328.7153558052434,\n",
       "  'y': 331.0862676056338,\n",
       "  'dx': 213.0977944236371,\n",
       "  'dy': 100.9137323943662},\n",
       " {'x': 543.8131502288805,\n",
       "  'y': 331.0862676056338,\n",
       "  'dx': 66.94160077680677,\n",
       "  'dy': 100.9137323943662},\n",
       " {'x': 612.7547510056874,\n",
       "  'y': 331.0862676056338,\n",
       "  'dx': 86.24524899431273,\n",
       "  'dy': 78.40135343309854},\n",
       " {'x': 612.7547510056874,\n",
       "  'y': 411.4876210387323,\n",
       "  'dx': 86.2452489943124,\n",
       "  'dy': 20.51237896126767}]"
      ]
     },
     "execution_count": 9,
     "metadata": {},
     "output_type": "execute_result"
    }
   ],
   "source": [
    "padded_rects"
   ]
  },
  {
   "cell_type": "code",
   "execution_count": 12,
   "id": "blessed-covering",
   "metadata": {},
   "outputs": [
    {
     "data": {
      "text/plain": [
       "<AxesSubplot:>"
      ]
     },
     "execution_count": 12,
     "metadata": {},
     "output_type": "execute_result"
    },
    {
     "data": {
      "image/png": "[encoded data removed]",
      "text/plain": [
       "<Figure size 432x288 with 1 Axes>"
      ]
     },
     "metadata": {
      "needs_background": "light"
     },
     "output_type": "display_data"
    }
   ],
   "source": [
    "squarify.plot(values)"
   ]
  },
  {
   "cell_type": "code",
   "execution_count": null,
   "id": "cordless-symphony",
   "metadata": {},
   "outputs": [],
   "source": []
  }
 ],
 "metadata": {
  "kernelspec": {
   "display_name": "Python 3",
   "language": "python",
   "name": "python3"
  },
  "language_info": {
   "codemirror_mode": {
    "name": "ipython",
    "version": 3
   },
   "file_extension": ".py",
   "mimetype": "text/x-python",
   "name": "python",
   "nbconvert_exporter": "python",
   "pygments_lexer": "ipython3",
   "version": "3.6.9"
  }
 },
 "nbformat": 4,
 "nbformat_minor": 5
}
