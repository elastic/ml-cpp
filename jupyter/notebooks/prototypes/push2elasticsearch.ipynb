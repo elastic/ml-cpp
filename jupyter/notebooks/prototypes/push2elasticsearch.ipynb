{
 "cells": [
  {
   "cell_type": "code",
   "execution_count": 1,
   "id": "f68fb9b1",
   "metadata": {},
   "outputs": [],
   "source": [
    "from elasticsearch import Elasticsearch\n",
    "import json\n",
    "\n",
    "\n",
    "import configparser\n",
    "\n",
    "from incremental_learning.config import root_dir"
   ]
  },
  {
   "cell_type": "code",
   "execution_count": 2,
   "id": "31000010",
   "metadata": {},
   "outputs": [
    {
     "data": {
      "text/plain": [
       "['/home/valeriy/Documents/workspace/valeriy42/ml-cpp/jupyter/config.ini']"
      ]
     },
     "execution_count": 2,
     "metadata": {},
     "output_type": "execute_result"
    }
   ],
   "source": [
    "config = configparser.ConfigParser()\n",
    "\n",
    "config.read(root_dir / 'config.ini')"
   ]
  },
  {
   "cell_type": "code",
   "execution_count": 3,
   "id": "da4959dc",
   "metadata": {},
   "outputs": [],
   "source": [
    "es = Elasticsearch(cloud_id=config['cloud']['cloud_id'],\n",
    "                  http_auth=(config['cloud']['user'], config['cloud']['password']))"
   ]
  },
  {
   "cell_type": "code",
   "execution_count": 5,
   "id": "8dbe7bbe",
   "metadata": {},
   "outputs": [],
   "source": [
    "from pathlib2 import Path"
   ]
  },
  {
   "cell_type": "code",
   "execution_count": 20,
   "id": "a95dafda",
   "metadata": {},
   "outputs": [],
   "source": [
    "paths = list(root_dir.glob('**/experiment_data/*'))"
   ]
  },
  {
   "cell_type": "code",
   "execution_count": 21,
   "id": "f0541635",
   "metadata": {},
   "outputs": [
    {
     "data": {
      "text/plain": [
       "[PosixPath('/home/valeriy/Documents/workspace/valeriy42/ml-cpp/jupyter/notebooks/prototypes/experiment_data/1'),\n",
       " PosixPath('/home/valeriy/Documents/workspace/valeriy42/ml-cpp/jupyter/notebooks/prototypes/experiment_data/_sources'),\n",
       " PosixPath('/home/valeriy/Documents/workspace/valeriy42/ml-cpp/jupyter/notebooks/prototypes/experiment_data/3'),\n",
       " PosixPath('/home/valeriy/Documents/workspace/valeriy42/ml-cpp/jupyter/notebooks/prototypes/experiment_data/2')]"
      ]
     },
     "execution_count": 21,
     "metadata": {},
     "output_type": "execute_result"
    }
   ],
   "source": [
    "paths"
   ]
  },
  {
   "cell_type": "code",
   "execution_count": 22,
   "id": "d29c446d",
   "metadata": {},
   "outputs": [
    {
     "name": "stdout",
     "output_type": "stream",
     "text": [
      "/home/valeriy/Documents/workspace/valeriy42/ml-cpp/jupyter/notebooks/prototypes/experiment_data/1 created\n",
      "/home/valeriy/Documents/workspace/valeriy42/ml-cpp/jupyter/notebooks/prototypes/experiment_data/_sources\n",
      "/home/valeriy/Documents/workspace/valeriy42/ml-cpp/jupyter/notebooks/prototypes/experiment_data/3 created\n",
      "/home/valeriy/Documents/workspace/valeriy42/ml-cpp/jupyter/notebooks/prototypes/experiment_data/2 created\n"
     ]
    }
   ],
   "source": [
    "for path in paths:\n",
    "    if not (path/'config.json').is_file():\n",
    "        print('{} ignored'.format(path)\n",
    "        continue \n",
    "        \n",
    "    doc = {}\n",
    "    with open(path/'config.json') as fp:\n",
    "        config = json.load(fp)\n",
    "        doc['config'] = config\n",
    "\n",
    "    with open(path/'metrics.json') as fp:\n",
    "        metrics = json.load(fp)\n",
    "        doc['metrics'] = metrics\n",
    "        \n",
    "    with open(path/'run.json') as fp:\n",
    "        run = json.load(fp)\n",
    "        doc['run'] = run\n",
    "        artifacts = run['artifacts']\n",
    "        run['artifacts'] = []\n",
    "        for artifact in artifacts:\n",
    "            with open(path/artifact) as fp:\n",
    "                run['artifacts'].append({'name': artifact, 'value': fp.read()})\n",
    "        \n",
    "    with open(path/'cout.txt') as fp:\n",
    "        cout = fp.read()\n",
    "        doc['cout'] = cout\n",
    "\n",
    "    res = es.index(index='experiments', body=doc)\n",
    "    print('{} {}'.format(path, res['result']))"
   ]
  },
  {
   "cell_type": "code",
   "execution_count": 24,
   "id": "0674a812",
   "metadata": {},
   "outputs": [],
   "source": [
    "from pathlib2 import Path"
   ]
  },
  {
   "cell_type": "code",
   "execution_count": 25,
   "id": "89e1fb01",
   "metadata": {},
   "outputs": [
    {
     "name": "stdout",
     "output_type": "stream",
     "text": [
      "/home/valeriy/Documents/workspace/valeriy42/ml-cpp/jupyter/notebooks/__init__.py\n",
      "/home/valeriy/Documents/workspace/valeriy42/ml-cpp/jupyter/notebooks/incremental_learning\n",
      "/home/valeriy/Documents/workspace/valeriy42/ml-cpp/jupyter/notebooks/archive\n",
      "/home/valeriy/Documents/workspace/valeriy42/ml-cpp/jupyter/notebooks/.ipynb_checkpoints\n",
      "/home/valeriy/Documents/workspace/valeriy42/ml-cpp/jupyter/notebooks/prototypes\n"
     ]
    }
   ],
   "source": [
    "p = Path('/home/valeriy/Documents/workspace/valeriy42/ml-cpp/jupyter/notebooks/')\n",
    "for d in p.iterdir():\n",
    "    print(d)"
   ]
  },
  {
   "cell_type": "code",
   "execution_count": null,
   "id": "f690d91d",
   "metadata": {},
   "outputs": [],
   "source": []
  }
 ],
 "metadata": {
  "kernelspec": {
   "display_name": "Python 3",
   "language": "python",
   "name": "python3"
  },
  "language_info": {
   "codemirror_mode": {
    "name": "ipython",
    "version": 3
   },
   "file_extension": ".py",
   "mimetype": "text/x-python",
   "name": "python",
   "nbconvert_exporter": "python",
   "pygments_lexer": "ipython3",
   "version": "3.6.9"
  }
 },
 "nbformat": 4,
 "nbformat_minor": 5
}
