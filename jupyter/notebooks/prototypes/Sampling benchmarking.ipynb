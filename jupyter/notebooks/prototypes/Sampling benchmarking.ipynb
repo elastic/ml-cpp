{
 "cells": [
  {
   "cell_type": "code",
   "execution_count": 1,
   "id": "2ea9537f",
   "metadata": {},
   "outputs": [],
   "source": [
    "%load_ext autoreload\n",
    "%autoreload 2\n",
    "%config Completer.use_jedi = False\n",
    "\n",
    "from incremental_learning.storage import download_dataset\n",
    "from incremental_learning.misc import DataStream, reservoir_sample_with_jumps\n",
    "from incremental_learning.config import datasets_dir\n",
    "\n",
    "import pandas as pd\n",
    "import dask\n",
    "import dask.dataframe as dd\n",
    "\n",
    "import time\n",
    "import csv\n"
   ]
  },
  {
   "cell_type": "code",
   "execution_count": 2,
   "id": "0c1f03af",
   "metadata": {},
   "outputs": [],
   "source": [
    "# dataset_name = 'autompg'\n",
    "dataset_name = 'ember_malware_bytes'\n",
    "dataset = datasets_dir / \"{}.csv\".format(dataset_name)\n",
    "size_mb = dataset.stat().st_size/1024/1024"
   ]
  },
  {
   "cell_type": "code",
   "execution_count": 3,
   "id": "dce8345f",
   "metadata": {},
   "outputs": [],
   "source": [
    "def bandwidth(func):\n",
    "    def wrapper(*args, **kwargs):\n",
    "        start_time = time.time()\n",
    "        res = func(*args, **kwargs)\n",
    "        elapsed_time = time.time() - start_time\n",
    "        bandwidth = size_mb/elapsed_time\n",
    "        print(\"Elapsed time: {} sec\\nBandwidth: {} MB/sec\" .format(elapsed_time, bandwidth))\n",
    "        return res\n",
    "    return wrapper"
   ]
  },
  {
   "cell_type": "code",
   "execution_count": 47,
   "id": "36827664",
   "metadata": {},
   "outputs": [],
   "source": [
    "@bandwidth\n",
    "def pdreader():\n",
    "    df = pd.read_csv(dataset)\n",
    "\n",
    "    \n",
    "@bandwidth\n",
    "def pdsampler(k):\n",
    "    df = pd.read_csv(dataset)\n",
    "    return df.sample(frac=k)\n",
    "\n",
    "@bandwidth\n",
    "def ddsampler(k):\n",
    "    df = dd.read_csv(dataset)\n",
    "    return df.sample(frac=k).compute()\n",
    "\n",
    "@bandwidth\n",
    "def ddsortchoose(k):\n",
    "    df = dd.read_csv(dataset)\n",
    "    df = df.set_index('byte_histogram_0')\n",
    "    return df.tail(k)\n",
    "\n",
    "@bandwidth\n",
    "def ddnlargest(k):\n",
    "    df = dd.read_csv(dataset)\n",
    "    return df.nlargest(n=k, columns=['byte_histogram_0']).compute()\n",
    "#     df = df.set_index('byte_histogram_0')\n",
    "#     return df.tail(k)\n",
    "\n",
    "\n",
    "@bandwidth\n",
    "def dictreader():\n",
    "    with open(dataset, newline='') as csvfile:\n",
    "        reader = csv.DictReader(csvfile, dialect='unix')\n",
    "        for row in reader:\n",
    "            continue\n",
    "            \n",
    "@bandwidth\n",
    "def csvreader():\n",
    "    with open(dataset, newline='') as csvfile:\n",
    "        reader = csv.reader(csvfile, dialect='unix')\n",
    "        for row in reader:\n",
    "            continue\n",
    "\n",
    "@bandwidth\n",
    "def reservoir(k):\n",
    "    D = reservoir_sample_with_jumps(dataset, k)\n",
    "    return D"
   ]
  },
  {
   "cell_type": "code",
   "execution_count": 9,
   "id": "356781ae",
   "metadata": {},
   "outputs": [
    {
     "name": "stdout",
     "output_type": "stream",
     "text": [
      "Elapsed time: 42.04764652252197 sec\n",
      "Bandwidth: 73.44685728352995 MB/sec\n"
     ]
    }
   ],
   "source": [
    "dictreader()"
   ]
  },
  {
   "cell_type": "code",
   "execution_count": 6,
   "id": "b5fd9308",
   "metadata": {},
   "outputs": [
    {
     "name": "stdout",
     "output_type": "stream",
     "text": [
      "Elapsed time: 24.70233988761902 sec\n",
      "Bandwidth: 125.01922924296927 MB/sec\n"
     ]
    }
   ],
   "source": [
    "csvreader()"
   ]
  },
  {
   "cell_type": "code",
   "execution_count": 7,
   "id": "3bd28ac2",
   "metadata": {},
   "outputs": [
    {
     "name": "stdout",
     "output_type": "stream",
     "text": [
      "Elapsed time: 23.288196563720703 sec\n",
      "Bandwidth: 132.61084793740594 MB/sec\n"
     ]
    }
   ],
   "source": [
    "pdreader()"
   ]
  },
  {
   "cell_type": "code",
   "execution_count": 8,
   "id": "3c1e708b",
   "metadata": {},
   "outputs": [
    {
     "name": "stdout",
     "output_type": "stream",
     "text": [
      "Elapsed time: 47.16233491897583 sec\n",
      "Bandwidth: 65.4816496798469 MB/sec\n"
     ]
    }
   ],
   "source": [
    "_ = reservoir(10000)"
   ]
  },
  {
   "cell_type": "code",
   "execution_count": 22,
   "id": "611f8899",
   "metadata": {},
   "outputs": [
    {
     "name": "stdout",
     "output_type": "stream",
     "text": [
      "Elapsed time: 22.753843784332275 sec\n",
      "Bandwidth: 135.72508990215047 MB/sec\n"
     ]
    }
   ],
   "source": [
    "_ = pdsampler(0.2)"
   ]
  },
  {
   "cell_type": "code",
   "execution_count": 18,
   "id": "9468d48b",
   "metadata": {},
   "outputs": [
    {
     "name": "stdout",
     "output_type": "stream",
     "text": [
      "Elapsed time: 8.893215894699097 sec\n",
      "Bandwidth: 347.2610504248281 MB/sec\n"
     ]
    }
   ],
   "source": [
    "D = ddsampler(0.2)"
   ]
  },
  {
   "cell_type": "code",
   "execution_count": 44,
   "id": "f6eabb71",
   "metadata": {},
   "outputs": [
    {
     "name": "stdout",
     "output_type": "stream",
     "text": [
      "Elapsed time: 20.816734790802002 sec\n",
      "Bandwidth: 148.355038591958 MB/sec\n"
     ]
    }
   ],
   "source": [
    "D = ddsortchoose(2000)"
   ]
  },
  {
   "cell_type": "code",
   "execution_count": 50,
   "id": "efadba1a",
   "metadata": {},
   "outputs": [
    {
     "name": "stdout",
     "output_type": "stream",
     "text": [
      "Elapsed time: 8.83681583404541 sec\n",
      "Bandwidth: 349.477408067042 MB/sec\n"
     ]
    }
   ],
   "source": [
    "D = ddnlargest(2000)"
   ]
  },
  {
   "cell_type": "code",
   "execution_count": 51,
   "id": "b04dda8e",
   "metadata": {},
   "outputs": [],
   "source": [
    "df = dd.read_csv(dataset)"
   ]
  },
  {
   "cell_type": "code",
   "execution_count": 52,
   "id": "f503e67a",
   "metadata": {},
   "outputs": [
    {
     "data": {
      "text/plain": [
       "51"
      ]
     },
     "execution_count": 52,
     "metadata": {},
     "output_type": "execute_result"
    }
   ],
   "source": [
    "df.npartitions"
   ]
  },
  {
   "cell_type": "code",
   "execution_count": null,
   "id": "ba2738b2",
   "metadata": {},
   "outputs": [],
   "source": []
  }
 ],
 "metadata": {
  "kernelspec": {
   "display_name": "Python 3",
   "language": "python",
   "name": "python3"
  },
  "language_info": {
   "codemirror_mode": {
    "name": "ipython",
    "version": 3
   },
   "file_extension": ".py",
   "mimetype": "text/x-python",
   "name": "python",
   "nbconvert_exporter": "python",
   "pygments_lexer": "ipython3",
   "version": "3.6.9"
  }
 },
 "nbformat": 4,
 "nbformat_minor": 5
}
