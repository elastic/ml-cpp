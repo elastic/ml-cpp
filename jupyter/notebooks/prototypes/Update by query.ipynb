{
 "cells": [
  {
   "cell_type": "code",
   "execution_count": 1,
   "id": "d9ba5181",
   "metadata": {},
   "outputs": [],
   "source": [
    "%load_ext autoreload\n",
    "%autoreload 2\n",
    "%config Completer.use_jedi = False\n",
    "\n",
    "from elasticsearch import Elasticsearch\n",
    "import json\n",
    "import eland as ed\n",
    "from incremental_learning.config import es_cloud_id, es_user, es_password"
   ]
  },
  {
   "cell_type": "code",
   "execution_count": 2,
   "id": "5e505dc4",
   "metadata": {},
   "outputs": [],
   "source": [
    "es = Elasticsearch(cloud_id=es_cloud_id,\n",
    "                  http_auth=(es_user, es_password))"
   ]
  },
  {
   "cell_type": "code",
   "execution_count": 3,
   "id": "74e13d1c",
   "metadata": {},
   "outputs": [],
   "source": [
    "key = 'config.sampling_mode'\n",
    "data_ed = ed.DataFrame(es_client=es, es_index_pattern=\"experiment-multi-step-sampling\", \n",
    "             columns=['experiment_uid', key], )\n",
    "df = data_ed.to_pandas()\n",
    "df = df.dropna()"
   ]
  },
  {
   "cell_type": "code",
   "execution_count": 7,
   "id": "b33bd2fa",
   "metadata": {},
   "outputs": [],
   "source": [
    "for row in df.iterrows():\n",
    "    uid = row[1].experiment_uid\n",
    "    value = row[1][key]\n",
    "    q = {\n",
    "         \"script\": {\n",
    "            \"inline\": \"ctx._source.{key}='{value}'\".format(key=key.replace('.', '_'), value=value),\n",
    "            \"lang\": \"painless\"\n",
    "         },\n",
    "         \"query\": {\n",
    "            \"match\": {\n",
    "                \"experiment_uid\": uid\n",
    "            }\n",
    "         }\n",
    "    }\n",
    "    es.update_by_query(body=q, index='experiment-multi-step-sampling-metrics')"
   ]
  },
  {
   "cell_type": "code",
   "execution_count": null,
   "id": "6d54d956",
   "metadata": {},
   "outputs": [],
   "source": []
  }
 ],
 "metadata": {
  "kernelspec": {
   "display_name": "Python 3",
   "language": "python",
   "name": "python3"
  },
  "language_info": {
   "codemirror_mode": {
    "name": "ipython",
    "version": 3
   },
   "file_extension": ".py",
   "mimetype": "text/x-python",
   "name": "python",
   "nbconvert_exporter": "python",
   "pygments_lexer": "ipython3",
   "version": "3.6.9"
  }
 },
 "nbformat": 4,
 "nbformat_minor": 5
}
