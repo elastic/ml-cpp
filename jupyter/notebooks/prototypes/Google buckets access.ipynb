{
 "cells": [
  {
   "cell_type": "code",
   "execution_count": 1,
   "id": "4210e46d",
   "metadata": {},
   "outputs": [],
   "source": [
    "# Imports the Google Cloud client library\n",
    "from google.cloud import storage"
   ]
  },
  {
   "cell_type": "code",
   "execution_count": 2,
   "id": "d3346543",
   "metadata": {},
   "outputs": [],
   "source": [
    "# Instantiates a client\n",
    "storage_client = storage.Client()\n"
   ]
  },
  {
   "cell_type": "code",
   "execution_count": 3,
   "id": "e262c06d",
   "metadata": {},
   "outputs": [],
   "source": [
    "bucket_name = 'ml-incremental-learning-datasets'\n",
    "bucket = storage_client.bucket(bucket_name)\n"
   ]
  },
  {
   "cell_type": "code",
   "execution_count": 4,
   "id": "5eac52e4",
   "metadata": {},
   "outputs": [],
   "source": [
    "blob = bucket.blob('configs/regression_2175_kin8nm.json')"
   ]
  },
  {
   "cell_type": "code",
   "execution_count": 5,
   "id": "153927c0",
   "metadata": {},
   "outputs": [],
   "source": [
    "blob.download_to_filename('./regression.json')"
   ]
  },
  {
   "cell_type": "code",
   "execution_count": null,
   "id": "be011394",
   "metadata": {},
   "outputs": [],
   "source": []
  }
 ],
 "metadata": {
  "kernelspec": {
   "display_name": "Python 3",
   "language": "python",
   "name": "python3"
  },
  "language_info": {
   "codemirror_mode": {
    "name": "ipython",
    "version": 3
   },
   "file_extension": ".py",
   "mimetype": "text/x-python",
   "name": "python",
   "nbconvert_exporter": "python",
   "pygments_lexer": "ipython3",
   "version": "3.6.9"
  }
 },
 "nbformat": 4,
 "nbformat_minor": 5
}
