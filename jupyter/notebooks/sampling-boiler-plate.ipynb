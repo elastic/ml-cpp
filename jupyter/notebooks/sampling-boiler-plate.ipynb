{
 "cells": [
  {
   "cell_type": "markdown",
   "id": "indie-proxy",
   "metadata": {},
   "source": [
    "# Data summarization evaluation\n",
    "\n",
    "1. From the dataset D create train dataset D1 (90%) and test dataset D0 (10%)\n",
    "2. Train model (M1) on the dataset (D1)\n",
    "\n",
    "3. Generate a summarization dataset from D1 and M1 using some technique (D2i) with i: 25%, 50%, 75% of data\n",
    "\n",
    "4. Train a new model (M2i) on D2i. Identify a new set of best hyperparameters\n",
    "    \n",
    "5. Compare M1 and M2i\n",
    "    1. Compare errors of M1 and M2i on the complete dataset D1.\n",
    "    2. Compare errors M1 and M2i on D1\\D2i\n",
    "    3. Compare errors on the test dataset (D0)\n",
    "    4. (Compare feature importance vectors for individual data points from M1 and M2i)"
   ]
  },
  {
   "cell_type": "code",
   "execution_count": 1,
   "id": "dental-morocco",
   "metadata": {},
   "outputs": [],
   "source": [
    "%load_ext autoreload\n",
    "%autoreload 2\n",
    "%config Completer.use_jedi = False\n",
    "import json\n",
    "import string\n",
    "\n",
    "import pandas as pd\n",
    "import numpy as np\n",
    "import diversipy\n",
    "\n",
    "from IPython import display\n",
    "import seaborn as sns\n",
    "import matplotlib.pyplot as plt\n",
    "from matplotlib.colors import Colormap\n",
    "from sklearn.metrics import max_error, mean_absolute_error, mean_squared_error\n",
    "from sklearn.model_selection import train_test_split\n",
    "from graphviz import Digraph\n",
    "\n",
    "from utils.misc import *\n",
    "\n"
   ]
  },
  {
   "cell_type": "code",
   "execution_count": 12,
   "id": "noticed-kennedy",
   "metadata": {},
   "outputs": [],
   "source": [
    "dataset_name = 'ccpp'\n",
    "sampling_method = 'random'"
   ]
  },
  {
   "cell_type": "code",
   "execution_count": 3,
   "id": "confused-holiday",
   "metadata": {},
   "outputs": [],
   "source": [
    "D = pd.read_csv('datasets/{}.csv'.format(dataset_name))\n",
    "D.drop_duplicates(inplace=True)"
   ]
  },
  {
   "cell_type": "markdown",
   "id": "august-orlando",
   "metadata": {},
   "source": [
    "## 1. From the dataset D create train dataset D1 (90%) and test dataset D0 (10%)"
   ]
  },
  {
   "cell_type": "code",
   "execution_count": 4,
   "id": "hollow-history",
   "metadata": {},
   "outputs": [],
   "source": [
    "D1, D0 = train_test_split(D, test_size = 0.1)"
   ]
  },
  {
   "cell_type": "markdown",
   "id": "boring-effects",
   "metadata": {},
   "source": [
    "## 2. Train model (M1) on the dataset (D1)"
   ]
  },
  {
   "cell_type": "code",
   "execution_count": 5,
   "id": "featured-lender",
   "metadata": {},
   "outputs": [
    {
     "name": "stdout",
     "output_type": "stream",
     "text": [
      "session: job_vpvjv\tcommand:\n",
      "/home/valeriy/Documents/workspace/valeriy42/ml-cpp/build/distribution/platform/linux-x86_64/bin/data_frame_analyzer --input /tmp/tmplqu_tm_n --config /tmp/tmpt3n3cor2 --output /tmp/tmplqs0kvld --persist /tmp/tmpq5yo8syb\n"
     ]
    }
   ],
   "source": [
    "job1 = train(dataset_name, D1)"
   ]
  },
  {
   "cell_type": "code",
   "execution_count": 6,
   "id": "short-brown",
   "metadata": {},
   "outputs": [
    {
     "data": {
      "text/html": [
       "<table><tr>\n",
       "                                                        <td width=\"50%\" style=\"text-align:center;\"><b>stderr</b></td>\n",
       "                                                        <td width=\"50%\" style=\"text-align:center;\"><b>output</b></td>\n",
       "                                                        </tr>\n",
       "                                                        <tr>\n",
       "                                                        <td width=\"50%\" style=\"text-align:left;\"><pre> /home/valeriy/Documents/workspace/valeriy42/ml-cpp/build/distribution/platform/linux-x86_64/bin/data_frame_analyzer --input /tmp/tmplqu_tm_n --config /tmp/tmpt3n3cor2 --output /tmp/tmplqs0kvld --persist /tmp/tmpq5yo8syb\n",
       "(env) ✔ ~/Documents/workspace/valeriy42/ml-cpp/jupyter/notebooks [summarization-runs|✚ 4…11⚑ 3]\n",
       "15:08 $  /home/valeriy/Documents/workspace/valeriy42/ml-cpp/build/distribution/platform/linux-x86_64/bin/data_frame_analyzer --input /tmp/tmplqu_tm_n --config /tmp/tmpt3n3cor2 --output /tmp/tmplqs0kvld --persist /tmp/tmpq5yo8syb\n",
       "2021-03-05 14:08:18,239730 UTC [587] DEBUG Main.cc@141 data_frame_analyzer (64 bit): Version based on 8.0.0-SNAPSHOT (Build DEVELOPMENT BUILD by valeriy) Copyright (c) 2021 Elasticsearch BV\n",
       "2021-03-05 14:08:18,239804 UTC [587] DEBUG CProcessPriority_Linux.cc@33 Successfully increased OOM killer adjustment via /proc/self/oom_score_adj\n",
       "2021-03-05 14:08:18,239823 UTC [587] DEBUG CSystemCallFilter_Linux.cc@127 Seccomp BPF filters available\n",
       "2021-03-05 14:08:18,241453 UTC [587] DEBUG CSystemCallFilter_Linux.cc@153 Seccomp BPF installed\n",
       "2021-03-05 14:08:18,248997 UTC [587] DEBUG CDataFrameAnalyzer.cc@104 Received 8574 rows\n",
       "2021-03-05 14:09:24,175228 UTC [587] INFO  CBoostedTreeImpl.cc@237 Exiting hyperparameter optimisation loop early\n",
       "2021-03-05 14:09:30,713115 UTC [587] INFO  Main.cc@241 [{\"name\":\"E_DFTPMEstimatedPeakMemoryUsage\",\"description\":\"The upfront estimate of the peak memory training the predictive model would use\",\"value\":27035131}\n",
       ",{\"name\":\"E_DFTPMPeakMemoryUsage\",\"description\":\"The peak memory training the predictive model used\",\"value\":12106038}\n",
       ",{\"name\":\"E_DFTPMTimeToTrain\",\"description\":\"The time it took to train the predictive model\",\"value\":71440}\n",
       ",{\"name\":\"E_DFTPMTrainedForestNumberTrees\",\"description\":\"The total number of trees in the trained forest\",\"value\":273}\n",
       "]\n",
       "2021-03-05 14:09:30,713173 UTC [587] DEBUG Main.cc@246 ML data frame analyzer exiting\n",
       "(env) ✔ ~/Documents/workspace/valeriy42/ml-cpp/jupyter/notebooks [summarization-runs|✚ 4…11⚑ 3]\n",
       "15:09 $</pre></td>\n",
       "                                                        <td width=\"50%\" style=\"text-align:left;\"><pre>,{\"row_results\":{\"checksum\":0,\"results\":{\"ml\":{\"PE_prediction\":447.4771423339844\n",
       ",{\"row_results\":{\"checksum\":0,\"results\":{\"ml\":{\"PE_prediction\":433.3771362304687\n",
       ",{\"row_results\":{\"checksum\":0,\"results\":{\"ml\":{\"PE_prediction\":482.2739562988281\n",
       ",{\"row_results\":{\"checksum\":0,\"results\":{\"ml\":{\"PE_prediction\":479.3952026367187\n",
       ",{\"row_results\":{\"checksum\":0,\"results\":{\"ml\":{\"PE_prediction\":479.8197021484375\n",
       ",{\"row_results\":{\"checksum\":0,\"results\":{\"ml\":{\"PE_prediction\":433.4415893554687\n",
       ",{\"row_results\":{\"checksum\":0,\"results\":{\"ml\":{\"PE_prediction\":443.3666381835937\n",
       ",{\"row_results\":{\"checksum\":0,\"results\":{\"ml\":{\"PE_prediction\":459.1535034179687\n",
       ",{\"model_metadata\":{\"total_feature_importance\":[],\"hyperparameters\":[{\"name\":\"do\n",
       "]</pre></td>\n",
       "                                                        </tr>\n",
       "                                                </table>"
      ]
     },
     "metadata": {},
     "output_type": "display_data"
    },
    {
     "name": "stdout",
     "output_type": "stream",
     "text": [
      "Job succeeded\n"
     ]
    },
    {
     "data": {
      "text/plain": [
       "True"
      ]
     },
     "execution_count": 6,
     "metadata": {},
     "output_type": "execute_result"
    }
   ],
   "source": [
    "job1.wait_to_complete()"
   ]
  },
  {
   "cell_type": "markdown",
   "id": "compressed-panic",
   "metadata": {},
   "source": [
    "## 3. Generate a summarization dataset from D1 and M1 using some technique (D2i) with i: 25%, 50%, 75% of data"
   ]
  },
  {
   "cell_type": "code",
   "execution_count": 7,
   "id": "false-kruger",
   "metadata": {},
   "outputs": [],
   "source": [
    "D2 = {}\n",
    "for i in [0.25, 0.5, 0.75]:\n",
    "    D2[i] = summarize(dataset_name=dataset_name, dataset=D1, size=i, model=job1.model, method=sampling_method)"
   ]
  },
  {
   "cell_type": "markdown",
   "id": "quality-absence",
   "metadata": {},
   "source": [
    "## 4. Train a new model (M2i) on D2i"
   ]
  },
  {
   "cell_type": "code",
   "execution_count": 8,
   "id": "unlimited-massage",
   "metadata": {},
   "outputs": [
    {
     "data": {
      "text/html": [
       "<table><tr>\n",
       "                                                        <td width=\"50%\" style=\"text-align:center;\"><b>stderr</b></td>\n",
       "                                                        <td width=\"50%\" style=\"text-align:center;\"><b>output</b></td>\n",
       "                                                        </tr>\n",
       "                                                        <tr>\n",
       "                                                        <td width=\"50%\" style=\"text-align:left;\"><pre> /home/valeriy/Documents/workspace/valeriy42/ml-cpp/build/distribution/platform/linux-x86_64/bin/data_frame_analyzer --input /tmp/tmpz5b13cx6 --config /tmp/tmpa1osvldi --output /tmp/tmpea37n9ls --persist /tmp/tmpbz1ymf_a\n",
       "(env) ✔ ~/Documents/workspace/valeriy42/ml-cpp/jupyter/notebooks [summarization-runs|✚ 4…11⚑ 3]\n",
       "15:10 $  /home/valeriy/Documents/workspace/valeriy42/ml-cpp/build/distribution/platform/linux-x86_64/bin/data_frame_analyzer --input /tmp/tmpz5b13cx6 --config /tmp/tmpa1osvldi --output /tmp/tmpea37n9ls --persist /tmp/tmpbz1ymf_a\n",
       "2021-03-05 14:10:30,765787 UTC [14210] DEBUG Main.cc@141 data_frame_analyzer (64 bit): Version based on 8.0.0-SNAPSHOT (Build DEVELOPMENT BUILD by valeriy) Copyright (c) 2021 Elasticsearch BV\n",
       "2021-03-05 14:10:30,765833 UTC [14210] DEBUG CProcessPriority_Linux.cc@33 Successfully increased OOM killer adjustment via /proc/self/oom_score_adj\n",
       "2021-03-05 14:10:30,765847 UTC [14210] DEBUG CSystemCallFilter_Linux.cc@127 Seccomp BPF filters available\n",
       "2021-03-05 14:10:30,766250 UTC [14210] DEBUG CSystemCallFilter_Linux.cc@153 Seccomp BPF installed\n",
       "2021-03-05 14:10:30,772242 UTC [14210] DEBUG CDataFrameAnalyzer.cc@104 Received 6430 rows\n",
       "2021-03-05 14:11:11,571567 UTC [14210] INFO  CBoostedTreeImpl.cc@237 Exiting hyperparameter optimisation loop early\n",
       "2021-03-05 14:11:16,476417 UTC [14210] INFO  Main.cc@241 [{\"name\":\"E_DFTPMEstimatedPeakMemoryUsage\",\"description\":\"The upfront estimate of the peak memory training the predictive model would use\",\"value\":25708036}\n",
       ",{\"name\":\"E_DFTPMPeakMemoryUsage\",\"description\":\"The peak memory training the predictive model used\",\"value\":9462861}\n",
       ",{\"name\":\"E_DFTPMTimeToTrain\",\"description\":\"The time it took to train the predictive model\",\"value\":44528}\n",
       ",{\"name\":\"E_DFTPMTrainedForestNumberTrees\",\"description\":\"The total number of trees in the trained forest\",\"value\":250}\n",
       "]\n",
       "2021-03-05 14:11:16,476464 UTC [14210] DEBUG Main.cc@246 ML data frame analyzer exiting\n",
       "(env) ✔ ~/Documents/workspace/valeriy42/ml-cpp/jupyter/notebooks [summarization-runs|✚ 4…11⚑ 3]\n",
       "15:11 $</pre></td>\n",
       "                                                        <td width=\"50%\" style=\"text-align:left;\"><pre>,{\"row_results\":{\"checksum\":0,\"results\":{\"ml\":{\"PE_prediction\":441.6195983886719\n",
       ",{\"row_results\":{\"checksum\":0,\"results\":{\"ml\":{\"PE_prediction\":432.2249145507812\n",
       ",{\"row_results\":{\"checksum\":0,\"results\":{\"ml\":{\"PE_prediction\":464.4483947753906\n",
       ",{\"row_results\":{\"checksum\":0,\"results\":{\"ml\":{\"PE_prediction\":448.7193908691406\n",
       ",{\"row_results\":{\"checksum\":0,\"results\":{\"ml\":{\"PE_prediction\":466.0024108886719\n",
       ",{\"row_results\":{\"checksum\":0,\"results\":{\"ml\":{\"PE_prediction\":479.8018188476562\n",
       ",{\"row_results\":{\"checksum\":0,\"results\":{\"ml\":{\"PE_prediction\":440.9210205078125\n",
       ",{\"row_results\":{\"checksum\":0,\"results\":{\"ml\":{\"PE_prediction\":433.9494323730469\n",
       ",{\"model_metadata\":{\"total_feature_importance\":[],\"hyperparameters\":[{\"name\":\"do\n",
       "]</pre></td>\n",
       "                                                        </tr>\n",
       "                                                </table>"
      ]
     },
     "metadata": {},
     "output_type": "display_data"
    },
    {
     "name": "stdout",
     "output_type": "stream",
     "text": [
      "Job succeeded\n"
     ]
    }
   ],
   "source": [
    "jobs2 = {}\n",
    "for fraction,D2i in D2.items():\n",
    "    job = train(dataset_name, D2i) \n",
    "    job.wait_to_complete()\n",
    "    jobs2[fraction] = job"
   ]
  },
  {
   "cell_type": "markdown",
   "id": "portuguese-defensive",
   "metadata": {},
   "source": [
    "## 5. Compare M1 and M2i"
   ]
  },
  {
   "cell_type": "markdown",
   "id": "smoking-jimmy",
   "metadata": {},
   "source": [
    "### A. Compare errors of M1 and M2i on the complete dataset D1."
   ]
  },
  {
   "cell_type": "code",
   "execution_count": 15,
   "id": "loaded-concrete",
   "metadata": {},
   "outputs": [
    {
     "data": {
      "text/html": [
       "<table><tr>\n",
       "                                                        <td width=\"50%\" style=\"text-align:center;\"><b>stderr</b></td>\n",
       "                                                        <td width=\"50%\" style=\"text-align:center;\"><b>output</b></td>\n",
       "                                                        </tr>\n",
       "                                                        <tr>\n",
       "                                                        <td width=\"50%\" style=\"text-align:left;\"><pre> /home/valeriy/Documents/workspace/valeriy42/ml-cpp/build/distribution/platform/linux-x86_64/bin/data_frame_analyzer --input /tmp/tmplbr2rbfg --config /tmp/tmphl4qgjdy --output /tmp/tmprr6saewk --restore /tmp/tmpvue0n1qg\n",
       "(env) ✔ ~/Documents/workspace/valeriy42/ml-cpp/jupyter/notebooks [summarization-runs|✚ 3…11⚑ 3]\n",
       "15:50 $  /home/valeriy/Documents/workspace/valeriy42/ml-cpp/build/distribution/platform/linux-x86_64/bin/data_frame_analyzer --input /tmp/tmplbr2rbfg --config /tmp/tmphl4qgjdy --output /tmp/tmprr6saewk --restore /tmp/tmpvue0n1qg\n",
       "2021-03-05 14:50:18,418660 UTC [18483] DEBUG Main.cc@141 data_frame_analyzer (64 bit): Version based on 8.0.0-SNAPSHOT (Build DEVELOPMENT BUILD by valeriy) Copyright (c) 2021 Elasticsearch BV\n",
       "2021-03-05 14:50:18,418713 UTC [18483] DEBUG CProcessPriority_Linux.cc@33 Successfully increased OOM killer adjustment via /proc/self/oom_score_adj\n",
       "2021-03-05 14:50:18,418726 UTC [18483] DEBUG CSystemCallFilter_Linux.cc@127 Seccomp BPF filters available\n",
       "2021-03-05 14:50:18,419071 UTC [18483] DEBUG CSystemCallFilter_Linux.cc@153 Seccomp BPF installed\n",
       "2021-03-05 14:50:18,426036 UTC [18483] DEBUG CDataFrameAnalyzer.cc@104 Received 8574 rows\n",
       "2021-03-05 14:50:19,578638 UTC [18483] DEBUG CStateDecompressor.cc@168 Explicit end-of-stream marker found in document with index 1\n",
       "2021-03-05 14:50:22,336329 UTC [18483] INFO  CBoostedTreeImpl.cc@237 Exiting hyperparameter optimisation loop early\n",
       "2021-03-05 14:50:24,165498 UTC [18483] INFO  Main.cc@241 [{\"name\":\"E_DFTPMEstimatedPeakMemoryUsage\",\"description\":\"The upfront estimate of the peak memory training the predictive model would use\",\"value\":27035131}\n",
       ",{\"name\":\"E_DFTPMPeakMemoryUsage\",\"description\":\"The peak memory training the predictive model used\",\"value\":15419603}\n",
       ",{\"name\":\"E_DFTPMTimeToTrain\",\"description\":\"The time it took to train the predictive model\",\"value\":4408}\n",
       ",{\"name\":\"E_DFTPMTrainedForestNumberTrees\",\"description\":\"The total number of trees in the trained forest\",\"value\":250}\n",
       "]\n",
       "2021-03-05 14:50:24,165537 UTC [18483] DEBUG Main.cc@246 ML data frame analyzer exiting\n",
       "(env) ✔ ~/Documents/workspace/valeriy42/ml-cpp/jupyter/notebooks [summarization-runs|✚ 3…11⚑ 3]\n",
       "15:50 $</pre></td>\n",
       "                                                        <td width=\"50%\" style=\"text-align:left;\"><pre>,{\"row_results\":{\"checksum\":0,\"results\":{\"ml\":{\"PE_prediction\":448.3068542480469\n",
       ",{\"row_results\":{\"checksum\":0,\"results\":{\"ml\":{\"PE_prediction\":434.8985595703125\n",
       ",{\"row_results\":{\"checksum\":0,\"results\":{\"ml\":{\"PE_prediction\":482.3186340332031\n",
       ",{\"row_results\":{\"checksum\":0,\"results\":{\"ml\":{\"PE_prediction\":479.7306518554687\n",
       ",{\"row_results\":{\"checksum\":0,\"results\":{\"ml\":{\"PE_prediction\":479.8402709960937\n",
       ",{\"row_results\":{\"checksum\":0,\"results\":{\"ml\":{\"PE_prediction\":432.5671691894531\n",
       ",{\"row_results\":{\"checksum\":0,\"results\":{\"ml\":{\"PE_prediction\":443.8118591308594\n",
       ",{\"row_results\":{\"checksum\":0,\"results\":{\"ml\":{\"PE_prediction\":459.052734375,\"is\n",
       ",{\"model_metadata\":{\"total_feature_importance\":[],\"hyperparameters\":[{\"name\":\"do\n",
       "]</pre></td>\n",
       "                                                        </tr>\n",
       "                                                </table>"
      ]
     },
     "metadata": {},
     "output_type": "display_data"
    },
    {
     "name": "stdout",
     "output_type": "stream",
     "text": [
      "Job succeeded\n"
     ]
    },
    {
     "data": {
      "image/png": "[encoded data removed]",
      "text/plain": [
       "<Figure size 432x288 with 1 Axes>"
      ]
     },
     "metadata": {
      "needs_background": "light"
     },
     "output_type": "display_data"
    }
   ],
   "source": [
    "y_true = D1[job1.dependent_variable]\n",
    "\n",
    "y_M1 = job1.get_predictions()\n",
    "y_M2 = {}\n",
    "for i,job2i in jobs2.items():\n",
    "    eval_job = evaluate(dataset_name=dataset_name, dataset=D1, model=job2i.model)\n",
    "    success = eval_job.wait_to_complete()\n",
    "    if not success:\n",
    "        print('{} failed'.format(i))\n",
    "        break\n",
    "    y_M2[i] = eval_job.get_predictions()\n",
    "mse1 = [mean_squared_error(y_true, y_M1)] + [mean_squared_error(y_true, y) for y in  y_M2.values()]\n",
    "plt.plot(y_M2.keys(), [mse1[0]]*3, label='M1')\n",
    "plt.plot(y_M2.keys(), mse1[1:], label='M2')\n",
    "plt.xticks(list(y_M2.keys()))\n",
    "plt.xlabel('Sampling fraction')\n",
    "plt.ylabel('MSE')\n",
    "plt.legend()\n",
    "_ = plt.title('{}: Compare errors of M1 and M2i on the complete dataset D1'.format(dataset_name))\n",
    "plt.show()"
   ]
  },
  {
   "cell_type": "markdown",
   "id": "tracked-zoning",
   "metadata": {},
   "source": [
    "### B. Compare errors M1 and M2i on D1\\D2i"
   ]
  },
  {
   "cell_type": "code",
   "execution_count": 16,
   "id": "loved-ballot",
   "metadata": {},
   "outputs": [
    {
     "data": {
      "text/html": [
       "<table><tr>\n",
       "                                                        <td width=\"50%\" style=\"text-align:center;\"><b>stderr</b></td>\n",
       "                                                        <td width=\"50%\" style=\"text-align:center;\"><b>output</b></td>\n",
       "                                                        </tr>\n",
       "                                                        <tr>\n",
       "                                                        <td width=\"50%\" style=\"text-align:left;\"><pre> /home/valeriy/Documents/workspace/valeriy42/ml-cpp/build/distribution/platform/linux-x86_64/bin/data_frame_analyzer --input /tmp/tmp5z5us2l9 --config /tmp/tmpi8_mtj4c --output /tmp/tmpettwjamp --restore /tmp/tmpeyia3iin\n",
       "(env) ✔ ~/Documents/workspace/valeriy42/ml-cpp/jupyter/notebooks [summarization-runs|✚ 3…11⚑ 3]\n",
       "15:51 $  /home/valeriy/Documents/workspace/valeriy42/ml-cpp/build/distribution/platform/linux-x86_64/bin/data_frame_analyzer --input /tmp/tmp5z5us2l9 --config /tmp/tmpi8_mtj4c --output /tmp/tmpettwjamp --restore /tmp/tmpeyia3iin\n",
       "2021-03-05 14:51:13,001744 UTC [28624] DEBUG Main.cc@141 data_frame_analyzer (64 bit): Version based on 8.0.0-SNAPSHOT (Build DEVELOPMENT BUILD by valeriy) Copyright (c) 2021 Elasticsearch BV\n",
       "2021-03-05 14:51:13,001833 UTC [28624] DEBUG CProcessPriority_Linux.cc@33 Successfully increased OOM killer adjustment via /proc/self/oom_score_adj\n",
       "2021-03-05 14:51:13,001851 UTC [28624] DEBUG CSystemCallFilter_Linux.cc@127 Seccomp BPF filters available\n",
       "2021-03-05 14:51:13,002286 UTC [28624] DEBUG CSystemCallFilter_Linux.cc@153 Seccomp BPF installed\n",
       "2021-03-05 14:51:13,004769 UTC [28624] DEBUG CDataFrameAnalyzer.cc@104 Received 2144 rows\n",
       "2021-03-05 14:51:14,790920 UTC [28624] DEBUG CStateDecompressor.cc@168 Explicit end-of-stream marker found in document with index 1\n",
       "2021-03-05 14:51:15,412630 UTC [28624] INFO  CBoostedTreeImpl.cc@237 Exiting hyperparameter optimisation loop early\n",
       "2021-03-05 14:51:16,709766 UTC [28624] INFO  Main.cc@241 [{\"name\":\"E_DFTPMEstimatedPeakMemoryUsage\",\"description\":\"The upfront estimate of the peak memory training the predictive model would use\",\"value\":22200141}\n",
       ",{\"name\":\"E_DFTPMPeakMemoryUsage\",\"description\":\"The peak memory training the predictive model used\",\"value\":11864468}\n",
       ",{\"name\":\"E_DFTPMTimeToTrain\",\"description\":\"The time it took to train the predictive model\",\"value\":2680}\n",
       ",{\"name\":\"E_DFTPMTrainedForestNumberTrees\",\"description\":\"The total number of trees in the trained forest\",\"value\":250}\n",
       "]\n",
       "2021-03-05 14:51:16,709859 UTC [28624] DEBUG Main.cc@246 ML data frame analyzer exiting\n",
       "(env) ✔ ~/Documents/workspace/valeriy42/ml-cpp/jupyter/notebooks [summarization-runs|✚ 3…11⚑ 3]\n",
       "15:51 $</pre></td>\n",
       "                                                        <td width=\"50%\" style=\"text-align:left;\"><pre>,{\"row_results\":{\"checksum\":0,\"results\":{\"ml\":{\"PE_prediction\":483.6461791992187\n",
       ",{\"row_results\":{\"checksum\":0,\"results\":{\"ml\":{\"PE_prediction\":443.3855285644531\n",
       ",{\"row_results\":{\"checksum\":0,\"results\":{\"ml\":{\"PE_prediction\":452.6561584472656\n",
       ",{\"row_results\":{\"checksum\":0,\"results\":{\"ml\":{\"PE_prediction\":473.5947875976562\n",
       ",{\"row_results\":{\"checksum\":0,\"results\":{\"ml\":{\"PE_prediction\":478.2857055664062\n",
       ",{\"row_results\":{\"checksum\":0,\"results\":{\"ml\":{\"PE_prediction\":438.8918762207031\n",
       ",{\"row_results\":{\"checksum\":0,\"results\":{\"ml\":{\"PE_prediction\":439.0918884277344\n",
       ",{\"row_results\":{\"checksum\":0,\"results\":{\"ml\":{\"PE_prediction\":477.8826293945312\n",
       ",{\"model_metadata\":{\"total_feature_importance\":[],\"hyperparameters\":[{\"name\":\"do\n",
       "]</pre></td>\n",
       "                                                        </tr>\n",
       "                                                </table>"
      ]
     },
     "metadata": {},
     "output_type": "display_data"
    },
    {
     "name": "stdout",
     "output_type": "stream",
     "text": [
      "Job succeeded\n"
     ]
    },
    {
     "data": {
      "image/png": "[encoded data removed]",
      "text/plain": [
       "<Figure size 432x288 with 1 Axes>"
      ]
     },
     "metadata": {
      "needs_background": "light"
     },
     "output_type": "display_data"
    }
   ],
   "source": [
    "ds1 = set([tuple(line) for line in D1.values])\n",
    "D1notD2 = {}\n",
    "for key,D2i in D2.items():\n",
    "    ds2 = set([tuple(line) for line in D2i.values])\n",
    "    D1notD2[key] = pd.DataFrame(list(ds1.difference(ds2)), columns=D1.columns)\n",
    "\n",
    "y_M1 = {}\n",
    "y_M2 = {}\n",
    "for key,job2i in jobs2.items():\n",
    "    eval_job = evaluate(dataset_name=dataset_name, dataset=D1notD2[key], model=job1.model)\n",
    "    success = eval_job.wait_to_complete()\n",
    "    if not success:\n",
    "        print('M1 evaluation for {} failed'.format(key))\n",
    "        break\n",
    "    y_M1[key] = eval_job.get_predictions()\n",
    "    \n",
    "    eval_job = evaluate(dataset_name=dataset_name, dataset=D1notD2[key], model=job2i.model)\n",
    "    success = eval_job.wait_to_complete()\n",
    "    if not success:\n",
    "        print('M2 evaluation for {} failed'.format(key))\n",
    "        break\n",
    "    y_M2[key] = eval_job.get_predictions()\n",
    "\n",
    "mse2 =  [mean_squared_error(D1notD2[k][job1.dependent_variable], y) for k, y in  y_M1.items()] + \\\n",
    "        [mean_squared_error(D1notD2[k][job1.dependent_variable], y) for k, y in  y_M2.items()]\n",
    "        \n",
    "plt.plot(y_M1.keys(),mse2[:3], label='M1')\n",
    "plt.plot(y_M2.keys(), mse2[3:], label='M2')\n",
    "plt.xticks(list(y_M2.keys()))\n",
    "plt.xlabel('Sampling fraction')\n",
    "plt.ylabel('MSE')\n",
    "plt.legend()\n",
    "_ = plt.title('{}: Compare errors M1 and M2i on D1\\\\D2i'.format(dataset_name))\n",
    "plt.show()"
   ]
  },
  {
   "cell_type": "markdown",
   "id": "successful-activation",
   "metadata": {},
   "source": [
    "### C. Compare errors on the test dataset (D0)"
   ]
  },
  {
   "cell_type": "code",
   "execution_count": 17,
   "id": "smaller-convention",
   "metadata": {
    "scrolled": false
   },
   "outputs": [
    {
     "data": {
      "text/html": [
       "<table><tr>\n",
       "                                                        <td width=\"50%\" style=\"text-align:center;\"><b>stderr</b></td>\n",
       "                                                        <td width=\"50%\" style=\"text-align:center;\"><b>output</b></td>\n",
       "                                                        </tr>\n",
       "                                                        <tr>\n",
       "                                                        <td width=\"50%\" style=\"text-align:left;\"><pre> /home/valeriy/Documents/workspace/valeriy42/ml-cpp/build/distribution/platform/linux-x86_64/bin/data_frame_analyzer --input /tmp/tmphtp_m6k_ --config /tmp/tmprtr8rzvl --output /tmp/tmpqqftfomi --restore /tmp/tmpbas5601l\n",
       "(env) ✔ ~/Documents/workspace/valeriy42/ml-cpp/jupyter/notebooks [summarization-runs|✚ 3…11⚑ 3]\n",
       "15:51 $  /home/valeriy/Documents/workspace/valeriy42/ml-cpp/build/distribution/platform/linux-x86_64/bin/data_frame_analyzer --input /tmp/tmphtp_m6k_ --config /tmp/tmprtr8rzvl --output /tmp/tmpqqftfomi --restore /tmp/tmpbas5601l\n",
       "2021-03-05 14:51:34,376141 UTC [1918] DEBUG Main.cc@141 data_frame_analyzer (64 bit): Version based on 8.0.0-SNAPSHOT (Build DEVELOPMENT BUILD by valeriy) Copyright (c) 2021 Elasticsearch BV\n",
       "2021-03-05 14:51:34,376206 UTC [1918] DEBUG CProcessPriority_Linux.cc@33 Successfully increased OOM killer adjustment via /proc/self/oom_score_adj\n",
       "2021-03-05 14:51:34,376221 UTC [1918] DEBUG CSystemCallFilter_Linux.cc@127 Seccomp BPF filters available\n",
       "2021-03-05 14:51:34,376748 UTC [1918] DEBUG CSystemCallFilter_Linux.cc@153 Seccomp BPF installed\n",
       "2021-03-05 14:51:34,378718 UTC [1918] DEBUG CDataFrameAnalyzer.cc@104 Received 953 rows\n",
       "2021-03-05 14:51:36,771408 UTC [1918] DEBUG CStateDecompressor.cc@168 Explicit end-of-stream marker found in document with index 1\n",
       "2021-03-05 14:51:37,093173 UTC [1918] INFO  CBoostedTreeImpl.cc@237 Exiting hyperparameter optimisation loop early\n",
       "2021-03-05 14:51:38,050262 UTC [1918] INFO  Main.cc@241 [{\"name\":\"E_DFTPMEstimatedPeakMemoryUsage\",\"description\":\"The upfront estimate of the peak memory training the predictive model would use\",\"value\":18607436}\n",
       ",{\"name\":\"E_DFTPMPeakMemoryUsage\",\"description\":\"The peak memory training the predictive model used\",\"value\":10383392}\n",
       ",{\"name\":\"E_DFTPMTimeToTrain\",\"description\":\"The time it took to train the predictive model\",\"value\":2776}\n",
       ",{\"name\":\"E_DFTPMTrainedForestNumberTrees\",\"description\":\"The total number of trees in the trained forest\",\"value\":250}\n",
       "]\n",
       "2021-03-05 14:51:38,050345 UTC [1918] DEBUG Main.cc@246 ML data frame analyzer exiting\n",
       "(env) ✔ ~/Documents/workspace/valeriy42/ml-cpp/jupyter/notebooks [summarization-runs|✚ 3…11⚑ 3]\n",
       "15:51 $</pre></td>\n",
       "                                                        <td width=\"50%\" style=\"text-align:left;\"><pre>,{\"row_results\":{\"checksum\":0,\"results\":{\"ml\":{\"PE_prediction\":432.7692260742187\n",
       ",{\"row_results\":{\"checksum\":0,\"results\":{\"ml\":{\"PE_prediction\":479.1124877929687\n",
       ",{\"row_results\":{\"checksum\":0,\"results\":{\"ml\":{\"PE_prediction\":460.7373352050781\n",
       ",{\"row_results\":{\"checksum\":0,\"results\":{\"ml\":{\"PE_prediction\":464.3152160644531\n",
       ",{\"row_results\":{\"checksum\":0,\"results\":{\"ml\":{\"PE_prediction\":447.8741149902344\n",
       ",{\"row_results\":{\"checksum\":0,\"results\":{\"ml\":{\"PE_prediction\":465.9892578125,\"i\n",
       ",{\"row_results\":{\"checksum\":0,\"results\":{\"ml\":{\"PE_prediction\":465.9057922363281\n",
       ",{\"row_results\":{\"checksum\":0,\"results\":{\"ml\":{\"PE_prediction\":461.6562805175781\n",
       ",{\"model_metadata\":{\"total_feature_importance\":[],\"hyperparameters\":[{\"name\":\"do\n",
       "]</pre></td>\n",
       "                                                        </tr>\n",
       "                                                </table>"
      ]
     },
     "metadata": {},
     "output_type": "display_data"
    },
    {
     "name": "stdout",
     "output_type": "stream",
     "text": [
      "Job succeeded\n"
     ]
    },
    {
     "data": {
      "image/png": "[encoded data removed]",
      "text/plain": [
       "<Figure size 432x288 with 1 Axes>"
      ]
     },
     "metadata": {
      "needs_background": "light"
     },
     "output_type": "display_data"
    }
   ],
   "source": [
    "y_true = D0[job1.dependent_variable]\n",
    "\n",
    "eval_job = evaluate(dataset_name=dataset_name, dataset=D0, model=job1.model)\n",
    "success = eval_job.wait_to_complete()\n",
    "y_M1 = eval_job.get_predictions()\n",
    "\n",
    "y_M2 = {}\n",
    "for i,job2i in jobs2.items():\n",
    "    eval_job = evaluate(dataset_name=dataset_name, dataset=D0, model=job2i.model)\n",
    "    success = eval_job.wait_to_complete()\n",
    "    if not success:\n",
    "        print('{} failed'.format(i))\n",
    "        break\n",
    "    y_M2[i] = eval_job.get_predictions()\n",
    "\n",
    "mse3 = [mean_squared_error(y_true, y_M1)] + [mean_squared_error(y_true, y) for y in  y_M2.values()]\n",
    "    \n",
    "plt.plot(y_M2.keys(), [mse3[0]]*3, label='M1')\n",
    "plt.plot(y_M2.keys(), mse3[1:], label='M2')\n",
    "plt.xticks(list(y_M2.keys()))\n",
    "plt.xlabel('Sampling fraction')\n",
    "plt.ylabel('MSE')\n",
    "plt.legend()\n",
    "_ = plt.title('{}: Compare errors on the test dataset (D0)'.format(dataset_name))\n",
    "plt.show()"
   ]
  },
  {
   "cell_type": "code",
   "execution_count": 19,
   "id": "backed-boulder",
   "metadata": {},
   "outputs": [
    {
     "name": "stdout",
     "output_type": "stream",
     "text": [
      "Summary for ccpp with diversity\n",
      "[2.355704003581191, 11.255563352348837, 7.710393336128607, 3.2931723475171815, 2.4041659995157665, 2.263543343504205, 2.207259119002872, 13.84152481548258, 10.993396222953178, 9.111978184975689, 11.1233215009081, 14.736026677064404, 13.639607827062951, 11.867977054886834]\n"
     ]
    }
   ],
   "source": [
    "print(\"Summary for {} with {}\".format(dataset_name, sampling_method))\n",
    "print(mse1+mse2+mse3)"
   ]
  },
  {
   "cell_type": "code",
   "execution_count": null,
   "id": "basic-narrow",
   "metadata": {},
   "outputs": [],
   "source": []
  }
 ],
 "metadata": {
  "kernelspec": {
   "display_name": "Python 3",
   "language": "python",
   "name": "python3"
  },
  "language_info": {
   "codemirror_mode": {
    "name": "ipython",
    "version": 3
   },
   "file_extension": ".py",
   "mimetype": "text/x-python",
   "name": "python",
   "nbconvert_exporter": "python",
   "pygments_lexer": "ipython3",
   "version": "3.6.9"
  }
 },
 "nbformat": 4,
 "nbformat_minor": 5
}
