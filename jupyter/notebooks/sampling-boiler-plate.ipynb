{
 "cells": [
  {
   "cell_type": "markdown",
   "id": "indie-proxy",
   "metadata": {},
   "source": [
    "# Data summarization evaluation\n",
    "\n",
    "1. From the dataset D create train dataset D1 (90%) and test dataset D0 (10%)\n",
    "2. Train model (M1) on the dataset (D1)\n",
    "\n",
    "2. Generate a summarization dataset from D1 and M1 using some technique (D2i) with i: 25%, 50%, 75% of data\n",
    "\n",
    "3. Train a new model (M2i) on D2i\n",
    "    1. Identify a new set of best hyperparameters\n",
    "    \n",
    "4. Compare M1 and M2i\n",
    "    1. Compare errors of M1 and M2i on the complete dataset D1.\n",
    "    2. Compare errors M1 and M2i on D1\\D2i\n",
    "    3. Compare errors on the test dataset (D0)\n",
    "    4. (Compare feature importance vectors for individual data points from M1 and M2i)"
   ]
  },
  {
   "cell_type": "code",
   "execution_count": 55,
   "id": "dental-morocco",
   "metadata": {},
   "outputs": [
    {
     "name": "stdout",
     "output_type": "stream",
     "text": [
      "The autoreload extension is already loaded. To reload it, use:\n",
      "  %reload_ext autoreload\n"
     ]
    }
   ],
   "source": [
    "%load_ext autoreload\n",
    "%autoreload 2\n",
    "%config Completer.use_jedi = False\n",
    "import json\n",
    "import string\n",
    "\n",
    "import pandas as pd\n",
    "import numpy as np\n",
    "import diversipy\n",
    "\n",
    "from IPython import display\n",
    "import seaborn as sns\n",
    "import matplotlib.pyplot as plt\n",
    "from matplotlib.colors import Colormap\n",
    "from sklearn.metrics import max_error, mean_absolute_error, mean_squared_error\n",
    "from graphviz import Digraph\n",
    "\n",
    "from utils.misc import *\n",
    "\n"
   ]
  },
  {
   "cell_type": "code",
   "execution_count": 40,
   "id": "noticed-kennedy",
   "metadata": {},
   "outputs": [],
   "source": [
    "dataset_name = 'ccpp'"
   ]
  },
  {
   "cell_type": "code",
   "execution_count": 56,
   "id": "swiss-trademark",
   "metadata": {},
   "outputs": [],
   "source": [
    "dataset = pd.read_csv('datasets/{}.csv'.format(dataset_name))"
   ]
  },
  {
   "cell_type": "code",
   "execution_count": 57,
   "id": "visible-topic",
   "metadata": {},
   "outputs": [],
   "source": [
    "df = summarize(dataset_name, dataset, 3000, '')"
   ]
  },
  {
   "cell_type": "code",
   "execution_count": null,
   "id": "vanilla-ukraine",
   "metadata": {},
   "outputs": [],
   "source": [
    "df"
   ]
  },
  {
   "cell_type": "code",
   "execution_count": 58,
   "id": "subject-price",
   "metadata": {},
   "outputs": [
    {
     "name": "stdout",
     "output_type": "stream",
     "text": [
      "session: job_lnmeb\tcommand:\n",
      "/home/valeriy/Documents/workspace/valeriy42/ml-cpp/build/distribution/platform/linux-x86_64/bin/data_frame_analyzer --input /tmp/tmp7zc1p8ef --config /tmp/tmpdgxiscbe --output /tmp/tmp3my6pt56 --persist /tmp/tmpbb7efecu\n"
     ]
    }
   ],
   "source": [
    "job = train(dataset_name, df)"
   ]
  },
  {
   "cell_type": "code",
   "execution_count": 59,
   "id": "married-lesbian",
   "metadata": {},
   "outputs": [
    {
     "data": {
      "text/html": [
       "<table><tr>\n",
       "                                                        <td width=\"50%\" style=\"text-align:center;\"><b>stderr</b></td>\n",
       "                                                        <td width=\"50%\" style=\"text-align:center;\"><b>output</b></td>\n",
       "                                                        </tr>\n",
       "                                                        <tr>\n",
       "                                                        <td width=\"50%\" style=\"text-align:left;\"><pre> /home/valeriy/Documents/workspace/valeriy42/ml-cpp/build/distribution/platform/linux-x86_64/bin/data_frame_analyzer --input /tmp/tmp7zc1p8ef --config /tmp/tmpdgxiscbe --output /tmp/tmp3my6pt56 --persist /tmp/tmpbb7efecu\n",
       "(env) ✔ ~/Documents/workspace/valeriy42/ml-cpp/jupyter/notebooks [feature/incremental-learning L|✚ 1…26⚑ 3]\n",
       "11:44 $  /home/valeriy/Documents/workspace/valeriy42/ml-cpp/build/distribution/platform/linux-x86_64/bin/data_frame_analyzer --input /tmp/tmp7zc1p8ef --config /tmp/tmpdgxiscbe --output /tmp/tmp3my6pt56 --persist /tmp/tmpbb7efecu\n",
       "2021-03-05 10:44:09,682565 UTC [22270] DEBUG Main.cc@141 data_frame_analyzer (64 bit): Version 8.0.0-SNAPSHOT (Build 93946a5deec802) Copyright (c) 2021 Elasticsearch BV\n",
       "2021-03-05 10:44:09,682662 UTC [22270] DEBUG CProcessPriority_Linux.cc@33 Successfully increased OOM killer adjustment via /proc/self/oom_score_adj\n",
       "2021-03-05 10:44:09,682683 UTC [22270] DEBUG CSystemCallFilter_Linux.cc@127 Seccomp BPF filters available\n",
       "2021-03-05 10:44:09,683163 UTC [22270] DEBUG CSystemCallFilter_Linux.cc@153 Seccomp BPF installed\n",
       "2021-03-05 10:44:09,685735 UTC [22270] DEBUG CDataFrameAnalyzer.cc@104 Received 3000 rows\n",
       "2021-03-05 10:44:25,035129 UTC [22270] INFO  CBoostedTreeImpl.cc@237 Exiting hyperparameter optimisation loop early\n",
       "2021-03-05 10:44:26,391254 UTC [22270] INFO  Main.cc@241 [{\"name\":\"E_DFTPMEstimatedPeakMemoryUsage\",\"description\":\"The upfront estimate of the peak memory training the predictive model would use\",\"value\":23058065}\n",
       ",{\"name\":\"E_DFTPMPeakMemoryUsage\",\"description\":\"The peak memory training the predictive model used\",\"value\":5839837}\n",
       ",{\"name\":\"E_DFTPMTimeToTrain\",\"description\":\"The time it took to train the predictive model\",\"value\":15884}\n",
       ",{\"name\":\"E_DFTPMTrainedForestNumberTrees\",\"description\":\"The total number of trees in the trained forest\",\"value\":99}\n",
       "]\n",
       "2021-03-05 10:44:26,391395 UTC [22270] DEBUG Main.cc@246 ML data frame analyzer exiting\n",
       "(env) ✔ ~/Documents/workspace/valeriy42/ml-cpp/jupyter/notebooks [feature/incremental-learning L|✚ 1…26⚑ 3]\n",
       "11:44 $</pre></td>\n",
       "                                                        <td width=\"50%\" style=\"text-align:left;\"><pre>,{\"row_results\":{\"checksum\":0,\"results\":{\"ml\":{\"PE_prediction\":463.6281127929687\n",
       ",{\"row_results\":{\"checksum\":0,\"results\":{\"ml\":{\"PE_prediction\":427.6612854003906\n",
       ",{\"row_results\":{\"checksum\":0,\"results\":{\"ml\":{\"PE_prediction\":472.4757080078125\n",
       ",{\"row_results\":{\"checksum\":0,\"results\":{\"ml\":{\"PE_prediction\":436.4240417480469\n",
       ",{\"row_results\":{\"checksum\":0,\"results\":{\"ml\":{\"PE_prediction\":481.1231689453125\n",
       ",{\"row_results\":{\"checksum\":0,\"results\":{\"ml\":{\"PE_prediction\":440.9913635253906\n",
       ",{\"row_results\":{\"checksum\":0,\"results\":{\"ml\":{\"PE_prediction\":465.4188232421875\n",
       ",{\"row_results\":{\"checksum\":0,\"results\":{\"ml\":{\"PE_prediction\":464.6852722167969\n",
       ",{\"model_metadata\":{\"total_feature_importance\":[],\"hyperparameters\":[{\"name\":\"do\n",
       "]</pre></td>\n",
       "                                                        </tr>\n",
       "                                                </table>"
      ]
     },
     "metadata": {},
     "output_type": "display_data"
    },
    {
     "name": "stdout",
     "output_type": "stream",
     "text": [
      "Getting model from True /tmp/tmpbb7efecu\n",
      "Job succeeded\n"
     ]
    }
   ],
   "source": [
    "job.wait_job_complete()"
   ]
  },
  {
   "cell_type": "code",
   "execution_count": 60,
   "id": "eight-simple",
   "metadata": {},
   "outputs": [
    {
     "data": {
      "text/plain": [
       "'\\x00{\"index\":{\"_id\":\"ccpp_regression_state#1\"}}\\n\\n{\"compressed\" : [ \"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\",\"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\",\"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\",\"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\",\"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\",\"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\",\"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\",\"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\",\"4mgQqRMNJtbucFDz7nVQqrHHxuLOzOm+thOk0psb2V5eqqiwJuAIrVevHSR/obEo0U45jFagybjwq+78/xc42IFhx9EpbiHi6BvmIUQIYyjeZ1zTa/AVpOfaFQWBZpcQBfkAcvhjiGM1Dvr9IrSXNwXgxuAur5mack/uHVmpVniwS0Ytp1Te7nhOkls0J62kqG6pdV6hWbezfvGuakCp7Wy37jUyVSVqeFFaASNWZRsA1i64B+JtlZarcsKC9aGLEdqPFTj6gm9ql0urOxAtCF5YkK/Zj3idin5FPpTKsusxoWpmXMijn4WyP7A3IzLxOXqdl9ysacU3coDyTCxrXWESM/qynxu+/Ct3TBHKfXO2fVJh9hb169gooREAUZ9KNj5P/oVYR386Gc7N8vSEzWuxrlBT9qy3E1Gp6aIRG+E6WQp//yQplzxFHSJ7KDnv0iVtST1KqMxy67uippKcLYy/dAje+44eFesM1BsrHqJJZXatcYKvqfs1PYopvdybeCKRYmdvvlc45wkgJrmRbyGl4c3qYiprpTpJpRtLgHEvxMpcv7t6CK8oIIhjWFRKEe69fv+WEmvadqVwqjgGxgFlSQ+1RzxW0boSx56Bt7PV5deOYUFMpuWZKKzLgpuOsIxUSE1gRqUQYYGRJU8RKUQAtJRNIQO85CmocCBZuSeq3LtgyDVa0q/rM5BsUDCRbBwNScf3Ez0SYXdBdkSYdVryPbEUEkdmUX9J+FmNiZeMwsvLKoQZmDClclZN8A/0Tckz3AJp+5bO6NZbWYVLXwANClWcyAZeYXjZSwqCH2ANd9lahnolTD3EM5YYW7HeATvKnYo0POgrzGK0EvIY7aXZJskJkiQw9c4RLr7kodJTGGIZ5pV7r4jKG6gJXcoLWf1dlnCWhf7v1UwJTJw/xuFKhZafLZ8VlTt5j+m9ZhqRFtJjrIUqW70vqO+17JRJXw8VUI+JZvuGFEq0S64O/pxsw/ANPJLu69grnkKwopOYHYfu7JJa8TsFfZolC2s06a2vmOJB7QNaUFhAaCA3a2vuGjEHhiUY5YLudBEOnNI6/W8l4S87KhiYphK9zFyWHL7ZOSQUPFtUUa57eduJTPV/j4Gv/O2tflaXQXokmG8pKumb59R/W5eBNris6IbZWVedHpx4W5eBy3ElKBlMCwq6zBPEjCppTzmo02MfE7oMtxQ9fNNK7cR7fX7l2z7PRT9Dp/+5KfK/7GcU6J46Qt+6moVl5XpibZ4FfUpa4qa8rpKiyrnBTaKRU7NDP2f0Ab6q2DBYh9in/6JzM6UI8Ll9r98RZmRWbvFIrTySF4JieFaWmBc1eF0dQyBqEPu+FDcoGU8fYUaX4SZJALZe0KiQN7eUqTnln9nOUNHfY84NokPd6h8ujHGzqsE3eQyn+M9vcqptKzvort4a/QM77OsCH1weScNANBSVZIvPkCL90NzrlG2n2SQnCQo+N6718z0z9LDf1AKcYie4pTdHmyv4nLiMAgwY84v9M1vx9/ik0+RaM7wpN7nVDi23DrJPcp2iw/xFgBkBrptkJUkt3cBLX8lPzisazFCf32ELIRsToYYfjcGONF+BmRFluIXtGayqZc9pqZW69fkjTA7y3kRZzVp424TIkTXMU83NEP7dYQ1eGKNj7dQDQ3Nh32depC7K6WBIaWgDXTEHNMV+/k3Sly+IlJysY0ytyX5TFvALO4GnC5NTggw3FSapArO7V95D4HyefkpTzOE37ZeSY5QahDyhLb7eRNxX+LG0xQ4VDGt5ST93ip/jc+TCv3f/AULYk7B7SgvtphKxYIpGgwpmpE8NYL1kDl16SwLDiJqVR12wp/7j0iqU3bLt+janGcF+z2ZGauUmi6BNqa7FDdMO8yIfU1qZNxWK/52q8K31mrBOImnIGQpaXEF6/gXNG/duFlxZUOFv/vpayv/8KsPigoG+Qkf9kg2hKT20/1hq/ryrZjlVFZIulfVcIgMwuQpxUz4anbpiXrQSbppi0X+pLlDIYt/E7MJB2RZkvkSwRnXDCnlgZd9jyVUt1V5n4J6pKLHmFTsErxM3eWyeblrHAVmKT+VzP2Qxwyx8WxpxSo+4D26hP7gWVBiE2r5kI7HGilZTlgaBcWpZQbutuIC5JxJoOFiA59KULqFjmxEZ/xz2+4vJo1LT4bDDf7n1HiICi3KCnnT3Zv0s29HPv85ID93SD/ItsZai3Qq8Fhj5unOCSncldMCuaWHhueBOUKvH7/WcFJI9rfmKZZqdGzla5dWtgxZFT6fWb6371ZczkYvsQWLBq8BuFor2aWCzBbPwJXrpkyvVN8G/k8K4X+AQOSPv9hYVW+ua4Kmu369lxegrqmYzagY3jSdGPepdh9KcxRYoXwoo47KHgy7cyktdYdjvy2cybYEVUq1EIxhNrunXNKPJcFMx3DZSjH13jjLsBWqwDeUAL0fqWKDh0xnRSyF7V/gI6dqsVUa9Zshu4K1ghLUw6bYksd9PlwFLTJU6wpCbrakXTUkdO32VkKZwRbxL8NMXOEROls9ikKHGY2X9MwNOb9mEY6Wp7KI+18pXXQLHcxDw8rHC05kRp9duQjwwuC5Z5m1xtjvxB5OmCOhvAh+5GZrwYJtKla8Pwe6CUGIGJqMeGt5XLBfsA2dkIHNO48qMlBeNd71gU+ce0SsfCrqEavt1fQyv/C6JC4sULNxJj2aj3YxO8S15kW5eKSr2DIRBlfz1pAK9ImHurVLqCtAk2tqiQLZZcoHYCOgAVL5NC+YVqBj0SqvdvCmkQWVVUVCQTYEQORnDvWdJ/V5j/gL/WgtLapUgSV/wMnCK8MC+EPaSy8Af12W4CUH5JqARIcK40BIaiJXOJQTewqLtJKpLcrCVIVQ2Wm42WnJAGGPFU2DKuvU0+u0z0oJwdtdeBqWUdu0GOdAFQ/fOeF5xztU4zAv2LXiIXROqLJuMm3KSrqos0bTwa5ZJiDcD+/yCEW8XOLVeCBC18tRQa2viD04WgjBUnYTBZbHcIXaV+zABmUXlRGq0psxYIzZMfESFioK1Swr/AgmioMYIffWeGp9NLv7K4aNxtEM2sFuotGJroD9Kwe20/nl9qzLt4Mq8kV+ghdT5/yfaEtq28AqDaUqMjtICBRCxrFBRYaI8FNXzWbJuUGl2HYJbBTsUB1cc+IXmW92AV8RD9U+wz7/iIcrLBlY4uVxSAakK3esd46cyhi3ynVWuUcqiKqfoHVV2hNS7GfuKurkwjH3xrpBHWfYFgfutVaNkLrOoqwiPa4TuacSNRIfkSPeUosB2hsfVGGsKOs0dQSNuYTokF/7cRP/ft74uV3KK0+YtjYyeqH8YRtGwxLZgkodM1QSDps0D7JF+TWIxp8twSz+vbxX5DHRVvSnlCm16MaxBojAuxrKifuBPYR1MW9j9h87YioXyXcO4kqGkEN0ngI3XNG5siSR4MMu5phnlmoAWu5CtktLUKDClK+rN7qVNaaY/QgyJXPYyJKjy7nJVEPO5ZmBzxDFJhySTn6Olf28iqnJViDp2jSgrX9RJRfYEgTiBxiNpZrDrf8+Bz/ytTY2e2PED+0/J5/86VcLeCHrHphCc1mlmtPeVfE5Sc/+n5HO22H9eyedton3bgjp7nYKIvM3z7E8J+XyT4nBKc+Kmsg1t2KWC7DL4b+bf0dv6K5WeVm4kLiqGeZx51tIposlbSG6yHlJrjU29LLrZvYpQtzgk2wrFYqeCwVfC86WzKRWcW4ICV5KHvks0M85/EC+ZonL73KLR78HMKELd45HW2wqR5hXIvCnGbejsiMoP4r0u2HBaXOx1rcDzgkpTKnU3+aRIQvtu3zTnedHMKZW6W26hbc7Yks+Kby7/kK9NcezflPAUPMKGfHqYcp8Gel9Q5uJNCyCRUyuM8fnFx0qSmcNZHNDaobS8XklmZ3pylPgKFJUdzygrf+cM2iD5YcjTukXF5Qvi2+vSH+VZITGObSluDahj2i29LUjkhjkzzSifZBWnv04FA2537R0UVWgJgevpiqc0RbL/TTbD14WhLApnpNcbKk/LzeaFoaa46e84Qs+NW/TyT1lAqfKHBZah0IdDi9cj60/3S4aB5piR\",\"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\",\"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\",\"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\",\"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\",\"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\",\"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\",\"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\",\"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\",\"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\",\"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\",\"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\",\"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\",\"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\",\"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\",\"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\",\"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\",\"AaqoxErbfqc4k/MES65CP8TZdzwFMiklAol3dqlHzm8Tj/2F6Rm66JKk/BZGQSxXjRpefTKWXGLu/9KLgoiZd+HtEW3hW1YYqPaghazqgA4O7we23ykQ9sy5sBRdmH3XuxS63/JRlSrW99AuSt3GZ6x7JhjEl4JBN6m8CMIfd5lRQWbrJcZsFYYvV2H+R1X+Z9ydR4Him8/1Hd/RuE+tmgKtoHRa3qFbPTf0tCiUNAZjwTtLwd2w4RQDEEgJYi5sYGDzcMOrOFucRBwdvrvWM5IdCX5wCsU4jLVNg88KfMtTMCo8HMJBVPR2G+QVFWSGgZTn1kiGH9kp7Qgn11crbPEQs8B9SUB2E1t5dCUukA0S7/R8vcE5U6zhS8Wa/ym4/+WzXaB26EawUMBPP4LRnpGG8iVp6G1GQX2e80WRbUFVaWFJINGgjC68PwLjnNEB82N0wC7YQiQsdqNjTrSBsAWpsfe3BspV9doz4IEx/kRRRDvy5D1JWfq9JGdgiaqPMcaGhzhXYaqKUkACDBmFXbvlBRXYs9XcpemWfJVnJ0qGEqhCPQBy3rOHw6FSI9s8Tmq+8ZlwMUuiLinhbhl1y4EKw7oQDxC1LKlIfslFQbDJDS8JxEubGoVCGkxKTbqMiHclxL+FCfZS7F5k+9o+w4ZxG3QHrBbDU/o+1PIju3o2q1PtqV09skOjHRZYUbs8GhsYdmdO7V7R/EC3vPLdpYUvvafEVlhwx4g2jQ9th82e06Wiwj0VXj+odrkGpuNR9OuvCRG7TNsE2NXIRm6ayfbXu5MkgeNqS8DEi0atA7Z2tOsUA7xwe7aXR7K2g+q0Q4Azt3cHFn82POsZXBKp3USBioqP+oHhiKAO+O27AGIi3SHeLjrUNY33zKACKEEsfWqntWgmb3eI1yDPseVGREB7+KbTo6EgMSbNjtuW0Drb7xgnk5oak7KQsBftSB8K+8Z+J1NiqRtCL+IbnuNlG6Mz2kCLs4whqbbdMc5Kj09avhCwN7xLYP6lN6UIF53Dnol5km2YTJ3o0+D+M4gJm9Dv6hh+DRMVXUYE9YMCxEtyzyd1dnCsLTuzE0N+t3vwrZIVWGbm0q7yHAioD6S1MZtyx2ME5n4wctqTxBKMWMtK0DyjK+LH6IrshaRQdRnUyZX8Om0lYnc7pU5BwFvJKmWbhu4uhkZ1Mtjnwb7hnrSV7BYswf35ln2aT+gA8kxUiC9FhW4iAhlhAhbqGor1mJ+/CWLO6s8lLESX7sgTANtmGdpvyYkClHzb2raLlJf0G8rYlicguqjAMvGAwici3X7HwF0o6O1cOhdEd3nDF3VSNnTNTZjWJ5Xrnv0oMKCi3zw69JFDv2O/U5y8cKzVPrY65gHe5ZtSug7guNrGO9SNtowtCTTQArH2sH2IFJHhvmeRNKpOutDqsCcG4Yv9TnE+KbKThKxT88TofiHy/fcc+MwX6nTGFDdJD58q/OoIII7EO9Xykev8DZOy76rou+UAhP4IUKkGInBbB5lPBsZPkTa/hUJ9PaGZRtJTjygOhxQxRvjgrc2xLH82aYA8pjIefQdA3lEHwo4i68z+0w3DBxcMu1xigDjBbD6W1of/9hQmR3jKlGUc0j4XCXpCiG5pvfD81Jls7FWIuGVZpE6Jw6pzQz1eFN5r3nRyCXJ1CXccoeggS2cFPtujcl3KcBbSnmp4SB11cj6ydV6u4eu3MDmCPMhIlIeonXJ6gISsayhPFcKe8ql8MIxAwgzBwVcWXV5HmHHoPuWQ8gA3s3cxAezpkCVg4OtTZ1IpT2Eb81Anzs4rRAjwj+WHVJPIVo8FZzrMVAcXt0F4+npkm9iCPBUXCmJ5Dp0LNuqq7h9yvJnG7WN7kDDnzo0wGXbA4DfYW5POglLa+YyR1HHgE3u1NGZeaTwVorMrhk6RCBhT6iJ7ySC+0xFQBT9gMAcopfUTkxWaOSZ6zjP1RXTFqanKwtBlXPZMY5YsjaeU6a2jXOer4OlKsN/Uum+abWnT5Zb2LV0Axk0A21idOim465b3ECYX8Zgw29tMmjN07IMqw8MOAf9eWtehtbTb/OrFTG7hchfkplvoJ9TOdQxvqx5LLJqvxtck2bjcU7vFoO2wYdX/AMCFvHW5GzOx50s4ym9qbs9c0qVHugWMkv2QIN3EjoCntHwLNKtC6bIMvamGw3aRYaNC4VfXe0pLLCQ3wR/ihSu1AYrWdSW2GcvyJcnyLQmfgqz/JA7z6GuwdQn62RnoMabo9++BZgqL9JjCovlBA9hFEbT3+B9aS5MzPMjKQ3H0AWwo4By+3pfhWT3NlwX1Td61AKsZ/adDnC017L8FqYagwNB0qCmONoUPFEEzPptLOpsfNYjJY3qMHOmtt/TKiyY2fSnqfFPiXQekBbSjdIeIWs5abVI72GPDHzog28mGGWJ29rr8kGaEQo/xCZkcryW7cE3y9WyJZhUcXZZwt6Qa44B4GQ9RrxBZ7mjMpHcvlXdv4VHmg4VVgzj7DLXeCqBZU4Yea8poHF29GaBZ/ZySlq+BZjGaLmP0LRNpP9qcAZMD9cVQWu8GTM5wycn9cxsFr0+doUseK3/oQBGauAHox61rm9AUX3IJMLmpdqgBmTItCDJ13rp6iJzcQz7WWJKjK7d+RqGDJbRq2Rom12CP0T/bUQkAsgCfr/4P+IzJLdRjt6BHV5+pfOrktGGsd2Vy5ljrKa8UdlB1gBNq7wo1ivWZ7uQp1WNDh45voEIf6BNj12aDVa0QJYgrpRb2SeMTq38z2ahL1aibugFdOZiHgvxv2NJy0OvNTHLWS6Hj24ofYKXdoRNntuJZv0b0Z4B3V3si66c0NgSrvwDSnE4ZfYBMIPY+YBIzmYNLlYOfo3j5y7Fnjconubfr8E6a2qg9M3KlZfy1PfeuOrHcBIWfbPvY0yr6kscQDgby0HNTTnqpLt6SHfLGmdA3/AR2ZpY7XSJ0b5ksxqHJEJePTjvSxnpFNzlD3HMVlyG7PdRg64NwqK8XQz7JOvyxWdDb2FCezYL4sVlQV9Yl3k/XgJf+l45lTEJdPBbqtEOd6tml0Rqmy0fI2ebGg8wV7hLRQY4MLnd9Rj3DVvIluPImk/bDsHlCLhmdjf94gDj1Y0q6XkCvuH/6d7dfX+9+UkrEU93vyKM4+jgSGdTx79fv4aQ+77I0pQYENgurcB8BV84y2MtWzS2GnYdw22YHOj6Xezco6wZDclbQm/GhVbvWdR3WQCXn6HJYxfhEqyMmeVM+mDfx0XadZxsccj4/fhOwbcNCXwA3MAZEjT9wETNGmktCmltmjNSGwmcnXxU4lOWe04xr6pJq6qZtS6dOnYaUY8Ug10HTM8AxPYY41jxYIAqMEaP5vwysZxGbLkP2LSO6OsCbNfoZQexA4x/g67NDPLZ0GX5kF9mg2cEuAW+wW0MELqCuQaFdV5sSwHbiZNEpN/hGrbYkRj7JeCGvXh5IAztcv6vP9SX2NTnzvNAOeRLvds1e4WCScjw2qZM6PCKqtMgCZGA/fw3E0PbwzjzczLDas91bOouiAY5tqJMjiR0fKU9phm2iS3DTLXlHHB3hwGs7BkbwS0KOf+nFDAn+HFWFHJaCLj9j/GtLld1fk2/WshlPYfID0aNrU8gYj0xfwnN8S+ajw10ZFEB9YGHxEz6WZ/uwfLkPexMuxSI5XuznoboOcZoVFHRZUfwvBUSkEKw1mYDqpFiqPtF3qimDy2O0FXSARa7fkqaK8g5tJ8I+Tbp2AsUmsaPO2wC7QHXmIR3TlJ03JUsdMUoTkbntGLTOG+biZyOTFLWRt30D0L4nm2I/qfSO0KP/EyLxH6EdmPUx6bKR+XOEzn/udJYEXuZPv7mGRjOKI7rkOLrpEHpOKTQrg1/wnsWVj9khLvEEtzwnAIUCvGWYWcjasvW3aFKxE96Bjri8A967Verfs5nyKD4Gi+Wj0ynGrgSYz8fS0vjXSHZG/0DooGUJiX6k0p5Sfz3G/UVyeJ+mb0GhtTnWFxtpytn0IK7gDRTgX2tjSsL2HL63IwVTV6790tLjH7jwpjRslzxstyE82mVJMLjkYmmF/0tONodJ16NCZl3eRe2pRt53LBpxclkK\",\"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\",\"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\",\"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\",\"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\",\"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\",\"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\",\"WiRgFT0JWaDXOk/ZmB1iPDhb0QMNvy7nJEX/YT95tvdEjy0+WRwYM1plGwmo9NdvYsr1dUn2dRMHh7oLxD4KA+wd8MhaRenoVYqcSof7+af/nApvQpHeJbwLFAC2jNvomxnUZdvfQrE45BOYZJ4t0/HlNt1N4MU8wsz7glyz/oGsaUZGSJdshDcdwo5wrAWKwVGtL3HNcCl8CUy5idZyVHTJ9P+w925Js9w8Ethe/D4VxB3wfrz/LRhZ/Y1fXHSYp7uqmxGS9OtonqZZJIDELdNGGmX+Q29iSs15yc15003UAVVKd+wamK0Ei29NYSZFcefa0dkQS3xmbXxWyXxspvcT72kGPi45zG56T3FA1xuj7gzu42XLnk0m8+Vo8m2H+FfO3a9JL4zOTk8VKDbpC9+yAjWwHREDmkNoD+m7isV/wXlKi/dUYfkt4qNvaVAOcsg+ZVuzUWPxT7jZ2bopXe6b3lINzIMboacPjWwYpcujHTRjZaPnaNnsIBkQGav+47WWv3iGWai4JKG6hV5ejs7rtBrE8rBXnXjxDDMg+5igKcdBXoM0wCWE4Yj1gsHMIh6j0jpbqB0/vDKdJdfZwGhW5KfLIv8th2gPq52tahkMe4lL+FsMHeQ+KEbo8MafOwqBItFG9oCHYzV4NF4ae56joHMB0h04JIDvD0S72XAvPTbc63xQOEl7J8DxlPVIMWM2o0tqs5/D4y+kNwt3fBnubsu02ztxIykwhsevVzRPojzRCDSFpbAU9Ykpa5rNMtJzNKSG1ZAGH5jkP+d7f/8qGiENS1B2FpxU1p5lWR4q4DsCuVwp1JV3PEW7PqsGexoiAhWx/U5xirGOoWTK0GTtfIg/0tyeNcD4Oea/tynCaDaJRpejaD9aIp+Rw/IlOexN4/slTjSs31dnqUuTXH9t0xn6eGwn5/2CAc8IDPmSwfCWgY96kfQmNkK8w94GIY9GCSSS+odHQ3LesKJ5rqqxnqMeBMknoXdB1JdGA4tRa+LMPoK/zan/td42ZXsUjHaMvo92SPsdA5VZx6RmBzjtnNveFlF/uaLZRgVfrlTcAss7VyVlYJIwt/EvG2uzQzxGZ8hx5IhGHZ2zorgjv05r07YNOhvuPK8TIjmzoQ2NgjqvxswWBj+8w9uW6RGU363jhGdfRu6aHWGG3AbUids1neS2253iTLjbDw0s3wmoR948xB/wnrW2Lyccb3FP2e6JuE1Fq01ebR2Rz8AsXYLZm8Y0B/hUlKvSk9YpY2nGn0yXBMo3HaLzVEX/CzOO5L/eEj4ROffbOfsVoxHI+AQDBs3mPegxKjqKQ6MEpBIdu12WGOq/5Z7GwPIs90vO8mqrfHfi4++jT9Win+pt920M7ly135dx5D+0I3k2zMWXw1w3Wfeb68E0YxqiB6mGGF1KTeDYfmq2PpE2kxGkSx3B31wQlpnmmFxqjt1iE3VQxzoQkXgHPVkaq/tWQ7VIUOPvEG0V7p+oLtOM3oYu+W1uuQo5HMvN0HXEsvZSJe3lhWab//zg6j/5QRoSDIKb+AdlytlOpFzuRN6y6JJHORG4C9qu+z5+fYntNVRXQ0B6GzKsbfkTRjFjVqFLapWb3lObRTQUz9Qys19vbgNAVb8eDca22uhciDbs4mHLFmziIcwh3mfa8xCeBr56L+4E4yM6cDxDHvwc8qADcq1B4Bknop+f+EB/nkBs3XkQVacXvOmOraBEDtXrSjToPyPwOBMml0th8tu8rFCqYnJiqKxDj1l6x5fp3W1zUN5B8JwWzFgq3nyr7oHieGcR58R1f/c9u19g2e/E2tOl8wgIZW53ilP1p2ENqgOc2eF7z4A30NquzL4N53CljxCY0iyxoMvE4iZM7mCsC0kmdd5BdXMYFEGAoTDJfyqQ7fikGmaUhJIH1NSqNg3dTO2nmEs7bDuYd7c7BZ6UVIko6rLW+Sm/O1r3JVhOSewjOq+Taly44Ys6NyPNJdLAhEEiuePQx4lBoAnXplGoPL0ttPEXF2Y15kuyt1uGPrAF1kEQm58pmC768as4U+5wsg4XLmb6kZvgGZMmXzJp3lLY9MPbUKJBORlr+Poa2KwmyM/xpL1ziG9NrpBCL744rNAq2s89nU6WEgOO2GNj6Jt8wiZme9uPEbOSHQnpR1FWDA5uIMiER1/lTG101P+1ZX5EoC9FkLOwNN+Rg+gcl4AsFjrAwqM6s9jvFGcxzQgq2dwHCWssu+MpiNq7KpTKOq9g+witxKwtzI+1hdkPYxuQqihIJNDydifPRO/4UvTutoJgqilEBTxGrVPGzEqzfFmavYU5Og+1YHaNoR0qlvbP/37r7DldkvfcwuFoByTiNGoENI7s15WnT1Wm4f2jHfQLo9/Qu1sif3cxG9S8JEC8ySr8yFFjdK7RsXCpo/r3bmZWwU9tHXkc2sGvTjHLhIz2+k3MGhYPUqTRaDfrKqWdgevP97bPmge561CH2klgf2q/oA0AVR0S2q+GD7Bq7tixiEOC83RMntF/+f/1PxuO9Z+XgWnGKozSdboXmzbBnKDwKugMO8mO6dG5VBil1GatnVwM7nC95TGoI0IO0CYR6BzzI0sWPEO0/CCifZOjlWcUY3xJMXZL7O4jtJFAD6Ut5R/QxwxCXZJz3XKCOqBKPTBaNETo5+cDwQmF0nJkuPowix1bkS9Q3jEi/Zwb98KM7I7HoKyRwn0IbvgaO9J8YNQAnDFtdU6NYN3M9ryMMRpBoUoAnjHG8MeWxyDz0UbR+And+i1raSM7pol2VlGj4aDRpqc4u402FG3u/uMT2GPGlcaXXGl31HDKDwKnDwkIG/QlXfzbN9EmER0pOJWAZMeez6l/f6epHb7RfKSyd2vM33KzkJkaEABr9NeGsaGXRc9CsRks3C+KAsXB/U5x3kX/fI6GggGGXN+RWfNkXRnJPECLEeD5fVfF9ktvStu0MYKD4Wsx9U1PMUBllQ3JMUz0NqnS38rXJOWWy0b9TUVaBkVo/4GNi5+v0Z6Tjn5ysrZZYEHk3VTvbytvVvx4krhuL55TTOCADdS0QHVf+a6bfX1wnbXz7J5jTMpQDdWx0tNud0nM9ksXUdYxL4TAIOO256iBGAQ4IJ/aKV6UfYIkQ2bMMfIYcwyd9ER9nCo4LOJfZxBEMa2T1GEE6Y2GULVnMa29U/X/PM42ar6LZf+c0CxO2FPM5O/LFPJMyIyfFDKLQ63RlJZTyrr+A8+E2/lSuP0m7ETYSGpsrmem8eslgxf9jY1xEpNrjdSCZNqO1j3Q9yLIAgl4+Cr3zPH6BGD1Js6+EVAAbHmKzlTjXBtG+QyLL1sCEPz2cGtL7pAX9O7sxx/OmLgpuSSTvqWySQdoyvlkH3NM1f78TUBUxz25YphY+GcY1mfcdXzJXffflsXrKrzQQGon26Gi0eBHYDnP9qf4cn/qP+66v2BxrrtoCp7O+IzIn8wGmeVykPmWeQOU1/TUDYd0XuSvj8++mqrU5luBdW2Szr33i3jnPFR1KiGegk0dAJD9jtH5ajaSdXVD8AZt2o6HaAgFzlyF6FQfhTZMuk+i+HaqgmWR0Q9KfMPkAksv1rfQuBxz5PL2xMQrssUsX43HxC87Ww0J6fwPREW2xOj4NUIA66BgbdkJ5n7e0SxwDO0XNTARGCDKsE2T7v7+neINjoZM5mNPsvh2UecGuo5RafIRPDuj1+RLes3bmhb/Ojv7tT69I9SVYcvQMRG143s6Gfsj+yTtUh3rLnuahfM5YxAdvMU3HbHr2KYDdMWjcWD/9ydoQnlGE8qXNKG31PypXW9nfcDppp36/XqGdFY2Mcks0SmS0ofaeTzj9uZLbu9byClBwhejM7++hmpssgOIivav1bYNOdK2ct10xK6dLHhyhU6C7B2Jus5aeYqz9U1k27TluypUX6tFdX7USTeGgAd2LvY7xSkOi86Ftk/ViLElh8zZ6W6DwCxOptv7JdpvnUKoTyCDBQFuVydFitzCGbGhfS1teBenUK8yuhTsgvnTHWc2z6y7gWxKkgx1kGRv6KTOiNFQqgMGwTY629j0FCOjXVTDwapx5kl7mgZTW3cDKut/dGxZL+9nRCFgTmvDKNs0Xpz8mozO\",\"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\",\"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\",\"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\",\"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\",\"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\",\"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\",\"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\",\"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\",\"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\",\"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\",\"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\",\"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\",\"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\",\"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\",\"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\",\"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\",\"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\",\"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\",\"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\",\"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\",\"qBklmF3Lh5gtAvNrm8A33KaZDAy9pwOD2+SiVWWAK5hL0+DvcccJdoBwA/RznX8/4IFV2sIcVVBULZT9lKG/ob6b8Yb4Nd5Q+FE1NlVFAQkrknUVFZ7RC/g9SqBUoRGBlR3Nqvr+wTNjaoQznFU8QrmpQ8iHDZ9aRav+A+6Y9dCGj+zPfYmvLSO0Vi/qad+jhAx9Q2TP+AU85Bc88inocBM2yTSBw9Wv79/Vp3CuOhvy24Qptt9CHudZXcTDuuiR1WAQDIybfIaQse7TRTNnX3rT2pcPNSHqpNBJXy/uZpvm9JqXprcjK95dC4b0jJa//j6d1hMJhbC6PL3io0vsOUltbp27RpiC8wTO9I7HoKhHVU0FLuNoRt3xRM02IXm4CvlImSpHg1aVcZzS6Usjlz/MOivx/vPs+n+kvA7inFU9UfkOhpqbEgzqj07hjSp1syRsYXY8BkG7A8mt1QfhvFrkfW0dMiDi0d3NsbK257eAaF5jZOpesDyFNkx7UIaG+FxvBPzXk3dsfpzJO/AJoDJJbAkG3w1pb+rqPeQvP+QXCtlV+Dg0aizx6yPVU9TNW4/60VhEELgU3fEpZghkuF7xkNtMBYmcLChlXrJI/FZso64utOFWUEOuNg6+dZ2y9W5UlZ0UPu9XyRLfeqDQEK+46KmZhan6jrkbrFmBkYkrtjjrsZVN0wVJFUf1qEANI7tcdWH6a53NCowhRfCRbjk8471+SKcKfd3AmQKIFpIY1jRF8x66xEx6kobakw+tnmeEWquK1VJV1gmns5qbXpMfMjp6vVNYs8VH0i325yuke4O+XlWrBUJu6dDONgp5uFH436LIJ1XAokXVoBaDCStU0m/4FjPGBL/GmFA6KqC1sAir9Xq01inMM+l0Hkqn/9whvtZoJnfw34OTucDUnoC2NWyxMdKe5DmN3BPSwgfLO/5dxUXBjg1Vrc7pqmdV14WVMDqKW9RNeUbE4SER5yGqI1JGFU9caF10SQ/qW4GhCWuyHpkJx7K4Q6yEZ9pcPNTm+k1BeJ6RHfk1C3CNihUwmj/GfbbDzguWhp3Z6o+uSXZVoPWP7jjrRL2og012wDobHQWuKmNFD+BbsZ0EYn8YPHcl3Tfslp+5G5VQ4o9ef36xllen3X9hPKswhopvj10qqmeKe1bZqj/v9HV2/RkadRDVxE+Wvmk3SlwgYNxgt1Ev+oadwXMe5l7XpqK8nUyiq62cb/WjvBWo7ViSJKMdvwW6tAlTnYLkZlFvy477YJ+eOZmcKpRYfLZN6z0SVe0J7RiufHHV5OhrHwPECa6n1ttZtO46toddX92o+g9xD5OLBd+3LpWTGmskCMHcN818JB1kKMcnabbryief2ZurxjDvlldX678mjF2lUircjdit38NtntGCeUgL/m8p/X+AkKACTNhQlYr0q6qt37pRqjAWcUjX1XO7I3Xw4xIOFGLQ8cHCwo6HqPepNwAo71opLzc9hVlVp9EjReFX0+8weeGZhC6/JqHrVXiLnXaL0SX952nBJ4MCS2A9O1y2Da4D+92osy3lqZKV/Ho9UnWaW9r/M/tOHtp3PtJyzqMqwKrDT2dVODv9+Lc4q71WdRK0WLSdQl17PlL1NJ0DDKuym6sIv0PKjmXWdJbXpCo3dC6sJEH4qSH1X9RoxxHleQyqAqkqC+yrKricex6DmZiyQ68SeptXuYN/ATBL3/KaIMtuBmcfCTIMMVr9ZPCKdnSkwlNbJVLHpmdBEYMG6n6nOKEUV+6TStZVnXqljVswyMyjg4ceHY9wIONQDDR6/TO1XuD1lb2ZazK/5ppsgSwirWo/L5QYS6YK3+r+exV4LawXpi38sSOOOrMeoAa04iWrNooddabPyjt7a9TD1Vl3bdQ2eC/CJblZJ2G6BdTOtNR4qKX2CMNZjsp9dc0qexdK5CVNk2911ax+ar1FVgGOxdwNu83nJqsSF6r1iuzGsSMdBC9tpTbqhWmzoBTXx7gjLGY+jDz0YXzEq6MdaB0wgFU9wf7zW4do5DTBrrr7Kd/gO6o34Jnt9XeH0lWHIb3ShsPJk34AJX+GHhkzVL73O8XHWoGrrIOaWhQE3JREwey9crbDybou1VV+89eowdFSLEhag0yzbPgxkLupntSuhaLACNmyaV43Cg3zgJ3kSfTatLwg7WYnK4frQl0uur9HHUw8tqZV6XF02vBjfKYwThwV1tBjryNteQqosnAVSqx82g3fAQZttr1gLzp2yFGJEM8Wlov9xz/E2VFDrQ2RmUoYfpZ1292nz5Z6g/TpKRmgFrphl/bM3cAg0eQUsqzUsWXWaw2L3BChICjzqdKmXwNdc6gVCcoMN7pnLddmI28fneQR7YMGv1IriFX/gq/bBkUrbNuqwqh/VvquL7LljcIOBpwlPXvgEHueopFRRUSPMKz22FUmyNeOAVUWonqgzLXC8o6dN5ntUMpwh/IhiX+Ii6oWyOoSvW0Q3VB6TOZCIhAwugwIv7YQc8odg2Rex7iaLb7Vkaq8QN4KSVlUjPcN3yhcKMIkEkzBqr1NNpWQ6gEnX0OSVs6bCFIxa5rHW03zSyzOz2/N2SHyrS1vl6OQOgk2iwUrxr8+7v6Yx5J2xio0fDH9HtmAmBXe8ZpXgR3YlpY6W0W+rg0n/+7NBJXL0BPwoUMIhCsLlldJrrokLf+t1iD6BwbLhaqOCkTdI6E9u0/5mn9sQrPW9bSdhJLO+gM1E1bj94TVdvP7RF9QM5moRVRaUI8Ne7SICijLC+zazmWYTXf1sEysAk4OJkmVLDZt49R9gho7VbYuVMu7Ft1pBZTMMSRWd99RQ/vDM4e+SeGlk56tV4VmvvY1qLWqVQUm402r2NvvGOcChlJmIxIIOPBVUs7X1nGlmwtqiebGm27sVbEHzBcFOwxk7avF3reulPWgkHqngDp8R7r8OYjplb4bfK7TGnfd9JkKokLmnB6FSIg3VQTHjNK8p5lWfd93dCSB23UlCwPrDqMk5g1fqb99e9TYBnF/HGhTGAIiatRVYtDm/bKq+deO0arE0KhL1SCYuGm9BHJUNqgwdVGGPsh+x/j4w7AQJKcrd2SusCD/dwz8yo+F2EzrfNJVeKkxct1RfbKd+9Zubj/5OV061EKqIlz3b5w0p15rdSYEjeIULctzNXG9vzY+wXDj/npgjGhSzQ9RZRc1hzDk6hFmzbVhb+2R5r8eAW8uTJcI+27LXsvUZw6//a0up8RhlfyqFq/cgVbncizMPsNrF4n46FJp3CBZROuxMAmFoWf3E9FsBwT/sbOX3RtIRsv3aHaNXrtFfkASRDpXzcSYWC4fYZLU6K15ZPjJafEsMGhap1kfH81GFq9NLOg4bUe4IIgY9R2GRzCpt8DGSJzRu2VZB3vJwqyVyZhh/5J3zOhnFm5DB7dHtj0L50FhJq1nanw4A2tHmLEcRx/i50iOnyNMvZFeOkJ37CShmkDbvErW5QS96Mv4yFXKQ8+n1RJ0wR3E8L3BRw9DUwzyYkc22mfuBfdYYij6MAQirj9MM9A6xKyPaCvxAa+kIFKvjJG2DLx5VkK/JfZxHfPNfBWGtgqPoI12ONxwI0OxixTL/IiZStdQpOuZ2oH74YH6p/5br+MsFz+T9DDUa30kFvoRgYFwdIUwjq/sG33u/Ewr7TWv+iuCUH9bE5MjvCaMccX673NhJl/B30J7rgf4W4Vg+TRA4nW057My1N9bvmtZ8cBivUVQW+9myCQzyHtOVM0Pp/oPgsDmR8ViLT9PrlJ/K6C9wc2zgbuF3a+WywZOVX7PmjJvNYnZjuRWwMlB5sd0ZfUQM+vFofPiz7mhf279bJHltZaGHGjV94Lh2kJaX05vM8HDod7hQw1KOioIuhOoBH2dl0wxa1Hma7xkOiDmbVJoGy7ptv6wTs6goyM81B2jwnmRFJAQ9CVl+0+jeJIbhusGT3wFr7LUehfYiVhP+3mXwnPboDUDpmA9fWk2JMmdsjBpp9liQtowbmnwzSQnh4qTD1VwyA4EyArdKlouf3Q2CH2tFdAOuJFmp3M5W325CNUJ0tC30NL1CdxMGHCoC/hQiutHlQ6pVYd6yvr4h33Wo4z3JtIXHP0+\",\"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\",\"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\",\"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\",\"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\",\"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\",\"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\",\"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\",\"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\",\"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\",\"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\",\"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\",\"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\",\"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\",\"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\",\"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\",\"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\",\"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\",\"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\",\"kvFJ2jEUerwFQuOHWUBI4+QeIFmHMn1fxNXboeVrwTl89qLWJ0M06xLQsE1wU/YUkpVAnbwJ9b/1/mVO1wgeA/fFYayVOcVp6r4E4fjiVr5pYMsVIeMzw6FFUp1b5qXYw1RvFtCE4zcQQZSzdDyfmq50OsrVApNFVbH2pHVw2WyR+qmySPuR2luviCFgLIxfl5hG2hH1aFA+dEMVtKO00sl2WU8msjOHhDTf8BT/nLJE4eVK/dTB8bgqIvOHPJmZdnusqewHg1M10rljj/T/sfdFybLjOK4rGodIihS1/40N4Mz6kzpCx2lnKuJ2zUzX+3qpY1EESRBYDu0+Sdr9sZXwejSuB3GVl8Iu6zl79sIOH9jf3KeW2a6TDHedbjlEPaJW8dLTLVgsbRDWhaKE1aSQ96349e0it+aN9WbrsMOVp5sGXkh5XRHZyCDygtCLayqz12lI67itDxidhV4JDr5+f2GoeKW2JXCsByu5HfMdNfCS3L7oWTxr+4jE5awwkscKI4BxEmxOHVJBxvD1rdgZAVMfY2BeX92SqX7IUEDknzr1K7C7FqNNCYd2bp8RCpeZGo0M5Whu+RTtqJ18oWwqjoBfxx4zEREZqojcxsIsQW5H63S0Wx8YzcbZ+tg4+9KX+BaAUipBRmmtsooom2q+FkqMSqqLeGiLq8d4J7ZZxhsuXN8iZqGHI4/XiGJKcuA6CpztBcpwMfA3iU8641jrkGR9Dw0wTxZRz8jTM/v3G1BCBoRaE0V0MMS3DG1pLEjxx6eNDyrTDUeQpxAyPgXfWqGBDwdF+x2jHOQReA2lQhDOseUZEAfZa+tBaSAP39G+50zc+MdRWHvlku9lv9nvuYMqSiDAcnPcrqvK+e/+xmyYOtTR+jko+MYYs7z9mJ6Zl6OL4gTtzNt1aQ/7W8EdDbcI/6VVTymF/aLiNFopnF8b80TPuiMoP233krVFbSKkZG5qsl7kTNo4QqvuHvKR0mKmeinPyV7qUVKbej3NmdepsjrTT9Xn1ISvnkFmupcyFL78Tc6yzDQXZSi6eEuJJ2+9fw1Nvl4bpArVzjXBxrlwhO/Z6EeeoINScVL4uZ92kSz7pVNYlNK1u0StVZpvmiqMAYwQAJ4NjXrVDvsdxLNu/1Ai7KYnqh6lVKt4bfnSrrPqZkwuGTK5bjpEOao6Cj4AcmTyFabEl8ptOpDQm7ybmad9QglGZmptMpRru0k0r58OY1xc81L+IPU806iSoUjVTROLONIp5Gktstc/xMQMezypdyZHs0xK2vgp6bF6iJlKlQxlqm7h/OaBp7CbcKetlRdFY7FhMPsSw0X5m77E3916vuXl3U2F6tQFxTaA1CeIN7PrpI9dp3ZyHkvJhhzhXE79+S9BpmmtXOr0VPV2VTLsO6cw3n467CmJ+59JdjM5RhnqMd7iI6YH3qYCFGcox+r67EtmglsyVNz60a2KGe9GHuPdeB49JAMAMGkO+gdfgNkUUoZTyJtyHYpslEnauJHQlqSevka9JjVTIlBtN/xk33OCp0JhW28kS1h8hj6kc/uefzfqfwyNWINWhCO/SN/WE75bx5+8UhIQh8gtkzaydfXeqld8Bhxj0/6TGvU8k6LDtUnb9EaVBK4BGid0rUlq137H4IowfjsKOQAmCceR9jsEo9uR7SJxp0pU4NBPiBjoTNlDH1T2kHpYBjCghOBfNkgXxZI+xLhO/aQIXq1Uv9Ujl6TWk3aagpa+4nv9Q6fQcD5RuDvFetmVtlK00eIt8UZV1HbcRNjyGInnCZVpBorJpJ/6fseg2y/AYJfeFNi8ci1hv1OcVChHmnAvWmn8XjedgUlHyqYTS+BfUS/tmb7LafFrXKOqgOnWN5wOv3jx3ELvQLbeKfq2YYDzGFWFvYOe2tmI2nE+TGMHx11KVfMK9GQfWUCa+XjJ0MjrJkiYR9fSlTOxbm3dM3TW4tRhi/MWJ+Y4yB/qiTAJ51hv+UvMLAZl6DF402ohR/QoA1GSJzdufzwmTgjSmPNwbTJxk+imvmFoAwP2ijqPPSkcw66C89ftnzme6NDx5CaCHXcmUXZI7ZSF2kCKSCr1foOVkmrVvmGuOJUNcJGMcdHdo7E39Yl0MdNKk6FY2k3EiYvaoDLz1JWhqe5NmiVaXYlGuMZdd9DKMKe9em29SQieqU2Bee3aS8PfXRsdN2PD8D6HSVn7qSkW3Wkktd0hOBLTmgVXCTUS3qdd5zCFztjZW1DHgDrxn5nszSDtY5zs68yDmeqbDGXfbllBMlQWCBV+n2L6cnH45fvExM1eVNLMpXjzuukza36alfVeRb3pR/ThZaY1JkOxsZuK1XJ4InsgEXpd89n9FsU/otCzL0NOUvmGN+ocsSJZ17DuHRVFtQ3rvBN+1IxO6WJvphRX+khczB7aocvRLUIT7SgIClwzHKpR9HH9EDOu3dDL7+fUMr720OJCaTaqBnazWj6hiK2z5WEdLg//nOjHt75FL4UbF0bPMlHdsRf1Ityd62Bk43RWFxvOLgjLA/GQPZ2b525l09EFJfgKPoSSetrapmuGtWRjBjf6+OFSfQIO6kw+V4fyuf/8wf/LGCrNSIGUVvCg1w3H3eRHAdOyf6C90PBy0+iOjg9QpZzq8HXHYu803KHzgxYJ+k3FjpycU26C+nWpIThNkU1Nts+XVir3j/CvrlsGdwGEOveQWO05/nXPpBfarARAOaBIFb0qYPKG5rOk95x46xUZ3W8Fd5XWPUv6aYiyIykYOa/UXk6F9VaoE7/hIdj1rzXxOJ1WwjjNVZ7a+/LPdJmHTnm3QMFOJ4Wg6aKTuf0HQZzZtqEOtw1vobHIoU7VRwcmad6Wlty+FBQq4sCy2StqpPQNg+I0GZaWtPfrbC7HjsUqE55nIi8AjeMf16sMtS+dIqV24zObyhmMbAgEz+0wwyvbq1ZAhrqn1qYoymrreFVpvUNm4Ccmq7NXdiid9muT1W+RolrBJeL6raHgruUTYwudiafpUDztjnxX9XDk6rDwctLNf73jf86HCz4AwoG+YJp6VSXqexNiKfj5za2mOdLeJ67UTOxKh2JXtyxE1yMBoRDdQE+S2X+/OhLufSKwHV+j0a5wzwvlyBbNadFR6Uq/407VuaqQDIi07oUUwS35aYUqjgDlFd+Bc+7c8BRnM00KICDqIWAQZMAdoeC5bVgLt18i6J0cl6nAX3qlWqUwYg3AA1LKP5MvZhDkQQ01laN3QF3uT/Zsf7CumU3rh2p2dyDaPIwaIAAlSOpcffv9pFcQCkYrAldxYVNqx6Ao1mkqHJVOYLTx3LPk9qQPmBg3LsgE3vBbnDsXJgWAzxNIqnvEjl+D56B4RgaOQ7MLsdzwGBwi1UYg7klWmm67SewV38IrGZyeTfdcWKDBVmQWx1NrHNpvCM7PCEddgaSRuFmWaWXHl4rHaIHSooaYOS5WrRv2m/E5KglFbk1OxYNtkx+CooniW9Cto8mG/Rxeqa6olRDmKMLxWF3msrwXuGf9nAc9iGlOQImTXi1MNzBuK7VxFVo6xRK7yK6eZ0jbmdzeaWFU9t/wGKd6VKOTTdXqlAVeYUf9dwz+ytc294w8P4mSh8q/flRJa5pUcWBWWVnzPn/ppAx/bH2hHGnRk4OmQoy1vOw2eaeeIqJ2O2itkOR9WfO1vaTzl07duZ97Z8sRNfkd5HQdXz3BZK73mNZBcOialdrTEcjnyxIgMy2WoRTLTcyuOG1KmxtSuP7BW3yWsGWYsG/ZHKGKCaC5IPE58NSO/uiGuwRs23EMZL9a19+j2UrYcCPsliPkIYkqSUSbAtmuG1zMbBiHLoz3PEml0VsIWa1FFsl13fKpM/pjR1BDcqbxrXYaW6+rZUyXuB+6SO0UDDXOiZVUYPmD3cvkCA++q47MIEpZJXpLLqeGmTv9Y+b01k/iJiE5Z0hV1p3EZ/udjyVoObSXcu5ceJgtyVu9/toTkPSga5DiWVXqPCKcPdsy0J4RJIb8iFvSM5BqAcIoSGrROF9dvkizcddT0y6NAwAvvVWU1zVfUnmLfhbTJ+nBvkY7qqVQClhjTRrj3YOZfIenAtqDesBA2+Z4j5AYlp/VuX/CU1cpj8xE\",\"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\",\"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\",\"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\",\"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\",\"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\",\"R8nTLnLHfhRvVA/uDBfUFUkn3j275oXLhhoEsPgHb8imjRxzIYuWjlqWFD7Y9Bi9aAobaninWL3ueQzuoHfrBvyRSurjnsco2bpnUU6TCDyuKup+q8rAGxs0tnCU4BW195anAKrtzqZaoWzA5Vbtt2olxd8/G24U7pZcXYb50qcgAYHGTYC3wWJ7x0OwhkDhrfQppNfZnlVrsVLcXr4KUiVkw29BROhNgtLApXck75W0998x+Cv1JEbNithJ2fRQe6qWIznVl4Yv1exF2l+q/GYeC49V4Fq5wYBPlK724okvHWDSRHhQhB23KwWvliOBALQvH2AyExv6g93zDUQOPFZns0p7teW53sy5+skDpFWjyRYXMpYvkU4azTZ6nG5RNcY1AhJUulfTKuIP6qdr0oJ3HII6tBKBN5dLlEiEy+tIU/Pt597T8AJUW9WVMjnLoTCTihoqRd10hNLVKe4Y1mpt64rGUxm75+L56lrbmqHqTYeIA3C2U8m1AEyt65RP19EfiueUw09qMOUCTnOt5WhY6yv/aDxMpUsewhj9wEeIwjP0RoPV5V1Vm1wle2zdth/uQOEN6a0X5Ih1UcfpVP6hr4DkVjW8ZQmUBJb9D8YDs5f1sSnLJfrTK3Jn+uRPvUoRxHoZRmu51v7yHaYCXQ8dwfthHh5ZLZ3CE79uZ3auPON3OrkQCOJin1g5munlDuVyb8rRBbjbqmStijru18mAZ/tYUORICzk5mLLjxhFZdBQ6DEWVULtEjz0br/wQ3oPiuOyDbzqRyILK2bQ7hxJh/hF5LpvVcvWpYu465tAJ5tCnTFES9Wg0/nhx0/h9SoTViGJEqZWWZuUThEyd54mnOhsZh+bJv6ZVuCwJtL6A9uQIw97MTVQnPTzNUAVZmq53iiVm9Wg8aJuFgNCKsEbG8LaFM01tjXvBeY5L5SM2bLNdkOEqyE20WMlepXPEgozxh9u0ZmB2Sy0kB8IgrasSjbf1tnGbRER7qqy+3tyYpelhlr6NgyldWumOb59tfQI0ydJDs4ffnD/8ghFvo2xSUHOvO75DX0ZLMyO8x3zwHF/BW6CkJljS1pb7xjMHuaGB3E3R8HcJjNdfe/KuDp/VnyNVv37qbKb72LOqR+WGVxdgvpJWli/STJx4qE18iwENVzU9NZBoC71bNtBSoeMPQF2i5GmFhMsPQCWfPEr+2MKpHWSJ01Y7k3sgyyl65s05tOa8JRz6UVPwXU717vQl85kXMJ2gjMf2uLwdzo0J3C6njERbHqHMdFcfk12tfqTQSaC4tB6y3LmPSWaIp6ro5niTuqh1lG+0w1smOcwkV59UXK1HpX+fAmjQGmv1CDN3EBm6g9zyIgHpEV4El7C5NbEcCz45Qzx4BCVD0ejLpBJlGSbNFIiHAsQ/xw/4VoLm3NA77r6iyPlMd0/KbLBbnuqy1jhSgT3Ea8ejpEtB/aW2kjUjtEPV74acdnHB5t3Vno128zE2ZRzeinK4ziyRS44arydocoZhj/Imf11KEkQNKbhUpf7BvnLWaB3SNW6q4YD5qPUCzORuuZypZ+6Vj5lXVjpwKoB3FG42ynolrTNmrg6pubdwHezo+ONrLUnX4DU/+S+tQNRqZsW8SeKNap9YFddZR0CHLYFbEEccyqpUuf8O0FTXI2Jym9pj7bHLNdDMxGvo4XULcaZRjECKcwYHELtkpvaO3dlM9zFvYAS1t8SdNu+KN2oJf39tl8aRC/CHr54l8yOSZjP9h6H8wy09MpRydFtK0jhQmNp6v3hSCA2dQ29BG8hy1Zz9pUaX3R1UE1B6Kv5p3WjmavEF767bWvcJsFEcyDzj54fT5C8FjQWNO7DJlcU9+UvVeu14UEvvJ4vpI9pT0y2I4RrEHcmunwojXuh4jJfXl8zg3gXDbKz4GILNyqVY4xBCqAa99EC93tJJwn7SoAj1NoIE2RrHaGVd93K6yjHc5bgFdOAI5FkKX11W179POS7nhbGWvQnAXrlqOfH+i89CYrjO8ZuVqcxI+DJk4d8BPEwOjutESweYJSt89RAza+bHnJmjH4WO691r7RF9vckxa5g91i8zPQKA3M2ApqLlOg9rRjwZ8k5uI89IlFAcgUY/vz+o1pIe3lF/htba6p4qD3jwwou5VgVglavk9detmckJPLWkdSkgvuVJRPuYGt3xQSjp9xHK9Kx1+dgecjsrPZR5RUwE2On347q05IpTNLb4cHX6J0KiT9Jcf3BkrYdrsieLC1b/UEasOZ3e0ueoBxdfFZ+IvpV9mfwgsyUCGS4R3NJ/1SPJ36hqzXv5Q/NSZjoVMhSquKnhVD2s5mkng4Mss/tmHgBDC4CfWyD9mqJiz0pFhN5QOSC1feRpmmTroeHbLRFhR2Z0lKNpDbH9B9WT2VRFhmOVWyJCqVxrSHa4Upry8+18dsyyKfKBSbOgtdWWinEICSeDqUn0quUjotQ6aw/oc+2BZFA4SgyuLpY/xESZZYmhjs5NmMMPo5egiAEDrncHpMxaHOWxka8etHVMTaUgU67TXmW2EiGP7UTUchD4VfdUtvvXmXIyM/WWoan3LV+iHA2lUacZH26Wre8ILbqb3rSOjPvQ8MKI9+6+pBT3LdhB+wgn9ADmA3bNDRMFj0HS9KnRHhKFKsL7HePc0y9eFJ+iUPvf2kc0OGYlhT5WUlySN/qairOJaDNmuNbwuG4rw2Hsk9HJkXTqT0xOdZb0dJj0btrsDX6XAL5F5va6ASuio3qgZLDLaWK8o+HNOYrnMeiAiIcKZdFHnqjZjrIOl5RvqvGAAs1RhjfrZa2H9q1mZi3NOJqTQJXnV7fpvvXQBvn4HfmOHtK0WvnIEHhWIQ0lwG5b/1CyzgT5PHxJ4/Jr38K4JKHMeI1uUFuKNtGzoGbJblQHN726O/E1OwzBx6hSG4oK+rzt+TGK1hqnApsg0ptcbWx+C0dVMc6MSo+IRJn6iVdqNsSTx4Z40Q68ua4duU+j6rqis071IodUlZuImRcVRmQmBCZDJbBbWuV5GNKFCkBVp1LbejNqtnmqj22eah7daKfkrJzy99dZTjMM4E9us7ARKDTo2u+Bes2PSpSauD41OqDUnqdw1Ko9zWoLp7rIJ8qLmTiBDtUJbllAzSNUqeFE2Zp0W+/5z5RrZChdcwvhww7qjfSaVj2i2x8Ez2eHGO7m3LJgRJos6krqnWfrdX03XmeiYDpUBbtpBdUrEjbKPtSAXmV99XFGztQhO/M21jVNjAO4MJEyfn1KT0jehb6HHnigevPPTCRnka3DyL5JwiZQf9MLKrVEkw3240tLC+lKI0r8CeWqH+gbQi1ZFv8chHq/Q7PYHu5m/5yU/td0PPFrG55VsjSb5EcUF2ZLRjpcMrplKpkHfgVNWotTQHK9ONIZhVyHHPKbDhGFr1Px3ihhvR4UM4qjDimOt+CnODrAuYsnDtP7HyRVZ13NoUbVTSKSxbO3Ik0bB63L8ElmamfymNyZ9SPZzWHLWWic++vp7uxpttPQI4G7k1pzn3idZtw6fUyyAJ/C8OQ2Lp83eoP+oesxa6I9xjdlYJtmZicYR8Jbrylme+b63KL5bhMwpuyzhEM5nR2Vabvqi/t+S2f36TFFyUuf4v1bZzh2KH92U41aUnsHejB8GvuLt9gsKJ6kObbDWkRTaVZzfblZZkKx8phSbFBCIsmfDTwn1ep632ZWUchjak+XNFXe12lWZz+mQxflqKhazQQFXkPCWG8DzpQZZSjNeEu2S5RKykLCAUpS/uC3NxMqlaFS6U3+BpVWVy5UyaTjx+9nO2LAhupHLbm75ns6qBdc++KkmyI1tOq55ymqI6U5s7QjCGrbcNzy4hgU9l6BF3CMxs7RBxDUTEVMhjJi/3ZT39/C8agGFYe1FCXl9CNczVnb4zEXFkPSi9IDMY/7heroD46Us4nLRnqZMivx5LESzwSXrCvuF7UbPWWD6TxFn1IA+oBcq15lxH8pWbgC9CFxO0u6RIG54SFUe/XOFXNuaNtVTYx3ITcL7OcssC/LV8lsHizDefAtdUVHuotCK/Vm0iN/Pd1RFIOeGYUE2UZu3YYo8OWs6ZxGkNyYLfIzUoczQTQZKqLd\",\"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\",\"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\",\"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\",\"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\",\"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\",\"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\",\"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\",\"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\",\"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\",\"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\",\"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\",\"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\",\"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\",\"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\",\"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\",\"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\",\"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\",\"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\",\"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\",\"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\",\"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\",\"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\",\"2E9qY8OE7+xSAr424A9D8irkzW+6DDU8rKEu3Ya9u4p/+HVWW7ucMbzpqW1HtDZoMGg6ZIMJEinE69HFAtfD7d1O69dSpeTQjlk6IituyYbL4Fvbeyjepxr0OK2+Z/eeiKMPxApSa/tom0YMH2mU63ZcDvfMLY+UIUQkq50pMhC9N4RS9Bhso8UIACop5EubHijWAgNgECkSRQRjz5xVexUQeppnIemLDU/Uq55ToooHlyy1seORwlbgD7uTuBzsaOzYu+e9GI2suxKgj8YJ0A0xLSdxX0YCQLXRcT22XAQACGJ2KtUlumNJW8a8JhEEIDhLw0Szb7kKkZCh2aokAUXeZbR8bS5JnbCjV1rKux2Mb3WLcyDZBhx0mpL5joPd5zs7tGXn5HDWsHp3LulL18J7tu5jcNZetkTlZ+Ef+VHHsWrswVAsbU+6easB6BGdQpRUyfFN0aBosc1aDWEDJ2zT4mAIh6gor5SDfe49ywfAUWVGLAhES8+sTZdRbdCS0E8pityy4swbbgJQPhA3TIFv5V2BxC8tA0eqXIFA6O6ab8/kfo8571rYDLGSQAa+Z/RDyhpUyWHqzTb+R9w6Z1pkcilGdlP5/02rS52JwuljonBdjlD2L6TThCDX3adkJqmml5JqNy1iNAM4SSdRNX6deneWOM3xOpn46PmuesO3SoPS2xDkeSS1AIps+MhyJ3yUqSQCBStrG8a7c67HGg9T91YAtlkbFjjPgEfWihjeITcsaUcf25fKdGs9GewapSd2bNuzgYF8dZxSfQPR4W0j228hWtwJoigb5q46tqTlUHBikFtOLGsfGqGcCVHopRDFTQPSwZDddERlvGj8ixBqhj4uPXlv8eYYR+HLsY7RAaHGkg3V12oHA5c7elK+S7cs1DKxsO5AH0aeGmLeu4nFl652Uyrea7njpc0dE+6TkaOOkGdZ49QB2VMwkYbaFRWjBiXLoz5CVVOZmdvKc7YE2g47PUf6qKpfH6AkLkc8CLyqmV177Qg+Tm4UMgscpygRXI624a14lWidU1TpPvT92egv3W0V7XRSUKOvxbuqal8L3GQ1s5VE7cpOF63tlsHATeFKgCXLcKlNa+WV3qucJr0csdr1cncxifLgvLqQYvSR3GIW8i714W6RyrFDKMvJemB4Lvlgfgt9DO9BG1WlHlbKriQQZhddAQeRteKRQgjfbx1n94Ve4mMoCXd4djd8as/7jWAXyEsdJ4sSqHtGb76vgB/cDtpY10LI+M8y+JV62jrNWhmTN+sxkP7GPMlrAVO9mYsl3OTwjmjuHC9piCexrDYzWcCDIz16WAUn8aVV/EHedaqz+9wS5KhMs8HR75fu09ISJqH7uVxV7OCEdOAvpB2+rBM8cyi9WMBNggejUYyzkGyo5foCZurfl+LfN3nPWR88SsiYgtXz1SVMfbaePEV/taR/naLJJuRjm/C+dlfOAkI+ZRX2lhrcrygDiB9lnQNJ3Vivbctv6pKb5G1hoQH9Nbq4ey3lQ69zP7nSl+YQt+yCHuWduhPK91VyWSfKJifJHjtIdiAuC2seOFDd1pcwqyVflpJv8XwZx8DXszrumUPWvatnKv6XIv43LcGN/kGUa+hlS+Xwf+/nZBceiw1v+7j//2GWPOWePVRlcmBtsc4ZJAryaV++0DMXp0sTp1uOEm4DDcIyTCgmP5bh6lz15qEL/b4f6ZQL8aCDu1dGcYDNOXG7p4V7C8RoDRo9j9Bcf5XWVPt/06dmWvx+bAmI0Y19RzLRcClsA5n4zp57cyMfJVtsytPiLG0vDt1Rolw/oSI9c6m5NKn5zWJATF6meAwuxdHPKYqGDTIvWwatY7ILdbULt4DWOhjiulPKsUusM/VtEqbtMTe2OjrCAslaNoo11uUlTF7WS8j6X0O5800iZWDQStGCfN78iLT9zGbgMZeBzvaumfgpYWy2Xs+QmYWIXFqI3ISXcCXOYBG9QtuvqzW+RKMR2Ti1KcRH+PrckL5xsppe+TOigQJz+EfuxcyN7dKM7ZYw0Q7vrawrRRwr10sba97IdyTVlkiqh7pqeR9qSyKmr5971kd8qsTU5Wj4+TkfhaV0l+V0bma7cem6cVPF2I+iN7V2K3Nf7qDEZAnxmD81YF+07MbZ03MblpcwOUjxWK3ybdg3y6gvE+pb7gIxCOm8bJ/UCFsO1TOPiictKv6sqvz60gnW8MdGbeJIQIzQcwqqNVsODDOPjUuLjTuWUHJQYoHy3FVdar2vjlg/q8w8FZ9xGfLUuk5yR4f8odo6s9fQ5+w1GntA0QigupmO9fswWcNzS3jbPjgmZykf64fm4SYIcO7NEwn18pWemYPs4Q3yOjCTAH3p2XfLEvxQ4ruRQHsR3n7d5BWpjxXzzVZKq9ceK2TK+UZMYIY/BjPy0GZSHQeJoqV/qNuP2cs6nkp93pqI/d7UvlrkOZ1MZ7J3TeJex2byul4G6l+bH3h96YxH+VgXSI7uhewtE7iJtJ/1WsCsG/cY3cSAW42+d7QHR0L9860sTpohVxu0A+nV+64muwAWZSkUbOp05nuzH/ePHrPkoH1LAR/nScjuNnoNesp6J2iyhseW4HkUA3iWcQV/obZOlpCP7YJTzbrhcRUq/v2BQzZj5+olPffn6mNfC9XkXNEKdagP6tt+4lbPyK3yILu1xeE9EaiFelrrjL4ZU/qSKP2jZLhZg1cuO7x3QI5xnCJar6hBQYh1TbxZo10vO+03Xezi2NxQjr3HaBuMjhp/dHp2ISa42We8Q2dvrFy+sbew4uywqHITV+HB+nVtHYoLp6r5oL5w4LP3bI4iMDNv6GZUffCP6E2tyaDcktMNICe8MNnwwDZf8mj+h1Nnc02P8YDeYqC8vnXWl5PLxtxt01nCI3a62rX17Fpn7A19kL3BcQ7vrDoZwGxfroLP6k2X5aabCvmdlD5EbQGUjfWR4zHBTeOp+mvUMXSMPoBrC4vYQX5NOJnbhOqQg3d5yxBxljfcyTHunjuSgE4jwUAwiCwJ5EQI3fut4vT6AELSCFc6Emn/CJVJZsRjuWQe34bEvVkiYlMPZf2FXRSiuYmM30/0ms2FjKD1RcwSO32Mumt4ZQfbEg3JtUmuZ6c/4Y3dxnlX3LELI3WlIP6tBwq/eOJbx0har3wksdMZjVovedQ3EfKDrt+KCOKnyN/qImb+v5f2v7/JQAZmnGHYpzKiPijjLpSupfCMLPWIvicF1ElplyFKBseeJkQUUiz2FSnbPvRd1/tXZJ4dKLk8UL/JV5w5e1wae9zUIiJrV9NxuOQvFOqZr4c85uvx/pT+zNZDHrP1SD2Q1VFPqvuwzKXi379vnS3iUofmJhGXFt67FHX9VJcC3bc6v4B5I3oTRGbVd9vX/3ZipkSzkYiLzCh/8hjnT5O+DIh8gbiBcxXL91pm8hvymP4Gkgmv7nlqp7ILv94lmgo/PKf8EAdit7UC9ENGIbWu1rfmYfWbOyGzBFsuE+xb4kQ7kNNRJ6vjwe9/yCV0xunQx0gd71OqdVaK1cdqsW9VCb7mXNCjqii7gS+WTft1bWRLQyaKM9RJIfiMccHsRF0Kiv5ot2sqivrcIsaR5EWIU2rb/1A7mxG29JKxdQfwMBoFcipTPdTaC0Us6ljMCoCX4wY3KVmcHhg5MnCmdCkr+pp+c1FFtCkFE6wqNxRGOf1xgZC8DfPTcK/ZRxgqsyMll0fqppqyHRXImZhbSF8fDZQZlpVLLHsLgkomfSXZsUVAtL7OFJ9V9+Wyun+LD5exWs7KoCTyg5IdwAdVmnG7ewcAH7zp+13uk/A+kiOZQrtDak7vuApgJso30SaGBacdzZbPQWskQtZP/+vm3rfcCuxDp9pUFvkR3T8BZmUm8SeXGn8/J9r5NfgR7G4hsBUBLJDTjgeqxXkxgq9TcIj/I8Jss9lTfWz49P1pFp0pOemllNNNLI9xaKfXLKeZ25JWyrciXh85OFtHGinC9pu34h+vZpapXupT3yRbo9lTqV2DE2VLRc2vYajmnYXY7PQiH/aZmZYlV/ufU+z4VucIwBuIFpleIMS9S2z8d/hncfs5Nww5DAdL6vQnzxZ/MOaZ5XiXwmC3\",\"LELPHDzMT33h+Hny06k1R5IpEmT62+N5fNeb7lt03wSG1eHpYUC2/hEO10wfTB8UCGvFSVTkTB2QNuIPas+zqsHlIm65FnaotwCCSiThgIfrBeaZ2Jxcqs3dthPZW4TgdttrOHZx1mu2E5c69Dct4k3xcJ1pkOhjIiRv0Z++NbBW0kYhsvUAgHq37vHv6M+C9qVa2E3HyY/Em8vMoqyWdHn+fessaF/qzv03aL9So8IDFEI/eM64IEP6xHmapdrynM7TOPrJO0W2LdlqvUEvM9EzeVL1zAQva/ST4LgkpvIvL5ptxCXv+raLrbgKznJB/qETKTM9erkUpL9tFCGLBSkdrZaEn/+dmRnv5jnBrWLDxROwFtd92NJ0ztd4EorYTMueRE6mrTat8ncjORMHWXxYy4/Me800SuVSpPQ2CIhsqYqWgdSsX1/ELGZfCof9d8roBQF7RYUMqo9E37X11dUFqLt5M1wNf7cm+6VVuHeSPMr6KHW1DUserI/jvnkXJHMIEVXxCQEJmYlxy2Nq3NvZf7D61Fo6cztAJgv7iDqjzMQN5Tl1w3fGar/WTEW0LmsczRFkE+9Oc37ricLLhPRhlOOnF0CR/VZx9o0Q6jR9ILPG/7JtGC+4DCEKpFFGz0oaIO63DOLynq8WXvFC67tNvG/VPiqQ0CEnBZASvrhbrsK8OLFmakPMdU/KB+eyqRqLFK9lb/mJMpTOvHH0MW+cqMMGAp62VkLN8V+fJ/yfk32TheSiZbJ7ap8pCc448XLJib9leL4fGliTAd9acFx4g70wzqACBpJvigdK9nyiyE3pTFu7I158xGdTZgb3culwf9OgiBLMho6OrEl/nX1zCsoGjhNVrLzYpv8IsW42P6+X8/O3jLswb6JxYje8WmO0dcrHTNxNLtXdfq4t/LVmJMLb6NUzBhKNj8yezwYj5XIw8r+DR6+doJoYvtRHtnM2ZL84ceqYDrym3ms0gDfgpY+cp1mh/JIye8vweR7ROKcQGchcX9aMP74VLHcAt8pA2i11RrftThSxLKekyj26DMCPd/HTK67NpPb0OZNvPzh03rNZpoluoWbP7mNRRbaovhptw3LayXJkO15r4A9ihHpseDPO1IICYmIcphdSljfdDkeS6kbwwVRp070YreEwFYJEagDDfoRzOtO/0ef0bxwvcJglMtgwBNwtqv7GdhG9BIr+ZO+abnwr8Gl142/eRRJXfc/GpBXyIcPVABbJXm3D+ciz6G/CEedmHqO3HBs+tefcsGoMdroFcfxt0ZJv5RjVwzuHoB1ofMM1nNwJ5HutUjse+T7eHVH42kurJi4I4FoNG9L2fGlbkt4oeKN0JNX5N8Qg3Ixuo4AE2UyqUZuOojdXGuE1M/euOwrEt4OKhyJA5HXWND+i6KgzX3l9zFj+fZFTnQmE6qVA6C2L6EenKhT1TUeSSLu8iNlwoV4OF/4cOf5Lz5PE6YmKiNGMunubhjwvG8LaBxIL+tTuGSuAY0PwzuqpEqU7cjfPRvc5q4PsqBxZ33iXOfEvuZ51wy5H837Ohu3fezqTmZAHZSbyqDTOgwFcjSX3r28hwdPWiKm3IGsN25PcJbjZpyMkBVjeJX987Z216upILhDdNNq7nclvBT1EO+QVPjrPVpc9s1WtKrPeErmF4YJ8pAUzE/N5TBb77eE8nQ3n6XOmKG+s4Wu1tGSfm2zHKkX43vFKaKip12iEHoM+INst4sVldkBxdlYTaap/ZFZBZ8Jvein8dhv06ExTw6SXLEkbfKuq2fHD4VD1wLnqHOjf8USJqONat+JIWMmGOd4pEopXiYISbmTG10fKNzOxMb0UG7vJA4wsc0BbVmqRx66Xb2au7fqkbfvbqiWz9+nJudt2hLRhQxwZR9+ByOw9kFCE2dDM7Hsi2VQkozg4Ri5RvT2c9zW2gURHdqpk4XCq6s0i1L+HaHYvnhN+e8dt51tt+sRT2pNK670aFS22PFEdkRuvUTepwFJ2nTH01iwCyaWylLOnMDbyuGYEUoXIoPluzeBfa2IWuS9F0+7g0GYeHojYkqYUmt4AkzdkR+UGNA4geOp873eeTi8I46wINZnNPGNH3geDHsde3Gm7gyhBGLfdKk7WJkto2thCSpyuj1zuWeS+VH+7ZUySnmAI2KKN4DZ02YZUZ+pv+pz6mzEOhpXRUwH4at0nb6Z0pZdKV7fMtHVkFjQWtqRSdt9gCImoqZB1G7lpPvqmtQ8gDqvwHACC1qrvScBp2li/KenkdfnYdBCpcf6IBnMIe0wl8l1JnO8BcwRtaezlKWD5jhkrKZtK0gclMwZS1k0Fr1KpH4hLIcCCvd61SfnWY8tyP8IDtWdHbIlpiaK6U6u/0c1deaQ+wvyYQZDLifRbVJbkwMJUWdz0ky/1+1uRhZjNxK6czp7v6vr8w0szEk48N82telhmdUBapRHj+iJmSfelgNotphZ2hDdaxI6ojJdO9OIiZrzTS+mxn/Pq/VYjrBnJpcjAgsnepg1i0RN1IFEdA+9tbhgrXnOrimzbfRTQeR97DoQBCFJEppLjYF3fVf74VnYh1Cu3M8JhLza9Fw23gglra3HWcXY1ie3ecbG9UUvGNN4V7frWmUoL0RqCjNX62wDkW1V/H4Y7TiFjhroNF3GWmnWYN9xrbAltq7dcBYfzkiOryJJOk/r9VnGSmRP5qmBD9LRs29TsVkzZ1uNUmJ6uHPutghcjW2EljrDHQXr856bL6LgOgzXyHAVItWclRxopdszwwqLe9kz51sBno3GvVbkUTXc27Nmf3goKDBKnmXtG2xERUveKfoWI355NPd+lyH8teuNS04s0jKKVuic3G7ciKWyMI1U9CsBqv1Wc5AM28Hwg+JU20mr3WwavN24FLnY2HCcAqk0DhiUyJekNz5OOvmUD42yKNY9elHw0EuOBCbesIrD/4loyaCDZbdPdUC+N7o5UIyhRuSEiJCAEIgwgECbe2umGut0qzrkFIJCqAkrvhux1w7f2LEsNIMLonf1uehjuuRn0JQCQcgLzXt52bFFiGcYnylgL4YjVkt/Ff5bBr5RiA2amjfp/LOrVm7llTZeDDHlggZ1ia8mKw8K2vBYw1Xa9WMIts/ZyxBAHStRw3P8li6HzUydNvqdafJ6cWAK8igaYhaC4vIBJg++qvXfTIaqDomSd3KPhSz3v108924IHp5LGYaY6mHEgjKwbfc4kaeVSkvaWm9AOgFwjLbU3IeBdXcTkLj849qkH8C3eo8L/Rlt2Kp3twVNbEHUMBIp2DmHY2XBdPUdTo7DnNsGPnjawGQJgu06inZm+XHq+3MIDHpSIMuMIqKb8IarNRqkuJ6lu2gWhcZhaVjQyQJZ3YSbi/1Rc63Yom2HDNDjnWb/uvPNyU9BmFDKuknp3cPhr3a9G78LAyc+M9q5p3uvgT+60PXan7ZCoxmwCaC8j17n9M6z9mCoUTbbw/ciKeK9fc8xrd3rGb3wqvnU5kKFSETjwV9N1L/EZTHoMJfV+hJqxGliDqt/rjLopoe6pg9SPl84ElYkaORO//yi1IULvbWBT4GuqMH/gVRqTw1T3LOMyTANrpAxv1GJpf7gP07nO5yCrn5qtnpW0Y/x1IwvWl6hjQJwdiHU5PjGDN5P3uFT3uAUuFZnjSNt0pCMf7ctHSWoGvOspt0VH/oa8h9xZKhi3P4S4aQJ0mQHdMgvZD+wDHlgEB+1l67zx2RDhUzoM1o6upx8HSafASuuJ9GQJ9aDECqJcqqjpsN7bBmOQ2qhY1RPJZ6eWxCdsO2d3+vJK3wT5LE2aV8c+0HRndQk+eVr9qRCXWILmoIc4lUG7/6EqM8umH1tE8GktJD6JXJqkwOVnySdHyZ/1VxTJnoml2Dr0llmYlsdUuPC2UpYVwSF7E6Cm5bfVJhHOHizx2YHQQFs5fH8uFYq/Rn0Yp4FR64p4FpF7DoFwVD6ytFGneGi+q3DzapNMLnbfp7Ixk+S/VOS/yXEUG9NoHkJ5NOkbqF3n6PjVhc5MAx+8I839nFHj2aFatzje97HlvZYgFRkRoZRr2JEL9LLJ6s5JuyxW9/pHprJn4jaX2jY36WZSLxChjg47bku2\",\"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\",\"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\",\"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\",\"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\",\"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\",\"pN7sgNzt6RQADVURWJ2RQXOH9zSDBH5N8OtybNY9xx/mJmTGQ5KwgtWeNXm1ea6Oi4XQrCjb9vwYgja7E0iAWaTt6N+YC+JWtToa3EULLqO3tAKiO1R1OZv0IYuynxUDEZz1jOpbUMvOXekTilo8o3vkx+gehY5AfWggY1dX/QOxzKwCOdW0vcMIaNZUYSjeI3uv1u/XhcHGuFw6hLSqAsEdzI6kDQOZjfNtoyFzkVAe2c8MlCDBDVKqcAKRTXskghXg7o8kdtoxXbyoisIr8UmKQeC2beoYhlV9mdFagBx4x3UYzKgvgOlBZe6q0uv/WjDjf3bgZ/JQhZ2Ndib548SoO9b3ccQ4vsKpT5brxPIVxiQBPsYIAiEbrjIXA0Pu+QeO3dnU/CkT0o5OgZWrUHn/0iXr+KUzNfRbHONs6E96MDkgtgqq4OUyajLdfJC0kg9K6tCvqbC1RGbypVRRWaJVigApfv3qPWET0ri6VIUhXmWgfYLzaipL9dxboiMBowCzCT7M8qx/khGes4CrL0LnCrD8UO1dnst+Xbqm5yHlFriX1ObVHq1T+0x5T59r7FJ7Najl6WWLxq9HJTR2lYGV0pWqhOX4iMYwTa+PnntLAIB00I31ek62/pamLP5PVUl2kHHiDskhk8wrQ4JXMTEx4ZSs65Z74TgqTYD5zQEt9/z1Tct/dBCbeWpQdXNQ394xSUMqSFtGRjfKvDofeOWBiUuf6kHcNPmrtOBQQjfF8fly19An/tAfE2eTQ8Z2W6xhb7GuyzFj9j4l9r6FkpIP1fQArA4X0OuBlWfj18f2v+1IitbBwgIC2iXJxV+5rhXsIdVwWoHv8aIiXmQvXpJ4uQVNoEdAzAxybdUYybrg9iKc4Kba2zFYbmCJF/TSy19iVnvTae19kxH9wEQZ8UmhTLUcXCev6TGyXKUDWJsoX6gWQmzpquX1ZmYt0FPkpiRHB7gR11/JYesSzzO631O231tMaEeFJXecsHE00fWvMGmm+4PjgIsSYLMTr9MLr9swvZc4bmY05Kcs5Dd9BT+MOmReCJqqy76wyEJ+kxF2mEAsErKd6/JAPglJ/lhIMmy4qnvr7FBX9A20LgeJRwXSqH+0/vMJ6MMPwHmtugcRrTdVhatAmm290JjtTU6rpZveU3YXsPYg0b3qt8Uh38yI0+3PTW7dQTbLYwHRMpaNkNkK7rEmCGLnAhQKe28YeCxniEl0PZXqvGW6xOBOAnlpWAr9YYc1U+o8Feq8aSCQmR1Qahx3NVsuNWSSp+UxtZDLWqMy+Qry4C6xkoZRtqjmJ6IvP6SZJtNjkkzXtR1mqginogi/qaU4m8qcDmVuSW55EKBxUT4NKIosP6QZx+cpxedNnUMekSOwVh8k60FVJ6lNn0ptLod5UgsCMWZfUu17ee0ks50KzN8SU/kATfqQFPCqMdbfkU/ekT/avlXzphTeu8XSJvRdzi1py9/yHejAHAOEW6ZopZfnkzqxQR/jeedDhkpfmmavOmm93p65Az3nD5dFf7jN1lftwRT9dynw9+Zktv15cCrT6IAeu0OYwv+wV5/10adt9E0m/F186eW8ExNOKax/7n7gvUecQZYexCxRdT9BzsxV8/1BZnBGw33Kwn1HXILEca/cwNCqFY9YdunZiPIxncTrJtAU7PMc2scPFlGIDHZlsGMu+8Ns68BPrh0uDrxtUnnbg1QiF0MrTWFXp7irn1Mpek9TZx5xWmzc9iU4IdOsVTZ12+DCLLpA8ar+8JJYp1/ER7//4rPi9UF0cbVzleCoMxZya5PWrx01tSg/DqDVU0D7/IlvMRu30um89Z5s51VxjHdGGvSCwPz4t2DR+vsTiiQRy6sX7q+/+Gx4T49N74WODqm+VmHWmvZcn3FMouypKPAtmaIdAdoscMM6yx/SnU8ytj91x+QddBZZaU4UO4h13A9P8XyngL5bjKi6qZ5QQp2vSllZR4byrIbl0xr2JuyPQQ7VA2RgrOtw719QZ8YMX52icWo5xPrgclF1/ee2u99iWBxE25UkHBMB4k0vwrNDNw33lGrs/RO4dZptSOl0RXrLotoOiXpJRk1U6lUtj5FzeiL3WLq+DF2PyXeIB2eXcVSWqwcmLvqHUfhM6PtU5/snV1szEeBTDeDb9ovk2ht6bLb1si8mHyEeE7YqAxi/vKWOG7/lsi8m7pxPefOG2lyc3RgSzMgPWK5vmeGae6BfqBga5QF+1Yx3JpsVfk9CaKq3ZhoE6Kr5h3XvbFVKp7vS2+7AoS8tTKCqluUSfKbr/Zystx2Y+Vn0sfTldYXWGSH1KR/1LTmuH91TyJgC3CBLy95vuXWTBqS9dEwC0ITuGZ2q7o6otFxJGiLrtCFrPpi1mUBilJCDwmBgwxve15vyZi59TPDR323ILDUeVVhLSjD+gO9nx8+Br1HPaRwq1uNKkOBtaMZ/Qz8wtQxhqU9RLbZuSICHMkrCA7Pj5iAc3c+GMe3QxtCCahDy/siGZUYQTqcE4Tf1d/1Ij4QqOS4L/oA3m00An0NTtyPANRCdhzTU0vb09VvXdD1+DhL+NSXK1hjM7IGLMxz07OjYDcqHiov2qkG0bZooggMzJshGELfYkfD1RdZuVQsayAUq510lGX378CxCnQ4C71i0QIahQYsIlOfl2339FnA2U+bnZspUOVCGyib4E/r60QrP+VAePZgwcakaPTtQHr/vFJCftC5tEB1BLXdL14a4emU2kPZF/WNX73y/1x81gdgvgzi/kX6CUpFmg346nfTfstBWsKJA1kDLR/xFEf/r34KQ9hTk2jjikquyPd8yg5U1jTtUSphlhQX5V8xoByYfaPLKQTjqa1yMUq/nP0Or0Cla5aYpMx89wr3eGgrd9dQ9A+/TKXj/JpCsVecdTuXgELD7dVAjRGZ71RlBTo7Tlc+wQszqDzqtP37uwOtbRXk3kKRCtHhcB246Le9Aa0k6hOoqzl4VBP3anFkbV9EP7q8KSc1s0zpKKx7VJ0l1xX/1jxDZzu5C6MG7EG5YrUpmVh0VS3XU24jZfviU2ewmukID5DrdvYKULV3SfksUlIDWF8UlfBXmn1BwpBmfE50SOt30JTyiIWE417dYX3LT7AyVniUH++t1+bfKj0RbAWgsGC950567ghAYqCi7siR95khnxlpIp7SFP+cV3zoMadlTwBAe3WPb8sNs7L/KP6RKQrsqCvqecswmtKcowdvAROplFFe+C/qDqsSMr5pOCatvMkKOelmcZU3zXOpVv1YHSvTsUMz18Zs3jLRDCNsbu0qzVnm1N9pz/8JqXh1GWuOobH11uPml3I0RGjgXtXK3sX+ET3+W9Pi5pMcHVQ9uytU6mWqu3/7PeAzpMSLDS4jHr4Uo6x3qy8CotZRdpQ+HlFW2DllyKN5saoZWjB2S5Lh/xM3zfmZgG1a/H1TD9Z6odfnMuHzGZE2nVNa3rJH8cI9KhF0xMbR11ttFwd9b5AKpjBhrMNAmxdqF6reGtN5bNRYIrkCf5paZu2qnKqOg81HRKZpehTu+LxJmhfkpA9Qtyhk4tC0nZ67C0IAzWjdilrpPiRpva5H+qLv3tWG5j4XF0AYgr7b1I9v6GfkqnbKv3kIuHuUrjONh1+RYmzJ/q7cA9inNDPMalICf+BQzBlY6pWC9iUUWQCLHZ6i+qf/llmqWtk+p0W6CRV1UoOAZEwCfMgH8HP/nlxKesmgHBUN20cZXB7RfskKc69X0Kmmxra824yOuPct4DxKkXZBZ+po+aCSGONrZq9bYcJo27m6Fqrkrn7AqCCHavZ8ZuIFOw7m2Orsbjmx3NAJXO1LdqidoS/wTFTnPDl/49PDl5wQ1vtUchVVXHVVjVGyE+sF+72nggANI5mxde5min9lJzhjU6ZRC/ZbJZjsU1KzUg7Xs0j9oGM8y3inB2M8Z8bW5Jo6/EkwAlTau93jfWlpkVDFYvSU3V9rwCqkd3arFrrjUITQbenUG9X77s2b7OeJAR++KaOWUUC/68Q+BaSDEfivEQstuXCrs+Jy4SeXlqqKCiTk3PRjhKgKjHiuOhrNq2S1L2XpPhqyNA1Xw4n4E9DFL2acUY7dM0eyo8pwq\",\"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\",\"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\",\"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\",\"qHyMqV91EdV+\",\"72cG6g9AIvCgtBK17WjESHrAwwPAXAUtRftIezRTGqMHpcYIZYm7mFnPtkTB8DX5a6ko61aVRwNx75brisaEG7aUelQhDBmiDa0gYReJbB7WruL5vzboFzem6vAq7TXf8zkRmCS0jU4ISq372TBibFJVfdi5uEJgbD8rXpep2iWFurQsQzb1Co4wkOtxL7eQq6SfX7vX7mNt6o2lRfvMUnimj0OPCeREO0SpkoZpVgObvgFWYhwWVWhK1IKUVZZ/ZKM661RPGfb+0UO/3YI13DR6VKiK3DFEjcGmahv06PWkqsezPSfl2MRbRNPqLESuNhZf+xaV6KxVLUhoJLRt2HG/Wgsz/As1uYluOKAdEvEpEV2NozJglSIbloOYp3UFz1DWfw2Rlj0/Bg51euvco6Iued8w1mJCAMml+gbVebfI2NC7XxQfPTTLJbzVu9rxQf03JgeCEzZgNSlddxQAGsNNouqUoABcpjTaNHtXwqvfH4IFMegcN/0Y4mBiDXc0e/WytvwYXEYYVxHurRlOJHc0ojpVctAwVGmr3XnTF0VsDdLkmlbl1OVY+76omCGZT2kybtpLJkA5VCUJ8BR/uKGa8b3Rk4RvfFQX3uq3hOk6nRLNyH7plO33FtplPaqmclTpnUIjNoDPVh1rmsHZsLa3He8sRhVVrq3Vb0dSVhL/iB4Qz65t+bFrW5ajPlAOyFo9J+dfX4WNoVoaEF0VatG5WmxY0lauSKgN1pcuj26s8QkWRJ5xffAp18ct1DF+4Hy+Go5QnBguMUh/qYKKLuCKduewjl/8gRltzr5Ee2peblDfaI0IVNgaojso6nRDFYjOyNN8x2XYAEU1xYlk9RZQlaoAu58ZY0arUDhiQNGg9rBhe4SP0aKrE3N5ANTYr9KufG0A0r0BhYPDc1HbFbrZXMIS95BWBbVsORp8rWGsJ5rVHqHYAexpRlTLXf9QSMUp6TvO/v8btZRXW1Q2lB3YZ+xnxXhS/6+9a11u3EbW/89j5P9hAY27XsalZJTEtR57yvZsNruVd9/+QBJoUGQS2hZlbikz8VgUCaLR90ajO/HU2XQaWjvvkMNBUQgJRsXqIgZrrNqpv8eWiInKoGgX+37hvUXvr8UYKE6JUzDaodRH2KE9hRAC+UTJqMi/kd3jPkwuOEEwCgO7rCxpk3qvw3etQG1u6YzkWZZQTFG7RAZZk4yxSFkDae0zz0uHiAawUeMUWEw7PWwIAWtQdgKOhib/3gyp6503DDmI4Nkm9DiZt0swNHbzDKXAwLAlsiaHYgQDs+zbLC6FRhYCI9sFqDwrEu9RHTWy5bi6OexCuYDNei8SDhozx6Tocg3I1QUSF6LO2xXbJN2lwELYu6iSX78Vs9Q3fAaASwTNYxcieYui38ztoa9ws7II3NXb1bjOsg+rURkxsQ5UqypLX0k8+aTJWu8NznQ78958u7ec+7yISHLMDqzJHbIqlHGrDn72c12ss7kRCD51Gn1VEfFkPzyp1VvESwyx1caFdR2rb5O8wx96Q5GopRKbm1XYNAnH1NkSRPEVg0JX6+XSqoKtF6r9RhqaLTIdESn1hlo4CzBshQcfmZTYstDeKLe2VeEgexZA2K5kms5F+5VmMasNe3yrQVgqwrzZ1nbAAbGE/FMkNpNfzQ1LmmFWMVyk+ahni9yxMGJjIzAAZnUF5qVW4bOdwi9DSOjZjg6L2IlUfW3udYphUTNspRpCQDthVgoxEnzt9WhYKuY9W8v7QmhInbfETrYPUfU1z9blFizlqmzWZ8B1bPhZTcqjmneMq0XSknKb1W0XKfcbOzJkNLvXaAyr1WpDb6nM22yVtwuVXWbfUzk2V1VCMt0bbNVVle0vggfdsT7AbhHKZbB4XV2KfKkS+Wwh8otoN/YZGAfRI6cflRBX42GpDvlsGfKLgKC7yB4djiUEspH/Xa0art3h0sYuJqtwApIcqjeut1VX1WS9kGrwnYsG50QUDrStVg1+AQ1+sy5Z1FFMijERcpNFvRqEpaIkG9YkYQXNusGHlBxbSmG1tboUUpqNKF3M1CP2ePrOfvSGhmufIMWaukiElu1Ba++SX6+iF2Awm3kNuVuIZ8UWHSFlaL1UWlfu+mIlTC0Tk2UQkgtxDT9caVeRVx3xu8Sev7NMQR8QnVxSD9tqh2iRjmIoKdZ2q4lpXZ/XC2W5BxuN0z6EqIOPq4FYKn8xW/3iIj6o7oJDByPDgimgNtpqUlrQ0margIyhTmF3MXr0LgvevKEp1qr2ZBfBg+08G93ReIfSk2YVEFdKFFBKESET2TuXUvqIejBxaQ9xK2IKnWINZ5My1gSn7XpjY6nNyWZdTqzpnE/MDYSUmujMehAWtIOd0w6XahGngreGQghGsR+6GoSl3fQNO3qxqUGW3QZiy8+E1bphqTftZq1pre1iCKhHx2IJ3aTe0JRsVWe1iwCROlZqzA4EV1q9ISaz1EZ0tovoZVpX2hSx5RBZMllv1zeHswuk5DaLjKnOKBdcMoYNJXS7W01KSzDoWSAutHmVusgs4ZX1fl1mw2BOLEVltusM9+4Q5ZIvPetKX0ZFO5aq3np0dTBsheygAZZDAlxikyLlPYb31u3tmXeBmNyGm7lMTTZ4lPrEQebVDLHUImezDjkGxzTZY6DI3jWtzxhb6uE628L1Qi6oTc6wpYdanyrF9TkBSza3njW6LxbhC+jcRcF649dbrG4BBrchCG+Pdl/rYJCmlFgkqQiNttNzQTqRZfuaZSr2enZ6RovYydEukg8JeVbvLf485PRcvbTq+/NM/IKx4Tfstuk6jbOYjJbgvVkvX5e8ab2ZO436LsER2p7ixL5Nq/exVvaBu0ieBrMJawiT2N6g3CV7PRBLEePN9lC8R9v4SKi1g/roZvU20FIXuNkmcJcAIcSOndCodUxKR23ekEiZlqICabOogOnQoZysRQPO8IY0h6X2s7PdZy8SI/NdNDirRRH1VeOqNIdrnfIL7AZZb1mcJp467fCUH04zaWSVBNJEIeGM+wdo66Xa27Olty/C1oRWxt7gNK8OjKH1OmIp80fPpv5cxOAw7GobFLImpYxdtbk7BJOWYJj1qi+yE6Q6FIX1rOJCiM6tr4q3tMu+2SY7oZ4ce6XM786yY6Q//yZ77mzgmKM9Cm8EvcdCsKhzpDzP3aBuJ8qgvNOl66lmwbUOG57rM52m7OehSOHqGM0CO2xnbOiOfPKGERNtQux1tVhaQoKexcIleNojiwzNyoldVW0DvcGHWAJis1SB9+/uxgU9HTd0SKlDlMkbQMGMvhqEBX6I222NatOFaFDAM3i9LkH3aifYUcWSJ26YaoIJu1QPCEzaiLoIDhSUdlhMAJraO8/WESoiOHZ/1EfspSx1YN6sAbO3aLCU0KwrKfYq9sATirwKgciifI5HaYdd0pMzQaEMtdHaoWDtDqHokWGT8wyMZyMDJuxHsMVC1G+2uvanK4lwvcqQcKJRqRbFOpms9rmzgs1E7Ouy62spsC+3wypfQEcg1nomuYhuDCbQPivHEdJnInqrg7jYAvmILaIla1ZvaM6yc8dwKTRpCMas3/rVS2eR9exh5Isk1RhW3mxYkWdzFgfzP3+8QxOl7Io6TdHG94Y78oJ/hpYSrnMMWJ8lF3VadazgaqXvEBBHfy4kBsV97sNrwKDRQSKxsvb2Q0roLO3+6tnt34vQU8QmiydtdER/x/T50/IVYa+dicqzeZ4i6f+Z7uoqdckEFIJlnjFx/b6jWtIUarMSLqljB88xBIlZhaXv+jxYtbRDobbaZbGh80jT8p7dVUvrOgAMc10KBaoNE7Zip1Hwju0Ebc0e6pQxQysdVV8DiLz5iN4eeqm3h54tkXUxVDh2Wxk2HdO6ZjHDXJc0xWylsovsn9ouBcMsHWKMmjl7fXx8scDUbIWpC6k7R8ozIIZNEVpXVedq7raNbMoGJhwD7yi+NyB4rQ6taKnOcBgK2ga3Qy8VVdpx7Cy3q7MsWveJCCLPPlF0bO8Fz4jYZ5KK0g69o12yMGCDiTtFhiPvjAqMFRdt8jutRu01grOE1EWPVtI7DaVpSjokHPpV7GIEtU9ssJuKnGR2Lw1ignts\",\"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\",\"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\"],\"eos\":true}\\n\\n\\x00'"
      ]
     },
     "execution_count": 60,
     "metadata": {},
     "output_type": "execute_result"
    }
   ],
   "source": [
    "job.get_model_blob()"
   ]
  },
  {
   "cell_type": "code",
   "execution_count": 62,
   "id": "acoustic-transmission",
   "metadata": {},
   "outputs": [
    {
     "name": "stdout",
     "output_type": "stream",
     "text": [
      "session: job_tgbhv\tcommand:\n",
      "/home/valeriy/Documents/workspace/valeriy42/ml-cpp/build/distribution/platform/linux-x86_64/bin/data_frame_analyzer --input /tmp/tmpvruy7bwv --config /tmp/tmp6dp99efg --output /tmp/tmpiogmubez --restore /tmp/tmpigy9utwl\n"
     ]
    }
   ],
   "source": [
    "job2 = evaluate(dataset_name=dataset_name, dataset=df, model=job.get_model_blob())"
   ]
  },
  {
   "cell_type": "code",
   "execution_count": 63,
   "id": "alien-appeal",
   "metadata": {},
   "outputs": [
    {
     "data": {
      "text/html": [
       "<table><tr>\n",
       "                                                        <td width=\"50%\" style=\"text-align:center;\"><b>stderr</b></td>\n",
       "                                                        <td width=\"50%\" style=\"text-align:center;\"><b>output</b></td>\n",
       "                                                        </tr>\n",
       "                                                        <tr>\n",
       "                                                        <td width=\"50%\" style=\"text-align:left;\"><pre> /home/valeriy/Documents/workspace/valeriy42/ml-cpp/build/distribution/platform/linux-x86_64/bin/data_frame_analyzer --input /tmp/tmpvruy7bwv --config /tmp/tmp6dp99efg --output /tmp/tmpiogmubez --restore /tmp/tmpigy9utwl\n",
       "(env) ✔ ~/Documents/workspace/valeriy42/ml-cpp/jupyter/notebooks [feature/incremental-learning L|✚ 1…26⚑ 3]\n",
       "11:46 $  /home/valeriy/Documents/workspace/valeriy42/ml-cpp/build/distribution/platform/linux-x86_64/bin/data_frame_analyzer --input /tmp/tmpvruy7bwv --config /tmp/tmp6dp99efg --output /tmp/tmpiogmubez --restore /tmp/tmpigy9utwl\n",
       "2021-03-05 10:46:00,097666 UTC [31065] DEBUG Main.cc@141 data_frame_analyzer (64 bit): Version 8.0.0-SNAPSHOT (Build 93946a5deec802) Copyright (c) 2021 Elasticsearch BV\n",
       "2021-03-05 10:46:00,097722 UTC [31065] DEBUG CProcessPriority_Linux.cc@33 Successfully increased OOM killer adjustment via /proc/self/oom_score_adj\n",
       "2021-03-05 10:46:00,097735 UTC [31065] DEBUG CSystemCallFilter_Linux.cc@127 Seccomp BPF filters available\n",
       "2021-03-05 10:46:00,099623 UTC [31065] DEBUG CSystemCallFilter_Linux.cc@153 Seccomp BPF installed\n",
       "2021-03-05 10:46:00,102398 UTC [31065] DEBUG CDataFrameAnalyzer.cc@104 Received 3000 rows\n",
       "2021-03-05 10:46:00,247688 UTC [31065] DEBUG CStateDecompressor.cc@168 Explicit end-of-stream marker found in document with index 1\n",
       "2021-03-05 10:46:00,802377 UTC [31065] INFO  CBoostedTreeImpl.cc@237 Exiting hyperparameter optimisation loop early\n",
       "2021-03-05 10:46:01,250778 UTC [31065] INFO  Main.cc@241 [{\"name\":\"E_DFTPMEstimatedPeakMemoryUsage\",\"description\":\"The upfront estimate of the peak memory training the predictive model would use\",\"value\":23058065}\n",
       ",{\"name\":\"E_DFTPMPeakMemoryUsage\",\"description\":\"The peak memory training the predictive model used\",\"value\":4461347}\n",
       ",{\"name\":\"E_DFTPMTimeToTrain\",\"description\":\"The time it took to train the predictive model\",\"value\":732}\n",
       ",{\"name\":\"E_DFTPMTrainedForestNumberTrees\",\"description\":\"The total number of trees in the trained forest\",\"value\":99}\n",
       "]\n",
       "2021-03-05 10:46:01,250820 UTC [31065] DEBUG Main.cc@246 ML data frame analyzer exiting\n",
       "(env) ✔ ~/Documents/workspace/valeriy42/ml-cpp/jupyter/notebooks [feature/incremental-learning L|✚ 1…26⚑ 3]\n",
       "11:46 $</pre></td>\n",
       "                                                        <td width=\"50%\" style=\"text-align:left;\"><pre>,{\"row_results\":{\"checksum\":0,\"results\":{\"ml\":{\"PE_prediction\":463.6281127929687\n",
       ",{\"row_results\":{\"checksum\":0,\"results\":{\"ml\":{\"PE_prediction\":427.6612854003906\n",
       ",{\"row_results\":{\"checksum\":0,\"results\":{\"ml\":{\"PE_prediction\":472.4757080078125\n",
       ",{\"row_results\":{\"checksum\":0,\"results\":{\"ml\":{\"PE_prediction\":436.4240417480469\n",
       ",{\"row_results\":{\"checksum\":0,\"results\":{\"ml\":{\"PE_prediction\":481.1231689453125\n",
       ",{\"row_results\":{\"checksum\":0,\"results\":{\"ml\":{\"PE_prediction\":440.9913635253906\n",
       ",{\"row_results\":{\"checksum\":0,\"results\":{\"ml\":{\"PE_prediction\":465.4188232421875\n",
       ",{\"row_results\":{\"checksum\":0,\"results\":{\"ml\":{\"PE_prediction\":464.6852722167969\n",
       ",{\"model_metadata\":{\"total_feature_importance\":[],\"hyperparameters\":[{\"name\":\"do\n",
       "]</pre></td>\n",
       "                                                        </tr>\n",
       "                                                </table>"
      ]
     },
     "metadata": {},
     "output_type": "display_data"
    },
    {
     "name": "stdout",
     "output_type": "stream",
     "text": [
      "Getting model from False None\n",
      "Job succeeded\n"
     ]
    }
   ],
   "source": [
    "job2.wait_job_complete()"
   ]
  },
  {
   "cell_type": "code",
   "execution_count": 64,
   "id": "complimentary-skirt",
   "metadata": {},
   "outputs": [
    {
     "data": {
      "text/plain": [
       "array([453.86029053, 432.58724976, 467.00082397, ..., 440.99136353,\n",
       "       465.41882324, 464.68527222])"
      ]
     },
     "execution_count": 64,
     "metadata": {},
     "output_type": "execute_result"
    }
   ],
   "source": [
    "job2.get_predictions()"
   ]
  },
  {
   "cell_type": "code",
   "execution_count": 65,
   "id": "prostate-guinea",
   "metadata": {},
   "outputs": [
    {
     "data": {
      "text/plain": [
       "array([453.86029053, 432.58724976, 467.00082397, ..., 440.99136353,\n",
       "       465.41882324, 464.68527222])"
      ]
     },
     "execution_count": 65,
     "metadata": {},
     "output_type": "execute_result"
    }
   ],
   "source": [
    "job.get_predictions()"
   ]
  },
  {
   "cell_type": "markdown",
   "id": "presidential-sport",
   "metadata": {},
   "source": [
    "## 1. 2D projection and clustering\n",
    "\n",
    "Let's project the data in 2-d using manifold learning and color data points in the same color if they belong to the same leaf."
   ]
  },
  {
   "cell_type": "code",
   "execution_count": 9,
   "id": "promotional-taylor",
   "metadata": {},
   "outputs": [
    {
     "name": "stdout",
     "output_type": "stream",
     "text": [
      "session: job_vprsn\tcommand:\n",
      "/home/valeriy/Documents/workspace/valeriy42/ml-cpp/build/distribution/platform/linux-x86_64/bin/data_frame_analyzer --input datasets/regression_house_16h.csv --config configs/regression_house_16h.json --output /tmp/tmp3euwjdrc --persist model1.json\n"
     ]
    }
   ],
   "source": [
    "job = run_job(input=\"datasets/{}.csv\".format(dataset_name), \n",
    "              config=\"configs/{}.json\".format(dataset_name),\n",
    "              persist=\"model1.json\")"
   ]
  },
  {
   "cell_type": "code",
   "execution_count": 13,
   "id": "motivated-medium",
   "metadata": {
    "scrolled": false
   },
   "outputs": [
    {
     "data": {
      "text/html": [
       "<table><tr>\n",
       "                                                    <td width=\"50%\" style=\"text-align:center;\"><b>stderr</b></td>\n",
       "                                                    <td width=\"50%\" style=\"text-align:center;\"><b>output</b></td>\n",
       "                                                    </tr>\n",
       "                                                    <tr>\n",
       "                                                    <td width=\"50%\" style=\"text-align:left;\"><pre> /home/valeriy/Documents/workspace/valeriy42/ml-cpp/build/distribution/platform/linux-x86_64/bin/data_frame_analyzer --input datasets/regression_house_16h.csv --config configs/regression_house_16h.json --output /tmp/tmp3euwjdrc --persist model1.json\n",
       "(env) ✔ ~/Documents/workspace/valeriy42/ml-cpp/jupyter/notebooks [feature/incremental-learning L|✚ 1…26⚑ 3]\n",
       "16:43 $  /home/valeriy/Documents/workspace/valeriy42/ml-cpp/build/distribution/platform/linux-x86_64/bin/data_frame_analyzer --input datasets/regression_house_16h.csv --config configs/regression_house_16h.json --output /tmp/tmp3euwjdrc --persist model1.json\n",
       "2021-03-04 15:43:43,792544 UTC [16841] DEBUG Main.cc@141 data_frame_analyzer (64 bit): Version 8.0.0-SNAPSHOT (Build 93946a5deec802) Copyright (c) 2021 Elasticsearch BV\n",
       "2021-03-04 15:43:43,792589 UTC [16841] DEBUG CProcessPriority_Linux.cc@33 Successfully increased OOM killer adjustment via /proc/self/oom_score_adj\n",
       "2021-03-04 15:43:43,792600 UTC [16841] DEBUG CSystemCallFilter_Linux.cc@127 Seccomp BPF filters available\n",
       "2021-03-04 15:43:43,794439 UTC [16841] DEBUG CSystemCallFilter_Linux.cc@153 Seccomp BPF installed\n",
       "2021-03-04 15:43:43,853988 UTC [16841] DEBUG CDataFrameAnalyzer.cc@104 Received 22784 rows\n",
       "2021-03-04 15:45:41,231486 UTC [16841] INFO  CBoostedTreeImpl.cc@237 Exiting hyperparameter optimisation loop early\n",
       "2021-03-04 15:45:47,910571 UTC [16841] INFO  Main.cc@241 [{\"name\":\"E_DFTPMEstimatedPeakMemoryUsage\",\"description\":\"The upfront estimate of the peak memory training the predictive model would use\",\"value\":43431869}\n",
       ",{\"name\":\"E_DFTPMPeakMemoryUsage\",\"description\":\"The peak memory training the predictive model used\",\"value\":44912989}\n",
       ",{\"name\":\"E_DFTPMTimeToTrain\",\"description\":\"The time it took to train the predictive model\",\"value\":123613}\n",
       ",{\"name\":\"E_DFTPMTrainedForestNumberTrees\",\"description\":\"The total number of trees in the trained forest\",\"value\":309}\n",
       "]\n",
       "2021-03-04 15:45:47,910713 UTC [16841] DEBUG Main.cc@246 ML data frame analyzer exiting\n",
       "(env) ✔ ~/Documents/workspace/valeriy42/ml-cpp/jupyter/notebooks [feature/incremental-learning L|✚ 1…26⚑ 3]\n",
       "16:45 $</pre></td>\n",
       "                                                    <td width=\"50%\" style=\"text-align:left;\"><pre>,{\"row_results\":{\"checksum\":0,\"results\":{\"ml\":{\"price_prediction\":28903.859375,\"\n",
       ",{\"row_results\":{\"checksum\":0,\"results\":{\"ml\":{\"price_prediction\":13974.18261718\n",
       ",{\"row_results\":{\"checksum\":0,\"results\":{\"ml\":{\"price_prediction\":54561.7109375,\n",
       ",{\"row_results\":{\"checksum\":0,\"results\":{\"ml\":{\"price_prediction\":40849.4453125,\n",
       ",{\"row_results\":{\"checksum\":0,\"results\":{\"ml\":{\"price_prediction\":25552.37695312\n",
       ",{\"row_results\":{\"checksum\":0,\"results\":{\"ml\":{\"price_prediction\":31929.29882812\n",
       ",{\"row_results\":{\"checksum\":0,\"results\":{\"ml\":{\"price_prediction\":22945.05664062\n",
       ",{\"row_results\":{\"checksum\":0,\"results\":{\"ml\":{\"price_prediction\":66828.3046875,\n",
       ",{\"model_metadata\":{\"total_feature_importance\":[],\"hyperparameters\":[{\"name\":\"do\n",
       "]</pre></td>\n",
       "                                                    </tr>\n",
       "                                            </table>"
      ]
     },
     "metadata": {},
     "output_type": "display_data"
    }
   ],
   "source": [
    "results = wait_job_complete(job)"
   ]
  },
  {
   "cell_type": "code",
   "execution_count": 12,
   "id": "special-grounds",
   "metadata": {},
   "outputs": [
    {
     "name": "stdout",
     "output_type": "stream",
     "text": [
      "/bin/bash: warning: command substitution: ignored null byte in input\r\n"
     ]
    }
   ],
   "source": [
    "# keep only the last checkpoint with the final model\n",
    "!echo \"$(tail -n 3 model1.json)\" > model1.json"
   ]
  },
  {
   "cell_type": "code",
   "execution_count": 39,
   "id": "persistent-newport",
   "metadata": {},
   "outputs": [],
   "source": [
    "definition = get_model_definition(results)\n",
    "trained_models = definition['trained_model']['ensemble']['trained_models']\n",
    "forest = Forest(trained_models)"
   ]
  },
  {
   "cell_type": "code",
   "execution_count": 14,
   "id": "controversial-spank",
   "metadata": {},
   "outputs": [],
   "source": [
    "df = pd.read_csv(\"datasets/facebook_6000.csv\")"
   ]
  },
  {
   "cell_type": "code",
   "execution_count": 15,
   "id": "sensitive-kidney",
   "metadata": {},
   "outputs": [
    {
     "data": {
      "text/html": [
       "<div>\n",
       "<style scoped>\n",
       "    .dataframe tbody tr th:only-of-type {\n",
       "        vertical-align: middle;\n",
       "    }\n",
       "\n",
       "    .dataframe tbody tr th {\n",
       "        vertical-align: top;\n",
       "    }\n",
       "\n",
       "    .dataframe thead th {\n",
       "        text-align: right;\n",
       "    }\n",
       "</style>\n",
       "<table border=\"1\" class=\"dataframe\">\n",
       "  <thead>\n",
       "    <tr style=\"text-align: right;\">\n",
       "      <th></th>\n",
       "      <th>1</th>\n",
       "      <th>10</th>\n",
       "      <th>11</th>\n",
       "      <th>12</th>\n",
       "      <th>13</th>\n",
       "      <th>14</th>\n",
       "      <th>15</th>\n",
       "      <th>16</th>\n",
       "      <th>17</th>\n",
       "      <th>18</th>\n",
       "      <th>...</th>\n",
       "      <th>49</th>\n",
       "      <th>5</th>\n",
       "      <th>50</th>\n",
       "      <th>51</th>\n",
       "      <th>52</th>\n",
       "      <th>53</th>\n",
       "      <th>6</th>\n",
       "      <th>7</th>\n",
       "      <th>8</th>\n",
       "      <th>9</th>\n",
       "    </tr>\n",
       "  </thead>\n",
       "  <tbody>\n",
       "    <tr>\n",
       "      <th>0</th>\n",
       "      <td>8070687</td>\n",
       "      <td>0.0</td>\n",
       "      <td>1493.0</td>\n",
       "      <td>142.333333</td>\n",
       "      <td>26.0</td>\n",
       "      <td>257.893967</td>\n",
       "      <td>0.0</td>\n",
       "      <td>1534.0</td>\n",
       "      <td>140.101149</td>\n",
       "      <td>28.0</td>\n",
       "      <td>...</td>\n",
       "      <td>0</td>\n",
       "      <td>0.0</td>\n",
       "      <td>0</td>\n",
       "      <td>0</td>\n",
       "      <td>0</td>\n",
       "      <td>0</td>\n",
       "      <td>1678.0</td>\n",
       "      <td>399.324138</td>\n",
       "      <td>261.0</td>\n",
       "      <td>363.995659</td>\n",
       "    </tr>\n",
       "    <tr>\n",
       "      <th>1</th>\n",
       "      <td>115669</td>\n",
       "      <td>0.0</td>\n",
       "      <td>25.0</td>\n",
       "      <td>0.644231</td>\n",
       "      <td>0.0</td>\n",
       "      <td>2.162002</td>\n",
       "      <td>0.0</td>\n",
       "      <td>25.0</td>\n",
       "      <td>0.557692</td>\n",
       "      <td>0.0</td>\n",
       "      <td>...</td>\n",
       "      <td>0</td>\n",
       "      <td>0.0</td>\n",
       "      <td>0</td>\n",
       "      <td>0</td>\n",
       "      <td>0</td>\n",
       "      <td>0</td>\n",
       "      <td>28.0</td>\n",
       "      <td>1.692308</td>\n",
       "      <td>0.0</td>\n",
       "      <td>3.797967</td>\n",
       "    </tr>\n",
       "    <tr>\n",
       "      <th>2</th>\n",
       "      <td>1422427</td>\n",
       "      <td>0.0</td>\n",
       "      <td>174.0</td>\n",
       "      <td>11.682192</td>\n",
       "      <td>3.0</td>\n",
       "      <td>21.630593</td>\n",
       "      <td>0.0</td>\n",
       "      <td>204.0</td>\n",
       "      <td>12.509589</td>\n",
       "      <td>2.0</td>\n",
       "      <td>...</td>\n",
       "      <td>0</td>\n",
       "      <td>0.0</td>\n",
       "      <td>0</td>\n",
       "      <td>0</td>\n",
       "      <td>1</td>\n",
       "      <td>0</td>\n",
       "      <td>214.0</td>\n",
       "      <td>34.494521</td>\n",
       "      <td>19.0</td>\n",
       "      <td>41.042118</td>\n",
       "    </tr>\n",
       "    <tr>\n",
       "      <th>3</th>\n",
       "      <td>32590</td>\n",
       "      <td>0.0</td>\n",
       "      <td>29.0</td>\n",
       "      <td>1.312500</td>\n",
       "      <td>1.0</td>\n",
       "      <td>2.973187</td>\n",
       "      <td>0.0</td>\n",
       "      <td>23.0</td>\n",
       "      <td>1.257812</td>\n",
       "      <td>0.0</td>\n",
       "      <td>...</td>\n",
       "      <td>0</td>\n",
       "      <td>0.0</td>\n",
       "      <td>0</td>\n",
       "      <td>0</td>\n",
       "      <td>0</td>\n",
       "      <td>0</td>\n",
       "      <td>40.0</td>\n",
       "      <td>3.281250</td>\n",
       "      <td>2.0</td>\n",
       "      <td>5.415455</td>\n",
       "    </tr>\n",
       "    <tr>\n",
       "      <th>4</th>\n",
       "      <td>209071</td>\n",
       "      <td>0.0</td>\n",
       "      <td>54.0</td>\n",
       "      <td>1.206294</td>\n",
       "      <td>0.0</td>\n",
       "      <td>4.560713</td>\n",
       "      <td>0.0</td>\n",
       "      <td>73.0</td>\n",
       "      <td>1.209790</td>\n",
       "      <td>0.0</td>\n",
       "      <td>...</td>\n",
       "      <td>0</td>\n",
       "      <td>0.0</td>\n",
       "      <td>1</td>\n",
       "      <td>0</td>\n",
       "      <td>0</td>\n",
       "      <td>0</td>\n",
       "      <td>163.0</td>\n",
       "      <td>3.461538</td>\n",
       "      <td>1.0</td>\n",
       "      <td>11.291602</td>\n",
       "    </tr>\n",
       "    <tr>\n",
       "      <th>...</th>\n",
       "      <td>...</td>\n",
       "      <td>...</td>\n",
       "      <td>...</td>\n",
       "      <td>...</td>\n",
       "      <td>...</td>\n",
       "      <td>...</td>\n",
       "      <td>...</td>\n",
       "      <td>...</td>\n",
       "      <td>...</td>\n",
       "      <td>...</td>\n",
       "      <td>...</td>\n",
       "      <td>...</td>\n",
       "      <td>...</td>\n",
       "      <td>...</td>\n",
       "      <td>...</td>\n",
       "      <td>...</td>\n",
       "      <td>...</td>\n",
       "      <td>...</td>\n",
       "      <td>...</td>\n",
       "      <td>...</td>\n",
       "      <td>...</td>\n",
       "    </tr>\n",
       "    <tr>\n",
       "      <th>5995</th>\n",
       "      <td>1204214</td>\n",
       "      <td>0.0</td>\n",
       "      <td>98.0</td>\n",
       "      <td>2.022447</td>\n",
       "      <td>0.0</td>\n",
       "      <td>6.093321</td>\n",
       "      <td>0.0</td>\n",
       "      <td>96.0</td>\n",
       "      <td>2.021324</td>\n",
       "      <td>0.0</td>\n",
       "      <td>...</td>\n",
       "      <td>1</td>\n",
       "      <td>0.0</td>\n",
       "      <td>0</td>\n",
       "      <td>0</td>\n",
       "      <td>0</td>\n",
       "      <td>0</td>\n",
       "      <td>105.0</td>\n",
       "      <td>5.699214</td>\n",
       "      <td>3.0</td>\n",
       "      <td>10.894731</td>\n",
       "    </tr>\n",
       "    <tr>\n",
       "      <th>5996</th>\n",
       "      <td>5365996</td>\n",
       "      <td>0.0</td>\n",
       "      <td>651.0</td>\n",
       "      <td>24.579556</td>\n",
       "      <td>6.0</td>\n",
       "      <td>54.075242</td>\n",
       "      <td>0.0</td>\n",
       "      <td>646.0</td>\n",
       "      <td>23.405014</td>\n",
       "      <td>3.0</td>\n",
       "      <td>...</td>\n",
       "      <td>1</td>\n",
       "      <td>0.0</td>\n",
       "      <td>0</td>\n",
       "      <td>0</td>\n",
       "      <td>0</td>\n",
       "      <td>0</td>\n",
       "      <td>755.0</td>\n",
       "      <td>64.947927</td>\n",
       "      <td>35.0</td>\n",
       "      <td>95.153508</td>\n",
       "    </tr>\n",
       "    <tr>\n",
       "      <th>5997</th>\n",
       "      <td>5103</td>\n",
       "      <td>0.0</td>\n",
       "      <td>3.0</td>\n",
       "      <td>0.177215</td>\n",
       "      <td>0.0</td>\n",
       "      <td>0.557106</td>\n",
       "      <td>0.0</td>\n",
       "      <td>3.0</td>\n",
       "      <td>0.196203</td>\n",
       "      <td>0.0</td>\n",
       "      <td>...</td>\n",
       "      <td>0</td>\n",
       "      <td>0.0</td>\n",
       "      <td>1</td>\n",
       "      <td>0</td>\n",
       "      <td>0</td>\n",
       "      <td>0</td>\n",
       "      <td>5.0</td>\n",
       "      <td>0.449367</td>\n",
       "      <td>0.0</td>\n",
       "      <td>1.070594</td>\n",
       "    </tr>\n",
       "    <tr>\n",
       "      <th>5998</th>\n",
       "      <td>11384</td>\n",
       "      <td>0.0</td>\n",
       "      <td>56.0</td>\n",
       "      <td>5.672209</td>\n",
       "      <td>3.0</td>\n",
       "      <td>7.468821</td>\n",
       "      <td>0.0</td>\n",
       "      <td>50.0</td>\n",
       "      <td>5.003563</td>\n",
       "      <td>2.0</td>\n",
       "      <td>...</td>\n",
       "      <td>0</td>\n",
       "      <td>0.0</td>\n",
       "      <td>0</td>\n",
       "      <td>1</td>\n",
       "      <td>0</td>\n",
       "      <td>0</td>\n",
       "      <td>58.0</td>\n",
       "      <td>15.112827</td>\n",
       "      <td>13.5</td>\n",
       "      <td>9.520716</td>\n",
       "    </tr>\n",
       "    <tr>\n",
       "      <th>5999</th>\n",
       "      <td>570</td>\n",
       "      <td>0.0</td>\n",
       "      <td>15.0</td>\n",
       "      <td>4.834711</td>\n",
       "      <td>4.0</td>\n",
       "      <td>4.033634</td>\n",
       "      <td>0.0</td>\n",
       "      <td>28.0</td>\n",
       "      <td>4.884298</td>\n",
       "      <td>4.0</td>\n",
       "      <td>...</td>\n",
       "      <td>0</td>\n",
       "      <td>0.0</td>\n",
       "      <td>1</td>\n",
       "      <td>0</td>\n",
       "      <td>0</td>\n",
       "      <td>0</td>\n",
       "      <td>35.0</td>\n",
       "      <td>12.404959</td>\n",
       "      <td>11.0</td>\n",
       "      <td>7.408481</td>\n",
       "    </tr>\n",
       "  </tbody>\n",
       "</table>\n",
       "<p>6000 rows × 53 columns</p>\n",
       "</div>"
      ],
      "text/plain": [
       "            1   10      11          12    13          14   15      16  \\\n",
       "0     8070687  0.0  1493.0  142.333333  26.0  257.893967  0.0  1534.0   \n",
       "1      115669  0.0    25.0    0.644231   0.0    2.162002  0.0    25.0   \n",
       "2     1422427  0.0   174.0   11.682192   3.0   21.630593  0.0   204.0   \n",
       "3       32590  0.0    29.0    1.312500   1.0    2.973187  0.0    23.0   \n",
       "4      209071  0.0    54.0    1.206294   0.0    4.560713  0.0    73.0   \n",
       "...       ...  ...     ...         ...   ...         ...  ...     ...   \n",
       "5995  1204214  0.0    98.0    2.022447   0.0    6.093321  0.0    96.0   \n",
       "5996  5365996  0.0   651.0   24.579556   6.0   54.075242  0.0   646.0   \n",
       "5997     5103  0.0     3.0    0.177215   0.0    0.557106  0.0     3.0   \n",
       "5998    11384  0.0    56.0    5.672209   3.0    7.468821  0.0    50.0   \n",
       "5999      570  0.0    15.0    4.834711   4.0    4.033634  0.0    28.0   \n",
       "\n",
       "              17    18  ...  49    5  50  51  52  53       6           7  \\\n",
       "0     140.101149  28.0  ...   0  0.0   0   0   0   0  1678.0  399.324138   \n",
       "1       0.557692   0.0  ...   0  0.0   0   0   0   0    28.0    1.692308   \n",
       "2      12.509589   2.0  ...   0  0.0   0   0   1   0   214.0   34.494521   \n",
       "3       1.257812   0.0  ...   0  0.0   0   0   0   0    40.0    3.281250   \n",
       "4       1.209790   0.0  ...   0  0.0   1   0   0   0   163.0    3.461538   \n",
       "...          ...   ...  ...  ..  ...  ..  ..  ..  ..     ...         ...   \n",
       "5995    2.021324   0.0  ...   1  0.0   0   0   0   0   105.0    5.699214   \n",
       "5996   23.405014   3.0  ...   1  0.0   0   0   0   0   755.0   64.947927   \n",
       "5997    0.196203   0.0  ...   0  0.0   1   0   0   0     5.0    0.449367   \n",
       "5998    5.003563   2.0  ...   0  0.0   0   1   0   0    58.0   15.112827   \n",
       "5999    4.884298   4.0  ...   0  0.0   1   0   0   0    35.0   12.404959   \n",
       "\n",
       "          8           9  \n",
       "0     261.0  363.995659  \n",
       "1       0.0    3.797967  \n",
       "2      19.0   41.042118  \n",
       "3       2.0    5.415455  \n",
       "4       1.0   11.291602  \n",
       "...     ...         ...  \n",
       "5995    3.0   10.894731  \n",
       "5996   35.0   95.153508  \n",
       "5997    0.0    1.070594  \n",
       "5998   13.5    9.520716  \n",
       "5999   11.0    7.408481  \n",
       "\n",
       "[6000 rows x 53 columns]"
      ]
     },
     "execution_count": 15,
     "metadata": {},
     "output_type": "execute_result"
    }
   ],
   "source": [
    "df.drop(columns=['54'])"
   ]
  },
  {
   "cell_type": "code",
   "execution_count": 52,
   "id": "ambient-reputation",
   "metadata": {},
   "outputs": [
    {
     "data": {
      "text/plain": [
       "'31'"
      ]
     },
     "execution_count": 52,
     "metadata": {},
     "output_type": "execute_result"
    }
   ],
   "source": [
    "forest.trees[1].nodes[0].split_feature"
   ]
  },
  {
   "cell_type": "code",
   "execution_count": 16,
   "id": "running-harrison",
   "metadata": {},
   "outputs": [
    {
     "data": {
      "text/plain": [
       "14"
      ]
     },
     "execution_count": 16,
     "metadata": {},
     "output_type": "execute_result"
    }
   ],
   "source": [
    "forest.trees[1].get_leaf_id(df.loc[1])"
   ]
  },
  {
   "cell_type": "code",
   "execution_count": 18,
   "id": "peripheral-sponsorship",
   "metadata": {},
   "outputs": [
    {
     "data": {
      "text/plain": [
       "10"
      ]
     },
     "execution_count": 18,
     "metadata": {},
     "output_type": "execute_result"
    }
   ],
   "source": [
    "forest.trees[1].get_leaf_id(df.loc[2])"
   ]
  },
  {
   "cell_type": "code",
   "execution_count": 32,
   "id": "paperback-norman",
   "metadata": {},
   "outputs": [
    {
     "name": "stdout",
     "output_type": "stream",
     "text": [
      "[0, 1, 8, 10]\n",
      "[0, 1, 7, 14]\n",
      "[ 8 10]\n"
     ]
    },
    {
     "data": {
      "text/plain": [
       "4"
      ]
     },
     "execution_count": 32,
     "metadata": {},
     "output_type": "execute_result"
    }
   ],
   "source": [
    "forest.trees[1].get_tree_distance(df.loc[20], df.loc[6])"
   ]
  },
  {
   "cell_type": "code",
   "execution_count": 66,
   "id": "apparent-destiny",
   "metadata": {},
   "outputs": [],
   "source": [
    "from sklearn.manifold import Isomap, LocallyLinearEmbedding, SpectralEmbedding, MDS\n",
    "from sklearn.preprocessing import MinMaxScaler, LabelEncoder, StandardScaler"
   ]
  },
  {
   "cell_type": "code",
   "execution_count": 68,
   "id": "strategic-european",
   "metadata": {},
   "outputs": [],
   "source": [
    "# scaler = MinMaxScaler()\n",
    "scaler = StandardScaler()\n",
    "X_normalized = scaler.fit_transform(df)"
   ]
  },
  {
   "cell_type": "code",
   "execution_count": 67,
   "id": "contemporary-melbourne",
   "metadata": {},
   "outputs": [],
   "source": [
    "embedding = Isomap(n_components=2)"
   ]
  },
  {
   "cell_type": "code",
   "execution_count": 111,
   "id": "greenhouse-accordance",
   "metadata": {},
   "outputs": [],
   "source": [
    "embedding = LocallyLinearEmbedding(n_components=2)"
   ]
  },
  {
   "cell_type": "code",
   "execution_count": 118,
   "id": "fifty-construction",
   "metadata": {},
   "outputs": [],
   "source": [
    "embedding = SpectralEmbedding(n_components=2)"
   ]
  },
  {
   "cell_type": "code",
   "execution_count": 121,
   "id": "convinced-subcommittee",
   "metadata": {},
   "outputs": [],
   "source": [
    "embedding = MDS(n_components=2)"
   ]
  },
  {
   "cell_type": "code",
   "execution_count": 69,
   "id": "automotive-roommate",
   "metadata": {},
   "outputs": [],
   "source": [
    "X_transformed = embedding.fit_transform(X_normalized)"
   ]
  },
  {
   "cell_type": "code",
   "execution_count": 70,
   "id": "tribal-walker",
   "metadata": {},
   "outputs": [
    {
     "data": {
      "text/plain": [
       "<AxesSubplot:>"
      ]
     },
     "execution_count": 70,
     "metadata": {},
     "output_type": "execute_result"
    },
    {
     "data": {
      "image/png": "[encoded data removed]",
      "text/plain": [
       "<Figure size 432x288 with 1 Axes>"
      ]
     },
     "metadata": {
      "needs_background": "light"
     },
     "output_type": "display_data"
    }
   ],
   "source": [
    "tree = forest.trees[3]\n",
    "cmap = sns.color_palette('husl', tree.number_leaves)\n",
    "colors = [tree.get_leaf_id(df.loc[i]) for i in range(X_transformed.shape[0])]\n",
    "sns.scatterplot(x = X_transformed[:,0], y = X_transformed[:,1], \n",
    "                hue=colors, legend='full', palette=cmap)"
   ]
  },
  {
   "cell_type": "code",
   "execution_count": 64,
   "id": "brilliant-lawrence",
   "metadata": {},
   "outputs": [
    {
     "data": {
      "image/svg+xml": [
       "<?xml version=\"1.0\" encoding=\"UTF-8\" standalone=\"no\"?>\n",
       "<!DOCTYPE svg PUBLIC \"-//W3C//DTD SVG 1.1//EN\"\n",
       " \"http://www.w3.org/Graphics/SVG/1.1/DTD/svg11.dtd\">\n",
       "<!-- Generated by graphviz version 2.40.1 (20161225.0304)\n",
       " -->\n",
       "<!-- Title: %3 Pages: 1 -->\n",
       "<svg width=\"720pt\" height=\"212pt\"\n",
       " viewBox=\"0.00 0.00 720.00 212.07\" xmlns=\"http://www.w3.org/2000/svg\" xmlns:xlink=\"http://www.w3.org/1999/xlink\">\n",
       "<g id=\"graph0\" class=\"graph\" transform=\"scale(.606 .606) rotate(0) translate(4 345.9533)\">\n",
       "<title>%3</title>\n",
       "<polygon fill=\"#ffffff\" stroke=\"transparent\" points=\"-4,4 -4,-345.9533 1184.1076,-345.9533 1184.1076,4 -4,4\"/>\n",
       "<!-- 0 -->\n",
       "<g id=\"node1\" class=\"node\">\n",
       "<title>0</title>\n",
       "<polygon fill=\"none\" stroke=\"#000000\" points=\"636.0538,-341.9533 540.0538,-341.9533 540.0538,-288.9533 636.0538,-288.9533 636.0538,-341.9533\"/>\n",
       "<text text-anchor=\"middle\" x=\"588.0538\" y=\"-326.7533\" font-family=\"Times,serif\" font-size=\"14.00\" fill=\"#000000\">id=0</text>\n",
       "<text text-anchor=\"middle\" x=\"588.0538\" y=\"-311.7533\" font-family=\"Times,serif\" font-size=\"14.00\" fill=\"#000000\">samples=6000</text>\n",
       "<text text-anchor=\"middle\" x=\"588.0538\" y=\"-296.7533\" font-family=\"Times,serif\" font-size=\"14.00\" fill=\"#000000\">31&lt;127.5000</text>\n",
       "</g>\n",
       "<!-- 1 -->\n",
       "<g id=\"node2\" class=\"node\">\n",
       "<title>1</title>\n",
       "<polygon fill=\"none\" stroke=\"#000000\" points=\"487.0538,-252.9533 391.0538,-252.9533 391.0538,-199.9533 487.0538,-199.9533 487.0538,-252.9533\"/>\n",
       "<text text-anchor=\"middle\" x=\"439.0538\" y=\"-237.7533\" font-family=\"Times,serif\" font-size=\"14.00\" fill=\"#000000\">id=1</text>\n",
       "<text text-anchor=\"middle\" x=\"439.0538\" y=\"-222.7533\" font-family=\"Times,serif\" font-size=\"14.00\" fill=\"#000000\">samples=5766</text>\n",
       "<text text-anchor=\"middle\" x=\"439.0538\" y=\"-207.7533\" font-family=\"Times,serif\" font-size=\"14.00\" fill=\"#000000\">35&lt;5.5000</text>\n",
       "</g>\n",
       "<!-- 0&#45;&gt;1 -->\n",
       "<g id=\"edge1\" class=\"edge\">\n",
       "<title>0&#45;&gt;1</title>\n",
       "<path fill=\"none\" stroke=\"#000000\" d=\"M543.3489,-288.7504C527.2167,-279.1144 508.8529,-268.1454 492.0776,-258.1253\"/>\n",
       "<polygon fill=\"#000000\" stroke=\"#000000\" points=\"493.8502,-255.1072 483.4703,-252.9839 490.2605,-261.1168 493.8502,-255.1072\"/>\n",
       "</g>\n",
       "<!-- 2 -->\n",
       "<g id=\"node3\" class=\"node\">\n",
       "<title>2</title>\n",
       "<polygon fill=\"none\" stroke=\"#000000\" points=\"783.5538,-252.9533 694.5538,-252.9533 694.5538,-199.9533 783.5538,-199.9533 783.5538,-252.9533\"/>\n",
       "<text text-anchor=\"middle\" x=\"739.0538\" y=\"-237.7533\" font-family=\"Times,serif\" font-size=\"14.00\" fill=\"#000000\">id=2</text>\n",
       "<text text-anchor=\"middle\" x=\"739.0538\" y=\"-222.7533\" font-family=\"Times,serif\" font-size=\"14.00\" fill=\"#000000\">samples=234</text>\n",
       "<text text-anchor=\"middle\" x=\"739.0538\" y=\"-207.7533\" font-family=\"Times,serif\" font-size=\"14.00\" fill=\"#000000\">35&lt;4.5000</text>\n",
       "</g>\n",
       "<!-- 0&#45;&gt;2 -->\n",
       "<g id=\"edge2\" class=\"edge\">\n",
       "<title>0&#45;&gt;2</title>\n",
       "<path fill=\"none\" stroke=\"#000000\" d=\"M633.3588,-288.7504C649.7815,-279.0708 668.4863,-268.0461 685.549,-257.9893\"/>\n",
       "<polygon fill=\"#000000\" stroke=\"#000000\" points=\"687.4634,-260.9237 694.3012,-252.8307 683.909,-254.8932 687.4634,-260.9237\"/>\n",
       "</g>\n",
       "<!-- 9 -->\n",
       "<g id=\"node10\" class=\"node\">\n",
       "<title>9</title>\n",
       "<polygon fill=\"none\" stroke=\"#000000\" points=\"257.5538,-163.9533 168.5538,-163.9533 168.5538,-110.9533 257.5538,-110.9533 257.5538,-163.9533\"/>\n",
       "<text text-anchor=\"middle\" x=\"213.0538\" y=\"-148.7533\" font-family=\"Times,serif\" font-size=\"14.00\" fill=\"#000000\">id=9</text>\n",
       "<text text-anchor=\"middle\" x=\"213.0538\" y=\"-133.7533\" font-family=\"Times,serif\" font-size=\"14.00\" fill=\"#000000\">samples=469</text>\n",
       "<text text-anchor=\"middle\" x=\"213.0538\" y=\"-118.7533\" font-family=\"Times,serif\" font-size=\"14.00\" fill=\"#000000\">14&lt;35.2529</text>\n",
       "</g>\n",
       "<!-- 1&#45;&gt;9 -->\n",
       "<g id=\"edge3\" class=\"edge\">\n",
       "<title>1&#45;&gt;9</title>\n",
       "<path fill=\"none\" stroke=\"#000000\" d=\"M390.8484,-207.4697C354.6718,-193.2232 305.1129,-173.7067 267.5067,-158.8971\"/>\n",
       "<polygon fill=\"#000000\" stroke=\"#000000\" points=\"268.3165,-155.4545 257.7295,-155.0468 265.7515,-161.9676 268.3165,-155.4545\"/>\n",
       "</g>\n",
       "<!-- 10 -->\n",
       "<g id=\"node11\" class=\"node\">\n",
       "<title>10</title>\n",
       "<polygon fill=\"none\" stroke=\"#000000\" points=\"487.0538,-163.9533 391.0538,-163.9533 391.0538,-110.9533 487.0538,-110.9533 487.0538,-163.9533\"/>\n",
       "<text text-anchor=\"middle\" x=\"439.0538\" y=\"-148.7533\" font-family=\"Times,serif\" font-size=\"14.00\" fill=\"#000000\">id=10</text>\n",
       "<text text-anchor=\"middle\" x=\"439.0538\" y=\"-133.7533\" font-family=\"Times,serif\" font-size=\"14.00\" fill=\"#000000\">samples=5297</text>\n",
       "<text text-anchor=\"middle\" x=\"439.0538\" y=\"-118.7533\" font-family=\"Times,serif\" font-size=\"14.00\" fill=\"#000000\">31&lt;51.5000</text>\n",
       "</g>\n",
       "<!-- 1&#45;&gt;10 -->\n",
       "<g id=\"edge4\" class=\"edge\">\n",
       "<title>1&#45;&gt;10</title>\n",
       "<path fill=\"none\" stroke=\"#000000\" d=\"M439.0538,-199.7504C439.0538,-191.742 439.0538,-182.813 439.0538,-174.2731\"/>\n",
       "<polygon fill=\"#000000\" stroke=\"#000000\" points=\"442.5539,-174.1374 439.0538,-164.1374 435.5539,-174.1374 442.5539,-174.1374\"/>\n",
       "</g>\n",
       "<!-- 3 -->\n",
       "<g id=\"node4\" class=\"node\">\n",
       "<title>3</title>\n",
       "<polygon fill=\"none\" stroke=\"#000000\" points=\"783.5538,-163.9533 694.5538,-163.9533 694.5538,-110.9533 783.5538,-110.9533 783.5538,-163.9533\"/>\n",
       "<text text-anchor=\"middle\" x=\"739.0538\" y=\"-148.7533\" font-family=\"Times,serif\" font-size=\"14.00\" fill=\"#000000\">id=3</text>\n",
       "<text text-anchor=\"middle\" x=\"739.0538\" y=\"-133.7533\" font-family=\"Times,serif\" font-size=\"14.00\" fill=\"#000000\">samples=23</text>\n",
       "<text text-anchor=\"middle\" x=\"739.0538\" y=\"-118.7533\" font-family=\"Times,serif\" font-size=\"14.00\" fill=\"#000000\">6&lt;2132.5000</text>\n",
       "</g>\n",
       "<!-- 2&#45;&gt;3 -->\n",
       "<g id=\"edge5\" class=\"edge\">\n",
       "<title>2&#45;&gt;3</title>\n",
       "<path fill=\"none\" stroke=\"#000000\" d=\"M739.0538,-199.7504C739.0538,-191.742 739.0538,-182.813 739.0538,-174.2731\"/>\n",
       "<polygon fill=\"#000000\" stroke=\"#000000\" points=\"742.5539,-174.1374 739.0538,-164.1374 735.5539,-174.1374 742.5539,-174.1374\"/>\n",
       "</g>\n",
       "<!-- 4 -->\n",
       "<g id=\"node5\" class=\"node\">\n",
       "<title>4</title>\n",
       "<polygon fill=\"none\" stroke=\"#000000\" points=\"1011.5538,-163.9533 922.5538,-163.9533 922.5538,-110.9533 1011.5538,-110.9533 1011.5538,-163.9533\"/>\n",
       "<text text-anchor=\"middle\" x=\"967.0538\" y=\"-148.7533\" font-family=\"Times,serif\" font-size=\"14.00\" fill=\"#000000\">id=4</text>\n",
       "<text text-anchor=\"middle\" x=\"967.0538\" y=\"-133.7533\" font-family=\"Times,serif\" font-size=\"14.00\" fill=\"#000000\">samples=211</text>\n",
       "<text text-anchor=\"middle\" x=\"967.0538\" y=\"-118.7533\" font-family=\"Times,serif\" font-size=\"14.00\" fill=\"#000000\">31&lt;279.5000</text>\n",
       "</g>\n",
       "<!-- 2&#45;&gt;4 -->\n",
       "<g id=\"edge6\" class=\"edge\">\n",
       "<title>2&#45;&gt;4</title>\n",
       "<path fill=\"none\" stroke=\"#000000\" d=\"M783.5558,-209.0819C820.4719,-194.6717 873.1108,-174.1241 912.5501,-158.7289\"/>\n",
       "<polygon fill=\"#000000\" stroke=\"#000000\" points=\"914.2324,-161.8295 922.2751,-154.9327 911.6869,-155.3087 914.2324,-161.8295\"/>\n",
       "</g>\n",
       "<!-- 5 -->\n",
       "<g id=\"node6\" class=\"node\">\n",
       "<title>5</title>\n",
       "<ellipse fill=\"none\" stroke=\"#000000\" cx=\"663.0538\" cy=\"-37.4767\" rx=\"65.1077\" ry=\"37.4533\"/>\n",
       "<text text-anchor=\"middle\" x=\"663.0538\" y=\"-48.7767\" font-family=\"Times,serif\" font-size=\"14.00\" fill=\"#000000\">id=5</text>\n",
       "<text text-anchor=\"middle\" x=\"663.0538\" y=\"-33.7767\" font-family=\"Times,serif\" font-size=\"14.00\" fill=\"#000000\">samples=20</text>\n",
       "<text text-anchor=\"middle\" x=\"663.0538\" y=\"-18.7767\" font-family=\"Times,serif\" font-size=\"14.00\" fill=\"#000000\">value=4.6540</text>\n",
       "</g>\n",
       "<!-- 3&#45;&gt;5 -->\n",
       "<g id=\"edge7\" class=\"edge\">\n",
       "<title>3&#45;&gt;5</title>\n",
       "<path fill=\"none\" stroke=\"#000000\" d=\"M718.8868,-110.9239C711.7387,-101.5207 703.5019,-90.6854 695.5881,-80.2749\"/>\n",
       "<polygon fill=\"#000000\" stroke=\"#000000\" points=\"698.1757,-77.8953 689.3376,-72.0525 692.603,-82.1316 698.1757,-77.8953\"/>\n",
       "</g>\n",
       "<!-- 6 -->\n",
       "<g id=\"node7\" class=\"node\">\n",
       "<title>6</title>\n",
       "<ellipse fill=\"none\" stroke=\"#000000\" cx=\"815.0538\" cy=\"-37.4767\" rx=\"69.0935\" ry=\"37.4533\"/>\n",
       "<text text-anchor=\"middle\" x=\"815.0538\" y=\"-48.7767\" font-family=\"Times,serif\" font-size=\"14.00\" fill=\"#000000\">id=6</text>\n",
       "<text text-anchor=\"middle\" x=\"815.0538\" y=\"-33.7767\" font-family=\"Times,serif\" font-size=\"14.00\" fill=\"#000000\">samples=3</text>\n",
       "<text text-anchor=\"middle\" x=\"815.0538\" y=\"-18.7767\" font-family=\"Times,serif\" font-size=\"14.00\" fill=\"#000000\">value=15.8028</text>\n",
       "</g>\n",
       "<!-- 3&#45;&gt;6 -->\n",
       "<g id=\"edge8\" class=\"edge\">\n",
       "<title>3&#45;&gt;6</title>\n",
       "<path fill=\"none\" stroke=\"#000000\" d=\"M759.2209,-110.9239C766.2996,-101.612 774.4459,-90.8956 782.289,-80.5782\"/>\n",
       "<polygon fill=\"#000000\" stroke=\"#000000\" points=\"785.2223,-82.503 788.4877,-72.4239 779.6496,-78.2667 785.2223,-82.503\"/>\n",
       "</g>\n",
       "<!-- 7 -->\n",
       "<g id=\"node8\" class=\"node\">\n",
       "<title>7</title>\n",
       "<ellipse fill=\"none\" stroke=\"#000000\" cx=\"967.0538\" cy=\"-37.4767\" rx=\"65.1077\" ry=\"37.4533\"/>\n",
       "<text text-anchor=\"middle\" x=\"967.0538\" y=\"-48.7767\" font-family=\"Times,serif\" font-size=\"14.00\" fill=\"#000000\">id=7</text>\n",
       "<text text-anchor=\"middle\" x=\"967.0538\" y=\"-33.7767\" font-family=\"Times,serif\" font-size=\"14.00\" fill=\"#000000\">samples=129</text>\n",
       "<text text-anchor=\"middle\" x=\"967.0538\" y=\"-18.7767\" font-family=\"Times,serif\" font-size=\"14.00\" fill=\"#000000\">value=0.6957</text>\n",
       "</g>\n",
       "<!-- 4&#45;&gt;7 -->\n",
       "<g id=\"edge9\" class=\"edge\">\n",
       "<title>4&#45;&gt;7</title>\n",
       "<path fill=\"none\" stroke=\"#000000\" d=\"M967.0538,-110.9239C967.0538,-103.0239 967.0538,-94.113 967.0538,-85.2925\"/>\n",
       "<polygon fill=\"#000000\" stroke=\"#000000\" points=\"970.5539,-85.0454 967.0538,-75.0454 963.5539,-85.0455 970.5539,-85.0454\"/>\n",
       "</g>\n",
       "<!-- 8 -->\n",
       "<g id=\"node9\" class=\"node\">\n",
       "<title>8</title>\n",
       "<ellipse fill=\"none\" stroke=\"#000000\" cx=\"1115.0538\" cy=\"-37.4767\" rx=\"65.1077\" ry=\"37.4533\"/>\n",
       "<text text-anchor=\"middle\" x=\"1115.0538\" y=\"-48.7767\" font-family=\"Times,serif\" font-size=\"14.00\" fill=\"#000000\">id=8</text>\n",
       "<text text-anchor=\"middle\" x=\"1115.0538\" y=\"-33.7767\" font-family=\"Times,serif\" font-size=\"14.00\" fill=\"#000000\">samples=82</text>\n",
       "<text text-anchor=\"middle\" x=\"1115.0538\" y=\"-18.7767\" font-family=\"Times,serif\" font-size=\"14.00\" fill=\"#000000\">value=2.1717</text>\n",
       "</g>\n",
       "<!-- 4&#45;&gt;8 -->\n",
       "<g id=\"edge10\" class=\"edge\">\n",
       "<title>4&#45;&gt;8</title>\n",
       "<path fill=\"none\" stroke=\"#000000\" d=\"M1006.3265,-110.9239C1024.0753,-98.9343 1045.2711,-84.6162 1064.2148,-71.8193\"/>\n",
       "<polygon fill=\"#000000\" stroke=\"#000000\" points=\"1066.4124,-74.5586 1072.7397,-66.0606 1062.494,-68.758 1066.4124,-74.5586\"/>\n",
       "</g>\n",
       "<!-- 11 -->\n",
       "<g id=\"node12\" class=\"node\">\n",
       "<title>11</title>\n",
       "<ellipse fill=\"none\" stroke=\"#000000\" cx=\"65.0538\" cy=\"-37.4767\" rx=\"65.1077\" ry=\"37.4533\"/>\n",
       "<text text-anchor=\"middle\" x=\"65.0538\" y=\"-48.7767\" font-family=\"Times,serif\" font-size=\"14.00\" fill=\"#000000\">id=11</text>\n",
       "<text text-anchor=\"middle\" x=\"65.0538\" y=\"-33.7767\" font-family=\"Times,serif\" font-size=\"14.00\" fill=\"#000000\">samples=312</text>\n",
       "<text text-anchor=\"middle\" x=\"65.0538\" y=\"-18.7767\" font-family=\"Times,serif\" font-size=\"14.00\" fill=\"#000000\">value=0.0183</text>\n",
       "</g>\n",
       "<!-- 9&#45;&gt;11 -->\n",
       "<g id=\"edge11\" class=\"edge\">\n",
       "<title>9&#45;&gt;11</title>\n",
       "<path fill=\"none\" stroke=\"#000000\" d=\"M173.7811,-110.9239C156.0323,-98.9343 134.8366,-84.6162 115.8929,-71.8193\"/>\n",
       "<polygon fill=\"#000000\" stroke=\"#000000\" points=\"117.6137,-68.758 107.3679,-66.0606 113.6953,-74.5586 117.6137,-68.758\"/>\n",
       "</g>\n",
       "<!-- 12 -->\n",
       "<g id=\"node13\" class=\"node\">\n",
       "<title>12</title>\n",
       "<ellipse fill=\"none\" stroke=\"#000000\" cx=\"213.0538\" cy=\"-37.4767\" rx=\"65.1077\" ry=\"37.4533\"/>\n",
       "<text text-anchor=\"middle\" x=\"213.0538\" y=\"-48.7767\" font-family=\"Times,serif\" font-size=\"14.00\" fill=\"#000000\">id=12</text>\n",
       "<text text-anchor=\"middle\" x=\"213.0538\" y=\"-33.7767\" font-family=\"Times,serif\" font-size=\"14.00\" fill=\"#000000\">samples=157</text>\n",
       "<text text-anchor=\"middle\" x=\"213.0538\" y=\"-18.7767\" font-family=\"Times,serif\" font-size=\"14.00\" fill=\"#000000\">value=0.8490</text>\n",
       "</g>\n",
       "<!-- 9&#45;&gt;12 -->\n",
       "<g id=\"edge12\" class=\"edge\">\n",
       "<title>9&#45;&gt;12</title>\n",
       "<path fill=\"none\" stroke=\"#000000\" d=\"M213.0538,-110.9239C213.0538,-103.0239 213.0538,-94.113 213.0538,-85.2925\"/>\n",
       "<polygon fill=\"#000000\" stroke=\"#000000\" points=\"216.5539,-85.0454 213.0538,-75.0454 209.5539,-85.0455 216.5539,-85.0454\"/>\n",
       "</g>\n",
       "<!-- 13 -->\n",
       "<g id=\"node14\" class=\"node\">\n",
       "<title>13</title>\n",
       "<ellipse fill=\"none\" stroke=\"#000000\" cx=\"364.0538\" cy=\"-37.4767\" rx=\"67.7647\" ry=\"37.4533\"/>\n",
       "<text text-anchor=\"middle\" x=\"364.0538\" y=\"-48.7767\" font-family=\"Times,serif\" font-size=\"14.00\" fill=\"#000000\">id=13</text>\n",
       "<text text-anchor=\"middle\" x=\"364.0538\" y=\"-33.7767\" font-family=\"Times,serif\" font-size=\"14.00\" fill=\"#000000\">samples=5011</text>\n",
       "<text text-anchor=\"middle\" x=\"364.0538\" y=\"-18.7767\" font-family=\"Times,serif\" font-size=\"14.00\" fill=\"#000000\">value=&#45;0.1301</text>\n",
       "</g>\n",
       "<!-- 10&#45;&gt;13 -->\n",
       "<g id=\"edge13\" class=\"edge\">\n",
       "<title>10&#45;&gt;13</title>\n",
       "<path fill=\"none\" stroke=\"#000000\" d=\"M419.1521,-110.9239C412.1666,-101.612 404.1274,-90.8956 396.3876,-80.5782\"/>\n",
       "<polygon fill=\"#000000\" stroke=\"#000000\" points=\"399.0711,-78.3229 390.2704,-72.4239 393.4715,-82.5236 399.0711,-78.3229\"/>\n",
       "</g>\n",
       "<!-- 14 -->\n",
       "<g id=\"node15\" class=\"node\">\n",
       "<title>14</title>\n",
       "<ellipse fill=\"none\" stroke=\"#000000\" cx=\"515.0538\" cy=\"-37.4767\" rx=\"65.1077\" ry=\"37.4533\"/>\n",
       "<text text-anchor=\"middle\" x=\"515.0538\" y=\"-48.7767\" font-family=\"Times,serif\" font-size=\"14.00\" fill=\"#000000\">id=14</text>\n",
       "<text text-anchor=\"middle\" x=\"515.0538\" y=\"-33.7767\" font-family=\"Times,serif\" font-size=\"14.00\" fill=\"#000000\">samples=286</text>\n",
       "<text text-anchor=\"middle\" x=\"515.0538\" y=\"-18.7767\" font-family=\"Times,serif\" font-size=\"14.00\" fill=\"#000000\">value=0.2408</text>\n",
       "</g>\n",
       "<!-- 10&#45;&gt;14 -->\n",
       "<g id=\"edge14\" class=\"edge\">\n",
       "<title>10&#45;&gt;14</title>\n",
       "<path fill=\"none\" stroke=\"#000000\" d=\"M459.2209,-110.9239C466.369,-101.5207 474.6058,-90.6854 482.5196,-80.2749\"/>\n",
       "<polygon fill=\"#000000\" stroke=\"#000000\" points=\"485.5046,-82.1316 488.7701,-72.0525 479.932,-77.8953 485.5046,-82.1316\"/>\n",
       "</g>\n",
       "</g>\n",
       "</svg>\n"
      ],
      "text/plain": [
       "<graphviz.dot.Digraph at 0x7fe397105b00>"
      ]
     },
     "execution_count": 64,
     "metadata": {},
     "output_type": "execute_result"
    }
   ],
   "source": [
    "forest.show_tree(4)"
   ]
  },
  {
   "cell_type": "code",
   "execution_count": 65,
   "id": "attractive-immune",
   "metadata": {},
   "outputs": [
    {
     "data": {
      "image/svg+xml": [
       "<?xml version=\"1.0\" encoding=\"UTF-8\" standalone=\"no\"?>\n",
       "<!DOCTYPE svg PUBLIC \"-//W3C//DTD SVG 1.1//EN\"\n",
       " \"http://www.w3.org/Graphics/SVG/1.1/DTD/svg11.dtd\">\n",
       "<!-- Generated by graphviz version 2.40.1 (20161225.0304)\n",
       " -->\n",
       "<!-- Title: %3 Pages: 1 -->\n",
       "<svg width=\"720pt\" height=\"214pt\"\n",
       " viewBox=\"0.00 0.00 720.00 213.51\" xmlns=\"http://www.w3.org/2000/svg\" xmlns:xlink=\"http://www.w3.org/1999/xlink\">\n",
       "<g id=\"graph0\" class=\"graph\" transform=\"scale(.6101 .6101) rotate(0) translate(4 345.9533)\">\n",
       "<title>%3</title>\n",
       "<polygon fill=\"#ffffff\" stroke=\"transparent\" points=\"-4,4 -4,-345.9533 1176.1076,-345.9533 1176.1076,4 -4,4\"/>\n",
       "<!-- 0 -->\n",
       "<g id=\"node1\" class=\"node\">\n",
       "<title>0</title>\n",
       "<polygon fill=\"none\" stroke=\"#000000\" points=\"637.0538,-341.9533 541.0538,-341.9533 541.0538,-288.9533 637.0538,-288.9533 637.0538,-341.9533\"/>\n",
       "<text text-anchor=\"middle\" x=\"589.0538\" y=\"-326.7533\" font-family=\"Times,serif\" font-size=\"14.00\" fill=\"#000000\">id=0</text>\n",
       "<text text-anchor=\"middle\" x=\"589.0538\" y=\"-311.7533\" font-family=\"Times,serif\" font-size=\"14.00\" fill=\"#000000\">samples=6000</text>\n",
       "<text text-anchor=\"middle\" x=\"589.0538\" y=\"-296.7533\" font-family=\"Times,serif\" font-size=\"14.00\" fill=\"#000000\">31&lt;127.5000</text>\n",
       "</g>\n",
       "<!-- 1 -->\n",
       "<g id=\"node2\" class=\"node\">\n",
       "<title>1</title>\n",
       "<polygon fill=\"none\" stroke=\"#000000\" points=\"489.0538,-252.9533 393.0538,-252.9533 393.0538,-199.9533 489.0538,-199.9533 489.0538,-252.9533\"/>\n",
       "<text text-anchor=\"middle\" x=\"441.0538\" y=\"-237.7533\" font-family=\"Times,serif\" font-size=\"14.00\" fill=\"#000000\">id=1</text>\n",
       "<text text-anchor=\"middle\" x=\"441.0538\" y=\"-222.7533\" font-family=\"Times,serif\" font-size=\"14.00\" fill=\"#000000\">samples=5766</text>\n",
       "<text text-anchor=\"middle\" x=\"441.0538\" y=\"-207.7533\" font-family=\"Times,serif\" font-size=\"14.00\" fill=\"#000000\">31&lt;43.5000</text>\n",
       "</g>\n",
       "<!-- 0&#45;&gt;1 -->\n",
       "<g id=\"edge1\" class=\"edge\">\n",
       "<title>0&#45;&gt;1</title>\n",
       "<path fill=\"none\" stroke=\"#000000\" d=\"M544.6489,-288.7504C528.772,-279.2028 510.719,-268.3466 494.1808,-258.4013\"/>\n",
       "<polygon fill=\"#000000\" stroke=\"#000000\" points=\"495.5457,-255.138 485.1722,-252.9839 491.9383,-261.1369 495.5457,-255.138\"/>\n",
       "</g>\n",
       "<!-- 2 -->\n",
       "<g id=\"node3\" class=\"node\">\n",
       "<title>2</title>\n",
       "<polygon fill=\"none\" stroke=\"#000000\" points=\"781.5538,-252.9533 692.5538,-252.9533 692.5538,-199.9533 781.5538,-199.9533 781.5538,-252.9533\"/>\n",
       "<text text-anchor=\"middle\" x=\"737.0538\" y=\"-237.7533\" font-family=\"Times,serif\" font-size=\"14.00\" fill=\"#000000\">id=2</text>\n",
       "<text text-anchor=\"middle\" x=\"737.0538\" y=\"-222.7533\" font-family=\"Times,serif\" font-size=\"14.00\" fill=\"#000000\">samples=234</text>\n",
       "<text text-anchor=\"middle\" x=\"737.0538\" y=\"-207.7533\" font-family=\"Times,serif\" font-size=\"14.00\" fill=\"#000000\">35&lt;7.5000</text>\n",
       "</g>\n",
       "<!-- 0&#45;&gt;2 -->\n",
       "<g id=\"edge2\" class=\"edge\">\n",
       "<title>0&#45;&gt;2</title>\n",
       "<path fill=\"none\" stroke=\"#000000\" d=\"M633.4587,-288.7504C649.3356,-279.2028 667.3887,-268.3466 683.9269,-258.4013\"/>\n",
       "<polygon fill=\"#000000\" stroke=\"#000000\" points=\"686.1694,-261.1369 692.9355,-252.9839 682.5619,-255.138 686.1694,-261.1369\"/>\n",
       "</g>\n",
       "<!-- 5 -->\n",
       "<g id=\"node6\" class=\"node\">\n",
       "<title>5</title>\n",
       "<polygon fill=\"none\" stroke=\"#000000\" points=\"264.0538,-163.9533 168.0538,-163.9533 168.0538,-110.9533 264.0538,-110.9533 264.0538,-163.9533\"/>\n",
       "<text text-anchor=\"middle\" x=\"216.0538\" y=\"-148.7533\" font-family=\"Times,serif\" font-size=\"14.00\" fill=\"#000000\">id=5</text>\n",
       "<text text-anchor=\"middle\" x=\"216.0538\" y=\"-133.7533\" font-family=\"Times,serif\" font-size=\"14.00\" fill=\"#000000\">samples=5369</text>\n",
       "<text text-anchor=\"middle\" x=\"216.0538\" y=\"-118.7533\" font-family=\"Times,serif\" font-size=\"14.00\" fill=\"#000000\">35&lt;0.5000</text>\n",
       "</g>\n",
       "<!-- 1&#45;&gt;5 -->\n",
       "<g id=\"edge3\" class=\"edge\">\n",
       "<title>1&#45;&gt;5</title>\n",
       "<path fill=\"none\" stroke=\"#000000\" d=\"M392.7857,-207.3606C357.9368,-193.5759 310.7217,-174.8997 273.86,-160.3189\"/>\n",
       "<polygon fill=\"#000000\" stroke=\"#000000\" points=\"274.8285,-156.9382 264.2421,-156.5145 272.2537,-163.4474 274.8285,-156.9382\"/>\n",
       "</g>\n",
       "<!-- 6 -->\n",
       "<g id=\"node7\" class=\"node\">\n",
       "<title>6</title>\n",
       "<polygon fill=\"none\" stroke=\"#000000\" points=\"485.5538,-163.9533 396.5538,-163.9533 396.5538,-110.9533 485.5538,-110.9533 485.5538,-163.9533\"/>\n",
       "<text text-anchor=\"middle\" x=\"441.0538\" y=\"-148.7533\" font-family=\"Times,serif\" font-size=\"14.00\" fill=\"#000000\">id=6</text>\n",
       "<text text-anchor=\"middle\" x=\"441.0538\" y=\"-133.7533\" font-family=\"Times,serif\" font-size=\"14.00\" fill=\"#000000\">samples=397</text>\n",
       "<text text-anchor=\"middle\" x=\"441.0538\" y=\"-118.7533\" font-family=\"Times,serif\" font-size=\"14.00\" fill=\"#000000\">35&lt;4.5000</text>\n",
       "</g>\n",
       "<!-- 1&#45;&gt;6 -->\n",
       "<g id=\"edge4\" class=\"edge\">\n",
       "<title>1&#45;&gt;6</title>\n",
       "<path fill=\"none\" stroke=\"#000000\" d=\"M441.0538,-199.7504C441.0538,-191.742 441.0538,-182.813 441.0538,-174.2731\"/>\n",
       "<polygon fill=\"#000000\" stroke=\"#000000\" points=\"444.5539,-174.1374 441.0538,-164.1374 437.5539,-174.1374 444.5539,-174.1374\"/>\n",
       "</g>\n",
       "<!-- 3 -->\n",
       "<g id=\"node4\" class=\"node\">\n",
       "<title>3</title>\n",
       "<polygon fill=\"none\" stroke=\"#000000\" points=\"784.0538,-163.9533 690.0538,-163.9533 690.0538,-110.9533 784.0538,-110.9533 784.0538,-163.9533\"/>\n",
       "<text text-anchor=\"middle\" x=\"737.0538\" y=\"-148.7533\" font-family=\"Times,serif\" font-size=\"14.00\" fill=\"#000000\">id=3</text>\n",
       "<text text-anchor=\"middle\" x=\"737.0538\" y=\"-133.7533\" font-family=\"Times,serif\" font-size=\"14.00\" fill=\"#000000\">samples=43</text>\n",
       "<text text-anchor=\"middle\" x=\"737.0538\" y=\"-118.7533\" font-family=\"Times,serif\" font-size=\"14.00\" fill=\"#000000\">25&lt;&#45;780.5000</text>\n",
       "</g>\n",
       "<!-- 2&#45;&gt;3 -->\n",
       "<g id=\"edge5\" class=\"edge\">\n",
       "<title>2&#45;&gt;3</title>\n",
       "<path fill=\"none\" stroke=\"#000000\" d=\"M737.0538,-199.7504C737.0538,-191.742 737.0538,-182.813 737.0538,-174.2731\"/>\n",
       "<polygon fill=\"#000000\" stroke=\"#000000\" points=\"740.5539,-174.1374 737.0538,-164.1374 733.5539,-174.1374 740.5539,-174.1374\"/>\n",
       "</g>\n",
       "<!-- 4 -->\n",
       "<g id=\"node5\" class=\"node\">\n",
       "<title>4</title>\n",
       "<polygon fill=\"none\" stroke=\"#000000\" points=\"1003.5538,-163.9533 914.5538,-163.9533 914.5538,-110.9533 1003.5538,-110.9533 1003.5538,-163.9533\"/>\n",
       "<text text-anchor=\"middle\" x=\"959.0538\" y=\"-148.7533\" font-family=\"Times,serif\" font-size=\"14.00\" fill=\"#000000\">id=4</text>\n",
       "<text text-anchor=\"middle\" x=\"959.0538\" y=\"-133.7533\" font-family=\"Times,serif\" font-size=\"14.00\" fill=\"#000000\">samples=191</text>\n",
       "<text text-anchor=\"middle\" x=\"959.0538\" y=\"-118.7533\" font-family=\"Times,serif\" font-size=\"14.00\" fill=\"#000000\">31&lt;279.5000</text>\n",
       "</g>\n",
       "<!-- 2&#45;&gt;4 -->\n",
       "<g id=\"edge6\" class=\"edge\">\n",
       "<title>2&#45;&gt;4</title>\n",
       "<path fill=\"none\" stroke=\"#000000\" d=\"M781.7118,-208.5499C817.3128,-194.2774 867.2952,-174.2394 905.1269,-159.0727\"/>\n",
       "<polygon fill=\"#000000\" stroke=\"#000000\" points=\"906.4877,-162.298 914.4672,-155.3281 903.8829,-155.8006 906.4877,-162.298\"/>\n",
       "</g>\n",
       "<!-- 7 -->\n",
       "<g id=\"node8\" class=\"node\">\n",
       "<title>7</title>\n",
       "<ellipse fill=\"none\" stroke=\"#000000\" cx=\"663.0538\" cy=\"-37.4767\" rx=\"65.1077\" ry=\"37.4533\"/>\n",
       "<text text-anchor=\"middle\" x=\"663.0538\" y=\"-48.7767\" font-family=\"Times,serif\" font-size=\"14.00\" fill=\"#000000\">id=7</text>\n",
       "<text text-anchor=\"middle\" x=\"663.0538\" y=\"-33.7767\" font-family=\"Times,serif\" font-size=\"14.00\" fill=\"#000000\">samples=23</text>\n",
       "<text text-anchor=\"middle\" x=\"663.0538\" y=\"-18.7767\" font-family=\"Times,serif\" font-size=\"14.00\" fill=\"#000000\">value=7.5936</text>\n",
       "</g>\n",
       "<!-- 3&#45;&gt;7 -->\n",
       "<g id=\"edge7\" class=\"edge\">\n",
       "<title>3&#45;&gt;7</title>\n",
       "<path fill=\"none\" stroke=\"#000000\" d=\"M717.4175,-110.9239C710.4575,-101.5207 702.4375,-90.6854 694.7319,-80.2749\"/>\n",
       "<polygon fill=\"#000000\" stroke=\"#000000\" points=\"697.4085,-78.008 688.6459,-72.0525 691.7821,-82.1725 697.4085,-78.008\"/>\n",
       "</g>\n",
       "<!-- 8 -->\n",
       "<g id=\"node9\" class=\"node\">\n",
       "<title>8</title>\n",
       "<ellipse fill=\"none\" stroke=\"#000000\" cx=\"811.0538\" cy=\"-37.4767\" rx=\"65.1077\" ry=\"37.4533\"/>\n",
       "<text text-anchor=\"middle\" x=\"811.0538\" y=\"-48.7767\" font-family=\"Times,serif\" font-size=\"14.00\" fill=\"#000000\">id=8</text>\n",
       "<text text-anchor=\"middle\" x=\"811.0538\" y=\"-33.7767\" font-family=\"Times,serif\" font-size=\"14.00\" fill=\"#000000\">samples=20</text>\n",
       "<text text-anchor=\"middle\" x=\"811.0538\" y=\"-18.7767\" font-family=\"Times,serif\" font-size=\"14.00\" fill=\"#000000\">value=2.7578</text>\n",
       "</g>\n",
       "<!-- 3&#45;&gt;8 -->\n",
       "<g id=\"edge8\" class=\"edge\">\n",
       "<title>3&#45;&gt;8</title>\n",
       "<path fill=\"none\" stroke=\"#000000\" d=\"M756.6902,-110.9239C763.6501,-101.5207 771.6702,-90.6854 779.3757,-80.2749\"/>\n",
       "<polygon fill=\"#000000\" stroke=\"#000000\" points=\"782.3256,-82.1725 785.4617,-72.0525 776.6991,-78.008 782.3256,-82.1725\"/>\n",
       "</g>\n",
       "<!-- 13 -->\n",
       "<g id=\"node14\" class=\"node\">\n",
       "<title>13</title>\n",
       "<ellipse fill=\"none\" stroke=\"#000000\" cx=\"959.0538\" cy=\"-37.4767\" rx=\"65.1077\" ry=\"37.4533\"/>\n",
       "<text text-anchor=\"middle\" x=\"959.0538\" y=\"-48.7767\" font-family=\"Times,serif\" font-size=\"14.00\" fill=\"#000000\">id=13</text>\n",
       "<text text-anchor=\"middle\" x=\"959.0538\" y=\"-33.7767\" font-family=\"Times,serif\" font-size=\"14.00\" fill=\"#000000\">samples=116</text>\n",
       "<text text-anchor=\"middle\" x=\"959.0538\" y=\"-18.7767\" font-family=\"Times,serif\" font-size=\"14.00\" fill=\"#000000\">value=0.5858</text>\n",
       "</g>\n",
       "<!-- 4&#45;&gt;13 -->\n",
       "<g id=\"edge9\" class=\"edge\">\n",
       "<title>4&#45;&gt;13</title>\n",
       "<path fill=\"none\" stroke=\"#000000\" d=\"M959.0538,-110.9239C959.0538,-103.0239 959.0538,-94.113 959.0538,-85.2925\"/>\n",
       "<polygon fill=\"#000000\" stroke=\"#000000\" points=\"962.5539,-85.0454 959.0538,-75.0454 955.5539,-85.0455 962.5539,-85.0454\"/>\n",
       "</g>\n",
       "<!-- 14 -->\n",
       "<g id=\"node15\" class=\"node\">\n",
       "<title>14</title>\n",
       "<ellipse fill=\"none\" stroke=\"#000000\" cx=\"1107.0538\" cy=\"-37.4767\" rx=\"65.1077\" ry=\"37.4533\"/>\n",
       "<text text-anchor=\"middle\" x=\"1107.0538\" y=\"-48.7767\" font-family=\"Times,serif\" font-size=\"14.00\" fill=\"#000000\">id=14</text>\n",
       "<text text-anchor=\"middle\" x=\"1107.0538\" y=\"-33.7767\" font-family=\"Times,serif\" font-size=\"14.00\" fill=\"#000000\">samples=75</text>\n",
       "<text text-anchor=\"middle\" x=\"1107.0538\" y=\"-18.7767\" font-family=\"Times,serif\" font-size=\"14.00\" fill=\"#000000\">value=1.6348</text>\n",
       "</g>\n",
       "<!-- 4&#45;&gt;14 -->\n",
       "<g id=\"edge10\" class=\"edge\">\n",
       "<title>4&#45;&gt;14</title>\n",
       "<path fill=\"none\" stroke=\"#000000\" d=\"M998.3265,-110.9239C1016.0753,-98.9343 1037.2711,-84.6162 1056.2148,-71.8193\"/>\n",
       "<polygon fill=\"#000000\" stroke=\"#000000\" points=\"1058.4124,-74.5586 1064.7397,-66.0606 1054.494,-68.758 1058.4124,-74.5586\"/>\n",
       "</g>\n",
       "<!-- 11 -->\n",
       "<g id=\"node12\" class=\"node\">\n",
       "<title>11</title>\n",
       "<ellipse fill=\"none\" stroke=\"#000000\" cx=\"65.0538\" cy=\"-37.4767\" rx=\"65.1077\" ry=\"37.4533\"/>\n",
       "<text text-anchor=\"middle\" x=\"65.0538\" y=\"-48.7767\" font-family=\"Times,serif\" font-size=\"14.00\" fill=\"#000000\">id=11</text>\n",
       "<text text-anchor=\"middle\" x=\"65.0538\" y=\"-33.7767\" font-family=\"Times,serif\" font-size=\"14.00\" fill=\"#000000\">samples=90</text>\n",
       "<text text-anchor=\"middle\" x=\"65.0538\" y=\"-18.7767\" font-family=\"Times,serif\" font-size=\"14.00\" fill=\"#000000\">value=0.5966</text>\n",
       "</g>\n",
       "<!-- 5&#45;&gt;11 -->\n",
       "<g id=\"edge11\" class=\"edge\">\n",
       "<title>5&#45;&gt;11</title>\n",
       "<path fill=\"none\" stroke=\"#000000\" d=\"M175.985,-110.9239C157.7188,-98.8299 135.8742,-84.3666 116.419,-71.4854\"/>\n",
       "<polygon fill=\"#000000\" stroke=\"#000000\" points=\"118.2286,-68.4859 107.9583,-65.8836 114.3641,-74.3225 118.2286,-68.4859\"/>\n",
       "</g>\n",
       "<!-- 12 -->\n",
       "<g id=\"node13\" class=\"node\">\n",
       "<title>12</title>\n",
       "<ellipse fill=\"none\" stroke=\"#000000\" cx=\"216.0538\" cy=\"-37.4767\" rx=\"67.7647\" ry=\"37.4533\"/>\n",
       "<text text-anchor=\"middle\" x=\"216.0538\" y=\"-48.7767\" font-family=\"Times,serif\" font-size=\"14.00\" fill=\"#000000\">id=12</text>\n",
       "<text text-anchor=\"middle\" x=\"216.0538\" y=\"-33.7767\" font-family=\"Times,serif\" font-size=\"14.00\" fill=\"#000000\">samples=5279</text>\n",
       "<text text-anchor=\"middle\" x=\"216.0538\" y=\"-18.7767\" font-family=\"Times,serif\" font-size=\"14.00\" fill=\"#000000\">value=&#45;0.1190</text>\n",
       "</g>\n",
       "<!-- 5&#45;&gt;12 -->\n",
       "<g id=\"edge12\" class=\"edge\">\n",
       "<title>5&#45;&gt;12</title>\n",
       "<path fill=\"none\" stroke=\"#000000\" d=\"M216.0538,-110.9239C216.0538,-103.0239 216.0538,-94.113 216.0538,-85.2925\"/>\n",
       "<polygon fill=\"#000000\" stroke=\"#000000\" points=\"219.5539,-85.0454 216.0538,-75.0454 212.5539,-85.0455 219.5539,-85.0454\"/>\n",
       "</g>\n",
       "<!-- 9 -->\n",
       "<g id=\"node10\" class=\"node\">\n",
       "<title>9</title>\n",
       "<ellipse fill=\"none\" stroke=\"#000000\" cx=\"367.0538\" cy=\"-37.4767\" rx=\"65.1077\" ry=\"37.4533\"/>\n",
       "<text text-anchor=\"middle\" x=\"367.0538\" y=\"-48.7767\" font-family=\"Times,serif\" font-size=\"14.00\" fill=\"#000000\">id=9</text>\n",
       "<text text-anchor=\"middle\" x=\"367.0538\" y=\"-33.7767\" font-family=\"Times,serif\" font-size=\"14.00\" fill=\"#000000\">samples=46</text>\n",
       "<text text-anchor=\"middle\" x=\"367.0538\" y=\"-18.7767\" font-family=\"Times,serif\" font-size=\"14.00\" fill=\"#000000\">value=1.3013</text>\n",
       "</g>\n",
       "<!-- 6&#45;&gt;9 -->\n",
       "<g id=\"edge13\" class=\"edge\">\n",
       "<title>6&#45;&gt;9</title>\n",
       "<path fill=\"none\" stroke=\"#000000\" d=\"M421.4175,-110.9239C414.4575,-101.5207 406.4375,-90.6854 398.7319,-80.2749\"/>\n",
       "<polygon fill=\"#000000\" stroke=\"#000000\" points=\"401.4085,-78.008 392.6459,-72.0525 395.7821,-82.1725 401.4085,-78.008\"/>\n",
       "</g>\n",
       "<!-- 10 -->\n",
       "<g id=\"node11\" class=\"node\">\n",
       "<title>10</title>\n",
       "<ellipse fill=\"none\" stroke=\"#000000\" cx=\"515.0538\" cy=\"-37.4767\" rx=\"65.1077\" ry=\"37.4533\"/>\n",
       "<text text-anchor=\"middle\" x=\"515.0538\" y=\"-48.7767\" font-family=\"Times,serif\" font-size=\"14.00\" fill=\"#000000\">id=10</text>\n",
       "<text text-anchor=\"middle\" x=\"515.0538\" y=\"-33.7767\" font-family=\"Times,serif\" font-size=\"14.00\" fill=\"#000000\">samples=351</text>\n",
       "<text text-anchor=\"middle\" x=\"515.0538\" y=\"-18.7767\" font-family=\"Times,serif\" font-size=\"14.00\" fill=\"#000000\">value=0.2129</text>\n",
       "</g>\n",
       "<!-- 6&#45;&gt;10 -->\n",
       "<g id=\"edge14\" class=\"edge\">\n",
       "<title>6&#45;&gt;10</title>\n",
       "<path fill=\"none\" stroke=\"#000000\" d=\"M460.6902,-110.9239C467.6501,-101.5207 475.6702,-90.6854 483.3757,-80.2749\"/>\n",
       "<polygon fill=\"#000000\" stroke=\"#000000\" points=\"486.3256,-82.1725 489.4617,-72.0525 480.6991,-78.008 486.3256,-82.1725\"/>\n",
       "</g>\n",
       "</g>\n",
       "</svg>\n"
      ],
      "text/plain": [
       "<graphviz.dot.Digraph at 0x7fe397111518>"
      ]
     },
     "execution_count": 65,
     "metadata": {},
     "output_type": "execute_result"
    }
   ],
   "source": [
    "forest.show_tree(5)"
   ]
  },
  {
   "cell_type": "markdown",
   "id": "specified-setup",
   "metadata": {},
   "source": [
    "## 3. Stable neighbouhood\n",
    "\n",
    "Define metric over the siblings order of the tree. "
   ]
  },
  {
   "cell_type": "code",
   "execution_count": 104,
   "id": "juvenile-traveler",
   "metadata": {},
   "outputs": [],
   "source": [
    "from sklearn.metrics import pairwise_distances\n",
    "from scipy.spatial.distance import pdist, squareform\n",
    "from fastcluster import linkage\n",
    "\n",
    "def seriation(Z,N,cur_index):\n",
    "    '''\n",
    "        input:\n",
    "            - Z is a hierarchical tree (dendrogram)\n",
    "            - N is the number of points given to the clustering process\n",
    "            - cur_index is the position in the tree for the recursive traversal\n",
    "        output:\n",
    "            - order implied by the hierarchical tree Z\n",
    "            \n",
    "        seriation computes the order implied by a hierarchical tree (dendrogram)\n",
    "    '''\n",
    "    if cur_index < N:\n",
    "        return [cur_index]\n",
    "    else:\n",
    "        left = int(Z[cur_index-N,0])\n",
    "        right = int(Z[cur_index-N,1])\n",
    "        return (seriation(Z,N,left) + seriation(Z,N,right))\n",
    "    \n",
    "def compute_serial_matrix(dist_mat,method=\"ward\"):\n",
    "    '''\n",
    "        input:\n",
    "            - dist_mat is a distance matrix\n",
    "            - method = [\"ward\",\"single\",\"average\",\"complete\"]\n",
    "        output:\n",
    "            - seriated_dist is the input dist_mat,\n",
    "              but with re-ordered rows and columns\n",
    "              according to the seriation, i.e. the\n",
    "              order implied by the hierarchical tree\n",
    "            - res_order is the order implied by\n",
    "              the hierarhical tree\n",
    "            - res_linkage is the hierarhical tree (dendrogram)\n",
    "        \n",
    "        compute_serial_matrix transforms a distance matrix into \n",
    "        a sorted distance matrix according to the order implied \n",
    "        by the hierarchical tree (dendrogram)\n",
    "    '''\n",
    "    N = len(dist_mat)\n",
    "    flat_dist_mat = squareform(dist_mat)\n",
    "    res_linkage = linkage(flat_dist_mat, method=method,preserve_input=True)\n",
    "    res_order = seriation(res_linkage, N, N + N-2)\n",
    "    seriated_dist = np.zeros((N,N))\n",
    "    a,b = np.triu_indices(N,k=1)\n",
    "    seriated_dist[a,b] = dist_mat[ [res_order[i] for i in a], [res_order[j] for j in b]]\n",
    "    seriated_dist[b,a] = seriated_dist[a,b]\n",
    "    \n",
    "    return seriated_dist, res_order, res_linkage\n",
    "\n"
   ]
  },
  {
   "cell_type": "code",
   "execution_count": 58,
   "id": "thorough-governor",
   "metadata": {},
   "outputs": [],
   "source": [
    "def tree_distance_matrix(forest, tree_index, nrows=100):\n",
    "#     nrows = 100 # df.shape[0]\n",
    "    K = np.zeros((nrows, nrows))\n",
    "    for i in range(nrows):\n",
    "        for j in range(i+1,nrows):\n",
    "            K[i,j] = K[j,i] = forest.trees[tree_index].get_tree_distance(df.loc[i], df.loc[j])\n",
    "    return K"
   ]
  },
  {
   "cell_type": "code",
   "execution_count": 96,
   "id": "embedded-country",
   "metadata": {},
   "outputs": [],
   "source": [
    "K = []\n",
    "for tree_index in range(1,17):\n",
    "    K.append(tree_distance_matrix(forest, tree_index, 1000))"
   ]
  },
  {
   "cell_type": "code",
   "execution_count": 114,
   "id": "bulgarian-mechanism",
   "metadata": {},
   "outputs": [],
   "source": [
    "number_trees = len(K)\n",
    "S = np.zeros((number_trees, number_trees))\n",
    "for i in range(number_trees):\n",
    "    for j in range(i, number_trees):\n",
    "        S[i,j] = S[j,i] = np.mean(np.abs(K[i] - K[j]))# np.linalg.norm(K[i] - K[j])"
   ]
  },
  {
   "cell_type": "code",
   "execution_count": 62,
   "id": "confused-climate",
   "metadata": {},
   "outputs": [],
   "source": [
    "import plotly.express as px"
   ]
  },
  {
   "cell_type": "code",
   "execution_count": 95,
   "id": "addressed-rover",
   "metadata": {},
   "outputs": [
    {
     "data": {
      "application/vnd.plotly.v1+json": {
       "config": {
        "plotlyServerURL": "https://plot.ly"
       },
       "data": [
        {
         "coloraxis": "coloraxis",
         "hovertemplate": "x: %{x}<br>y: %{y}<br>color: %{z}<extra></extra>",
         "name": "0",
         "type": "heatmap",
         "xaxis": "x",
         "yaxis": "y",
         "z": [
          [
           0,
           0.1492,
           0.0448,
           0.5272,
           0.0448,
           0.0456,
           0.4328,
           0.387,
           0.1488,
           0.387,
           0.3336,
           0.1836,
           0.6592,
           0.617,
           0.192,
           0.3454
          ],
          [
           0.1492,
           0,
           0.1908,
           0.3948,
           0.1908,
           0.1908,
           0.2884,
           0.2466,
           0.0004,
           0.2466,
           0.1908,
           0.0368,
           0.6596,
           0.4862,
           0.3316,
           0.2042
          ],
          [
           0.0448,
           0.1908,
           0,
           0.4832,
           0,
           0.0016,
           0.4752,
           0.4242,
           0.1904,
           0.4242,
           0.2896,
           0.2252,
           0.6144,
           0.6086,
           0.1472,
           0.3834
          ],
          [
           0.5272,
           0.3948,
           0.4832,
           0,
           0.4832,
           0.4824,
           0.5416,
           0.4242,
           0.3944,
           0.4242,
           0.3592,
           0.3596,
           0.2672,
           0.305,
           0.608,
           0.385
          ],
          [
           0.0448,
           0.1908,
           0,
           0.4832,
           0,
           0.0016,
           0.4752,
           0.4242,
           0.1904,
           0.4242,
           0.2896,
           0.2252,
           0.6144,
           0.6086,
           0.1472,
           0.3834
          ],
          [
           0.0456,
           0.1908,
           0.0016,
           0.4824,
           0.0016,
           0,
           0.476,
           0.4242,
           0.1912,
           0.4242,
           0.288,
           0.226,
           0.616,
           0.6094,
           0.1488,
           0.3834
          ],
          [
           0.4328,
           0.2884,
           0.4752,
           0.5416,
           0.4752,
           0.476,
           0,
           0.3838,
           0.288,
           0.3838,
           0.4056,
           0.3212,
           0.8064,
           0.5214,
           0.6128,
           0.379
          ],
          [
           0.387,
           0.2466,
           0.4242,
           0.4242,
           0.4242,
           0.4242,
           0.3838,
           0,
           0.2462,
           0,
           0.1394,
           0.2098,
           0.6778,
           0.302,
           0.557,
           0.0428
          ],
          [
           0.1488,
           0.0004,
           0.1904,
           0.3944,
           0.1904,
           0.1912,
           0.288,
           0.2462,
           0,
           0.2462,
           0.1912,
           0.0364,
           0.6592,
           0.4866,
           0.3312,
           0.2046
          ],
          [
           0.387,
           0.2466,
           0.4242,
           0.4242,
           0.4242,
           0.4242,
           0.3838,
           0,
           0.2462,
           0,
           0.1394,
           0.2098,
           0.6778,
           0.302,
           0.557,
           0.0428
          ],
          [
           0.3336,
           0.1908,
           0.2896,
           0.3592,
           0.2896,
           0.288,
           0.4056,
           0.1394,
           0.1912,
           0.1394,
           0,
           0.2276,
           0.6128,
           0.3454,
           0.424,
           0.0986
          ],
          [
           0.1836,
           0.0368,
           0.2252,
           0.3596,
           0.2252,
           0.226,
           0.3212,
           0.2098,
           0.0364,
           0.2098,
           0.2276,
           0,
           0.6244,
           0.4518,
           0.3644,
           0.1682
          ],
          [
           0.6592,
           0.6596,
           0.6144,
           0.2672,
           0.6144,
           0.616,
           0.8064,
           0.6778,
           0.6592,
           0.6778,
           0.6128,
           0.6244,
           0,
           0.5434,
           0.6064,
           0.637
          ],
          [
           0.617,
           0.4862,
           0.6086,
           0.305,
           0.6086,
           0.6094,
           0.5214,
           0.302,
           0.4866,
           0.302,
           0.3454,
           0.4518,
           0.5434,
           0,
           0.731,
           0.2968
          ],
          [
           0.192,
           0.3316,
           0.1472,
           0.608,
           0.1472,
           0.1488,
           0.6128,
           0.557,
           0.3312,
           0.557,
           0.424,
           0.3644,
           0.6064,
           0.731,
           0,
           0.5162
          ],
          [
           0.3454,
           0.2042,
           0.3834,
           0.385,
           0.3834,
           0.3834,
           0.379,
           0.0428,
           0.2046,
           0.0428,
           0.0986,
           0.1682,
           0.637,
           0.2968,
           0.5162,
           0
          ]
         ]
        }
       ],
       "layout": {
        "coloraxis": {
         "colorscale": [
          [
           0,
           "#0d0887"
          ],
          [
           0.1111111111111111,
           "#46039f"
          ],
          [
           0.2222222222222222,
           "#7201a8"
          ],
          [
           0.3333333333333333,
           "#9c179e"
          ],
          [
           0.4444444444444444,
           "#bd3786"
          ],
          [
           0.5555555555555556,
           "#d8576b"
          ],
          [
           0.6666666666666666,
           "#ed7953"
          ],
          [
           0.7777777777777778,
           "#fb9f3a"
          ],
          [
           0.8888888888888888,
           "#fdca26"
          ],
          [
           1,
           "#f0f921"
          ]
         ]
        },
        "margin": {
         "t": 60
        },
        "template": {
         "data": {
          "bar": [
           {
            "error_x": {
             "color": "#2a3f5f"
            },
            "error_y": {
             "color": "#2a3f5f"
            },
            "marker": {
             "line": {
              "color": "#E5ECF6",
              "width": 0.5
             }
            },
            "type": "bar"
           }
          ],
          "barpolar": [
           {
            "marker": {
             "line": {
              "color": "#E5ECF6",
              "width": 0.5
             }
            },
            "type": "barpolar"
           }
          ],
          "carpet": [
           {
            "aaxis": {
             "endlinecolor": "#2a3f5f",
             "gridcolor": "white",
             "linecolor": "white",
             "minorgridcolor": "white",
             "startlinecolor": "#2a3f5f"
            },
            "baxis": {
             "endlinecolor": "#2a3f5f",
             "gridcolor": "white",
             "linecolor": "white",
             "minorgridcolor": "white",
             "startlinecolor": "#2a3f5f"
            },
            "type": "carpet"
           }
          ],
          "choropleth": [
           {
            "colorbar": {
             "outlinewidth": 0,
             "ticks": ""
            },
            "type": "choropleth"
           }
          ],
          "contour": [
           {
            "colorbar": {
             "outlinewidth": 0,
             "ticks": ""
            },
            "colorscale": [
             [
              0,
              "#0d0887"
             ],
             [
              0.1111111111111111,
              "#46039f"
             ],
             [
              0.2222222222222222,
              "#7201a8"
             ],
             [
              0.3333333333333333,
              "#9c179e"
             ],
             [
              0.4444444444444444,
              "#bd3786"
             ],
             [
              0.5555555555555556,
              "#d8576b"
             ],
             [
              0.6666666666666666,
              "#ed7953"
             ],
             [
              0.7777777777777778,
              "#fb9f3a"
             ],
             [
              0.8888888888888888,
              "#fdca26"
             ],
             [
              1,
              "#f0f921"
             ]
            ],
            "type": "contour"
           }
          ],
          "contourcarpet": [
           {
            "colorbar": {
             "outlinewidth": 0,
             "ticks": ""
            },
            "type": "contourcarpet"
           }
          ],
          "heatmap": [
           {
            "colorbar": {
             "outlinewidth": 0,
             "ticks": ""
            },
            "colorscale": [
             [
              0,
              "#0d0887"
             ],
             [
              0.1111111111111111,
              "#46039f"
             ],
             [
              0.2222222222222222,
              "#7201a8"
             ],
             [
              0.3333333333333333,
              "#9c179e"
             ],
             [
              0.4444444444444444,
              "#bd3786"
             ],
             [
              0.5555555555555556,
              "#d8576b"
             ],
             [
              0.6666666666666666,
              "#ed7953"
             ],
             [
              0.7777777777777778,
              "#fb9f3a"
             ],
             [
              0.8888888888888888,
              "#fdca26"
             ],
             [
              1,
              "#f0f921"
             ]
            ],
            "type": "heatmap"
           }
          ],
          "heatmapgl": [
           {
            "colorbar": {
             "outlinewidth": 0,
             "ticks": ""
            },
            "colorscale": [
             [
              0,
              "#0d0887"
             ],
             [
              0.1111111111111111,
              "#46039f"
             ],
             [
              0.2222222222222222,
              "#7201a8"
             ],
             [
              0.3333333333333333,
              "#9c179e"
             ],
             [
              0.4444444444444444,
              "#bd3786"
             ],
             [
              0.5555555555555556,
              "#d8576b"
             ],
             [
              0.6666666666666666,
              "#ed7953"
             ],
             [
              0.7777777777777778,
              "#fb9f3a"
             ],
             [
              0.8888888888888888,
              "#fdca26"
             ],
             [
              1,
              "#f0f921"
             ]
            ],
            "type": "heatmapgl"
           }
          ],
          "histogram": [
           {
            "marker": {
             "colorbar": {
              "outlinewidth": 0,
              "ticks": ""
             }
            },
            "type": "histogram"
           }
          ],
          "histogram2d": [
           {
            "colorbar": {
             "outlinewidth": 0,
             "ticks": ""
            },
            "colorscale": [
             [
              0,
              "#0d0887"
             ],
             [
              0.1111111111111111,
              "#46039f"
             ],
             [
              0.2222222222222222,
              "#7201a8"
             ],
             [
              0.3333333333333333,
              "#9c179e"
             ],
             [
              0.4444444444444444,
              "#bd3786"
             ],
             [
              0.5555555555555556,
              "#d8576b"
             ],
             [
              0.6666666666666666,
              "#ed7953"
             ],
             [
              0.7777777777777778,
              "#fb9f3a"
             ],
             [
              0.8888888888888888,
              "#fdca26"
             ],
             [
              1,
              "#f0f921"
             ]
            ],
            "type": "histogram2d"
           }
          ],
          "histogram2dcontour": [
           {
            "colorbar": {
             "outlinewidth": 0,
             "ticks": ""
            },
            "colorscale": [
             [
              0,
              "#0d0887"
             ],
             [
              0.1111111111111111,
              "#46039f"
             ],
             [
              0.2222222222222222,
              "#7201a8"
             ],
             [
              0.3333333333333333,
              "#9c179e"
             ],
             [
              0.4444444444444444,
              "#bd3786"
             ],
             [
              0.5555555555555556,
              "#d8576b"
             ],
             [
              0.6666666666666666,
              "#ed7953"
             ],
             [
              0.7777777777777778,
              "#fb9f3a"
             ],
             [
              0.8888888888888888,
              "#fdca26"
             ],
             [
              1,
              "#f0f921"
             ]
            ],
            "type": "histogram2dcontour"
           }
          ],
          "mesh3d": [
           {
            "colorbar": {
             "outlinewidth": 0,
             "ticks": ""
            },
            "type": "mesh3d"
           }
          ],
          "parcoords": [
           {
            "line": {
             "colorbar": {
              "outlinewidth": 0,
              "ticks": ""
             }
            },
            "type": "parcoords"
           }
          ],
          "pie": [
           {
            "automargin": true,
            "type": "pie"
           }
          ],
          "scatter": [
           {
            "marker": {
             "colorbar": {
              "outlinewidth": 0,
              "ticks": ""
             }
            },
            "type": "scatter"
           }
          ],
          "scatter3d": [
           {
            "line": {
             "colorbar": {
              "outlinewidth": 0,
              "ticks": ""
             }
            },
            "marker": {
             "colorbar": {
              "outlinewidth": 0,
              "ticks": ""
             }
            },
            "type": "scatter3d"
           }
          ],
          "scattercarpet": [
           {
            "marker": {
             "colorbar": {
              "outlinewidth": 0,
              "ticks": ""
             }
            },
            "type": "scattercarpet"
           }
          ],
          "scattergeo": [
           {
            "marker": {
             "colorbar": {
              "outlinewidth": 0,
              "ticks": ""
             }
            },
            "type": "scattergeo"
           }
          ],
          "scattergl": [
           {
            "marker": {
             "colorbar": {
              "outlinewidth": 0,
              "ticks": ""
             }
            },
            "type": "scattergl"
           }
          ],
          "scattermapbox": [
           {
            "marker": {
             "colorbar": {
              "outlinewidth": 0,
              "ticks": ""
             }
            },
            "type": "scattermapbox"
           }
          ],
          "scatterpolar": [
           {
            "marker": {
             "colorbar": {
              "outlinewidth": 0,
              "ticks": ""
             }
            },
            "type": "scatterpolar"
           }
          ],
          "scatterpolargl": [
           {
            "marker": {
             "colorbar": {
              "outlinewidth": 0,
              "ticks": ""
             }
            },
            "type": "scatterpolargl"
           }
          ],
          "scatterternary": [
           {
            "marker": {
             "colorbar": {
              "outlinewidth": 0,
              "ticks": ""
             }
            },
            "type": "scatterternary"
           }
          ],
          "surface": [
           {
            "colorbar": {
             "outlinewidth": 0,
             "ticks": ""
            },
            "colorscale": [
             [
              0,
              "#0d0887"
             ],
             [
              0.1111111111111111,
              "#46039f"
             ],
             [
              0.2222222222222222,
              "#7201a8"
             ],
             [
              0.3333333333333333,
              "#9c179e"
             ],
             [
              0.4444444444444444,
              "#bd3786"
             ],
             [
              0.5555555555555556,
              "#d8576b"
             ],
             [
              0.6666666666666666,
              "#ed7953"
             ],
             [
              0.7777777777777778,
              "#fb9f3a"
             ],
             [
              0.8888888888888888,
              "#fdca26"
             ],
             [
              1,
              "#f0f921"
             ]
            ],
            "type": "surface"
           }
          ],
          "table": [
           {
            "cells": {
             "fill": {
              "color": "#EBF0F8"
             },
             "line": {
              "color": "white"
             }
            },
            "header": {
             "fill": {
              "color": "#C8D4E3"
             },
             "line": {
              "color": "white"
             }
            },
            "type": "table"
           }
          ]
         },
         "layout": {
          "annotationdefaults": {
           "arrowcolor": "#2a3f5f",
           "arrowhead": 0,
           "arrowwidth": 1
          },
          "autotypenumbers": "strict",
          "coloraxis": {
           "colorbar": {
            "outlinewidth": 0,
            "ticks": ""
           }
          },
          "colorscale": {
           "diverging": [
            [
             0,
             "#8e0152"
            ],
            [
             0.1,
             "#c51b7d"
            ],
            [
             0.2,
             "#de77ae"
            ],
            [
             0.3,
             "#f1b6da"
            ],
            [
             0.4,
             "#fde0ef"
            ],
            [
             0.5,
             "#f7f7f7"
            ],
            [
             0.6,
             "#e6f5d0"
            ],
            [
             0.7,
             "#b8e186"
            ],
            [
             0.8,
             "#7fbc41"
            ],
            [
             0.9,
             "#4d9221"
            ],
            [
             1,
             "#276419"
            ]
           ],
           "sequential": [
            [
             0,
             "#0d0887"
            ],
            [
             0.1111111111111111,
             "#46039f"
            ],
            [
             0.2222222222222222,
             "#7201a8"
            ],
            [
             0.3333333333333333,
             "#9c179e"
            ],
            [
             0.4444444444444444,
             "#bd3786"
            ],
            [
             0.5555555555555556,
             "#d8576b"
            ],
            [
             0.6666666666666666,
             "#ed7953"
            ],
            [
             0.7777777777777778,
             "#fb9f3a"
            ],
            [
             0.8888888888888888,
             "#fdca26"
            ],
            [
             1,
             "#f0f921"
            ]
           ],
           "sequentialminus": [
            [
             0,
             "#0d0887"
            ],
            [
             0.1111111111111111,
             "#46039f"
            ],
            [
             0.2222222222222222,
             "#7201a8"
            ],
            [
             0.3333333333333333,
             "#9c179e"
            ],
            [
             0.4444444444444444,
             "#bd3786"
            ],
            [
             0.5555555555555556,
             "#d8576b"
            ],
            [
             0.6666666666666666,
             "#ed7953"
            ],
            [
             0.7777777777777778,
             "#fb9f3a"
            ],
            [
             0.8888888888888888,
             "#fdca26"
            ],
            [
             1,
             "#f0f921"
            ]
           ]
          },
          "colorway": [
           "#636efa",
           "#EF553B",
           "#00cc96",
           "#ab63fa",
           "#FFA15A",
           "#19d3f3",
           "#FF6692",
           "#B6E880",
           "#FF97FF",
           "#FECB52"
          ],
          "font": {
           "color": "#2a3f5f"
          },
          "geo": {
           "bgcolor": "white",
           "lakecolor": "white",
           "landcolor": "#E5ECF6",
           "showlakes": true,
           "showland": true,
           "subunitcolor": "white"
          },
          "hoverlabel": {
           "align": "left"
          },
          "hovermode": "closest",
          "mapbox": {
           "style": "light"
          },
          "paper_bgcolor": "white",
          "plot_bgcolor": "#E5ECF6",
          "polar": {
           "angularaxis": {
            "gridcolor": "white",
            "linecolor": "white",
            "ticks": ""
           },
           "bgcolor": "#E5ECF6",
           "radialaxis": {
            "gridcolor": "white",
            "linecolor": "white",
            "ticks": ""
           }
          },
          "scene": {
           "xaxis": {
            "backgroundcolor": "#E5ECF6",
            "gridcolor": "white",
            "gridwidth": 2,
            "linecolor": "white",
            "showbackground": true,
            "ticks": "",
            "zerolinecolor": "white"
           },
           "yaxis": {
            "backgroundcolor": "#E5ECF6",
            "gridcolor": "white",
            "gridwidth": 2,
            "linecolor": "white",
            "showbackground": true,
            "ticks": "",
            "zerolinecolor": "white"
           },
           "zaxis": {
            "backgroundcolor": "#E5ECF6",
            "gridcolor": "white",
            "gridwidth": 2,
            "linecolor": "white",
            "showbackground": true,
            "ticks": "",
            "zerolinecolor": "white"
           }
          },
          "shapedefaults": {
           "line": {
            "color": "#2a3f5f"
           }
          },
          "ternary": {
           "aaxis": {
            "gridcolor": "white",
            "linecolor": "white",
            "ticks": ""
           },
           "baxis": {
            "gridcolor": "white",
            "linecolor": "white",
            "ticks": ""
           },
           "bgcolor": "#E5ECF6",
           "caxis": {
            "gridcolor": "white",
            "linecolor": "white",
            "ticks": ""
           }
          },
          "title": {
           "x": 0.05
          },
          "xaxis": {
           "automargin": true,
           "gridcolor": "white",
           "linecolor": "white",
           "ticks": "",
           "title": {
            "standoff": 15
           },
           "zerolinecolor": "white",
           "zerolinewidth": 2
          },
          "yaxis": {
           "automargin": true,
           "gridcolor": "white",
           "linecolor": "white",
           "ticks": "",
           "title": {
            "standoff": 15
           },
           "zerolinecolor": "white",
           "zerolinewidth": 2
          }
         }
        },
        "xaxis": {
         "anchor": "y",
         "constrain": "domain",
         "domain": [
          0,
          1
         ],
         "scaleanchor": "y"
        },
        "yaxis": {
         "anchor": "x",
         "autorange": "reversed",
         "constrain": "domain",
         "domain": [
          0,
          1
         ]
        }
       }
      },
      "text/html": [
       "<div>                            <div id=\"44514526-9d93-4be0-93d7-3dbb4e93fc55\" class=\"plotly-graph-div\" style=\"height:525px; width:100%;\"></div>            <script type=\"text/javascript\">                require([\"plotly\"], function(Plotly) {                    window.PLOTLYENV=window.PLOTLYENV || {};                                    if (document.getElementById(\"44514526-9d93-4be0-93d7-3dbb4e93fc55\")) {                    Plotly.newPlot(                        \"44514526-9d93-4be0-93d7-3dbb4e93fc55\",                        [{\"coloraxis\": \"coloraxis\", \"hovertemplate\": \"x: %{x}<br>y: %{y}<br>color: %{z}<extra></extra>\", \"name\": \"0\", \"type\": \"heatmap\", \"xaxis\": \"x\", \"yaxis\": \"y\", \"z\": [[0.0, 0.1492, 0.0448, 0.5272, 0.0448, 0.0456, 0.4328, 0.387, 0.1488, 0.387, 0.3336, 0.1836, 0.6592, 0.617, 0.192, 0.3454], [0.1492, 0.0, 0.1908, 0.3948, 0.1908, 0.1908, 0.2884, 0.2466, 0.0004, 0.2466, 0.1908, 0.0368, 0.6596, 0.4862, 0.3316, 0.2042], [0.0448, 0.1908, 0.0, 0.4832, 0.0, 0.0016, 0.4752, 0.4242, 0.1904, 0.4242, 0.2896, 0.2252, 0.6144, 0.6086, 0.1472, 0.3834], [0.5272, 0.3948, 0.4832, 0.0, 0.4832, 0.4824, 0.5416, 0.4242, 0.3944, 0.4242, 0.3592, 0.3596, 0.2672, 0.305, 0.608, 0.385], [0.0448, 0.1908, 0.0, 0.4832, 0.0, 0.0016, 0.4752, 0.4242, 0.1904, 0.4242, 0.2896, 0.2252, 0.6144, 0.6086, 0.1472, 0.3834], [0.0456, 0.1908, 0.0016, 0.4824, 0.0016, 0.0, 0.476, 0.4242, 0.1912, 0.4242, 0.288, 0.226, 0.616, 0.6094, 0.1488, 0.3834], [0.4328, 0.2884, 0.4752, 0.5416, 0.4752, 0.476, 0.0, 0.3838, 0.288, 0.3838, 0.4056, 0.3212, 0.8064, 0.5214, 0.6128, 0.379], [0.387, 0.2466, 0.4242, 0.4242, 0.4242, 0.4242, 0.3838, 0.0, 0.2462, 0.0, 0.1394, 0.2098, 0.6778, 0.302, 0.557, 0.0428], [0.1488, 0.0004, 0.1904, 0.3944, 0.1904, 0.1912, 0.288, 0.2462, 0.0, 0.2462, 0.1912, 0.0364, 0.6592, 0.4866, 0.3312, 0.2046], [0.387, 0.2466, 0.4242, 0.4242, 0.4242, 0.4242, 0.3838, 0.0, 0.2462, 0.0, 0.1394, 0.2098, 0.6778, 0.302, 0.557, 0.0428], [0.3336, 0.1908, 0.2896, 0.3592, 0.2896, 0.288, 0.4056, 0.1394, 0.1912, 0.1394, 0.0, 0.2276, 0.6128, 0.3454, 0.424, 0.0986], [0.1836, 0.0368, 0.2252, 0.3596, 0.2252, 0.226, 0.3212, 0.2098, 0.0364, 0.2098, 0.2276, 0.0, 0.6244, 0.4518, 0.3644, 0.1682], [0.6592, 0.6596, 0.6144, 0.2672, 0.6144, 0.616, 0.8064, 0.6778, 0.6592, 0.6778, 0.6128, 0.6244, 0.0, 0.5434, 0.6064, 0.637], [0.617, 0.4862, 0.6086, 0.305, 0.6086, 0.6094, 0.5214, 0.302, 0.4866, 0.302, 0.3454, 0.4518, 0.5434, 0.0, 0.731, 0.2968], [0.192, 0.3316, 0.1472, 0.608, 0.1472, 0.1488, 0.6128, 0.557, 0.3312, 0.557, 0.424, 0.3644, 0.6064, 0.731, 0.0, 0.5162], [0.3454, 0.2042, 0.3834, 0.385, 0.3834, 0.3834, 0.379, 0.0428, 0.2046, 0.0428, 0.0986, 0.1682, 0.637, 0.2968, 0.5162, 0.0]]}],                        {\"coloraxis\": {\"colorscale\": [[0.0, \"#0d0887\"], [0.1111111111111111, \"#46039f\"], [0.2222222222222222, \"#7201a8\"], [0.3333333333333333, \"#9c179e\"], [0.4444444444444444, \"#bd3786\"], [0.5555555555555556, \"#d8576b\"], [0.6666666666666666, \"#ed7953\"], [0.7777777777777778, \"#fb9f3a\"], [0.8888888888888888, \"#fdca26\"], [1.0, \"#f0f921\"]]}, \"margin\": {\"t\": 60}, \"template\": {\"data\": {\"bar\": [{\"error_x\": {\"color\": \"#2a3f5f\"}, \"error_y\": {\"color\": \"#2a3f5f\"}, \"marker\": {\"line\": {\"color\": \"#E5ECF6\", \"width\": 0.5}}, \"type\": \"bar\"}], \"barpolar\": [{\"marker\": {\"line\": {\"color\": \"#E5ECF6\", \"width\": 0.5}}, \"type\": \"barpolar\"}], \"carpet\": [{\"aaxis\": {\"endlinecolor\": \"#2a3f5f\", \"gridcolor\": \"white\", \"linecolor\": \"white\", \"minorgridcolor\": \"white\", \"startlinecolor\": \"#2a3f5f\"}, \"baxis\": {\"endlinecolor\": \"#2a3f5f\", \"gridcolor\": \"white\", \"linecolor\": \"white\", \"minorgridcolor\": \"white\", \"startlinecolor\": \"#2a3f5f\"}, \"type\": \"carpet\"}], \"choropleth\": [{\"colorbar\": {\"outlinewidth\": 0, \"ticks\": \"\"}, \"type\": \"choropleth\"}], \"contour\": [{\"colorbar\": {\"outlinewidth\": 0, \"ticks\": \"\"}, \"colorscale\": [[0.0, \"#0d0887\"], [0.1111111111111111, \"#46039f\"], [0.2222222222222222, \"#7201a8\"], [0.3333333333333333, \"#9c179e\"], [0.4444444444444444, \"#bd3786\"], [0.5555555555555556, \"#d8576b\"], [0.6666666666666666, \"#ed7953\"], [0.7777777777777778, \"#fb9f3a\"], [0.8888888888888888, \"#fdca26\"], [1.0, \"#f0f921\"]], \"type\": \"contour\"}], \"contourcarpet\": [{\"colorbar\": {\"outlinewidth\": 0, \"ticks\": \"\"}, \"type\": \"contourcarpet\"}], \"heatmap\": [{\"colorbar\": {\"outlinewidth\": 0, \"ticks\": \"\"}, \"colorscale\": [[0.0, \"#0d0887\"], [0.1111111111111111, \"#46039f\"], [0.2222222222222222, \"#7201a8\"], [0.3333333333333333, \"#9c179e\"], [0.4444444444444444, \"#bd3786\"], [0.5555555555555556, \"#d8576b\"], [0.6666666666666666, \"#ed7953\"], [0.7777777777777778, \"#fb9f3a\"], [0.8888888888888888, \"#fdca26\"], [1.0, \"#f0f921\"]], \"type\": \"heatmap\"}], \"heatmapgl\": [{\"colorbar\": {\"outlinewidth\": 0, \"ticks\": \"\"}, \"colorscale\": [[0.0, \"#0d0887\"], [0.1111111111111111, \"#46039f\"], [0.2222222222222222, \"#7201a8\"], [0.3333333333333333, \"#9c179e\"], [0.4444444444444444, \"#bd3786\"], [0.5555555555555556, \"#d8576b\"], [0.6666666666666666, \"#ed7953\"], [0.7777777777777778, \"#fb9f3a\"], [0.8888888888888888, \"#fdca26\"], [1.0, \"#f0f921\"]], \"type\": \"heatmapgl\"}], \"histogram\": [{\"marker\": {\"colorbar\": {\"outlinewidth\": 0, \"ticks\": \"\"}}, \"type\": \"histogram\"}], \"histogram2d\": [{\"colorbar\": {\"outlinewidth\": 0, \"ticks\": \"\"}, \"colorscale\": [[0.0, \"#0d0887\"], [0.1111111111111111, \"#46039f\"], [0.2222222222222222, \"#7201a8\"], [0.3333333333333333, \"#9c179e\"], [0.4444444444444444, \"#bd3786\"], [0.5555555555555556, \"#d8576b\"], [0.6666666666666666, \"#ed7953\"], [0.7777777777777778, \"#fb9f3a\"], [0.8888888888888888, \"#fdca26\"], [1.0, \"#f0f921\"]], \"type\": \"histogram2d\"}], \"histogram2dcontour\": [{\"colorbar\": {\"outlinewidth\": 0, \"ticks\": \"\"}, \"colorscale\": [[0.0, \"#0d0887\"], [0.1111111111111111, \"#46039f\"], [0.2222222222222222, \"#7201a8\"], [0.3333333333333333, \"#9c179e\"], [0.4444444444444444, \"#bd3786\"], [0.5555555555555556, \"#d8576b\"], [0.6666666666666666, \"#ed7953\"], [0.7777777777777778, \"#fb9f3a\"], [0.8888888888888888, \"#fdca26\"], [1.0, \"#f0f921\"]], \"type\": \"histogram2dcontour\"}], \"mesh3d\": [{\"colorbar\": {\"outlinewidth\": 0, \"ticks\": \"\"}, \"type\": \"mesh3d\"}], \"parcoords\": [{\"line\": {\"colorbar\": {\"outlinewidth\": 0, \"ticks\": \"\"}}, \"type\": \"parcoords\"}], \"pie\": [{\"automargin\": true, \"type\": \"pie\"}], \"scatter\": [{\"marker\": {\"colorbar\": {\"outlinewidth\": 0, \"ticks\": \"\"}}, \"type\": \"scatter\"}], \"scatter3d\": [{\"line\": {\"colorbar\": {\"outlinewidth\": 0, \"ticks\": \"\"}}, \"marker\": {\"colorbar\": {\"outlinewidth\": 0, \"ticks\": \"\"}}, \"type\": \"scatter3d\"}], \"scattercarpet\": [{\"marker\": {\"colorbar\": {\"outlinewidth\": 0, \"ticks\": \"\"}}, \"type\": \"scattercarpet\"}], \"scattergeo\": [{\"marker\": {\"colorbar\": {\"outlinewidth\": 0, \"ticks\": \"\"}}, \"type\": \"scattergeo\"}], \"scattergl\": [{\"marker\": {\"colorbar\": {\"outlinewidth\": 0, \"ticks\": \"\"}}, \"type\": \"scattergl\"}], \"scattermapbox\": [{\"marker\": {\"colorbar\": {\"outlinewidth\": 0, \"ticks\": \"\"}}, \"type\": \"scattermapbox\"}], \"scatterpolar\": [{\"marker\": {\"colorbar\": {\"outlinewidth\": 0, \"ticks\": \"\"}}, \"type\": \"scatterpolar\"}], \"scatterpolargl\": [{\"marker\": {\"colorbar\": {\"outlinewidth\": 0, \"ticks\": \"\"}}, \"type\": \"scatterpolargl\"}], \"scatterternary\": [{\"marker\": {\"colorbar\": {\"outlinewidth\": 0, \"ticks\": \"\"}}, \"type\": \"scatterternary\"}], \"surface\": [{\"colorbar\": {\"outlinewidth\": 0, \"ticks\": \"\"}, \"colorscale\": [[0.0, \"#0d0887\"], [0.1111111111111111, \"#46039f\"], [0.2222222222222222, \"#7201a8\"], [0.3333333333333333, \"#9c179e\"], [0.4444444444444444, \"#bd3786\"], [0.5555555555555556, \"#d8576b\"], [0.6666666666666666, \"#ed7953\"], [0.7777777777777778, \"#fb9f3a\"], [0.8888888888888888, \"#fdca26\"], [1.0, \"#f0f921\"]], \"type\": \"surface\"}], \"table\": [{\"cells\": {\"fill\": {\"color\": \"#EBF0F8\"}, \"line\": {\"color\": \"white\"}}, \"header\": {\"fill\": {\"color\": \"#C8D4E3\"}, \"line\": {\"color\": \"white\"}}, \"type\": \"table\"}]}, \"layout\": {\"annotationdefaults\": {\"arrowcolor\": \"#2a3f5f\", \"arrowhead\": 0, \"arrowwidth\": 1}, \"autotypenumbers\": \"strict\", \"coloraxis\": {\"colorbar\": {\"outlinewidth\": 0, \"ticks\": \"\"}}, \"colorscale\": {\"diverging\": [[0, \"#8e0152\"], [0.1, \"#c51b7d\"], [0.2, \"#de77ae\"], [0.3, \"#f1b6da\"], [0.4, \"#fde0ef\"], [0.5, \"#f7f7f7\"], [0.6, \"#e6f5d0\"], [0.7, \"#b8e186\"], [0.8, \"#7fbc41\"], [0.9, \"#4d9221\"], [1, \"#276419\"]], \"sequential\": [[0.0, \"#0d0887\"], [0.1111111111111111, \"#46039f\"], [0.2222222222222222, \"#7201a8\"], [0.3333333333333333, \"#9c179e\"], [0.4444444444444444, \"#bd3786\"], [0.5555555555555556, \"#d8576b\"], [0.6666666666666666, \"#ed7953\"], [0.7777777777777778, \"#fb9f3a\"], [0.8888888888888888, \"#fdca26\"], [1.0, \"#f0f921\"]], \"sequentialminus\": [[0.0, \"#0d0887\"], [0.1111111111111111, \"#46039f\"], [0.2222222222222222, \"#7201a8\"], [0.3333333333333333, \"#9c179e\"], [0.4444444444444444, \"#bd3786\"], [0.5555555555555556, \"#d8576b\"], [0.6666666666666666, \"#ed7953\"], [0.7777777777777778, \"#fb9f3a\"], [0.8888888888888888, \"#fdca26\"], [1.0, \"#f0f921\"]]}, \"colorway\": [\"#636efa\", \"#EF553B\", \"#00cc96\", \"#ab63fa\", \"#FFA15A\", \"#19d3f3\", \"#FF6692\", \"#B6E880\", \"#FF97FF\", \"#FECB52\"], \"font\": {\"color\": \"#2a3f5f\"}, \"geo\": {\"bgcolor\": \"white\", \"lakecolor\": \"white\", \"landcolor\": \"#E5ECF6\", \"showlakes\": true, \"showland\": true, \"subunitcolor\": \"white\"}, \"hoverlabel\": {\"align\": \"left\"}, \"hovermode\": \"closest\", \"mapbox\": {\"style\": \"light\"}, \"paper_bgcolor\": \"white\", \"plot_bgcolor\": \"#E5ECF6\", \"polar\": {\"angularaxis\": {\"gridcolor\": \"white\", \"linecolor\": \"white\", \"ticks\": \"\"}, \"bgcolor\": \"#E5ECF6\", \"radialaxis\": {\"gridcolor\": \"white\", \"linecolor\": \"white\", \"ticks\": \"\"}}, \"scene\": {\"xaxis\": {\"backgroundcolor\": \"#E5ECF6\", \"gridcolor\": \"white\", \"gridwidth\": 2, \"linecolor\": \"white\", \"showbackground\": true, \"ticks\": \"\", \"zerolinecolor\": \"white\"}, \"yaxis\": {\"backgroundcolor\": \"#E5ECF6\", \"gridcolor\": \"white\", \"gridwidth\": 2, \"linecolor\": \"white\", \"showbackground\": true, \"ticks\": \"\", \"zerolinecolor\": \"white\"}, \"zaxis\": {\"backgroundcolor\": \"#E5ECF6\", \"gridcolor\": \"white\", \"gridwidth\": 2, \"linecolor\": \"white\", \"showbackground\": true, \"ticks\": \"\", \"zerolinecolor\": \"white\"}}, \"shapedefaults\": {\"line\": {\"color\": \"#2a3f5f\"}}, \"ternary\": {\"aaxis\": {\"gridcolor\": \"white\", \"linecolor\": \"white\", \"ticks\": \"\"}, \"baxis\": {\"gridcolor\": \"white\", \"linecolor\": \"white\", \"ticks\": \"\"}, \"bgcolor\": \"#E5ECF6\", \"caxis\": {\"gridcolor\": \"white\", \"linecolor\": \"white\", \"ticks\": \"\"}}, \"title\": {\"x\": 0.05}, \"xaxis\": {\"automargin\": true, \"gridcolor\": \"white\", \"linecolor\": \"white\", \"ticks\": \"\", \"title\": {\"standoff\": 15}, \"zerolinecolor\": \"white\", \"zerolinewidth\": 2}, \"yaxis\": {\"automargin\": true, \"gridcolor\": \"white\", \"linecolor\": \"white\", \"ticks\": \"\", \"title\": {\"standoff\": 15}, \"zerolinecolor\": \"white\", \"zerolinewidth\": 2}}}, \"xaxis\": {\"anchor\": \"y\", \"constrain\": \"domain\", \"domain\": [0.0, 1.0], \"scaleanchor\": \"y\"}, \"yaxis\": {\"anchor\": \"x\", \"autorange\": \"reversed\", \"constrain\": \"domain\", \"domain\": [0.0, 1.0]}},                        {\"responsive\": true}                    ).then(function(){\n",
       "                            \n",
       "var gd = document.getElementById('44514526-9d93-4be0-93d7-3dbb4e93fc55');\n",
       "var x = new MutationObserver(function (mutations, observer) {{\n",
       "        var display = window.getComputedStyle(gd).display;\n",
       "        if (!display || display === 'none') {{\n",
       "            console.log([gd, 'removed!']);\n",
       "            Plotly.purge(gd);\n",
       "            observer.disconnect();\n",
       "        }}\n",
       "}});\n",
       "\n",
       "// Listen for the removal of the full notebook cells\n",
       "var notebookContainer = gd.closest('#notebook-container');\n",
       "if (notebookContainer) {{\n",
       "    x.observe(notebookContainer, {childList: true});\n",
       "}}\n",
       "\n",
       "// Listen for the clearing of the current output cell\n",
       "var outputEl = gd.closest('.output');\n",
       "if (outputEl) {{\n",
       "    x.observe(outputEl, {childList: true});\n",
       "}}\n",
       "\n",
       "                        })                };                });            </script>        </div>"
      ]
     },
     "metadata": {},
     "output_type": "display_data"
    }
   ],
   "source": [
    "px.imshow(S)"
   ]
  },
  {
   "cell_type": "code",
   "execution_count": 116,
   "id": "color-reception",
   "metadata": {},
   "outputs": [
    {
     "data": {
      "application/vnd.plotly.v1+json": {
       "config": {
        "plotlyServerURL": "https://plot.ly"
       },
       "data": [
        {
         "coloraxis": "coloraxis",
         "hovertemplate": "x: %{x}<br>y: %{y}<br>color: %{z}<extra></extra>",
         "name": "0",
         "type": "heatmap",
         "xaxis": "x",
         "yaxis": "y",
         "z": [
          [
           0,
           0.13676,
           0.051296,
           0.689792,
           0.050584,
           0.051092,
           0.33585,
           0.37176,
           0.136916,
           0.37176,
           0.286328,
           0.28026,
           0.832092,
           0.759236,
           0.236388,
           0.375976
          ],
          [
           0.13676,
           0,
           0.183056,
           0.684936,
           0.182712,
           0.182764,
           0.20701,
           0.330176,
           0.000668,
           0.330176,
           0.271616,
           0.341556,
           0.847204,
           0.685828,
           0.348044,
           0.334408
          ],
          [
           0.051296,
           0.183056,
           0,
           0.639376,
           0.000768,
           0.002324,
           0.382486,
           0.413104,
           0.18282,
           0.413104,
           0.296656,
           0.328292,
           0.782236,
           0.747284,
           0.18614,
           0.417448
          ],
          [
           0.689792,
           0.684936,
           0.639376,
           0,
           0.64004,
           0.640628,
           0.759342,
           0.655128,
           0.685068,
           0.655128,
           0.633536,
           0.456796,
           0.310708,
           0.353936,
           0.76346,
           0.65948
          ],
          [
           0.050584,
           0.182712,
           0.000768,
           0.64004,
           0,
           0.001636,
           0.382142,
           0.413008,
           0.182476,
           0.413008,
           0.296584,
           0.328164,
           0.781548,
           0.747948,
           0.186852,
           0.417352
          ],
          [
           0.051092,
           0.182764,
           0.002324,
           0.640628,
           0.001636,
           0,
           0.383074,
           0.413788,
           0.183432,
           0.413788,
           0.296292,
           0.328456,
           0.783088,
           0.748384,
           0.187016,
           0.41778
          ],
          [
           0.33585,
           0.20701,
           0.382486,
           0.759342,
           0.382142,
           0.383074,
           0,
           0.394822,
           0.206342,
           0.394822,
           0.388558,
           0.502918,
           0.911454,
           0.624838,
           0.54615,
           0.39537
          ],
          [
           0.37176,
           0.330176,
           0.413104,
           0.655128,
           0.413008,
           0.413788,
           0.394822,
           0,
           0.330204,
           0,
           0.157512,
           0.354628,
           0.82794,
           0.514716,
           0.575148,
           0.013248
          ],
          [
           0.136916,
           0.000668,
           0.18282,
           0.685068,
           0.182476,
           0.183432,
           0.206342,
           0.330204,
           0,
           0.330204,
           0.271876,
           0.341872,
           0.846968,
           0.685672,
           0.34756,
           0.33442
          ],
          [
           0.37176,
           0.330176,
           0.413104,
           0.655128,
           0.413008,
           0.413788,
           0.394822,
           0,
           0.330204,
           0,
           0.157512,
           0.354628,
           0.82794,
           0.514716,
           0.575148,
           0.013248
          ],
          [
           0.286328,
           0.271616,
           0.296656,
           0.633536,
           0.296584,
           0.296292,
           0.388558,
           0.157512,
           0.271876,
           0.157512,
           0,
           0.321308,
           0.81718,
           0.583068,
           0.46882,
           0.145016
          ],
          [
           0.28026,
           0.341556,
           0.328292,
           0.456796,
           0.328164,
           0.328456,
           0.502918,
           0.354628,
           0.341872,
           0.354628,
           0.321308,
           0,
           0.69628,
           0.511436,
           0.48536,
           0.358796
          ],
          [
           0.832092,
           0.847204,
           0.782236,
           0.310708,
           0.781548,
           0.783088,
           0.911454,
           0.82794,
           0.846968,
           0.82794,
           0.81718,
           0.69628,
           0,
           0.59586,
           0.765944,
           0.832284
          ],
          [
           0.759236,
           0.685828,
           0.747284,
           0.353936,
           0.747948,
           0.748384,
           0.624838,
           0.514716,
           0.685672,
           0.514716,
           0.583068,
           0.511436,
           0.59586,
           0,
           0.87506,
           0.515204
          ],
          [
           0.236388,
           0.348044,
           0.18614,
           0.76346,
           0.186852,
           0.187016,
           0.54615,
           0.575148,
           0.34756,
           0.575148,
           0.46882,
           0.48536,
           0.765944,
           0.87506,
           0,
           0.579228
          ],
          [
           0.375976,
           0.334408,
           0.417448,
           0.65948,
           0.417352,
           0.41778,
           0.39537,
           0.013248,
           0.33442,
           0.013248,
           0.145016,
           0.358796,
           0.832284,
           0.515204,
           0.579228,
           0
          ]
         ]
        }
       ],
       "layout": {
        "coloraxis": {
         "colorscale": [
          [
           0,
           "#0d0887"
          ],
          [
           0.1111111111111111,
           "#46039f"
          ],
          [
           0.2222222222222222,
           "#7201a8"
          ],
          [
           0.3333333333333333,
           "#9c179e"
          ],
          [
           0.4444444444444444,
           "#bd3786"
          ],
          [
           0.5555555555555556,
           "#d8576b"
          ],
          [
           0.6666666666666666,
           "#ed7953"
          ],
          [
           0.7777777777777778,
           "#fb9f3a"
          ],
          [
           0.8888888888888888,
           "#fdca26"
          ],
          [
           1,
           "#f0f921"
          ]
         ]
        },
        "margin": {
         "t": 60
        },
        "template": {
         "data": {
          "bar": [
           {
            "error_x": {
             "color": "#2a3f5f"
            },
            "error_y": {
             "color": "#2a3f5f"
            },
            "marker": {
             "line": {
              "color": "#E5ECF6",
              "width": 0.5
             }
            },
            "type": "bar"
           }
          ],
          "barpolar": [
           {
            "marker": {
             "line": {
              "color": "#E5ECF6",
              "width": 0.5
             }
            },
            "type": "barpolar"
           }
          ],
          "carpet": [
           {
            "aaxis": {
             "endlinecolor": "#2a3f5f",
             "gridcolor": "white",
             "linecolor": "white",
             "minorgridcolor": "white",
             "startlinecolor": "#2a3f5f"
            },
            "baxis": {
             "endlinecolor": "#2a3f5f",
             "gridcolor": "white",
             "linecolor": "white",
             "minorgridcolor": "white",
             "startlinecolor": "#2a3f5f"
            },
            "type": "carpet"
           }
          ],
          "choropleth": [
           {
            "colorbar": {
             "outlinewidth": 0,
             "ticks": ""
            },
            "type": "choropleth"
           }
          ],
          "contour": [
           {
            "colorbar": {
             "outlinewidth": 0,
             "ticks": ""
            },
            "colorscale": [
             [
              0,
              "#0d0887"
             ],
             [
              0.1111111111111111,
              "#46039f"
             ],
             [
              0.2222222222222222,
              "#7201a8"
             ],
             [
              0.3333333333333333,
              "#9c179e"
             ],
             [
              0.4444444444444444,
              "#bd3786"
             ],
             [
              0.5555555555555556,
              "#d8576b"
             ],
             [
              0.6666666666666666,
              "#ed7953"
             ],
             [
              0.7777777777777778,
              "#fb9f3a"
             ],
             [
              0.8888888888888888,
              "#fdca26"
             ],
             [
              1,
              "#f0f921"
             ]
            ],
            "type": "contour"
           }
          ],
          "contourcarpet": [
           {
            "colorbar": {
             "outlinewidth": 0,
             "ticks": ""
            },
            "type": "contourcarpet"
           }
          ],
          "heatmap": [
           {
            "colorbar": {
             "outlinewidth": 0,
             "ticks": ""
            },
            "colorscale": [
             [
              0,
              "#0d0887"
             ],
             [
              0.1111111111111111,
              "#46039f"
             ],
             [
              0.2222222222222222,
              "#7201a8"
             ],
             [
              0.3333333333333333,
              "#9c179e"
             ],
             [
              0.4444444444444444,
              "#bd3786"
             ],
             [
              0.5555555555555556,
              "#d8576b"
             ],
             [
              0.6666666666666666,
              "#ed7953"
             ],
             [
              0.7777777777777778,
              "#fb9f3a"
             ],
             [
              0.8888888888888888,
              "#fdca26"
             ],
             [
              1,
              "#f0f921"
             ]
            ],
            "type": "heatmap"
           }
          ],
          "heatmapgl": [
           {
            "colorbar": {
             "outlinewidth": 0,
             "ticks": ""
            },
            "colorscale": [
             [
              0,
              "#0d0887"
             ],
             [
              0.1111111111111111,
              "#46039f"
             ],
             [
              0.2222222222222222,
              "#7201a8"
             ],
             [
              0.3333333333333333,
              "#9c179e"
             ],
             [
              0.4444444444444444,
              "#bd3786"
             ],
             [
              0.5555555555555556,
              "#d8576b"
             ],
             [
              0.6666666666666666,
              "#ed7953"
             ],
             [
              0.7777777777777778,
              "#fb9f3a"
             ],
             [
              0.8888888888888888,
              "#fdca26"
             ],
             [
              1,
              "#f0f921"
             ]
            ],
            "type": "heatmapgl"
           }
          ],
          "histogram": [
           {
            "marker": {
             "colorbar": {
              "outlinewidth": 0,
              "ticks": ""
             }
            },
            "type": "histogram"
           }
          ],
          "histogram2d": [
           {
            "colorbar": {
             "outlinewidth": 0,
             "ticks": ""
            },
            "colorscale": [
             [
              0,
              "#0d0887"
             ],
             [
              0.1111111111111111,
              "#46039f"
             ],
             [
              0.2222222222222222,
              "#7201a8"
             ],
             [
              0.3333333333333333,
              "#9c179e"
             ],
             [
              0.4444444444444444,
              "#bd3786"
             ],
             [
              0.5555555555555556,
              "#d8576b"
             ],
             [
              0.6666666666666666,
              "#ed7953"
             ],
             [
              0.7777777777777778,
              "#fb9f3a"
             ],
             [
              0.8888888888888888,
              "#fdca26"
             ],
             [
              1,
              "#f0f921"
             ]
            ],
            "type": "histogram2d"
           }
          ],
          "histogram2dcontour": [
           {
            "colorbar": {
             "outlinewidth": 0,
             "ticks": ""
            },
            "colorscale": [
             [
              0,
              "#0d0887"
             ],
             [
              0.1111111111111111,
              "#46039f"
             ],
             [
              0.2222222222222222,
              "#7201a8"
             ],
             [
              0.3333333333333333,
              "#9c179e"
             ],
             [
              0.4444444444444444,
              "#bd3786"
             ],
             [
              0.5555555555555556,
              "#d8576b"
             ],
             [
              0.6666666666666666,
              "#ed7953"
             ],
             [
              0.7777777777777778,
              "#fb9f3a"
             ],
             [
              0.8888888888888888,
              "#fdca26"
             ],
             [
              1,
              "#f0f921"
             ]
            ],
            "type": "histogram2dcontour"
           }
          ],
          "mesh3d": [
           {
            "colorbar": {
             "outlinewidth": 0,
             "ticks": ""
            },
            "type": "mesh3d"
           }
          ],
          "parcoords": [
           {
            "line": {
             "colorbar": {
              "outlinewidth": 0,
              "ticks": ""
             }
            },
            "type": "parcoords"
           }
          ],
          "pie": [
           {
            "automargin": true,
            "type": "pie"
           }
          ],
          "scatter": [
           {
            "marker": {
             "colorbar": {
              "outlinewidth": 0,
              "ticks": ""
             }
            },
            "type": "scatter"
           }
          ],
          "scatter3d": [
           {
            "line": {
             "colorbar": {
              "outlinewidth": 0,
              "ticks": ""
             }
            },
            "marker": {
             "colorbar": {
              "outlinewidth": 0,
              "ticks": ""
             }
            },
            "type": "scatter3d"
           }
          ],
          "scattercarpet": [
           {
            "marker": {
             "colorbar": {
              "outlinewidth": 0,
              "ticks": ""
             }
            },
            "type": "scattercarpet"
           }
          ],
          "scattergeo": [
           {
            "marker": {
             "colorbar": {
              "outlinewidth": 0,
              "ticks": ""
             }
            },
            "type": "scattergeo"
           }
          ],
          "scattergl": [
           {
            "marker": {
             "colorbar": {
              "outlinewidth": 0,
              "ticks": ""
             }
            },
            "type": "scattergl"
           }
          ],
          "scattermapbox": [
           {
            "marker": {
             "colorbar": {
              "outlinewidth": 0,
              "ticks": ""
             }
            },
            "type": "scattermapbox"
           }
          ],
          "scatterpolar": [
           {
            "marker": {
             "colorbar": {
              "outlinewidth": 0,
              "ticks": ""
             }
            },
            "type": "scatterpolar"
           }
          ],
          "scatterpolargl": [
           {
            "marker": {
             "colorbar": {
              "outlinewidth": 0,
              "ticks": ""
             }
            },
            "type": "scatterpolargl"
           }
          ],
          "scatterternary": [
           {
            "marker": {
             "colorbar": {
              "outlinewidth": 0,
              "ticks": ""
             }
            },
            "type": "scatterternary"
           }
          ],
          "surface": [
           {
            "colorbar": {
             "outlinewidth": 0,
             "ticks": ""
            },
            "colorscale": [
             [
              0,
              "#0d0887"
             ],
             [
              0.1111111111111111,
              "#46039f"
             ],
             [
              0.2222222222222222,
              "#7201a8"
             ],
             [
              0.3333333333333333,
              "#9c179e"
             ],
             [
              0.4444444444444444,
              "#bd3786"
             ],
             [
              0.5555555555555556,
              "#d8576b"
             ],
             [
              0.6666666666666666,
              "#ed7953"
             ],
             [
              0.7777777777777778,
              "#fb9f3a"
             ],
             [
              0.8888888888888888,
              "#fdca26"
             ],
             [
              1,
              "#f0f921"
             ]
            ],
            "type": "surface"
           }
          ],
          "table": [
           {
            "cells": {
             "fill": {
              "color": "#EBF0F8"
             },
             "line": {
              "color": "white"
             }
            },
            "header": {
             "fill": {
              "color": "#C8D4E3"
             },
             "line": {
              "color": "white"
             }
            },
            "type": "table"
           }
          ]
         },
         "layout": {
          "annotationdefaults": {
           "arrowcolor": "#2a3f5f",
           "arrowhead": 0,
           "arrowwidth": 1
          },
          "autotypenumbers": "strict",
          "coloraxis": {
           "colorbar": {
            "outlinewidth": 0,
            "ticks": ""
           }
          },
          "colorscale": {
           "diverging": [
            [
             0,
             "#8e0152"
            ],
            [
             0.1,
             "#c51b7d"
            ],
            [
             0.2,
             "#de77ae"
            ],
            [
             0.3,
             "#f1b6da"
            ],
            [
             0.4,
             "#fde0ef"
            ],
            [
             0.5,
             "#f7f7f7"
            ],
            [
             0.6,
             "#e6f5d0"
            ],
            [
             0.7,
             "#b8e186"
            ],
            [
             0.8,
             "#7fbc41"
            ],
            [
             0.9,
             "#4d9221"
            ],
            [
             1,
             "#276419"
            ]
           ],
           "sequential": [
            [
             0,
             "#0d0887"
            ],
            [
             0.1111111111111111,
             "#46039f"
            ],
            [
             0.2222222222222222,
             "#7201a8"
            ],
            [
             0.3333333333333333,
             "#9c179e"
            ],
            [
             0.4444444444444444,
             "#bd3786"
            ],
            [
             0.5555555555555556,
             "#d8576b"
            ],
            [
             0.6666666666666666,
             "#ed7953"
            ],
            [
             0.7777777777777778,
             "#fb9f3a"
            ],
            [
             0.8888888888888888,
             "#fdca26"
            ],
            [
             1,
             "#f0f921"
            ]
           ],
           "sequentialminus": [
            [
             0,
             "#0d0887"
            ],
            [
             0.1111111111111111,
             "#46039f"
            ],
            [
             0.2222222222222222,
             "#7201a8"
            ],
            [
             0.3333333333333333,
             "#9c179e"
            ],
            [
             0.4444444444444444,
             "#bd3786"
            ],
            [
             0.5555555555555556,
             "#d8576b"
            ],
            [
             0.6666666666666666,
             "#ed7953"
            ],
            [
             0.7777777777777778,
             "#fb9f3a"
            ],
            [
             0.8888888888888888,
             "#fdca26"
            ],
            [
             1,
             "#f0f921"
            ]
           ]
          },
          "colorway": [
           "#636efa",
           "#EF553B",
           "#00cc96",
           "#ab63fa",
           "#FFA15A",
           "#19d3f3",
           "#FF6692",
           "#B6E880",
           "#FF97FF",
           "#FECB52"
          ],
          "font": {
           "color": "#2a3f5f"
          },
          "geo": {
           "bgcolor": "white",
           "lakecolor": "white",
           "landcolor": "#E5ECF6",
           "showlakes": true,
           "showland": true,
           "subunitcolor": "white"
          },
          "hoverlabel": {
           "align": "left"
          },
          "hovermode": "closest",
          "mapbox": {
           "style": "light"
          },
          "paper_bgcolor": "white",
          "plot_bgcolor": "#E5ECF6",
          "polar": {
           "angularaxis": {
            "gridcolor": "white",
            "linecolor": "white",
            "ticks": ""
           },
           "bgcolor": "#E5ECF6",
           "radialaxis": {
            "gridcolor": "white",
            "linecolor": "white",
            "ticks": ""
           }
          },
          "scene": {
           "xaxis": {
            "backgroundcolor": "#E5ECF6",
            "gridcolor": "white",
            "gridwidth": 2,
            "linecolor": "white",
            "showbackground": true,
            "ticks": "",
            "zerolinecolor": "white"
           },
           "yaxis": {
            "backgroundcolor": "#E5ECF6",
            "gridcolor": "white",
            "gridwidth": 2,
            "linecolor": "white",
            "showbackground": true,
            "ticks": "",
            "zerolinecolor": "white"
           },
           "zaxis": {
            "backgroundcolor": "#E5ECF6",
            "gridcolor": "white",
            "gridwidth": 2,
            "linecolor": "white",
            "showbackground": true,
            "ticks": "",
            "zerolinecolor": "white"
           }
          },
          "shapedefaults": {
           "line": {
            "color": "#2a3f5f"
           }
          },
          "ternary": {
           "aaxis": {
            "gridcolor": "white",
            "linecolor": "white",
            "ticks": ""
           },
           "baxis": {
            "gridcolor": "white",
            "linecolor": "white",
            "ticks": ""
           },
           "bgcolor": "#E5ECF6",
           "caxis": {
            "gridcolor": "white",
            "linecolor": "white",
            "ticks": ""
           }
          },
          "title": {
           "x": 0.05
          },
          "xaxis": {
           "automargin": true,
           "gridcolor": "white",
           "linecolor": "white",
           "ticks": "",
           "title": {
            "standoff": 15
           },
           "zerolinecolor": "white",
           "zerolinewidth": 2
          },
          "yaxis": {
           "automargin": true,
           "gridcolor": "white",
           "linecolor": "white",
           "ticks": "",
           "title": {
            "standoff": 15
           },
           "zerolinecolor": "white",
           "zerolinewidth": 2
          }
         }
        },
        "xaxis": {
         "anchor": "y",
         "constrain": "domain",
         "domain": [
          0,
          1
         ],
         "scaleanchor": "y"
        },
        "yaxis": {
         "anchor": "x",
         "autorange": "reversed",
         "constrain": "domain",
         "domain": [
          0,
          1
         ]
        }
       }
      },
      "text/html": [
       "<div>                            <div id=\"8874fd9a-2f78-4cb2-941e-ee9a5facaac7\" class=\"plotly-graph-div\" style=\"height:525px; width:100%;\"></div>            <script type=\"text/javascript\">                require([\"plotly\"], function(Plotly) {                    window.PLOTLYENV=window.PLOTLYENV || {};                                    if (document.getElementById(\"8874fd9a-2f78-4cb2-941e-ee9a5facaac7\")) {                    Plotly.newPlot(                        \"8874fd9a-2f78-4cb2-941e-ee9a5facaac7\",                        [{\"coloraxis\": \"coloraxis\", \"hovertemplate\": \"x: %{x}<br>y: %{y}<br>color: %{z}<extra></extra>\", \"name\": \"0\", \"type\": \"heatmap\", \"xaxis\": \"x\", \"yaxis\": \"y\", \"z\": [[0.0, 0.13676, 0.051296, 0.689792, 0.050584, 0.051092, 0.33585, 0.37176, 0.136916, 0.37176, 0.286328, 0.28026, 0.832092, 0.759236, 0.236388, 0.375976], [0.13676, 0.0, 0.183056, 0.684936, 0.182712, 0.182764, 0.20701, 0.330176, 0.000668, 0.330176, 0.271616, 0.341556, 0.847204, 0.685828, 0.348044, 0.334408], [0.051296, 0.183056, 0.0, 0.639376, 0.000768, 0.002324, 0.382486, 0.413104, 0.18282, 0.413104, 0.296656, 0.328292, 0.782236, 0.747284, 0.18614, 0.417448], [0.689792, 0.684936, 0.639376, 0.0, 0.64004, 0.640628, 0.759342, 0.655128, 0.685068, 0.655128, 0.633536, 0.456796, 0.310708, 0.353936, 0.76346, 0.65948], [0.050584, 0.182712, 0.000768, 0.64004, 0.0, 0.001636, 0.382142, 0.413008, 0.182476, 0.413008, 0.296584, 0.328164, 0.781548, 0.747948, 0.186852, 0.417352], [0.051092, 0.182764, 0.002324, 0.640628, 0.001636, 0.0, 0.383074, 0.413788, 0.183432, 0.413788, 0.296292, 0.328456, 0.783088, 0.748384, 0.187016, 0.41778], [0.33585, 0.20701, 0.382486, 0.759342, 0.382142, 0.383074, 0.0, 0.394822, 0.206342, 0.394822, 0.388558, 0.502918, 0.911454, 0.624838, 0.54615, 0.39537], [0.37176, 0.330176, 0.413104, 0.655128, 0.413008, 0.413788, 0.394822, 0.0, 0.330204, 0.0, 0.157512, 0.354628, 0.82794, 0.514716, 0.575148, 0.013248], [0.136916, 0.000668, 0.18282, 0.685068, 0.182476, 0.183432, 0.206342, 0.330204, 0.0, 0.330204, 0.271876, 0.341872, 0.846968, 0.685672, 0.34756, 0.33442], [0.37176, 0.330176, 0.413104, 0.655128, 0.413008, 0.413788, 0.394822, 0.0, 0.330204, 0.0, 0.157512, 0.354628, 0.82794, 0.514716, 0.575148, 0.013248], [0.286328, 0.271616, 0.296656, 0.633536, 0.296584, 0.296292, 0.388558, 0.157512, 0.271876, 0.157512, 0.0, 0.321308, 0.81718, 0.583068, 0.46882, 0.145016], [0.28026, 0.341556, 0.328292, 0.456796, 0.328164, 0.328456, 0.502918, 0.354628, 0.341872, 0.354628, 0.321308, 0.0, 0.69628, 0.511436, 0.48536, 0.358796], [0.832092, 0.847204, 0.782236, 0.310708, 0.781548, 0.783088, 0.911454, 0.82794, 0.846968, 0.82794, 0.81718, 0.69628, 0.0, 0.59586, 0.765944, 0.832284], [0.759236, 0.685828, 0.747284, 0.353936, 0.747948, 0.748384, 0.624838, 0.514716, 0.685672, 0.514716, 0.583068, 0.511436, 0.59586, 0.0, 0.87506, 0.515204], [0.236388, 0.348044, 0.18614, 0.76346, 0.186852, 0.187016, 0.54615, 0.575148, 0.34756, 0.575148, 0.46882, 0.48536, 0.765944, 0.87506, 0.0, 0.579228], [0.375976, 0.334408, 0.417448, 0.65948, 0.417352, 0.41778, 0.39537, 0.013248, 0.33442, 0.013248, 0.145016, 0.358796, 0.832284, 0.515204, 0.579228, 0.0]]}],                        {\"coloraxis\": {\"colorscale\": [[0.0, \"#0d0887\"], [0.1111111111111111, \"#46039f\"], [0.2222222222222222, \"#7201a8\"], [0.3333333333333333, \"#9c179e\"], [0.4444444444444444, \"#bd3786\"], [0.5555555555555556, \"#d8576b\"], [0.6666666666666666, \"#ed7953\"], [0.7777777777777778, \"#fb9f3a\"], [0.8888888888888888, \"#fdca26\"], [1.0, \"#f0f921\"]]}, \"margin\": {\"t\": 60}, \"template\": {\"data\": {\"bar\": [{\"error_x\": {\"color\": \"#2a3f5f\"}, \"error_y\": {\"color\": \"#2a3f5f\"}, \"marker\": {\"line\": {\"color\": \"#E5ECF6\", \"width\": 0.5}}, \"type\": \"bar\"}], \"barpolar\": [{\"marker\": {\"line\": {\"color\": \"#E5ECF6\", \"width\": 0.5}}, \"type\": \"barpolar\"}], \"carpet\": [{\"aaxis\": {\"endlinecolor\": \"#2a3f5f\", \"gridcolor\": \"white\", \"linecolor\": \"white\", \"minorgridcolor\": \"white\", \"startlinecolor\": \"#2a3f5f\"}, \"baxis\": {\"endlinecolor\": \"#2a3f5f\", \"gridcolor\": \"white\", \"linecolor\": \"white\", \"minorgridcolor\": \"white\", \"startlinecolor\": \"#2a3f5f\"}, \"type\": \"carpet\"}], \"choropleth\": [{\"colorbar\": {\"outlinewidth\": 0, \"ticks\": \"\"}, \"type\": \"choropleth\"}], \"contour\": [{\"colorbar\": {\"outlinewidth\": 0, \"ticks\": \"\"}, \"colorscale\": [[0.0, \"#0d0887\"], [0.1111111111111111, \"#46039f\"], [0.2222222222222222, \"#7201a8\"], [0.3333333333333333, \"#9c179e\"], [0.4444444444444444, \"#bd3786\"], [0.5555555555555556, \"#d8576b\"], [0.6666666666666666, \"#ed7953\"], [0.7777777777777778, \"#fb9f3a\"], [0.8888888888888888, \"#fdca26\"], [1.0, \"#f0f921\"]], \"type\": \"contour\"}], \"contourcarpet\": [{\"colorbar\": {\"outlinewidth\": 0, \"ticks\": \"\"}, \"type\": \"contourcarpet\"}], \"heatmap\": [{\"colorbar\": {\"outlinewidth\": 0, \"ticks\": \"\"}, \"colorscale\": [[0.0, \"#0d0887\"], [0.1111111111111111, \"#46039f\"], [0.2222222222222222, \"#7201a8\"], [0.3333333333333333, \"#9c179e\"], [0.4444444444444444, \"#bd3786\"], [0.5555555555555556, \"#d8576b\"], [0.6666666666666666, \"#ed7953\"], [0.7777777777777778, \"#fb9f3a\"], [0.8888888888888888, \"#fdca26\"], [1.0, \"#f0f921\"]], \"type\": \"heatmap\"}], \"heatmapgl\": [{\"colorbar\": {\"outlinewidth\": 0, \"ticks\": \"\"}, \"colorscale\": [[0.0, \"#0d0887\"], [0.1111111111111111, \"#46039f\"], [0.2222222222222222, \"#7201a8\"], [0.3333333333333333, \"#9c179e\"], [0.4444444444444444, \"#bd3786\"], [0.5555555555555556, \"#d8576b\"], [0.6666666666666666, \"#ed7953\"], [0.7777777777777778, \"#fb9f3a\"], [0.8888888888888888, \"#fdca26\"], [1.0, \"#f0f921\"]], \"type\": \"heatmapgl\"}], \"histogram\": [{\"marker\": {\"colorbar\": {\"outlinewidth\": 0, \"ticks\": \"\"}}, \"type\": \"histogram\"}], \"histogram2d\": [{\"colorbar\": {\"outlinewidth\": 0, \"ticks\": \"\"}, \"colorscale\": [[0.0, \"#0d0887\"], [0.1111111111111111, \"#46039f\"], [0.2222222222222222, \"#7201a8\"], [0.3333333333333333, \"#9c179e\"], [0.4444444444444444, \"#bd3786\"], [0.5555555555555556, \"#d8576b\"], [0.6666666666666666, \"#ed7953\"], [0.7777777777777778, \"#fb9f3a\"], [0.8888888888888888, \"#fdca26\"], [1.0, \"#f0f921\"]], \"type\": \"histogram2d\"}], \"histogram2dcontour\": [{\"colorbar\": {\"outlinewidth\": 0, \"ticks\": \"\"}, \"colorscale\": [[0.0, \"#0d0887\"], [0.1111111111111111, \"#46039f\"], [0.2222222222222222, \"#7201a8\"], [0.3333333333333333, \"#9c179e\"], [0.4444444444444444, \"#bd3786\"], [0.5555555555555556, \"#d8576b\"], [0.6666666666666666, \"#ed7953\"], [0.7777777777777778, \"#fb9f3a\"], [0.8888888888888888, \"#fdca26\"], [1.0, \"#f0f921\"]], \"type\": \"histogram2dcontour\"}], \"mesh3d\": [{\"colorbar\": {\"outlinewidth\": 0, \"ticks\": \"\"}, \"type\": \"mesh3d\"}], \"parcoords\": [{\"line\": {\"colorbar\": {\"outlinewidth\": 0, \"ticks\": \"\"}}, \"type\": \"parcoords\"}], \"pie\": [{\"automargin\": true, \"type\": \"pie\"}], \"scatter\": [{\"marker\": {\"colorbar\": {\"outlinewidth\": 0, \"ticks\": \"\"}}, \"type\": \"scatter\"}], \"scatter3d\": [{\"line\": {\"colorbar\": {\"outlinewidth\": 0, \"ticks\": \"\"}}, \"marker\": {\"colorbar\": {\"outlinewidth\": 0, \"ticks\": \"\"}}, \"type\": \"scatter3d\"}], \"scattercarpet\": [{\"marker\": {\"colorbar\": {\"outlinewidth\": 0, \"ticks\": \"\"}}, \"type\": \"scattercarpet\"}], \"scattergeo\": [{\"marker\": {\"colorbar\": {\"outlinewidth\": 0, \"ticks\": \"\"}}, \"type\": \"scattergeo\"}], \"scattergl\": [{\"marker\": {\"colorbar\": {\"outlinewidth\": 0, \"ticks\": \"\"}}, \"type\": \"scattergl\"}], \"scattermapbox\": [{\"marker\": {\"colorbar\": {\"outlinewidth\": 0, \"ticks\": \"\"}}, \"type\": \"scattermapbox\"}], \"scatterpolar\": [{\"marker\": {\"colorbar\": {\"outlinewidth\": 0, \"ticks\": \"\"}}, \"type\": \"scatterpolar\"}], \"scatterpolargl\": [{\"marker\": {\"colorbar\": {\"outlinewidth\": 0, \"ticks\": \"\"}}, \"type\": \"scatterpolargl\"}], \"scatterternary\": [{\"marker\": {\"colorbar\": {\"outlinewidth\": 0, \"ticks\": \"\"}}, \"type\": \"scatterternary\"}], \"surface\": [{\"colorbar\": {\"outlinewidth\": 0, \"ticks\": \"\"}, \"colorscale\": [[0.0, \"#0d0887\"], [0.1111111111111111, \"#46039f\"], [0.2222222222222222, \"#7201a8\"], [0.3333333333333333, \"#9c179e\"], [0.4444444444444444, \"#bd3786\"], [0.5555555555555556, \"#d8576b\"], [0.6666666666666666, \"#ed7953\"], [0.7777777777777778, \"#fb9f3a\"], [0.8888888888888888, \"#fdca26\"], [1.0, \"#f0f921\"]], \"type\": \"surface\"}], \"table\": [{\"cells\": {\"fill\": {\"color\": \"#EBF0F8\"}, \"line\": {\"color\": \"white\"}}, \"header\": {\"fill\": {\"color\": \"#C8D4E3\"}, \"line\": {\"color\": \"white\"}}, \"type\": \"table\"}]}, \"layout\": {\"annotationdefaults\": {\"arrowcolor\": \"#2a3f5f\", \"arrowhead\": 0, \"arrowwidth\": 1}, \"autotypenumbers\": \"strict\", \"coloraxis\": {\"colorbar\": {\"outlinewidth\": 0, \"ticks\": \"\"}}, \"colorscale\": {\"diverging\": [[0, \"#8e0152\"], [0.1, \"#c51b7d\"], [0.2, \"#de77ae\"], [0.3, \"#f1b6da\"], [0.4, \"#fde0ef\"], [0.5, \"#f7f7f7\"], [0.6, \"#e6f5d0\"], [0.7, \"#b8e186\"], [0.8, \"#7fbc41\"], [0.9, \"#4d9221\"], [1, \"#276419\"]], \"sequential\": [[0.0, \"#0d0887\"], [0.1111111111111111, \"#46039f\"], [0.2222222222222222, \"#7201a8\"], [0.3333333333333333, \"#9c179e\"], [0.4444444444444444, \"#bd3786\"], [0.5555555555555556, \"#d8576b\"], [0.6666666666666666, \"#ed7953\"], [0.7777777777777778, \"#fb9f3a\"], [0.8888888888888888, \"#fdca26\"], [1.0, \"#f0f921\"]], \"sequentialminus\": [[0.0, \"#0d0887\"], [0.1111111111111111, \"#46039f\"], [0.2222222222222222, \"#7201a8\"], [0.3333333333333333, \"#9c179e\"], [0.4444444444444444, \"#bd3786\"], [0.5555555555555556, \"#d8576b\"], [0.6666666666666666, \"#ed7953\"], [0.7777777777777778, \"#fb9f3a\"], [0.8888888888888888, \"#fdca26\"], [1.0, \"#f0f921\"]]}, \"colorway\": [\"#636efa\", \"#EF553B\", \"#00cc96\", \"#ab63fa\", \"#FFA15A\", \"#19d3f3\", \"#FF6692\", \"#B6E880\", \"#FF97FF\", \"#FECB52\"], \"font\": {\"color\": \"#2a3f5f\"}, \"geo\": {\"bgcolor\": \"white\", \"lakecolor\": \"white\", \"landcolor\": \"#E5ECF6\", \"showlakes\": true, \"showland\": true, \"subunitcolor\": \"white\"}, \"hoverlabel\": {\"align\": \"left\"}, \"hovermode\": \"closest\", \"mapbox\": {\"style\": \"light\"}, \"paper_bgcolor\": \"white\", \"plot_bgcolor\": \"#E5ECF6\", \"polar\": {\"angularaxis\": {\"gridcolor\": \"white\", \"linecolor\": \"white\", \"ticks\": \"\"}, \"bgcolor\": \"#E5ECF6\", \"radialaxis\": {\"gridcolor\": \"white\", \"linecolor\": \"white\", \"ticks\": \"\"}}, \"scene\": {\"xaxis\": {\"backgroundcolor\": \"#E5ECF6\", \"gridcolor\": \"white\", \"gridwidth\": 2, \"linecolor\": \"white\", \"showbackground\": true, \"ticks\": \"\", \"zerolinecolor\": \"white\"}, \"yaxis\": {\"backgroundcolor\": \"#E5ECF6\", \"gridcolor\": \"white\", \"gridwidth\": 2, \"linecolor\": \"white\", \"showbackground\": true, \"ticks\": \"\", \"zerolinecolor\": \"white\"}, \"zaxis\": {\"backgroundcolor\": \"#E5ECF6\", \"gridcolor\": \"white\", \"gridwidth\": 2, \"linecolor\": \"white\", \"showbackground\": true, \"ticks\": \"\", \"zerolinecolor\": \"white\"}}, \"shapedefaults\": {\"line\": {\"color\": \"#2a3f5f\"}}, \"ternary\": {\"aaxis\": {\"gridcolor\": \"white\", \"linecolor\": \"white\", \"ticks\": \"\"}, \"baxis\": {\"gridcolor\": \"white\", \"linecolor\": \"white\", \"ticks\": \"\"}, \"bgcolor\": \"#E5ECF6\", \"caxis\": {\"gridcolor\": \"white\", \"linecolor\": \"white\", \"ticks\": \"\"}}, \"title\": {\"x\": 0.05}, \"xaxis\": {\"automargin\": true, \"gridcolor\": \"white\", \"linecolor\": \"white\", \"ticks\": \"\", \"title\": {\"standoff\": 15}, \"zerolinecolor\": \"white\", \"zerolinewidth\": 2}, \"yaxis\": {\"automargin\": true, \"gridcolor\": \"white\", \"linecolor\": \"white\", \"ticks\": \"\", \"title\": {\"standoff\": 15}, \"zerolinecolor\": \"white\", \"zerolinewidth\": 2}}}, \"xaxis\": {\"anchor\": \"y\", \"constrain\": \"domain\", \"domain\": [0.0, 1.0], \"scaleanchor\": \"y\"}, \"yaxis\": {\"anchor\": \"x\", \"autorange\": \"reversed\", \"constrain\": \"domain\", \"domain\": [0.0, 1.0]}},                        {\"responsive\": true}                    ).then(function(){\n",
       "                            \n",
       "var gd = document.getElementById('8874fd9a-2f78-4cb2-941e-ee9a5facaac7');\n",
       "var x = new MutationObserver(function (mutations, observer) {{\n",
       "        var display = window.getComputedStyle(gd).display;\n",
       "        if (!display || display === 'none') {{\n",
       "            console.log([gd, 'removed!']);\n",
       "            Plotly.purge(gd);\n",
       "            observer.disconnect();\n",
       "        }}\n",
       "}});\n",
       "\n",
       "// Listen for the removal of the full notebook cells\n",
       "var notebookContainer = gd.closest('#notebook-container');\n",
       "if (notebookContainer) {{\n",
       "    x.observe(notebookContainer, {childList: true});\n",
       "}}\n",
       "\n",
       "// Listen for the clearing of the current output cell\n",
       "var outputEl = gd.closest('.output');\n",
       "if (outputEl) {{\n",
       "    x.observe(outputEl, {childList: true});\n",
       "}}\n",
       "\n",
       "                        })                };                });            </script>        </div>"
      ]
     },
     "metadata": {},
     "output_type": "display_data"
    }
   ],
   "source": [
    "px.imshow(S)"
   ]
  },
  {
   "cell_type": "code",
   "execution_count": 115,
   "id": "planned-beijing",
   "metadata": {},
   "outputs": [
    {
     "data": {
      "application/vnd.plotly.v1+json": {
       "config": {
        "plotlyServerURL": "https://plot.ly"
       },
       "data": [
        {
         "coloraxis": "coloraxis",
         "hovertemplate": "x: %{x}<br>y: %{y}<br>color: %{z}<extra></extra>",
         "name": "0",
         "type": "heatmap",
         "xaxis": "x",
         "yaxis": "y",
         "z": [
          [
           0,
           0.388558,
           0.39537,
           0.394822,
           0.394822,
           0.54615,
           0.502918,
           0.20701,
           0.206342,
           0.33585,
           0.383074,
           0.382486,
           0.382142,
           0.624838,
           0.759342,
           0.911454
          ],
          [
           0.388558,
           0,
           0.145016,
           0.157512,
           0.157512,
           0.46882,
           0.321308,
           0.271616,
           0.271876,
           0.286328,
           0.296292,
           0.296656,
           0.296584,
           0.583068,
           0.633536,
           0.81718
          ],
          [
           0.39537,
           0.145016,
           0,
           0.013248,
           0.013248,
           0.579228,
           0.358796,
           0.334408,
           0.33442,
           0.375976,
           0.41778,
           0.417448,
           0.417352,
           0.515204,
           0.65948,
           0.832284
          ],
          [
           0.394822,
           0.157512,
           0.013248,
           0,
           0,
           0.575148,
           0.354628,
           0.330176,
           0.330204,
           0.37176,
           0.413788,
           0.413104,
           0.413008,
           0.514716,
           0.655128,
           0.82794
          ],
          [
           0.394822,
           0.157512,
           0.013248,
           0,
           0,
           0.575148,
           0.354628,
           0.330176,
           0.330204,
           0.37176,
           0.413788,
           0.413104,
           0.413008,
           0.514716,
           0.655128,
           0.82794
          ],
          [
           0.54615,
           0.46882,
           0.579228,
           0.575148,
           0.575148,
           0,
           0.48536,
           0.348044,
           0.34756,
           0.236388,
           0.187016,
           0.18614,
           0.186852,
           0.87506,
           0.76346,
           0.765944
          ],
          [
           0.502918,
           0.321308,
           0.358796,
           0.354628,
           0.354628,
           0.48536,
           0,
           0.341556,
           0.341872,
           0.28026,
           0.328456,
           0.328292,
           0.328164,
           0.511436,
           0.456796,
           0.69628
          ],
          [
           0.20701,
           0.271616,
           0.334408,
           0.330176,
           0.330176,
           0.348044,
           0.341556,
           0,
           0.000668,
           0.13676,
           0.182764,
           0.183056,
           0.182712,
           0.685828,
           0.684936,
           0.847204
          ],
          [
           0.206342,
           0.271876,
           0.33442,
           0.330204,
           0.330204,
           0.34756,
           0.341872,
           0.000668,
           0,
           0.136916,
           0.183432,
           0.18282,
           0.182476,
           0.685672,
           0.685068,
           0.846968
          ],
          [
           0.33585,
           0.286328,
           0.375976,
           0.37176,
           0.37176,
           0.236388,
           0.28026,
           0.13676,
           0.136916,
           0,
           0.051092,
           0.051296,
           0.050584,
           0.759236,
           0.689792,
           0.832092
          ],
          [
           0.383074,
           0.296292,
           0.41778,
           0.413788,
           0.413788,
           0.187016,
           0.328456,
           0.182764,
           0.183432,
           0.051092,
           0,
           0.002324,
           0.001636,
           0.748384,
           0.640628,
           0.783088
          ],
          [
           0.382486,
           0.296656,
           0.417448,
           0.413104,
           0.413104,
           0.18614,
           0.328292,
           0.183056,
           0.18282,
           0.051296,
           0.002324,
           0,
           0.000768,
           0.747284,
           0.639376,
           0.782236
          ],
          [
           0.382142,
           0.296584,
           0.417352,
           0.413008,
           0.413008,
           0.186852,
           0.328164,
           0.182712,
           0.182476,
           0.050584,
           0.001636,
           0.000768,
           0,
           0.747948,
           0.64004,
           0.781548
          ],
          [
           0.624838,
           0.583068,
           0.515204,
           0.514716,
           0.514716,
           0.87506,
           0.511436,
           0.685828,
           0.685672,
           0.759236,
           0.748384,
           0.747284,
           0.747948,
           0,
           0.353936,
           0.59586
          ],
          [
           0.759342,
           0.633536,
           0.65948,
           0.655128,
           0.655128,
           0.76346,
           0.456796,
           0.684936,
           0.685068,
           0.689792,
           0.640628,
           0.639376,
           0.64004,
           0.353936,
           0,
           0.310708
          ],
          [
           0.911454,
           0.81718,
           0.832284,
           0.82794,
           0.82794,
           0.765944,
           0.69628,
           0.847204,
           0.846968,
           0.832092,
           0.783088,
           0.782236,
           0.781548,
           0.59586,
           0.310708,
           0
          ]
         ]
        }
       ],
       "layout": {
        "coloraxis": {
         "colorscale": [
          [
           0,
           "#0d0887"
          ],
          [
           0.1111111111111111,
           "#46039f"
          ],
          [
           0.2222222222222222,
           "#7201a8"
          ],
          [
           0.3333333333333333,
           "#9c179e"
          ],
          [
           0.4444444444444444,
           "#bd3786"
          ],
          [
           0.5555555555555556,
           "#d8576b"
          ],
          [
           0.6666666666666666,
           "#ed7953"
          ],
          [
           0.7777777777777778,
           "#fb9f3a"
          ],
          [
           0.8888888888888888,
           "#fdca26"
          ],
          [
           1,
           "#f0f921"
          ]
         ]
        },
        "margin": {
         "t": 60
        },
        "template": {
         "data": {
          "bar": [
           {
            "error_x": {
             "color": "#2a3f5f"
            },
            "error_y": {
             "color": "#2a3f5f"
            },
            "marker": {
             "line": {
              "color": "#E5ECF6",
              "width": 0.5
             }
            },
            "type": "bar"
           }
          ],
          "barpolar": [
           {
            "marker": {
             "line": {
              "color": "#E5ECF6",
              "width": 0.5
             }
            },
            "type": "barpolar"
           }
          ],
          "carpet": [
           {
            "aaxis": {
             "endlinecolor": "#2a3f5f",
             "gridcolor": "white",
             "linecolor": "white",
             "minorgridcolor": "white",
             "startlinecolor": "#2a3f5f"
            },
            "baxis": {
             "endlinecolor": "#2a3f5f",
             "gridcolor": "white",
             "linecolor": "white",
             "minorgridcolor": "white",
             "startlinecolor": "#2a3f5f"
            },
            "type": "carpet"
           }
          ],
          "choropleth": [
           {
            "colorbar": {
             "outlinewidth": 0,
             "ticks": ""
            },
            "type": "choropleth"
           }
          ],
          "contour": [
           {
            "colorbar": {
             "outlinewidth": 0,
             "ticks": ""
            },
            "colorscale": [
             [
              0,
              "#0d0887"
             ],
             [
              0.1111111111111111,
              "#46039f"
             ],
             [
              0.2222222222222222,
              "#7201a8"
             ],
             [
              0.3333333333333333,
              "#9c179e"
             ],
             [
              0.4444444444444444,
              "#bd3786"
             ],
             [
              0.5555555555555556,
              "#d8576b"
             ],
             [
              0.6666666666666666,
              "#ed7953"
             ],
             [
              0.7777777777777778,
              "#fb9f3a"
             ],
             [
              0.8888888888888888,
              "#fdca26"
             ],
             [
              1,
              "#f0f921"
             ]
            ],
            "type": "contour"
           }
          ],
          "contourcarpet": [
           {
            "colorbar": {
             "outlinewidth": 0,
             "ticks": ""
            },
            "type": "contourcarpet"
           }
          ],
          "heatmap": [
           {
            "colorbar": {
             "outlinewidth": 0,
             "ticks": ""
            },
            "colorscale": [
             [
              0,
              "#0d0887"
             ],
             [
              0.1111111111111111,
              "#46039f"
             ],
             [
              0.2222222222222222,
              "#7201a8"
             ],
             [
              0.3333333333333333,
              "#9c179e"
             ],
             [
              0.4444444444444444,
              "#bd3786"
             ],
             [
              0.5555555555555556,
              "#d8576b"
             ],
             [
              0.6666666666666666,
              "#ed7953"
             ],
             [
              0.7777777777777778,
              "#fb9f3a"
             ],
             [
              0.8888888888888888,
              "#fdca26"
             ],
             [
              1,
              "#f0f921"
             ]
            ],
            "type": "heatmap"
           }
          ],
          "heatmapgl": [
           {
            "colorbar": {
             "outlinewidth": 0,
             "ticks": ""
            },
            "colorscale": [
             [
              0,
              "#0d0887"
             ],
             [
              0.1111111111111111,
              "#46039f"
             ],
             [
              0.2222222222222222,
              "#7201a8"
             ],
             [
              0.3333333333333333,
              "#9c179e"
             ],
             [
              0.4444444444444444,
              "#bd3786"
             ],
             [
              0.5555555555555556,
              "#d8576b"
             ],
             [
              0.6666666666666666,
              "#ed7953"
             ],
             [
              0.7777777777777778,
              "#fb9f3a"
             ],
             [
              0.8888888888888888,
              "#fdca26"
             ],
             [
              1,
              "#f0f921"
             ]
            ],
            "type": "heatmapgl"
           }
          ],
          "histogram": [
           {
            "marker": {
             "colorbar": {
              "outlinewidth": 0,
              "ticks": ""
             }
            },
            "type": "histogram"
           }
          ],
          "histogram2d": [
           {
            "colorbar": {
             "outlinewidth": 0,
             "ticks": ""
            },
            "colorscale": [
             [
              0,
              "#0d0887"
             ],
             [
              0.1111111111111111,
              "#46039f"
             ],
             [
              0.2222222222222222,
              "#7201a8"
             ],
             [
              0.3333333333333333,
              "#9c179e"
             ],
             [
              0.4444444444444444,
              "#bd3786"
             ],
             [
              0.5555555555555556,
              "#d8576b"
             ],
             [
              0.6666666666666666,
              "#ed7953"
             ],
             [
              0.7777777777777778,
              "#fb9f3a"
             ],
             [
              0.8888888888888888,
              "#fdca26"
             ],
             [
              1,
              "#f0f921"
             ]
            ],
            "type": "histogram2d"
           }
          ],
          "histogram2dcontour": [
           {
            "colorbar": {
             "outlinewidth": 0,
             "ticks": ""
            },
            "colorscale": [
             [
              0,
              "#0d0887"
             ],
             [
              0.1111111111111111,
              "#46039f"
             ],
             [
              0.2222222222222222,
              "#7201a8"
             ],
             [
              0.3333333333333333,
              "#9c179e"
             ],
             [
              0.4444444444444444,
              "#bd3786"
             ],
             [
              0.5555555555555556,
              "#d8576b"
             ],
             [
              0.6666666666666666,
              "#ed7953"
             ],
             [
              0.7777777777777778,
              "#fb9f3a"
             ],
             [
              0.8888888888888888,
              "#fdca26"
             ],
             [
              1,
              "#f0f921"
             ]
            ],
            "type": "histogram2dcontour"
           }
          ],
          "mesh3d": [
           {
            "colorbar": {
             "outlinewidth": 0,
             "ticks": ""
            },
            "type": "mesh3d"
           }
          ],
          "parcoords": [
           {
            "line": {
             "colorbar": {
              "outlinewidth": 0,
              "ticks": ""
             }
            },
            "type": "parcoords"
           }
          ],
          "pie": [
           {
            "automargin": true,
            "type": "pie"
           }
          ],
          "scatter": [
           {
            "marker": {
             "colorbar": {
              "outlinewidth": 0,
              "ticks": ""
             }
            },
            "type": "scatter"
           }
          ],
          "scatter3d": [
           {
            "line": {
             "colorbar": {
              "outlinewidth": 0,
              "ticks": ""
             }
            },
            "marker": {
             "colorbar": {
              "outlinewidth": 0,
              "ticks": ""
             }
            },
            "type": "scatter3d"
           }
          ],
          "scattercarpet": [
           {
            "marker": {
             "colorbar": {
              "outlinewidth": 0,
              "ticks": ""
             }
            },
            "type": "scattercarpet"
           }
          ],
          "scattergeo": [
           {
            "marker": {
             "colorbar": {
              "outlinewidth": 0,
              "ticks": ""
             }
            },
            "type": "scattergeo"
           }
          ],
          "scattergl": [
           {
            "marker": {
             "colorbar": {
              "outlinewidth": 0,
              "ticks": ""
             }
            },
            "type": "scattergl"
           }
          ],
          "scattermapbox": [
           {
            "marker": {
             "colorbar": {
              "outlinewidth": 0,
              "ticks": ""
             }
            },
            "type": "scattermapbox"
           }
          ],
          "scatterpolar": [
           {
            "marker": {
             "colorbar": {
              "outlinewidth": 0,
              "ticks": ""
             }
            },
            "type": "scatterpolar"
           }
          ],
          "scatterpolargl": [
           {
            "marker": {
             "colorbar": {
              "outlinewidth": 0,
              "ticks": ""
             }
            },
            "type": "scatterpolargl"
           }
          ],
          "scatterternary": [
           {
            "marker": {
             "colorbar": {
              "outlinewidth": 0,
              "ticks": ""
             }
            },
            "type": "scatterternary"
           }
          ],
          "surface": [
           {
            "colorbar": {
             "outlinewidth": 0,
             "ticks": ""
            },
            "colorscale": [
             [
              0,
              "#0d0887"
             ],
             [
              0.1111111111111111,
              "#46039f"
             ],
             [
              0.2222222222222222,
              "#7201a8"
             ],
             [
              0.3333333333333333,
              "#9c179e"
             ],
             [
              0.4444444444444444,
              "#bd3786"
             ],
             [
              0.5555555555555556,
              "#d8576b"
             ],
             [
              0.6666666666666666,
              "#ed7953"
             ],
             [
              0.7777777777777778,
              "#fb9f3a"
             ],
             [
              0.8888888888888888,
              "#fdca26"
             ],
             [
              1,
              "#f0f921"
             ]
            ],
            "type": "surface"
           }
          ],
          "table": [
           {
            "cells": {
             "fill": {
              "color": "#EBF0F8"
             },
             "line": {
              "color": "white"
             }
            },
            "header": {
             "fill": {
              "color": "#C8D4E3"
             },
             "line": {
              "color": "white"
             }
            },
            "type": "table"
           }
          ]
         },
         "layout": {
          "annotationdefaults": {
           "arrowcolor": "#2a3f5f",
           "arrowhead": 0,
           "arrowwidth": 1
          },
          "autotypenumbers": "strict",
          "coloraxis": {
           "colorbar": {
            "outlinewidth": 0,
            "ticks": ""
           }
          },
          "colorscale": {
           "diverging": [
            [
             0,
             "#8e0152"
            ],
            [
             0.1,
             "#c51b7d"
            ],
            [
             0.2,
             "#de77ae"
            ],
            [
             0.3,
             "#f1b6da"
            ],
            [
             0.4,
             "#fde0ef"
            ],
            [
             0.5,
             "#f7f7f7"
            ],
            [
             0.6,
             "#e6f5d0"
            ],
            [
             0.7,
             "#b8e186"
            ],
            [
             0.8,
             "#7fbc41"
            ],
            [
             0.9,
             "#4d9221"
            ],
            [
             1,
             "#276419"
            ]
           ],
           "sequential": [
            [
             0,
             "#0d0887"
            ],
            [
             0.1111111111111111,
             "#46039f"
            ],
            [
             0.2222222222222222,
             "#7201a8"
            ],
            [
             0.3333333333333333,
             "#9c179e"
            ],
            [
             0.4444444444444444,
             "#bd3786"
            ],
            [
             0.5555555555555556,
             "#d8576b"
            ],
            [
             0.6666666666666666,
             "#ed7953"
            ],
            [
             0.7777777777777778,
             "#fb9f3a"
            ],
            [
             0.8888888888888888,
             "#fdca26"
            ],
            [
             1,
             "#f0f921"
            ]
           ],
           "sequentialminus": [
            [
             0,
             "#0d0887"
            ],
            [
             0.1111111111111111,
             "#46039f"
            ],
            [
             0.2222222222222222,
             "#7201a8"
            ],
            [
             0.3333333333333333,
             "#9c179e"
            ],
            [
             0.4444444444444444,
             "#bd3786"
            ],
            [
             0.5555555555555556,
             "#d8576b"
            ],
            [
             0.6666666666666666,
             "#ed7953"
            ],
            [
             0.7777777777777778,
             "#fb9f3a"
            ],
            [
             0.8888888888888888,
             "#fdca26"
            ],
            [
             1,
             "#f0f921"
            ]
           ]
          },
          "colorway": [
           "#636efa",
           "#EF553B",
           "#00cc96",
           "#ab63fa",
           "#FFA15A",
           "#19d3f3",
           "#FF6692",
           "#B6E880",
           "#FF97FF",
           "#FECB52"
          ],
          "font": {
           "color": "#2a3f5f"
          },
          "geo": {
           "bgcolor": "white",
           "lakecolor": "white",
           "landcolor": "#E5ECF6",
           "showlakes": true,
           "showland": true,
           "subunitcolor": "white"
          },
          "hoverlabel": {
           "align": "left"
          },
          "hovermode": "closest",
          "mapbox": {
           "style": "light"
          },
          "paper_bgcolor": "white",
          "plot_bgcolor": "#E5ECF6",
          "polar": {
           "angularaxis": {
            "gridcolor": "white",
            "linecolor": "white",
            "ticks": ""
           },
           "bgcolor": "#E5ECF6",
           "radialaxis": {
            "gridcolor": "white",
            "linecolor": "white",
            "ticks": ""
           }
          },
          "scene": {
           "xaxis": {
            "backgroundcolor": "#E5ECF6",
            "gridcolor": "white",
            "gridwidth": 2,
            "linecolor": "white",
            "showbackground": true,
            "ticks": "",
            "zerolinecolor": "white"
           },
           "yaxis": {
            "backgroundcolor": "#E5ECF6",
            "gridcolor": "white",
            "gridwidth": 2,
            "linecolor": "white",
            "showbackground": true,
            "ticks": "",
            "zerolinecolor": "white"
           },
           "zaxis": {
            "backgroundcolor": "#E5ECF6",
            "gridcolor": "white",
            "gridwidth": 2,
            "linecolor": "white",
            "showbackground": true,
            "ticks": "",
            "zerolinecolor": "white"
           }
          },
          "shapedefaults": {
           "line": {
            "color": "#2a3f5f"
           }
          },
          "ternary": {
           "aaxis": {
            "gridcolor": "white",
            "linecolor": "white",
            "ticks": ""
           },
           "baxis": {
            "gridcolor": "white",
            "linecolor": "white",
            "ticks": ""
           },
           "bgcolor": "#E5ECF6",
           "caxis": {
            "gridcolor": "white",
            "linecolor": "white",
            "ticks": ""
           }
          },
          "title": {
           "x": 0.05
          },
          "xaxis": {
           "automargin": true,
           "gridcolor": "white",
           "linecolor": "white",
           "ticks": "",
           "title": {
            "standoff": 15
           },
           "zerolinecolor": "white",
           "zerolinewidth": 2
          },
          "yaxis": {
           "automargin": true,
           "gridcolor": "white",
           "linecolor": "white",
           "ticks": "",
           "title": {
            "standoff": 15
           },
           "zerolinecolor": "white",
           "zerolinewidth": 2
          }
         }
        },
        "xaxis": {
         "anchor": "y",
         "constrain": "domain",
         "domain": [
          0,
          1
         ],
         "scaleanchor": "y"
        },
        "yaxis": {
         "anchor": "x",
         "autorange": "reversed",
         "constrain": "domain",
         "domain": [
          0,
          1
         ]
        }
       }
      },
      "text/html": [
       "<div>                            <div id=\"4038db26-5835-410e-815b-9a3fe80255e3\" class=\"plotly-graph-div\" style=\"height:525px; width:100%;\"></div>            <script type=\"text/javascript\">                require([\"plotly\"], function(Plotly) {                    window.PLOTLYENV=window.PLOTLYENV || {};                                    if (document.getElementById(\"4038db26-5835-410e-815b-9a3fe80255e3\")) {                    Plotly.newPlot(                        \"4038db26-5835-410e-815b-9a3fe80255e3\",                        [{\"coloraxis\": \"coloraxis\", \"hovertemplate\": \"x: %{x}<br>y: %{y}<br>color: %{z}<extra></extra>\", \"name\": \"0\", \"type\": \"heatmap\", \"xaxis\": \"x\", \"yaxis\": \"y\", \"z\": [[0.0, 0.388558, 0.39537, 0.394822, 0.394822, 0.54615, 0.502918, 0.20701, 0.206342, 0.33585, 0.383074, 0.382486, 0.382142, 0.624838, 0.759342, 0.911454], [0.388558, 0.0, 0.145016, 0.157512, 0.157512, 0.46882, 0.321308, 0.271616, 0.271876, 0.286328, 0.296292, 0.296656, 0.296584, 0.583068, 0.633536, 0.81718], [0.39537, 0.145016, 0.0, 0.013248, 0.013248, 0.579228, 0.358796, 0.334408, 0.33442, 0.375976, 0.41778, 0.417448, 0.417352, 0.515204, 0.65948, 0.832284], [0.394822, 0.157512, 0.013248, 0.0, 0.0, 0.575148, 0.354628, 0.330176, 0.330204, 0.37176, 0.413788, 0.413104, 0.413008, 0.514716, 0.655128, 0.82794], [0.394822, 0.157512, 0.013248, 0.0, 0.0, 0.575148, 0.354628, 0.330176, 0.330204, 0.37176, 0.413788, 0.413104, 0.413008, 0.514716, 0.655128, 0.82794], [0.54615, 0.46882, 0.579228, 0.575148, 0.575148, 0.0, 0.48536, 0.348044, 0.34756, 0.236388, 0.187016, 0.18614, 0.186852, 0.87506, 0.76346, 0.765944], [0.502918, 0.321308, 0.358796, 0.354628, 0.354628, 0.48536, 0.0, 0.341556, 0.341872, 0.28026, 0.328456, 0.328292, 0.328164, 0.511436, 0.456796, 0.69628], [0.20701, 0.271616, 0.334408, 0.330176, 0.330176, 0.348044, 0.341556, 0.0, 0.000668, 0.13676, 0.182764, 0.183056, 0.182712, 0.685828, 0.684936, 0.847204], [0.206342, 0.271876, 0.33442, 0.330204, 0.330204, 0.34756, 0.341872, 0.000668, 0.0, 0.136916, 0.183432, 0.18282, 0.182476, 0.685672, 0.685068, 0.846968], [0.33585, 0.286328, 0.375976, 0.37176, 0.37176, 0.236388, 0.28026, 0.13676, 0.136916, 0.0, 0.051092, 0.051296, 0.050584, 0.759236, 0.689792, 0.832092], [0.383074, 0.296292, 0.41778, 0.413788, 0.413788, 0.187016, 0.328456, 0.182764, 0.183432, 0.051092, 0.0, 0.002324, 0.001636, 0.748384, 0.640628, 0.783088], [0.382486, 0.296656, 0.417448, 0.413104, 0.413104, 0.18614, 0.328292, 0.183056, 0.18282, 0.051296, 0.002324, 0.0, 0.000768, 0.747284, 0.639376, 0.782236], [0.382142, 0.296584, 0.417352, 0.413008, 0.413008, 0.186852, 0.328164, 0.182712, 0.182476, 0.050584, 0.001636, 0.000768, 0.0, 0.747948, 0.64004, 0.781548], [0.624838, 0.583068, 0.515204, 0.514716, 0.514716, 0.87506, 0.511436, 0.685828, 0.685672, 0.759236, 0.748384, 0.747284, 0.747948, 0.0, 0.353936, 0.59586], [0.759342, 0.633536, 0.65948, 0.655128, 0.655128, 0.76346, 0.456796, 0.684936, 0.685068, 0.689792, 0.640628, 0.639376, 0.64004, 0.353936, 0.0, 0.310708], [0.911454, 0.81718, 0.832284, 0.82794, 0.82794, 0.765944, 0.69628, 0.847204, 0.846968, 0.832092, 0.783088, 0.782236, 0.781548, 0.59586, 0.310708, 0.0]]}],                        {\"coloraxis\": {\"colorscale\": [[0.0, \"#0d0887\"], [0.1111111111111111, \"#46039f\"], [0.2222222222222222, \"#7201a8\"], [0.3333333333333333, \"#9c179e\"], [0.4444444444444444, \"#bd3786\"], [0.5555555555555556, \"#d8576b\"], [0.6666666666666666, \"#ed7953\"], [0.7777777777777778, \"#fb9f3a\"], [0.8888888888888888, \"#fdca26\"], [1.0, \"#f0f921\"]]}, \"margin\": {\"t\": 60}, \"template\": {\"data\": {\"bar\": [{\"error_x\": {\"color\": \"#2a3f5f\"}, \"error_y\": {\"color\": \"#2a3f5f\"}, \"marker\": {\"line\": {\"color\": \"#E5ECF6\", \"width\": 0.5}}, \"type\": \"bar\"}], \"barpolar\": [{\"marker\": {\"line\": {\"color\": \"#E5ECF6\", \"width\": 0.5}}, \"type\": \"barpolar\"}], \"carpet\": [{\"aaxis\": {\"endlinecolor\": \"#2a3f5f\", \"gridcolor\": \"white\", \"linecolor\": \"white\", \"minorgridcolor\": \"white\", \"startlinecolor\": \"#2a3f5f\"}, \"baxis\": {\"endlinecolor\": \"#2a3f5f\", \"gridcolor\": \"white\", \"linecolor\": \"white\", \"minorgridcolor\": \"white\", \"startlinecolor\": \"#2a3f5f\"}, \"type\": \"carpet\"}], \"choropleth\": [{\"colorbar\": {\"outlinewidth\": 0, \"ticks\": \"\"}, \"type\": \"choropleth\"}], \"contour\": [{\"colorbar\": {\"outlinewidth\": 0, \"ticks\": \"\"}, \"colorscale\": [[0.0, \"#0d0887\"], [0.1111111111111111, \"#46039f\"], [0.2222222222222222, \"#7201a8\"], [0.3333333333333333, \"#9c179e\"], [0.4444444444444444, \"#bd3786\"], [0.5555555555555556, \"#d8576b\"], [0.6666666666666666, \"#ed7953\"], [0.7777777777777778, \"#fb9f3a\"], [0.8888888888888888, \"#fdca26\"], [1.0, \"#f0f921\"]], \"type\": \"contour\"}], \"contourcarpet\": [{\"colorbar\": {\"outlinewidth\": 0, \"ticks\": \"\"}, \"type\": \"contourcarpet\"}], \"heatmap\": [{\"colorbar\": {\"outlinewidth\": 0, \"ticks\": \"\"}, \"colorscale\": [[0.0, \"#0d0887\"], [0.1111111111111111, \"#46039f\"], [0.2222222222222222, \"#7201a8\"], [0.3333333333333333, \"#9c179e\"], [0.4444444444444444, \"#bd3786\"], [0.5555555555555556, \"#d8576b\"], [0.6666666666666666, \"#ed7953\"], [0.7777777777777778, \"#fb9f3a\"], [0.8888888888888888, \"#fdca26\"], [1.0, \"#f0f921\"]], \"type\": \"heatmap\"}], \"heatmapgl\": [{\"colorbar\": {\"outlinewidth\": 0, \"ticks\": \"\"}, \"colorscale\": [[0.0, \"#0d0887\"], [0.1111111111111111, \"#46039f\"], [0.2222222222222222, \"#7201a8\"], [0.3333333333333333, \"#9c179e\"], [0.4444444444444444, \"#bd3786\"], [0.5555555555555556, \"#d8576b\"], [0.6666666666666666, \"#ed7953\"], [0.7777777777777778, \"#fb9f3a\"], [0.8888888888888888, \"#fdca26\"], [1.0, \"#f0f921\"]], \"type\": \"heatmapgl\"}], \"histogram\": [{\"marker\": {\"colorbar\": {\"outlinewidth\": 0, \"ticks\": \"\"}}, \"type\": \"histogram\"}], \"histogram2d\": [{\"colorbar\": {\"outlinewidth\": 0, \"ticks\": \"\"}, \"colorscale\": [[0.0, \"#0d0887\"], [0.1111111111111111, \"#46039f\"], [0.2222222222222222, \"#7201a8\"], [0.3333333333333333, \"#9c179e\"], [0.4444444444444444, \"#bd3786\"], [0.5555555555555556, \"#d8576b\"], [0.6666666666666666, \"#ed7953\"], [0.7777777777777778, \"#fb9f3a\"], [0.8888888888888888, \"#fdca26\"], [1.0, \"#f0f921\"]], \"type\": \"histogram2d\"}], \"histogram2dcontour\": [{\"colorbar\": {\"outlinewidth\": 0, \"ticks\": \"\"}, \"colorscale\": [[0.0, \"#0d0887\"], [0.1111111111111111, \"#46039f\"], [0.2222222222222222, \"#7201a8\"], [0.3333333333333333, \"#9c179e\"], [0.4444444444444444, \"#bd3786\"], [0.5555555555555556, \"#d8576b\"], [0.6666666666666666, \"#ed7953\"], [0.7777777777777778, \"#fb9f3a\"], [0.8888888888888888, \"#fdca26\"], [1.0, \"#f0f921\"]], \"type\": \"histogram2dcontour\"}], \"mesh3d\": [{\"colorbar\": {\"outlinewidth\": 0, \"ticks\": \"\"}, \"type\": \"mesh3d\"}], \"parcoords\": [{\"line\": {\"colorbar\": {\"outlinewidth\": 0, \"ticks\": \"\"}}, \"type\": \"parcoords\"}], \"pie\": [{\"automargin\": true, \"type\": \"pie\"}], \"scatter\": [{\"marker\": {\"colorbar\": {\"outlinewidth\": 0, \"ticks\": \"\"}}, \"type\": \"scatter\"}], \"scatter3d\": [{\"line\": {\"colorbar\": {\"outlinewidth\": 0, \"ticks\": \"\"}}, \"marker\": {\"colorbar\": {\"outlinewidth\": 0, \"ticks\": \"\"}}, \"type\": \"scatter3d\"}], \"scattercarpet\": [{\"marker\": {\"colorbar\": {\"outlinewidth\": 0, \"ticks\": \"\"}}, \"type\": \"scattercarpet\"}], \"scattergeo\": [{\"marker\": {\"colorbar\": {\"outlinewidth\": 0, \"ticks\": \"\"}}, \"type\": \"scattergeo\"}], \"scattergl\": [{\"marker\": {\"colorbar\": {\"outlinewidth\": 0, \"ticks\": \"\"}}, \"type\": \"scattergl\"}], \"scattermapbox\": [{\"marker\": {\"colorbar\": {\"outlinewidth\": 0, \"ticks\": \"\"}}, \"type\": \"scattermapbox\"}], \"scatterpolar\": [{\"marker\": {\"colorbar\": {\"outlinewidth\": 0, \"ticks\": \"\"}}, \"type\": \"scatterpolar\"}], \"scatterpolargl\": [{\"marker\": {\"colorbar\": {\"outlinewidth\": 0, \"ticks\": \"\"}}, \"type\": \"scatterpolargl\"}], \"scatterternary\": [{\"marker\": {\"colorbar\": {\"outlinewidth\": 0, \"ticks\": \"\"}}, \"type\": \"scatterternary\"}], \"surface\": [{\"colorbar\": {\"outlinewidth\": 0, \"ticks\": \"\"}, \"colorscale\": [[0.0, \"#0d0887\"], [0.1111111111111111, \"#46039f\"], [0.2222222222222222, \"#7201a8\"], [0.3333333333333333, \"#9c179e\"], [0.4444444444444444, \"#bd3786\"], [0.5555555555555556, \"#d8576b\"], [0.6666666666666666, \"#ed7953\"], [0.7777777777777778, \"#fb9f3a\"], [0.8888888888888888, \"#fdca26\"], [1.0, \"#f0f921\"]], \"type\": \"surface\"}], \"table\": [{\"cells\": {\"fill\": {\"color\": \"#EBF0F8\"}, \"line\": {\"color\": \"white\"}}, \"header\": {\"fill\": {\"color\": \"#C8D4E3\"}, \"line\": {\"color\": \"white\"}}, \"type\": \"table\"}]}, \"layout\": {\"annotationdefaults\": {\"arrowcolor\": \"#2a3f5f\", \"arrowhead\": 0, \"arrowwidth\": 1}, \"autotypenumbers\": \"strict\", \"coloraxis\": {\"colorbar\": {\"outlinewidth\": 0, \"ticks\": \"\"}}, \"colorscale\": {\"diverging\": [[0, \"#8e0152\"], [0.1, \"#c51b7d\"], [0.2, \"#de77ae\"], [0.3, \"#f1b6da\"], [0.4, \"#fde0ef\"], [0.5, \"#f7f7f7\"], [0.6, \"#e6f5d0\"], [0.7, \"#b8e186\"], [0.8, \"#7fbc41\"], [0.9, \"#4d9221\"], [1, \"#276419\"]], \"sequential\": [[0.0, \"#0d0887\"], [0.1111111111111111, \"#46039f\"], [0.2222222222222222, \"#7201a8\"], [0.3333333333333333, \"#9c179e\"], [0.4444444444444444, \"#bd3786\"], [0.5555555555555556, \"#d8576b\"], [0.6666666666666666, \"#ed7953\"], [0.7777777777777778, \"#fb9f3a\"], [0.8888888888888888, \"#fdca26\"], [1.0, \"#f0f921\"]], \"sequentialminus\": [[0.0, \"#0d0887\"], [0.1111111111111111, \"#46039f\"], [0.2222222222222222, \"#7201a8\"], [0.3333333333333333, \"#9c179e\"], [0.4444444444444444, \"#bd3786\"], [0.5555555555555556, \"#d8576b\"], [0.6666666666666666, \"#ed7953\"], [0.7777777777777778, \"#fb9f3a\"], [0.8888888888888888, \"#fdca26\"], [1.0, \"#f0f921\"]]}, \"colorway\": [\"#636efa\", \"#EF553B\", \"#00cc96\", \"#ab63fa\", \"#FFA15A\", \"#19d3f3\", \"#FF6692\", \"#B6E880\", \"#FF97FF\", \"#FECB52\"], \"font\": {\"color\": \"#2a3f5f\"}, \"geo\": {\"bgcolor\": \"white\", \"lakecolor\": \"white\", \"landcolor\": \"#E5ECF6\", \"showlakes\": true, \"showland\": true, \"subunitcolor\": \"white\"}, \"hoverlabel\": {\"align\": \"left\"}, \"hovermode\": \"closest\", \"mapbox\": {\"style\": \"light\"}, \"paper_bgcolor\": \"white\", \"plot_bgcolor\": \"#E5ECF6\", \"polar\": {\"angularaxis\": {\"gridcolor\": \"white\", \"linecolor\": \"white\", \"ticks\": \"\"}, \"bgcolor\": \"#E5ECF6\", \"radialaxis\": {\"gridcolor\": \"white\", \"linecolor\": \"white\", \"ticks\": \"\"}}, \"scene\": {\"xaxis\": {\"backgroundcolor\": \"#E5ECF6\", \"gridcolor\": \"white\", \"gridwidth\": 2, \"linecolor\": \"white\", \"showbackground\": true, \"ticks\": \"\", \"zerolinecolor\": \"white\"}, \"yaxis\": {\"backgroundcolor\": \"#E5ECF6\", \"gridcolor\": \"white\", \"gridwidth\": 2, \"linecolor\": \"white\", \"showbackground\": true, \"ticks\": \"\", \"zerolinecolor\": \"white\"}, \"zaxis\": {\"backgroundcolor\": \"#E5ECF6\", \"gridcolor\": \"white\", \"gridwidth\": 2, \"linecolor\": \"white\", \"showbackground\": true, \"ticks\": \"\", \"zerolinecolor\": \"white\"}}, \"shapedefaults\": {\"line\": {\"color\": \"#2a3f5f\"}}, \"ternary\": {\"aaxis\": {\"gridcolor\": \"white\", \"linecolor\": \"white\", \"ticks\": \"\"}, \"baxis\": {\"gridcolor\": \"white\", \"linecolor\": \"white\", \"ticks\": \"\"}, \"bgcolor\": \"#E5ECF6\", \"caxis\": {\"gridcolor\": \"white\", \"linecolor\": \"white\", \"ticks\": \"\"}}, \"title\": {\"x\": 0.05}, \"xaxis\": {\"automargin\": true, \"gridcolor\": \"white\", \"linecolor\": \"white\", \"ticks\": \"\", \"title\": {\"standoff\": 15}, \"zerolinecolor\": \"white\", \"zerolinewidth\": 2}, \"yaxis\": {\"automargin\": true, \"gridcolor\": \"white\", \"linecolor\": \"white\", \"ticks\": \"\", \"title\": {\"standoff\": 15}, \"zerolinecolor\": \"white\", \"zerolinewidth\": 2}}}, \"xaxis\": {\"anchor\": \"y\", \"constrain\": \"domain\", \"domain\": [0.0, 1.0], \"scaleanchor\": \"y\"}, \"yaxis\": {\"anchor\": \"x\", \"autorange\": \"reversed\", \"constrain\": \"domain\", \"domain\": [0.0, 1.0]}},                        {\"responsive\": true}                    ).then(function(){\n",
       "                            \n",
       "var gd = document.getElementById('4038db26-5835-410e-815b-9a3fe80255e3');\n",
       "var x = new MutationObserver(function (mutations, observer) {{\n",
       "        var display = window.getComputedStyle(gd).display;\n",
       "        if (!display || display === 'none') {{\n",
       "            console.log([gd, 'removed!']);\n",
       "            Plotly.purge(gd);\n",
       "            observer.disconnect();\n",
       "        }}\n",
       "}});\n",
       "\n",
       "// Listen for the removal of the full notebook cells\n",
       "var notebookContainer = gd.closest('#notebook-container');\n",
       "if (notebookContainer) {{\n",
       "    x.observe(notebookContainer, {childList: true});\n",
       "}}\n",
       "\n",
       "// Listen for the clearing of the current output cell\n",
       "var outputEl = gd.closest('.output');\n",
       "if (outputEl) {{\n",
       "    x.observe(outputEl, {childList: true});\n",
       "}}\n",
       "\n",
       "                        })                };                });            </script>        </div>"
      ]
     },
     "metadata": {},
     "output_type": "display_data"
    }
   ],
   "source": [
    "ordered_dist_mat, res_order, res_linkage = compute_serial_matrix(S, 'complete')\n",
    "\n",
    "px.imshow(ordered_dist_mat)"
   ]
  },
  {
   "cell_type": "code",
   "execution_count": 107,
   "id": "alternate-animation",
   "metadata": {},
   "outputs": [
    {
     "name": "stdout",
     "output_type": "stream",
     "text": [
      "[6, 10, 15, 7, 9, 14, 11, 1, 8, 0, 5, 2, 4, 13, 3, 12]\n"
     ]
    }
   ],
   "source": [
    "print(res_order)"
   ]
  },
  {
   "cell_type": "markdown",
   "id": "exposed-pledge",
   "metadata": {},
   "source": [
    "## 4. Manifold for metric"
   ]
  },
  {
   "cell_type": "code",
   "execution_count": 90,
   "id": "opposed-wilson",
   "metadata": {},
   "outputs": [],
   "source": [
    "embedding = Isomap(n_components=4)"
   ]
  },
  {
   "cell_type": "code",
   "execution_count": 87,
   "id": "harmful-savage",
   "metadata": {},
   "outputs": [],
   "source": [
    "X_transformed = X_normalized[:100]"
   ]
  },
  {
   "cell_type": "code",
   "execution_count": 91,
   "id": "rocky-dance",
   "metadata": {},
   "outputs": [],
   "source": [
    "X_transformed = embedding.fit_transform(X_normalized[:100])"
   ]
  },
  {
   "cell_type": "code",
   "execution_count": 92,
   "id": "voluntary-genetics",
   "metadata": {},
   "outputs": [],
   "source": [
    "Kstar = pairwise_distances(X_transformed)"
   ]
  },
  {
   "cell_type": "code",
   "execution_count": 93,
   "id": "oriented-virus",
   "metadata": {},
   "outputs": [
    {
     "name": "stdout",
     "output_type": "stream",
     "text": [
      "0: norm Ki 2.6672 norm Kstar 1.0966 norm diff 2.3650\n",
      "1: norm Ki 2.9351 norm Kstar 1.0966 norm diff 2.6460\n",
      "2: norm Ki 2.6784 norm Kstar 1.0966 norm diff 2.3781\n",
      "3: norm Ki 2.8041 norm Kstar 1.0966 norm diff 2.5198\n",
      "4: norm Ki 2.6784 norm Kstar 1.0966 norm diff 2.3781\n",
      "5: norm Ki 2.6784 norm Kstar 1.0966 norm diff 2.3781\n",
      "6: norm Ki 3.5144 norm Kstar 1.0966 norm diff 3.2411\n",
      "7: norm Ki 3.0896 norm Kstar 1.0966 norm diff 2.8031\n",
      "8: norm Ki 2.9351 norm Kstar 1.0966 norm diff 2.6460\n",
      "9: norm Ki 3.0896 norm Kstar 1.0966 norm diff 2.8031\n",
      "10: norm Ki 3.3029 norm Kstar 1.0966 norm diff 3.0211\n",
      "11: norm Ki 2.8279 norm Kstar 1.0966 norm diff 2.5361\n",
      "12: norm Ki 2.2133 norm Kstar 1.0966 norm diff 1.8858\n",
      "13: norm Ki 3.2963 norm Kstar 1.0966 norm diff 3.0301\n",
      "14: norm Ki 2.4664 norm Kstar 1.0966 norm diff 2.1554\n",
      "15: norm Ki 3.1265 norm Kstar 1.0966 norm diff 2.8504\n"
     ]
    }
   ],
   "source": [
    "kstar = Kstar/Kstar.sum(axis=1)\n",
    "for i in range(len(K)):\n",
    "    k = K[i]/K[i].sum(axis=1)\n",
    "    print('{}: norm Ki {:.4f} norm Kstar {:.4f} norm diff {:.4f}'.format(i, np.linalg.norm(k), \n",
    "                                                             np.linalg.norm(kstar), \n",
    "                                                             np.linalg.norm(k-kstar)))"
   ]
  },
  {
   "cell_type": "code",
   "execution_count": 8,
   "id": "statutory-slovak",
   "metadata": {},
   "outputs": [],
   "source": [
    "import squarify\n",
    "\n",
    "# these values define the coordinate system for the returned rectangles\n",
    "# the values will range from x to x + width and y to y + height\n",
    "x = 0.\n",
    "y = 0.\n",
    "width = 700.\n",
    "height = 433.\n",
    "\n",
    "values = [500, 433, 78, 25, 25, 7]\n",
    "\n",
    "# values must be sorted descending (and positive, obviously)\n",
    "values.sort(reverse=True)\n",
    "\n",
    "# the sum of the values must equal the total area to be laid out\n",
    "# i.e., sum(values) == width * height\n",
    "values = squarify.normalize_sizes(values, width, height)\n",
    "\n",
    "# returns a list of rectangles\n",
    "rects = squarify.squarify(values, x, y, width, height)\n",
    "\n",
    "# padded rectangles will probably visualize better for certain cases\n",
    "padded_rects = squarify.padded_squarify(values, x, y, width, height)"
   ]
  },
  {
   "cell_type": "code",
   "execution_count": 9,
   "id": "cognitive-motion",
   "metadata": {},
   "outputs": [
    {
     "data": {
      "text/plain": [
       "[{'x': 1.0, 'y': 1.0, 'dx': 325.7153558052434, 'dy': 431.0},\n",
       " {'x': 328.7153558052434,\n",
       "  'y': 1.0,\n",
       "  'dx': 370.2846441947566,\n",
       "  'dy': 328.0862676056338},\n",
       " {'x': 328.7153558052434,\n",
       "  'y': 331.0862676056338,\n",
       "  'dx': 213.0977944236371,\n",
       "  'dy': 100.9137323943662},\n",
       " {'x': 543.8131502288805,\n",
       "  'y': 331.0862676056338,\n",
       "  'dx': 66.94160077680677,\n",
       "  'dy': 100.9137323943662},\n",
       " {'x': 612.7547510056874,\n",
       "  'y': 331.0862676056338,\n",
       "  'dx': 86.24524899431273,\n",
       "  'dy': 78.40135343309854},\n",
       " {'x': 612.7547510056874,\n",
       "  'y': 411.4876210387323,\n",
       "  'dx': 86.2452489943124,\n",
       "  'dy': 20.51237896126767}]"
      ]
     },
     "execution_count": 9,
     "metadata": {},
     "output_type": "execute_result"
    }
   ],
   "source": [
    "padded_rects"
   ]
  },
  {
   "cell_type": "code",
   "execution_count": 12,
   "id": "blessed-covering",
   "metadata": {},
   "outputs": [
    {
     "data": {
      "text/plain": [
       "<AxesSubplot:>"
      ]
     },
     "execution_count": 12,
     "metadata": {},
     "output_type": "execute_result"
    },
    {
     "data": {
      "image/png": "[encoded data removed]",
      "text/plain": [
       "<Figure size 432x288 with 1 Axes>"
      ]
     },
     "metadata": {
      "needs_background": "light"
     },
     "output_type": "display_data"
    }
   ],
   "source": [
    "squarify.plot(values)"
   ]
  },
  {
   "cell_type": "code",
   "execution_count": null,
   "id": "cordless-symphony",
   "metadata": {},
   "outputs": [],
   "source": []
  }
 ],
 "metadata": {
  "kernelspec": {
   "display_name": "Python 3",
   "language": "python",
   "name": "python3"
  },
  "language_info": {
   "codemirror_mode": {
    "name": "ipython",
    "version": 3
   },
   "file_extension": ".py",
   "mimetype": "text/x-python",
   "name": "python",
   "nbconvert_exporter": "python",
   "pygments_lexer": "ipython3",
   "version": "3.6.9"
  }
 },
 "nbformat": 4,
 "nbformat_minor": 5
}
