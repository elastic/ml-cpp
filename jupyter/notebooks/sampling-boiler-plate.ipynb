{
 "cells": [
  {
   "cell_type": "markdown",
   "id": "indie-proxy",
   "metadata": {},
   "source": [
    "# Data summarization evaluation\n",
    "\n",
    "1. From the dataset D create train dataset D1 (90%) and test dataset D0 (10%)\n",
    "2. Train model (M1) on the dataset (D1)\n",
    "\n",
    "3. Generate a summarization dataset from D1 and M1 using some technique (D2i) with i: 25%, 50%, 75% of data\n",
    "\n",
    "4. Train a new model (M2i) on D2i. Identify a new set of best hyperparameters\n",
    "    \n",
    "5. Compare M1 and M2i\n",
    "    1. Compare errors of M1 and M2i on the complete dataset D1.\n",
    "    2. Compare errors M1 and M2i on D1\\D2i\n",
    "    3. Compare errors on the test dataset (D0)\n",
    "    4. (Compare feature importance vectors for individual data points from M1 and M2i)"
   ]
  },
  {
   "cell_type": "code",
   "execution_count": 1,
   "id": "dental-morocco",
   "metadata": {},
   "outputs": [],
   "source": [
    "%load_ext autoreload\n",
    "%autoreload 2\n",
    "%config Completer.use_jedi = False\n",
    "import json\n",
    "import string\n",
    "\n",
    "import pandas as pd\n",
    "import numpy as np\n",
    "import diversipy\n",
    "\n",
    "from IPython import display\n",
    "import seaborn as sns\n",
    "import matplotlib.pyplot as plt\n",
    "from matplotlib.colors import Colormap\n",
    "from sklearn.metrics import max_error, mean_absolute_error, mean_squared_error\n",
    "from sklearn.model_selection import train_test_split\n",
    "from graphviz import Digraph\n",
    "\n",
    "from utils.misc import *\n",
    "\n"
   ]
  },
  {
   "cell_type": "code",
   "execution_count": 2,
   "id": "noticed-kennedy",
   "metadata": {},
   "outputs": [],
   "source": [
    "dataset_name = 'ccpp'"
   ]
  },
  {
   "cell_type": "code",
   "execution_count": 3,
   "id": "bronze-petite",
   "metadata": {},
   "outputs": [],
   "source": [
    "D = pd.read_csv('datasets/{}.csv'.format(dataset_name))\n",
    "D.drop_duplicates(inplace=True)"
   ]
  },
  {
   "cell_type": "markdown",
   "id": "medium-opera",
   "metadata": {},
   "source": [
    "## 1. From the dataset D create train dataset D1 (90%) and test dataset D0 (10%)"
   ]
  },
  {
   "cell_type": "code",
   "execution_count": 4,
   "id": "radical-carnival",
   "metadata": {},
   "outputs": [],
   "source": [
    "D1, D0 = train_test_split(D, test_size = 0.1)"
   ]
  },
  {
   "cell_type": "markdown",
   "id": "american-humanitarian",
   "metadata": {},
   "source": [
    "## 2. Train model (M1) on the dataset (D1)"
   ]
  },
  {
   "cell_type": "code",
   "execution_count": 5,
   "id": "incorporated-mineral",
   "metadata": {},
   "outputs": [
    {
     "name": "stdout",
     "output_type": "stream",
     "text": [
      "session: job_vpvjv\tcommand:\n",
      "/home/valeriy/Documents/workspace/valeriy42/ml-cpp/build/distribution/platform/linux-x86_64/bin/data_frame_analyzer --input /tmp/tmplqu_tm_n --config /tmp/tmpt3n3cor2 --output /tmp/tmplqs0kvld --persist /tmp/tmpq5yo8syb\n"
     ]
    }
   ],
   "source": [
    "job1 = train(dataset_name, D1)"
   ]
  },
  {
   "cell_type": "code",
   "execution_count": 6,
   "id": "progressive-hotel",
   "metadata": {},
   "outputs": [
    {
     "data": {
      "text/html": [
       "<table><tr>\n",
       "                                                        <td width=\"50%\" style=\"text-align:center;\"><b>stderr</b></td>\n",
       "                                                        <td width=\"50%\" style=\"text-align:center;\"><b>output</b></td>\n",
       "                                                        </tr>\n",
       "                                                        <tr>\n",
       "                                                        <td width=\"50%\" style=\"text-align:left;\"><pre> /home/valeriy/Documents/workspace/valeriy42/ml-cpp/build/distribution/platform/linux-x86_64/bin/data_frame_analyzer --input /tmp/tmplqu_tm_n --config /tmp/tmpt3n3cor2 --output /tmp/tmplqs0kvld --persist /tmp/tmpq5yo8syb\n",
       "(env) ✔ ~/Documents/workspace/valeriy42/ml-cpp/jupyter/notebooks [summarization-runs|✚ 4…11⚑ 3]\n",
       "15:08 $  /home/valeriy/Documents/workspace/valeriy42/ml-cpp/build/distribution/platform/linux-x86_64/bin/data_frame_analyzer --input /tmp/tmplqu_tm_n --config /tmp/tmpt3n3cor2 --output /tmp/tmplqs0kvld --persist /tmp/tmpq5yo8syb\n",
       "2021-03-05 14:08:18,239730 UTC [587] DEBUG Main.cc@141 data_frame_analyzer (64 bit): Version based on 8.0.0-SNAPSHOT (Build DEVELOPMENT BUILD by valeriy) Copyright (c) 2021 Elasticsearch BV\n",
       "2021-03-05 14:08:18,239804 UTC [587] DEBUG CProcessPriority_Linux.cc@33 Successfully increased OOM killer adjustment via /proc/self/oom_score_adj\n",
       "2021-03-05 14:08:18,239823 UTC [587] DEBUG CSystemCallFilter_Linux.cc@127 Seccomp BPF filters available\n",
       "2021-03-05 14:08:18,241453 UTC [587] DEBUG CSystemCallFilter_Linux.cc@153 Seccomp BPF installed\n",
       "2021-03-05 14:08:18,248997 UTC [587] DEBUG CDataFrameAnalyzer.cc@104 Received 8574 rows\n",
       "2021-03-05 14:09:24,175228 UTC [587] INFO  CBoostedTreeImpl.cc@237 Exiting hyperparameter optimisation loop early\n",
       "2021-03-05 14:09:30,713115 UTC [587] INFO  Main.cc@241 [{\"name\":\"E_DFTPMEstimatedPeakMemoryUsage\",\"description\":\"The upfront estimate of the peak memory training the predictive model would use\",\"value\":27035131}\n",
       ",{\"name\":\"E_DFTPMPeakMemoryUsage\",\"description\":\"The peak memory training the predictive model used\",\"value\":12106038}\n",
       ",{\"name\":\"E_DFTPMTimeToTrain\",\"description\":\"The time it took to train the predictive model\",\"value\":71440}\n",
       ",{\"name\":\"E_DFTPMTrainedForestNumberTrees\",\"description\":\"The total number of trees in the trained forest\",\"value\":273}\n",
       "]\n",
       "2021-03-05 14:09:30,713173 UTC [587] DEBUG Main.cc@246 ML data frame analyzer exiting\n",
       "(env) ✔ ~/Documents/workspace/valeriy42/ml-cpp/jupyter/notebooks [summarization-runs|✚ 4…11⚑ 3]\n",
       "15:09 $</pre></td>\n",
       "                                                        <td width=\"50%\" style=\"text-align:left;\"><pre>,{\"row_results\":{\"checksum\":0,\"results\":{\"ml\":{\"PE_prediction\":447.4771423339844\n",
       ",{\"row_results\":{\"checksum\":0,\"results\":{\"ml\":{\"PE_prediction\":433.3771362304687\n",
       ",{\"row_results\":{\"checksum\":0,\"results\":{\"ml\":{\"PE_prediction\":482.2739562988281\n",
       ",{\"row_results\":{\"checksum\":0,\"results\":{\"ml\":{\"PE_prediction\":479.3952026367187\n",
       ",{\"row_results\":{\"checksum\":0,\"results\":{\"ml\":{\"PE_prediction\":479.8197021484375\n",
       ",{\"row_results\":{\"checksum\":0,\"results\":{\"ml\":{\"PE_prediction\":433.4415893554687\n",
       ",{\"row_results\":{\"checksum\":0,\"results\":{\"ml\":{\"PE_prediction\":443.3666381835937\n",
       ",{\"row_results\":{\"checksum\":0,\"results\":{\"ml\":{\"PE_prediction\":459.1535034179687\n",
       ",{\"model_metadata\":{\"total_feature_importance\":[],\"hyperparameters\":[{\"name\":\"do\n",
       "]</pre></td>\n",
       "                                                        </tr>\n",
       "                                                </table>"
      ]
     },
     "metadata": {},
     "output_type": "display_data"
    },
    {
     "name": "stdout",
     "output_type": "stream",
     "text": [
      "Job succeeded\n"
     ]
    },
    {
     "data": {
      "text/plain": [
       "True"
      ]
     },
     "execution_count": 6,
     "metadata": {},
     "output_type": "execute_result"
    }
   ],
   "source": [
    "job1.wait_to_complete()"
   ]
  },
  {
   "cell_type": "markdown",
   "id": "driving-carrier",
   "metadata": {},
   "source": [
    "## 3. Generate a summarization dataset from D1 and M1 using some technique (D2i) with i: 25%, 50%, 75% of data"
   ]
  },
  {
   "cell_type": "code",
   "execution_count": 7,
   "id": "social-orleans",
   "metadata": {},
   "outputs": [],
   "source": [
    "D2 = {}\n",
    "for i in [0.25, 0.5, 0.75]:\n",
    "    D2[i] = summarize(dataset_name=dataset_name, dataset=D1, size=i, model=job1.model)"
   ]
  },
  {
   "cell_type": "markdown",
   "id": "specific-salon",
   "metadata": {},
   "source": [
    "## 4. Train a new model (M2i) on D2i"
   ]
  },
  {
   "cell_type": "code",
   "execution_count": 8,
   "id": "clean-james",
   "metadata": {},
   "outputs": [
    {
     "data": {
      "text/html": [
       "<table><tr>\n",
       "                                                        <td width=\"50%\" style=\"text-align:center;\"><b>stderr</b></td>\n",
       "                                                        <td width=\"50%\" style=\"text-align:center;\"><b>output</b></td>\n",
       "                                                        </tr>\n",
       "                                                        <tr>\n",
       "                                                        <td width=\"50%\" style=\"text-align:left;\"><pre> /home/valeriy/Documents/workspace/valeriy42/ml-cpp/build/distribution/platform/linux-x86_64/bin/data_frame_analyzer --input /tmp/tmpz5b13cx6 --config /tmp/tmpa1osvldi --output /tmp/tmpea37n9ls --persist /tmp/tmpbz1ymf_a\n",
       "(env) ✔ ~/Documents/workspace/valeriy42/ml-cpp/jupyter/notebooks [summarization-runs|✚ 4…11⚑ 3]\n",
       "15:10 $  /home/valeriy/Documents/workspace/valeriy42/ml-cpp/build/distribution/platform/linux-x86_64/bin/data_frame_analyzer --input /tmp/tmpz5b13cx6 --config /tmp/tmpa1osvldi --output /tmp/tmpea37n9ls --persist /tmp/tmpbz1ymf_a\n",
       "2021-03-05 14:10:30,765787 UTC [14210] DEBUG Main.cc@141 data_frame_analyzer (64 bit): Version based on 8.0.0-SNAPSHOT (Build DEVELOPMENT BUILD by valeriy) Copyright (c) 2021 Elasticsearch BV\n",
       "2021-03-05 14:10:30,765833 UTC [14210] DEBUG CProcessPriority_Linux.cc@33 Successfully increased OOM killer adjustment via /proc/self/oom_score_adj\n",
       "2021-03-05 14:10:30,765847 UTC [14210] DEBUG CSystemCallFilter_Linux.cc@127 Seccomp BPF filters available\n",
       "2021-03-05 14:10:30,766250 UTC [14210] DEBUG CSystemCallFilter_Linux.cc@153 Seccomp BPF installed\n",
       "2021-03-05 14:10:30,772242 UTC [14210] DEBUG CDataFrameAnalyzer.cc@104 Received 6430 rows\n",
       "2021-03-05 14:11:11,571567 UTC [14210] INFO  CBoostedTreeImpl.cc@237 Exiting hyperparameter optimisation loop early\n",
       "2021-03-05 14:11:16,476417 UTC [14210] INFO  Main.cc@241 [{\"name\":\"E_DFTPMEstimatedPeakMemoryUsage\",\"description\":\"The upfront estimate of the peak memory training the predictive model would use\",\"value\":25708036}\n",
       ",{\"name\":\"E_DFTPMPeakMemoryUsage\",\"description\":\"The peak memory training the predictive model used\",\"value\":9462861}\n",
       ",{\"name\":\"E_DFTPMTimeToTrain\",\"description\":\"The time it took to train the predictive model\",\"value\":44528}\n",
       ",{\"name\":\"E_DFTPMTrainedForestNumberTrees\",\"description\":\"The total number of trees in the trained forest\",\"value\":250}\n",
       "]\n",
       "2021-03-05 14:11:16,476464 UTC [14210] DEBUG Main.cc@246 ML data frame analyzer exiting\n",
       "(env) ✔ ~/Documents/workspace/valeriy42/ml-cpp/jupyter/notebooks [summarization-runs|✚ 4…11⚑ 3]\n",
       "15:11 $</pre></td>\n",
       "                                                        <td width=\"50%\" style=\"text-align:left;\"><pre>,{\"row_results\":{\"checksum\":0,\"results\":{\"ml\":{\"PE_prediction\":441.6195983886719\n",
       ",{\"row_results\":{\"checksum\":0,\"results\":{\"ml\":{\"PE_prediction\":432.2249145507812\n",
       ",{\"row_results\":{\"checksum\":0,\"results\":{\"ml\":{\"PE_prediction\":464.4483947753906\n",
       ",{\"row_results\":{\"checksum\":0,\"results\":{\"ml\":{\"PE_prediction\":448.7193908691406\n",
       ",{\"row_results\":{\"checksum\":0,\"results\":{\"ml\":{\"PE_prediction\":466.0024108886719\n",
       ",{\"row_results\":{\"checksum\":0,\"results\":{\"ml\":{\"PE_prediction\":479.8018188476562\n",
       ",{\"row_results\":{\"checksum\":0,\"results\":{\"ml\":{\"PE_prediction\":440.9210205078125\n",
       ",{\"row_results\":{\"checksum\":0,\"results\":{\"ml\":{\"PE_prediction\":433.9494323730469\n",
       ",{\"model_metadata\":{\"total_feature_importance\":[],\"hyperparameters\":[{\"name\":\"do\n",
       "]</pre></td>\n",
       "                                                        </tr>\n",
       "                                                </table>"
      ]
     },
     "metadata": {},
     "output_type": "display_data"
    },
    {
     "name": "stdout",
     "output_type": "stream",
     "text": [
      "Job succeeded\n"
     ]
    }
   ],
   "source": [
    "jobs2 = {}\n",
    "for fraction,D2i in D2.items():\n",
    "    job = train(dataset_name, D2i) \n",
    "    job.wait_to_complete()\n",
    "    jobs2[fraction] = job"
   ]
  },
  {
   "cell_type": "markdown",
   "id": "addressed-polymer",
   "metadata": {},
   "source": [
    "## 5. Compare M1 and M2i"
   ]
  },
  {
   "cell_type": "markdown",
   "id": "brown-philadelphia",
   "metadata": {},
   "source": [
    "### A. Compare errors of M1 and M2i on the complete dataset D1."
   ]
  },
  {
   "cell_type": "code",
   "execution_count": 9,
   "id": "governmental-proposal",
   "metadata": {},
   "outputs": [
    {
     "data": {
      "text/html": [
       "<table><tr>\n",
       "                                                        <td width=\"50%\" style=\"text-align:center;\"><b>stderr</b></td>\n",
       "                                                        <td width=\"50%\" style=\"text-align:center;\"><b>output</b></td>\n",
       "                                                        </tr>\n",
       "                                                        <tr>\n",
       "                                                        <td width=\"50%\" style=\"text-align:left;\"><pre> /home/valeriy/Documents/workspace/valeriy42/ml-cpp/build/distribution/platform/linux-x86_64/bin/data_frame_analyzer --input /tmp/tmp5h6mv3f4 --config /tmp/tmp3ab5g5no --output /tmp/tmpcgsbbfy3 --restore /tmp/tmpdq7o9io_\n",
       "(env) ✔ ~/Documents/workspace/valeriy42/ml-cpp/jupyter/notebooks [summarization-runs|✚ 4…11⚑ 3]\n",
       "15:11 $  /home/valeriy/Documents/workspace/valeriy42/ml-cpp/build/distribution/platform/linux-x86_64/bin/data_frame_analyzer --input /tmp/tmp5h6mv3f4 --config /tmp/tmp3ab5g5no --output /tmp/tmpcgsbbfy3 --restore /tmp/tmpdq7o9io_\n",
       "2021-03-05 14:11:32,894702 UTC [21755] DEBUG Main.cc@141 data_frame_analyzer (64 bit): Version based on 8.0.0-SNAPSHOT (Build DEVELOPMENT BUILD by valeriy) Copyright (c) 2021 Elasticsearch BV\n",
       "2021-03-05 14:11:32,894764 UTC [21755] DEBUG CProcessPriority_Linux.cc@33 Successfully increased OOM killer adjustment via /proc/self/oom_score_adj\n",
       "2021-03-05 14:11:32,894780 UTC [21755] DEBUG CSystemCallFilter_Linux.cc@127 Seccomp BPF filters available\n",
       "2021-03-05 14:11:32,895243 UTC [21755] DEBUG CSystemCallFilter_Linux.cc@153 Seccomp BPF installed\n",
       "2021-03-05 14:11:32,902867 UTC [21755] DEBUG CDataFrameAnalyzer.cc@104 Received 8574 rows\n",
       "2021-03-05 14:11:34,530504 UTC [21755] DEBUG CStateDecompressor.cc@168 Explicit end-of-stream marker found in document with index 1\n",
       "2021-03-05 14:11:38,048881 UTC [21755] INFO  CBoostedTreeImpl.cc@237 Exiting hyperparameter optimisation loop early\n",
       "2021-03-05 14:11:39,549363 UTC [21755] INFO  Main.cc@241 [{\"name\":\"E_DFTPMEstimatedPeakMemoryUsage\",\"description\":\"The upfront estimate of the peak memory training the predictive model would use\",\"value\":27035131}\n",
       ",{\"name\":\"E_DFTPMPeakMemoryUsage\",\"description\":\"The peak memory training the predictive model used\",\"value\":15419603}\n",
       ",{\"name\":\"E_DFTPMTimeToTrain\",\"description\":\"The time it took to train the predictive model\",\"value\":5604}\n",
       ",{\"name\":\"E_DFTPMTrainedForestNumberTrees\",\"description\":\"The total number of trees in the trained forest\",\"value\":250}\n",
       "]\n",
       "2021-03-05 14:11:39,549407 UTC [21755] DEBUG Main.cc@246 ML data frame analyzer exiting\n",
       "(env) ✔ ~/Documents/workspace/valeriy42/ml-cpp/jupyter/notebooks [summarization-runs|✚ 4…11⚑ 3]\n",
       "15:11 $</pre></td>\n",
       "                                                        <td width=\"50%\" style=\"text-align:left;\"><pre>,{\"row_results\":{\"checksum\":0,\"results\":{\"ml\":{\"PE_prediction\":448.3068542480469\n",
       ",{\"row_results\":{\"checksum\":0,\"results\":{\"ml\":{\"PE_prediction\":434.8985595703125\n",
       ",{\"row_results\":{\"checksum\":0,\"results\":{\"ml\":{\"PE_prediction\":482.3186340332031\n",
       ",{\"row_results\":{\"checksum\":0,\"results\":{\"ml\":{\"PE_prediction\":479.7306518554687\n",
       ",{\"row_results\":{\"checksum\":0,\"results\":{\"ml\":{\"PE_prediction\":479.8402709960937\n",
       ",{\"row_results\":{\"checksum\":0,\"results\":{\"ml\":{\"PE_prediction\":432.5671691894531\n",
       ",{\"row_results\":{\"checksum\":0,\"results\":{\"ml\":{\"PE_prediction\":443.8118591308594\n",
       ",{\"row_results\":{\"checksum\":0,\"results\":{\"ml\":{\"PE_prediction\":459.052734375,\"is\n",
       ",{\"model_metadata\":{\"total_feature_importance\":[],\"hyperparameters\":[{\"name\":\"do\n",
       "]</pre></td>\n",
       "                                                        </tr>\n",
       "                                                </table>"
      ]
     },
     "metadata": {},
     "output_type": "display_data"
    },
    {
     "name": "stdout",
     "output_type": "stream",
     "text": [
      "Job succeeded\n"
     ]
    },
    {
     "data": {
      "text/plain": [
       "Text(0.5, 1.0, 'ccpp: Compare errors of M1 and M2i on the complete dataset D1')"
      ]
     },
     "execution_count": 9,
     "metadata": {},
     "output_type": "execute_result"
    },
    {
     "data": {
      "image/png": "[encoded data removed]",
      "text/plain": [
       "<Figure size 432x288 with 1 Axes>"
      ]
     },
     "metadata": {
      "needs_background": "light"
     },
     "output_type": "display_data"
    }
   ],
   "source": [
    "y_true = D1[job1.dependent_variable]\n",
    "\n",
    "y_M1 = job1.get_predictions()\n",
    "y_M2 = {}\n",
    "for i,job2i in jobs2.items():\n",
    "    eval_job = evaluate(dataset_name=dataset_name, dataset=D1, model=job2i.model)\n",
    "    success = eval_job.wait_to_complete()\n",
    "    if not success:\n",
    "        print('{} failed'.format(i))\n",
    "        break\n",
    "    y_M2[i] = eval_job.get_predictions()\n",
    "\n",
    "plt.plot(y_M2.keys(), [mean_squared_error(y_true, y_M1)]*3, label='M1')\n",
    "plt.plot(y_M2.keys(), [mean_squared_error(y_true, y) for y in  y_M2.values()], label='M2')\n",
    "plt.xticks(list(y_M2.keys()))\n",
    "plt.xlabel('Sampling fraction')\n",
    "plt.ylabel('MSE')\n",
    "plt.legend()\n",
    "plt.title('{}: Compare errors of M1 and M2i on the complete dataset D1'.format(dataset_name))"
   ]
  },
  {
   "cell_type": "markdown",
   "id": "harmful-overall",
   "metadata": {},
   "source": [
    "### B. Compare errors M1 and M2i on D1\\D2i"
   ]
  },
  {
   "cell_type": "code",
   "execution_count": 10,
   "id": "valued-antenna",
   "metadata": {},
   "outputs": [
    {
     "data": {
      "text/html": [
       "<table><tr>\n",
       "                                                        <td width=\"50%\" style=\"text-align:center;\"><b>stderr</b></td>\n",
       "                                                        <td width=\"50%\" style=\"text-align:center;\"><b>output</b></td>\n",
       "                                                        </tr>\n",
       "                                                        <tr>\n",
       "                                                        <td width=\"50%\" style=\"text-align:left;\"><pre> /home/valeriy/Documents/workspace/valeriy42/ml-cpp/build/distribution/platform/linux-x86_64/bin/data_frame_analyzer --input /tmp/tmpy0dgpfri --config /tmp/tmp3vafwxz5 --output /tmp/tmpxfzmas3x --restore /tmp/tmp8n1y0d3k\n",
       "(env) ✔ ~/Documents/workspace/valeriy42/ml-cpp/jupyter/notebooks [summarization-runs|✚ 4…11⚑ 3]\n",
       "15:12 $  /home/valeriy/Documents/workspace/valeriy42/ml-cpp/build/distribution/platform/linux-x86_64/bin/data_frame_analyzer --input /tmp/tmpy0dgpfri --config /tmp/tmp3vafwxz5 --output /tmp/tmpxfzmas3x --restore /tmp/tmp8n1y0d3k\n",
       "2021-03-05 14:12:26,705277 UTC [31782] DEBUG Main.cc@141 data_frame_analyzer (64 bit): Version based on 8.0.0-SNAPSHOT (Build DEVELOPMENT BUILD by valeriy) Copyright (c) 2021 Elasticsearch BV\n",
       "2021-03-05 14:12:26,705350 UTC [31782] DEBUG CProcessPriority_Linux.cc@33 Successfully increased OOM killer adjustment via /proc/self/oom_score_adj\n",
       "2021-03-05 14:12:26,705364 UTC [31782] DEBUG CSystemCallFilter_Linux.cc@127 Seccomp BPF filters available\n",
       "2021-03-05 14:12:26,705780 UTC [31782] DEBUG CSystemCallFilter_Linux.cc@153 Seccomp BPF installed\n",
       "2021-03-05 14:12:26,707920 UTC [31782] DEBUG CDataFrameAnalyzer.cc@104 Received 2144 rows\n",
       "2021-03-05 14:12:28,897540 UTC [31782] DEBUG CStateDecompressor.cc@168 Explicit end-of-stream marker found in document with index 1\n",
       "2021-03-05 14:12:29,554332 UTC [31782] INFO  CBoostedTreeImpl.cc@237 Exiting hyperparameter optimisation loop early\n",
       "2021-03-05 14:12:30,339911 UTC [31782] INFO  Main.cc@241 [{\"name\":\"E_DFTPMEstimatedPeakMemoryUsage\",\"description\":\"The upfront estimate of the peak memory training the predictive model would use\",\"value\":22200141}\n",
       ",{\"name\":\"E_DFTPMPeakMemoryUsage\",\"description\":\"The peak memory training the predictive model used\",\"value\":11864468}\n",
       ",{\"name\":\"E_DFTPMTimeToTrain\",\"description\":\"The time it took to train the predictive model\",\"value\":3000}\n",
       ",{\"name\":\"E_DFTPMTrainedForestNumberTrees\",\"description\":\"The total number of trees in the trained forest\",\"value\":250}\n",
       "]\n",
       "2021-03-05 14:12:30,339954 UTC [31782] DEBUG Main.cc@246 ML data frame analyzer exiting\n",
       "(env) ✔ ~/Documents/workspace/valeriy42/ml-cpp/jupyter/notebooks [summarization-runs|✚ 4…11⚑ 3]\n",
       "15:12 $</pre></td>\n",
       "                                                        <td width=\"50%\" style=\"text-align:left;\"><pre>,{\"row_results\":{\"checksum\":0,\"results\":{\"ml\":{\"PE_prediction\":483.6461791992187\n",
       ",{\"row_results\":{\"checksum\":0,\"results\":{\"ml\":{\"PE_prediction\":443.3855285644531\n",
       ",{\"row_results\":{\"checksum\":0,\"results\":{\"ml\":{\"PE_prediction\":452.6561584472656\n",
       ",{\"row_results\":{\"checksum\":0,\"results\":{\"ml\":{\"PE_prediction\":473.5947875976562\n",
       ",{\"row_results\":{\"checksum\":0,\"results\":{\"ml\":{\"PE_prediction\":478.2857055664062\n",
       ",{\"row_results\":{\"checksum\":0,\"results\":{\"ml\":{\"PE_prediction\":438.8918762207031\n",
       ",{\"row_results\":{\"checksum\":0,\"results\":{\"ml\":{\"PE_prediction\":439.0918884277344\n",
       ",{\"row_results\":{\"checksum\":0,\"results\":{\"ml\":{\"PE_prediction\":477.8826293945312\n",
       ",{\"model_metadata\":{\"total_feature_importance\":[],\"hyperparameters\":[{\"name\":\"do\n",
       "]</pre></td>\n",
       "                                                        </tr>\n",
       "                                                </table>"
      ]
     },
     "metadata": {},
     "output_type": "display_data"
    },
    {
     "name": "stdout",
     "output_type": "stream",
     "text": [
      "Job succeeded\n"
     ]
    },
    {
     "data": {
      "text/plain": [
       "Text(0.5, 1.0, 'ccpp: Compare errors M1 and M2i on D1\\\\D2i')"
      ]
     },
     "execution_count": 10,
     "metadata": {},
     "output_type": "execute_result"
    },
    {
     "data": {
      "image/png": "[encoded data removed]",
      "text/plain": [
       "<Figure size 432x288 with 1 Axes>"
      ]
     },
     "metadata": {
      "needs_background": "light"
     },
     "output_type": "display_data"
    }
   ],
   "source": [
    "ds1 = set([tuple(line) for line in D1.values])\n",
    "D1notD2 = {}\n",
    "for key,D2i in D2.items():\n",
    "    ds2 = set([tuple(line) for line in D2i.values])\n",
    "    D1notD2[key] = pd.DataFrame(list(ds1.difference(ds2)), columns=D1.columns)\n",
    "\n",
    "y_M1 = {}\n",
    "y_M2 = {}\n",
    "for key,job2i in jobs2.items():\n",
    "    eval_job = evaluate(dataset_name=dataset_name, dataset=D1notD2[key], model=job1.model)\n",
    "    success = eval_job.wait_to_complete()\n",
    "    if not success:\n",
    "        print('M1 evaluation for {} failed'.format(key))\n",
    "        break\n",
    "    y_M1[key] = eval_job.get_predictions()\n",
    "    \n",
    "    eval_job = evaluate(dataset_name=dataset_name, dataset=D1notD2[key], model=job2i.model)\n",
    "    success = eval_job.wait_to_complete()\n",
    "    if not success:\n",
    "        print('M2 evaluation for {} failed'.format(key))\n",
    "        break\n",
    "    y_M2[key] = eval_job.get_predictions()\n",
    "\n",
    "plt.plot(y_M1.keys(), [mean_squared_error(D1notD2[k][job1.dependent_variable], y) for k, y in  y_M1.items()], \n",
    "         label='M1')\n",
    "plt.plot(y_M2.keys(), [mean_squared_error(D1notD2[k][job1.dependent_variable], y) for k, y in  y_M2.items()], \n",
    "         label='M2')\n",
    "plt.xticks(list(y_M2.keys()))\n",
    "plt.xlabel('Sampling fraction')\n",
    "plt.ylabel('MSE')\n",
    "plt.legend()\n",
    "plt.title('{}: Compare errors M1 and M2i on D1\\\\D2i'.format(dataset_name))"
   ]
  },
  {
   "cell_type": "markdown",
   "id": "wooden-deficit",
   "metadata": {},
   "source": [
    "### C. Compare errors on the test dataset (D0)"
   ]
  },
  {
   "cell_type": "code",
   "execution_count": 11,
   "id": "creative-result",
   "metadata": {},
   "outputs": [
    {
     "data": {
      "text/html": [
       "<table><tr>\n",
       "                                                        <td width=\"50%\" style=\"text-align:center;\"><b>stderr</b></td>\n",
       "                                                        <td width=\"50%\" style=\"text-align:center;\"><b>output</b></td>\n",
       "                                                        </tr>\n",
       "                                                        <tr>\n",
       "                                                        <td width=\"50%\" style=\"text-align:left;\"><pre> /home/valeriy/Documents/workspace/valeriy42/ml-cpp/build/distribution/platform/linux-x86_64/bin/data_frame_analyzer --input /tmp/tmpo9cd6hu0 --config /tmp/tmp077nev9z --output /tmp/tmp_xiolna4 --restore /tmp/tmpqeydqodi\n",
       "(env) ✔ ~/Documents/workspace/valeriy42/ml-cpp/jupyter/notebooks [summarization-runs|✚ 4…11⚑ 3]\n",
       "15:12 $  /home/valeriy/Documents/workspace/valeriy42/ml-cpp/build/distribution/platform/linux-x86_64/bin/data_frame_analyzer --input /tmp/tmpo9cd6hu0 --config /tmp/tmp077nev9z --output /tmp/tmp_xiolna4 --restore /tmp/tmpqeydqodi\n",
       "2021-03-05 14:12:54,031831 UTC [5751] DEBUG Main.cc@141 data_frame_analyzer (64 bit): Version based on 8.0.0-SNAPSHOT (Build DEVELOPMENT BUILD by valeriy) Copyright (c) 2021 Elasticsearch BV\n",
       "2021-03-05 14:12:54,031895 UTC [5751] DEBUG CProcessPriority_Linux.cc@33 Successfully increased OOM killer adjustment via /proc/self/oom_score_adj\n",
       "2021-03-05 14:12:54,031914 UTC [5751] DEBUG CSystemCallFilter_Linux.cc@127 Seccomp BPF filters available\n",
       "2021-03-05 14:12:54,032297 UTC [5751] DEBUG CSystemCallFilter_Linux.cc@153 Seccomp BPF installed\n",
       "2021-03-05 14:12:54,034516 UTC [5751] DEBUG CDataFrameAnalyzer.cc@104 Received 953 rows\n",
       "2021-03-05 14:12:55,858888 UTC [5751] DEBUG CStateDecompressor.cc@168 Explicit end-of-stream marker found in document with index 1\n",
       "2021-03-05 14:12:56,134544 UTC [5751] INFO  CBoostedTreeImpl.cc@237 Exiting hyperparameter optimisation loop early\n",
       "2021-03-05 14:12:57,743846 UTC [5751] INFO  Main.cc@241 [{\"name\":\"E_DFTPMEstimatedPeakMemoryUsage\",\"description\":\"The upfront estimate of the peak memory training the predictive model would use\",\"value\":18607436}\n",
       ",{\"name\":\"E_DFTPMPeakMemoryUsage\",\"description\":\"The peak memory training the predictive model used\",\"value\":10383392}\n",
       ",{\"name\":\"E_DFTPMTimeToTrain\",\"description\":\"The time it took to train the predictive model\",\"value\":2176}\n",
       ",{\"name\":\"E_DFTPMTrainedForestNumberTrees\",\"description\":\"The total number of trees in the trained forest\",\"value\":250}\n",
       "]\n",
       "2021-03-05 14:12:57,743944 UTC [5751] DEBUG Main.cc@246 ML data frame analyzer exiting\n",
       "(env) ✔ ~/Documents/workspace/valeriy42/ml-cpp/jupyter/notebooks [summarization-runs|✚ 4…11⚑ 3]\n",
       "15:12 $</pre></td>\n",
       "                                                        <td width=\"50%\" style=\"text-align:left;\"><pre>,{\"row_results\":{\"checksum\":0,\"results\":{\"ml\":{\"PE_prediction\":432.7692260742187\n",
       ",{\"row_results\":{\"checksum\":0,\"results\":{\"ml\":{\"PE_prediction\":479.1124877929687\n",
       ",{\"row_results\":{\"checksum\":0,\"results\":{\"ml\":{\"PE_prediction\":460.7373352050781\n",
       ",{\"row_results\":{\"checksum\":0,\"results\":{\"ml\":{\"PE_prediction\":464.3152160644531\n",
       ",{\"row_results\":{\"checksum\":0,\"results\":{\"ml\":{\"PE_prediction\":447.8741149902344\n",
       ",{\"row_results\":{\"checksum\":0,\"results\":{\"ml\":{\"PE_prediction\":465.9892578125,\"i\n",
       ",{\"row_results\":{\"checksum\":0,\"results\":{\"ml\":{\"PE_prediction\":465.9057922363281\n",
       ",{\"row_results\":{\"checksum\":0,\"results\":{\"ml\":{\"PE_prediction\":461.6562805175781\n",
       ",{\"model_metadata\":{\"total_feature_importance\":[],\"hyperparameters\":[{\"name\":\"do\n",
       "]</pre></td>\n",
       "                                                        </tr>\n",
       "                                                </table>"
      ]
     },
     "metadata": {},
     "output_type": "display_data"
    },
    {
     "name": "stdout",
     "output_type": "stream",
     "text": [
      "Job succeeded\n"
     ]
    },
    {
     "data": {
      "text/plain": [
       "Text(0.5, 1.0, 'ccpp: Compare errors on the test dataset (D0)')"
      ]
     },
     "execution_count": 11,
     "metadata": {},
     "output_type": "execute_result"
    },
    {
     "data": {
      "image/png": "[encoded data removed]",
      "text/plain": [
       "<Figure size 432x288 with 1 Axes>"
      ]
     },
     "metadata": {
      "needs_background": "light"
     },
     "output_type": "display_data"
    }
   ],
   "source": [
    "y_true = D0[job1.dependent_variable]\n",
    "\n",
    "eval_job = evaluate(dataset_name=dataset_name, dataset=D0, model=job1.model)\n",
    "success = eval_job.wait_to_complete()\n",
    "y_M1 = eval_job.get_predictions()\n",
    "\n",
    "y_M2 = {}\n",
    "for i,job2i in jobs2.items():\n",
    "    eval_job = evaluate(dataset_name=dataset_name, dataset=D0, model=job2i.model)\n",
    "    success = eval_job.wait_to_complete()\n",
    "    if not success:\n",
    "        print('{} failed'.format(i))\n",
    "        break\n",
    "    y_M2[i] = eval_job.get_predictions()\n",
    "\n",
    "plt.plot(y_M2.keys(), [mean_squared_error(y_true, y_M1)]*3, label='M1')\n",
    "plt.plot(y_M2.keys(), [mean_squared_error(y_true, y) for y in  y_M2.values()], label='M2')\n",
    "plt.xticks(list(y_M2.keys()))\n",
    "plt.xlabel('Sampling fraction')\n",
    "plt.ylabel('MSE')\n",
    "plt.legend()\n",
    "plt.title('{}: Compare errors on the test dataset (D0)'.format(dataset_name))"
   ]
  }
 ],
 "metadata": {
  "kernelspec": {
   "display_name": "Python 3",
   "language": "python",
   "name": "python3"
  },
  "language_info": {
   "codemirror_mode": {
    "name": "ipython",
    "version": 3
   },
   "file_extension": ".py",
   "mimetype": "text/x-python",
   "name": "python",
   "nbconvert_exporter": "python",
   "pygments_lexer": "ipython3",
   "version": "3.6.9"
  }
 },
 "nbformat": 4,
 "nbformat_minor": 5
}
