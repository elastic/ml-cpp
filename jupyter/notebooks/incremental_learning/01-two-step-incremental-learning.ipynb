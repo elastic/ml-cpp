{
 "cells": [
  {
   "cell_type": "raw",
   "id": "981e5127",
   "metadata": {},
   "source": [
    "# Copyright Elasticsearch B.V. and/or licensed to Elasticsearch B.V. under one\n",
    "# or more contributor license agreements. Licensed under the Elastic License\n",
    "# 2.0 and the following additional limitation. Functionality enabled by the\n",
    "# files subject to the Elastic License 2.0 may only be used in production when\n",
    "# invoked by an Elasticsearch process with a license key installed that permits\n",
    "# use of machine learning features. You may not use this file except in\n",
    "# compliance with the Elastic License 2.0 and the foregoing additional\n",
    "# limitation.\n"
   ]
  },
  {
   "cell_type": "markdown",
   "id": "aaeb4b77",
   "metadata": {},
   "source": [
    "# Incremental Learning 1: Two-Step Incremental Learning\n",
    "\n",
    "1. Train model (M1) on the complete dataset (D1).\n",
    "2. Split the complete dataset (D1) into the base dataset (D2) and the update dataset (D3).\n",
    "3. Train a new model (M2) on D2 and update it using D3.\n",
    "4. Compare M1 and M2\n",
    "    1. Evaluation M1 and M2 on the complete dataset D1.\n",
    "    2. TODO: Compare feature importance vectors for individual data points from M1 and M2 (should be very similar)\n"
   ]
  },
  {
   "cell_type": "code",
   "execution_count": 1,
   "id": "f4765402",
   "metadata": {},
   "outputs": [],
   "source": [
    "%load_ext autoreload\n",
    "%autoreload 2\n",
    "%config Completer.use_jedi = False\n",
    "import pandas as pd\n",
    "import numpy as np\n",
    "from sklearn.model_selection import train_test_split\n",
    "\n",
    "import seaborn as sns\n",
    "import matplotlib.pyplot as plt\n",
    "from sklearn.metrics import max_error, mean_absolute_error, mean_squared_error\n",
    "\n",
    "from incremental_learning.config import datasets_dir, root_dir\n",
    "from incremental_learning.job import train, update, evaluate\n",
    "from incremental_learning.storage import download_dataset"
   ]
  },
  {
   "cell_type": "markdown",
   "id": "d3f3105b",
   "metadata": {},
   "source": [
    "## 1. Train model (M1) on the complete dataset (D1)"
   ]
  },
  {
   "cell_type": "code",
   "execution_count": 2,
   "id": "5b3df100",
   "metadata": {},
   "outputs": [
    {
     "name": "stderr",
     "output_type": "stream",
     "text": [
      "[W] incremental_learning >> File /Users/thomasveasey/ml-cpp/jupyter/data/configs/ccpp.json does not exist.\n",
      "[W] incremental_learning >> File /Users/thomasveasey/ml-cpp/jupyter/data/datasets/ccpp.csv does not exist.\n",
      "[I] incremental_learning >> Downloading configs/ccpp.json from the Google storage bucket to /Users/thomasveasey/ml-cpp/jupyter/data/configs/ccpp.json.\n",
      "[I] incremental_learning >> Retrieving datasets/ccpp.csv from the Google storage bucket to /Users/thomasveasey/ml-cpp/jupyter/data/datasets/ccpp.csv.\n"
     ]
    },
    {
     "name": "stdout",
     "output_type": "stream",
     "text": [
      "session: job_bpskw/var/folders/xn/wrmsjpr53z9g9pqrrz12p2t80000gn/T/tmp2nlvr3q8\tcommand:\n",
      "/Users/thomasveasey/ml-cpp/build/distribution/platform/darwin-x86_64/controller.app/Contents/MacOS/data_frame_analyzer --input /var/folders/xn/wrmsjpr53z9g9pqrrz12p2t80000gn/T/tmpkd24a6eu --config /var/folders/xn/wrmsjpr53z9g9pqrrz12p2t80000gn/T/tmp2nlvr3q8 --output /var/folders/xn/wrmsjpr53z9g9pqrrz12p2t80000gn/T/tmptnbxppa0 --validElasticLicenseKeyConfirmed true --persist /var/folders/xn/wrmsjpr53z9g9pqrrz12p2t80000gn/T/tmp9n5_lnmb; if [ $? -eq 0 ]; then echo \"Success\"; else echo \"Failure\";  fi;\n"
     ]
    }
   ],
   "source": [
    "dataset_name = 'ccpp'\n",
    "\n",
    "download_dataset(dataset_name)\n",
    "D1 = pd.read_csv(datasets_dir / '{}.csv'.format(dataset_name))\n",
    "D1.drop_duplicates(inplace=True)\n",
    "\n",
    "## sample 1000 rows just for test purposes!\n",
    "D1 = D1.sample(100)\n",
    "\n",
    "job1 = train(dataset_name, D1)"
   ]
  },
  {
   "cell_type": "code",
   "execution_count": 3,
   "id": "18004c6e",
   "metadata": {
    "scrolled": false
   },
   "outputs": [
    {
     "data": {
      "text/html": [
       "<table><tr>\n",
       "                                                                <td width=\"50%\" style=\"text-align:center;\"><b>stderr</b></td>\n",
       "                                                                <td width=\"50%\" style=\"text-align:center;\"><b>output</b></td>\n",
       "                                                                </tr>\n",
       "                                                                <tr>\n",
       "                                                                <td width=\"50%\" style=\"text-align:left;\"><pre> /Users/thomasveasey/ml-cpp/build/distribution/platform/darwin-x86_64/controller.app/Contents/MacOS/data_frame_analyzer --input /var/folders/xn/wrmsjpr53z9g9pqrrz12p2t80000gn/T/tmpkd24a6eu --config /var/folders/xn/wrmsjpr53z9g9pqrrz12p2t80000gn/T/tmp2nlvr3q8 --output /var/folders/xn/wrmsjpr53z9g9pqrrz12p2t80000gn/T/tmptnbxppa0 --validElasticLicenseKeyConfirmed true --persist /var/folders/xn/wrmsjpr53z9g9pqrrz12p2t80000gn/T/tmp9n5_lnmb; if [ $? -eq 0 ]; then echo \"Success\"; else echo \"Failure\";  fi\n",
       "Thomass-MBP-2:incremental_learning thomasveasey$  /Users/thomasveasey/ml-cpp/build/distribution/platform/darwin-x86_64/controller.app/Contents/MacOS/data_frame_analyzer --input /var/folders/xn/wrmsjpr53z9g9pqrrz12p2t80000gn/T/tmpkd24a6eu --config /var/folders/xn/wrmsjpr53z9g9pqrrz12p2t80000gn/T/tmp2nlvr3q8 --output /var/folders/xn/wrmsjpr53z9g9pqrrz12p2t80000gn/T/tmptnbxppa0 --validElasticLicenseKeyConfirmed true --persist /var/folders/xn/wrmsjpr53z9g9pqrrz12p2t80000gn/T/tmp9n5_lnmb; if [ $? -eq 0 ]; then echo \"Success\"; else echo \"Failure\";  fi\n",
       "2021-08-31 13:38:24,727257 UTC [25101] DEBUG /Users/thomasveasey/ml-cpp/bin/data_frame_analyzer/Main.cc@152 data_frame_analyzer (64 bit): Version 8.0.0-SNAPSHOT (Build 9c6dd776a6306b) Copyright (c) 2021 Elasticsearch BV\n",
       "2021-08-31 13:38:24,732526 UTC [25101] DEBUG /Users/thomasveasey/ml-cpp/lib/seccomp/CSystemCallFilter_MacOSX.cc@107 macOS sandbox initialized\n",
       "2021-08-31 13:38:24,733229 UTC [25101] DEBUG /Users/thomasveasey/ml-cpp/lib/api/CDataFrameAnalyzer.cc@107 Received 100 rows\n",
       "2021-08-31 13:38:25,619020 UTC [25101] INFO  /Users/thomasveasey/ml-cpp/lib/maths/CBoostedTreeImpl.cc@283 Exiting hyperparameter optimisation loop on round 7 out of 18.\n",
       "2021-08-31 13:38:25,776494 UTC [25101] INFO  /Users/thomasveasey/ml-cpp/bin/data_frame_analyzer/Main.cc@260 [{\"name\":\"E_DFTPMEstimatedPeakMemoryUsage\",\"description\":\"The upfront estimate of the peak memory training the predictive model would use\",\"value\":6032220}\n",
       ",{\"name\":\"E_DFTPMPeakMemoryUsage\",\"description\":\"The peak memory training the predictive model used\",\"value\":483183}\n",
       ",{\"name\":\"E_DFTPMTimeToTrain\",\"description\":\"The time it took to train the predictive model\",\"value\":889}\n",
       ",{\"name\":\"E_DFTPMTrainedForestNumberTrees\",\"description\":\"The total number of trees in the trained forest\",\"value\":20}\n",
       "]\n",
       "2021-08-31 13:38:25,776544 UTC [25101] DEBUG /Users/thomasveasey/ml-cpp/bin/data_frame_analyzer/Main.cc@265 ML data frame analyzer exiting\n",
       "Success\n",
       "Thomass-MBP-2:incremental_learning thomasveasey$</pre></td>\n",
       "                                                                <td width=\"50%\" style=\"text-align:left;\"><pre>,{\"row_results\":{\"checksum\":0,\"results\":{\"ml\":{\"PE_prediction\":478.9359130859375\n",
       ",{\"row_results\":{\"checksum\":0,\"results\":{\"ml\":{\"PE_prediction\":478.4656982421875\n",
       ",{\"row_results\":{\"checksum\":0,\"results\":{\"ml\":{\"PE_prediction\":477.7964782714844\n",
       ",{\"row_results\":{\"checksum\":0,\"results\":{\"ml\":{\"PE_prediction\":473.7346496582031\n",
       ",{\"row_results\":{\"checksum\":0,\"results\":{\"ml\":{\"PE_prediction\":465.1666870117187\n",
       ",{\"row_results\":{\"checksum\":0,\"results\":{\"ml\":{\"PE_prediction\":472.1876220703125\n",
       ",{\"row_results\":{\"checksum\":0,\"results\":{\"ml\":{\"PE_prediction\":469.7806091308594\n",
       ",{\"model_metadata\":{\"total_feature_importance\":[],\"hyperparameters\":[{\"name\":\"do\n",
       ",{\"compressed_data_summarization\":{\"doc_num\":0,\"data_summarization\":\"H4sIAAAAAAA\n",
       "]</pre></td>\n",
       "                                                                </tr>\n",
       "                                                        </table>"
      ]
     },
     "metadata": {},
     "output_type": "display_data"
    },
    {
     "name": "stdout",
     "output_type": "stream",
     "text": [
      "Job succeeded\n"
     ]
    },
    {
     "data": {
      "text/plain": [
       "28.319660186767578"
      ]
     },
     "execution_count": 3,
     "metadata": {},
     "output_type": "execute_result"
    }
   ],
   "source": [
    "job1.wait_to_complete()"
   ]
  },
  {
   "cell_type": "markdown",
   "id": "62632f57",
   "metadata": {},
   "source": [
    "## 2. Split the complete dataset (D1) into the base dataset (D2) and the update dataset (D3)."
   ]
  },
  {
   "cell_type": "code",
   "execution_count": 4,
   "id": "3d4a80d6",
   "metadata": {},
   "outputs": [],
   "source": [
    "D2, D3 = train_test_split(D1, test_size=0.2)"
   ]
  },
  {
   "cell_type": "markdown",
   "id": "e4f649c3",
   "metadata": {},
   "source": [
    "## 3. Train a new model (M2) on D2 and update it using D3."
   ]
  },
  {
   "cell_type": "code",
   "execution_count": 5,
   "id": "3465743b",
   "metadata": {},
   "outputs": [
    {
     "name": "stdout",
     "output_type": "stream",
     "text": [
      "session: job_xunwk/var/folders/xn/wrmsjpr53z9g9pqrrz12p2t80000gn/T/tmpqchqiir7\tcommand:\n",
      "/Users/thomasveasey/ml-cpp/build/distribution/platform/darwin-x86_64/controller.app/Contents/MacOS/data_frame_analyzer --input /var/folders/xn/wrmsjpr53z9g9pqrrz12p2t80000gn/T/tmp6xhw3gy3 --config /var/folders/xn/wrmsjpr53z9g9pqrrz12p2t80000gn/T/tmpqchqiir7 --output /var/folders/xn/wrmsjpr53z9g9pqrrz12p2t80000gn/T/tmpi9gvce49 --validElasticLicenseKeyConfirmed true --persist /var/folders/xn/wrmsjpr53z9g9pqrrz12p2t80000gn/T/tmp1purnw7e; if [ $? -eq 0 ]; then echo \"Success\"; else echo \"Failure\";  fi;\n"
     ]
    }
   ],
   "source": [
    "job2 = train(dataset_name, D2)"
   ]
  },
  {
   "cell_type": "code",
   "execution_count": 6,
   "id": "2d51c286",
   "metadata": {},
   "outputs": [
    {
     "data": {
      "text/html": [
       "<table><tr>\n",
       "                                                                <td width=\"50%\" style=\"text-align:center;\"><b>stderr</b></td>\n",
       "                                                                <td width=\"50%\" style=\"text-align:center;\"><b>output</b></td>\n",
       "                                                                </tr>\n",
       "                                                                <tr>\n",
       "                                                                <td width=\"50%\" style=\"text-align:left;\"><pre> /Users/thomasveasey/ml-cpp/build/distribution/platform/darwin-x86_64/controller.app/Contents/MacOS/data_frame_analyzer --input /var/folders/xn/wrmsjpr53z9g9pqrrz12p2t80000gn/T/tmp6xhw3gy3 --config /var/folders/xn/wrmsjpr53z9g9pqrrz12p2t80000gn/T/tmpqchqiir7 --output /var/folders/xn/wrmsjpr53z9g9pqrrz12p2t80000gn/T/tmpi9gvce49 --validElasticLicenseKeyConfirmed true --persist /var/folders/xn/wrmsjpr53z9g9pqrrz12p2t80000gn/T/tmp1purnw7e; if [ $? -eq 0 ]; then echo \"Success\"; else echo \"Failure\";  fi\n",
       "Thomass-MBP-2:incremental_learning thomasveasey$  /Users/thomasveasey/ml-cpp/build/distribution/platform/darwin-x86_64/controller.app/Contents/MacOS/data_frame_analyzer --input /var/folders/xn/wrmsjpr53z9g9pqrrz12p2t80000gn/T/tmp6xhw3gy3 --config /var/folders/xn/wrmsjpr53z9g9pqrrz12p2t80000gn/T/tmpqchqiir7 --output /var/folders/xn/wrmsjpr53z9g9pqrrz12p2t80000gn/T/tmpi9gvce49 --validElasticLicenseKeyConfirmed true --persist /var/folders/xn/wrmsjpr53z9g9pqrrz12p2t80000gn/T/tmp1purnw7e; if [ $? -eq 0 ]; then echo \"Success\"; else echo \"Failure\";  fi\n",
       "2021-08-31 13:38:59,260807 UTC [25367] DEBUG /Users/thomasveasey/ml-cpp/bin/data_frame_analyzer/Main.cc@152 data_frame_analyzer (64 bit): Version 8.0.0-SNAPSHOT (Build 9c6dd776a6306b) Copyright (c) 2021 Elasticsearch BV\n",
       "2021-08-31 13:38:59,265551 UTC [25367] DEBUG /Users/thomasveasey/ml-cpp/lib/seccomp/CSystemCallFilter_MacOSX.cc@107 macOS sandbox initialized\n",
       "2021-08-31 13:38:59,266180 UTC [25367] DEBUG /Users/thomasveasey/ml-cpp/lib/api/CDataFrameAnalyzer.cc@107 Received 80 rows\n",
       "2021-08-31 13:39:01,172010 UTC [25367] INFO  /Users/thomasveasey/ml-cpp/lib/maths/CBoostedTreeImpl.cc@283 Exiting hyperparameter optimisation loop on round 7 out of 18.\n",
       "2021-08-31 13:39:01,349076 UTC [25367] INFO  /Users/thomasveasey/ml-cpp/bin/data_frame_analyzer/Main.cc@260 [{\"name\":\"E_DFTPMEstimatedPeakMemoryUsage\",\"description\":\"The upfront estimate of the peak memory training the predictive model would use\",\"value\":5432958}\n",
       ",{\"name\":\"E_DFTPMPeakMemoryUsage\",\"description\":\"The peak memory training the predictive model used\",\"value\":492623}\n",
       ",{\"name\":\"E_DFTPMTimeToTrain\",\"description\":\"The time it took to train the predictive model\",\"value\":1932}\n",
       ",{\"name\":\"E_DFTPMTrainedForestNumberTrees\",\"description\":\"The total number of trees in the trained forest\",\"value\":172}\n",
       "]\n",
       "2021-08-31 13:39:01,349120 UTC [25367] DEBUG /Users/thomasveasey/ml-cpp/bin/data_frame_analyzer/Main.cc@265 ML data frame analyzer exiting\n",
       "Success\n",
       "Thomass-MBP-2:incremental_learning thomasveasey$</pre></td>\n",
       "                                                                <td width=\"50%\" style=\"text-align:left;\"><pre>,{\"row_results\":{\"checksum\":0,\"results\":{\"ml\":{\"PE_prediction\":437.1145324707031\n",
       ",{\"row_results\":{\"checksum\":0,\"results\":{\"ml\":{\"PE_prediction\":473.0045776367187\n",
       ",{\"row_results\":{\"checksum\":0,\"results\":{\"ml\":{\"PE_prediction\":443.6131591796875\n",
       ",{\"row_results\":{\"checksum\":0,\"results\":{\"ml\":{\"PE_prediction\":441.7341918945312\n",
       ",{\"row_results\":{\"checksum\":0,\"results\":{\"ml\":{\"PE_prediction\":437.3771362304687\n",
       ",{\"row_results\":{\"checksum\":0,\"results\":{\"ml\":{\"PE_prediction\":458.0837097167969\n",
       ",{\"row_results\":{\"checksum\":0,\"results\":{\"ml\":{\"PE_prediction\":444.513427734375,\n",
       ",{\"model_metadata\":{\"total_feature_importance\":[],\"hyperparameters\":[{\"name\":\"do\n",
       ",{\"compressed_data_summarization\":{\"doc_num\":0,\"data_summarization\":\"H4sIAAAAAAA\n",
       "]</pre></td>\n",
       "                                                                </tr>\n",
       "                                                        </table>"
      ]
     },
     "metadata": {},
     "output_type": "display_data"
    },
    {
     "name": "stdout",
     "output_type": "stream",
     "text": [
      "Job succeeded\n"
     ]
    },
    {
     "data": {
      "text/plain": [
       "6.156814813613892"
      ]
     },
     "execution_count": 6,
     "metadata": {},
     "output_type": "execute_result"
    }
   ],
   "source": [
    "job2.wait_to_complete()"
   ]
  },
  {
   "cell_type": "code",
   "execution_count": 7,
   "id": "54d1cd65",
   "metadata": {},
   "outputs": [
    {
     "data": {
      "text/html": [
       "<table><tr>\n",
       "                                                                <td width=\"50%\" style=\"text-align:center;\"><b>stderr</b></td>\n",
       "                                                                <td width=\"50%\" style=\"text-align:center;\"><b>output</b></td>\n",
       "                                                                </tr>\n",
       "                                                                <tr>\n",
       "                                                                <td width=\"50%\" style=\"text-align:left;\"><pre> /Users/thomasveasey/ml-cpp/build/distribution/platform/darwin-x86_64/controller.app/Contents/MacOS/data_frame_analyzer --input /var/folders/xn/wrmsjpr53z9g9pqrrz12p2t80000gn/T/tmpfgip06p5 --config /var/folders/xn/wrmsjpr53z9g9pqrrz12p2t80000gn/T/tmpz2sje6mg --output /var/folders/xn/wrmsjpr53z9g9pqrrz12p2t80000gn/T/tmphp72t500 --validElasticLicenseKeyConfirmed true --restore /var/folders/xn/wrmsjpr53z9g9pqrrz12p2t80000gn/T/tmpnlkekgi5; if [ $? -eq 0 ]; then echo \"Success\"; else echo \"Failure\";  fi\n",
       "Thomass-MBP-2:incremental_learning thomasveasey$  /Users/thomasveasey/ml-cpp/build/distribution/platform/darwin-x86_64/controller.app/Contents/MacOS/data_frame_analyzer --input /var/folders/xn/wrmsjpr53z9g9pqrrz12p2t80000gn/T/tmpfgip06p5 --config /var/folders/xn/wrmsjpr53z9g9pqrrz12p2t80000gn/T/tmpz2sje6mg --output /var/folders/xn/wrmsjpr53z9g9pqrrz12p2t80000gn/T/tmphp72t500 --validElasticLicenseKeyConfirmed true --restore /var/folders/xn/wrmsjpr53z9g9pqrrz12p2t80000gn/T/tmpnlkekgi5; if [ $? -eq 0 ]; then echo \"Success\"; else echo \"Failure\";  fi\n",
       "2021-08-31 13:39:05,588796 UTC [25643] DEBUG /Users/thomasveasey/ml-cpp/bin/data_frame_analyzer/Main.cc@152 data_frame_analyzer (64 bit): Version 8.0.0-SNAPSHOT (Build 9c6dd776a6306b) Copyright (c) 2021 Elasticsearch BV\n",
       "2021-08-31 13:39:05,593355 UTC [25643] DEBUG /Users/thomasveasey/ml-cpp/lib/seccomp/CSystemCallFilter_MacOSX.cc@107 macOS sandbox initialized\n",
       "2021-08-31 13:39:05,602088 UTC [25643] DEBUG /Users/thomasveasey/ml-cpp/lib/api/CDataFrameAnalyzer.cc@107 Received 28 rows\n",
       "2021-08-31 13:39:05,627868 UTC [25643] INFO  /Users/thomasveasey/ml-cpp/lib/maths/CBoostedTreeImpl.cc@436 Exiting hyperparameter optimisation loop early\n",
       "2021-08-31 13:39:05,649485 UTC [25643] INFO  /Users/thomasveasey/ml-cpp/bin/data_frame_analyzer/Main.cc@260 [{\"name\":\"E_DFTPMEstimatedPeakMemoryUsage\",\"description\":\"The upfront estimate of the peak memory training the predictive model would use\",\"value\":2943511}\n",
       ",{\"name\":\"E_DFTPMPeakMemoryUsage\",\"description\":\"The peak memory training the predictive model used\",\"value\":273509}\n",
       ",{\"name\":\"E_DFTPMTimeToTrain\",\"description\":\"The time it took to train the predictive model\",\"value\":27}\n",
       "]\n",
       "2021-08-31 13:39:05,649524 UTC [25643] DEBUG /Users/thomasveasey/ml-cpp/bin/data_frame_analyzer/Main.cc@265 ML data frame analyzer exiting\n",
       "Success\n",
       "Thomass-MBP-2:incremental_learning thomasveasey$</pre></td>\n",
       "                                                                <td width=\"50%\" style=\"text-align:left;\"><pre>,{\"row_results\":{\"checksum\":0,\"results\":{\"ml\":{\"PE_prediction\":485.1379089355469\n",
       ",{\"row_results\":{\"checksum\":0,\"results\":{\"ml\":{\"PE_prediction\":486.4248352050781\n",
       ",{\"row_results\":{\"checksum\":0,\"results\":{\"ml\":{\"PE_prediction\":455.6815490722656\n",
       ",{\"row_results\":{\"checksum\":0,\"results\":{\"ml\":{\"PE_prediction\":476.7702331542969\n",
       ",{\"row_results\":{\"checksum\":0,\"results\":{\"ml\":{\"PE_prediction\":435.7314758300781\n",
       ",{\"row_results\":{\"checksum\":0,\"results\":{\"ml\":{\"PE_prediction\":437.3088684082031\n",
       ",{\"row_results\":{\"checksum\":0,\"results\":{\"ml\":{\"PE_prediction\":473.1652221679687\n",
       ",{\"model_metadata\":{\"total_feature_importance\":[],\"hyperparameters\":[{\"name\":\"do\n",
       ",{\"compressed_data_summarization\":{\"doc_num\":0,\"data_summarization\":\"H4sIAAAAAAA\n",
       "]</pre></td>\n",
       "                                                                </tr>\n",
       "                                                        </table>"
      ]
     },
     "metadata": {},
     "output_type": "display_data"
    },
    {
     "name": "stdout",
     "output_type": "stream",
     "text": [
      "Job succeeded\n"
     ]
    },
    {
     "data": {
      "text/plain": [
       "5.224149942398071"
      ]
     },
     "execution_count": 7,
     "metadata": {},
     "output_type": "execute_result"
    }
   ],
   "source": [
    "job3 = update(dataset_name, D3, job2)\n",
    "job3.wait_to_complete()"
   ]
  },
  {
   "cell_type": "markdown",
   "id": "d89af90b",
   "metadata": {},
   "source": [
    "## 4. A. Compare M1 and M2 on D1"
   ]
  },
  {
   "cell_type": "code",
   "execution_count": 8,
   "id": "58d3e8da",
   "metadata": {},
   "outputs": [
    {
     "data": {
      "text/html": [
       "<table><tr>\n",
       "                                                                <td width=\"50%\" style=\"text-align:center;\"><b>stderr</b></td>\n",
       "                                                                <td width=\"50%\" style=\"text-align:center;\"><b>output</b></td>\n",
       "                                                                </tr>\n",
       "                                                                <tr>\n",
       "                                                                <td width=\"50%\" style=\"text-align:left;\"><pre> /Users/thomasveasey/ml-cpp/build/distribution/platform/darwin-x86_64/controller.app/Contents/MacOS/data_frame_analyzer --input /var/folders/xn/wrmsjpr53z9g9pqrrz12p2t80000gn/T/tmpqs7f11sl --config /var/folders/xn/wrmsjpr53z9g9pqrrz12p2t80000gn/T/tmpxih2xaqt --output /var/folders/xn/wrmsjpr53z9g9pqrrz12p2t80000gn/T/tmp9y2wgg22 --validElasticLicenseKeyConfirmed true --restore /var/folders/xn/wrmsjpr53z9g9pqrrz12p2t80000gn/T/tmp0ghyvmim; if [ $? -eq 0 ]; then echo \"Success\"; else echo \"Failure\";  fi\n",
       "Thomass-MBP-2:incremental_learning thomasveasey$  /Users/thomasveasey/ml-cpp/build/distribution/platform/darwin-x86_64/controller.app/Contents/MacOS/data_frame_analyzer --input /var/folders/xn/wrmsjpr53z9g9pqrrz12p2t80000gn/T/tmpqs7f11sl --config /var/folders/xn/wrmsjpr53z9g9pqrrz12p2t80000gn/T/tmpxih2xaqt --output /var/folders/xn/wrmsjpr53z9g9pqrrz12p2t80000gn/T/tmp9y2wgg22 --validElasticLicenseKeyConfirmed true --restore /var/folders/xn/wrmsjpr53z9g9pqrrz12p2t80000gn/T/tmp0ghyvmim; if [ $? -eq 0 ]; then echo \"Success\"; else echo \"Failure\";  fi\n",
       "2021-08-31 13:39:10,703541 UTC [25924] DEBUG /Users/thomasveasey/ml-cpp/bin/data_frame_analyzer/Main.cc@152 data_frame_analyzer (64 bit): Version 8.0.0-SNAPSHOT (Build 9c6dd776a6306b) Copyright (c) 2021 Elasticsearch BV\n",
       "2021-08-31 13:39:10,708268 UTC [25924] DEBUG /Users/thomasveasey/ml-cpp/lib/seccomp/CSystemCallFilter_MacOSX.cc@107 macOS sandbox initialized\n",
       "2021-08-31 13:39:10,717582 UTC [25924] DEBUG /Users/thomasveasey/ml-cpp/lib/api/CDataFrameAnalyzer.cc@107 Received 108 rows\n",
       "2021-08-31 13:39:10,728664 UTC [25924] INFO  /Users/thomasveasey/ml-cpp/bin/data_frame_analyzer/Main.cc@260 [{\"name\":\"E_DFTPMEstimatedPeakMemoryUsage\",\"description\":\"The upfront estimate of the peak memory training the predictive model would use\",\"value\":6271925}\n",
       ",{\"name\":\"E_DFTPMPeakMemoryUsage\",\"description\":\"The peak memory training the predictive model used\",\"value\":147322}\n",
       ",{\"name\":\"E_DFTPMTimeToTrain\",\"description\":\"The time it took to train the predictive model\",\"value\":1}\n",
       "]\n",
       "2021-08-31 13:39:10,728727 UTC [25924] DEBUG /Users/thomasveasey/ml-cpp/bin/data_frame_analyzer/Main.cc@265 ML data frame analyzer exiting\n",
       "Success\n",
       "Thomass-MBP-2:incremental_learning thomasveasey$</pre></td>\n",
       "                                                                <td width=\"50%\" style=\"text-align:left;\"><pre>,{\"row_results\":{\"checksum\":0,\"results\":{\"ml\":{\"PE_prediction\":481.5670166015625\n",
       ",{\"row_results\":{\"checksum\":0,\"results\":{\"ml\":{\"PE_prediction\":478.2450866699219\n",
       ",{\"row_results\":{\"checksum\":0,\"results\":{\"ml\":{\"PE_prediction\":476.0826721191406\n",
       ",{\"row_results\":{\"checksum\":0,\"results\":{\"ml\":{\"PE_prediction\":473.9826354980469\n",
       ",{\"row_results\":{\"checksum\":0,\"results\":{\"ml\":{\"PE_prediction\":464.3504028320312\n",
       ",{\"row_results\":{\"checksum\":0,\"results\":{\"ml\":{\"PE_prediction\":472.7062683105469\n",
       ",{\"row_results\":{\"checksum\":0,\"results\":{\"ml\":{\"PE_prediction\":470.78759765625,\"\n",
       ",{\"model_metadata\":{\"total_feature_importance\":[],\"hyperparameters\":[],\"train_pr\n",
       ",{\"compressed_data_summarization\":{\"doc_num\":0,\"data_summarization\":\"H4sIAAAAAAA\n",
       "]</pre></td>\n",
       "                                                                </tr>\n",
       "                                                        </table>"
      ]
     },
     "metadata": {},
     "output_type": "display_data"
    },
    {
     "name": "stdout",
     "output_type": "stream",
     "text": [
      "Job succeeded\n"
     ]
    }
   ],
   "source": [
    "y_true = D1[job1.dependent_variable]\n",
    "y_M1 = job1.get_predictions()\n",
    "eval_job = evaluate(dataset_name, D1, job2)\n",
    "success = eval_job.wait_to_complete()\n",
    "if not success:\n",
    "    print('Evaluation failed')\n",
    "y_M2 = eval_job.get_predictions()"
   ]
  },
  {
   "cell_type": "code",
   "execution_count": 9,
   "id": "739a5903",
   "metadata": {},
   "outputs": [],
   "source": [
    "def compute_metrics(ytrue, m1pred, m2pred):\n",
    "    m1_mae = mean_absolute_error(ytrue, m1pred)\n",
    "    m1_mse = mean_squared_error(ytrue, m1pred)\n",
    "    m2_mae = mean_absolute_error(ytrue, m2pred)\n",
    "    m2_mse = mean_squared_error(ytrue, m2pred)\n",
    "    print(\"M1: MAE: {}\\tMSE:{}\".format(m1_mae, m1_mse))\n",
    "    print(\"M2: MAE: {}\\tMSE:{}\".format(m2_mae, m2_mse))\n",
    "    ax = sns.scatterplot(x=m1pred, y=m2pred)\n",
    "    plt.xlabel('M1 predictions')\n",
    "    plt.ylabel('M2 predictions')"
   ]
  },
  {
   "cell_type": "code",
   "execution_count": 10,
   "id": "3958f4db",
   "metadata": {},
   "outputs": [
    {
     "name": "stdout",
     "output_type": "stream",
     "text": [
      "M1: MAE: 2.4216355712890616\tMSE:9.561144354262385\n",
      "M2: MAE: 2.1746685058593744\tMSE:8.45023400826621\n"
     ]
    },
    {
     "data": {
      "image/png": "[encoded data removed]",
      "text/plain": [
       "<Figure size 432x288 with 1 Axes>"
      ]
     },
     "metadata": {
      "needs_background": "light"
     },
     "output_type": "display_data"
    }
   ],
   "source": [
    "compute_metrics(y_true, y_M1, y_M2)"
   ]
  }
 ],
 "metadata": {
  "interpreter": {
   "hash": "bbee7842ce8ba476870a006d5d5b68f11cea175afb0fea017b7f81beccf88892"
  },
  "kernelspec": {
   "display_name": "Python 3 (ipykernel)",
   "language": "python",
   "name": "python3"
  },
  "language_info": {
   "codemirror_mode": {
    "name": "ipython",
    "version": 3
   },
   "file_extension": ".py",
   "mimetype": "text/x-python",
   "name": "python",
   "nbconvert_exporter": "python",
   "pygments_lexer": "ipython3",
   "version": "3.7.9"
  }
 },
 "nbformat": 4,
 "nbformat_minor": 5
}
