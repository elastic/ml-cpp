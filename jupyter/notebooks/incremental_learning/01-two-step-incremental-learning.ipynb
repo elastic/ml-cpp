{
 "cells": [
  {
   "cell_type": "raw",
   "id": "a24a91ef",
   "metadata": {},
   "source": [
    "# Copyright Elasticsearch B.V. and/or licensed to Elasticsearch B.V. under one\n",
    "# or more contributor license agreements. Licensed under the Elastic License\n",
    "# 2.0 and the following additional limitation. Functionality enabled by the\n",
    "# files subject to the Elastic License 2.0 may only be used in production when\n",
    "# invoked by an Elasticsearch process with a license key installed that permits\n",
    "# use of machine learning features. You may not use this file except in\n",
    "# compliance with the Elastic License 2.0 and the foregoing additional\n",
    "# limitation.\n"
   ]
  },
  {
   "cell_type": "markdown",
   "id": "183ccb92",
   "metadata": {},
   "source": [
    "# Incremental Learning 1: Two-Step Incremental Learning\n",
    "\n",
    "1. Train model (M1) on the complete dataset (D1).\n",
    "2. Split the complete dataset (D1) into the base dataset (D2) and the update dataset (D3).\n",
    "3. Train a new model (M2) on D2 and update it using D3.\n",
    "4. Compare M1 and M2\n",
    "    1. Evaluation M1 and M2 on the complete dataset D1.\n",
    "    2. TODO: Compare feature importance vectors for individual data points from M1 and M2 (should be very similar)\n"
   ]
  },
  {
   "cell_type": "code",
   "execution_count": 3,
   "id": "5d18b3ce",
   "metadata": {},
   "outputs": [
    {
     "name": "stdout",
     "output_type": "stream",
     "text": [
      "The autoreload extension is already loaded. To reload it, use:\n",
      "  %reload_ext autoreload\n"
     ]
    }
   ],
   "source": [
    "%load_ext autoreload\n",
    "%autoreload 2\n",
    "%config Completer.use_jedi = False\n",
    "import pandas as pd\n",
    "import numpy as np\n",
    "from sklearn.model_selection import train_test_split\n",
    "\n",
    "import seaborn as sns\n",
    "import matplotlib.pyplot as plt\n",
    "from sklearn.metrics import max_error, mean_absolute_error, mean_squared_error\n",
    "\n",
    "from incremental_learning.job import train, update, evaluate\n",
    "from incremental_learning.config import datasets_dir, root_dir"
   ]
  },
  {
   "cell_type": "markdown",
   "id": "f0b2fbe3",
   "metadata": {},
   "source": [
    "## 1. Train model (M1) on the complete dataset (D1)"
   ]
  },
  {
   "cell_type": "code",
   "execution_count": 4,
   "id": "d8b6a123",
   "metadata": {},
   "outputs": [
    {
     "name": "stdout",
     "output_type": "stream",
     "text": [
      "session: job_rlmxf\tcommand:\n",
      "/home/valeriy/Documents/workspace/valeriy42/ml-cpp/build/distribution/platform/linux-x86_64/bin/data_frame_analyzer --input /tmp/tmpt0v611zj --config /tmp/tmpe42b8gqp --output /tmp/tmpz2l08re5 --validElasticLicenseKeyConfirmed true --persist /tmp/tmpym326qeg; if [ $? -eq 0 ]; then echo \"Success\"; else echo \"Failure\";  fi;\n"
     ]
    }
   ],
   "source": [
    "dataset_name = 'ccpp'\n",
    "D1 = pd.read_csv(datasets_dir / '{}.csv'.format(dataset_name))\n",
    "D1.drop_duplicates(inplace=True)\n",
    "\n",
    "## sample 1000 rows just for test purposes!\n",
    "D1 = D1.sample(100)\n",
    "\n",
    "job1 = train(dataset_name, D1)"
   ]
  },
  {
   "cell_type": "code",
   "execution_count": 5,
   "id": "e2edfe68",
   "metadata": {
    "scrolled": false
   },
   "outputs": [
    {
     "data": {
      "text/html": [
       "<table><tr>\n",
       "                                                                <td width=\"50%\" style=\"text-align:center;\"><b>stderr</b></td>\n",
       "                                                                <td width=\"50%\" style=\"text-align:center;\"><b>output</b></td>\n",
       "                                                                </tr>\n",
       "                                                                <tr>\n",
       "                                                                <td width=\"50%\" style=\"text-align:left;\"><pre> /home/valeriy/Documents/workspace/valeriy42/ml-cpp/build/distribution/platform/linux-x86_64/bin/data_frame_analyzer --input /tmp/tmpt0v611zj --config /tmp/tmpe42b8gqp --output /tmp/tmpz2l08re5 --validElasticLicenseKeyConfirmed true --persist /tmp/tmpym326qeg; if [ $? -eq 0 ]; then echo \"Success\"; else echo \"Failure\";  fi\n",
       "(env) ✔ ~/Documents/workspace/valeriy42/ml-cpp/jupyter/notebooks/incremental_learning [papermill-notebooks ↑·4|⚑ 6]\n",
       "10:29 $  /home/valeriy/Documents/workspace/valeriy42/ml-cpp/build/distribution/platform/linux-x86_64/bin/data_frame_analyzer --input /tmp/tmpt0v611zj --config /tmp/tmpe42b8gqp --output /tmp/tmpz2l08re5 --validElasticLicenseKeyConfirmed true --persist /tmp/tmpym326qeg; if [ $? -eq 0 ]; then echo \"Success\"; else echo \"Failure\";  fi\n",
       "2021-08-05 08:29:51,519037 UTC [15045] DEBUG Main.cc@152 data_frame_analyzer (64 bit): Version 8.0.0-SNAPSHOT (Build 67af1fd3e641e1) Copyright (c) 2021 Elasticsearch BV\n",
       "2021-08-05 08:29:51,519086 UTC [15045] DEBUG CProcessPriority_Linux.cc@38 Successfully increased OOM killer adjustment via /proc/self/oom_score_adj\n",
       "2021-08-05 08:29:51,519097 UTC [15045] DEBUG CSystemCallFilter_Linux.cc@133 Seccomp BPF filters available\n",
       "2021-08-05 08:29:51,519988 UTC [15045] DEBUG CSystemCallFilter_Linux.cc@159 Seccomp BPF installed\n",
       "2021-08-05 08:29:51,520389 UTC [15045] DEBUG CDataFrameAnalyzer.cc@107 Received 100 rows\n",
       "2021-08-05 08:29:52,260237 UTC [15045] INFO  CBoostedTreeImpl.cc@282 Exiting hyperparameter optimisation loop on round 7 out of 18.\n",
       "2021-08-05 08:29:52,546133 UTC [15045] INFO  Main.cc@260 [{\"name\":\"E_DFTPMEstimatedPeakMemoryUsage\",\"description\":\"The upfront estimate of the peak memory training the predictive model would use\",\"value\":6032180}\n",
       ",{\"name\":\"E_DFTPMPeakMemoryUsage\",\"description\":\"The peak memory training the predictive model used\",\"value\":694605}\n",
       ",{\"name\":\"E_DFTPMTimeToTrain\",\"description\":\"The time it took to train the predictive model\",\"value\":744}\n",
       ",{\"name\":\"E_DFTPMTrainedForestNumberTrees\",\"description\":\"The total number of trees in the trained forest\",\"value\":7}\n",
       "]\n",
       "2021-08-05 08:29:52,546172 UTC [15045] DEBUG Main.cc@265 ML data frame analyzer exiting\n",
       "Success\n",
       "(env) ✔ ~/Documents/workspace/valeriy42/ml-cpp/jupyter/notebooks/incremental_learning [papermill-notebooks ↑·4|⚑ 6]\n",
       "10:29 $</pre></td>\n",
       "                                                                <td width=\"50%\" style=\"text-align:left;\"><pre>,{\"row_results\":{\"checksum\":0,\"results\":{\"ml\":{\"PE_prediction\":452.1033325195312\n",
       ",{\"row_results\":{\"checksum\":0,\"results\":{\"ml\":{\"PE_prediction\":432.6473083496094\n",
       ",{\"row_results\":{\"checksum\":0,\"results\":{\"ml\":{\"PE_prediction\":475.3347778320312\n",
       ",{\"row_results\":{\"checksum\":0,\"results\":{\"ml\":{\"PE_prediction\":436.7301025390625\n",
       ",{\"row_results\":{\"checksum\":0,\"results\":{\"ml\":{\"PE_prediction\":452.6974487304687\n",
       ",{\"row_results\":{\"checksum\":0,\"results\":{\"ml\":{\"PE_prediction\":481.3638305664062\n",
       ",{\"row_results\":{\"checksum\":0,\"results\":{\"ml\":{\"PE_prediction\":444.8078918457031\n",
       ",{\"model_metadata\":{\"total_feature_importance\":[],\"hyperparameters\":[{\"name\":\"do\n",
       ",{\"compressed_data_summarization\":{\"doc_num\":0,\"data_summarization\":\"H4sIAAAAAAA\n",
       "]</pre></td>\n",
       "                                                                </tr>\n",
       "                                                        </table>"
      ]
     },
     "metadata": {},
     "output_type": "display_data"
    },
    {
     "name": "stdout",
     "output_type": "stream",
     "text": [
      "Job succeeded\n"
     ]
    },
    {
     "data": {
      "text/plain": [
       "True"
      ]
     },
     "execution_count": 5,
     "metadata": {},
     "output_type": "execute_result"
    }
   ],
   "source": [
    "job1.wait_to_complete()"
   ]
  },
  {
   "cell_type": "markdown",
   "id": "cf8d6d9b",
   "metadata": {},
   "source": [
    "## 2. Split the complete dataset (D1) into the base dataset (D2) and the update dataset (D3)."
   ]
  },
  {
   "cell_type": "code",
   "execution_count": 6,
   "id": "c4386e1b",
   "metadata": {},
   "outputs": [],
   "source": [
    "D2, D3 = train_test_split(D1, test_size=0.2)"
   ]
  },
  {
   "cell_type": "markdown",
   "id": "c9de409d",
   "metadata": {},
   "source": [
    "## 3. Train a new model (M2) on D2 and update it using D3."
   ]
  },
  {
   "cell_type": "code",
   "execution_count": 7,
   "id": "18e8f6a9",
   "metadata": {},
   "outputs": [
    {
     "name": "stdout",
     "output_type": "stream",
     "text": [
      "session: job_wlibq\tcommand:\n",
      "/home/valeriy/Documents/workspace/valeriy42/ml-cpp/build/distribution/platform/linux-x86_64/bin/data_frame_analyzer --input /tmp/tmp9ydwe38m --config /tmp/tmpzxrm7axw --output /tmp/tmp81adgtu6 --validElasticLicenseKeyConfirmed true --persist /tmp/tmprqh1z_jz; if [ $? -eq 0 ]; then echo \"Success\"; else echo \"Failure\";  fi;\n"
     ]
    }
   ],
   "source": [
    "job2 = train(dataset_name, D2)"
   ]
  },
  {
   "cell_type": "code",
   "execution_count": 8,
   "id": "67ec0f52",
   "metadata": {},
   "outputs": [
    {
     "data": {
      "text/html": [
       "<table><tr>\n",
       "                                                                <td width=\"50%\" style=\"text-align:center;\"><b>stderr</b></td>\n",
       "                                                                <td width=\"50%\" style=\"text-align:center;\"><b>output</b></td>\n",
       "                                                                </tr>\n",
       "                                                                <tr>\n",
       "                                                                <td width=\"50%\" style=\"text-align:left;\"><pre> /home/valeriy/Documents/workspace/valeriy42/ml-cpp/build/distribution/platform/linux-x86_64/bin/data_frame_analyzer --input /tmp/tmp9ydwe38m --config /tmp/tmpzxrm7axw --output /tmp/tmp81adgtu6 --validElasticLicenseKeyConfirmed true --persist /tmp/tmprqh1z_jz; if [ $? -eq 0 ]; then echo \"Success\"; else echo \"Failure\";  fi\n",
       "(env) ✔ ~/Documents/workspace/valeriy42/ml-cpp/jupyter/notebooks/incremental_learning [papermill-notebooks ↑·4|⚑ 6]\n",
       "10:29 $  /home/valeriy/Documents/workspace/valeriy42/ml-cpp/build/distribution/platform/linux-x86_64/bin/data_frame_analyzer --input /tmp/tmp9ydwe38m --config /tmp/tmpzxrm7axw --output /tmp/tmp81adgtu6 --validElasticLicenseKeyConfirmed true --persist /tmp/tmprqh1z_jz; if [ $? -eq 0 ]; then echo \"Success\"; else echo \"Failure\";  fi\n",
       "2021-08-05 08:29:56,784319 UTC [16384] DEBUG Main.cc@152 data_frame_analyzer (64 bit): Version 8.0.0-SNAPSHOT (Build 67af1fd3e641e1) Copyright (c) 2021 Elasticsearch BV\n",
       "2021-08-05 08:29:56,784369 UTC [16384] DEBUG CProcessPriority_Linux.cc@38 Successfully increased OOM killer adjustment via /proc/self/oom_score_adj\n",
       "2021-08-05 08:29:56,784380 UTC [16384] DEBUG CSystemCallFilter_Linux.cc@133 Seccomp BPF filters available\n",
       "2021-08-05 08:29:56,784718 UTC [16384] DEBUG CSystemCallFilter_Linux.cc@159 Seccomp BPF installed\n",
       "2021-08-05 08:29:56,785031 UTC [16384] DEBUG CDataFrameAnalyzer.cc@107 Received 80 rows\n",
       "2021-08-05 08:29:57,405196 UTC [16384] INFO  CBoostedTreeImpl.cc@282 Exiting hyperparameter optimisation loop on round 7 out of 18.\n",
       "2021-08-05 08:29:57,815313 UTC [16384] INFO  Main.cc@260 [{\"name\":\"E_DFTPMEstimatedPeakMemoryUsage\",\"description\":\"The upfront estimate of the peak memory training the predictive model would use\",\"value\":5432918}\n",
       ",{\"name\":\"E_DFTPMPeakMemoryUsage\",\"description\":\"The peak memory training the predictive model used\",\"value\":469381}\n",
       ",{\"name\":\"E_DFTPMTimeToTrain\",\"description\":\"The time it took to train the predictive model\",\"value\":628}\n",
       ",{\"name\":\"E_DFTPMTrainedForestNumberTrees\",\"description\":\"The total number of trees in the trained forest\",\"value\":15}\n",
       "]\n",
       "2021-08-05 08:29:57,815426 UTC [16384] DEBUG Main.cc@265 ML data frame analyzer exiting\n",
       "Success\n",
       "(env) ✔ ~/Documents/workspace/valeriy42/ml-cpp/jupyter/notebooks/incremental_learning [papermill-notebooks ↑·4|⚑ 6]\n",
       "10:29 $</pre></td>\n",
       "                                                                <td width=\"50%\" style=\"text-align:left;\"><pre>,{\"row_results\":{\"checksum\":0,\"results\":{\"ml\":{\"PE_prediction\":435.9287719726562\n",
       ",{\"row_results\":{\"checksum\":0,\"results\":{\"ml\":{\"PE_prediction\":449.6653442382812\n",
       ",{\"row_results\":{\"checksum\":0,\"results\":{\"ml\":{\"PE_prediction\":462.8325500488281\n",
       ",{\"row_results\":{\"checksum\":0,\"results\":{\"ml\":{\"PE_prediction\":435.9287719726562\n",
       ",{\"row_results\":{\"checksum\":0,\"results\":{\"ml\":{\"PE_prediction\":477.7511291503906\n",
       ",{\"row_results\":{\"checksum\":0,\"results\":{\"ml\":{\"PE_prediction\":479.3641662597656\n",
       ",{\"row_results\":{\"checksum\":0,\"results\":{\"ml\":{\"PE_prediction\":436.4898681640625\n",
       ",{\"model_metadata\":{\"total_feature_importance\":[],\"hyperparameters\":[{\"name\":\"do\n",
       ",{\"compressed_data_summarization\":{\"doc_num\":0,\"data_summarization\":\"H4sIAAAAAAA\n",
       "]</pre></td>\n",
       "                                                                </tr>\n",
       "                                                        </table>"
      ]
     },
     "metadata": {},
     "output_type": "display_data"
    },
    {
     "name": "stdout",
     "output_type": "stream",
     "text": [
      "Job succeeded\n"
     ]
    },
    {
     "data": {
      "text/plain": [
       "True"
      ]
     },
     "execution_count": 8,
     "metadata": {},
     "output_type": "execute_result"
    }
   ],
   "source": [
    "job2.wait_to_complete()"
   ]
  },
  {
   "cell_type": "code",
   "execution_count": 9,
   "id": "9795cb59",
   "metadata": {},
   "outputs": [
    {
     "data": {
      "text/html": [
       "<table><tr>\n",
       "                                                                <td width=\"50%\" style=\"text-align:center;\"><b>stderr</b></td>\n",
       "                                                                <td width=\"50%\" style=\"text-align:center;\"><b>output</b></td>\n",
       "                                                                </tr>\n",
       "                                                                <tr>\n",
       "                                                                <td width=\"50%\" style=\"text-align:left;\"><pre> /home/valeriy/Documents/workspace/valeriy42/ml-cpp/build/distribution/platform/linux-x86_64/bin/data_frame_analyzer --input /tmp/tmpbp8mh898 --config /tmp/tmptcuaa3x4 --output /tmp/tmpiwshzwj9 --validElasticLicenseKeyConfirmed true --restore /tmp/tmpbeokz2al; if [ $? -eq 0 ]; then echo \"Success\"; else echo \"Failure\";  fi\n",
       "(env) ✔ ~/Documents/workspace/valeriy42/ml-cpp/jupyter/notebooks/incremental_learning [papermill-notebooks ↑·4|⚑ 6]\n",
       "10:30 $  /home/valeriy/Documents/workspace/valeriy42/ml-cpp/build/distribution/platform/linux-x86_64/bin/data_frame_analyzer --input /tmp/tmpbp8mh898 --config /tmp/tmptcuaa3x4 --output /tmp/tmpiwshzwj9 --validElasticLicenseKeyConfirmed true --restore /tmp/tmpbeokz2al; if [ $? -eq 0 ]; then echo \"Success\"; else echo \"Failure\";  fi\n",
       "2021-08-05 08:30:02,251207 UTC [17802] DEBUG Main.cc@152 data_frame_analyzer (64 bit): Version 8.0.0-SNAPSHOT (Build 67af1fd3e641e1) Copyright (c) 2021 Elasticsearch BV\n",
       "2021-08-05 08:30:02,251259 UTC [17802] DEBUG CProcessPriority_Linux.cc@38 Successfully increased OOM killer adjustment via /proc/self/oom_score_adj\n",
       "2021-08-05 08:30:02,251270 UTC [17802] DEBUG CSystemCallFilter_Linux.cc@133 Seccomp BPF filters available\n",
       "2021-08-05 08:30:02,251599 UTC [17802] DEBUG CSystemCallFilter_Linux.cc@159 Seccomp BPF installed\n",
       "2021-08-05 08:30:02,252435 UTC [17802] DEBUG CDataFrameAnalyzer.cc@107 Received 28 rows\n",
       "2021-08-05 08:30:02,256352 UTC [17802] INFO  CBoostedTreeImpl.cc@436 Exiting hyperparameter optimisation loop early\n",
       "2021-08-05 08:30:02,260720 UTC [17802] INFO  Main.cc@260 [{\"name\":\"E_DFTPMEstimatedPeakMemoryUsage\",\"description\":\"The upfront estimate of the peak memory training the predictive model would use\",\"value\":1470831}\n",
       ",{\"name\":\"E_DFTPMPeakMemoryUsage\",\"description\":\"The peak memory training the predictive model used\",\"value\":130952}\n",
       ",{\"name\":\"E_DFTPMTimeToTrain\",\"description\":\"The time it took to train the predictive model\",\"value\":4}\n",
       "]\n",
       "2021-08-05 08:30:02,260751 UTC [17802] DEBUG Main.cc@265 ML data frame analyzer exiting\n",
       "Success\n",
       "(env) ✔ ~/Documents/workspace/valeriy42/ml-cpp/jupyter/notebooks/incremental_learning [papermill-notebooks ↑·4|⚑ 6]\n",
       "10:30 $</pre></td>\n",
       "                                                                <td width=\"50%\" style=\"text-align:left;\"><pre>,{\"row_results\":{\"checksum\":0,\"results\":{\"ml\":{\"PE_prediction\":476.3063049316406\n",
       ",{\"row_results\":{\"checksum\":0,\"results\":{\"ml\":{\"PE_prediction\":441.1804504394531\n",
       ",{\"row_results\":{\"checksum\":0,\"results\":{\"ml\":{\"PE_prediction\":477.9193115234375\n",
       ",{\"row_results\":{\"checksum\":0,\"results\":{\"ml\":{\"PE_prediction\":463.8323669433594\n",
       ",{\"row_results\":{\"checksum\":0,\"results\":{\"ml\":{\"PE_prediction\":451.1941223144531\n",
       ",{\"row_results\":{\"checksum\":0,\"results\":{\"ml\":{\"PE_prediction\":459.60986328125,\"\n",
       ",{\"row_results\":{\"checksum\":0,\"results\":{\"ml\":{\"PE_prediction\":440.1463317871094\n",
       ",{\"model_metadata\":{\"total_feature_importance\":[],\"hyperparameters\":[{\"name\":\"do\n",
       ",{\"compressed_data_summarization\":{\"doc_num\":0,\"data_summarization\":\"H4sIAAAAAAA\n",
       "]</pre></td>\n",
       "                                                                </tr>\n",
       "                                                        </table>"
      ]
     },
     "metadata": {},
     "output_type": "display_data"
    },
    {
     "name": "stdout",
     "output_type": "stream",
     "text": [
      "Job succeeded\n"
     ]
    },
    {
     "data": {
      "text/plain": [
       "True"
      ]
     },
     "execution_count": 9,
     "metadata": {},
     "output_type": "execute_result"
    }
   ],
   "source": [
    "job3 = update(dataset_name, D3, job2)\n",
    "job3.wait_to_complete()"
   ]
  },
  {
   "cell_type": "markdown",
   "id": "5e228432",
   "metadata": {},
   "source": [
    "## 4. A. Compare M1 and M2 on D1"
   ]
  },
  {
   "cell_type": "code",
   "execution_count": 10,
   "id": "82bc6b4c",
   "metadata": {},
   "outputs": [
    {
     "data": {
      "text/html": [
       "<table><tr>\n",
       "                                                                <td width=\"50%\" style=\"text-align:center;\"><b>stderr</b></td>\n",
       "                                                                <td width=\"50%\" style=\"text-align:center;\"><b>output</b></td>\n",
       "                                                                </tr>\n",
       "                                                                <tr>\n",
       "                                                                <td width=\"50%\" style=\"text-align:left;\"><pre> /home/valeriy/Documents/workspace/valeriy42/ml-cpp/build/distribution/platform/linux-x86_64/bin/data_frame_analyzer --input /tmp/tmpnby45qwf --config /tmp/tmp5lk68rhi --output /tmp/tmpv8i8slj2 --validElasticLicenseKeyConfirmed true --restore /tmp/tmp_5h0rq8a; if [ $? -eq 0 ]; then echo \"Success\"; else echo \"Failure\";  fi\n",
       "(env) ✔ ~/Documents/workspace/valeriy42/ml-cpp/jupyter/notebooks/incremental_learning [papermill-notebooks ↑·4|⚑ 6]\n",
       "10:30 $  /home/valeriy/Documents/workspace/valeriy42/ml-cpp/build/distribution/platform/linux-x86_64/bin/data_frame_analyzer --input /tmp/tmpnby45qwf --config /tmp/tmp5lk68rhi --output /tmp/tmpv8i8slj2 --validElasticLicenseKeyConfirmed true --restore /tmp/tmp_5h0rq8a; if [ $? -eq 0 ]; then echo \"Success\"; else echo \"Failure\";  fi\n",
       "2021-08-05 08:30:07,310770 UTC [19130] DEBUG Main.cc@152 data_frame_analyzer (64 bit): Version 8.0.0-SNAPSHOT (Build 67af1fd3e641e1) Copyright (c) 2021 Elasticsearch BV\n",
       "2021-08-05 08:30:07,310822 UTC [19130] DEBUG CProcessPriority_Linux.cc@38 Successfully increased OOM killer adjustment via /proc/self/oom_score_adj\n",
       "2021-08-05 08:30:07,310833 UTC [19130] DEBUG CSystemCallFilter_Linux.cc@133 Seccomp BPF filters available\n",
       "2021-08-05 08:30:07,311356 UTC [19130] DEBUG CSystemCallFilter_Linux.cc@159 Seccomp BPF installed\n",
       "2021-08-05 08:30:07,312932 UTC [19130] DEBUG CDataFrameAnalyzer.cc@107 Received 108 rows\n",
       "2021-08-05 08:30:07,315396 UTC [19130] INFO  Main.cc@260 [{\"name\":\"E_DFTPMEstimatedPeakMemoryUsage\",\"description\":\"The upfront estimate of the peak memory training the predictive model would use\",\"value\":6271885}\n",
       ",{\"name\":\"E_DFTPMPeakMemoryUsage\",\"description\":\"The peak memory training the predictive model used\",\"value\":16554}\n",
       "]\n",
       "2021-08-05 08:30:07,315428 UTC [19130] DEBUG Main.cc@265 ML data frame analyzer exiting\n",
       "Success\n",
       "(env) ✔ ~/Documents/workspace/valeriy42/ml-cpp/jupyter/notebooks/incremental_learning [papermill-notebooks ↑·4|⚑ 6]\n",
       "10:30 $</pre></td>\n",
       "                                                                <td width=\"50%\" style=\"text-align:left;\"><pre>,{\"row_results\":{\"checksum\":0,\"results\":{\"ml\":{\"PE_prediction\":452.1653137207031\n",
       ",{\"row_results\":{\"checksum\":0,\"results\":{\"ml\":{\"PE_prediction\":435.9287719726562\n",
       ",{\"row_results\":{\"checksum\":0,\"results\":{\"ml\":{\"PE_prediction\":474.80615234375,\"\n",
       ",{\"row_results\":{\"checksum\":0,\"results\":{\"ml\":{\"PE_prediction\":435.9287719726562\n",
       ",{\"row_results\":{\"checksum\":0,\"results\":{\"ml\":{\"PE_prediction\":449.5102233886719\n",
       ",{\"row_results\":{\"checksum\":0,\"results\":{\"ml\":{\"PE_prediction\":479.3641662597656\n",
       ",{\"row_results\":{\"checksum\":0,\"results\":{\"ml\":{\"PE_prediction\":447.0312805175781\n",
       ",{\"model_metadata\":{\"total_feature_importance\":[],\"hyperparameters\":[],\"train_pr\n",
       ",{\"compressed_data_summarization\":{\"doc_num\":0,\"data_summarization\":\"H4sIAAAAAAA\n",
       "]</pre></td>\n",
       "                                                                </tr>\n",
       "                                                        </table>"
      ]
     },
     "metadata": {},
     "output_type": "display_data"
    },
    {
     "name": "stdout",
     "output_type": "stream",
     "text": [
      "Job succeeded\n"
     ]
    }
   ],
   "source": [
    "y_true = D1[job1.dependent_variable]\n",
    "y_M1 = job1.get_predictions()\n",
    "eval_job = evaluate(dataset_name, D1, job2)\n",
    "success = eval_job.wait_to_complete()\n",
    "if not success:\n",
    "    print('Evaluation failed')\n",
    "y_M2 = eval_job.get_predictions()"
   ]
  },
  {
   "cell_type": "code",
   "execution_count": 11,
   "id": "b34db69a",
   "metadata": {},
   "outputs": [],
   "source": [
    "def compute_metrics(ytrue, m1pred, m2pred):\n",
    "    m1_mae = mean_absolute_error(ytrue, m1pred)\n",
    "    m1_mse = mean_squared_error(ytrue, m1pred)\n",
    "    m2_mae = mean_absolute_error(ytrue, m2pred)\n",
    "    m2_mse = mean_squared_error(ytrue, m2pred)\n",
    "    print(\"M1: MAE: {}\\tMSE:{}\".format(m1_mae, m1_mse))\n",
    "    print(\"M2: MAE: {}\\tMSE:{}\".format(m2_mae, m2_mse))\n",
    "    ax = sns.scatterplot(x=m1pred, y=m2pred)\n",
    "    plt.xlabel('M1 predictions')\n",
    "    plt.ylabel('M2 predictions')"
   ]
  },
  {
   "cell_type": "code",
   "execution_count": 12,
   "id": "c33ba3f3",
   "metadata": {},
   "outputs": [
    {
     "name": "stdout",
     "output_type": "stream",
     "text": [
      "M1: MAE: 3.061122180175782\tMSE:14.611641946625271\n",
      "M2: MAE: 3.1028326171875\tMSE:14.385638341379842\n"
     ]
    },
    {
     "data": {
      "image/png": "[encoded data removed]",
      "text/plain": [
       "<Figure size 432x288 with 1 Axes>"
      ]
     },
     "metadata": {
      "needs_background": "light"
     },
     "output_type": "display_data"
    }
   ],
   "source": [
    "compute_metrics(y_true, y_M1, y_M2)"
   ]
  },
  {
   "cell_type": "code",
   "execution_count": null,
   "id": "d5af6592",
   "metadata": {},
   "outputs": [],
   "source": []
  }
 ],
 "metadata": {
  "interpreter": {
   "hash": "cd811bcf3f365bc5382730ef97b333cd6ca82417629bc5a6815cfad2f5503789"
  },
  "kernelspec": {
   "display_name": "Python 3",
   "language": "python",
   "name": "python3"
  },
  "language_info": {
   "codemirror_mode": {
    "name": "ipython",
    "version": 3
   },
   "file_extension": ".py",
   "mimetype": "text/x-python",
   "name": "python",
   "nbconvert_exporter": "python",
   "pygments_lexer": "ipython3",
   "version": "3.6.9"
  }
 },
 "nbformat": 4,
 "nbformat_minor": 5
}
