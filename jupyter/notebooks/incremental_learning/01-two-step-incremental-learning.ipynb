{
 "cells": [
  {
   "cell_type": "raw",
   "id": "c800b9a3",
   "metadata": {},
   "source": [
    "# Copyright Elasticsearch B.V. and/or licensed to Elasticsearch B.V. under one\n",
    "# or more contributor license agreements. Licensed under the Elastic License;\n",
    "# you may not use this file except in compliance with the Elastic License."
   ]
  },
  {
   "cell_type": "markdown",
   "id": "fb46c944",
   "metadata": {},
   "source": [
    "# Incremental Learning 1: Two-Step Incremental Learning\n",
    "\n",
    "1. Train model (M1) on the complete dataset (D1).\n",
    "2. Split the complete dataset (D1) into the base dataset (D2) and the update dataset (D3).\n",
    "3. Train a new model (M2) on D2 and update it using D3.\n",
    "4. Compare M1 and M2\n",
    "    1. Evaluation M1 and M2 on the complete dataset D1.\n",
    "    2. TODO: Compare feature importance vectors for individual data points from M1 and M2 (should be very similar)\n"
   ]
  },
  {
   "cell_type": "code",
   "execution_count": 1,
   "id": "2eccb861",
   "metadata": {},
   "outputs": [],
   "source": [
    "%load_ext autoreload\n",
    "%autoreload 2\n",
    "%config Completer.use_jedi = False\n",
    "import pandas as pd\n",
    "import numpy as np\n",
    "from sklearn.model_selection import train_test_split\n",
    "\n",
    "import seaborn as sns\n",
    "import matplotlib.pyplot as plt\n",
    "from sklearn.metrics import max_error, mean_absolute_error, mean_squared_error\n",
    "\n",
    "from incremental_learning.job import train, update, evaluate\n",
    "from incremental_learning.config import datasets_dir, root_dir"
   ]
  },
  {
   "cell_type": "code",
   "execution_count": null,
   "id": "dc817b0a",
   "metadata": {},
   "outputs": [],
   "source": []
  },
  {
   "cell_type": "markdown",
   "id": "d14e34d8",
   "metadata": {},
   "source": [
    "## 1. Train model (M1) on the complete dataset (D1)"
   ]
  },
  {
   "cell_type": "code",
   "execution_count": 2,
   "id": "1d56bf2d",
   "metadata": {},
   "outputs": [
    {
     "name": "stdout",
     "output_type": "stream",
     "text": [
      "session: job_kyozu\tcommand:\n",
      "/home/valeriy/Documents/workspace/valeriy42/ml-cpp/build/distribution/platform/linux-x86_64/bin/data_frame_analyzer --input /tmp/tmpoo3u3skw --config /tmp/tmpv_h512tk --output /tmp/tmpm897xtgc --persist /tmp/tmpqikf3mb1; if [ $? -eq 0 ]; then echo \"Success\"; else echo \"Failure\";  fi;\n"
     ]
    }
   ],
   "source": [
    "dataset_name = 'ccpp'\n",
    "D1 = pd.read_csv(datasets_dir / '{}.csv'.format(dataset_name))\n",
    "D1.drop_duplicates(inplace=True)\n",
    "\n",
    "## sample 100 rows just for test purposes!\n",
    "D1 = D1.sample(100)\n",
    "\n",
    "job1 = train(dataset_name, D1)"
   ]
  },
  {
   "cell_type": "code",
   "execution_count": 3,
   "id": "6a9033ab",
   "metadata": {
    "scrolled": false
   },
   "outputs": [
    {
     "data": {
      "text/html": [
       "<table><tr>\n",
       "                                                                <td width=\"50%\" style=\"text-align:center;\"><b>stderr</b></td>\n",
       "                                                                <td width=\"50%\" style=\"text-align:center;\"><b>output</b></td>\n",
       "                                                                </tr>\n",
       "                                                                <tr>\n",
       "                                                                <td width=\"50%\" style=\"text-align:left;\"><pre> /home/valeriy/Documents/workspace/valeriy42/ml-cpp/build/distribution/platform/linux-x86_64/bin/data_frame_analyzer --input /tmp/tmpoo3u3skw --config /tmp/tmpv_h512tk --output /tmp/tmpm897xtgc --persist /tmp/tmpqikf3mb1; if [ $? -eq 0 ]; then echo \"Success\"; else echo \"Failure\";  fi\n",
       "(env) ✔ ~/Documents/workspace/valeriy42/ml-cpp/jupyter/notebooks/incremental_learning [papermill-notebooks L|✚ 3…2⚑ 6]\n",
       "10:56 $  /home/valeriy/Documents/workspace/valeriy42/ml-cpp/build/distribution/platform/linux-x86_64/bin/data_frame_analyzer --input /tmp/tmpoo3u3skw --config /tmp/tmpv_h512tk --output /tmp/tmpm897xtgc --persist /tmp/tmpqikf3mb1; if [ $? -eq 0 ]; then echo \"Success\"; else echo \"Failure\";  fi\n",
       "2021-07-27 08:56:17,994538 UTC [14680] DEBUG Main.cc@147 data_frame_analyzer (64 bit): Version based on 8.0.0-SNAPSHOT (Build DEVELOPMENT BUILD by valeriy) Copyright (c) 2021 Elasticsearch BV\n",
       "2021-07-27 08:56:17,994640 UTC [14680] DEBUG CProcessPriority_Linux.cc@33 Successfully increased OOM killer adjustment via /proc/self/oom_score_adj\n",
       "2021-07-27 08:56:17,994669 UTC [14680] DEBUG CSystemCallFilter_Linux.cc@128 Seccomp BPF filters available\n",
       "2021-07-27 08:56:17,996446 UTC [14680] DEBUG CSystemCallFilter_Linux.cc@154 Seccomp BPF installed\n",
       "2021-07-27 08:56:17,996775 UTC [14680] DEBUG CDataFrameAnalyzer.cc@102 Received 100 rows\n",
       "2021-07-27 08:56:18,628723 UTC [14680] INFO  CBoostedTreeImpl.cc@262 Exiting hyperparameter optimisation loop early\n",
       "2021-07-27 08:56:19,029995 UTC [14680] INFO  Main.cc@255 [{\"name\":\"E_DFTPMEstimatedPeakMemoryUsage\",\"description\":\"The upfront estimate of the peak memory training the predictive model would use\",\"value\":4189724}\n",
       ",{\"name\":\"E_DFTPMPeakMemoryUsage\",\"description\":\"The peak memory training the predictive model used\",\"value\":242311}\n",
       ",{\"name\":\"E_DFTPMTimeToTrain\",\"description\":\"The time it took to train the predictive model\",\"value\":640}\n",
       ",{\"name\":\"E_DFTPMTrainedForestNumberTrees\",\"description\":\"The total number of trees in the trained forest\",\"value\":99}\n",
       "]\n",
       "2021-07-27 08:56:19,030097 UTC [14680] DEBUG Main.cc@260 ML data frame analyzer exiting\n",
       "Success\n",
       "(env) ✔ ~/Documents/workspace/valeriy42/ml-cpp/jupyter/notebooks/incremental_learning [papermill-notebooks L|✚ 3…2⚑ 6]\n",
       "10:56 $</pre></td>\n",
       "                                                                <td width=\"50%\" style=\"text-align:left;\"><pre>,{\"row_results\":{\"checksum\":0,\"results\":{\"ml\":{\"PE_prediction\":436.1274719238281\n",
       ",{\"row_results\":{\"checksum\":0,\"results\":{\"ml\":{\"PE_prediction\":470.1581420898437\n",
       ",{\"row_results\":{\"checksum\":0,\"results\":{\"ml\":{\"PE_prediction\":443.0557861328125\n",
       ",{\"row_results\":{\"checksum\":0,\"results\":{\"ml\":{\"PE_prediction\":443.7616882324219\n",
       ",{\"row_results\":{\"checksum\":0,\"results\":{\"ml\":{\"PE_prediction\":443.402587890625,\n",
       ",{\"row_results\":{\"checksum\":0,\"results\":{\"ml\":{\"PE_prediction\":468.6610717773437\n",
       ",{\"row_results\":{\"checksum\":0,\"results\":{\"ml\":{\"PE_prediction\":462.2063598632812\n",
       ",{\"model_metadata\":{\"total_feature_importance\":[],\"hyperparameters\":[{\"name\":\"do\n",
       ",{\"compressed_data_summarization\":{\"doc_num\":0,\"data_summarization\":\"H4sIAAAAAAA\n",
       "]</pre></td>\n",
       "                                                                </tr>\n",
       "                                                        </table>"
      ]
     },
     "metadata": {},
     "output_type": "display_data"
    },
    {
     "name": "stdout",
     "output_type": "stream",
     "text": [
      "Job succeeded\n"
     ]
    },
    {
     "data": {
      "text/plain": [
       "True"
      ]
     },
     "execution_count": 3,
     "metadata": {},
     "output_type": "execute_result"
    }
   ],
   "source": [
    "job1.wait_to_complete()"
   ]
  },
  {
   "cell_type": "markdown",
   "id": "587a5cad",
   "metadata": {},
   "source": [
    "## 2. Split the complete dataset (D1) into the base dataset (D2) and the update dataset (D3)."
   ]
  },
  {
   "cell_type": "code",
   "execution_count": 4,
   "id": "ea3561f3",
   "metadata": {},
   "outputs": [],
   "source": [
    "D2, D3 = train_test_split(D1, test_size=0.2)"
   ]
  },
  {
   "cell_type": "markdown",
   "id": "198549b0",
   "metadata": {},
   "source": [
    "## 3. Train a new model (M2) on D2 and update it using D3."
   ]
  },
  {
   "cell_type": "code",
   "execution_count": 5,
   "id": "87be02ec",
   "metadata": {},
   "outputs": [
    {
     "name": "stdout",
     "output_type": "stream",
     "text": [
      "session: job_nydor\tcommand:\n",
      "/home/valeriy/Documents/workspace/valeriy42/ml-cpp/build/distribution/platform/linux-x86_64/bin/data_frame_analyzer --input /tmp/tmp8mmowq8m --config /tmp/tmpt3ybpgoh --output /tmp/tmp222fk9pz --persist /tmp/tmpd_fnfom1; if [ $? -eq 0 ]; then echo \"Success\"; else echo \"Failure\";  fi;\n"
     ]
    }
   ],
   "source": [
    "job2 = train(dataset_name, D2)"
   ]
  },
  {
   "cell_type": "code",
   "execution_count": 6,
   "id": "1f504681",
   "metadata": {},
   "outputs": [
    {
     "data": {
      "text/html": [
       "<table><tr>\n",
       "                                                                <td width=\"50%\" style=\"text-align:center;\"><b>stderr</b></td>\n",
       "                                                                <td width=\"50%\" style=\"text-align:center;\"><b>output</b></td>\n",
       "                                                                </tr>\n",
       "                                                                <tr>\n",
       "                                                                <td width=\"50%\" style=\"text-align:left;\"><pre> /home/valeriy/Documents/workspace/valeriy42/ml-cpp/build/distribution/platform/linux-x86_64/bin/data_frame_analyzer --input /tmp/tmp8mmowq8m --config /tmp/tmpt3ybpgoh --output /tmp/tmp222fk9pz --persist /tmp/tmpd_fnfom1; if [ $? -eq 0 ]; then echo \"Success\"; else echo \"Failure\";  fi\n",
       "(env) ✔ ~/Documents/workspace/valeriy42/ml-cpp/jupyter/notebooks/incremental_learning [papermill-notebooks L|✚ 3…2⚑ 6]\n",
       "10:56 $  /home/valeriy/Documents/workspace/valeriy42/ml-cpp/build/distribution/platform/linux-x86_64/bin/data_frame_analyzer --input /tmp/tmp8mmowq8m --config /tmp/tmpt3ybpgoh --output /tmp/tmp222fk9pz --persist /tmp/tmpd_fnfom1; if [ $? -eq 0 ]; then echo \"Success\"; else echo \"Failure\";  fi\n",
       "2021-07-27 08:56:23,224923 UTC [16202] DEBUG Main.cc@147 data_frame_analyzer (64 bit): Version based on 8.0.0-SNAPSHOT (Build DEVELOPMENT BUILD by valeriy) Copyright (c) 2021 Elasticsearch BV\n",
       "2021-07-27 08:56:23,224961 UTC [16202] DEBUG CProcessPriority_Linux.cc@33 Successfully increased OOM killer adjustment via /proc/self/oom_score_adj\n",
       "2021-07-27 08:56:23,224971 UTC [16202] DEBUG CSystemCallFilter_Linux.cc@128 Seccomp BPF filters available\n",
       "2021-07-27 08:56:23,225349 UTC [16202] DEBUG CSystemCallFilter_Linux.cc@154 Seccomp BPF installed\n",
       "2021-07-27 08:56:23,225612 UTC [16202] DEBUG CDataFrameAnalyzer.cc@102 Received 80 rows\n",
       "2021-07-27 08:56:23,712301 UTC [16202] INFO  CBoostedTreeImpl.cc@262 Exiting hyperparameter optimisation loop early\n",
       "2021-07-27 08:56:23,740557 UTC [16202] INFO  Main.cc@255 [{\"name\":\"E_DFTPMEstimatedPeakMemoryUsage\",\"description\":\"The upfront estimate of the peak memory training the predictive model would use\",\"value\":3496190}\n",
       ",{\"name\":\"E_DFTPMPeakMemoryUsage\",\"description\":\"The peak memory training the predictive model used\",\"value\":260433}\n",
       ",{\"name\":\"E_DFTPMTimeToTrain\",\"description\":\"The time it took to train the predictive model\",\"value\":496}\n",
       ",{\"name\":\"E_DFTPMTrainedForestNumberTrees\",\"description\":\"The total number of trees in the trained forest\",\"value\":167}\n",
       "]\n",
       "2021-07-27 08:56:23,740589 UTC [16202] DEBUG Main.cc@260 ML data frame analyzer exiting\n",
       "Success\n",
       "(env) ✔ ~/Documents/workspace/valeriy42/ml-cpp/jupyter/notebooks/incremental_learning [papermill-notebooks L|✚ 3…2⚑ 6]\n",
       "10:56 $</pre></td>\n",
       "                                                                <td width=\"50%\" style=\"text-align:left;\"><pre>,{\"row_results\":{\"checksum\":0,\"results\":{\"ml\":{\"PE_prediction\":468.3075561523437\n",
       ",{\"row_results\":{\"checksum\":0,\"results\":{\"ml\":{\"PE_prediction\":453.2492065429687\n",
       ",{\"row_results\":{\"checksum\":0,\"results\":{\"ml\":{\"PE_prediction\":468.4474182128906\n",
       ",{\"row_results\":{\"checksum\":0,\"results\":{\"ml\":{\"PE_prediction\":471.8367004394531\n",
       ",{\"row_results\":{\"checksum\":0,\"results\":{\"ml\":{\"PE_prediction\":447.73486328125,\"\n",
       ",{\"row_results\":{\"checksum\":0,\"results\":{\"ml\":{\"PE_prediction\":472.2451171875,\"i\n",
       ",{\"row_results\":{\"checksum\":0,\"results\":{\"ml\":{\"PE_prediction\":450.1095275878906\n",
       ",{\"model_metadata\":{\"total_feature_importance\":[],\"hyperparameters\":[{\"name\":\"do\n",
       ",{\"compressed_data_summarization\":{\"doc_num\":0,\"data_summarization\":\"H4sIAAAAAAA\n",
       "]</pre></td>\n",
       "                                                                </tr>\n",
       "                                                        </table>"
      ]
     },
     "metadata": {},
     "output_type": "display_data"
    },
    {
     "name": "stdout",
     "output_type": "stream",
     "text": [
      "Job succeeded\n"
     ]
    },
    {
     "data": {
      "text/plain": [
       "True"
      ]
     },
     "execution_count": 6,
     "metadata": {},
     "output_type": "execute_result"
    }
   ],
   "source": [
    "job2.wait_to_complete()"
   ]
  },
  {
   "cell_type": "code",
   "execution_count": 7,
   "id": "dc60b19a",
   "metadata": {},
   "outputs": [
    {
     "data": {
      "text/html": [
       "<table><tr>\n",
       "                                                                <td width=\"50%\" style=\"text-align:center;\"><b>stderr</b></td>\n",
       "                                                                <td width=\"50%\" style=\"text-align:center;\"><b>output</b></td>\n",
       "                                                                </tr>\n",
       "                                                                <tr>\n",
       "                                                                <td width=\"50%\" style=\"text-align:left;\"><pre> /home/valeriy/Documents/workspace/valeriy42/ml-cpp/build/distribution/platform/linux-x86_64/bin/data_frame_analyzer --input /tmp/tmpj5phta0a --config /tmp/tmptgc0vcwh --output /tmp/tmp94zbn5k0 --restore /tmp/tmp555ibevu; if [ $? -eq 0 ]; then echo \"Success\"; else echo \"Failure\";  fi\n",
       "(env) ✔ ~/Documents/workspace/valeriy42/ml-cpp/jupyter/notebooks/incremental_learning [papermill-notebooks L|✚ 3…2⚑ 6]\n",
       "10:56 $  /home/valeriy/Documents/workspace/valeriy42/ml-cpp/build/distribution/platform/linux-x86_64/bin/data_frame_analyzer --input /tmp/tmpj5phta0a --config /tmp/tmptgc0vcwh --output /tmp/tmp94zbn5k0 --restore /tmp/tmp555ibevu; if [ $? -eq 0 ]; then echo \"Success\"; else echo \"Failure\";  fi\n",
       "2021-07-27 08:56:28,479390 UTC [17617] DEBUG Main.cc@147 data_frame_analyzer (64 bit): Version based on 8.0.0-SNAPSHOT (Build DEVELOPMENT BUILD by valeriy) Copyright (c) 2021 Elasticsearch BV\n",
       "2021-07-27 08:56:28,479426 UTC [17617] DEBUG CProcessPriority_Linux.cc@33 Successfully increased OOM killer adjustment via /proc/self/oom_score_adj\n",
       "2021-07-27 08:56:28,479436 UTC [17617] DEBUG CSystemCallFilter_Linux.cc@128 Seccomp BPF filters available\n",
       "2021-07-27 08:56:28,479834 UTC [17617] DEBUG CSystemCallFilter_Linux.cc@154 Seccomp BPF installed\n",
       "2021-07-27 08:56:28,482177 UTC [17617] DEBUG CDataFrameAnalyzer.cc@102 Received 28 rows\n",
       "2021-07-27 08:56:28,509690 UTC [17617] INFO  CBoostedTreeImpl.cc@391 Exiting hyperparameter optimisation loop early\n",
       "2021-07-27 08:56:28,515816 UTC [17617] INFO  Main.cc@255 [{\"name\":\"E_DFTPMEstimatedPeakMemoryUsage\",\"description\":\"The upfront estimate of the peak memory training the predictive model would use\",\"value\":1582711}\n",
       ",{\"name\":\"E_DFTPMPeakMemoryUsage\",\"description\":\"The peak memory training the predictive model used\",\"value\":117230}\n",
       ",{\"name\":\"E_DFTPMTimeToTrain\",\"description\":\"The time it took to train the predictive model\",\"value\":32}\n",
       "]\n",
       "2021-07-27 08:56:28,515841 UTC [17617] DEBUG Main.cc@260 ML data frame analyzer exiting\n",
       "Success\n",
       "(env) ✔ ~/Documents/workspace/valeriy42/ml-cpp/jupyter/notebooks/incremental_learning [papermill-notebooks L|✚ 3…2⚑ 6]\n",
       "10:56 $</pre></td>\n",
       "                                                                <td width=\"50%\" style=\"text-align:left;\"><pre>,{\"row_results\":{\"checksum\":0,\"results\":{\"ml\":{\"PE_prediction\":468.7115783691406\n",
       ",{\"row_results\":{\"checksum\":0,\"results\":{\"ml\":{\"PE_prediction\":460.8976440429687\n",
       ",{\"row_results\":{\"checksum\":0,\"results\":{\"ml\":{\"PE_prediction\":436.1338195800781\n",
       ",{\"row_results\":{\"checksum\":0,\"results\":{\"ml\":{\"PE_prediction\":435.8819580078125\n",
       ",{\"row_results\":{\"checksum\":0,\"results\":{\"ml\":{\"PE_prediction\":450.3504028320312\n",
       ",{\"row_results\":{\"checksum\":0,\"results\":{\"ml\":{\"PE_prediction\":469.2135925292969\n",
       ",{\"row_results\":{\"checksum\":0,\"results\":{\"ml\":{\"PE_prediction\":469.3209838867187\n",
       ",{\"model_metadata\":{\"total_feature_importance\":[],\"hyperparameters\":[{\"name\":\"do\n",
       ",{\"compressed_data_summarization\":{\"doc_num\":0,\"data_summarization\":\"H4sIAAAAAAA\n",
       "]</pre></td>\n",
       "                                                                </tr>\n",
       "                                                        </table>"
      ]
     },
     "metadata": {},
     "output_type": "display_data"
    },
    {
     "name": "stdout",
     "output_type": "stream",
     "text": [
      "Job succeeded\n"
     ]
    },
    {
     "data": {
      "text/plain": [
       "True"
      ]
     },
     "execution_count": 7,
     "metadata": {},
     "output_type": "execute_result"
    }
   ],
   "source": [
    "job3 = update(dataset_name, D3, job2)\n",
    "job3.wait_to_complete()"
   ]
  },
  {
   "cell_type": "markdown",
   "id": "6d6c5fec",
   "metadata": {},
   "source": [
    "## 4. A. Compare M1 and M2 on D1"
   ]
  },
  {
   "cell_type": "code",
   "execution_count": 8,
   "id": "185a8705",
   "metadata": {},
   "outputs": [
    {
     "data": {
      "text/html": [
       "<table><tr>\n",
       "                                                                <td width=\"50%\" style=\"text-align:center;\"><b>stderr</b></td>\n",
       "                                                                <td width=\"50%\" style=\"text-align:center;\"><b>output</b></td>\n",
       "                                                                </tr>\n",
       "                                                                <tr>\n",
       "                                                                <td width=\"50%\" style=\"text-align:left;\"><pre> /home/valeriy/Documents/workspace/valeriy42/ml-cpp/build/distribution/platform/linux-x86_64/bin/data_frame_analyzer --input /tmp/tmpy0klo1fr --config /tmp/tmpub3drc73 --output /tmp/tmp7i_b9ywi --restore /tmp/tmpyhb0n8wp; if [ $? -eq 0 ]; then echo \"Success\"; else echo \"Failure\";  fi\n",
       "(env) ✔ ~/Documents/workspace/valeriy42/ml-cpp/jupyter/notebooks/incremental_learning [papermill-notebooks L|✚ 3…2⚑ 6]\n",
       "10:56 $  /home/valeriy/Documents/workspace/valeriy42/ml-cpp/build/distribution/platform/linux-x86_64/bin/data_frame_analyzer --input /tmp/tmpy0klo1fr --config /tmp/tmpub3drc73 --output /tmp/tmp7i_b9ywi --restore /tmp/tmpyhb0n8wp; if [ $? -eq 0 ]; then echo \"Success\"; else echo \"Failure\";  fi\n",
       "2021-07-27 08:56:33,764728 UTC [18960] DEBUG Main.cc@147 data_frame_analyzer (64 bit): Version based on 8.0.0-SNAPSHOT (Build DEVELOPMENT BUILD by valeriy) Copyright (c) 2021 Elasticsearch BV\n",
       "2021-07-27 08:56:33,764765 UTC [18960] DEBUG CProcessPriority_Linux.cc@33 Successfully increased OOM killer adjustment via /proc/self/oom_score_adj\n",
       "2021-07-27 08:56:33,764774 UTC [18960] DEBUG CSystemCallFilter_Linux.cc@128 Seccomp BPF filters available\n",
       "2021-07-27 08:56:33,765179 UTC [18960] DEBUG CSystemCallFilter_Linux.cc@154 Seccomp BPF installed\n",
       "2021-07-27 08:56:33,767538 UTC [18960] DEBUG CDataFrameAnalyzer.cc@102 Received 108 rows\n",
       "2021-07-27 08:56:33,771402 UTC [18960] INFO  Main.cc@255 [{\"name\":\"E_DFTPMEstimatedPeakMemoryUsage\",\"description\":\"The upfront estimate of the peak memory training the predictive model would use\",\"value\":4356469}\n",
       ",{\"name\":\"E_DFTPMPeakMemoryUsage\",\"description\":\"The peak memory training the predictive model used\",\"value\":55850}\n",
       ",{\"name\":\"E_DFTPMTimeToTrain\",\"description\":\"The time it took to train the predictive model\",\"value\":4}\n",
       "]\n",
       "2021-07-27 08:56:33,771423 UTC [18960] DEBUG Main.cc@260 ML data frame analyzer exiting\n",
       "Success\n",
       "(env) ✔ ~/Documents/workspace/valeriy42/ml-cpp/jupyter/notebooks/incremental_learning [papermill-notebooks L|✚ 3…2⚑ 6]\n",
       "10:56 $</pre></td>\n",
       "                                                                <td width=\"50%\" style=\"text-align:left;\"><pre>,{\"row_results\":{\"checksum\":0,\"results\":{\"ml\":{\"PE_prediction\":437.078369140625,\n",
       ",{\"row_results\":{\"checksum\":0,\"results\":{\"ml\":{\"PE_prediction\":471.3929138183594\n",
       ",{\"row_results\":{\"checksum\":0,\"results\":{\"ml\":{\"PE_prediction\":440.3450317382812\n",
       ",{\"row_results\":{\"checksum\":0,\"results\":{\"ml\":{\"PE_prediction\":443.2053833007812\n",
       ",{\"row_results\":{\"checksum\":0,\"results\":{\"ml\":{\"PE_prediction\":443.8032531738281\n",
       ",{\"row_results\":{\"checksum\":0,\"results\":{\"ml\":{\"PE_prediction\":468.3075561523437\n",
       ",{\"row_results\":{\"checksum\":0,\"results\":{\"ml\":{\"PE_prediction\":459.9489135742187\n",
       ",{\"model_metadata\":{\"total_feature_importance\":[],\"hyperparameters\":[],\"data_sum\n",
       ",{\"compressed_data_summarization\":{\"doc_num\":0,\"data_summarization\":\"H4sIAAAAAAA\n",
       "]</pre></td>\n",
       "                                                                </tr>\n",
       "                                                        </table>"
      ]
     },
     "metadata": {},
     "output_type": "display_data"
    },
    {
     "name": "stdout",
     "output_type": "stream",
     "text": [
      "Job succeeded\n"
     ]
    }
   ],
   "source": [
    "y_true = D1[job1.dependent_variable]\n",
    "y_M1 = job1.get_predictions()\n",
    "eval_job = evaluate(dataset_name, D1, job2)\n",
    "success = eval_job.wait_to_complete()\n",
    "if not success:\n",
    "    print('Evaluation failed')\n",
    "y_M2 = eval_job.get_predictions()"
   ]
  },
  {
   "cell_type": "code",
   "execution_count": 9,
   "id": "aacd783f",
   "metadata": {},
   "outputs": [],
   "source": [
    "def compute_metrics(ytrue, m1pred, m2pred):\n",
    "    m1_mae = mean_absolute_error(ytrue, m1pred)\n",
    "    m1_mse = mean_squared_error(ytrue, m1pred)\n",
    "    m2_mae = mean_absolute_error(ytrue, m2pred)\n",
    "    m2_mse = mean_squared_error(ytrue, m2pred)\n",
    "    print(\"M1: MAE: {}\\tMSE:{}\".format(m1_mae, m1_mse))\n",
    "    print(\"M2: MAE: {}\\tMSE:{}\".format(m2_mae, m2_mse))\n",
    "    ax = sns.scatterplot(x=m1pred, y=m2pred)\n",
    "    plt.xlabel('M1 predictions')\n",
    "    plt.ylabel('M2 predictions')"
   ]
  },
  {
   "cell_type": "code",
   "execution_count": 10,
   "id": "788f2612",
   "metadata": {},
   "outputs": [
    {
     "name": "stdout",
     "output_type": "stream",
     "text": [
      "M1: MAE: 3.4529110107421896\tMSE:17.239768451956557\n",
      "M2: MAE: 3.6417821044921896\tMSE:19.335559449192782\n"
     ]
    },
    {
     "data": {
      "image/png": "[encoded data removed]",
      "text/plain": [
       "<Figure size 432x288 with 1 Axes>"
      ]
     },
     "metadata": {
      "needs_background": "light"
     },
     "output_type": "display_data"
    }
   ],
   "source": [
    "compute_metrics(y_true, y_M1, y_M2)"
   ]
  },
  {
   "cell_type": "code",
   "execution_count": null,
   "id": "185ed8d5",
   "metadata": {},
   "outputs": [],
   "source": []
  }
 ],
 "metadata": {
  "interpreter": {
   "hash": "cd811bcf3f365bc5382730ef97b333cd6ca82417629bc5a6815cfad2f5503789"
  },
  "kernelspec": {
   "display_name": "Python 3",
   "language": "python",
   "name": "python3"
  },
  "language_info": {
   "codemirror_mode": {
    "name": "ipython",
    "version": 3
   },
   "file_extension": ".py",
   "mimetype": "text/x-python",
   "name": "python",
   "nbconvert_exporter": "python",
   "pygments_lexer": "ipython3",
   "version": "3.6.9"
  }
 },
 "nbformat": 4,
 "nbformat_minor": 5
}
