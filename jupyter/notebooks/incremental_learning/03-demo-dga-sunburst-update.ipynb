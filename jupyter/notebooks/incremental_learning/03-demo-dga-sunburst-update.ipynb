{
 "cells": [
  {
   "cell_type": "raw",
   "id": "981e5127",
   "metadata": {},
   "source": [
    "# Copyright Elasticsearch B.V. and/or licensed to Elasticsearch B.V. under one\n",
    "# or more contributor license agreements. Licensed under the Elastic License\n",
    "# 2.0 and the following additional limitation. Functionality enabled by the\n",
    "# files subject to the Elastic License 2.0 may only be used in production when\n",
    "# invoked by an Elasticsearch process with a license key installed that permits\n",
    "# use of machine learning features. You may not use this file except in\n",
    "# compliance with the Elastic License 2.0 and the foregoing additional\n",
    "# limitation.\n"
   ]
  },
  {
   "cell_type": "markdown",
   "id": "aaeb4b77",
   "metadata": {},
   "source": [
    "# Incremental Learning 1: Two-Step Incremental Learning\n",
    "\n",
    "1. Retrieve DGA model (M1) trained on full dataset minus sunburst and the sunburst dataset (S).\n",
    "2. Split sunburst dataset into an update dataset (U) and a test dataset (T).\n",
    "3. Evaluate M1 on T.\n",
    "4. Update M1 with U (M2) and evaluate on T.\n",
    "5. Compare M1 and M2 accuracy on T."
   ]
  },
  {
   "cell_type": "code",
   "execution_count": 31,
   "id": "f4765402",
   "metadata": {},
   "outputs": [
    {
     "name": "stdout",
     "output_type": "stream",
     "text": [
      "The autoreload extension is already loaded. To reload it, use:\n",
      "  %reload_ext autoreload\n"
     ]
    }
   ],
   "source": [
    "%load_ext autoreload\n",
    "%autoreload 2\n",
    "%config Completer.use_jedi = False\n",
    "import pandas as pd\n",
    "import numpy as np\n",
    "from sklearn.model_selection import train_test_split\n",
    "\n",
    "import seaborn as sns\n",
    "import matplotlib.pyplot as plt\n",
    "from sklearn.metrics import accuracy_score\n",
    "\n",
    "from incremental_learning.config import datasets_dir, root_dir, jobs_dir\n",
    "from incremental_learning.job import update, evaluate, Job\n",
    "from incremental_learning.storage import download_dataset"
   ]
  },
  {
   "cell_type": "markdown",
   "id": "d3f3105b",
   "metadata": {},
   "source": [
    "## 1. Retrieve DGA model (M1) and sunburst dataset (S)"
   ]
  },
  {
   "cell_type": "code",
   "execution_count": 5,
   "id": "5b3df100",
   "metadata": {},
   "outputs": [],
   "source": [
    "dataset_name = 'dga-data-ngrams-sunburst'\n",
    "\n",
    "download_dataset(dataset_name)\n",
    "S = pd.read_csv(datasets_dir / '{}.csv'.format(dataset_name))\n",
    "S.drop_duplicates(inplace=True)\n",
    "\n",
    "M1 = Job.from_file(source=jobs_dir / 'dga-v2-baseline-model')"
   ]
  },
  {
   "cell_type": "markdown",
   "id": "62632f57",
   "metadata": {},
   "source": [
    "## 2. Split the sunburst dataset into the update dataset (U) and the test dataset (T)"
   ]
  },
  {
   "cell_type": "code",
   "execution_count": 7,
   "id": "3d4a80d6",
   "metadata": {},
   "outputs": [],
   "source": [
    "U, T = train_test_split(S, test_size=0.2)"
   ]
  },
  {
   "cell_type": "markdown",
   "id": "e4f649c3",
   "metadata": {},
   "source": [
    "## 3. Evaluate model M1 on T"
   ]
  },
  {
   "cell_type": "code",
   "execution_count": 11,
   "id": "3465743b",
   "metadata": {},
   "outputs": [
    {
     "data": {
      "text/html": [
       "<table><tr>\n",
       "                                                                <td width=\"50%\" style=\"text-align:center;\"><b>stderr</b></td>\n",
       "                                                                <td width=\"50%\" style=\"text-align:center;\"><b>output</b></td>\n",
       "                                                                </tr>\n",
       "                                                                <tr>\n",
       "                                                                <td width=\"50%\" style=\"text-align:left;\"><pre> /Users/thomasveasey/ml-cpp/build/distribution/platform/darwin-x86_64/controller.app/Contents/MacOS/data_frame_analyzer --input /var/folders/xn/wrmsjpr53z9g9pqrrz12p2t80000gn/T/tmpgprbwv0s --config /var/folders/xn/wrmsjpr53z9g9pqrrz12p2t80000gn/T/tmpe72zb8ms --output /var/folders/xn/wrmsjpr53z9g9pqrrz12p2t80000gn/T/tmpr4wnt3pq --validElasticLicenseKeyConfirmed true --restore /var/folders/xn/wrmsjpr53z9g9pqrrz12p2t80000gn/T/tmpziqghqe3; if [ $? -eq 0 ]; then echo \"Success\"; else echo \"Failure\";  fi\n",
       "Thomass-MBP-2:incremental_learning thomasveasey$  /Users/thomasveasey/ml-cpp/build/distribution/platform/darwin-x86_64/controller.app/Contents/MacOS/data_frame_analyzer --input /var/folders/xn/wrmsjpr53z9g9pqrrz12p2t80000gn/T/tmpgprbwv0s --config /var/folders/xn/wrmsjpr53z9g9pqrrz12p2t80000gn/T/tmpe72zb8ms --output /var/folders/xn/wrmsjpr53z9g9pqrrz12p2t80000gn/T/tmpr4wnt3pq --validElasticLicenseKeyConfirmed true --restore /var/folders/xn/wrmsjpr53z9g9pqrrz12p2t80000gn/T/tmpziqghqe3; if [ $? -eq 0 ]; then echo \"Success\"; else echo \"Failure\";  fi\n",
       "2021-10-01 13:40:49,250471 UTC [39769] DEBUG /Users/thomasveasey/ml-cpp/bin/data_frame_analyzer/Main.cc@152 data_frame_analyzer (64 bit): Version 8.0.0-SNAPSHOT (Build 7eb21303b2f861) Copyright (c) 2021 Elasticsearch BV\n",
       "2021-10-01 13:40:49,255019 UTC [39769] DEBUG /Users/thomasveasey/ml-cpp/lib/seccomp/CSystemCallFilter_MacOSX.cc@107 macOS sandbox initialized\n",
       "2021-10-01 13:45:51,922718 UTC [39769] DEBUG /Users/thomasveasey/ml-cpp/lib/api/CDataFrameAnalyzer.cc@113 Received 135006 rows\n",
       "2021-10-01 13:46:02,957529 UTC [39769] INFO  /Users/thomasveasey/ml-cpp/bin/data_frame_analyzer/Main.cc@260 [{\"name\":\"E_DFTPMEstimatedPeakMemoryUsage\",\"description\":\"The upfront estimate of the peak memory training the predictive model would use\",\"value\":541063378}\n",
       ",{\"name\":\"E_DFTPMPeakMemoryUsage\",\"description\":\"The peak memory training the predictive model used\",\"value\":226827486}\n",
       ",{\"name\":\"E_DFTPMTimeToTrain\",\"description\":\"The time it took to train the predictive model\",\"value\":2583}\n",
       "]\n",
       "2021-10-01 13:46:02,957587 UTC [39769] DEBUG /Users/thomasveasey/ml-cpp/bin/data_frame_analyzer/Main.cc@265 ML data frame analyzer exiting\n",
       "Success\n",
       "Thomass-MBP-2:incremental_learning thomasveasey$</pre></td>\n",
       "                                                                <td width=\"50%\" style=\"text-align:left;\"><pre>,{\"row_results\":{\"checksum\":0,\"results\":{\"ml\":{\"malicious_prediction\":\"0\",\"predi\n",
       ",{\"row_results\":{\"checksum\":0,\"results\":{\"ml\":{\"malicious_prediction\":\"0\",\"predi\n",
       ",{\"row_results\":{\"checksum\":0,\"results\":{\"ml\":{\"malicious_prediction\":\"0\",\"predi\n",
       ",{\"row_results\":{\"checksum\":0,\"results\":{\"ml\":{\"malicious_prediction\":\"0\",\"predi\n",
       ",{\"row_results\":{\"checksum\":0,\"results\":{\"ml\":{\"malicious_prediction\":\"0\",\"predi\n",
       ",{\"row_results\":{\"checksum\":0,\"results\":{\"ml\":{\"malicious_prediction\":\"0\",\"predi\n",
       ",{\"row_results\":{\"checksum\":0,\"results\":{\"ml\":{\"malicious_prediction\":\"0\",\"predi\n",
       ",{\"model_metadata\":{\"total_feature_importance\":[],\"hyperparameters\":[],\"train_pr\n",
       ",{\"compressed_data_summarization\":{\"doc_num\":0,\"data_summarization\":\"H4sIAAAAAAA\n",
       "]</pre></td>\n",
       "                                                                </tr>\n",
       "                                                        </table>"
      ]
     },
     "metadata": {},
     "output_type": "display_data"
    },
    {
     "name": "stdout",
     "output_type": "stream",
     "text": [
      "Job succeeded\n"
     ]
    }
   ],
   "source": [
    "eval_M1 = evaluate(dataset_name, T, M1)\n",
    "success = eval_M1.wait_to_complete()\n",
    "if not success:\n",
    "    print('Evaluation failed')\n",
    "y_M1 = eval_M1.get_predictions()"
   ]
  },
  {
   "cell_type": "markdown",
   "id": "bff09ffe",
   "metadata": {},
   "source": [
    "## 4. Update model M1 with U (M2) and evaluate on T"
   ]
  },
  {
   "cell_type": "code",
   "execution_count": 16,
   "id": "54d1cd65",
   "metadata": {},
   "outputs": [
    {
     "data": {
      "text/html": [
       "<table><tr>\n",
       "                                                                <td width=\"50%\" style=\"text-align:center;\"><b>stderr</b></td>\n",
       "                                                                <td width=\"50%\" style=\"text-align:center;\"><b>output</b></td>\n",
       "                                                                </tr>\n",
       "                                                                <tr>\n",
       "                                                                <td width=\"50%\" style=\"text-align:left;\"><pre> /Users/thomasveasey/ml-cpp/build/distribution/platform/darwin-x86_64/controller.app/Contents/MacOS/data_frame_analyzer --input /var/folders/xn/wrmsjpr53z9g9pqrrz12p2t80000gn/T/tmp3c4s4_o9 --config /var/folders/xn/wrmsjpr53z9g9pqrrz12p2t80000gn/T/tmpkag2q9ai --output /var/folders/xn/wrmsjpr53z9g9pqrrz12p2t80000gn/T/tmpgv9yii2g --validElasticLicenseKeyConfirmed true --restore /var/folders/xn/wrmsjpr53z9g9pqrrz12p2t80000gn/T/tmpmkxcja9d; if [ $? -eq 0 ]; then echo \"Success\"; else echo \"Failure\";  fi\n",
       "Thomass-MBP-2:incremental_learning thomasveasey$  /Users/thomasveasey/ml-cpp/build/distribution/platform/darwin-x86_64/controller.app/Contents/MacOS/data_frame_analyzer --input /var/folders/xn/wrmsjpr53z9g9pqrrz12p2t80000gn/T/tmp3c4s4_o9 --config /var/folders/xn/wrmsjpr53z9g9pqrrz12p2t80000gn/T/tmpkag2q9ai --output /var/folders/xn/wrmsjpr53z9g9pqrrz12p2t80000gn/T/tmpgv9yii2g --validElasticLicenseKeyConfirmed true --restore /var/folders/xn/wrmsjpr53z9g9pqrrz12p2t80000gn/T/tmpmkxcja9d; if [ $? -eq 0 ]; then echo \"Success\"; else echo \"Failure\";  fi\n",
       "2021-10-01 13:50:18,319596 UTC [40323] DEBUG /Users/thomasveasey/ml-cpp/bin/data_frame_analyzer/Main.cc@152 data_frame_analyzer (64 bit): Version 8.0.0-SNAPSHOT (Build 7eb21303b2f861) Copyright (c) 2021 Elasticsearch BV\n",
       "2021-10-01 13:50:18,324109 UTC [40323] DEBUG /Users/thomasveasey/ml-cpp/lib/seccomp/CSystemCallFilter_MacOSX.cc@107 macOS sandbox initialized\n",
       "2021-10-01 13:55:06,331589 UTC [40323] DEBUG /Users/thomasveasey/ml-cpp/lib/api/CDataFrameAnalyzer.cc@113 Received 136037 rows\n",
       "2021-10-01 14:10:33,208892 UTC [40323] INFO  /Users/thomasveasey/ml-cpp/bin/data_frame_analyzer/Main.cc@260 [{\"name\":\"E_DFTPMEstimatedPeakMemoryUsage\",\"description\":\"The upfront estimate of the peak memory training the predictive model would use\",\"value\":543919940}\n",
       ",{\"name\":\"E_DFTPMPeakMemoryUsage\",\"description\":\"The peak memory training the predictive model used\",\"value\":660859361}\n",
       ",{\"name\":\"E_DFTPMTimeToTrain\",\"description\":\"The time it took to train the predictive model\",\"value\":915712}\n",
       "]\n",
       "2021-10-01 14:10:33,208943 UTC [40323] DEBUG /Users/thomasveasey/ml-cpp/bin/data_frame_analyzer/Main.cc@265 ML data frame analyzer exiting\n",
       "Success\n",
       "Thomass-MBP-2:incremental_learning thomasveasey$</pre></td>\n",
       "                                                                <td width=\"50%\" style=\"text-align:left;\"><pre>,{\"row_results\":{\"checksum\":0,\"results\":{\"ml\":{\"malicious_prediction\":\"1\",\"predi\n",
       ",{\"row_results\":{\"checksum\":0,\"results\":{\"ml\":{\"malicious_prediction\":\"1\",\"predi\n",
       ",{\"row_results\":{\"checksum\":0,\"results\":{\"ml\":{\"malicious_prediction\":\"1\",\"predi\n",
       ",{\"row_results\":{\"checksum\":0,\"results\":{\"ml\":{\"malicious_prediction\":\"1\",\"predi\n",
       ",{\"row_results\":{\"checksum\":0,\"results\":{\"ml\":{\"malicious_prediction\":\"1\",\"predi\n",
       ",{\"row_results\":{\"checksum\":0,\"results\":{\"ml\":{\"malicious_prediction\":\"1\",\"predi\n",
       ",{\"row_results\":{\"checksum\":0,\"results\":{\"ml\":{\"malicious_prediction\":\"1\",\"predi\n",
       ",{\"model_metadata\":{\"total_feature_importance\":[],\"hyperparameters\":[{\"name\":\"re\n",
       ",{\"compressed_data_summarization\":{\"doc_num\":0,\"data_summarization\":\"H4sIAAAAAAA\n",
       "]</pre></td>\n",
       "                                                                </tr>\n",
       "                                                        </table>"
      ]
     },
     "metadata": {},
     "output_type": "display_data"
    },
    {
     "name": "stdout",
     "output_type": "stream",
     "text": [
      "Job succeeded\n"
     ]
    },
    {
     "data": {
      "text/plain": [
       "1219.8928697109222"
      ]
     },
     "execution_count": 16,
     "metadata": {},
     "output_type": "execute_result"
    }
   ],
   "source": [
    "M2 = update(dataset_name, U, M1)\n",
    "M2.wait_to_complete()"
   ]
  },
  {
   "cell_type": "code",
   "execution_count": 26,
   "id": "e05618f2",
   "metadata": {},
   "outputs": [
    {
     "data": {
      "text/html": [
       "<table><tr>\n",
       "                                                                <td width=\"50%\" style=\"text-align:center;\"><b>stderr</b></td>\n",
       "                                                                <td width=\"50%\" style=\"text-align:center;\"><b>output</b></td>\n",
       "                                                                </tr>\n",
       "                                                                <tr>\n",
       "                                                                <td width=\"50%\" style=\"text-align:left;\"><pre> /Users/thomasveasey/ml-cpp/build/distribution/platform/darwin-x86_64/controller.app/Contents/MacOS/data_frame_analyzer --input /var/folders/xn/wrmsjpr53z9g9pqrrz12p2t80000gn/T/tmp8prcsxnr --config /var/folders/xn/wrmsjpr53z9g9pqrrz12p2t80000gn/T/tmpmtcxyog3 --output /var/folders/xn/wrmsjpr53z9g9pqrrz12p2t80000gn/T/tmpokuzgk5e --validElasticLicenseKeyConfirmed true --restore /var/folders/xn/wrmsjpr53z9g9pqrrz12p2t80000gn/T/tmpxhss2lrc; if [ $? -eq 0 ]; then echo \"Success\"; else echo \"Failure\";  fi\n",
       "Thomass-MBP-2:incremental_learning thomasveasey$  /Users/thomasveasey/ml-cpp/build/distribution/platform/darwin-x86_64/controller.app/Contents/MacOS/data_frame_analyzer --input /var/folders/xn/wrmsjpr53z9g9pqrrz12p2t80000gn/T/tmp8prcsxnr --config /var/folders/xn/wrmsjpr53z9g9pqrrz12p2t80000gn/T/tmpmtcxyog3 --output /var/folders/xn/wrmsjpr53z9g9pqrrz12p2t80000gn/T/tmpokuzgk5e --validElasticLicenseKeyConfirmed true --restore /var/folders/xn/wrmsjpr53z9g9pqrrz12p2t80000gn/T/tmpxhss2lrc; if [ $? -eq 0 ]; then echo \"Success\"; else echo \"Failure\";  fi\n",
       "2021-10-01 14:19:54,183408 UTC [41861] DEBUG /Users/thomasveasey/ml-cpp/bin/data_frame_analyzer/Main.cc@152 data_frame_analyzer (64 bit): Version 8.0.0-SNAPSHOT (Build 7eb21303b2f861) Copyright (c) 2021 Elasticsearch BV\n",
       "2021-10-01 14:19:54,188126 UTC [41861] DEBUG /Users/thomasveasey/ml-cpp/lib/seccomp/CSystemCallFilter_MacOSX.cc@107 macOS sandbox initialized\n",
       "2021-10-01 14:23:39,850361 UTC [41861] DEBUG /Users/thomasveasey/ml-cpp/lib/api/CDataFrameAnalyzer.cc@113 Received 13947 rows\n",
       "2021-10-01 14:23:47,320807 UTC [41861] INFO  /Users/thomasveasey/ml-cpp/bin/data_frame_analyzer/Main.cc@260 [{\"name\":\"E_DFTPMEstimatedPeakMemoryUsage\",\"description\":\"The upfront estimate of the peak memory training the predictive model would use\",\"value\":180296303}\n",
       ",{\"name\":\"E_DFTPMPeakMemoryUsage\",\"description\":\"The peak memory training the predictive model used\",\"value\":113607012}\n",
       ",{\"name\":\"E_DFTPMTimeToTrain\",\"description\":\"The time it took to train the predictive model\",\"value\":260}\n",
       "]\n",
       "2021-10-01 14:23:47,320860 UTC [41861] DEBUG /Users/thomasveasey/ml-cpp/bin/data_frame_analyzer/Main.cc@265 ML data frame analyzer exiting\n",
       "Success\n",
       "Thomass-MBP-2:incremental_learning thomasveasey$</pre></td>\n",
       "                                                                <td width=\"50%\" style=\"text-align:left;\"><pre>,{\"row_results\":{\"checksum\":0,\"results\":{\"ml\":{\"malicious_prediction\":\"1\",\"predi\n",
       ",{\"row_results\":{\"checksum\":0,\"results\":{\"ml\":{\"malicious_prediction\":\"1\",\"predi\n",
       ",{\"row_results\":{\"checksum\":0,\"results\":{\"ml\":{\"malicious_prediction\":\"1\",\"predi\n",
       ",{\"row_results\":{\"checksum\":0,\"results\":{\"ml\":{\"malicious_prediction\":\"1\",\"predi\n",
       ",{\"row_results\":{\"checksum\":0,\"results\":{\"ml\":{\"malicious_prediction\":\"1\",\"predi\n",
       ",{\"row_results\":{\"checksum\":0,\"results\":{\"ml\":{\"malicious_prediction\":\"0\",\"predi\n",
       ",{\"row_results\":{\"checksum\":0,\"results\":{\"ml\":{\"malicious_prediction\":\"1\",\"predi\n",
       ",{\"model_metadata\":{\"total_feature_importance\":[],\"hyperparameters\":[],\"train_pr\n",
       ",{\"compressed_data_summarization\":{\"doc_num\":0,\"data_summarization\":\"H4sIAAAAAAA\n",
       "]</pre></td>\n",
       "                                                                </tr>\n",
       "                                                        </table>"
      ]
     },
     "metadata": {},
     "output_type": "display_data"
    },
    {
     "name": "stdout",
     "output_type": "stream",
     "text": [
      "Job succeeded\n"
     ]
    }
   ],
   "source": [
    "eval_M2 = evaluate(dataset_name, T, M2)\n",
    "success = eval_M2.wait_to_complete()\n",
    "if not success:\n",
    "    print('Evaluation failed')\n",
    "y_M2 = eval_M2.get_predictions()"
   ]
  },
  {
   "cell_type": "markdown",
   "id": "d89af90b",
   "metadata": {},
   "source": [
    "## 5. Compare M1 and M2 accuracy on T"
   ]
  },
  {
   "cell_type": "code",
   "execution_count": 45,
   "id": "58d3e8da",
   "metadata": {},
   "outputs": [
    {
     "name": "stdout",
     "output_type": "stream",
     "text": [
      "M1 accuracy: 0.0\n",
      "M2 accuracy: 0.9680232558139535\n"
     ]
    }
   ],
   "source": [
    "y_true = pd.array(T[M1.dependent_variable].astype(str))\n",
    "\n",
    "M1_accuracy = accuracy_score(y_true, y_M1)\n",
    "M2_accuracy = accuracy_score(y_true, y_M2)\n",
    "\n",
    "print(\"M1 accuracy:\", M1_accuracy)\n",
    "print(\"M2 accuracy:\", M2_accuracy)"
   ]
  }
 ],
 "metadata": {
  "interpreter": {
   "hash": "bbee7842ce8ba476870a006d5d5b68f11cea175afb0fea017b7f81beccf88892"
  },
  "kernelspec": {
   "display_name": "Python 3 (ipykernel)",
   "language": "python",
   "name": "python3"
  },
  "language_info": {
   "codemirror_mode": {
    "name": "ipython",
    "version": 3
   },
   "file_extension": ".py",
   "mimetype": "text/x-python",
   "name": "python",
   "nbconvert_exporter": "python",
   "pygments_lexer": "ipython3",
   "version": "3.7.9"
  }
 },
 "nbformat": 4,
 "nbformat_minor": 5
}
