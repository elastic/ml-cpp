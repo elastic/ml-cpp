{
 "cells": [
  {
   "cell_type": "raw",
   "id": "c800b9a3",
   "metadata": {},
   "source": [
    "# Copyright Elasticsearch B.V. and/or licensed to Elasticsearch B.V. under one\n",
    "# or more contributor license agreements. Licensed under the Elastic License;\n",
    "# you may not use this file except in compliance with the Elastic License."
   ]
  },
  {
   "cell_type": "markdown",
   "id": "fb46c944",
   "metadata": {},
   "source": [
    "# Incremental Learning 1: Two-Step Incremental Learning\n",
    "\n",
    "1. Train model (M1) on the complete dataset (D1).\n",
    "2. Split the complete dataset (D1) into the base dataset (D2) and the update dataset (D3).\n",
    "3. Train a new model (M2) on D2 and update it using D3.\n",
    "4. Compare M1 and M2\n",
    "    1. Evaluation M1 and M2 on the complete dataset D1.\n",
    "    2. TODO: Compare feature importance vectors for individual data points from M1 and M2 (should be very similar)\n"
   ]
  },
  {
   "cell_type": "code",
   "execution_count": 1,
   "id": "2eccb861",
   "metadata": {},
   "outputs": [],
   "source": [
    "%load_ext autoreload\n",
    "%autoreload 2\n",
    "%config Completer.use_jedi = False\n",
    "import pandas as pd\n",
    "import numpy as np\n",
    "from sklearn.model_selection import train_test_split\n",
    "\n",
    "import seaborn as sns\n",
    "import matplotlib.pyplot as plt\n",
    "from sklearn.metrics import max_error, mean_absolute_error, mean_squared_error\n",
    "\n",
    "from incremental_learning.misc import train, summarize, update, evaluate\n",
    "from incremental_learning.config import datasets_dir, root_dir"
   ]
  },
  {
   "cell_type": "markdown",
   "id": "d14e34d8",
   "metadata": {},
   "source": [
    "## 1. Train model (M1) on the complete dataset (D1)"
   ]
  },
  {
   "cell_type": "code",
   "execution_count": 2,
   "id": "1d56bf2d",
   "metadata": {},
   "outputs": [
    {
     "name": "stdout",
     "output_type": "stream",
     "text": [
      "session: job_kotbi\tcommand:\n",
      "/home/valeriy/Documents/workspace/valeriy42/ml-cpp/build/distribution/platform/linux-x86_64/bin/data_frame_analyzer --input /tmp/tmpararuyer --config /tmp/tmpha2frn1_ --output /tmp/tmpkft_ma56 --persist /tmp/tmpir83vcn1; if [ $? -eq 0 ]; then echo \"Success\"; else echo \"Failure\";  fi;\n"
     ]
    }
   ],
   "source": [
    "dataset_name = 'ccpp'\n",
    "D1 = pd.read_csv(datasets_dir / '{}.csv'.format(dataset_name))\n",
    "D1.drop_duplicates(inplace=True)\n",
    "\n",
    "## sample 1000 rows just for test purposes!\n",
    "D1 = D1.sample(100)\n",
    "\n",
    "job1 = train(dataset_name, D1)"
   ]
  },
  {
   "cell_type": "code",
   "execution_count": 3,
   "id": "6a9033ab",
   "metadata": {
    "scrolled": false
   },
   "outputs": [
    {
     "data": {
      "text/html": [
       "<table><tr>\n",
       "                                                            <td width=\"50%\" style=\"text-align:center;\"><b>stderr</b></td>\n",
       "                                                            <td width=\"50%\" style=\"text-align:center;\"><b>output</b></td>\n",
       "                                                            </tr>\n",
       "                                                            <tr>\n",
       "                                                            <td width=\"50%\" style=\"text-align:left;\"><pre> /home/valeriy/Documents/workspace/valeriy42/ml-cpp/build/distribution/platform/linux-x86_64/bin/data_frame_analyzer --input /tmp/tmpararuyer --config /tmp/tmpha2frn1_ --output /tmp/tmpkft_ma56 --persist /tmp/tmpir83vcn1; if [ $? -eq 0 ]; then echo \"Success\"; else echo \"Failure\";  fi\n",
       "(env) ✔ ~/Documents/workspace/valeriy42/ml-cpp/jupyter/notebooks/incremental_learning [python-tests|✚ 3…1⚑ 6]\n",
       "13:20 $  /home/valeriy/Documents/workspace/valeriy42/ml-cpp/build/distribution/platform/linux-x86_64/bin/data_frame_analyzer --input /tmp/tmpararuyer --config /tmp/tmpha2frn1_ --output /tmp/tmpkft_ma56 --persist /tmp/tmpir83vcn1; if [ $? -eq 0 ]; then echo \"Success\"; else echo \"Failure\";  fi\n",
       "2021-06-30 11:20:36,570727 UTC [20984] DEBUG Main.cc@145 data_frame_analyzer (64 bit): Version based on 8.0.0-SNAPSHOT (Build DEVELOPMENT BUILD by valeriy) Copyright (c) 2021 Elasticsearch BV\n",
       "2021-06-30 11:20:36,570894 UTC [20984] DEBUG CProcessPriority_Linux.cc@33 Successfully increased OOM killer adjustment via /proc/self/oom_score_adj\n",
       "2021-06-30 11:20:36,570934 UTC [20984] DEBUG CSystemCallFilter_Linux.cc@128 Seccomp BPF filters available\n",
       "2021-06-30 11:20:36,574516 UTC [20984] DEBUG CSystemCallFilter_Linux.cc@154 Seccomp BPF installed\n",
       "2021-06-30 11:20:36,576074 UTC [20984] DEBUG CDataFrameAnalyzer.cc@102 Received 100 rows\n",
       "2021-06-30 11:21:06,762045 UTC [20984] INFO  CBoostedTreeImpl.cc@260 Exiting hyperparameter optimisation loop early\n",
       "2021-06-30 11:21:07,318350 UTC [20984] INFO  Main.cc@248 [{\"name\":\"E_DFTPMEstimatedPeakMemoryUsage\",\"description\":\"The upfront estimate of the peak memory training the predictive model would use\",\"value\":4189860}\n",
       ",{\"name\":\"E_DFTPMPeakMemoryUsage\",\"description\":\"The peak memory training the predictive model used\",\"value\":400087}\n",
       ",{\"name\":\"E_DFTPMTimeToTrain\",\"description\":\"The time it took to train the predictive model\",\"value\":30540}\n",
       ",{\"name\":\"E_DFTPMTrainedForestNumberTrees\",\"description\":\"The total number of trees in the trained forest\",\"value\":64}\n",
       "]\n",
       "2021-06-30 11:21:07,318480 UTC [20984] DEBUG Main.cc@253 ML data frame analyzer exiting\n",
       "Success\n",
       "(env) ✔ ~/Documents/workspace/valeriy42/ml-cpp/jupyter/notebooks/incremental_learning [python-tests|✚ 3…1⚑ 6]\n",
       "13:21 $</pre></td>\n",
       "                                                            <td width=\"50%\" style=\"text-align:left;\"><pre>,{\"row_results\":{\"checksum\":0,\"results\":{\"ml\":{\"PE_prediction\":441.5649108886719\n",
       ",{\"row_results\":{\"checksum\":0,\"results\":{\"ml\":{\"PE_prediction\":440.3795166015625\n",
       ",{\"row_results\":{\"checksum\":0,\"results\":{\"ml\":{\"PE_prediction\":444.5744323730469\n",
       ",{\"row_results\":{\"checksum\":0,\"results\":{\"ml\":{\"PE_prediction\":467.915283203125,\n",
       ",{\"row_results\":{\"checksum\":0,\"results\":{\"ml\":{\"PE_prediction\":465.50439453125,\"\n",
       ",{\"row_results\":{\"checksum\":0,\"results\":{\"ml\":{\"PE_prediction\":475.690185546875,\n",
       ",{\"row_results\":{\"checksum\":0,\"results\":{\"ml\":{\"PE_prediction\":435.4629211425781\n",
       ",{\"model_metadata\":{\"total_feature_importance\":[],\"hyperparameters\":[{\"name\":\"do\n",
       ",{\"compressed_data_summarization\":{\"doc_num\":0,\"data_summarization\":\"H4sIAAAAAAA\n",
       "]</pre></td>\n",
       "                                                            </tr>\n",
       "                                                    </table>"
      ]
     },
     "metadata": {},
     "output_type": "display_data"
    },
    {
     "name": "stdout",
     "output_type": "stream",
     "text": [
      " /home/valeriy/Documents/workspace/valeriy42/ml-cpp/build/distribution/platform/linux-x86_64/bin/data_frame_analyzer --input /tmp/tmpararuyer --config /tmp/tmpha2frn1_ --output /tmp/tmpkft_ma56 --persist /tmp/tmpir83vcn1; if [ $? -eq 0 ]; then echo \"Success\"; else echo \"Failure\";  fi\n",
      "(env) ✔ ~/Documents/workspace/valeriy42/ml-cpp/jupyter/notebooks/incremental_learning [python-tests|✚ 3…1⚑ 6]\n",
      "13:20 $  /home/valeriy/Documents/workspace/valeriy42/ml-cpp/build/distribution/platform/linux-x86_64/bin/data_frame_analyzer --input /tmp/tmpararuyer --config /tmp/tmpha2frn1_ --output /tmp/tmpkft_ma56 --persist /tmp/tmpir83vcn1; if [ $? -eq 0 ]; then echo \"Success\"; else echo \"Failure\";  fi\n",
      "2021-06-30 11:20:36,570727 UTC [20984] DEBUG Main.cc@145 data_frame_analyzer (64 bit): Version based on 8.0.0-SNAPSHOT (Build DEVELOPMENT BUILD by valeriy) Copyright (c) 2021 Elasticsearch BV\n",
      "2021-06-30 11:20:36,570894 UTC [20984] DEBUG CProcessPriority_Linux.cc@33 Successfully increased OOM killer adjustment via /proc/self/oom_score_adj\n",
      "2021-06-30 11:20:36,570934 UTC [20984] DEBUG CSystemCallFilter_Linux.cc@128 Seccomp BPF filters available\n",
      "2021-06-30 11:20:36,574516 UTC [20984] DEBUG CSystemCallFilter_Linux.cc@154 Seccomp BPF installed\n",
      "2021-06-30 11:20:36,576074 UTC [20984] DEBUG CDataFrameAnalyzer.cc@102 Received 100 rows\n",
      "2021-06-30 11:21:06,762045 UTC [20984] INFO  CBoostedTreeImpl.cc@260 Exiting hyperparameter optimisation loop early\n",
      "2021-06-30 11:21:07,318350 UTC [20984] INFO  Main.cc@248 [{\"name\":\"E_DFTPMEstimatedPeakMemoryUsage\",\"description\":\"The upfront estimate of the peak memory training the predictive model would use\",\"value\":4189860}\n",
      ",{\"name\":\"E_DFTPMPeakMemoryUsage\",\"description\":\"The peak memory training the predictive model used\",\"value\":400087}\n",
      ",{\"name\":\"E_DFTPMTimeToTrain\",\"description\":\"The time it took to train the predictive model\",\"value\":30540}\n",
      ",{\"name\":\"E_DFTPMTrainedForestNumberTrees\",\"description\":\"The total number of trees in the trained forest\",\"value\":64}\n",
      "]\n",
      "2021-06-30 11:21:07,318480 UTC [20984] DEBUG Main.cc@253 ML data frame analyzer exiting\n",
      "Success\n",
      "(env) ✔ ~/Documents/workspace/valeriy42/ml-cpp/jupyter/notebooks/incremental_learning [python-tests|✚ 3…1⚑ 6]\n",
      "13:21 $\n",
      "Job succeeded\n"
     ]
    },
    {
     "data": {
      "text/plain": [
       "True"
      ]
     },
     "execution_count": 3,
     "metadata": {},
     "output_type": "execute_result"
    }
   ],
   "source": [
    "job1.wait_to_complete()"
   ]
  },
  {
   "cell_type": "markdown",
   "id": "587a5cad",
   "metadata": {},
   "source": [
    "## 2. Split the complete dataset (D1) into the base dataset (D2) and the update dataset (D3)."
   ]
  },
  {
   "cell_type": "code",
   "execution_count": 4,
   "id": "ea3561f3",
   "metadata": {},
   "outputs": [],
   "source": [
    "D2, D3 = train_test_split(D1, test_size=0.2)"
   ]
  },
  {
   "cell_type": "markdown",
   "id": "198549b0",
   "metadata": {},
   "source": [
    "## 3. Train a new model (M2) on D2 and update it using D3."
   ]
  },
  {
   "cell_type": "code",
   "execution_count": 5,
   "id": "87be02ec",
   "metadata": {},
   "outputs": [
    {
     "name": "stdout",
     "output_type": "stream",
     "text": [
      "session: job_sglmf\tcommand:\n",
      "/home/valeriy/Documents/workspace/valeriy42/ml-cpp/build/distribution/platform/linux-x86_64/bin/data_frame_analyzer --input /tmp/tmprtyvrvwn --config /tmp/tmpzpp0v0da --output /tmp/tmp7224rcfl --persist /tmp/tmpju9y4ln6; if [ $? -eq 0 ]; then echo \"Success\"; else echo \"Failure\";  fi;\n"
     ]
    }
   ],
   "source": [
    "job2 = train(dataset_name, D2)"
   ]
  },
  {
   "cell_type": "code",
   "execution_count": 6,
   "id": "1f504681",
   "metadata": {},
   "outputs": [
    {
     "data": {
      "text/html": [
       "<table><tr>\n",
       "                                                            <td width=\"50%\" style=\"text-align:center;\"><b>stderr</b></td>\n",
       "                                                            <td width=\"50%\" style=\"text-align:center;\"><b>output</b></td>\n",
       "                                                            </tr>\n",
       "                                                            <tr>\n",
       "                                                            <td width=\"50%\" style=\"text-align:left;\"><pre> /home/valeriy/Documents/workspace/valeriy42/ml-cpp/build/distribution/platform/linux-x86_64/bin/data_frame_analyzer --input /tmp/tmprtyvrvwn --config /tmp/tmpzpp0v0da --output /tmp/tmp7224rcfl --persist /tmp/tmpju9y4ln6; if [ $? -eq 0 ]; then echo \"Success\"; else echo \"Failure\";  fi\n",
       "(env) ✔ ~/Documents/workspace/valeriy42/ml-cpp/jupyter/notebooks/incremental_learning [python-tests|✚ 3…1⚑ 6]\n",
       "13:21 $  /home/valeriy/Documents/workspace/valeriy42/ml-cpp/build/distribution/platform/linux-x86_64/bin/data_frame_analyzer --input /tmp/tmprtyvrvwn --config /tmp/tmpzpp0v0da --output /tmp/tmp7224rcfl --persist /tmp/tmpju9y4ln6; if [ $? -eq 0 ]; then echo \"Success\"; else echo \"Failure\";  fi\n",
       "2021-06-30 11:21:12,711768 UTC [24445] DEBUG Main.cc@145 data_frame_analyzer (64 bit): Version based on 8.0.0-SNAPSHOT (Build DEVELOPMENT BUILD by valeriy) Copyright (c) 2021 Elasticsearch BV\n",
       "2021-06-30 11:21:12,711829 UTC [24445] DEBUG CProcessPriority_Linux.cc@33 Successfully increased OOM killer adjustment via /proc/self/oom_score_adj\n",
       "2021-06-30 11:21:12,711840 UTC [24445] DEBUG CSystemCallFilter_Linux.cc@128 Seccomp BPF filters available\n",
       "2021-06-30 11:21:12,712897 UTC [24445] DEBUG CSystemCallFilter_Linux.cc@154 Seccomp BPF installed\n",
       "2021-06-30 11:21:12,715445 UTC [24445] DEBUG CDataFrameAnalyzer.cc@102 Received 80 rows\n",
       "2021-06-30 11:21:37,346464 UTC [24445] INFO  CBoostedTreeImpl.cc@260 Exiting hyperparameter optimisation loop early\n",
       "2021-06-30 11:21:38,363548 UTC [24445] INFO  Main.cc@248 [{\"name\":\"E_DFTPMEstimatedPeakMemoryUsage\",\"description\":\"The upfront estimate of the peak memory training the predictive model would use\",\"value\":3496286}\n",
       ",{\"name\":\"E_DFTPMPeakMemoryUsage\",\"description\":\"The peak memory training the predictive model used\",\"value\":281909}\n",
       ",{\"name\":\"E_DFTPMTimeToTrain\",\"description\":\"The time it took to train the predictive model\",\"value\":24980}\n",
       ",{\"name\":\"E_DFTPMTrainedForestNumberTrees\",\"description\":\"The total number of trees in the trained forest\",\"value\":127}\n",
       "]\n",
       "2021-06-30 11:21:38,363670 UTC [24445] DEBUG Main.cc@253 ML data frame analyzer exiting\n",
       "Success\n",
       "(env) ✔ ~/Documents/workspace/valeriy42/ml-cpp/jupyter/notebooks/incremental_learning [python-tests|✚ 3…1⚑ 6]\n",
       "13:21 $</pre></td>\n",
       "                                                            <td width=\"50%\" style=\"text-align:left;\"><pre>,{\"row_results\":{\"checksum\":0,\"results\":{\"ml\":{\"PE_prediction\":436.8063354492187\n",
       ",{\"row_results\":{\"checksum\":0,\"results\":{\"ml\":{\"PE_prediction\":469.8267517089844\n",
       ",{\"row_results\":{\"checksum\":0,\"results\":{\"ml\":{\"PE_prediction\":478.8609313964844\n",
       ",{\"row_results\":{\"checksum\":0,\"results\":{\"ml\":{\"PE_prediction\":444.1383361816406\n",
       ",{\"row_results\":{\"checksum\":0,\"results\":{\"ml\":{\"PE_prediction\":439.8424377441406\n",
       ",{\"row_results\":{\"checksum\":0,\"results\":{\"ml\":{\"PE_prediction\":448.0448913574219\n",
       ",{\"row_results\":{\"checksum\":0,\"results\":{\"ml\":{\"PE_prediction\":441.6157531738281\n",
       ",{\"model_metadata\":{\"total_feature_importance\":[],\"hyperparameters\":[{\"name\":\"do\n",
       ",{\"compressed_data_summarization\":{\"doc_num\":0,\"data_summarization\":\"H4sIAAAAAAA\n",
       "]</pre></td>\n",
       "                                                            </tr>\n",
       "                                                    </table>"
      ]
     },
     "metadata": {},
     "output_type": "display_data"
    },
    {
     "name": "stdout",
     "output_type": "stream",
     "text": [
      " /home/valeriy/Documents/workspace/valeriy42/ml-cpp/build/distribution/platform/linux-x86_64/bin/data_frame_analyzer --input /tmp/tmprtyvrvwn --config /tmp/tmpzpp0v0da --output /tmp/tmp7224rcfl --persist /tmp/tmpju9y4ln6; if [ $? -eq 0 ]; then echo \"Success\"; else echo \"Failure\";  fi\n",
      "(env) ✔ ~/Documents/workspace/valeriy42/ml-cpp/jupyter/notebooks/incremental_learning [python-tests|✚ 3…1⚑ 6]\n",
      "13:21 $  /home/valeriy/Documents/workspace/valeriy42/ml-cpp/build/distribution/platform/linux-x86_64/bin/data_frame_analyzer --input /tmp/tmprtyvrvwn --config /tmp/tmpzpp0v0da --output /tmp/tmp7224rcfl --persist /tmp/tmpju9y4ln6; if [ $? -eq 0 ]; then echo \"Success\"; else echo \"Failure\";  fi\n",
      "2021-06-30 11:21:12,711768 UTC [24445] DEBUG Main.cc@145 data_frame_analyzer (64 bit): Version based on 8.0.0-SNAPSHOT (Build DEVELOPMENT BUILD by valeriy) Copyright (c) 2021 Elasticsearch BV\n",
      "2021-06-30 11:21:12,711829 UTC [24445] DEBUG CProcessPriority_Linux.cc@33 Successfully increased OOM killer adjustment via /proc/self/oom_score_adj\n",
      "2021-06-30 11:21:12,711840 UTC [24445] DEBUG CSystemCallFilter_Linux.cc@128 Seccomp BPF filters available\n",
      "2021-06-30 11:21:12,712897 UTC [24445] DEBUG CSystemCallFilter_Linux.cc@154 Seccomp BPF installed\n",
      "2021-06-30 11:21:12,715445 UTC [24445] DEBUG CDataFrameAnalyzer.cc@102 Received 80 rows\n",
      "2021-06-30 11:21:37,346464 UTC [24445] INFO  CBoostedTreeImpl.cc@260 Exiting hyperparameter optimisation loop early\n",
      "2021-06-30 11:21:38,363548 UTC [24445] INFO  Main.cc@248 [{\"name\":\"E_DFTPMEstimatedPeakMemoryUsage\",\"description\":\"The upfront estimate of the peak memory training the predictive model would use\",\"value\":3496286}\n",
      ",{\"name\":\"E_DFTPMPeakMemoryUsage\",\"description\":\"The peak memory training the predictive model used\",\"value\":281909}\n",
      ",{\"name\":\"E_DFTPMTimeToTrain\",\"description\":\"The time it took to train the predictive model\",\"value\":24980}\n",
      ",{\"name\":\"E_DFTPMTrainedForestNumberTrees\",\"description\":\"The total number of trees in the trained forest\",\"value\":127}\n",
      "]\n",
      "2021-06-30 11:21:38,363670 UTC [24445] DEBUG Main.cc@253 ML data frame analyzer exiting\n",
      "Success\n",
      "(env) ✔ ~/Documents/workspace/valeriy42/ml-cpp/jupyter/notebooks/incremental_learning [python-tests|✚ 3…1⚑ 6]\n",
      "13:21 $\n",
      "Job succeeded\n"
     ]
    },
    {
     "data": {
      "text/plain": [
       "True"
      ]
     },
     "execution_count": 6,
     "metadata": {},
     "output_type": "execute_result"
    }
   ],
   "source": [
    "job2.wait_to_complete()"
   ]
  },
  {
   "cell_type": "code",
   "execution_count": 7,
   "id": "dc60b19a",
   "metadata": {},
   "outputs": [
    {
     "data": {
      "text/html": [
       "<table><tr>\n",
       "                                                            <td width=\"50%\" style=\"text-align:center;\"><b>stderr</b></td>\n",
       "                                                            <td width=\"50%\" style=\"text-align:center;\"><b>output</b></td>\n",
       "                                                            </tr>\n",
       "                                                            <tr>\n",
       "                                                            <td width=\"50%\" style=\"text-align:left;\"><pre> /home/valeriy/Documents/workspace/valeriy42/ml-cpp/build/distribution/platform/linux-x86_64/bin/data_frame_analyzer --input /tmp/tmpuvkru86s --config /tmp/tmpaaj_2jv0 --output /tmp/tmp9ze5jjdp --restore /tmp/tmp3cvi4gjv; if [ $? -eq 0 ]; then echo \"Success\"; else echo \"Failure\";  fi\n",
       "(env) ✔ ~/Documents/workspace/valeriy42/ml-cpp/jupyter/notebooks/incremental_learning [python-tests|✚ 3…1⚑ 6]\n",
       "13:21 $  /home/valeriy/Documents/workspace/valeriy42/ml-cpp/build/distribution/platform/linux-x86_64/bin/data_frame_analyzer --input /tmp/tmpuvkru86s --config /tmp/tmpaaj_2jv0 --output /tmp/tmp9ze5jjdp --restore /tmp/tmp3cvi4gjv; if [ $? -eq 0 ]; then echo \"Success\"; else echo \"Failure\";  fi\n",
       "2021-06-30 11:21:43,622556 UTC [27421] DEBUG Main.cc@145 data_frame_analyzer (64 bit): Version based on 8.0.0-SNAPSHOT (Build DEVELOPMENT BUILD by valeriy) Copyright (c) 2021 Elasticsearch BV\n",
       "2021-06-30 11:21:43,622780 UTC [27421] DEBUG CProcessPriority_Linux.cc@33 Successfully increased OOM killer adjustment via /proc/self/oom_score_adj\n",
       "2021-06-30 11:21:43,622848 UTC [27421] DEBUG CSystemCallFilter_Linux.cc@128 Seccomp BPF filters available\n",
       "2021-06-30 11:21:43,623750 UTC [27421] DEBUG CSystemCallFilter_Linux.cc@154 Seccomp BPF installed\n",
       "2021-06-30 11:21:43,636307 UTC [27421] DEBUG CDataFrameAnalyzer.cc@102 Received 28 rows\n",
       "2021-06-30 11:21:43,681464 UTC [27421] INFO  Main.cc@248 [{\"name\":\"E_DFTPMEstimatedPeakMemoryUsage\",\"description\":\"The upfront estimate of the peak memory training the predictive model would use\",\"value\":1205103}\n",
       ",{\"name\":\"E_DFTPMPeakMemoryUsage\",\"description\":\"The peak memory training the predictive model used\",\"value\":72563}\n",
       ",{\"name\":\"E_DFTPMTimeToTrain\",\"description\":\"The time it took to train the predictive model\",\"value\":16}\n",
       "]\n",
       "2021-06-30 11:21:43,681532 UTC [27421] DEBUG Main.cc@253 ML data frame analyzer exiting\n",
       "Success\n",
       "(env) ✔ ~/Documents/workspace/valeriy42/ml-cpp/jupyter/notebooks/incremental_learning [python-tests|✚ 3…1⚑ 6]\n",
       "13:21 $</pre></td>\n",
       "                                                            <td width=\"50%\" style=\"text-align:left;\"><pre>,{\"row_results\":{\"checksum\":0,\"results\":{\"ml\":{\"PE_prediction\":433.8936462402344\n",
       ",{\"row_results\":{\"checksum\":0,\"results\":{\"ml\":{\"PE_prediction\":457.052490234375,\n",
       ",{\"row_results\":{\"checksum\":0,\"results\":{\"ml\":{\"PE_prediction\":449.6717834472656\n",
       ",{\"row_results\":{\"checksum\":0,\"results\":{\"ml\":{\"PE_prediction\":443.0817565917969\n",
       ",{\"row_results\":{\"checksum\":0,\"results\":{\"ml\":{\"PE_prediction\":469.8158264160156\n",
       ",{\"row_results\":{\"checksum\":0,\"results\":{\"ml\":{\"PE_prediction\":461.143310546875,\n",
       ",{\"row_results\":{\"checksum\":0,\"results\":{\"ml\":{\"PE_prediction\":431.4468383789062\n",
       ",{\"model_metadata\":{\"total_feature_importance\":[],\"hyperparameters\":[{\"name\":\"do\n",
       ",{\"compressed_data_summarization\":{\"doc_num\":0,\"data_summarization\":\"H4sIAAAAAAA\n",
       "]</pre></td>\n",
       "                                                            </tr>\n",
       "                                                    </table>"
      ]
     },
     "metadata": {},
     "output_type": "display_data"
    },
    {
     "name": "stdout",
     "output_type": "stream",
     "text": [
      " /home/valeriy/Documents/workspace/valeriy42/ml-cpp/build/distribution/platform/linux-x86_64/bin/data_frame_analyzer --input /tmp/tmpuvkru86s --config /tmp/tmpaaj_2jv0 --output /tmp/tmp9ze5jjdp --restore /tmp/tmp3cvi4gjv; if [ $? -eq 0 ]; then echo \"Success\"; else echo \"Failure\";  fi\n",
      "(env) ✔ ~/Documents/workspace/valeriy42/ml-cpp/jupyter/notebooks/incremental_learning [python-tests|✚ 3…1⚑ 6]\n",
      "13:21 $  /home/valeriy/Documents/workspace/valeriy42/ml-cpp/build/distribution/platform/linux-x86_64/bin/data_frame_analyzer --input /tmp/tmpuvkru86s --config /tmp/tmpaaj_2jv0 --output /tmp/tmp9ze5jjdp --restore /tmp/tmp3cvi4gjv; if [ $? -eq 0 ]; then echo \"Success\"; else echo \"Failure\";  fi\n",
      "2021-06-30 11:21:43,622556 UTC [27421] DEBUG Main.cc@145 data_frame_analyzer (64 bit): Version based on 8.0.0-SNAPSHOT (Build DEVELOPMENT BUILD by valeriy) Copyright (c) 2021 Elasticsearch BV\n",
      "2021-06-30 11:21:43,622780 UTC [27421] DEBUG CProcessPriority_Linux.cc@33 Successfully increased OOM killer adjustment via /proc/self/oom_score_adj\n",
      "2021-06-30 11:21:43,622848 UTC [27421] DEBUG CSystemCallFilter_Linux.cc@128 Seccomp BPF filters available\n",
      "2021-06-30 11:21:43,623750 UTC [27421] DEBUG CSystemCallFilter_Linux.cc@154 Seccomp BPF installed\n",
      "2021-06-30 11:21:43,636307 UTC [27421] DEBUG CDataFrameAnalyzer.cc@102 Received 28 rows\n",
      "2021-06-30 11:21:43,681464 UTC [27421] INFO  Main.cc@248 [{\"name\":\"E_DFTPMEstimatedPeakMemoryUsage\",\"description\":\"The upfront estimate of the peak memory training the predictive model would use\",\"value\":1205103}\n",
      ",{\"name\":\"E_DFTPMPeakMemoryUsage\",\"description\":\"The peak memory training the predictive model used\",\"value\":72563}\n",
      ",{\"name\":\"E_DFTPMTimeToTrain\",\"description\":\"The time it took to train the predictive model\",\"value\":16}\n",
      "]\n",
      "2021-06-30 11:21:43,681532 UTC [27421] DEBUG Main.cc@253 ML data frame analyzer exiting\n",
      "Success\n",
      "(env) ✔ ~/Documents/workspace/valeriy42/ml-cpp/jupyter/notebooks/incremental_learning [python-tests|✚ 3…1⚑ 6]\n",
      "13:21 $\n",
      "Job succeeded\n"
     ]
    },
    {
     "data": {
      "text/plain": [
       "True"
      ]
     },
     "execution_count": 7,
     "metadata": {},
     "output_type": "execute_result"
    }
   ],
   "source": [
    "job3 = update(dataset_name, D3, job2)\n",
    "job3.wait_to_complete()"
   ]
  },
  {
   "cell_type": "markdown",
   "id": "6d6c5fec",
   "metadata": {},
   "source": [
    "## 4. A. Compare M1 and M2 on D1"
   ]
  },
  {
   "cell_type": "code",
   "execution_count": 7,
   "id": "185a8705",
   "metadata": {},
   "outputs": [
    {
     "data": {
      "text/html": [
       "<table><tr>\n",
       "                                                            <td width=\"50%\" style=\"text-align:center;\"><b>stderr</b></td>\n",
       "                                                            <td width=\"50%\" style=\"text-align:center;\"><b>output</b></td>\n",
       "                                                            </tr>\n",
       "                                                            <tr>\n",
       "                                                            <td width=\"50%\" style=\"text-align:left;\"><pre> /home/valeriy/Documents/workspace/valeriy42/ml-cpp/build/distribution/platform/linux-x86_64/bin/data_frame_analyzer --input /tmp/tmpb6r09iv4 --config /tmp/tmp7qr5e_co --output /tmp/tmp90gtakrf --restore /tmp/tmpa4d1xn7u; if [ $? -eq 0 ]; then echo \"Success\"; else echo \"Failure\";  fi\n",
       "(env) ✔ ~/Documents/workspace/valeriy42/ml-cpp/jupyter/notebooks/incremental_learning [python-tests|✚ 3…1⚑ 6]\n",
       "11:24 $  /home/valeriy/Documents/workspace/valeriy42/ml-cpp/build/distribution/platform/linux-x86_64/bin/data_frame_analyzer --input /tmp/tmpb6r09iv4 --config /tmp/tmp7qr5e_co --output /tmp/tmp90gtakrf --restore /tmp/tmpa4d1xn7u; if [ $? -eq 0 ]; then echo \"Success\"; else echo \"Failure\";  fi\n",
       "2021-06-30 09:24:22,141137 UTC [3034] DEBUG Main.cc@145 data_frame_analyzer (64 bit): Version based on 8.0.0-SNAPSHOT (Build DEVELOPMENT BUILD by valeriy) Copyright (c) 2021 Elasticsearch BV\n",
       "2021-06-30 09:24:22,141186 UTC [3034] DEBUG CProcessPriority_Linux.cc@33 Successfully increased OOM killer adjustment via /proc/self/oom_score_adj\n",
       "2021-06-30 09:24:22,141197 UTC [3034] DEBUG CSystemCallFilter_Linux.cc@128 Seccomp BPF filters available\n",
       "2021-06-30 09:24:22,141616 UTC [3034] DEBUG CSystemCallFilter_Linux.cc@154 Seccomp BPF installed\n",
       "2021-06-30 09:24:22,151253 UTC [3034] DEBUG CDataFrameAnalyzer.cc@102 Received 103 rows\n",
       "2021-06-30 09:24:22,175340 UTC [3034] INFO  Main.cc@248 [{\"name\":\"E_DFTPMEstimatedPeakMemoryUsage\",\"description\":\"The upfront estimate of the peak memory training the predictive model would use\",\"value\":4273143}\n",
       ",{\"name\":\"E_DFTPMPeakMemoryUsage\",\"description\":\"The peak memory training the predictive model used\",\"value\":80958}\n",
       ",{\"name\":\"E_DFTPMTimeToTrain\",\"description\":\"The time it took to train the predictive model\",\"value\":8}\n",
       "]\n",
       "2021-06-30 09:24:22,175375 UTC [3034] DEBUG Main.cc@253 ML data frame analyzer exiting\n",
       "Success\n",
       "(env) ✔ ~/Documents/workspace/valeriy42/ml-cpp/jupyter/notebooks/incremental_learning [python-tests|✚ 3…1⚑ 6]\n",
       "11:24 $</pre></td>\n",
       "                                                            <td width=\"50%\" style=\"text-align:left;\"><pre>,{\"row_results\":{\"checksum\":0,\"results\":{\"ml\":{\"PE_prediction\":464.59326171875,\"\n",
       ",{\"row_results\":{\"checksum\":0,\"results\":{\"ml\":{\"PE_prediction\":438.0891418457031\n",
       ",{\"row_results\":{\"checksum\":0,\"results\":{\"ml\":{\"PE_prediction\":465.5749816894531\n",
       ",{\"row_results\":{\"checksum\":0,\"results\":{\"ml\":{\"PE_prediction\":434.2337341308594\n",
       ",{\"row_results\":{\"checksum\":0,\"results\":{\"ml\":{\"PE_prediction\":445.0762939453125\n",
       ",{\"row_results\":{\"checksum\":0,\"results\":{\"ml\":{\"PE_prediction\":482.8708190917969\n",
       ",{\"row_results\":{\"checksum\":0,\"results\":{\"ml\":{\"PE_prediction\":439.6938171386719\n",
       ",{\"model_metadata\":{\"total_feature_importance\":[],\"hyperparameters\":[],\"data_sum\n",
       ",{\"compressed_data_summarization\":{\"doc_num\":0,\"data_summarization\":\"H4sIAAAAAAA\n",
       "]</pre></td>\n",
       "                                                            </tr>\n",
       "                                                    </table>"
      ]
     },
     "metadata": {},
     "output_type": "display_data"
    },
    {
     "name": "stdout",
     "output_type": "stream",
     "text": [
      " /home/valeriy/Documents/workspace/valeriy42/ml-cpp/build/distribution/platform/linux-x86_64/bin/data_frame_analyzer --input /tmp/tmpb6r09iv4 --config /tmp/tmp7qr5e_co --output /tmp/tmp90gtakrf --restore /tmp/tmpa4d1xn7u; if [ $? -eq 0 ]; then echo \"Success\"; else echo \"Failure\";  fi\n",
      "(env) ✔ ~/Documents/workspace/valeriy42/ml-cpp/jupyter/notebooks/incremental_learning [python-tests|✚ 3…1⚑ 6]\n",
      "11:24 $  /home/valeriy/Documents/workspace/valeriy42/ml-cpp/build/distribution/platform/linux-x86_64/bin/data_frame_analyzer --input /tmp/tmpb6r09iv4 --config /tmp/tmp7qr5e_co --output /tmp/tmp90gtakrf --restore /tmp/tmpa4d1xn7u; if [ $? -eq 0 ]; then echo \"Success\"; else echo \"Failure\";  fi\n",
      "2021-06-30 09:24:22,141137 UTC [3034] DEBUG Main.cc@145 data_frame_analyzer (64 bit): Version based on 8.0.0-SNAPSHOT (Build DEVELOPMENT BUILD by valeriy) Copyright (c) 2021 Elasticsearch BV\n",
      "2021-06-30 09:24:22,141186 UTC [3034] DEBUG CProcessPriority_Linux.cc@33 Successfully increased OOM killer adjustment via /proc/self/oom_score_adj\n",
      "2021-06-30 09:24:22,141197 UTC [3034] DEBUG CSystemCallFilter_Linux.cc@128 Seccomp BPF filters available\n",
      "2021-06-30 09:24:22,141616 UTC [3034] DEBUG CSystemCallFilter_Linux.cc@154 Seccomp BPF installed\n",
      "2021-06-30 09:24:22,151253 UTC [3034] DEBUG CDataFrameAnalyzer.cc@102 Received 103 rows\n",
      "2021-06-30 09:24:22,175340 UTC [3034] INFO  Main.cc@248 [{\"name\":\"E_DFTPMEstimatedPeakMemoryUsage\",\"description\":\"The upfront estimate of the peak memory training the predictive model would use\",\"value\":4273143}\n",
      ",{\"name\":\"E_DFTPMPeakMemoryUsage\",\"description\":\"The peak memory training the predictive model used\",\"value\":80958}\n",
      ",{\"name\":\"E_DFTPMTimeToTrain\",\"description\":\"The time it took to train the predictive model\",\"value\":8}\n",
      "]\n",
      "2021-06-30 09:24:22,175375 UTC [3034] DEBUG Main.cc@253 ML data frame analyzer exiting\n",
      "Success\n",
      "(env) ✔ ~/Documents/workspace/valeriy42/ml-cpp/jupyter/notebooks/incremental_learning [python-tests|✚ 3…1⚑ 6]\n",
      "11:24 $\n",
      "Job succeeded\n"
     ]
    }
   ],
   "source": [
    "y_true = D1[job1.dependent_variable]\n",
    "y_M1 = job1.get_predictions()\n",
    "eval_job = evaluate(dataset_name, D1, job2)\n",
    "success = eval_job.wait_to_complete()\n",
    "if not success:\n",
    "    print('Evaluation failed')\n",
    "y_M2 = eval_job.get_predictions()"
   ]
  },
  {
   "cell_type": "code",
   "execution_count": 8,
   "id": "aacd783f",
   "metadata": {},
   "outputs": [],
   "source": [
    "def compute_metrics(ytrue, m1pred, m2pred):\n",
    "    m1_mae = mean_absolute_error(ytrue, m1pred)\n",
    "    m1_mse = mean_squared_error(ytrue, m1pred)\n",
    "    m2_mae = mean_absolute_error(ytrue, m2pred)\n",
    "    m2_mse = mean_squared_error(ytrue, m2pred)\n",
    "    print(\"M1: MAE: {}\\tMSE:{}\".format(m1_mae, m1_mse))\n",
    "    print(\"M2: MAE: {}\\tMSE:{}\".format(m2_mae, m2_mse))\n",
    "    ax = sns.scatterplot(x=m1pred, y=m2pred)\n",
    "    plt.xlabel('M1 predictions')\n",
    "    plt.ylabel('M2 predictions')"
   ]
  },
  {
   "cell_type": "code",
   "execution_count": 9,
   "id": "788f2612",
   "metadata": {},
   "outputs": [
    {
     "ename": "ValueError",
     "evalue": "Found input variables with inconsistent numbers of samples: [100, 103]",
     "output_type": "error",
     "traceback": [
      "\u001b[0;31m---------------------------------------------------------------------------\u001b[0m",
      "\u001b[0;31mValueError\u001b[0m                                Traceback (most recent call last)",
      "\u001b[0;32m<ipython-input-9-e639664203fd>\u001b[0m in \u001b[0;36m<module>\u001b[0;34m\u001b[0m\n\u001b[0;32m----> 1\u001b[0;31m \u001b[0mcompute_metrics\u001b[0m\u001b[0;34m(\u001b[0m\u001b[0my_true\u001b[0m\u001b[0;34m,\u001b[0m \u001b[0my_M1\u001b[0m\u001b[0;34m,\u001b[0m \u001b[0my_M2\u001b[0m\u001b[0;34m)\u001b[0m\u001b[0;34m\u001b[0m\u001b[0;34m\u001b[0m\u001b[0m\n\u001b[0m",
      "\u001b[0;32m<ipython-input-8-ccce911a6b04>\u001b[0m in \u001b[0;36mcompute_metrics\u001b[0;34m(ytrue, m1pred, m2pred)\u001b[0m\n\u001b[1;32m      2\u001b[0m     \u001b[0mm1_mae\u001b[0m \u001b[0;34m=\u001b[0m \u001b[0mmean_absolute_error\u001b[0m\u001b[0;34m(\u001b[0m\u001b[0mytrue\u001b[0m\u001b[0;34m,\u001b[0m \u001b[0mm1pred\u001b[0m\u001b[0;34m)\u001b[0m\u001b[0;34m\u001b[0m\u001b[0;34m\u001b[0m\u001b[0m\n\u001b[1;32m      3\u001b[0m     \u001b[0mm1_mse\u001b[0m \u001b[0;34m=\u001b[0m \u001b[0mmean_squared_error\u001b[0m\u001b[0;34m(\u001b[0m\u001b[0mytrue\u001b[0m\u001b[0;34m,\u001b[0m \u001b[0mm1pred\u001b[0m\u001b[0;34m)\u001b[0m\u001b[0;34m\u001b[0m\u001b[0;34m\u001b[0m\u001b[0m\n\u001b[0;32m----> 4\u001b[0;31m     \u001b[0mm2_mae\u001b[0m \u001b[0;34m=\u001b[0m \u001b[0mmean_absolute_error\u001b[0m\u001b[0;34m(\u001b[0m\u001b[0mytrue\u001b[0m\u001b[0;34m,\u001b[0m \u001b[0mm2pred\u001b[0m\u001b[0;34m)\u001b[0m\u001b[0;34m\u001b[0m\u001b[0;34m\u001b[0m\u001b[0m\n\u001b[0m\u001b[1;32m      5\u001b[0m     \u001b[0mm2_mse\u001b[0m \u001b[0;34m=\u001b[0m \u001b[0mmean_squared_error\u001b[0m\u001b[0;34m(\u001b[0m\u001b[0mytrue\u001b[0m\u001b[0;34m,\u001b[0m \u001b[0mm2pred\u001b[0m\u001b[0;34m)\u001b[0m\u001b[0;34m\u001b[0m\u001b[0;34m\u001b[0m\u001b[0m\n\u001b[1;32m      6\u001b[0m     \u001b[0mprint\u001b[0m\u001b[0;34m(\u001b[0m\u001b[0;34m\"M1: MAE: {}\\tMSE:{}\"\u001b[0m\u001b[0;34m.\u001b[0m\u001b[0mformat\u001b[0m\u001b[0;34m(\u001b[0m\u001b[0mm1_mae\u001b[0m\u001b[0;34m,\u001b[0m \u001b[0mm1_mse\u001b[0m\u001b[0;34m)\u001b[0m\u001b[0;34m)\u001b[0m\u001b[0;34m\u001b[0m\u001b[0;34m\u001b[0m\u001b[0m\n",
      "\u001b[0;32m~/Documents/workspace/valeriy42/ml-cpp/jupyter/env/lib/python3.6/site-packages/sklearn/utils/validation.py\u001b[0m in \u001b[0;36minner_f\u001b[0;34m(*args, **kwargs)\u001b[0m\n\u001b[1;32m     61\u001b[0m             \u001b[0mextra_args\u001b[0m \u001b[0;34m=\u001b[0m \u001b[0mlen\u001b[0m\u001b[0;34m(\u001b[0m\u001b[0margs\u001b[0m\u001b[0;34m)\u001b[0m \u001b[0;34m-\u001b[0m \u001b[0mlen\u001b[0m\u001b[0;34m(\u001b[0m\u001b[0mall_args\u001b[0m\u001b[0;34m)\u001b[0m\u001b[0;34m\u001b[0m\u001b[0;34m\u001b[0m\u001b[0m\n\u001b[1;32m     62\u001b[0m             \u001b[0;32mif\u001b[0m \u001b[0mextra_args\u001b[0m \u001b[0;34m<=\u001b[0m \u001b[0;36m0\u001b[0m\u001b[0;34m:\u001b[0m\u001b[0;34m\u001b[0m\u001b[0;34m\u001b[0m\u001b[0m\n\u001b[0;32m---> 63\u001b[0;31m                 \u001b[0;32mreturn\u001b[0m \u001b[0mf\u001b[0m\u001b[0;34m(\u001b[0m\u001b[0;34m*\u001b[0m\u001b[0margs\u001b[0m\u001b[0;34m,\u001b[0m \u001b[0;34m**\u001b[0m\u001b[0mkwargs\u001b[0m\u001b[0;34m)\u001b[0m\u001b[0;34m\u001b[0m\u001b[0;34m\u001b[0m\u001b[0m\n\u001b[0m\u001b[1;32m     64\u001b[0m \u001b[0;34m\u001b[0m\u001b[0m\n\u001b[1;32m     65\u001b[0m             \u001b[0;31m# extra_args > 0\u001b[0m\u001b[0;34m\u001b[0m\u001b[0;34m\u001b[0m\u001b[0;34m\u001b[0m\u001b[0m\n",
      "\u001b[0;32m~/Documents/workspace/valeriy42/ml-cpp/jupyter/env/lib/python3.6/site-packages/sklearn/metrics/_regression.py\u001b[0m in \u001b[0;36mmean_absolute_error\u001b[0;34m(y_true, y_pred, sample_weight, multioutput)\u001b[0m\n\u001b[1;32m    181\u001b[0m     \"\"\"\n\u001b[1;32m    182\u001b[0m     y_type, y_true, y_pred, multioutput = _check_reg_targets(\n\u001b[0;32m--> 183\u001b[0;31m         y_true, y_pred, multioutput)\n\u001b[0m\u001b[1;32m    184\u001b[0m     \u001b[0mcheck_consistent_length\u001b[0m\u001b[0;34m(\u001b[0m\u001b[0my_true\u001b[0m\u001b[0;34m,\u001b[0m \u001b[0my_pred\u001b[0m\u001b[0;34m,\u001b[0m \u001b[0msample_weight\u001b[0m\u001b[0;34m)\u001b[0m\u001b[0;34m\u001b[0m\u001b[0;34m\u001b[0m\u001b[0m\n\u001b[1;32m    185\u001b[0m     output_errors = np.average(np.abs(y_pred - y_true),\n",
      "\u001b[0;32m~/Documents/workspace/valeriy42/ml-cpp/jupyter/env/lib/python3.6/site-packages/sklearn/metrics/_regression.py\u001b[0m in \u001b[0;36m_check_reg_targets\u001b[0;34m(y_true, y_pred, multioutput, dtype)\u001b[0m\n\u001b[1;32m     86\u001b[0m         \u001b[0mthe\u001b[0m \u001b[0mdtype\u001b[0m \u001b[0margument\u001b[0m \u001b[0mpassed\u001b[0m \u001b[0mto\u001b[0m \u001b[0mcheck_array\u001b[0m\u001b[0;34m.\u001b[0m\u001b[0;34m\u001b[0m\u001b[0;34m\u001b[0m\u001b[0m\n\u001b[1;32m     87\u001b[0m     \"\"\"\n\u001b[0;32m---> 88\u001b[0;31m     \u001b[0mcheck_consistent_length\u001b[0m\u001b[0;34m(\u001b[0m\u001b[0my_true\u001b[0m\u001b[0;34m,\u001b[0m \u001b[0my_pred\u001b[0m\u001b[0;34m)\u001b[0m\u001b[0;34m\u001b[0m\u001b[0;34m\u001b[0m\u001b[0m\n\u001b[0m\u001b[1;32m     89\u001b[0m     \u001b[0my_true\u001b[0m \u001b[0;34m=\u001b[0m \u001b[0mcheck_array\u001b[0m\u001b[0;34m(\u001b[0m\u001b[0my_true\u001b[0m\u001b[0;34m,\u001b[0m \u001b[0mensure_2d\u001b[0m\u001b[0;34m=\u001b[0m\u001b[0;32mFalse\u001b[0m\u001b[0;34m,\u001b[0m \u001b[0mdtype\u001b[0m\u001b[0;34m=\u001b[0m\u001b[0mdtype\u001b[0m\u001b[0;34m)\u001b[0m\u001b[0;34m\u001b[0m\u001b[0;34m\u001b[0m\u001b[0m\n\u001b[1;32m     90\u001b[0m     \u001b[0my_pred\u001b[0m \u001b[0;34m=\u001b[0m \u001b[0mcheck_array\u001b[0m\u001b[0;34m(\u001b[0m\u001b[0my_pred\u001b[0m\u001b[0;34m,\u001b[0m \u001b[0mensure_2d\u001b[0m\u001b[0;34m=\u001b[0m\u001b[0;32mFalse\u001b[0m\u001b[0;34m,\u001b[0m \u001b[0mdtype\u001b[0m\u001b[0;34m=\u001b[0m\u001b[0mdtype\u001b[0m\u001b[0;34m)\u001b[0m\u001b[0;34m\u001b[0m\u001b[0;34m\u001b[0m\u001b[0m\n",
      "\u001b[0;32m~/Documents/workspace/valeriy42/ml-cpp/jupyter/env/lib/python3.6/site-packages/sklearn/utils/validation.py\u001b[0m in \u001b[0;36mcheck_consistent_length\u001b[0;34m(*arrays)\u001b[0m\n\u001b[1;32m    261\u001b[0m     \u001b[0;32mif\u001b[0m \u001b[0mlen\u001b[0m\u001b[0;34m(\u001b[0m\u001b[0muniques\u001b[0m\u001b[0;34m)\u001b[0m \u001b[0;34m>\u001b[0m \u001b[0;36m1\u001b[0m\u001b[0;34m:\u001b[0m\u001b[0;34m\u001b[0m\u001b[0;34m\u001b[0m\u001b[0m\n\u001b[1;32m    262\u001b[0m         raise ValueError(\"Found input variables with inconsistent numbers of\"\n\u001b[0;32m--> 263\u001b[0;31m                          \" samples: %r\" % [int(l) for l in lengths])\n\u001b[0m\u001b[1;32m    264\u001b[0m \u001b[0;34m\u001b[0m\u001b[0m\n\u001b[1;32m    265\u001b[0m \u001b[0;34m\u001b[0m\u001b[0m\n",
      "\u001b[0;31mValueError\u001b[0m: Found input variables with inconsistent numbers of samples: [100, 103]"
     ]
    }
   ],
   "source": [
    "compute_metrics(y_true, y_M1, y_M2)"
   ]
  },
  {
   "cell_type": "code",
   "execution_count": null,
   "id": "185ed8d5",
   "metadata": {},
   "outputs": [],
   "source": []
  }
 ],
 "metadata": {
  "interpreter": {
   "hash": "cd811bcf3f365bc5382730ef97b333cd6ca82417629bc5a6815cfad2f5503789"
  },
  "kernelspec": {
   "display_name": "Python 3",
   "language": "python",
   "name": "python3"
  },
  "language_info": {
   "codemirror_mode": {
    "name": "ipython",
    "version": 3
   },
   "file_extension": ".py",
   "mimetype": "text/x-python",
   "name": "python",
   "nbconvert_exporter": "python",
   "pygments_lexer": "ipython3",
   "version": "3.6.9"
  }
 },
 "nbformat": 4,
 "nbformat_minor": 5
}
