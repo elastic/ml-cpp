{
 "cells": [
  {
   "cell_type": "raw",
   "id": "981e5127",
   "metadata": {},
   "source": [
    "# Copyright Elasticsearch B.V. and/or licensed to Elasticsearch B.V. under one\n",
    "# or more contributor license agreements. Licensed under the Elastic License\n",
    "# 2.0 and the following additional limitation. Functionality enabled by the\n",
    "# files subject to the Elastic License 2.0 may only be used in production when\n",
    "# invoked by an Elasticsearch process with a license key installed that permits\n",
    "# use of machine learning features. You may not use this file except in\n",
    "# compliance with the Elastic License 2.0 and the foregoing additional\n",
    "# limitation.\n"
   ]
  },
  {
   "cell_type": "markdown",
   "id": "aaeb4b77",
   "metadata": {},
   "source": [
    "# DGA Sunburst Recognition with  Incremental Learning\n",
    "\n",
    "1. [Describe the original DGA dataset (D) and the Sunburst dataset (S)](#step-1)\n",
    "2. [Update the model M1 with the Sunburst train set U to get M2](#step-2)\n",
    "3. [Compare M1 and M2 accuracy on the Sunburst test set T](#step-3)\n",
    "4. [Compare M1 and M2 on the original DGA dataset D](#step-4)\n"
   ]
  },
  {
   "cell_type": "code",
   "execution_count": 1,
   "id": "f4765402",
   "metadata": {},
   "outputs": [],
   "source": [
    "%load_ext autoreload\n",
    "%autoreload 2\n",
    "%config Completer.use_jedi = False\n",
    "import pandas as pd\n",
    "import numpy as np\n",
    "from sklearn.model_selection import train_test_split\n",
    "import datetime\n",
    "\n",
    "import seaborn as sns\n",
    "import matplotlib.pyplot as plt\n",
    "from sklearn.metrics import accuracy_score\n",
    "\n",
    "from incremental_learning.config import datasets_dir, root_dir, jobs_dir\n",
    "from incremental_learning.job import update, evaluate, Job, train\n",
    "from incremental_learning.storage import download_dataset, download_job"
   ]
  },
  {
   "cell_type": "code",
   "execution_count": 2,
   "id": "74573af7",
   "metadata": {},
   "outputs": [],
   "source": [
    "def get_predictions(model: Job):\n",
    "    probabilities = model.get_probabilities()\n",
    "    predictions = np.array(list(map(lambda row: max(row, key=row.get), probabilities)))\n",
    "    return predictions"
   ]
  },
  {
   "cell_type": "markdown",
   "id": "d3f3105b",
   "metadata": {},
   "source": [
    "## 1. Describe the original DGA dataset (D) and the Sunburst dataset (S) <a class=\"anchor\" id=\"step-1\"></a>"
   ]
  },
  {
   "cell_type": "code",
   "execution_count": 3,
   "id": "4739ca8f",
   "metadata": {},
   "outputs": [
    {
     "name": "stderr",
     "output_type": "stream",
     "text": [
      "/root/env/lib64/python3.6/site-packages/IPython/core/interactiveshell.py:3072: DtypeWarning: Columns (0,1,2,3,4,5,6,7,8,9,10,11,12,13,14,15,16,17,18,22,23,24,25,26,27,28,29,30,31,33,34,35,36,37,38,39,40,41,42,43,44,45,46,47,48,49,50,51,52,53,54,55,56,57,58,59,60,61,62,63,64,65,66,67,68,69,70,71,72,73,74,75,76,77,78,79,80,81,82,83,84,85,86,87,88,89,90,91,92,93,94,95,96,97,98,99,100,101,102,103,104,105,106,107,108,109,110,111,112,113,114,115,116,117,118,119,120,121,122,123,124,125,126,127,128,129,130,131,132,133,134,135,136,137,138,139,140,141,142,143,144,145,146,147,148,149,150,151,152,153,154,155,156,157,158,159,160,161,162,163,164,165,166,167,168,169,170,171,172,173,174,175,176,177,178,179,180,181,182,183,184,185) have mixed types.Specify dtype option on import or set low_memory=False.\n",
      "  interactivity=interactivity, compiler=compiler, result=result)\n"
     ]
    }
   ],
   "source": [
    "full_dataset_name = 'dga-data-ngrams-full'\n",
    "download_dataset(full_dataset_name)\n",
    "D = pd.read_csv(datasets_dir / '{}.csv'.format(full_dataset_name))\n",
    "D.drop_duplicates(inplace=True)"
   ]
  },
  {
   "cell_type": "code",
   "execution_count": 4,
   "id": "93ecf411",
   "metadata": {},
   "outputs": [],
   "source": [
    "dataset_name = 'dga-data-ngrams-sunburst'\n",
    "\n",
    "download_dataset(dataset_name)\n",
    "S = pd.read_csv(datasets_dir / '{}.csv'.format(dataset_name))\n",
    "S.drop_duplicates(inplace=True)"
   ]
  },
  {
   "cell_type": "code",
   "execution_count": 5,
   "id": "bf7de34a",
   "metadata": {},
   "outputs": [
    {
     "data": {
      "image/png": "[encoded data removed]",
      "text/plain": [
       "<Figure size 432x288 with 1 Axes>"
      ]
     },
     "metadata": {
      "needs_background": "light"
     },
     "output_type": "display_data"
    }
   ],
   "source": [
    "_ = plt.hist(D['malicious'])"
   ]
  },
  {
   "cell_type": "markdown",
   "id": "583689bd",
   "metadata": {},
   "source": [
    "The original dataset contains 1,346,626 entries with 542,484 negative benign and 804,142 malicious examples. \n",
    "\n",
    "Every entry has 186 features, although many of them have missing values."
   ]
  },
  {
   "cell_type": "code",
   "execution_count": 6,
   "id": "1aa8926a",
   "metadata": {
    "scrolled": true
   },
   "outputs": [
    {
     "data": {
      "image/png": "[encoded data removed]",
      "text/plain": [
       "<Figure size 432x288 with 1 Axes>"
      ]
     },
     "metadata": {
      "needs_background": "light"
     },
     "output_type": "display_data"
    }
   ],
   "source": [
    "_ = plt.hist(S['malicious'])"
   ]
  },
  {
   "cell_type": "markdown",
   "id": "ff964578",
   "metadata": {},
   "source": [
    "The Sunburst dataset contains 1,719 malicious examples."
   ]
  },
  {
   "cell_type": "markdown",
   "id": "62632f57",
   "metadata": {},
   "source": [
    "### Split the sunburst dataset into the update dataset (U) and the test dataset (T)"
   ]
  },
  {
   "cell_type": "code",
   "execution_count": 7,
   "id": "3d4a80d6",
   "metadata": {},
   "outputs": [],
   "source": [
    "U, T = train_test_split(S, test_size=0.2)"
   ]
  },
  {
   "cell_type": "markdown",
   "id": "e4f649c3",
   "metadata": {},
   "source": [
    "### Load the baseline model M1"
   ]
  },
  {
   "cell_type": "markdown",
   "id": "d608aea0",
   "metadata": {},
   "source": [
    "It may take something aroung 6-7 hours to train the baseline model on the original DGA dataset. So we download a pre-trained instance of this model instead."
   ]
  },
  {
   "cell_type": "code",
   "execution_count": 8,
   "id": "5b3df100",
   "metadata": {},
   "outputs": [],
   "source": [
    "baseline_model_name = 'dga-v2-baseline-model'\n",
    "download_job(baseline_model_name)\n",
    "M1 = Job.from_file(source=jobs_dir / 'dga-v2-baseline-model')\n",
    "\n",
    "# to train a job from scratch, run\n",
    "# D_train, D_test = train_test_split(D, test_size=0.2, stratify=D['malicious'])\n",
    "# M1 = train(full_dataset_name, D_train, verbose=False)\n",
    "# M1.wait_to_complete()"
   ]
  },
  {
   "cell_type": "markdown",
   "id": "bff09ffe",
   "metadata": {},
   "source": [
    "## 2. Update the model M1 with the Sunburst train set U to get M2 <a class=\"anchor\" id=\"step-2\"></a>"
   ]
  },
  {
   "cell_type": "code",
   "execution_count": 9,
   "id": "54d1cd65",
   "metadata": {},
   "outputs": [
    {
     "name": "stdout",
     "output_type": "stream",
     "text": [
      "Elapsed time 0:13:06.042659\n"
     ]
    }
   ],
   "source": [
    "hyperparameters = M1.get_hyperparameters()\n",
    "del hyperparameters['retrained_tree_eta']\n",
    "M2 = update(dataset_name, U, M1, verbose=False, hyperparameter_overrides=hyperparameters)\n",
    "elapsed_time = M2.wait_to_complete()\n",
    "print('Elapsed time {}'.format(datetime.timedelta(seconds=elapsed_time)))"
   ]
  },
  {
   "cell_type": "markdown",
   "id": "217a8ced",
   "metadata": {},
   "source": [
    "Let's store the updated model in case we want to use it later."
   ]
  },
  {
   "cell_type": "code",
   "execution_count": 10,
   "id": "2dd47f1d",
   "metadata": {},
   "outputs": [
    {
     "data": {
      "text/plain": [
       "True"
      ]
     },
     "execution_count": 10,
     "metadata": {},
     "output_type": "execute_result"
    }
   ],
   "source": [
    "M2.store(jobs_dir / 'DFA_updated')"
   ]
  },
  {
   "cell_type": "markdown",
   "id": "d89af90b",
   "metadata": {},
   "source": [
    "## 3. Compare M1 and M2 accuracy on the Sunburst test set T <a class=\"anchor\" id=\"step-3\"></a>"
   ]
  },
  {
   "cell_type": "code",
   "execution_count": 11,
   "id": "b9925820",
   "metadata": {},
   "outputs": [
    {
     "name": "stdout",
     "output_type": "stream",
     "text": [
      "Elapsed time 0:07:24.874987\n"
     ]
    }
   ],
   "source": [
    "eval_M1 = evaluate(dataset_name, T, M1, verbose=False)\n",
    "elapsed_time = eval_M1.wait_to_complete()\n",
    "print('Elapsed time {}'.format(datetime.timedelta(seconds=elapsed_time)))\n",
    "y_M1 = get_predictions(eval_M1)"
   ]
  },
  {
   "cell_type": "code",
   "execution_count": 12,
   "id": "e05618f2",
   "metadata": {},
   "outputs": [
    {
     "name": "stdout",
     "output_type": "stream",
     "text": [
      "Elapsed time 0:04:21.754946\n"
     ]
    }
   ],
   "source": [
    "eval_M2 = evaluate(dataset_name, T, M2, verbose=False)\n",
    "elapsed_time = eval_M2.wait_to_complete()\n",
    "print('Elapsed time {}'.format(datetime.timedelta(seconds=elapsed_time)))\n",
    "y_M2 = get_predictions(eval_M2)"
   ]
  },
  {
   "cell_type": "code",
   "execution_count": 13,
   "id": "58d3e8da",
   "metadata": {},
   "outputs": [
    {
     "name": "stdout",
     "output_type": "stream",
     "text": [
      "M1 accuracy: 0.0\n",
      "M2 accuracy: 0.9447674418604651\n"
     ]
    }
   ],
   "source": [
    "y_true = pd.array(T[M1.dependent_variable].astype(str))\n",
    "\n",
    "M1_accuracy = accuracy_score(y_true, y_M1)\n",
    "M2_accuracy = accuracy_score(y_true, y_M2)\n",
    "\n",
    "print(\"M1 accuracy:\", M1_accuracy)\n",
    "print(\"M2 accuracy:\", M2_accuracy)"
   ]
  },
  {
   "cell_type": "markdown",
   "id": "d5ee16d5",
   "metadata": {},
   "source": [
    "## 4. Compare M1 and M2 on the original DGA dataset D <a class=\"anchor\" id=\"step-4\"></a>"
   ]
  },
  {
   "cell_type": "code",
   "execution_count": 14,
   "id": "f400a6fb",
   "metadata": {},
   "outputs": [
    {
     "name": "stdout",
     "output_type": "stream",
     "text": [
      "Elapsed time 0:07:18.736195\n"
     ]
    }
   ],
   "source": [
    "eval_M1 = evaluate(full_dataset_name, D, M1, verbose=False)\n",
    "elapsed_time = eval_M1.wait_to_complete()\n",
    "print('Elapsed time {}'.format(datetime.timedelta(seconds=elapsed_time)))\n",
    "y_M1_full = get_predictions(eval_M1)"
   ]
  },
  {
   "cell_type": "code",
   "execution_count": 16,
   "id": "398b99dc",
   "metadata": {},
   "outputs": [
    {
     "name": "stdout",
     "output_type": "stream",
     "text": [
      "Elapsed time 0:05:20.402190\n"
     ]
    }
   ],
   "source": [
    "eval_M2 = evaluate(full_dataset_name, D, M2, verbose=False)\n",
    "elapsed_time = eval_M2.wait_to_complete()\n",
    "print('Elapsed time {}'.format(datetime.timedelta(seconds=elapsed_time)))\n",
    "\n",
    "y_M2_full = get_predictions(eval_M2)"
   ]
  },
  {
   "cell_type": "code",
   "execution_count": 17,
   "id": "3d8f731a",
   "metadata": {},
   "outputs": [
    {
     "name": "stdout",
     "output_type": "stream",
     "text": [
      "M1 accuracy: 0.9870342619257314\n",
      "M2 accuracy: 0.9942998278660891\n"
     ]
    }
   ],
   "source": [
    "y_full_true = pd.array(D[M1.dependent_variable].astype(str))\n",
    "\n",
    "M1_full_accuracy = accuracy_score(y_full_true, y_M1_full)\n",
    "M2_full_accuracy = accuracy_score(y_full_true, y_M2_full)\n",
    "\n",
    "print(\"M1 accuracy:\", M1_full_accuracy)\n",
    "print(\"M2 accuracy:\", M2_full_accuracy)"
   ]
  }
 ],
 "metadata": {
  "interpreter": {
   "hash": "bbee7842ce8ba476870a006d5d5b68f11cea175afb0fea017b7f81beccf88892"
  },
  "kernelspec": {
   "display_name": "Python 3",
   "language": "python",
   "name": "python3"
  },
  "language_info": {
   "codemirror_mode": {
    "name": "ipython",
    "version": 3
   },
   "file_extension": ".py",
   "mimetype": "text/x-python",
   "name": "python",
   "nbconvert_exporter": "python",
   "pygments_lexer": "ipython3",
   "version": "3.6.8"
  }
 },
 "nbformat": 4,
 "nbformat_minor": 5
}
