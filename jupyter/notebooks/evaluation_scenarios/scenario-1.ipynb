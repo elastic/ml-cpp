{
 "cells": [
  {
   "cell_type": "code",
   "execution_count": null,
   "metadata": {},
   "outputs": [],
   "source": [
    "# Copyright Elasticsearch B.V. and/or licensed to Elasticsearch B.V. under one\n",
    "# or more contributor license agreements. Licensed under the Elastic License;\n",
    "# you may not use this file except in compliance with the Elastic License."
   ]
  },
  {
   "cell_type": "markdown",
   "id": "indie-proxy",
   "metadata": {},
   "source": [
    "# Scenario 1: Data summarization\n",
    "\n",
    "1. Train model (M1) on the complete dataset (D1)\n",
    "\n",
    "2. Generate a summarization dataset using some technique (D2)\n",
    "\n",
    "3. Train a new model (M2) on D2\n",
    "    1. Use the same best hyperparameters as for M1   \n",
    "    2. **Identify a new set of best hyperparameters**\n",
    "    \n",
    "4. Compare M1 and M2\n",
    "    1. Evaluation M1 and M2 on the complete dataset D1.\n",
    "    2. Evaluate M1 and M2 on a grid and compute divergence\n",
    "    3. Compare feature importance vectors for individual data points from M1 and M2 (should be very similar)\n",
    "    4. Compare errors on the test dataset (D3)\n",
    "\n",
    "**Notes:**\n",
    "- We assume that generation of a summarization dataset is implemented. It can be written in Python for prototyping.\n",
    "- 4 can be done with an inference pipeline and eland\n",
    "- We need a simple way to query a model using inference pipeline (e.g. Python wrapper?)\n",
    "- Evaluations can also be done with sklearn?\n",
    "- What is the minimum amount of data we can get away with?\n"
   ]
  },
  {
   "cell_type": "code",
   "execution_count": 9,
   "id": "dental-morocco",
   "metadata": {},
   "outputs": [],
   "source": [
    "%config Completer.use_jedi = False\n",
    "import json\n",
    "import tempfile\n",
    "import platform\n",
    "import time\n",
    "import string\n",
    "import random\n",
    "\n",
    "import pandas as pd\n",
    "import numpy as np\n",
    "import diversipy\n",
    "import libtmux \n",
    "\n",
    "from IPython import display\n",
    "import seaborn as sns\n",
    "import matplotlib.pyplot as plt\n",
    "from sklearn.metrics import max_error, mean_absolute_error, mean_squared_error\n",
    "\n",
    "\n",
    "# I assume, your host OS is not CentOS\n",
    "cloud = (platform.system() == 'Linux') and (platform.dist()[0] == 'centos')\n",
    "if cloud:\n",
    "    mlcpp_root = '/ml-cpp'\n",
    "else:\n",
    "    import os\n",
    "    system = '{}-{}'.format(platform.system().lower(), platform.machine().lower())\n",
    "    mlcpp_root = os.environ['CPP_SRC_HOME']+'/build/distribution/platform/{}'.format(system)\n",
    "dfa_path = mlcpp_root+'/bin/data_frame_analyzer'\n",
    "\n",
    "server = libtmux.Server()"
   ]
  },
  {
   "cell_type": "code",
   "execution_count": 10,
   "id": "brazilian-reset",
   "metadata": {},
   "outputs": [],
   "source": [
    "def get_predictions(results):\n",
    "    predictions = []\n",
    "    for item in results:\n",
    "        if 'row_results' in item:\n",
    "            predictions.append(item['row_results']['results']['ml']['54_prediction'])\n",
    "    return np.array(predictions)"
   ]
  },
  {
   "cell_type": "code",
   "execution_count": 11,
   "id": "flexible-spelling",
   "metadata": {},
   "outputs": [],
   "source": [
    "def get_hyperparameters(results):\n",
    "    hyperparameters = {}\n",
    "    for item in results:\n",
    "        if 'model_metadata' in item:\n",
    "            for hyperparameter in item['model_metadata']['hyperparameters']:\n",
    "                hyperparameters[hyperparameter['name']] = hyperparameter['value']\n",
    "    return hyperparameters"
   ]
  },
  {
   "cell_type": "code",
   "execution_count": 12,
   "id": "advisory-apparatus",
   "metadata": {},
   "outputs": [],
   "source": [
    "def run_job(input, config, persist=None, restore=None):\n",
    "    output = tempfile.NamedTemporaryFile(mode='wt')\n",
    "    job_suffix = ''.join(random.choices(string.ascii_lowercase, k=5))\n",
    "    job_name = 'job_{}'.format(job_suffix)\n",
    "    cmd = [dfa_path,\n",
    "    \"--input\", input,\n",
    "    \"--config\", config,\n",
    "    \"--output\", output.name]\n",
    "    \n",
    "    \n",
    "    if persist:\n",
    "        cmd += [\"--persist\", persist]\n",
    "    if restore:\n",
    "        cmd += ['--restore', restore]\n",
    " \n",
    "    cmd = ' '.join(cmd)\n",
    "    \n",
    "    session = server.new_session(job_name)\n",
    "    window = session.new_window(attach=False)\n",
    "    pane = window.split_window(attach=False)\n",
    "    \n",
    "    print(\"session: {}\\tcommand:\\n{}\".format(session.get('session_name'), cmd))\n",
    "    pane.send_keys(cmd)\n",
    "    return {'name': job_name, 'pane': pane, 'output': output}"
   ]
  },
  {
   "cell_type": "code",
   "execution_count": 13,
   "id": "assisted-nursery",
   "metadata": {},
   "outputs": [],
   "source": [
    "def wait_job_complete(job):\n",
    "    pane = job['pane']\n",
    "    output = job['output']\n",
    "    while True :\n",
    "        display.clear_output(wait=True)\n",
    "        err = \"\\n\".join(pane.capture_pane())\n",
    "        out =  !grep \"phase_progress\" $output.name | tail -n10 \n",
    "        out = \"\\n\".join(out)\n",
    "        display.display_html(display.HTML(\"\"\"<table><tr>\n",
    "                                                    <td width=\"50%\" style=\"text-align:center;\"><b>stderr</b></td>\n",
    "                                                    <td width=\"50%\" style=\"text-align:center;\"><b>output</b></td>\n",
    "                                                    </tr>\n",
    "                                                    <tr>\n",
    "                                                    <td width=\"50%\" style=\"text-align:left;\"><pre>{}</pre></td>\n",
    "                                                    <td width=\"50%\" style=\"text-align:left;\"><pre>{}</pre></td>\n",
    "                                                    </tr>\n",
    "                                            </table>\"\"\"\n",
    "                                 .format(err, out)))\n",
    "        # the line in main.cc where final output is produced\n",
    "        if sum(['Main.cc@246' in line for line in pane.capture_pane()[-5:]]) == 1:\n",
    "            break\n",
    "        time.sleep(5.0)\n",
    "    with open(output.name) as fp:\n",
    "        results = json.load(fp)\n",
    "    # clean up\n",
    "    output.close()\n",
    "    server.kill_session(target_session=job['name'])\n",
    "    return results"
   ]
  },
  {
   "cell_type": "markdown",
   "id": "presidential-sport",
   "metadata": {},
   "source": [
    "## 1. Train model (M1) on the complete dataset (D1)"
   ]
  },
  {
   "cell_type": "code",
   "execution_count": 14,
   "id": "promotional-taylor",
   "metadata": {},
   "outputs": [
    {
     "name": "stdout",
     "output_type": "stream",
     "text": [
      "session: job_ejjzh\tcommand:\n",
      "/home/valeriy/Documents/workspace/valeriy42/ml-cpp/build/distribution/platform/linux-x86_64/bin/data_frame_analyzer --input datasets/facebook_6000.csv --config configs/facebook_6000.json --output /tmp/tmpooiyg85v --persist model1.json\n"
     ]
    }
   ],
   "source": [
    "job = run_job(input=\"datasets/facebook_6000.csv\", \n",
    "              config=\"configs/facebook_6000.json\",\n",
    "              persist=\"model1.json\")"
   ]
  },
  {
   "cell_type": "code",
   "execution_count": 15,
   "id": "motivated-medium",
   "metadata": {
    "scrolled": false
   },
   "outputs": [
    {
     "data": {
      "text/html": [
       "<table><tr>\n",
       "                                                    <td width=\"50%\" style=\"text-align:center;\"><b>stderr</b></td>\n",
       "                                                    <td width=\"50%\" style=\"text-align:center;\"><b>output</b></td>\n",
       "                                                    </tr>\n",
       "                                                    <tr>\n",
       "                                                    <td width=\"50%\" style=\"text-align:left;\"><pre> /home/valeriy/Documents/workspace/valeriy42/ml-cpp/build/distribution/platform/linux-x86_64/bin/data_frame_analyzer --input datasets/facebook_6000.csv --config configs/facebook_6000.json --output /tmp/tmpooiyg85v --persist model1.json\n",
       "(env) ✔ ~/Documents/workspace/valeriy42/ml-cpp/jupyter/notebooks [summarization-runs|✚ 2…9⚑ 3]\n",
       "13:31 $  /home/valeriy/Documents/workspace/valeriy42/ml-cpp/build/distribution/platform/linux-x86_64/bin/data_frame_analyzer --input datasets/facebook_6000.csv --config configs/facebook_6000.json --output /tmp/tmpooiyg85v --persist model1.json\n",
       "2021-03-05 12:31:33,968219 UTC [9913] DEBUG Main.cc@141 data_frame_analyzer (64 bit): Version 8.0.0-SNAPSHOT (Build 93946a5deec802) Copyright (c) 2021 Elasticsearch BV\n",
       "2021-03-05 12:31:33,968395 UTC [9913] DEBUG CProcessPriority_Linux.cc@33 Successfully increased OOM killer adjustment via /proc/self/oom_score_adj\n",
       "2021-03-05 12:31:33,968433 UTC [9913] DEBUG CSystemCallFilter_Linux.cc@127 Seccomp BPF filters available\n",
       "2021-03-05 12:31:33,970915 UTC [9913] DEBUG CSystemCallFilter_Linux.cc@153 Seccomp BPF installed\n",
       "2021-03-05 12:31:34,026960 UTC [9913] DEBUG CDataFrameAnalyzer.cc@104 Received 6000 rows\n",
       "2021-03-05 12:35:34,629086 UTC [9913] INFO  CBoostedTreeImpl.cc@237 Exiting hyperparameter optimisation loop early\n",
       "2021-03-05 12:35:41,907840 UTC [9913] INFO  Main.cc@241 [{\"name\":\"E_DFTPMEstimatedPeakMemoryUsage\",\"description\":\"The upfront estimate of the peak memory training the predictive model would use\",\"value\":44908914}\n",
       ",{\"name\":\"E_DFTPMPeakMemoryUsage\",\"description\":\"The peak memory training the predictive model used\",\"value\":41530066}\n",
       ",{\"name\":\"E_DFTPMTimeToTrain\",\"description\":\"The time it took to train the predictive model\",\"value\":246836}\n",
       ",{\"name\":\"E_DFTPMTrainedForestNumberTrees\",\"description\":\"The total number of trees in the trained forest\",\"value\":255}\n",
       "]\n",
       "2021-03-05 12:35:41,907959 UTC [9913] DEBUG Main.cc@246 ML data frame analyzer exiting\n",
       "(env) ✔ ~/Documents/workspace/valeriy42/ml-cpp/jupyter/notebooks [summarization-runs|✚ 3…10⚑ 3]\n",
       "13:35 $</pre></td>\n",
       "                                                    <td width=\"50%\" style=\"text-align:left;\"><pre>,{\"phase_progress\":{\"phase\":\"fine_tuning_parameters\",\"progress_percent\":100}}\n",
       ",{\"phase_progress\":{\"phase\":\"final_training\",\"progress_percent\":0}}\n",
       ",{\"phase_progress\":{\"phase\":\"final_training\",\"progress_percent\":19}}\n",
       ",{\"phase_progress\":{\"phase\":\"final_training\",\"progress_percent\":43}}\n",
       ",{\"phase_progress\":{\"phase\":\"final_training\",\"progress_percent\":61}}\n",
       ",{\"phase_progress\":{\"phase\":\"final_training\",\"progress_percent\":75}}\n",
       ",{\"phase_progress\":{\"phase\":\"final_training\",\"progress_percent\":90}}\n",
       ",{\"phase_progress\":{\"phase\":\"final_training\",\"progress_percent\":99}}\n",
       ",{\"phase_progress\":{\"phase\":\"final_training\",\"progress_percent\":100}}\n",
       ",{\"phase_progress\":{\"phase\":\"final_training\",\"progress_percent\":100}}</pre></td>\n",
       "                                                    </tr>\n",
       "                                            </table>"
      ]
     },
     "metadata": {},
     "output_type": "display_data"
    }
   ],
   "source": [
    "results = wait_job_complete(job)"
   ]
  },
  {
   "cell_type": "code",
   "execution_count": 16,
   "id": "special-grounds",
   "metadata": {},
   "outputs": [
    {
     "name": "stdout",
     "output_type": "stream",
     "text": [
      "/bin/bash: warning: command substitution: ignored null byte in input\r\n"
     ]
    }
   ],
   "source": [
    "# keep only the last checkpoint with the final model\n",
    "!echo \"$(tail -n 3 model1.json)\" > model1.json"
   ]
  },
  {
   "cell_type": "markdown",
   "id": "medieval-board",
   "metadata": {},
   "source": [
    "## 2. Generate a sumarization dataset"
   ]
  },
  {
   "cell_type": "code",
   "execution_count": 17,
   "id": "national-knight",
   "metadata": {},
   "outputs": [],
   "source": [
    "dataset = pd.read_csv('datasets/facebook_6000.csv')\n",
    "summarization = diversipy.subset.psa_select(dataset.to_numpy(), 1000)\n",
    "summarization_df = pd.DataFrame(data=summarization, columns=dataset.columns)"
   ]
  },
  {
   "cell_type": "code",
   "execution_count": 18,
   "id": "geographic-medicare",
   "metadata": {},
   "outputs": [],
   "source": [
    "# update config with the new number of rows\n",
    "with open('configs/facebook_6000.json') as f:\n",
    "    config = json.load(f)\n",
    "config['rows'] = summarization_df.shape[0]"
   ]
  },
  {
   "cell_type": "markdown",
   "id": "fluid-powell",
   "metadata": {},
   "source": [
    "## 3. A. Train a new model with the same best best hyperparameters"
   ]
  },
  {
   "cell_type": "code",
   "execution_count": 19,
   "id": "bridal-flood",
   "metadata": {},
   "outputs": [
    {
     "name": "stdout",
     "output_type": "stream",
     "text": [
      "session: job_khdaq\tcommand:\n",
      "/home/valeriy/Documents/workspace/valeriy42/ml-cpp/build/distribution/platform/linux-x86_64/bin/data_frame_analyzer --input /tmp/tmp_ep_idgj --config /tmp/tmp0rf7f0ty --output /tmp/tmp2we44l9f --persist model2.json\n"
     ]
    }
   ],
   "source": [
    "hyperparameters = get_hyperparameters(results)\n",
    "config['analysis']['parameters'] = { **config['analysis']['parameters'], **hyperparameters}\n",
    "\n",
    "fconfig = tempfile.NamedTemporaryFile(mode='wt')\n",
    "fdata = tempfile.NamedTemporaryFile(mode='wt')\n",
    "json.dump(config, fconfig)\n",
    "fconfig.file.close()\n",
    "summarization_df.to_csv(fdata, index=False)\n",
    "fdata.file.close()\n",
    "job = run_job(input=fdata.name, config=fconfig.name, persist=\"model2.json\")"
   ]
  },
  {
   "cell_type": "code",
   "execution_count": 20,
   "id": "inside-language",
   "metadata": {},
   "outputs": [
    {
     "data": {
      "text/html": [
       "<table><tr>\n",
       "                                                    <td width=\"50%\" style=\"text-align:center;\"><b>stderr</b></td>\n",
       "                                                    <td width=\"50%\" style=\"text-align:center;\"><b>output</b></td>\n",
       "                                                    </tr>\n",
       "                                                    <tr>\n",
       "                                                    <td width=\"50%\" style=\"text-align:left;\"><pre> /home/valeriy/Documents/workspace/valeriy42/ml-cpp/build/distribution/platform/linux-x86_64/bin/data_frame_analyzer --input /tmp/tmp_ep_idgj --config /tmp/tmp0rf7f0ty --output /tmp/tmp2we44l9f --persist model2.json\n",
       "(env) ✔ ~/Documents/workspace/valeriy42/ml-cpp/jupyter/notebooks [summarization-runs|✚ 3…10⚑ 3]\n",
       "13:35 $  /home/valeriy/Documents/workspace/valeriy42/ml-cpp/build/distribution/platform/linux-x86_64/bin/data_frame_analyzer --input /tmp/tmp_ep_idgj --config /tmp/tmp0rf7f0ty --output /tmp/tmp2we44l9f --persist model2.json\n",
       "2021-03-05 12:35:56,384421 UTC [27890] DEBUG Main.cc@141 data_frame_analyzer (64 bit): Version 8.0.0-SNAPSHOT (Build 93946a5deec802) Copyright (c) 2021 Elasticsearch BV\n",
       "2021-03-05 12:35:56,384579 UTC [27890] DEBUG CProcessPriority_Linux.cc@33 Successfully increased OOM killer adjustment via /proc/self/oom_score_adj\n",
       "2021-03-05 12:35:56,384609 UTC [27890] DEBUG CSystemCallFilter_Linux.cc@127 Seccomp BPF filters available\n",
       "2021-03-05 12:35:56,385725 UTC [27890] DEBUG CSystemCallFilter_Linux.cc@153 Seccomp BPF installed\n",
       "2021-03-05 12:35:56,395654 UTC [27890] DEBUG CDataFrameAnalyzer.cc@104 Received 1000 rows\n",
       "2021-03-05 12:36:29,564964 UTC [27890] INFO  CBoostedTreeImpl.cc@237 Exiting hyperparameter optimisation loop early\n",
       "2021-03-05 12:36:31,233772 UTC [27890] INFO  Main.cc@241 [{\"name\":\"E_DFTPMEstimatedPeakMemoryUsage\",\"description\":\"The upfront estimate of the peak memory training the predictive model would use\",\"value\":28459411}\n",
       ",{\"name\":\"E_DFTPMPeakMemoryUsage\",\"description\":\"The peak memory training the predictive model used\",\"value\":1112628}\n",
       ",{\"name\":\"E_DFTPMTimeToTrain\",\"description\":\"The time it took to train the predictive model\",\"value\":33925}\n",
       ",{\"name\":\"E_DFTPMTrainedForestNumberTrees\",\"description\":\"The total number of trees in the trained forest\",\"value\":172}\n",
       "]\n",
       "2021-03-05 12:36:31,233889 UTC [27890] DEBUG Main.cc@246 ML data frame analyzer exiting\n",
       "(env) ✔ ~/Documents/workspace/valeriy42/ml-cpp/jupyter/notebooks [summarization-runs|✚ 3…11⚑ 3]\n",
       "13:36 $</pre></td>\n",
       "                                                    <td width=\"50%\" style=\"text-align:left;\"><pre>,{\"phase_progress\":{\"phase\":\"feature_selection\",\"progress_percent\":100}}\n",
       ",{\"phase_progress\":{\"phase\":\"coarse_parameter_search\",\"progress_percent\":100}}\n",
       ",{\"phase_progress\":{\"phase\":\"fine_tuning_parameters\",\"progress_percent\":3}}\n",
       ",{\"phase_progress\":{\"phase\":\"fine_tuning_parameters\",\"progress_percent\":25}}\n",
       ",{\"phase_progress\":{\"phase\":\"fine_tuning_parameters\",\"progress_percent\":60}}\n",
       ",{\"phase_progress\":{\"phase\":\"fine_tuning_parameters\",\"progress_percent\":80}}\n",
       ",{\"phase_progress\":{\"phase\":\"fine_tuning_parameters\",\"progress_percent\":100}}\n",
       ",{\"phase_progress\":{\"phase\":\"final_training\",\"progress_percent\":85}}\n",
       ",{\"phase_progress\":{\"phase\":\"final_training\",\"progress_percent\":100}}\n",
       ",{\"phase_progress\":{\"phase\":\"final_training\",\"progress_percent\":100}}</pre></td>\n",
       "                                                    </tr>\n",
       "                                            </table>"
      ]
     },
     "metadata": {},
     "output_type": "display_data"
    }
   ],
   "source": [
    "results = wait_job_complete(job)"
   ]
  },
  {
   "cell_type": "code",
   "execution_count": 21,
   "id": "living-night",
   "metadata": {},
   "outputs": [
    {
     "name": "stdout",
     "output_type": "stream",
     "text": [
      "/bin/bash: warning: command substitution: ignored null byte in input\r\n"
     ]
    }
   ],
   "source": [
    "fconfig.close()\n",
    "fdata.close()\n",
    "\n",
    "# keep only the last checkpoint with the final model\n",
    "!echo \"$(tail -n 3 model2.json)\" > model2.json"
   ]
  },
  {
   "cell_type": "markdown",
   "id": "adjustable-rogers",
   "metadata": {},
   "source": [
    "## 3. B. Train a new model with new best hyperparameters"
   ]
  },
  {
   "cell_type": "code",
   "execution_count": 14,
   "id": "charitable-fraud",
   "metadata": {},
   "outputs": [
    {
     "name": "stdout",
     "output_type": "stream",
     "text": [
      "session: job_xbmzv\tcommand:\n",
      "/home/valeriy/Documents/workspace/valeriy42/ml-cpp/build/distribution/platform/linux-x86_64/bin/data_frame_analyzer --input /tmp/tmpteocz31h --config /tmp/tmp2od10o5o --output /tmp/tmp6q1fs68x --persist model2.json\n"
     ]
    }
   ],
   "source": [
    "fconfig = tempfile.NamedTemporaryFile(mode='wt')\n",
    "fdata = tempfile.NamedTemporaryFile(mode='wt')\n",
    "json.dump(config, fconfig)\n",
    "fconfig.file.close()\n",
    "summarization_df.to_csv(fdata, index=False)\n",
    "fdata.file.close()\n",
    "job = run_job(input=fdata.name, config=fconfig.name, persist=\"model2.json\")"
   ]
  },
  {
   "cell_type": "code",
   "execution_count": 15,
   "id": "julian-label",
   "metadata": {},
   "outputs": [
    {
     "data": {
      "text/html": [
       "<table><tr>\n",
       "                                                    <td width=\"50%\" style=\"text-align:center;\"><b>stderr</b></td>\n",
       "                                                    <td width=\"50%\" style=\"text-align:center;\"><b>output</b></td>\n",
       "                                                    </tr>\n",
       "                                                    <tr>\n",
       "                                                    <td width=\"50%\" style=\"text-align:left;\"><pre> /home/valeriy/Documents/workspace/valeriy42/ml-cpp/build/distribution/platform/linux-x86_64/bin/data_frame_analyzer --input /tmp/tmpteocz31h --config /tmp/tmp2od10o5o --output /tmp/tmp6q1fs68x --persist model2.json\n",
       "(env) ✔ ~/Documents/workspace/valeriy42/ml-cpp/jupyter/notebooks [jupyter-docker|✚ 1…6⚑ 3]\n",
       "13:02 $  /home/valeriy/Documents/workspace/valeriy42/ml-cpp/build/distribution/platform/linux-x86_64/bin/data_frame_analyzer --input /tmp/tmpteocz31h --config /tmp/tmp2od10o5o --output /tmp/tmp6q1fs68x --persist model2.json\n",
       "2021-02-24 12:02:36,363774 UTC [19273] DEBUG Main.cc@141 data_frame_analyzer (64 bit): Version based on 8.0.0-SNAPSHOT (Build DEVELOPMENT BUILD by valeriy) Copyright (c) 2021 Elasticsearch BV\n",
       "2021-02-24 12:02:36,363809 UTC [19273] DEBUG CProcessPriority_Linux.cc@33 Successfully increased OOM killer adjustment via /proc/self/oom_score_adj\n",
       "2021-02-24 12:02:36,363822 UTC [19273] DEBUG CSystemCallFilter_Linux.cc@127 Seccomp BPF filters available\n",
       "2021-02-24 12:02:36,364207 UTC [19273] DEBUG CSystemCallFilter_Linux.cc@153 Seccomp BPF installed\n",
       "2021-02-24 12:02:36,364345 UTC [19273] WARN  CBoostedTreeFactory.cc@1205 Minimum tree depth must be at least two\n",
       "2021-02-24 12:02:36,369719 UTC [19273] DEBUG CDataFrameAnalyzer.cc@104 Received 1000 rows\n",
       "2021-02-24 12:02:50,526065 UTC [19273] WARN  CBoostedTreeImpl.cc@245 Hyperparameter selection failed: exiting loop early\n",
       "2021-02-24 12:02:50,718087 UTC [19273] INFO  Main.cc@241 [{\"name\":\"E_DFTPMEstimatedPeakMemoryUsage\",\"description\":\"The upfront estimate of the peak memory training the predictive model would use\",\"value\":22227692}\n",
       ",{\"name\":\"E_DFTPMPeakMemoryUsage\",\"description\":\"The peak memory training the predictive model used\",\"value\":1338057}\n",
       ",{\"name\":\"E_DFTPMTimeToTrain\",\"description\":\"The time it took to train the predictive model\",\"value\":14196}\n",
       ",{\"name\":\"E_DFTPMTrainedForestNumberTrees\",\"description\":\"The total number of trees in the trained forest\",\"value\":23}\n",
       "]\n",
       "2021-02-24 12:02:50,718194 UTC [19273] DEBUG Main.cc@246 ML data frame analyzer exiting</pre></td>\n",
       "                                                    <td width=\"50%\" style=\"text-align:left;\"><pre>,{\"phase_progress\":{\"phase\":\"feature_selection\",\"progress_percent\":15}}\n",
       ",{\"phase_progress\":{\"phase\":\"feature_selection\",\"progress_percent\":30}}\n",
       ",{\"phase_progress\":{\"phase\":\"feature_selection\",\"progress_percent\":50}}\n",
       ",{\"phase_progress\":{\"phase\":\"feature_selection\",\"progress_percent\":75}}\n",
       ",{\"phase_progress\":{\"phase\":\"feature_selection\",\"progress_percent\":99}}\n",
       ",{\"phase_progress\":{\"phase\":\"feature_selection\",\"progress_percent\":100}}\n",
       ",{\"phase_progress\":{\"phase\":\"coarse_parameter_search\",\"progress_percent\":100}}\n",
       ",{\"phase_progress\":{\"phase\":\"fine_tuning_parameters\",\"progress_percent\":100}}\n",
       ",{\"phase_progress\":{\"phase\":\"final_training\",\"progress_percent\":100}}\n",
       ",{\"phase_progress\":{\"phase\":\"final_training\",\"progress_percent\":100}}</pre></td>\n",
       "                                                    </tr>\n",
       "                                            </table>"
      ]
     },
     "metadata": {},
     "output_type": "display_data"
    }
   ],
   "source": [
    "results = wait_job_complete(job)"
   ]
  },
  {
   "cell_type": "code",
   "execution_count": 16,
   "id": "existing-print",
   "metadata": {},
   "outputs": [
    {
     "name": "stdout",
     "output_type": "stream",
     "text": [
      "/bin/bash: warning: command substitution: ignored null byte in input\r\n"
     ]
    }
   ],
   "source": [
    "fconfig.close()\n",
    "fdata.close()\n",
    "\n",
    "# keep only the last checkpoint with the final model\n",
    "!echo \"$(tail -n 3 model2.json)\" > model2.json"
   ]
  },
  {
   "cell_type": "markdown",
   "id": "expanded-communist",
   "metadata": {},
   "source": [
    "## 4. A. Compare M1 and M2 on D1"
   ]
  },
  {
   "cell_type": "code",
   "execution_count": 17,
   "id": "single-memorabilia",
   "metadata": {},
   "outputs": [],
   "source": [
    "## removing targets is strictly speaking not necessary. This is just to show that we can evaluate on an \n",
    "## arbitrary new dataset\n",
    "df = pd.read_csv(\"datasets/facebook_6000.csv\")\n",
    "y_true = df['54']\n",
    "df['54'] = np.nan\n",
    "df.to_csv('datasets/facebook_6000_notarget.csv', index=False)"
   ]
  },
  {
   "cell_type": "code",
   "execution_count": 18,
   "id": "decent-negative",
   "metadata": {},
   "outputs": [
    {
     "name": "stdout",
     "output_type": "stream",
     "text": [
      "session: job_nzjey\tcommand:\n",
      "/home/valeriy/Documents/workspace/valeriy42/ml-cpp/build/distribution/platform/linux-x86_64/bin/data_frame_analyzer --input datasets/facebook_6000_notarget.csv --config configs/facebook_6000.json --output /tmp/tmpu_gde3_0 --restore model1.json\n"
     ]
    }
   ],
   "source": [
    "job = run_job(input=\"datasets/facebook_6000_notarget.csv\",\n",
    "             config=\"configs/facebook_6000.json\",\n",
    "             restore=\"model1.json\")"
   ]
  },
  {
   "cell_type": "code",
   "execution_count": 19,
   "id": "residential-angle",
   "metadata": {},
   "outputs": [
    {
     "data": {
      "text/html": [
       "<table><tr>\n",
       "                                                    <td width=\"50%\" style=\"text-align:center;\"><b>stderr</b></td>\n",
       "                                                    <td width=\"50%\" style=\"text-align:center;\"><b>output</b></td>\n",
       "                                                    </tr>\n",
       "                                                    <tr>\n",
       "                                                    <td width=\"50%\" style=\"text-align:left;\"><pre> /home/valeriy/Documents/workspace/valeriy42/ml-cpp/build/distribution/platform/linux-x86_64/bin/data_frame_analyzer --input datasets/facebook_6000_notarget.csv --config configs/facebook_6000.json --output /tmp/tmpu_gde3_0 --restore model1.json\n",
       "(env) ✔ ~/Documents/workspace/valeriy42/ml-cpp/jupyter/notebooks [jupyter-docker|✚ 1…6⚑ 3]\n",
       "13:02 $  /home/valeriy/Documents/workspace/valeriy42/ml-cpp/build/distribution/platform/linux-x86_64/bin/data_frame_analyzer --input datasets/facebook_6000_notarget.csv --config configs/facebook_6000.json --output /tmp/tmpu_gde3_0 --restore model1.json\n",
       "2021-02-24 12:02:51,943749 UTC [21437] DEBUG Main.cc@141 data_frame_analyzer (64 bit): Version based on 8.0.0-SNAPSHOT (Build DEVELOPMENT BUILD by valeriy) Copyright (c) 2021 Elasticsearch BV\n",
       "2021-02-24 12:02:51,943793 UTC [21437] DEBUG CProcessPriority_Linux.cc@33 Successfully increased OOM killer adjustment via /proc/self/oom_score_adj\n",
       "2021-02-24 12:02:51,943804 UTC [21437] DEBUG CSystemCallFilter_Linux.cc@127 Seccomp BPF filters available\n",
       "2021-02-24 12:02:51,944158 UTC [21437] DEBUG CSystemCallFilter_Linux.cc@153 Seccomp BPF installed\n",
       "2021-02-24 12:02:51,974707 UTC [21437] DEBUG CDataFrameAnalyzer.cc@104 Received 6000 rows\n",
       "2021-02-24 12:02:51,978857 UTC [21437] DEBUG CStateDecompressor.cc@168 Explicit end-of-stream marker found in document with index 1\n",
       "2021-02-24 12:02:52,110327 UTC [21437] WARN  CBoostedTreeImpl.cc@245 Hyperparameter selection failed: exiting loop early\n",
       "2021-02-24 12:02:52,269816 UTC [21437] INFO  Main.cc@241 [{\"name\":\"E_DFTPMEstimatedPeakMemoryUsage\",\"description\":\"The upfront estimate of the peak memory training the predictive model would use\",\"value\":44908909}\n",
       ",{\"name\":\"E_DFTPMPeakMemoryUsage\",\"description\":\"The peak memory training the predictive model used\",\"value\":2205978}\n",
       ",{\"name\":\"E_DFTPMTimeToTrain\",\"description\":\"The time it took to train the predictive model\",\"value\":148}\n",
       ",{\"name\":\"E_DFTPMTrainedForestNumberTrees\",\"description\":\"The total number of trees in the trained forest\",\"value\":65}\n",
       "]\n",
       "2021-02-24 12:02:52,269926 UTC [21437] DEBUG Main.cc@246 ML data frame analyzer exiting\n",
       "(env) ✔ ~/Documents/workspace/valeriy42/ml-cpp/jupyter/notebooks [jupyter-docker|✚ 1…6⚑ 3]\n",
       "13:02 $</pre></td>\n",
       "                                                    <td width=\"50%\" style=\"text-align:left;\"><pre>,{\"phase_progress\":{\"phase\":\"feature_selection\",\"progress_percent\":100}}\n",
       ",{\"phase_progress\":{\"phase\":\"coarse_parameter_search\",\"progress_percent\":100}}\n",
       ",{\"phase_progress\":{\"phase\":\"fine_tuning_parameters\",\"progress_percent\":38}}\n",
       ",{\"phase_progress\":{\"phase\":\"fine_tuning_parameters\",\"progress_percent\":41}}\n",
       ",{\"phase_progress\":{\"phase\":\"fine_tuning_parameters\",\"progress_percent\":43}}\n",
       ",{\"phase_progress\":{\"phase\":\"fine_tuning_parameters\",\"progress_percent\":100}}\n",
       ",{\"phase_progress\":{\"phase\":\"final_training\",\"progress_percent\":100}}\n",
       ",{\"phase_progress\":{\"phase\":\"final_training\",\"progress_percent\":100}}</pre></td>\n",
       "                                                    </tr>\n",
       "                                            </table>"
      ]
     },
     "metadata": {},
     "output_type": "display_data"
    }
   ],
   "source": [
    "evaluate_m1_results = wait_job_complete(job)"
   ]
  },
  {
   "cell_type": "code",
   "execution_count": 20,
   "id": "novel-brother",
   "metadata": {},
   "outputs": [],
   "source": [
    "m1_d1_predictions = get_predictions(evaluate_m1_results)"
   ]
  },
  {
   "cell_type": "code",
   "execution_count": 26,
   "id": "neural-lancaster",
   "metadata": {},
   "outputs": [
    {
     "name": "stdout",
     "output_type": "stream",
     "text": [
      "session: job_jjokq\tcommand:\n",
      "/home/valeriy/Documents/workspace/valeriy42/ml-cpp/build/distribution/platform/linux-x86_64/bin/data_frame_analyzer --input datasets/facebook_6000_notarget.csv --config configs/facebook_6000.json --output /tmp/tmp4_stn3vb --restore model2.json\n"
     ]
    }
   ],
   "source": [
    "job = run_job(input=\"datasets/facebook_6000_notarget.csv\",\n",
    "             config=\"configs/facebook_6000.json\",\n",
    "             restore=\"model2.json\")"
   ]
  },
  {
   "cell_type": "code",
   "execution_count": 27,
   "id": "coordinate-maryland",
   "metadata": {},
   "outputs": [
    {
     "data": {
      "text/html": [
       "<table><tr>\n",
       "                                                    <td width=\"50%\" style=\"text-align:center;\"><b>stderr</b></td>\n",
       "                                                    <td width=\"50%\" style=\"text-align:center;\"><b>output</b></td>\n",
       "                                                    </tr>\n",
       "                                                    <tr>\n",
       "                                                    <td width=\"50%\" style=\"text-align:left;\"><pre> /home/valeriy/Documents/workspace/valeriy42/ml-cpp/build/distribution/platform/linux-x86_64/bin/data_frame_analyzer --input datasets/facebook_6000_notarget.csv --config configs/facebook_6000.json --output /tmp/tmp4_stn3vb --restore model2.json\n",
       "(env) ✔ ~/Documents/workspace/valeriy42/ml-cpp/jupyter/notebooks [summarization-runs|✚ 4…11⚑ 3]\n",
       "14:30 $  /home/valeriy/Documents/workspace/valeriy42/ml-cpp/build/distribution/platform/linux-x86_64/bin/data_frame_analyzer --input datasets/facebook_6000_notarget.csv --config configs/facebook_6000.json --output /tmp/tmp4_stn3vb --restore model2.json\n",
       "2021-03-05 13:30:38,924120 UTC [2918] DEBUG Main.cc@141 data_frame_analyzer (64 bit): Version based on 8.0.0-SNAPSHOT (Build DEVELOPMENT BUILD by valeriy) Copyright (c) 2021 Elasticsearch BV\n",
       "2021-03-05 13:30:38,924185 UTC [2918] DEBUG CProcessPriority_Linux.cc@33 Successfully increased OOM killer adjustment via /proc/self/oom_score_adj\n",
       "2021-03-05 13:30:38,924201 UTC [2918] DEBUG CSystemCallFilter_Linux.cc@127 Seccomp BPF filters available\n",
       "2021-03-05 13:30:38,924872 UTC [2918] DEBUG CSystemCallFilter_Linux.cc@153 Seccomp BPF installed\n",
       "2021-03-05 13:30:38,971622 UTC [2918] DEBUG CDataFrameAnalyzer.cc@104 Received 6000 rows\n",
       "2021-03-05 13:30:38,979718 UTC [2918] DEBUG CStateDecompressor.cc@168 Explicit end-of-stream marker found in document with index 1\n",
       "2021-03-05 13:30:39,104109 UTC [2918] INFO  CBoostedTreeImpl.cc@237 Exiting hyperparameter optimisation loop early\n",
       "2021-03-05 13:30:39,250632 UTC [2918] INFO  Main.cc@241 [{\"name\":\"E_DFTPMEstimatedPeakMemoryUsage\",\"description\":\"The upfront estimate of the peak memory training the predictive model would use\",\"value\":44908914}\n",
       ",{\"name\":\"E_DFTPMPeakMemoryUsage\",\"description\":\"The peak memory training the predictive model used\",\"value\":1982586}\n",
       ",{\"name\":\"E_DFTPMTimeToTrain\",\"description\":\"The time it took to train the predictive model\",\"value\":208}\n",
       ",{\"name\":\"E_DFTPMTrainedForestNumberTrees\",\"description\":\"The total number of trees in the trained forest\",\"value\":172}\n",
       "]\n",
       "2021-03-05 13:30:39,250681 UTC [2918] DEBUG Main.cc@246 ML data frame analyzer exiting\n",
       "(env) ✔ ~/Documents/workspace/valeriy42/ml-cpp/jupyter/notebooks [summarization-runs|✚ 4…11⚑ 3]\n",
       "14:30 $</pre></td>\n",
       "                                                    <td width=\"50%\" style=\"text-align:left;\"><pre>,{\"phase_progress\":{\"phase\":\"feature_selection\",\"progress_percent\":100}}\n",
       ",{\"phase_progress\":{\"phase\":\"coarse_parameter_search\",\"progress_percent\":100}}\n",
       ",{\"phase_progress\":{\"phase\":\"fine_tuning_parameters\",\"progress_percent\":0}}\n",
       ",{\"phase_progress\":{\"phase\":\"fine_tuning_parameters\",\"progress_percent\":19}}\n",
       ",{\"phase_progress\":{\"phase\":\"fine_tuning_parameters\",\"progress_percent\":39}}\n",
       ",{\"phase_progress\":{\"phase\":\"fine_tuning_parameters\",\"progress_percent\":79}}\n",
       ",{\"phase_progress\":{\"phase\":\"fine_tuning_parameters\",\"progress_percent\":100}}\n",
       ",{\"phase_progress\":{\"phase\":\"final_training\",\"progress_percent\":100}}\n",
       ",{\"phase_progress\":{\"phase\":\"final_training\",\"progress_percent\":100}}</pre></td>\n",
       "                                                    </tr>\n",
       "                                            </table>"
      ]
     },
     "metadata": {},
     "output_type": "display_data"
    }
   ],
   "source": [
    "evaluate_m2_results = wait_job_complete(job)"
   ]
  },
  {
   "cell_type": "code",
   "execution_count": 23,
   "id": "confused-liberal",
   "metadata": {},
   "outputs": [],
   "source": [
    "m2_d1_predictions = get_predictions(evaluate_m2_results)"
   ]
  },
  {
   "cell_type": "code",
   "execution_count": 24,
   "id": "whole-commitment",
   "metadata": {},
   "outputs": [],
   "source": [
    "def compute_metrics(ytrue, m1pred, m2pred):\n",
    "    m1_mae = mean_absolute_error(ytrue, m1pred)\n",
    "    m1_mse = mean_squared_error(ytrue, m1pred)\n",
    "    m2_mae = mean_absolute_error(ytrue, m2pred)\n",
    "    m2_mse = mean_squared_error(ytrue, m2pred)\n",
    "    print(\"M1: MAE: {}\\tMSE:{}\".format(m1_mae, m1_mse))\n",
    "    print(\"M2: MAE: {}\\tMSE:{}\".format(m2_mae, m2_mse))\n",
    "    ax = sns.scatterplot(x=m1pred, y=m2pred)\n",
    "    plt.xlabel('M1 predictions')\n",
    "    plt.ylabel('M2 predictions')"
   ]
  },
  {
   "cell_type": "code",
   "execution_count": 25,
   "id": "cosmetic-fancy",
   "metadata": {},
   "outputs": [
    {
     "name": "stdout",
     "output_type": "stream",
     "text": [
      "M1: MAE: 3.4217911224892985\tMSE:115.9036311437287\n",
      "M2: MAE: 4.4619627041021985\tMSE:201.30564997497368\n"
     ]
    },
    {
     "data": {
      "image/png": "[encoded data removed]",
      "text/plain": [
       "<Figure size 432x288 with 1 Axes>"
      ]
     },
     "metadata": {
      "needs_background": "light"
     },
     "output_type": "display_data"
    }
   ],
   "source": [
    "compute_metrics(y_true, m1_d1_predictions, m2_d1_predictions)"
   ]
  }
 ],
 "metadata": {
  "kernelspec": {
   "display_name": "Python 3",
   "language": "python",
   "name": "python3"
  },
  "language_info": {
   "codemirror_mode": {
    "name": "ipython",
    "version": 3
   },
   "file_extension": ".py",
   "mimetype": "text/x-python",
   "name": "python",
   "nbconvert_exporter": "python",
   "pygments_lexer": "ipython3",
   "version": "3.6.9"
  }
 },
 "nbformat": 4,
 "nbformat_minor": 5
}