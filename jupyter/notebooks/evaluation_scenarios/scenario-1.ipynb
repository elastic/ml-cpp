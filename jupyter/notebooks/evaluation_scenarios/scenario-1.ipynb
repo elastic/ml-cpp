{
 "cells": [
  {
   "cell_type": "code",
   "execution_count": null,
   "id": "078811ad",
   "metadata": {},
   "outputs": [],
   "source": [
    "# Copyright Elasticsearch B.V. and/or licensed to Elasticsearch B.V. under one\n",
    "# or more contributor license agreements. Licensed under the Elastic License;\n",
    "# you may not use this file except in compliance with the Elastic License."
   ]
  },
  {
   "cell_type": "markdown",
   "id": "indie-proxy",
   "metadata": {},
   "source": [
    "# Scenario 1: Data summarization\n",
    "\n",
    "1. Train model (M1) on the complete dataset (D1)\n",
    "\n",
    "2. Generate a summarization dataset using some technique (D2)\n",
    "\n",
    "3. Train a new model (M2) on D2\n",
    "    1. Use the same best hyperparameters as for M1   \n",
    "    2. **Identify a new set of best hyperparameters**\n",
    "    \n",
    "4. Compare M1 and M2\n",
    "    1. Evaluation M1 and M2 on the complete dataset D1.\n",
    "    2. Evaluate M1 and M2 on a grid and compute divergence\n",
    "    3. Compare feature importance vectors for individual data points from M1 and M2 (should be very similar)\n",
    "    4. Compare errors on the test dataset (D3)\n",
    "\n",
    "**Notes:**\n",
    "- We assume that generation of a summarization dataset is implemented. It can be written in Python for prototyping.\n",
    "- 4 can be done with an inference pipeline and eland\n",
    "- We need a simple way to query a model using inference pipeline (e.g. Python wrapper?)\n",
    "- Evaluations can also be done with sklearn?\n",
    "- What is the minimum amount of data we can get away with?\n"
   ]
  },
  {
   "cell_type": "code",
   "execution_count": 1,
   "id": "dental-morocco",
   "metadata": {},
   "outputs": [],
   "source": [
    "%load_ext autoreload\n",
    "%autoreload 2\n",
    "%config Completer.use_jedi = False\n",
    "import json\n",
    "import tempfile\n",
    "import platform\n",
    "import time\n",
    "import string\n",
    "import random\n",
    "\n",
    "import pandas as pd\n",
    "import numpy as np\n",
    "import diversipy\n",
    "import libtmux \n",
    "\n",
    "from IPython import display\n",
    "import seaborn as sns\n",
    "import matplotlib.pyplot as plt\n",
    "from sklearn.metrics import max_error, mean_absolute_error, mean_squared_error\n",
    "\n",
    "import sys\n",
    "sys.path.append('..')\n",
    "from utils.misc import *"
   ]
  },
  {
   "cell_type": "markdown",
   "id": "presidential-sport",
   "metadata": {},
   "source": [
    "## 1. Train model (M1) on the complete dataset (D1)"
   ]
  },
  {
   "cell_type": "code",
   "execution_count": 2,
   "id": "promotional-taylor",
   "metadata": {},
   "outputs": [
    {
     "name": "stdout",
     "output_type": "stream",
     "text": [
      "session: job_duajg\tcommand:\n",
      "/home/valeriy/Documents/workspace/valeriy42/ml-cpp/build/distribution/platform/linux-x86_64/bin/data_frame_analyzer --input /tmp/tmpw36tk6mr --config /tmp/tmp_rp4t2vd --output /tmp/tmpoqwhrd94 --persist /tmp/tmprlxp5_av\n"
     ]
    }
   ],
   "source": [
    "dataset_name = 'facebook_6000'\n",
    "D1 = pd.read_csv('../datasets/{}.csv'.format(dataset_name))\n",
    "D1.drop_duplicates(inplace=True)\n",
    "\n",
    "job1 = train(dataset_name, D1)"
   ]
  },
  {
   "cell_type": "code",
   "execution_count": 3,
   "id": "motivated-medium",
   "metadata": {
    "scrolled": false
   },
   "outputs": [
    {
     "data": {
      "text/html": [
       "<table><tr>\n",
       "                                                            <td width=\"50%\" style=\"text-align:center;\"><b>stderr</b></td>\n",
       "                                                            <td width=\"50%\" style=\"text-align:center;\"><b>output</b></td>\n",
       "                                                            </tr>\n",
       "                                                            <tr>\n",
       "                                                            <td width=\"50%\" style=\"text-align:left;\"><pre> /home/valeriy/Documents/workspace/valeriy42/ml-cpp/build/distribution/platform/linux-x86_64/bin/data_frame_analyzer --input /tmp/tmpw36tk6mr --config /tmp/tmp_rp4t2vd --output /tmp/tmpoqwhrd94 --persist /tmp/tmprlxp5_av\n",
       "(env) ✔ ~/Documents/workspace/valeriy42/ml-cpp/jupyter/notebooks/evaluation_scenarios [feature/incremental-learning L|✚ 6…4⚑ 3]\n",
       "12:59 $  /home/valeriy/Documents/workspace/valeriy42/ml-cpp/build/distribution/platform/linux-x86_64/bin/data_frame_analyzer --input /tmp/tmpw36tk6mr --config /tmp/tmp_rp4t2vd --output /tmp/tmpoqwhrd94 --persist /tmp/tmprlxp5_av\n",
       "2021-04-21 10:59:03,276760 UTC [23584] DEBUG Main.cc@141 data_frame_analyzer (64 bit): Version based on 8.0.0-SNAPSHOT (Build DEVELOPMENT BUILD by valeriy) Copyright (c) 2021 Elasticsearch BV\n",
       "2021-04-21 10:59:03,276836 UTC [23584] DEBUG CProcessPriority_Linux.cc@33 Successfully increased OOM killer adjustment via /proc/self/oom_score_adj\n",
       "2021-04-21 10:59:03,276853 UTC [23584] DEBUG CSystemCallFilter_Linux.cc@128 Seccomp BPF filters available\n",
       "2021-04-21 10:59:03,277683 UTC [23584] DEBUG CSystemCallFilter_Linux.cc@154 Seccomp BPF installed\n",
       "2021-04-21 10:59:03,310552 UTC [23584] DEBUG CDataFrameAnalyzer.cc@104 Received 6000 rows\n",
       "2021-04-21 11:00:46,071074 UTC [23584] INFO  CBoostedTreeImpl.cc@240 Exiting hyperparameter optimisation loop early\n",
       "2021-04-21 11:00:48,865185 UTC [23584] INFO  Main.cc@241 [{\"name\":\"E_DFTPMEstimatedPeakMemoryUsage\",\"description\":\"The upfront estimate of the peak memory training the predictive model would use\",\"value\":44908920}\n",
       ",{\"name\":\"E_DFTPMPeakMemoryUsage\",\"description\":\"The peak memory training the predictive model used\",\"value\":41530154}\n",
       ",{\"name\":\"E_DFTPMTimeToTrain\",\"description\":\"The time it took to train the predictive model\",\"value\":105440}\n",
       ",{\"name\":\"E_DFTPMTrainedForestNumberTrees\",\"description\":\"The total number of trees in the trained forest\",\"value\":255}\n",
       "]\n",
       "2021-04-21 11:00:48,865222 UTC [23584] DEBUG Main.cc@246 ML data frame analyzer exiting\n",
       "(env) ✔ ~/Documents/workspace/valeriy42/ml-cpp/jupyter/notebooks/evaluation_scenarios [feature/incremental-learning L|✚ 6…4⚑ 3]\n",
       "13:00 $</pre></td>\n",
       "                                                            <td width=\"50%\" style=\"text-align:left;\"><pre>,{\"row_results\":{\"checksum\":0,\"results\":{\"ml\":{\"54_prediction\":8.999732971191407\n",
       ",{\"row_results\":{\"checksum\":0,\"results\":{\"ml\":{\"54_prediction\":0.140919104218482\n",
       ",{\"row_results\":{\"checksum\":0,\"results\":{\"ml\":{\"54_prediction\":0.501881897449493\n",
       ",{\"row_results\":{\"checksum\":0,\"results\":{\"ml\":{\"54_prediction\":4.251486301422119\n",
       ",{\"row_results\":{\"checksum\":0,\"results\":{\"ml\":{\"54_prediction\":0.005191836971789\n",
       ",{\"row_results\":{\"checksum\":0,\"results\":{\"ml\":{\"54_prediction\":6.201380729675293\n",
       ",{\"row_results\":{\"checksum\":0,\"results\":{\"ml\":{\"54_prediction\":0.224700644612312\n",
       ",{\"model_metadata\":{\"total_feature_importance\":[],\"hyperparameters\":[{\"name\":\"do\n",
       ",{\"compressed_data_summarization\":{\"doc_num\":0,\"data_summarization\":\"H4sIAAAAAAA\n",
       "]</pre></td>\n",
       "                                                            </tr>\n",
       "                                                    </table>"
      ]
     },
     "metadata": {},
     "output_type": "display_data"
    },
    {
     "name": "stdout",
     "output_type": "stream",
     "text": [
      " /home/valeriy/Documents/workspace/valeriy42/ml-cpp/build/distribution/platform/linux-x86_64/bin/data_frame_analyzer --input /tmp/tmpw36tk6mr --config /tmp/tmp_rp4t2vd --output /tmp/tmpoqwhrd94 --persist /tmp/tmprlxp5_av\n",
      "(env) ✔ ~/Documents/workspace/valeriy42/ml-cpp/jupyter/notebooks/evaluation_scenarios [feature/incremental-learning L|✚ 6…4⚑ 3]\n",
      "12:59 $  /home/valeriy/Documents/workspace/valeriy42/ml-cpp/build/distribution/platform/linux-x86_64/bin/data_frame_analyzer --input /tmp/tmpw36tk6mr --config /tmp/tmp_rp4t2vd --output /tmp/tmpoqwhrd94 --persist /tmp/tmprlxp5_av\n",
      "2021-04-21 10:59:03,276760 UTC [23584] DEBUG Main.cc@141 data_frame_analyzer (64 bit): Version based on 8.0.0-SNAPSHOT (Build DEVELOPMENT BUILD by valeriy) Copyright (c) 2021 Elasticsearch BV\n",
      "2021-04-21 10:59:03,276836 UTC [23584] DEBUG CProcessPriority_Linux.cc@33 Successfully increased OOM killer adjustment via /proc/self/oom_score_adj\n",
      "2021-04-21 10:59:03,276853 UTC [23584] DEBUG CSystemCallFilter_Linux.cc@128 Seccomp BPF filters available\n",
      "2021-04-21 10:59:03,277683 UTC [23584] DEBUG CSystemCallFilter_Linux.cc@154 Seccomp BPF installed\n",
      "2021-04-21 10:59:03,310552 UTC [23584] DEBUG CDataFrameAnalyzer.cc@104 Received 6000 rows\n",
      "2021-04-21 11:00:46,071074 UTC [23584] INFO  CBoostedTreeImpl.cc@240 Exiting hyperparameter optimisation loop early\n",
      "2021-04-21 11:00:48,865185 UTC [23584] INFO  Main.cc@241 [{\"name\":\"E_DFTPMEstimatedPeakMemoryUsage\",\"description\":\"The upfront estimate of the peak memory training the predictive model would use\",\"value\":44908920}\n",
      ",{\"name\":\"E_DFTPMPeakMemoryUsage\",\"description\":\"The peak memory training the predictive model used\",\"value\":41530154}\n",
      ",{\"name\":\"E_DFTPMTimeToTrain\",\"description\":\"The time it took to train the predictive model\",\"value\":105440}\n",
      ",{\"name\":\"E_DFTPMTrainedForestNumberTrees\",\"description\":\"The total number of trees in the trained forest\",\"value\":255}\n",
      "]\n",
      "2021-04-21 11:00:48,865222 UTC [23584] DEBUG Main.cc@246 ML data frame analyzer exiting\n",
      "(env) ✔ ~/Documents/workspace/valeriy42/ml-cpp/jupyter/notebooks/evaluation_scenarios [feature/incremental-learning L|✚ 6…4⚑ 3]\n",
      "13:00 $\n",
      "Job succeeded\n"
     ]
    },
    {
     "data": {
      "text/plain": [
       "True"
      ]
     },
     "execution_count": 3,
     "metadata": {},
     "output_type": "execute_result"
    }
   ],
   "source": [
    "job1.wait_to_complete()"
   ]
  },
  {
   "cell_type": "markdown",
   "id": "medieval-board",
   "metadata": {},
   "source": [
    "## 2. Generate a sumarization dataset"
   ]
  },
  {
   "cell_type": "code",
   "execution_count": 4,
   "id": "national-knight",
   "metadata": {},
   "outputs": [],
   "source": [
    "sampling_method = 'random'\n",
    "D2 = summarize(dataset_name=dataset_name, dataset=D1,\n",
    "              size=0.25, model_definition=job1.get_model_definition(), \n",
    "              method=sampling_method, verbose=False, \n",
    "              dependent_variable=job1.dependent_variable)"
   ]
  },
  {
   "cell_type": "markdown",
   "id": "fluid-powell",
   "metadata": {},
   "source": [
    "## 3. A. Train a new model with the same best best hyperparameters"
   ]
  },
  {
   "cell_type": "code",
   "execution_count": 5,
   "id": "bridal-flood",
   "metadata": {},
   "outputs": [
    {
     "data": {
      "text/html": [
       "<table><tr>\n",
       "                                                            <td width=\"50%\" style=\"text-align:center;\"><b>stderr</b></td>\n",
       "                                                            <td width=\"50%\" style=\"text-align:center;\"><b>output</b></td>\n",
       "                                                            </tr>\n",
       "                                                            <tr>\n",
       "                                                            <td width=\"50%\" style=\"text-align:left;\"><pre> /home/valeriy/Documents/workspace/valeriy42/ml-cpp/build/distribution/platform/linux-x86_64/bin/data_frame_analyzer --input /tmp/tmpm_kat7j5 --config /tmp/tmpfid63qs_ --output /tmp/tmpspypjc8c --persist /tmp/tmpwsdubizi\n",
       "(env) ✔ ~/Documents/workspace/valeriy42/ml-cpp/jupyter/notebooks/evaluation_scenarios [feature/incremental-learning L|✚ 6…4⚑ 3]\n",
       "13:04 $  /home/valeriy/Documents/workspace/valeriy42/ml-cpp/build/distribution/platform/linux-x86_64/bin/data_frame_analyzer --input /tmp/tmpm_kat7j5 --config /tmp/tmpfid63qs_ --output /tmp/tmpspypjc8c --persist /tmp/tmpwsdubizi\n",
       "2021-04-21 11:04:22,377843 UTC [16324] DEBUG Main.cc@141 data_frame_analyzer (64 bit): Version based on 8.0.0-SNAPSHOT (Build DEVELOPMENT BUILD by valeriy) Copyright (c) 2021 Elasticsearch BV\n",
       "2021-04-21 11:04:22,377923 UTC [16324] DEBUG CProcessPriority_Linux.cc@33 Successfully increased OOM killer adjustment via /proc/self/oom_score_adj\n",
       "2021-04-21 11:04:22,377936 UTC [16324] DEBUG CSystemCallFilter_Linux.cc@128 Seccomp BPF filters available\n",
       "2021-04-21 11:04:22,379466 UTC [16324] DEBUG CSystemCallFilter_Linux.cc@154 Seccomp BPF installed\n",
       "2021-04-21 11:04:22,387888 UTC [16324] DEBUG CDataFrameAnalyzer.cc@104 Received 1500 rows\n",
       "2021-04-21 11:05:00,028969 UTC [16324] INFO  CBoostedTreeImpl.cc@240 Exiting hyperparameter optimisation loop early\n",
       "2021-04-21 11:05:00,290295 UTC [16324] INFO  Main.cc@241 [{\"name\":\"E_DFTPMEstimatedPeakMemoryUsage\",\"description\":\"The upfront estimate of the peak memory training the predictive model would use\",\"value\":25849781}\n",
       ",{\"name\":\"E_DFTPMPeakMemoryUsage\",\"description\":\"The peak memory training the predictive model used\",\"value\":7919095}\n",
       ",{\"name\":\"E_DFTPMTimeToTrain\",\"description\":\"The time it took to train the predictive model\",\"value\":37789}\n",
       ",{\"name\":\"E_DFTPMTrainedForestNumberTrees\",\"description\":\"The total number of trees in the trained forest\",\"value\":86}\n",
       "]\n",
       "2021-04-21 11:05:00,290330 UTC [16324] DEBUG Main.cc@246 ML data frame analyzer exiting\n",
       "(env) ✔ ~/Documents/workspace/valeriy42/ml-cpp/jupyter/notebooks/evaluation_scenarios [feature/incremental-learning L|✚ 6…4⚑ 3]\n",
       "13:05 $</pre></td>\n",
       "                                                            <td width=\"50%\" style=\"text-align:left;\"><pre>,{\"row_results\":{\"checksum\":0,\"results\":{\"ml\":{\"54_prediction\":124.1134567260742\n",
       ",{\"row_results\":{\"checksum\":0,\"results\":{\"ml\":{\"54_prediction\":1.505854725837707\n",
       ",{\"row_results\":{\"checksum\":0,\"results\":{\"ml\":{\"54_prediction\":2.995656013488769\n",
       ",{\"row_results\":{\"checksum\":0,\"results\":{\"ml\":{\"54_prediction\":12.00612449645996\n",
       ",{\"row_results\":{\"checksum\":0,\"results\":{\"ml\":{\"54_prediction\":1.447953820228576\n",
       ",{\"row_results\":{\"checksum\":0,\"results\":{\"ml\":{\"54_prediction\":14.12492275238037\n",
       ",{\"row_results\":{\"checksum\":0,\"results\":{\"ml\":{\"54_prediction\":0.421843171119689\n",
       ",{\"model_metadata\":{\"total_feature_importance\":[],\"hyperparameters\":[{\"name\":\"do\n",
       ",{\"compressed_data_summarization\":{\"doc_num\":0,\"data_summarization\":\"H4sIAAAAAAA\n",
       "]</pre></td>\n",
       "                                                            </tr>\n",
       "                                                    </table>"
      ]
     },
     "metadata": {},
     "output_type": "display_data"
    },
    {
     "name": "stdout",
     "output_type": "stream",
     "text": [
      " /home/valeriy/Documents/workspace/valeriy42/ml-cpp/build/distribution/platform/linux-x86_64/bin/data_frame_analyzer --input /tmp/tmpm_kat7j5 --config /tmp/tmpfid63qs_ --output /tmp/tmpspypjc8c --persist /tmp/tmpwsdubizi\n",
      "(env) ✔ ~/Documents/workspace/valeriy42/ml-cpp/jupyter/notebooks/evaluation_scenarios [feature/incremental-learning L|✚ 6…4⚑ 3]\n",
      "13:04 $  /home/valeriy/Documents/workspace/valeriy42/ml-cpp/build/distribution/platform/linux-x86_64/bin/data_frame_analyzer --input /tmp/tmpm_kat7j5 --config /tmp/tmpfid63qs_ --output /tmp/tmpspypjc8c --persist /tmp/tmpwsdubizi\n",
      "2021-04-21 11:04:22,377843 UTC [16324] DEBUG Main.cc@141 data_frame_analyzer (64 bit): Version based on 8.0.0-SNAPSHOT (Build DEVELOPMENT BUILD by valeriy) Copyright (c) 2021 Elasticsearch BV\n",
      "2021-04-21 11:04:22,377923 UTC [16324] DEBUG CProcessPriority_Linux.cc@33 Successfully increased OOM killer adjustment via /proc/self/oom_score_adj\n",
      "2021-04-21 11:04:22,377936 UTC [16324] DEBUG CSystemCallFilter_Linux.cc@128 Seccomp BPF filters available\n",
      "2021-04-21 11:04:22,379466 UTC [16324] DEBUG CSystemCallFilter_Linux.cc@154 Seccomp BPF installed\n",
      "2021-04-21 11:04:22,387888 UTC [16324] DEBUG CDataFrameAnalyzer.cc@104 Received 1500 rows\n",
      "2021-04-21 11:05:00,028969 UTC [16324] INFO  CBoostedTreeImpl.cc@240 Exiting hyperparameter optimisation loop early\n",
      "2021-04-21 11:05:00,290295 UTC [16324] INFO  Main.cc@241 [{\"name\":\"E_DFTPMEstimatedPeakMemoryUsage\",\"description\":\"The upfront estimate of the peak memory training the predictive model would use\",\"value\":25849781}\n",
      ",{\"name\":\"E_DFTPMPeakMemoryUsage\",\"description\":\"The peak memory training the predictive model used\",\"value\":7919095}\n",
      ",{\"name\":\"E_DFTPMTimeToTrain\",\"description\":\"The time it took to train the predictive model\",\"value\":37789}\n",
      ",{\"name\":\"E_DFTPMTrainedForestNumberTrees\",\"description\":\"The total number of trees in the trained forest\",\"value\":86}\n",
      "]\n",
      "2021-04-21 11:05:00,290330 UTC [16324] DEBUG Main.cc@246 ML data frame analyzer exiting\n",
      "(env) ✔ ~/Documents/workspace/valeriy42/ml-cpp/jupyter/notebooks/evaluation_scenarios [feature/incremental-learning L|✚ 6…4⚑ 3]\n",
      "13:05 $\n",
      "Job succeeded\n"
     ]
    },
    {
     "data": {
      "text/plain": [
       "True"
      ]
     },
     "execution_count": 5,
     "metadata": {},
     "output_type": "execute_result"
    }
   ],
   "source": [
    "# TODO I need to inject hyperparameters here\n",
    "job2 = train(dataset_name, D2)\n",
    "job2.wait_to_complete()"
   ]
  },
  {
   "cell_type": "markdown",
   "id": "adjustable-rogers",
   "metadata": {},
   "source": [
    "## 3. B. Train a new model with new best hyperparameters"
   ]
  },
  {
   "cell_type": "code",
   "execution_count": 14,
   "id": "charitable-fraud",
   "metadata": {},
   "outputs": [
    {
     "name": "stdout",
     "output_type": "stream",
     "text": [
      "session: job_xbmzv\tcommand:\n",
      "/home/valeriy/Documents/workspace/valeriy42/ml-cpp/build/distribution/platform/linux-x86_64/bin/data_frame_analyzer --input /tmp/tmpteocz31h --config /tmp/tmp2od10o5o --output /tmp/tmp6q1fs68x --persist model2.json\n"
     ]
    }
   ],
   "source": [
    "job2 = train(dataset_name, D2)\n",
    "job2.wait_to_complete()"
   ]
  },
  {
   "cell_type": "markdown",
   "id": "expanded-communist",
   "metadata": {},
   "source": [
    "## 4. A. Compare M1 and M2 on D1"
   ]
  },
  {
   "cell_type": "code",
   "execution_count": 7,
   "id": "eb706e87",
   "metadata": {},
   "outputs": [],
   "source": [
    "y_true = D1[job1.dependent_variable]\n",
    "y_M1 = job1.get_predictions()\n",
    "eval_job = evaluate(dataset_name=dataset_name,\n",
    "                            dataset=D1, model=job2.model, verbose=False)\n",
    "success = eval_job.wait_to_complete()\n",
    "if not success:\n",
    "    print('Evaluation failed')\n",
    "y_M2 = eval_job.get_predictions()"
   ]
  },
  {
   "cell_type": "code",
   "execution_count": 8,
   "id": "whole-commitment",
   "metadata": {},
   "outputs": [],
   "source": [
    "def compute_metrics(ytrue, m1pred, m2pred):\n",
    "    m1_mae = mean_absolute_error(ytrue, m1pred)\n",
    "    m1_mse = mean_squared_error(ytrue, m1pred)\n",
    "    m2_mae = mean_absolute_error(ytrue, m2pred)\n",
    "    m2_mse = mean_squared_error(ytrue, m2pred)\n",
    "    print(\"M1: MAE: {}\\tMSE:{}\".format(m1_mae, m1_mse))\n",
    "    print(\"M2: MAE: {}\\tMSE:{}\".format(m2_mae, m2_mse))\n",
    "    ax = sns.scatterplot(x=m1pred, y=m2pred)\n",
    "    plt.xlabel('M1 predictions')\n",
    "    plt.ylabel('M2 predictions')"
   ]
  },
  {
   "cell_type": "code",
   "execution_count": 9,
   "id": "cosmetic-fancy",
   "metadata": {},
   "outputs": [
    {
     "name": "stdout",
     "output_type": "stream",
     "text": [
      "M1: MAE: 2.9948999743493427\tMSE:81.21282728062585\n",
      "M2: MAE: 4.747365797487398\tMSE:468.8721068394406\n"
     ]
    },
    {
     "data": {
      "image/png": "[encoded data removed]",
      "text/plain": [
       "<Figure size 432x288 with 1 Axes>"
      ]
     },
     "metadata": {
      "needs_background": "light"
     },
     "output_type": "display_data"
    }
   ],
   "source": [
    "compute_metrics(y_true, y_M1, y_M2)"
   ]
  },
  {
   "cell_type": "code",
   "execution_count": null,
   "id": "1161f6a9",
   "metadata": {},
   "outputs": [],
   "source": []
  }
 ],
 "metadata": {
  "kernelspec": {
   "display_name": "Python 3",
   "language": "python",
   "name": "python3"
  },
  "language_info": {
   "codemirror_mode": {
    "name": "ipython",
    "version": 3
   },
   "file_extension": ".py",
   "mimetype": "text/x-python",
   "name": "python",
   "nbconvert_exporter": "python",
   "pygments_lexer": "ipython3",
   "version": "3.6.9"
  }
 },
 "nbformat": 4,
 "nbformat_minor": 5
}
